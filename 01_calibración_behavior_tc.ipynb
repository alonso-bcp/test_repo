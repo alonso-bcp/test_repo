{
 "cells": [
  {
   "cell_type": "code",
   "execution_count": 0,
   "metadata": {
    "application/vnd.databricks.v1+cell": {
     "cellMetadata": {
      "byteLimit": 2048000,
      "rowLimit": 10000
     },
     "inputWidgets": {},
     "nuid": "82c0306b-50f3-47b6-8cdb-f318c5357921",
     "showTitle": false,
     "tableResultSettingsMap": {},
     "title": ""
    }
   },
   "outputs": [],
   "source": [
    "dbutils.library.restartPython() "
   ]
  },
  {
   "cell_type": "code",
   "execution_count": 0,
   "metadata": {
    "application/vnd.databricks.v1+cell": {
     "cellMetadata": {
      "byteLimit": 2048000,
      "rowLimit": 10000
     },
     "inputWidgets": {},
     "nuid": "0f6970a0-a84a-40ea-a59c-0bf06b7b7191",
     "showTitle": false,
     "tableResultSettingsMap": {},
     "title": ""
    }
   },
   "outputs": [],
   "source": [
    "import importlib\n",
    "import SegScore as ss\n",
    "importlib.reload(ss)\n",
    "\n",
    "# Librerias y fuciones generales\n",
    "from pyspark.sql.functions import date_format, expr, to_date, date_sub, add_months, col, when, coalesce, trim, broadcast, avg, max, min, lit, concat, window, round as colround, upper, abs as sparkabs, current_date, dayofmonth\n",
    "from pyspark.sql import functions as F\n",
    "from pyspark.sql.types import IntegerType\n",
    "\n",
    "from pyspark import StorageLevel\n",
    "import numpy as np\n",
    "import os\n",
    "import seaborn as sns\n",
    "import pandas as pd\n",
    "from datetime import date\n",
    "from dateutil.relativedelta import relativedelta\n",
    "import matplotlib.pyplot as plt\n",
    "from pyspark.sql.window import Window"
   ]
  },
  {
   "cell_type": "code",
   "execution_count": 0,
   "metadata": {
    "application/vnd.databricks.v1+cell": {
     "cellMetadata": {
      "byteLimit": 2048000,
      "rowLimit": 10000
     },
     "inputWidgets": {},
     "nuid": "75a3e781-56e8-4c96-bf0c-ddef74eebf04",
     "showTitle": false,
     "tableResultSettingsMap": {},
     "title": ""
    }
   },
   "outputs": [],
   "source": [
    "universo = spark.sql(\"\"\"\n",
    "SELECT *\n",
    "FROM catalog_lhcl_prod_bcp.bcp_ddv_rbmrbmper_scorecomportamiento_vu.hm_scorevehbehaviorclienterbm A\n",
    "WHERE codmes in (202502, 202505, 202506)\n",
    "\n",
    "\"\"\")"
   ]
  },
  {
   "cell_type": "code",
   "execution_count": 0,
   "metadata": {
    "application/vnd.databricks.v1+cell": {
     "cellMetadata": {
      "byteLimit": 2048000,
      "rowLimit": 10000
     },
     "inputWidgets": {},
     "nuid": "815bb92f-940d-405f-a860-6135bf6063ff",
     "showTitle": false,
     "tableResultSettingsMap": {},
     "title": ""
    }
   },
   "outputs": [],
   "source": [
    "universo.display()"
   ]
  },
  {
   "cell_type": "code",
   "execution_count": 0,
   "metadata": {
    "application/vnd.databricks.v1+cell": {
     "cellMetadata": {
      "byteLimit": 2048000,
      "rowLimit": 10000
     },
     "inputWidgets": {},
     "nuid": "6e777c82-5fb3-4452-8516-dfb3d3c65539",
     "showTitle": false,
     "tableResultSettingsMap": {},
     "title": ""
    }
   },
   "outputs": [],
   "source": [
    "#generación de parquet\n",
    "##ruta=f'abfss://bcp-edv-fabseg@adlscu1lhclbackp05.dfs.core.windows.net/bcp-edv-fabseg/seg_bhv/VEHICULAR'\n",
    "#universo.write.format(\"parquet\").partitionBy(\"CODMES\").mode(\"overwrite\").save(ruta)\n",
    "\n",
    "#https://adlscu1lhclbackp05.blob.core.windows.net/bcp-edv-fabseg/seg_bhv/VEHICULAR/\n",
    "\n",
    "ruta=f'abfss://bcp-edv-fabseg@adlscu1lhclbackp05.dfs.core.windows.net/sdp/01_PREMORA/hm_scorevehbehaviorclienterbm_v2'\n",
    "universo.coalesce(1).write.format(\"parquet\").mode(\"overwrite\").save(ruta)\n",
    " "
   ]
  },
  {
   "cell_type": "code",
   "execution_count": 0,
   "metadata": {
    "application/vnd.databricks.v1+cell": {
     "cellMetadata": {
      "byteLimit": 2048000,
      "rowLimit": 10000
     },
     "inputWidgets": {},
     "nuid": "708037a2-6867-48ff-a459-14c892e50743",
     "showTitle": false,
     "tableResultSettingsMap": {},
     "title": ""
    }
   },
   "outputs": [],
   "source": [
    "hoy = date.today()\n",
    "codmes_ejecucion    =   int((hoy - relativedelta(months=1)).strftime(\"%Y%m\"))\n",
    "codmes_rd           =   int((hoy - relativedelta(months=13)).strftime(\"%Y%m\"))\n",
    "\n",
    "print(f'CODMES EJECUCIÓN: {codmes_ejecucion}')\n",
    "print(f'CODMES RD: {codmes_rd}')"
   ]
  },
  {
   "cell_type": "code",
   "execution_count": 0,
   "metadata": {
    "application/vnd.databricks.v1+cell": {
     "cellMetadata": {
      "byteLimit": 2048000,
      "rowLimit": 10000
     },
     "inputWidgets": {},
     "nuid": "e79e5bcd-278d-4db1-a732-9a712d27ae18",
     "showTitle": false,
     "tableResultSettingsMap": {},
     "title": ""
    }
   },
   "outputs": [],
   "source": [
    "# codmes_ejecucion    =   202505\n",
    "# codmes_rd           =   202405"
   ]
  },
  {
   "cell_type": "markdown",
   "metadata": {
    "application/vnd.databricks.v1+cell": {
     "cellMetadata": {
      "byteLimit": 2048000,
      "rowLimit": 10000
     },
     "inputWidgets": {},
     "nuid": "246abc64-82c0-46f7-97d9-c0b527a6b877",
     "showTitle": false,
     "tableResultSettingsMap": {},
     "title": ""
    }
   },
   "source": [
    "# 0. Genera Base Seguimiento"
   ]
  },
  {
   "cell_type": "markdown",
   "metadata": {
    "application/vnd.databricks.v1+cell": {
     "cellMetadata": {},
     "inputWidgets": {},
     "nuid": "d295fe90-ef5f-49bc-bbd4-5e0007cea727",
     "showTitle": false,
     "tableResultSettingsMap": {},
     "title": ""
    }
   },
   "source": [
    "###Tabla productiva: \n",
    "catalog_lhcl_prod_bcp.bcp_ddv_adrmmgr_modelpersonas_vu.hm_calibradoprovisioncapitaleconomicobhvtcmod20829 \n",
    "<br><br>\n",
    "C.ext_flg_disefs,C.ext_flg_bts,C.ext_tipo_empleo_f"
   ]
  },
  {
   "cell_type": "code",
   "execution_count": 0,
   "metadata": {
    "application/vnd.databricks.v1+cell": {
     "cellMetadata": {
      "byteLimit": 2048000,
      "rowLimit": 10000
     },
     "inputWidgets": {},
     "nuid": "931d9614-22d8-4e6a-b757-aa432b47e86f",
     "showTitle": false,
     "tableResultSettingsMap": {},
     "title": ""
    }
   },
   "outputs": [],
   "source": [
    "#  validación universo\n",
    "universo_tc = spark.sql(\"\"\"\n",
    "SELECT A.*,B.EAD\n",
    "FROM catalog_lhcl_prod_bcp.bcp_ddv_adrmmgr_seginfobcaper_vu.mm_seguimientoportafoliodefaulttc A\n",
    "LEFT JOIN     (\n",
    "SELECT E.EAD,E.CODCLAVEOPECTA,E.CODMES, M.CODCLAVECTA FROM \n",
    "(SELECT A.CODMES, A.EAD, A.CODCLAVEOPECTA FROM catalog_lhcl_prod_bcp.bcp_edv_fabseg.ead_ifrs9_bhv_tc_202505 A\n",
    "UNION ALL \n",
    "SELECT B.CODMES, B.EAD, B.CODCLAVEOPECTA FROM catalog_lhcl_prod_bcp.bcp_edv_fabseg.ead_ifrs9_bhv_tc B WHERE CODMES>=202505) E\n",
    "LEFT JOIN \n",
    "     (\n",
    "        -- catalog_lhcl_prod_bcp.bcp_edv_fabseg.oracle_relcuenta_vp \n",
    "         SELECT DISTINCT N.CODCLAVEOPECTA, N.CODCLAVECTA FROM (\n",
    "        SELECT DISTINCT CODCLAVEOPECTA, CODCLAVECTA FROM  catalog_lhcl_prod_bcp.bcp_edv_sdp.oracle_relcuenta_vp \n",
    "        UNION ALL\n",
    "        SELECT DISTINCT CODCLAVEOPECTA, CODCLAVECTA FROM  catalog_lhcl_prod_bcp.bcp_edv_sdp.oracle_relcuenta_als\n",
    "        UNION ALL\n",
    "        SELECT DISTINCT CODCLAVEOPECTA, CODCLAVECTA  FROM catalog_lhcl_prod_bcp.bcp_edv_fabseg.rel_tarjeta_vp\n",
    "                                                              ) N\n",
    "    ) M\n",
    "ON E.CODCLAVEOPECTA=M.CODCLAVEOPECTA \n",
    "             ) B\n",
    "ON A.CODCLAVECTA=B.CODCLAVECTA AND A.CODMES=B.CODMES\n",
    "\"\"\")\n"
   ]
  },
  {
   "cell_type": "code",
   "execution_count": 0,
   "metadata": {
    "application/vnd.databricks.v1+cell": {
     "cellMetadata": {
      "byteLimit": 2048000,
      "rowLimit": 10000
     },
     "inputWidgets": {},
     "nuid": "e49b3f0e-2c1b-47c2-a3da-39868ad7f694",
     "showTitle": false,
     "tableResultSettingsMap": {},
     "title": ""
    }
   },
   "outputs": [],
   "source": [
    "# #  validación universo\n",
    "# universo_tc = spark.sql(\"\"\"\n",
    "# SELECT A.*,B.EAD, C.pd_bhv_tc_4q24_f, C.ext_xb_cal_nue_beh,C.mto_prm_act_u6m_cap_log,C.prod_mto_sld_aho_min_u6m_a3,\n",
    "#  C.ext_flg_titulos_st,C.ext_pd_cliente,C.tag_tc_2_3,C.FLAG_AFLUENTE,C.FLAG_DORM_2_3,C.FLAG_REV_2_3,C.FLAG_TRAN_2_3\n",
    "#  --,C.ext_flg_disefs,C.ext_flg_bts,C.ext_tipo_empleo_f\n",
    "# FROM catalog_lhcl_prod_bcp.bcp_ddv_adrmmgr_seginfobcaper_vu.mm_seguimientoportafoliodefaulttc A\n",
    "\n"
   ]
  },
  {
   "cell_type": "code",
   "execution_count": 0,
   "metadata": {
    "application/vnd.databricks.v1+cell": {
     "cellMetadata": {
      "byteLimit": 2048000,
      "rowLimit": 10000
     },
     "inputWidgets": {},
     "nuid": "af2a1d82-ce70-4554-84b7-4cab44088df4",
     "showTitle": false,
     "tableResultSettingsMap": {
      "0": {
       "dataGridStateBlob": "{\"version\":1,\"tableState\":{\"columnPinning\":{\"left\":[\"#row_number#\"],\"right\":[]},\"columnSizing\":{},\"columnVisibility\":{}},\"settings\":{\"columns\":{}},\"syncTimestamp\":1755535992757}",
       "filterBlob": null,
       "queryPlanFiltersBlob": null,
       "tableResultIndex": 0
      }
     },
     "title": ""
    }
   },
   "outputs": [],
   "source": [
    "universo_tc.groupBy('CODMES').count().display()"
   ]
  },
  {
   "cell_type": "code",
   "execution_count": 0,
   "metadata": {
    "application/vnd.databricks.v1+cell": {
     "cellMetadata": {
      "byteLimit": 2048000,
      "rowLimit": 10000
     },
     "inputWidgets": {},
     "nuid": "9b498d0d-36aa-4b8d-8f18-8d0145ee0df4",
     "showTitle": false,
     "tableResultSettingsMap": {},
     "title": ""
    }
   },
   "outputs": [],
   "source": [
    "#cargando el campo bloqueo\n",
    "ruta=f'abfss://bcp-edv-fabseg@adlscu1lhclbackp05.dfs.core.windows.net/sdp/01_PREMORA/REPRO_BHV_TC'\n",
    "bloqueo=spark.read.format(\"delta\").load(ruta) "
   ]
  },
  {
   "cell_type": "code",
   "execution_count": 0,
   "metadata": {
    "application/vnd.databricks.v1+cell": {
     "cellMetadata": {
      "byteLimit": 2048000,
      "rowLimit": 10000
     },
     "inputWidgets": {},
     "nuid": "cd2d8cd4-77e1-4c30-9659-62cd36fdb271",
     "showTitle": false,
     "tableResultSettingsMap": {
      "0": {
       "dataGridStateBlob": "{\"version\":1,\"tableState\":{\"columnPinning\":{\"left\":[\"#row_number#\"],\"right\":[]},\"columnSizing\":{},\"columnVisibility\":{}},\"settings\":{\"columns\":{}},\"syncTimestamp\":1753398703904}",
       "filterBlob": null,
       "queryPlanFiltersBlob": null,
       "tableResultIndex": 0
      }
     },
     "title": ""
    }
   },
   "outputs": [],
   "source": [
    "# bloqueo.groupBy('flgdef60bloqueoatraso_al','CODMES').count().display()\n",
    "bloqueo.groupBy('CODMES').count().display()"
   ]
  },
  {
   "cell_type": "code",
   "execution_count": 0,
   "metadata": {
    "application/vnd.databricks.v1+cell": {
     "cellMetadata": {
      "byteLimit": 2048000,
      "rowLimit": 10000
     },
     "inputWidgets": {},
     "nuid": "cf895f65-28ca-45c3-92d0-be1740799837",
     "showTitle": false,
     "tableResultSettingsMap": {},
     "title": ""
    }
   },
   "outputs": [],
   "source": [
    "\n",
    " #DESTIPSEGMENTOINGRESO2000MORARBM:Tipo de segmento por ingresos de cada cliente que tiene un producto en el BCP\n",
    " #FLGDESEMPLEODEPENDIENTEAJUSTEPDH2U3M:Flag Descripcion Empleo Dependiente Ajuste Pago de Haberes 2 Ultimo 3 Mes    \n",
    " #FLGMTOLINEACREDITOUTILIZADASOLMAY2000: Flag que indica si el monto promedio de la deuda de las tarjetas de crédito BCP del cliente en los ultimos 3 meses (mtoprincipals_pm3) es mayor a 2000. (1 si es mayor a 2000; 0 caso contrario).\n",
    "#--desrangoratiolineacreditoutilizadatcbcp :\n",
    "\n",
    "#--RCC_TIP_CLAS_RIE_SBS_MAX_U6M:  RCC Tipo Clasificacion Riesgo SBS Maximo Ultimo 6 Mes\n",
    "#--FLGDEUDAHIPOTECARIASBSCLI:Flag que indica si tiene deuda hipotecaria en el sistema financiero\n",
    "#--FLGPDHCTD2U3M : Flag Pago de Haberes Cantidad 2 Ultimo 3 Mes\n",
    "#--FLGMTOBTSOLMAYOR0:Flag que indica si el monto balance transfer es mayor a 0 se le asigna el valor de 1, en caso contrario el valor de 0. \n",
    "#FLGMTODISEFSOL : Flag que indica si se cuenta con disposición de efectivo. Toma el valor de 1 en caso sea MTODISEFSOL mayor a 0\n",
    "\n",
    "troncal = spark.sql(\"\"\"    \n",
    "                                SELECT CODCLAVEPARTYCLI,CODMES,\n",
    "                                CASE WHEN TIPSEGMENTOINGRESO2000MORARBM=1 THEN 'AlDia_IngAltos' \n",
    "                                WHEN TIPSEGMENTOINGRESO2000MORARBM=2 THEN 'Moroso_IngAltos'\n",
    "                                WHEN TIPSEGMENTOINGRESO2000MORARBM=3 THEN 'AlDia_IngBajos'\n",
    "                                WHEN TIPSEGMENTOINGRESO2000MORARBM=4 THEN 'Morosos_IngBajos'\n",
    "                                END AS FLG_ATRASO,\n",
    "                                CASE WHEN FLGDESEMPLEODEPENDIENTEAJUSTEPDH2U3M=1 THEN 'Dependiente' ELSE 'No_dependiente' END AS FLG_DEPENDIENTE,\n",
    "                                numpdbhvclitcv9calibfinal23q2,FLGDEUDAHIPOTECARIASBSCLI,FLGCEF,FLGMTOLINEACREDITOUTILIZADASOLMAY2000,RCC_TIP_CLAS_RIE_SBS_MAX_U6M,FLGPDHCTD2U3M,FLGMTOBTSOLMAYOR0, FLGMTODISEFSOL \n",
    "                                FROM catalog_lhcl_prod_bcp.bcp_ddv_rbmrbmper_scorecomportamiento_vu.HM_SCORETCBEHAVIORCLIENTERBM                                   \n",
    "                            \"\"\")\n",
    "\n",
    "marca_vulnerable = spark.sql(\"\"\"    \n",
    "                                SELECT DISTINCT CODMES, date_format(add_months(to_date(CAST(CODMES AS STRING) || \"01\", \"yyyyMMdd\"), 1), \"yyyyMM\") AS CODMES_USO, CODCLAVEPARTYCLI, DESCLASIFICACIONCATEGORIAMARCAVULNERABLERBM AS MARCA_VULNERABLE \n",
    "                                FROM catalog_lhcl_prod_bcp.bcp_ddv_adrmmgr_modelpersonas_vu.hm_portafoliovulnerablemod20717rbm WHERE CODCLAVEPARTYCLI IS NOT NULL\n",
    "                            \"\"\") \n",
    "\n",
    "\n",
    "\n",
    "pd_bhv_variables = spark.sql(\"\"\"SELECT M.codclavepartycli,M.codmes, M.numpd AS pd_bhv_tc_4q24_f,\n",
    "M.colvariablesmodeloanalitico.xb_cal_nue_beh AS xb_cal_nue_beh, M.colvariablesmodeloanalitico.prod_mto_sld_prm_act_med_u6m AS prod_mto_sld_prm_act_med_u6m,\n",
    "M.colvariablesmodeloanalitico.prod_mto_sld_aho_min_u6m AS prod_mto_sld_aho_min_u6m, M.colvariablesmodeloanalitico.flg_titulos AS flg_titulos,\n",
    "M.colvariablesmodeloanalitico.pd_cliente_r2 AS pd_cliente_r2, \n",
    "CASE WHEN M.colvariablesmodeloanalitico.codsubsegmento IN ('X1N', 'P1N', 'LEN') THEN 'Afluente' ELSE 'Consumo' END SEGMENTO_BANCA_GF,\n",
    "M.colvariablesmodeloanalitico.tot_flag_dorm_u3m AS tot_flag_dorm_u3m, M.colvariablesmodeloanalitico.tot_flag_rev_u3m AS tot_flag_rev_u3m, M.colvariablesmodeloanalitico.tot_flag_tran_u3m AS tot_flag_tran_u3m\n",
    "FROM catalog_lhcl_prod_bcp.bcp_ddv_adrmmgr_modelpersonas_vu.hm_calibradoprovisioncapitaleconomicobhvtcmod20829 M\n",
    "\"\"\")\n",
    "# apalancamiento = spark.sql(\"\"\"    \n",
    "#                                 SELECT A.codmes, A.CODCLAVECUC,A.codclaveunicocli,A.INGRESO_0,A.CUOTA_BCP_TOTAL_0,A.CUOTA_RCC_TOTAL_0    \n",
    "#                                 FROM catalog_lhcl_prod_bcp.bcp_edv_mmgr.hm_nuevocem_cons_tarj A\n",
    "#                                 WHERE A.codclavecuc>0\n",
    "#                             \"\"\") \n",
    "                        \n"
   ]
  },
  {
   "cell_type": "code",
   "execution_count": 0,
   "metadata": {
    "application/vnd.databricks.v1+cell": {
     "cellMetadata": {
      "byteLimit": 2048000,
      "rowLimit": 10000
     },
     "inputWidgets": {},
     "nuid": "db84bfa5-ce15-4aa6-8366-dac9e8b26287",
     "showTitle": false,
     "tableResultSettingsMap": {},
     "title": ""
    }
   },
   "outputs": [],
   "source": [
    "#Producto BT Y ET\n",
    "producto = spark.sql(\"\"\" SELECT DISTINCT codclavepartycli, producto, codcosecha FROM (\n",
    "                    SELECT codclavepartycli,producto,codcosecha,ROW_NUMBER() OVER (PARTITION BY codclavepartycli ORDER BY codcosecha DESC) AS rn\n",
    "FROM catalog_lhcl_prod_bcp.bcp_edv_rbmper_002_v.hm_ventas_tc) Z\n",
    "WHERE Z.rn=1\n",
    "                            \"\"\") "
   ]
  },
  {
   "cell_type": "code",
   "execution_count": 0,
   "metadata": {
    "application/vnd.databricks.v1+cell": {
     "cellMetadata": {
      "byteLimit": 2048000,
      "rowLimit": 10000
     },
     "inputWidgets": {},
     "nuid": "c2ee391e-4e6f-48d4-8c72-53c2dd7d26eb",
     "showTitle": false,
     "tableResultSettingsMap": {},
     "title": ""
    }
   },
   "outputs": [],
   "source": [
    "base_universo_tc = (\n",
    "    universo_tc.alias(\"A\")\n",
    "    .join(pd_bhv_variables.alias(\"B\"),(col(\"A.CODMES\")==col(\"B.codmes\")) & (col(\"A.CODCLAVEPARTYCLI\")==col(\"B.codclavepartycli\")),\"left\" )\n",
    "    .join(troncal.alias(\"F\"),  (col(\"A.CODMES\") == col(\"F.CODMES\")) & (col(\"A.codclavepartycli\") == col(\"F.codclavepartycli\")), \"left\" )\n",
    "    .join(marca_vulnerable.alias(\"E\"), (col(\"A.CODMES\") == col(\"E.CODMES\")) & (col(\"A.CODCLAVEPARTYCLI\") == col(\"E.CODCLAVEPARTYCLI\")), \"left\")\n",
    "    .join(bloqueo.alias(\"G\"), (col(\"A.CODMES\") == col(\"G.CODMES\")) & (col(\"A.CODCLAVECTA\") == col(\"G.CODCLAVECTA\")), \"left\")\n",
    "    .join(producto.alias(\"P\"), (col(\"A.CODCLAVEPARTYCLI\") == col(\"P.codclavepartycli\")), \"left\")\n",
    "   #Filtro de campos\n",
    "    .filter(col(\"B.pd_bhv_tc_4q24_f\").isNotNull()  & (col(\"G.flgdef60bloqueoatraso_al\") == 0 ) #& col(\"A.EAD\").isNotNull() \n",
    "            ) \n",
    "\n",
    "    .select(\n",
    "        col(\"A.CODMES\"), col(\"A.codclavepartycli\"), col(\"A.codclavecta\"), # col(\"A.codproducto\"), \n",
    "        col(\"A.ctdmesmaduracion\"),\n",
    "        col(\"A.flgdef60bloqueoatraso\"), \n",
    "        col(\"A.EAD\"),\n",
    "         \n",
    "        # when(col(\"A.EAD\").isNull(), 0).otherwise(col(\"A.EAD\")).alias(\"MTOPRINCIPAL_SOLES\"),\n",
    "\n",
    "\n",
    "        #PD - VARIABLES DEL CALIBRADO\n",
    "        col(\"B.pd_bhv_tc_4q24_f\"),col(\"F.numpdbhvclitcv9calibfinal23q2\"),\n",
    "        col(\"B.xb_cal_nue_beh\"),col(\"B.prod_mto_sld_prm_act_med_u6m\"),col(\"B.prod_mto_sld_aho_min_u6m\"),col(\"B.flg_titulos\"),\n",
    "        col(\"B.pd_cliente_r2\"),\n",
    "        col(\"B.tot_flag_dorm_u3m\"),col(\"B.tot_flag_rev_u3m\"),col(\"B.tot_flag_tran_u3m\"),\n",
    "        col(\"B.SEGMENTO_BANCA_GF\"),\n",
    "\n",
    "\n",
    "        # TARGETS\n",
    "        col(\"A.flgdef60bloqueoatrasou12\").cast(IntegerType()).alias(\"DEF12\"),\n",
    "        col(\"A.flgdef60bloqueoatrasou11\").cast(IntegerType()).alias(\"DEF11\"),\n",
    "        col(\"A.flgdef60bloqueoatrasou10\").cast(IntegerType()).alias(\"DEF10\"),\n",
    "        col(\"A.flgdef60bloqueoatrasou9m\").cast(IntegerType()).alias(\"DEF9\"),\n",
    "        col(\"A.flgdef60bloqueoatrasou8m\").cast(IntegerType()).alias(\"DEF8\"),\n",
    "        col(\"A.flgdef60bloqueoatrasou7m\").cast(IntegerType()).alias(\"DEF7\"),\n",
    "        col(\"A.flgdef60bloqueoatrasou6m\").cast(IntegerType()).alias(\"DEF6\"),\n",
    "        col(\"A.flgdef60bloqueoatrasou5m\").cast(IntegerType()).alias(\"DEF5\"),\n",
    "        col(\"A.flgdef60bloqueoatrasou4m\").cast(IntegerType()).alias(\"DEF4\"),\n",
    "        col(\"A.flgdef60bloqueoatrasou3m\").cast(IntegerType()).alias(\"DEF3\"),\n",
    "\n",
    "      \n",
    "        ## DRIVERS\n",
    "        #when(col(\"A.FLAG_AFLUENTE\")==1, 'Afluente').otherwise('Consumo').alias(\"SEGMENTO_BANCA_GF\"),\n",
    "        col(\"F.FLG_ATRASO\"),\n",
    "        col(\"F.FLG_DEPENDIENTE\"),\n",
    "        col(\"F.FLGDEUDAHIPOTECARIASBSCLI\"), \n",
    "        col(\"F.FLGCEF\"),col(\"F.FLGMTOLINEACREDITOUTILIZADASOLMAY2000\"),col(\"F.RCC_TIP_CLAS_RIE_SBS_MAX_U6M\"), \n",
    "        col(\"F.FLGPDHCTD2U3M\"),col(\"F.FLGMTOBTSOLMAYOR0\"),col(\"F.FLGMTODISEFSOL\"),\n",
    "        col(\"P.producto\"),\n",
    "        col(\"A.desrangolineacreditoutilizadatcu3m\").alias(\"RANGO_LINEA_ULT3M\"),\n",
    "        #MARCA VULNERABLE\n",
    "\n",
    "        when(col(\"E.MARCA_VULNERABLE\") == '3. No Vulnera', '3. No Vulnerable')\n",
    "        .when(col(\"E.MARCA_VULNERABLE\")  == '2. En observa', '2. En Obs')\n",
    "        .when(col(\"E.MARCA_VULNERABLE\")  == '1. Vulnerable', '1. Vulnerable Critico')\n",
    "        .otherwise('3. No Vulnerable').alias(\"MARCA_VULNERABLE\"),\n",
    "        ################## MTOINGRESO_FINAL #######################\n",
    "        when(col(\"A.EAD\").between(0, 1999), '1.<0 - 2k>')\n",
    "        .when(col(\"A.EAD\").between(2000, 4999), '2.<2 - 5k>')\n",
    "        .when(col(\"A.EAD\").between(5000, 9999), '3.<5 - 10k>')\n",
    "        .otherwise('4.<10k - mas>').alias(\"RANGO_INGRESOS\"),\n",
    "        ################### CODCOSECHA #############################\n",
    "        col(\"A.CODCOSECHA\").alias(\"CODCOSECHA\"),\n",
    "        when(col(\"A.codcosecha\") <= 202205, '1. Menor 202205 ')\n",
    "        .when(col(\"A.codcosecha\").between(202206, 202306), '2. 202206-202306')\n",
    "        .when(col(\"A.codcosecha\").between(202307, 202404), '3. 202307-202404')\n",
    "        .when(col(\"A.codcosecha\") >= 202501, '4.Mayor 202501')\n",
    "        .otherwise('99. missing').alias(\"RANGO_CODCOSECHA\")\n",
    "    )\n",
    ")  "
   ]
  },
  {
   "cell_type": "code",
   "execution_count": 0,
   "metadata": {
    "application/vnd.databricks.v1+cell": {
     "cellMetadata": {
      "byteLimit": 2048000,
      "rowLimit": 10000
     },
     "inputWidgets": {},
     "nuid": "e887a03a-175d-4ac5-b3db-89508b807ebb",
     "showTitle": false,
     "tableResultSettingsMap": {},
     "title": ""
    }
   },
   "outputs": [],
   "source": [
    "rds = base_universo_tc.groupBy(\n",
    "    \"CODMES\"\n",
    ").agg(\n",
    "\n",
    "    F.sum(lit(1))                                                                                                                       .alias(\"N\"),\n",
    "    F.sum( col(\"DEF12\") )                                                                                                               .alias(\"DEF_CERRADO_XN\"),\n",
    "    F.sum( col(\"EAD\") ) .alias(\"M\") ,                                                                               \n",
    "    F.sum( col(\"DEF12\") * col(\"EAD\") )                                                                                    .alias(\"DEF_CERRADO_XM\"),\n",
    "    (F.sum( col(\"DEF12\") )  / F.sum(lit(1)))  .alias(\"RD_CUENTAS\"),\n",
    "    ( F.sum( col(\"DEF12\") * col(\"EAD\") )  / F.sum( col(\"EAD\") )  )  .alias(\"RD_MONTOS\"),\n",
    ") "
   ]
  },
  {
   "cell_type": "code",
   "execution_count": 0,
   "metadata": {
    "application/vnd.databricks.v1+cell": {
     "cellMetadata": {
      "byteLimit": 2048000,
      "rowLimit": 10000
     },
     "inputWidgets": {},
     "nuid": "a6abc44d-4f98-463c-bfae-5b6d5fd6793f",
     "showTitle": false,
     "tableResultSettingsMap": {
      "0": {
       "dataGridStateBlob": "{\"version\":1,\"tableState\":{\"columnPinning\":{\"left\":[\"#row_number#\"],\"right\":[]},\"columnSizing\":{},\"columnVisibility\":{}},\"settings\":{\"columns\":{}},\"syncTimestamp\":1753400843541}",
       "filterBlob": null,
       "queryPlanFiltersBlob": null,
       "tableResultIndex": 0
      }
     },
     "title": ""
    }
   },
   "outputs": [],
   "source": [
    "rds.display()"
   ]
  },
  {
   "cell_type": "code",
   "execution_count": 0,
   "metadata": {
    "application/vnd.databricks.v1+cell": {
     "cellMetadata": {
      "byteLimit": 2048000,
      "rowLimit": 10000
     },
     "inputWidgets": {},
     "nuid": "f868e2af-0ec0-4c8f-b1ad-8ecd31fadaef",
     "showTitle": false,
     "tableResultSettingsMap": {},
     "title": ""
    }
   },
   "outputs": [],
   "source": [
    "df = base_universo_tc.withColumn(\n",
    "    \"TIPO_CSEGPRO\",\n",
    "    when(\n",
    "        (col(\"SEGMENTO_BANCA_GF\") == \"Afluente\") & (col(\"tot_flag_rev_u3m\") != 0) , \"AF_REV\"\n",
    "        ).when(\n",
    "        (col(\"SEGMENTO_BANCA_GF\") == \"Afluente\") & (col(\"tot_flag_tran_u3m\") != 0) , \"AF_TRAN\"\n",
    "        ).when(\n",
    "        (col(\"SEGMENTO_BANCA_GF\") == \"Afluente\") & (col(\"tot_flag_dorm_u3m\") != 0) , \"AF_DOR\"\n",
    ").when(\n",
    "        (col(\"SEGMENTO_BANCA_GF\") == \"Consumo\") & (col(\"tot_flag_rev_u3m\") != 0) , \"CO_REV\"\n",
    "        ).when(\n",
    "        (col(\"SEGMENTO_BANCA_GF\") == \"Consumo\") & (col(\"tot_flag_tran_u3m\") != 0) , \"CO_TRAN\"\n",
    "        ).when(\n",
    "        (col(\"SEGMENTO_BANCA_GF\") == \"Consumo\") & (col(\"tot_flag_dorm_u3m\") != 0) , \"CO_DOR\"\n",
    ").otherwise(\"OTROS\")\n",
    ").withColumn(\"MORA_30_3\", col(\"DEF3\") \n",
    ").withColumn(\n",
    "    \"UTILI_LINEA\",\n",
    "when((col(\"SEGMENTO_BANCA_GF\") == \"Afluente\") & (col(\"RANGO_LINEA_ULT3M\") == \"5. >75%\") , \"1. >75%-Af\")\n",
    ".when((col(\"SEGMENTO_BANCA_GF\") == \"Afluente\") & (col(\"RANGO_LINEA_ULT3M\").isin(\"2. <=25%\",\"3. <=50%\",\"1.SALDO_PROM_3M <=100\",\"4. <=75%\") ) , \"1. <=75%-Af\")\n",
    ".when((col(\"SEGMENTO_BANCA_GF\") == \"Consumo\") & (col(\"RANGO_LINEA_ULT3M\") == \"5. >75%\") , \"1. >75%-Con\")\n",
    ".when((col(\"SEGMENTO_BANCA_GF\") == \"Consumo\") & (col(\"RANGO_LINEA_ULT3M\").isin(\"2. <=25%\",\"3. <=50%\",\"1.SALDO_PROM_3M <=100\",\"4. <=75%\") ) , \"1. <=75%-Con\")\n",
    ".otherwise(\"OTROS\") \n",
    ")\n",
    "\n",
    "## GENERANDO BASE DE SEGUIMIENTO FINAL\n",
    "df = df.filter( ( col(\"ctdmesmaduracion\") > 0) & (col(\"PD_BHV_TC_4Q24_F\").isNotNull()) )"
   ]
  },
  {
   "cell_type": "code",
   "execution_count": 0,
   "metadata": {
    "application/vnd.databricks.v1+cell": {
     "cellMetadata": {
      "byteLimit": 2048000,
      "rowLimit": 10000
     },
     "inputWidgets": {},
     "nuid": "3d103e30-3fb2-47b3-8311-0cc2b163d1ed",
     "showTitle": false,
     "tableResultSettingsMap": {
      "0": {
       "dataGridStateBlob": "{\"version\":1,\"tableState\":{\"columnPinning\":{\"left\":[\"#row_number#\"],\"right\":[]},\"columnSizing\":{},\"columnVisibility\":{}},\"settings\":{\"columns\":{}},\"syncTimestamp\":1753400716498}",
       "filterBlob": null,
       "queryPlanFiltersBlob": null,
       "tableResultIndex": 0
      }
     },
     "title": ""
    }
   },
   "outputs": [],
   "source": [
    "df.groupBy('CODMES').count().display()"
   ]
  },
  {
   "cell_type": "code",
   "execution_count": 0,
   "metadata": {
    "application/vnd.databricks.v1+cell": {
     "cellMetadata": {
      "byteLimit": 2048000,
      "rowLimit": 10000
     },
     "inputWidgets": {},
     "nuid": "f2d2b394-b674-4dbf-9001-0079606d5034",
     "showTitle": false,
     "tableResultSettingsMap": {},
     "title": ""
    }
   },
   "outputs": [],
   "source": [
    "ruta=f'abfss://bcp-edv-fabseg@adlscu1lhclbackp05.dfs.core.windows.net/seg_bhv/TC/BASE_SEGUIMIENTO_BHV_TC_{codmes_ejecucion}'\n",
    " # df.write.format(\"delta\").partitionBy(\"CODMES\").mode(\"overwrite\").save(ruta)    "
   ]
  },
  {
   "cell_type": "code",
   "execution_count": 0,
   "metadata": {
    "application/vnd.databricks.v1+cell": {
     "cellMetadata": {
      "byteLimit": 2048000,
      "rowLimit": 10000
     },
     "inputWidgets": {},
     "nuid": "d8010da7-57f4-4e14-beb0-1ae9098b6342",
     "showTitle": false,
     "tableResultSettingsMap": {},
     "title": ""
    }
   },
   "outputs": [],
   "source": [
    "#leer la data guardada\n",
    "ruta=f'abfss://bcp-edv-fabseg@adlscu1lhclbackp05.dfs.core.windows.net/seg_bhv/TC/BASE_SEGUIMIENTO_BHV_TC_{codmes_ejecucion}'\n",
    "df=spark.read.format(\"delta\").load(ruta)"
   ]
  },
  {
   "cell_type": "code",
   "execution_count": 0,
   "metadata": {
    "application/vnd.databricks.v1+cell": {
     "cellMetadata": {
      "byteLimit": 2048000,
      "rowLimit": 10000
     },
     "inputWidgets": {},
     "nuid": "c8abe885-2767-4eea-99a6-39e30f5402bb",
     "showTitle": false,
     "tableResultSettingsMap": {
      "0": {
       "dataGridStateBlob": "{\"version\":1,\"tableState\":{\"columnPinning\":{\"left\":[\"#row_number#\"],\"right\":[]},\"columnSizing\":{},\"columnVisibility\":{}},\"settings\":{\"columns\":{}},\"syncTimestamp\":1755704303765}",
       "filterBlob": null,
       "queryPlanFiltersBlob": null,
       "tableResultIndex": 0
      }
     },
     "title": ""
    }
   },
   "outputs": [],
   "source": [
    "df.groupBy('CODMES').sum('EAD').display()"
   ]
  },
  {
   "cell_type": "code",
   "execution_count": 0,
   "metadata": {
    "application/vnd.databricks.v1+cell": {
     "cellMetadata": {
      "byteLimit": 2048000,
      "rowLimit": 10000
     },
     "inputWidgets": {},
     "nuid": "c4eb118a-436b-4004-a053-577144e94334",
     "showTitle": false,
     "tableResultSettingsMap": {},
     "title": ""
    }
   },
   "outputs": [],
   "source": [
    "df.display()"
   ]
  },
  {
   "cell_type": "code",
   "execution_count": 0,
   "metadata": {
    "application/vnd.databricks.v1+cell": {
     "cellMetadata": {
      "byteLimit": 2048000,
      "rowLimit": 10000
     },
     "inputWidgets": {},
     "nuid": "aced09ce-944d-4949-997d-3a2d7a155bfe",
     "showTitle": false,
     "tableResultSettingsMap": {},
     "title": ""
    }
   },
   "outputs": [],
   "source": [
    "rds = df.groupBy(\n",
    "    \"CODMES\"\n",
    ").agg(\n",
    "\n",
    "    F.sum(lit(1))                                                                                                          .alias(\"N\"),\n",
    "    F.sum( col(\"DEF12\") )                                                                                                  .alias(\"DEF_CERRADO_XN\"),\n",
    "    F.sum( col(\"EAD\") ) .alias(\"M\") ,                                                                               \n",
    "    F.sum( col(\"DEF12\") * col(\"EAD\") )                                                                                     .alias(\"DEF_CERRADO_XM\"),\n",
    "    (F.sum( col(\"DEF12\") )  / F.sum(lit(1)))  .alias(\"RD_CUENTAS\"),\n",
    "    ( F.sum( col(\"DEF12\") * col(\"EAD\") )  / F.sum( col(\"EAD\") )  )  .alias(\"RD_MONTOS\"),\n",
    ") "
   ]
  },
  {
   "cell_type": "code",
   "execution_count": 0,
   "metadata": {
    "application/vnd.databricks.v1+cell": {
     "cellMetadata": {
      "byteLimit": 2048000,
      "rowLimit": 10000
     },
     "inputWidgets": {},
     "nuid": "80ae9d5f-37f0-4fdf-892d-316c6edac090",
     "showTitle": false,
     "tableResultSettingsMap": {
      "0": {
       "dataGridStateBlob": "{\"version\":1,\"tableState\":{\"columnPinning\":{\"left\":[\"#row_number#\"],\"right\":[]},\"columnSizing\":{\"M\":163},\"columnVisibility\":{}},\"settings\":{\"columns\":{}},\"syncTimestamp\":1753912815876}",
       "filterBlob": null,
       "queryPlanFiltersBlob": null,
       "tableResultIndex": 0
      }
     },
     "title": ""
    }
   },
   "outputs": [],
   "source": [
    "rds.display()"
   ]
  },
  {
   "cell_type": "code",
   "execution_count": 0,
   "metadata": {
    "application/vnd.databricks.v1+cell": {
     "cellMetadata": {
      "byteLimit": 2048000,
      "rowLimit": 10000
     },
     "inputWidgets": {},
     "nuid": "cc4e84ab-dc5e-45a3-a18c-6d7690841bbd",
     "showTitle": false,
     "tableResultSettingsMap": {
      "0": {
       "dataGridStateBlob": "{\"version\":1,\"tableState\":{\"columnPinning\":{\"left\":[\"#row_number#\"],\"right\":[]},\"columnSizing\":{},\"columnVisibility\":{}},\"settings\":{\"columns\":{}},\"syncTimestamp\":1753879420276}",
       "filterBlob": null,
       "queryPlanFiltersBlob": null,
       "tableResultIndex": 0
      }
     },
     "title": ""
    }
   },
   "outputs": [],
   "source": [
    "#df.display()"
   ]
  },
  {
   "cell_type": "code",
   "execution_count": 0,
   "metadata": {
    "application/vnd.databricks.v1+cell": {
     "cellMetadata": {
      "byteLimit": 2048000,
      "rowLimit": 10000
     },
     "inputWidgets": {},
     "nuid": "f62e450a-ef90-469e-a3d4-ab5758b9b0c5",
     "showTitle": false,
     "tableResultSettingsMap": {
      "0": {
       "dataGridStateBlob": "{\"version\":1,\"tableState\":{\"columnPinning\":{\"left\":[\"#row_number#\"],\"right\":[]},\"columnSizing\":{},\"columnVisibility\":{}},\"settings\":{\"columns\":{}},\"syncTimestamp\":1752784047800}",
       "filterBlob": null,
       "queryPlanFiltersBlob": null,
       "tableResultIndex": 0
      }
     },
     "title": ""
    }
   },
   "outputs": [],
   "source": [
    "#df.groupBy('CODMES').count().display()"
   ]
  },
  {
   "cell_type": "code",
   "execution_count": 0,
   "metadata": {
    "application/vnd.databricks.v1+cell": {
     "cellMetadata": {
      "byteLimit": 2048000,
      "rowLimit": 10000
     },
     "inputWidgets": {},
     "nuid": "bf7d31c0-6684-4308-8529-18066dfd780f",
     "showTitle": false,
     "tableResultSettingsMap": {
      "0": {
       "dataGridStateBlob": "{\"version\":1,\"tableState\":{\"columnPinning\":{\"left\":[\"#row_number#\"],\"right\":[]},\"columnSizing\":{},\"columnVisibility\":{}},\"settings\":{\"columns\":{}},\"syncTimestamp\":1751999158967}",
       "filterBlob": null,
       "queryPlanFiltersBlob": null,
       "tableResultIndex": 0
      }
     },
     "title": ""
    }
   },
   "outputs": [],
   "source": [
    "#df.display()"
   ]
  },
  {
   "cell_type": "markdown",
   "metadata": {
    "application/vnd.databricks.v1+cell": {
     "cellMetadata": {
      "byteLimit": 2048000,
      "rowLimit": 10000
     },
     "inputWidgets": {},
     "nuid": "110dd9de-a77f-4dc3-85d8-b5d9df6ea030",
     "showTitle": false,
     "tableResultSettingsMap": {},
     "title": ""
    }
   },
   "source": [
    "# 1. Seguimiento General"
   ]
  },
  {
   "cell_type": "code",
   "execution_count": 0,
   "metadata": {
    "application/vnd.databricks.v1+cell": {
     "cellMetadata": {
      "byteLimit": 2048000,
      "rowLimit": 10000
     },
     "inputWidgets": {},
     "nuid": "90370237-9696-4ad6-9438-5d4e1cd5a9b6",
     "showTitle": false,
     "tableResultSettingsMap": {},
     "title": ""
    }
   },
   "outputs": [],
   "source": [
    "\", \".join(df.columns) "
   ]
  },
  {
   "cell_type": "code",
   "execution_count": 0,
   "metadata": {
    "application/vnd.databricks.v1+cell": {
     "cellMetadata": {
      "byteLimit": 2048000,
      "rowLimit": 10000
     },
     "inputWidgets": {},
     "nuid": "ecc580f3-d75a-4475-ab2e-b3da4fcb9796",
     "showTitle": false,
     "tableResultSettingsMap": {},
     "title": ""
    }
   },
   "outputs": [],
   "source": [
    "df.groupBy(\"CODMES\").count().orderBy(\"CODMES\").tail(40) \n",
    "# [Row(CODMES=202309, count=1233732),\n",
    "#  Row(CODMES=202310, count=1216054),\n",
    "#  Row(CODMES=202311, count=1239360),\n",
    "#  Row(CODMES=202312, count=1244568),\n",
    "#  Row(CODMES=202401, count=1245609),\n",
    "#  Row(CODMES=202402, count=1254253),\n",
    "#  Row(CODMES=202403, count=1260872),\n",
    "#  Row(CODMES=202404, count=1258319),\n",
    "#  Row(CODMES=202405, count=1276928),\n",
    "#  Row(CODMES=202406, count=1288450),\n",
    "#  Row(CODMES=202407, count=1294888),\n",
    "#  Row(CODMES=202408, count=1306650),\n",
    "#  Row(CODMES=202409, count=1273386),\n",
    "#  Row(CODMES=202410, count=1327779),\n",
    "#  Row(CODMES=202411, count=1329302),\n",
    "#  Row(CODMES=202412, count=1347429),\n",
    "#  Row(CODMES=202501, count=1354551),\n",
    "#  Row(CODMES=202502, count=1360560),\n",
    "#  Row(CODMES=202503, count=1373498),\n",
    "#  Row(CODMES=202504, count=1380515)]\n"
   ]
  },
  {
   "cell_type": "code",
   "execution_count": 0,
   "metadata": {
    "application/vnd.databricks.v1+cell": {
     "cellMetadata": {
      "byteLimit": 2048000,
      "rowLimit": 10000
     },
     "inputWidgets": {},
     "nuid": "2bc6658e-c678-4828-9992-129055bc8a87",
     "showTitle": false,
     "tableResultSettingsMap": {},
     "title": ""
    }
   },
   "outputs": [],
   "source": [
    "# Objeto de Seguimiento\n",
    "\n",
    "objSeg = ss.MonitorScore_v01(\n",
    "  mes_seguimiento       = str(codmes_ejecucion),\n",
    "  base_monitoreo        = df,\n",
    "  pd1                   = 'PD_BHV_TC_4Q24_F',\n",
    "  pd2                   = 'numpdbhvclitcv9calibfinal23q2',\n",
    "  monto_credito         = 'EAD',\n",
    "  query_univ            = 'CODMES > 202301', #DEF_60_BLOQ_REF_0 = 0 AND CODMES > 202302\n",
    "  bandas                = 'Vasiseck', #Vasiseck\n",
    "  codmes_default        = codmes_rd,\n",
    "  meses_ventana_target  = 12,\n",
    "  meses_atraso_target   = 2\n",
    ") "
   ]
  },
  {
   "cell_type": "code",
   "execution_count": 0,
   "metadata": {
    "application/vnd.databricks.v1+cell": {
     "cellMetadata": {
      "byteLimit": 2048000,
      "rowLimit": 10000
     },
     "inputWidgets": {},
     "nuid": "b0c22a82-6c8a-4d57-8851-bfa1a919ab9f",
     "showTitle": false,
     "tableResultSettingsMap": {},
     "title": ""
    }
   },
   "outputs": [],
   "source": [
    "bhv_tc, cubo_c_10, cubo_m_10, factor_c_10, factor_m_10 = objSeg.EvolCal(\n",
    "  # Configuración de filtro de uso y pd de calibración\n",
    "  query_uso          = \"PRODUCTO = 'PTC'\",\n",
    "  pd_seg             = 'PD_BHV_TC_4Q24_F',\n",
    "  pd_comparacion     = True,\n",
    "  proys_def_temp     = 6,\n",
    "  proys_mor_temp     = 3,\n",
    "  rd_aux             = 'RD6',\n",
    "  rd_aux2            = 'MORA_30_3',\n",
    "  mora_temp          = 'MORA_30_3',\n",
    "  amplitud           = 1,\n",
    "  moviles            = False,\n",
    "\n",
    "  # Configuración de proyecciones por cuentas\n",
    "  proy_def_temp_xc   = 'Best_proy', #met1_xc, met2_xc, met3_xc, All_proy, Best_proy --Ademas puede operar con las metodologías: (met1_xc + met2_xc)/ 2 etc.\n",
    "  suav_def_temp_xc   = 1, # factor suavizamiento para def temprano\n",
    "  proy_mor_temp_xc   = 'det3_xc', #det1_xc, det2_xc, det3_xc, All_proy, best_proy --Ademas puede operar con las metodologías: (det1_xc + det2_xc)/ 2 etc.\n",
    "  suav_mor_temp_xc   = 1,\n",
    "  prof_hist_xc       = 14, # \n",
    "\n",
    "  # Configuración de proyecciones por montos\n",
    "  proy_def_temp_xm   = 'Best_proy', #met1_xm, met2_xm, met3_xm, All_proy, best_proy , 'np.where(met2_xm == 0, met2_xm + 0.005, met2_xm)'\n",
    "  suav_def_temp_xm   = 1,\n",
    "  proy_mor_temp_xm   = 'det3_xm', #det1_xm, det2_xm, det3_xm, All_proy, best_proy\n",
    "  suav_mor_temp_xm   = 1,\n",
    "  prof_hist_xm       = 14,\n",
    "\n",
    "  # Detalles del gráfico de calibración\n",
    "  titulo             = 'Calibración Bhv TC',\n",
    "  pos_leyenda        = (0.5, -0.25),\n",
    "  eje_y_xc           = 0.15,\n",
    "  eje_y_xm           = 0.15,\n",
    "  dim_grafico        = (25, 6.5),\n",
    "  punt_mora          = 100,\n",
    "  width_bar          = 1,\n",
    "  etiquetas          = True,\n",
    "  pos_etiquetas_xc   = 10,\n",
    "  pos_etiquetas_xm   = 10,\n",
    "  tamaño_etiqueta    = 15,\n",
    "  mat_porc           = -1,\n",
    "\n",
    "  # Exportar factores para vista driver\n",
    "  exportar_factores  = True\n",
    ") "
   ]
  },
  {
   "cell_type": "code",
   "execution_count": 0,
   "metadata": {
    "application/vnd.databricks.v1+cell": {
     "cellMetadata": {
      "byteLimit": 2048000,
      "rowLimit": 10000
     },
     "inputWidgets": {},
     "nuid": "6aa4e523-acd5-4dce-a5a8-d6fd892ed666",
     "showTitle": false,
     "tableResultSettingsMap": {},
     "title": ""
    }
   },
   "outputs": [],
   "source": [
    "cubo_m_10"
   ]
  },
  {
   "cell_type": "code",
   "execution_count": 0,
   "metadata": {
    "application/vnd.databricks.v1+cell": {
     "cellMetadata": {
      "byteLimit": 2048000,
      "rowLimit": 10000
     },
     "inputWidgets": {},
     "nuid": "3f31d475-21db-4cdc-a24c-abbaa8de85f3",
     "showTitle": false,
     "tableResultSettingsMap": {},
     "title": ""
    }
   },
   "outputs": [],
   "source": [
    "bhv_tc, cubo_c_7, cubo_m_7, factor_c_7, factor_m_7 = objSeg.EvolCal(\n",
    "  # Configuración de filtro de uso y pd de calibración\n",
    "  query_uso          = \"UTILI_LINEA = '1. >75%-Con'\",\n",
    "  pd_seg             = 'PD_BHV_TC_4Q24_F',\n",
    "  pd_comparacion     = True,\n",
    "  proys_def_temp     = 6,\n",
    "  proys_mor_temp     = 3,\n",
    "  rd_aux             = 'RD6',\n",
    "  rd_aux2            = 'MORA_30_3',\n",
    "  mora_temp          = 'MORA_30_3',\n",
    "  amplitud           = 1,\n",
    "  moviles            = False,\n",
    "\n",
    "  # Configuración de proyecciones por cuentas\n",
    "  proy_def_temp_xc   = 'Best_proy', #met1_xc, met2_xc, met3_xc, All_proy, Best_proy --Ademas puede operar con las metodologías: (met1_xc + met2_xc)/ 2 etc.\n",
    "  suav_def_temp_xc   = 1, # factor suavizamiento para def temprano\n",
    "  proy_mor_temp_xc   = 'det3_xc', #det1_xc, det2_xc, det3_xc, All_proy, best_proy --Ademas puede operar con las metodologías: (det1_xc + det2_xc)/ 2 etc.\n",
    "  suav_mor_temp_xc   = 1,\n",
    "  prof_hist_xc       = 14, # \n",
    "\n",
    "  # Configuración de proyecciones por montos\n",
    "  proy_def_temp_xm   = 'Best_proy', #met1_xm, met2_xm, met3_xm, All_proy, best_proy , 'np.where(met2_xm == 0, met2_xm + 0.005, met2_xm)'\n",
    "  suav_def_temp_xm   = 1,\n",
    "  proy_mor_temp_xm   = 'det3_xm', #det1_xm, det2_xm, det3_xm, All_proy, best_proy\n",
    "  suav_mor_temp_xm   = 1,\n",
    "  prof_hist_xm       = 14,\n",
    "\n",
    "  # Detalles del gráfico de calibración\n",
    "  titulo             = 'Calibración Bhv TC',\n",
    "  pos_leyenda        = (0.5, -0.25),\n",
    "  eje_y_xc           = 0.35,\n",
    "  eje_y_xm           = 0.35,\n",
    "  dim_grafico        = (25, 6.5),\n",
    "  punt_mora          = 100,\n",
    "  width_bar          = 1,\n",
    "  etiquetas          = True,\n",
    "  pos_etiquetas_xc   = 10,\n",
    "  pos_etiquetas_xm   = 10,\n",
    "  tamaño_etiqueta    = 15,\n",
    "  mat_porc           = -1,\n",
    "\n",
    "  # Exportar factores para vista driver\n",
    "  exportar_factores  = True\n",
    ") "
   ]
  },
  {
   "cell_type": "code",
   "execution_count": 0,
   "metadata": {
    "application/vnd.databricks.v1+cell": {
     "cellMetadata": {
      "byteLimit": 2048000,
      "rowLimit": 10000
     },
     "inputWidgets": {},
     "nuid": "59aefcfa-c7cf-449c-a35e-f0100e36764f",
     "showTitle": false,
     "tableResultSettingsMap": {},
     "title": ""
    }
   },
   "outputs": [],
   "source": [
    "bhv_tc, cubo_c_8, cubo_m_8, factor_c_8, factor_m_8 = objSeg.EvolCal(\n",
    "  # Configuración de filtro de uso y pd de calibración\n",
    "  query_uso          = \"UTILI_LINEA = '1. <=75%-Con'\",\n",
    "  pd_seg             = 'PD_BHV_TC_4Q24_F',\n",
    "  pd_comparacion     = True,\n",
    "  proys_def_temp     = 6,\n",
    "  proys_mor_temp     = 3,\n",
    "  rd_aux             = 'RD6',\n",
    "  rd_aux2            = 'MORA_30_3',\n",
    "  mora_temp          = 'MORA_30_3',\n",
    "  amplitud           = 1,\n",
    "  moviles            = False,\n",
    "\n",
    "  # Configuración de proyecciones por cuentas\n",
    "  proy_def_temp_xc   = 'Best_proy', #met1_xc, met2_xc, met3_xc, All_proy, Best_proy --Ademas puede operar con las metodologías: (met1_xc + met2_xc)/ 2 etc.\n",
    "  suav_def_temp_xc   = 1, # factor suavizamiento para def temprano\n",
    "  proy_mor_temp_xc   = 'det3_xc', #det1_xc, det2_xc, det3_xc, All_proy, best_proy --Ademas puede operar con las metodologías: (det1_xc + det2_xc)/ 2 etc.\n",
    "  suav_mor_temp_xc   = 1,\n",
    "  prof_hist_xc       = 14, # \n",
    "\n",
    "  # Configuración de proyecciones por montos\n",
    "  proy_def_temp_xm   = 'Best_proy', #met1_xm, met2_xm, met3_xm, All_proy, best_proy , 'np.where(met2_xm == 0, met2_xm + 0.005, met2_xm)'\n",
    "  suav_def_temp_xm   = 1,\n",
    "  proy_mor_temp_xm   = 'det3_xm', #det1_xm, det2_xm, det3_xm, All_proy, best_proy\n",
    "  suav_mor_temp_xm   = 1,\n",
    "  prof_hist_xm       = 14,\n",
    "\n",
    "  # Detalles del gráfico de calibración\n",
    "  titulo             = 'Calibración Bhv TC',\n",
    "  pos_leyenda        = (0.5, -0.25),\n",
    "  eje_y_xc           = 0.15,\n",
    "  eje_y_xm           = 0.15,\n",
    "  dim_grafico        = (25, 6.5),\n",
    "  punt_mora          = 100,\n",
    "  width_bar          = 1,\n",
    "  etiquetas          = True,\n",
    "  pos_etiquetas_xc   = 10,\n",
    "  pos_etiquetas_xm   = 10,\n",
    "  tamaño_etiqueta    = 15,\n",
    "  mat_porc           = -1,\n",
    "\n",
    "  # Exportar factores para vista driver\n",
    "  exportar_factores  = True\n",
    ") "
   ]
  },
  {
   "cell_type": "code",
   "execution_count": 0,
   "metadata": {
    "application/vnd.databricks.v1+cell": {
     "cellMetadata": {
      "byteLimit": 2048000,
      "rowLimit": 10000
     },
     "inputWidgets": {},
     "nuid": "2a24440d-7558-40cc-973a-db64480349ce",
     "showTitle": false,
     "tableResultSettingsMap": {},
     "title": ""
    }
   },
   "outputs": [],
   "source": [
    "bhv_tc, cubo_c_9, cubo_m_9, factor_c_9, factor_m_9 = objSeg.EvolCal(\n",
    "  # Configuración de filtro de uso y pd de calibración\n",
    "  query_uso          = \"UTILI_LINEA = '1. <=75%-Af'\",\n",
    "  pd_seg             = 'PD_BHV_TC_4Q24_F',\n",
    "  pd_comparacion     = True,\n",
    "  proys_def_temp     = 6,\n",
    "  proys_mor_temp     = 3,\n",
    "  rd_aux             = 'RD6',\n",
    "  rd_aux2            = 'MORA_30_3',\n",
    "  mora_temp          = 'MORA_30_3',\n",
    "  amplitud           = 1,\n",
    "  moviles            = False,\n",
    "\n",
    "  # Configuración de proyecciones por cuentas\n",
    "  proy_def_temp_xc   = 'Best_proy', #met1_xc, met2_xc, met3_xc, All_proy, Best_proy --Ademas puede operar con las metodologías: (met1_xc + met2_xc)/ 2 etc.\n",
    "  suav_def_temp_xc   = 1, # factor suavizamiento para def temprano\n",
    "  proy_mor_temp_xc   = 'det3_xc', #det1_xc, det2_xc, det3_xc, All_proy, best_proy --Ademas puede operar con las metodologías: (det1_xc + det2_xc)/ 2 etc.\n",
    "  suav_mor_temp_xc   = 1,\n",
    "  prof_hist_xc       = 14, # \n",
    "\n",
    "  # Configuración de proyecciones por montos\n",
    "  proy_def_temp_xm   = 'Best_proy', #met1_xm, met2_xm, met3_xm, All_proy, best_proy , 'np.where(met2_xm == 0, met2_xm + 0.005, met2_xm)'\n",
    "  suav_def_temp_xm   = 1,\n",
    "  proy_mor_temp_xm   = 'det3_xm', #det1_xm, det2_xm, det3_xm, All_proy, best_proy\n",
    "  suav_mor_temp_xm   = 1,\n",
    "  prof_hist_xm       = 14,\n",
    "\n",
    "  # Detalles del gráfico de calibración\n",
    "  titulo             = 'Calibración Bhv TC',\n",
    "  pos_leyenda        = (0.5, -0.25),\n",
    "  eje_y_xc           = 0.15,\n",
    "  eje_y_xm           = 0.15,\n",
    "  dim_grafico        = (25, 6.5),\n",
    "  punt_mora          = 100,\n",
    "  width_bar          = 1,\n",
    "  etiquetas          = True,\n",
    "  pos_etiquetas_xc   = 10,\n",
    "  pos_etiquetas_xm   = 10,\n",
    "  tamaño_etiqueta    = 15,\n",
    "  mat_porc           = -1,\n",
    "\n",
    "  # Exportar factores para vista driver\n",
    "  exportar_factores  = True\n",
    ") "
   ]
  },
  {
   "cell_type": "code",
   "execution_count": 0,
   "metadata": {
    "application/vnd.databricks.v1+cell": {
     "cellMetadata": {
      "byteLimit": 2048000,
      "rowLimit": 10000
     },
     "inputWidgets": {},
     "nuid": "3d57bc43-7988-4d58-a7f5-c3762903f4bb",
     "showTitle": false,
     "tableResultSettingsMap": {},
     "title": ""
    }
   },
   "outputs": [],
   "source": [
    "bhv_tc, cubo_c_10, cubo_m_10, factor_c_10, factor_m_10 = objSeg.EvolCal(\n",
    "  # Configuración de filtro de uso y pd de calibración\n",
    "  query_uso          = \"UTILI_LINEA = '1. >75%-Af'\",\n",
    "  pd_seg             = 'PD_BHV_TC_4Q24_F',\n",
    "  pd_comparacion     = True,\n",
    "  proys_def_temp     = 6,\n",
    "  proys_mor_temp     = 3,\n",
    "  rd_aux             = 'RD6',\n",
    "  rd_aux2            = 'MORA_30_3',\n",
    "  mora_temp          = 'MORA_30_3',\n",
    "  amplitud           = 1,\n",
    "  moviles            = False,\n",
    "\n",
    "  # Configuración de proyecciones por cuentas\n",
    "  proy_def_temp_xc   = 'Best_proy', #met1_xc, met2_xc, met3_xc, All_proy, Best_proy --Ademas puede operar con las metodologías: (met1_xc + met2_xc)/ 2 etc.\n",
    "  suav_def_temp_xc   = 1, # factor suavizamiento para def temprano\n",
    "  proy_mor_temp_xc   = 'det3_xc', #det1_xc, det2_xc, det3_xc, All_proy, best_proy --Ademas puede operar con las metodologías: (det1_xc + det2_xc)/ 2 etc.\n",
    "  suav_mor_temp_xc   = 1,\n",
    "  prof_hist_xc       = 14, # \n",
    "\n",
    "  # Configuración de proyecciones por montos\n",
    "  proy_def_temp_xm   = 'Best_proy', #met1_xm, met2_xm, met3_xm, All_proy, best_proy , 'np.where(met2_xm == 0, met2_xm + 0.005, met2_xm)'\n",
    "  suav_def_temp_xm   = 1,\n",
    "  proy_mor_temp_xm   = 'det3_xm', #det1_xm, det2_xm, det3_xm, All_proy, best_proy\n",
    "  suav_mor_temp_xm   = 1,\n",
    "  prof_hist_xm       = 14,\n",
    "\n",
    "  # Detalles del gráfico de calibración\n",
    "  titulo             = 'Calibración Bhv TC',\n",
    "  pos_leyenda        = (0.5, -0.25),\n",
    "  eje_y_xc           = 0.25,\n",
    "  eje_y_xm           = 0.25,\n",
    "  dim_grafico        = (25, 6.5),\n",
    "  punt_mora          = 100,\n",
    "  width_bar          = 1,\n",
    "  etiquetas          = True,\n",
    "  pos_etiquetas_xc   = 10,\n",
    "  pos_etiquetas_xm   = 10,\n",
    "  tamaño_etiqueta    = 15,\n",
    "  mat_porc           = -1,\n",
    "\n",
    "  # Exportar factores para vista driver\n",
    "  exportar_factores  = True\n",
    ") "
   ]
  },
  {
   "cell_type": "code",
   "execution_count": 0,
   "metadata": {
    "application/vnd.databricks.v1+cell": {
     "cellMetadata": {
      "byteLimit": 2048000,
      "rowLimit": 10000
     },
     "inputWidgets": {},
     "nuid": "bf499bc4-af37-42a4-9f33-9e864429c19f",
     "showTitle": false,
     "tableResultSettingsMap": {},
     "title": ""
    }
   },
   "outputs": [],
   "source": [
    "cubo_m_10"
   ]
  },
  {
   "cell_type": "code",
   "execution_count": 0,
   "metadata": {
    "application/vnd.databricks.v1+cell": {
     "cellMetadata": {
      "byteLimit": 2048000,
      "rowLimit": 10000
     },
     "inputWidgets": {},
     "nuid": "c098ea45-0283-4606-ac4c-7c4cece76c47",
     "showTitle": false,
     "tableResultSettingsMap": {},
     "title": ""
    }
   },
   "outputs": [],
   "source": [
    "\n",
    "\n",
    "#cubo_m_7.where(\"codmes > 202306\").display()\n",
    "\n",
    "cubo_m_7[cubo_m_7.CODMES > 202306]\n",
    "\n"
   ]
  },
  {
   "cell_type": "code",
   "execution_count": 0,
   "metadata": {
    "application/vnd.databricks.v1+cell": {
     "cellMetadata": {
      "byteLimit": 2048000,
      "rowLimit": 10000
     },
     "inputWidgets": {},
     "nuid": "7c2c9218-0e0a-4e17-85bf-23a70823e63d",
     "showTitle": false,
     "tableResultSettingsMap": {},
     "title": ""
    }
   },
   "outputs": [],
   "source": [
    "# bhv_tc, cubo_c_8, cubo_m_8, factor_c_8, factor_m_8 = objSeg.EvolCal(\n",
    "#   # Configuración de filtro de uso y pd de calibración\n",
    "#   query_uso          = \"UTILI_LINEA = '1. <=75%-Con'\",\n",
    "#   pd_seg             = 'PD_BHV_TC_4Q24_F',\n",
    "#   pd_comparacion     = True,\n",
    "#   proys_def_temp     = 6,\n",
    "#   proys_mor_temp     = 3,\n",
    "#   rd_aux             = 'RD6',\n",
    "#   rd_aux2            = 'MORA_30_3',\n",
    "#   mora_temp          = 'MORA_30_3',\n",
    "#   amplitud           = 1,\n",
    "#   moviles            = False,\n",
    "\n",
    "#   # Configuración de proyecciones por cuentas\n",
    "#   proy_def_temp_xc   = 'Best_proy', #met1_xc, met2_xc, met3_xc, All_proy, Best_proy --Ademas puede operar con las metodologías: (met1_xc + met2_xc)/ 2 etc.\n",
    "#   suav_def_temp_xc   = 1, # factor suavizamiento para def temprano\n",
    "#   proy_mor_temp_xc   = 'det3_xc', #det1_xc, det2_xc, det3_xc, All_proy, best_proy --Ademas puede operar con las metodologías: (det1_xc + det2_xc)/ 2 etc.\n",
    "#   suav_mor_temp_xc   = 1,\n",
    "#   prof_hist_xc       = 14, # \n",
    "\n",
    "#   # Configuración de proyecciones por montos\n",
    "#   proy_def_temp_xm   = 'Best_proy', #met1_xm, met2_xm, met3_xm, All_proy, best_proy , 'np.where(met2_xm == 0, met2_xm + 0.005, met2_xm)'\n",
    "#   suav_def_temp_xm   = 1,\n",
    "#   proy_mor_temp_xm   = 'det3_xm', #det1_xm, det2_xm, det3_xm, All_proy, best_proy\n",
    "#   suav_mor_temp_xm   = 1,\n",
    "#   prof_hist_xm       = 14,\n",
    "\n",
    "#   # Detalles del gráfico de calibración\n",
    "#   titulo             = 'Calibración Bhv TC',\n",
    "#   pos_leyenda        = (0.5, -0.25),\n",
    "#   eje_y_xc           = 0.35,\n",
    "#   eje_y_xm           = 0.35,\n",
    "#   dim_grafico        = (25, 6.5),\n",
    "#   punt_mora          = 100,\n",
    "#   width_bar          = 1,\n",
    "#   etiquetas          = True,\n",
    "#   pos_etiquetas_xc   = 10,\n",
    "#   pos_etiquetas_xm   = 10,\n",
    "#   tamaño_etiqueta    = 15,\n",
    "#   mat_porc           = -1,\n",
    "\n",
    "#   # Exportar factores para vista driver\n",
    "#   exportar_factores  = True\n",
    "# ) "
   ]
  },
  {
   "cell_type": "markdown",
   "metadata": {
    "application/vnd.databricks.v1+cell": {
     "cellMetadata": {
      "byteLimit": 2048000,
      "rowLimit": 10000
     },
     "inputWidgets": {},
     "nuid": "13342818-95c6-4b2d-9d95-b3d5b315424a",
     "showTitle": false,
     "tableResultSettingsMap": {},
     "title": ""
    }
   },
   "source": [
    "## Calibración: proyectando para cada segmento establecido"
   ]
  },
  {
   "cell_type": "code",
   "execution_count": 0,
   "metadata": {
    "application/vnd.databricks.v1+cell": {
     "cellMetadata": {
      "byteLimit": 2048000,
      "rowLimit": 10000
     },
     "inputWidgets": {},
     "nuid": "6c30736b-5b68-4448-a972-393772cac3f9",
     "showTitle": false,
     "tableResultSettingsMap": {},
     "title": ""
    }
   },
   "outputs": [],
   "source": [
    "bhv_tc, cubo_c_1, cubo_m_1, factor_c_1, factor_m_1 = objSeg.EvolCal(\n",
    "  # Configuración de filtro de uso y pd de calibración\n",
    "  query_uso          = \"TIPO_CSEGPRO = 'AF_REV'\",\n",
    "  pd_seg             = 'PD_BHV_TC_4Q24_F',\n",
    "  pd_comparacion     = True,\n",
    "  proys_def_temp     = 6,\n",
    "  proys_mor_temp     = 3,\n",
    "  rd_aux             = 'RD6',\n",
    "  rd_aux2            = 'MORA_30_3',\n",
    "  mora_temp          = 'MORA_30_3',\n",
    "  amplitud           = 1,\n",
    "  moviles            = False,\n",
    "\n",
    "  # Configuración de proyecciones por cuentas\n",
    "  proy_def_temp_xc   = 'Best_proy', #met1_xc, met2_xc, met3_xc, All_proy, Best_proy --Ademas puede operar con las metodologías: (met1_xc + met2_xc)/ 2 etc.\n",
    "  suav_def_temp_xc   = 1, # factor suavizamiento para def temprano\n",
    "  proy_mor_temp_xc   = 'det3_xc', #det1_xc, det2_xc, det3_xc, All_proy, best_proy --Ademas puede operar con las metodologías: (det1_xc + det2_xc)/ 2 etc.\n",
    "  suav_mor_temp_xc   = 1,\n",
    "  prof_hist_xc       = 14, # \n",
    "\n",
    "  # Configuración de proyecciones por montos\n",
    "  proy_def_temp_xm   = 'Best_proy', #met1_xm, met2_xm, met3_xm, All_proy, best_proy , 'np.where(met2_xm == 0, met2_xm + 0.005, met2_xm)'\n",
    "  suav_def_temp_xm   = 1,\n",
    "  proy_mor_temp_xm   = 'det3_xm', #det1_xm, det2_xm, det3_xm, All_proy, best_proy\n",
    "  suav_mor_temp_xm   = 1,\n",
    "  prof_hist_xm       = 14,\n",
    "\n",
    "  # Detalles del gráfico de calibración\n",
    "  titulo             = 'Calibración Bhv TC',\n",
    "  pos_leyenda        = (0.5, -0.25),\n",
    "  eje_y_xc           = 0.15,\n",
    "  eje_y_xm           = 0.15,\n",
    "  dim_grafico        = (25, 6.5),\n",
    "  punt_mora          = 100,\n",
    "  width_bar          = 1,\n",
    "  etiquetas          = True,\n",
    "  pos_etiquetas_xc   = 10,\n",
    "  pos_etiquetas_xm   = 10,\n",
    "  tamaño_etiqueta    = 15,\n",
    "  mat_porc           = -1,\n",
    "\n",
    "  # Exportar factores para vista driver\n",
    "  exportar_factores  = True\n",
    ") "
   ]
  },
  {
   "cell_type": "code",
   "execution_count": 0,
   "metadata": {
    "application/vnd.databricks.v1+cell": {
     "cellMetadata": {
      "byteLimit": 2048000,
      "rowLimit": 10000
     },
     "inputWidgets": {},
     "nuid": "2b21e7f5-48d9-4a01-b0fc-5823ab105ebf",
     "showTitle": false,
     "tableResultSettingsMap": {},
     "title": ""
    }
   },
   "outputs": [],
   "source": [
    "bhv_tc, cubo_c_2, cubo_m_2, factor_c_2, factor_m_2 = objSeg.EvolCal(\n",
    "  # Configuración de filtro de uso y pd de calibración\n",
    "  query_uso          = \"TIPO_CSEGPRO = 'AF_TRAN'\",\n",
    "  pd_seg             = 'PD_BHV_TC_4Q24_F',\n",
    "  pd_comparacion     = True,\n",
    "  proys_def_temp     = 6,\n",
    "  proys_mor_temp     = 3,\n",
    "  rd_aux             = 'RD6',\n",
    "  rd_aux2            = 'MORA_30_3',\n",
    "  mora_temp          = 'MORA_30_3',\n",
    "  amplitud           = 1,\n",
    "  moviles            = False,\n",
    "\n",
    "  # Configuración de proyecciones por cuentas\n",
    "  proy_def_temp_xc   = 'Best_proy', #met1_xc, met2_xc, met3_xc, All_proy, Best_proy --Ademas puede operar con las metodologías: (met1_xc + met2_xc)/ 2 etc.\n",
    "  suav_def_temp_xc   = 1, # factor suavizamiento para def temprano\n",
    "  proy_mor_temp_xc   = 'det3_xc', #det1_xc, det2_xc, det3_xc, All_proy, best_proy --Ademas puede operar con las metodologías: (det1_xc + det2_xc)/ 2 etc.\n",
    "  suav_mor_temp_xc   = 1,\n",
    "  prof_hist_xc       = 14, # \n",
    "\n",
    "  # Configuración de proyecciones por montos\n",
    "  proy_def_temp_xm   = 'Best_proy', #met1_xm, met2_xm, met3_xm, All_proy, best_proy , 'np.where(met2_xm == 0, met2_xm + 0.005, met2_xm)'\n",
    "  suav_def_temp_xm   = 1,\n",
    "  proy_mor_temp_xm   = 'det3_xm', #det1_xm, det2_xm, det3_xm, All_proy, best_proy\n",
    "  suav_mor_temp_xm   = 1,\n",
    "  prof_hist_xm       = 14,\n",
    "\n",
    "  # Detalles del gráfico de calibración\n",
    "  titulo             = 'Calibración Bhv TC',\n",
    "  pos_leyenda        = (0.5, -0.25),\n",
    "  eje_y_xc           = 0.10,\n",
    "  eje_y_xm           = 0.10,\n",
    "  dim_grafico        = (25, 6.5),\n",
    "  punt_mora          = 100,\n",
    "  width_bar          = 1,\n",
    "  etiquetas          = True,\n",
    "  pos_etiquetas_xc   = 10,\n",
    "  pos_etiquetas_xm   = 10,\n",
    "  tamaño_etiqueta    = 15,\n",
    "  mat_porc           = -1,\n",
    "\n",
    "  # Exportar factores para vista driver\n",
    "  exportar_factores  = True\n",
    ") "
   ]
  },
  {
   "cell_type": "code",
   "execution_count": 0,
   "metadata": {
    "application/vnd.databricks.v1+cell": {
     "cellMetadata": {
      "byteLimit": 2048000,
      "rowLimit": 10000
     },
     "inputWidgets": {},
     "nuid": "6dbe849a-7c6f-4b14-aad3-4ecfc71ad0da",
     "showTitle": false,
     "tableResultSettingsMap": {},
     "title": ""
    }
   },
   "outputs": [],
   "source": [
    "factor_m_2 "
   ]
  },
  {
   "cell_type": "code",
   "execution_count": 0,
   "metadata": {
    "application/vnd.databricks.v1+cell": {
     "cellMetadata": {
      "byteLimit": 2048000,
      "rowLimit": 10000
     },
     "inputWidgets": {},
     "nuid": "e9eeff16-65f4-4d99-b377-d2dab76ac265",
     "showTitle": false,
     "tableResultSettingsMap": {},
     "title": ""
    }
   },
   "outputs": [],
   "source": [
    "# factor_m_2 "
   ]
  },
  {
   "cell_type": "code",
   "execution_count": 0,
   "metadata": {
    "application/vnd.databricks.v1+cell": {
     "cellMetadata": {
      "byteLimit": 2048000,
      "rowLimit": 10000
     },
     "inputWidgets": {},
     "nuid": "ea6f44ce-3f15-48e1-82be-587218000bf6",
     "showTitle": false,
     "tableResultSettingsMap": {},
     "title": ""
    }
   },
   "outputs": [],
   "source": [
    "\n",
    "bhv_tc, cubo_c_3, cubo_m_3, factor_c_3, factor_m_3 = objSeg.EvolCal(\n",
    "  # Configuración de filtro de uso y pd de calibración\n",
    "  query_uso          = \"TIPO_CSEGPRO = 'AF_DOR'\",\n",
    "  pd_seg             = 'PD_BHV_TC_4Q24_F',\n",
    "  pd_comparacion     = True,\n",
    "  proys_def_temp     = 6,\n",
    "  proys_mor_temp     = 3,\n",
    "  rd_aux             = 'RD6',\n",
    "  rd_aux2            = 'MORA_30_3',\n",
    "  mora_temp          = 'MORA_30_3',\n",
    "  amplitud           = 1,\n",
    "  moviles            = False,\n",
    "\n",
    "  # Configuración de proyecciones por cuentas\n",
    "  proy_def_temp_xc   = 'met3_xc', #met1_xc, met2_xc, met3_xc, All_proy, Best_proy --Ademas puede operar con las metodologías: (met1_xc + met2_xc)/ 2 etc.\n",
    "  suav_def_temp_xc   = 1, # factor suavizamiento para def temprano\n",
    "  proy_mor_temp_xc   = 'det3_xc', #det1_xc, det2_xc, det3_xc, All_proy, best_proy --Ademas puede operar con las metodologías: (det1_xc + det2_xc)/ 2 etc.\n",
    "  suav_mor_temp_xc   = 1,\n",
    "  prof_hist_xc       = 14, # \n",
    "\n",
    "  # Configuración de proyecciones por montos\n",
    "  proy_def_temp_xm   = 'Best_proy', #met1_xm, met2_xm, met3_xm, All_proy, best_proy , 'np.where(met2_xm == 0, met2_xm + 0.005, met2_xm)'\n",
    "  suav_def_temp_xm   = 1,\n",
    "  proy_mor_temp_xm   = 'det3_xm', #det1_xm, det2_xm, det3_xm, All_proy, best_proy\n",
    "  suav_mor_temp_xm   = 1,\n",
    "  prof_hist_xm       = 14,\n",
    "\n",
    "  # Detalles del gráfico de calibración\n",
    "  titulo             = 'Calibración Bhv TC',\n",
    "  pos_leyenda        = (0.5, -0.25),\n",
    "  eje_y_xc           = 0.050,\n",
    "  eje_y_xm           = 0.050,\n",
    "  dim_grafico        = (25, 6.5),\n",
    "  punt_mora          = 100,\n",
    "  width_bar          = 1,\n",
    "  etiquetas          = True,\n",
    "  pos_etiquetas_xc   = 10,\n",
    "  pos_etiquetas_xm   = 10,\n",
    "  tamaño_etiqueta    = 15,\n",
    "  mat_porc           = -1,\n",
    "\n",
    "  # Exportar factores para vista driver\n",
    "  exportar_factores  = True\n",
    ") "
   ]
  },
  {
   "cell_type": "code",
   "execution_count": 0,
   "metadata": {
    "application/vnd.databricks.v1+cell": {
     "cellMetadata": {
      "byteLimit": 2048000,
      "rowLimit": 10000
     },
     "inputWidgets": {},
     "nuid": "e8513c4f-54b1-45e9-bc9d-865af2721f25",
     "showTitle": false,
     "tableResultSettingsMap": {},
     "title": ""
    }
   },
   "outputs": [],
   "source": [
    "factor_m_3"
   ]
  },
  {
   "cell_type": "code",
   "execution_count": 0,
   "metadata": {
    "application/vnd.databricks.v1+cell": {
     "cellMetadata": {
      "byteLimit": 2048000,
      "rowLimit": 10000
     },
     "inputWidgets": {},
     "nuid": "208e53f8-b358-4f69-a6a2-e1f7fcfa9f7b",
     "showTitle": false,
     "tableResultSettingsMap": {},
     "title": ""
    }
   },
   "outputs": [],
   "source": [
    "# factor_m_3"
   ]
  },
  {
   "cell_type": "code",
   "execution_count": 0,
   "metadata": {
    "application/vnd.databricks.v1+cell": {
     "cellMetadata": {
      "byteLimit": 2048000,
      "rowLimit": 10000
     },
     "inputWidgets": {},
     "nuid": "9c2a8134-fd6e-4fbc-85cd-315a2b1e9627",
     "showTitle": false,
     "tableResultSettingsMap": {},
     "title": ""
    }
   },
   "outputs": [],
   "source": [
    "bhv_tc, cubo_c_4, cubo_m_4, factor_c_4, factor_m_4 = objSeg.EvolCal(\n",
    "  # Configuración de filtro de uso y pd de calibración\n",
    "  query_uso          = \"TIPO_CSEGPRO = 'CO_TRAN'\",\n",
    "  pd_seg             = 'PD_BHV_TC_4Q24_F',\n",
    "  pd_comparacion     = True,\n",
    "  proys_def_temp     = 6,\n",
    "  proys_mor_temp     = 3,\n",
    "  rd_aux             = 'RD6',\n",
    "  rd_aux2            = 'MORA_30_3',\n",
    "  mora_temp          = 'MORA_30_3',\n",
    "  amplitud           = 1,\n",
    "  moviles            = False,\n",
    "\n",
    "  # Configuración de proyecciones por cuentas\n",
    "  proy_def_temp_xc   =\"np.where(calxcuentas['CODMES'].isin([202407,202408,202409,202410,202411,202411,202412,202501]), met1_xc*1.0, met3_xc)\",#\"np.where(calxcuentas['CODMES'].isin([202407]), met3_xc*1.3, met3_xc)\", #\"np.where(calxcuentas['CODMES'].isin([202407]), met3_xc*1.3, met3_xc)\", #met1_xc, met2_xc, met3_xc, All_proy, Best_proy --Ademas puede operar con las metodologías: (met1_xc + met2_xc)/ 2 etc.\n",
    "  suav_def_temp_xc   = 1, # factor suavizamiento para def temprano\n",
    "  proy_mor_temp_xc   = 'det3_xc', #det1_xc, det2_xc, det3_xc, All_proy, best_proy --Ademas puede operar con las metodologías: (det1_xc + det2_xc)/ 2 etc.\n",
    "  suav_mor_temp_xc   = 1,\n",
    "  prof_hist_xc       = 14, # \n",
    "\n",
    "  # Configuración de proyecciones por montos\n",
    "  proy_def_temp_xm   = \"np.where(calxmontos['CODMES'].isin([202407,202408,202409,202410,202411,202411,202412,202501]),met1_xm*1.0, met3_xm)\",#\"np.where(calxmontos['CODMES'].isin([202407]), met3_xm*1.5, met3_xm)\",#\"np.where(calxmontos['CODMES'].isin([202407]), met3_xm*1.4, met3_xm)\", #met1_xm, met2_xm, met3_xm, All_proy, best_proy , 'np.where(met2_xm == 0, met2_xm + 0.005, met2_xm)'\n",
    "  #'np.where(calxmontos[\"CODMES\"].isin([202403, 202404, 202405, 202406, 202407, 202408]), met1_xm*1.07, met1_xm)'\n",
    "  suav_def_temp_xm   = 1,\n",
    "  proy_mor_temp_xm   = 'det3_xm', #det1_xm, det2_xm, det3_xm, All_proy, best_proy\n",
    "  suav_mor_temp_xm   = 1,\n",
    "  prof_hist_xm       = 14,\n",
    "\n",
    "  # Detalles del gráfico de calibración\n",
    "  titulo             = 'Calibración Bhv TC',\n",
    "  pos_leyenda        = (0.5, -0.25),\n",
    "  eje_y_xc           = 0.050,\n",
    "  eje_y_xm           = 0.050,\n",
    "  dim_grafico        = (25, 6.5),\n",
    "  punt_mora          = 100,\n",
    "  width_bar          = 1,\n",
    "  etiquetas          = True,\n",
    "  pos_etiquetas_xc   = 10,\n",
    "  pos_etiquetas_xm   = 10,\n",
    "  tamaño_etiqueta    = 15,\n",
    "  mat_porc           = -1,\n",
    "\n",
    "  # Exportar factores para vista driver\n",
    "  exportar_factores  = True\n",
    ") "
   ]
  },
  {
   "cell_type": "code",
   "execution_count": 0,
   "metadata": {
    "application/vnd.databricks.v1+cell": {
     "cellMetadata": {
      "byteLimit": 2048000,
      "rowLimit": 10000
     },
     "inputWidgets": {},
     "nuid": "61109e9d-241f-4e06-a783-beb558b1723c",
     "showTitle": false,
     "tableResultSettingsMap": {},
     "title": ""
    }
   },
   "outputs": [],
   "source": [
    "factor_m_4"
   ]
  },
  {
   "cell_type": "code",
   "execution_count": 0,
   "metadata": {
    "application/vnd.databricks.v1+cell": {
     "cellMetadata": {
      "byteLimit": 2048000,
      "rowLimit": 10000
     },
     "inputWidgets": {},
     "nuid": "6adb837e-3c90-41ab-9c6b-4bbddb45e953",
     "showTitle": false,
     "tableResultSettingsMap": {},
     "title": ""
    }
   },
   "outputs": [],
   "source": [
    "\n",
    "bhv_tc, cubo_c_5, cubo_m_5, factor_c_5, factor_m_5 = objSeg.EvolCal(\n",
    "  # Configuración de filtro de uso y pd de calibración\n",
    "  query_uso          = \"TIPO_CSEGPRO = 'CO_REV'\",\n",
    "  pd_seg             = 'PD_BHV_TC_4Q24_F',\n",
    "  pd_comparacion     = True,\n",
    "  proys_def_temp     = 6,\n",
    "  proys_mor_temp     = 3,\n",
    "  rd_aux             = 'RD6',\n",
    "  rd_aux2            = 'MORA_30_3',\n",
    "  mora_temp          = 'MORA_30_3',\n",
    "  amplitud           = 1,\n",
    "  moviles            = False,\n",
    "\n",
    "  # Configuración de proyecciones por cuentas\n",
    "  proy_def_temp_xc   = \"np.where(calxcuentas['CODMES'].isin([202407,202408,202409,202410,202411,202411,202412,202501]), met3_xc*1, met3_xc)\", #met1_xc, met2_xc, met3_xc, All_proy, Best_proy --Ademas puede operar con las metodologías: (met1_xc + met2_xc)/ 2 etc.\n",
    "  suav_def_temp_xc   = 1, # factor suavizamiento para def temprano\n",
    "  proy_mor_temp_xc   = 'det3_xc', #det1_xc, det2_xc, det3_xc, All_proy, best_proy --Ademas puede operar con las metodologías: (det1_xc + det2_xc)/ 2 etc.\n",
    "  suav_mor_temp_xc   = 1,\n",
    "  prof_hist_xc       = 14, # \n",
    "\n",
    "  # Configuración de proyecciones por montos\n",
    "  proy_def_temp_xm   = \"np.where(calxmontos['CODMES'].isin([202407,202408,202409,202410,202411,202411,202412,202501]), met3_xm*1, met3_xm)\",#met1_xm, met2_xm, met3_xm, All_proy, best_proy , 'np.where(met2_xm == 0, met2_xm + 0.005, met2_xm)'\n",
    "  suav_def_temp_xm   = 1,\n",
    "  proy_mor_temp_xm   = 'det3_xm', #det1_xm, det2_xm, det3_xm, All_proy, best_proy\n",
    "  suav_mor_temp_xm   = 1,\n",
    "  prof_hist_xm       = 14,\n",
    "\n",
    "  # Detalles del gráfico de calibración\n",
    "  titulo             = 'Calibración Bhv TC',\n",
    "  pos_leyenda        = (0.5, -0.25),\n",
    "  eje_y_xc           = 0.25,\n",
    "  eje_y_xm           = 0.25,\n",
    "  dim_grafico        = (25, 6.5),\n",
    "  punt_mora          = 100,\n",
    "  width_bar          = 1,\n",
    "  etiquetas          = True,\n",
    "  pos_etiquetas_xc   = 10,\n",
    "  pos_etiquetas_xm   = 10,\n",
    "  tamaño_etiqueta    = 15,\n",
    "  mat_porc           = -1,\n",
    "\n",
    "  # Exportar factores para vista driver\n",
    "  exportar_factores  = True\n",
    ") "
   ]
  },
  {
   "cell_type": "code",
   "execution_count": 0,
   "metadata": {
    "application/vnd.databricks.v1+cell": {
     "cellMetadata": {
      "byteLimit": 2048000,
      "rowLimit": 10000
     },
     "inputWidgets": {},
     "nuid": "20c78eb0-3abb-47c2-a726-dbe4437aae0b",
     "showTitle": false,
     "tableResultSettingsMap": {},
     "title": ""
    }
   },
   "outputs": [],
   "source": [
    "factor_c_5.display() "
   ]
  },
  {
   "cell_type": "code",
   "execution_count": 0,
   "metadata": {
    "application/vnd.databricks.v1+cell": {
     "cellMetadata": {
      "byteLimit": 2048000,
      "rowLimit": 10000
     },
     "inputWidgets": {},
     "nuid": "f93a92f3-12d0-4a4b-9b00-6f47476c811c",
     "showTitle": false,
     "tableResultSettingsMap": {},
     "title": ""
    }
   },
   "outputs": [],
   "source": [
    "bhv_tc, cubo_c_6, cubo_m_6, factor_c_6, factor_m_6 = objSeg.EvolCal(\n",
    "  # Configuración de filtro de uso y pd de calibración\n",
    "  query_uso          = \"TIPO_CSEGPRO = 'CO_DOR'\",\n",
    "  pd_seg             = 'PD_BHV_TC_4Q24_F',\n",
    "  pd_comparacion     = True,\n",
    "  proys_def_temp     = 6,\n",
    "  proys_mor_temp     = 3,\n",
    "  rd_aux             = 'RD6',\n",
    "  rd_aux2            = 'MORA_30_3',\n",
    "  mora_temp          = 'MORA_30_3',\n",
    "  amplitud           = 1,\n",
    "  moviles            = False,\n",
    "\n",
    "  # Configuración de proyecciones por cuentas\n",
    "  proy_def_temp_xc   = 'met1_xc', #met1_xc, met2_xc, met3_xc, All_proy, Best_proy --Ademas puede operar con las metodologías: (met1_xc + met2_xc)/ 2 etc.\n",
    "  suav_def_temp_xc   = 1, # factor suavizamiento para def temprano\n",
    "  proy_mor_temp_xc   = 'det3_xc', #det1_xc, det2_xc, det3_xc, All_proy, best_proy --Ademas puede operar con las metodologías: (det1_xc + det2_xc)/ 2 etc.\n",
    "  suav_mor_temp_xc   = 1,\n",
    "  prof_hist_xc       = 14, # \n",
    "\n",
    "  # Configuración de proyecciones por montos\n",
    "  proy_def_temp_xm   = 'met1_xm', #met1_xm, met2_xm, met3_xm, All_proy, best_proy , 'np.where(met2_xm == 0, met2_xm + 0.005, met2_xm)'\n",
    "  suav_def_temp_xm   = 1,\n",
    "  proy_mor_temp_xm   = 'det3_xm', #det1_xm, det2_xm, det3_xm, All_proy, best_proy\n",
    "  suav_mor_temp_xm   = 1,\n",
    "  prof_hist_xm       = 14,\n",
    "\n",
    "  # Detalles del gráfico de calibración\n",
    "  titulo             = 'Calibración Bhv TC',\n",
    "  pos_leyenda        = (0.5, -0.25),\n",
    "  eje_y_xc           = 0.08,\n",
    "  eje_y_xm           = 0.08,\n",
    "  dim_grafico        = (25, 6.5),\n",
    "  punt_mora          = 100,\n",
    "  width_bar          = 1,\n",
    "  etiquetas          = True,\n",
    "  pos_etiquetas_xc   = 10,\n",
    "  pos_etiquetas_xm   = 10,\n",
    "  tamaño_etiqueta    = 15,\n",
    "  mat_porc           = -1,\n",
    "\n",
    "  # Exportar factores para vista driver\n",
    "  exportar_factores  = True\n",
    ") "
   ]
  },
  {
   "cell_type": "code",
   "execution_count": 0,
   "metadata": {
    "application/vnd.databricks.v1+cell": {
     "cellMetadata": {
      "byteLimit": 2048000,
      "rowLimit": 10000
     },
     "inputWidgets": {},
     "nuid": "a18ac086-e9f8-4b37-960d-74055e87e958",
     "showTitle": false,
     "tableResultSettingsMap": {},
     "title": ""
    }
   },
   "outputs": [],
   "source": [
    "factor_c_6 "
   ]
  },
  {
   "cell_type": "code",
   "execution_count": 0,
   "metadata": {
    "application/vnd.databricks.v1+cell": {
     "cellMetadata": {
      "byteLimit": 2048000,
      "rowLimit": 10000
     },
     "inputWidgets": {},
     "nuid": "4809743b-ad91-4726-80fd-dae3dc638c37",
     "showTitle": false,
     "tableResultSettingsMap": {},
     "title": ""
    }
   },
   "outputs": [],
   "source": [
    "# bhv_tc, cubo_c_7, cubo_m_7, factor_c_7, factor_m_7 = objSeg.EvolCal(\n",
    "#   # Configuración de filtro de uso y pd de calibración\n",
    "#   query_uso          = \"SEGMENTO_PF = 'B. Af/Rev/cuota>75%'\",\n",
    "#   pd_seg             = 'PD_BHV_TC_4Q24_F',\n",
    "#   pd_comparacion     = True,\n",
    "#   proys_def_temp     = 6,\n",
    "#   proys_mor_temp     = 3,\n",
    "#   rd_aux             = 'RD6',\n",
    "#   rd_aux2            = 'MORA_30_3',\n",
    "#   mora_temp          = 'MORA_30_3',\n",
    "#   amplitud           = 1,\n",
    "#   moviles            = False,\n",
    "\n",
    "#   # Configuración de proyecciones por cuentas\n",
    "#   proy_def_temp_xc   = 'met3_xc', #met1_xc, met2_xc, met3_xc, All_proy, Best_proy --Ademas puede operar con las metodologías: (met1_xc + met2_xc)/ 2 etc.\n",
    "#   suav_def_temp_xc   = 1, # factor suavizamiento para def temprano\n",
    "#   proy_mor_temp_xc   = 'det3_xc', #det1_xc, det2_xc, det3_xc, All_proy, best_proy --Ademas puede operar con las metodologías: (det1_xc + det2_xc)/ 2 etc.\n",
    "#   suav_mor_temp_xc   = 1,\n",
    "#   prof_hist_xc       = 14, # \n",
    "\n",
    "#   # Configuración de proyecciones por montos\n",
    "#   proy_def_temp_xm   = 'met3_xm', #met1_xm, met2_xm, met3_xm, All_proy, best_proy , 'np.where(met2_xm == 0, met2_xm + 0.005, met2_xm)'\n",
    "#   suav_def_temp_xm   = 1,\n",
    "#   proy_mor_temp_xm   = 'det3_xm', #det1_xm, det2_xm, det3_xm, All_proy, best_proy\n",
    "#   suav_mor_temp_xm   = 1,\n",
    "#   prof_hist_xm       = 14,\n",
    "\n",
    "#   # Detalles del gráfico de calibración\n",
    "#   titulo             = 'Calibración Bhv TC',\n",
    "#   pos_leyenda        = (0.5, -0.25),\n",
    "#   eje_y_xc           = 0.25,\n",
    "#   eje_y_xm           = 0.25,\n",
    "#   dim_grafico        = (25, 6.5),\n",
    "#   punt_mora          = 100,\n",
    "#   width_bar          = 1,\n",
    "#   etiquetas          = True,\n",
    "#   pos_etiquetas_xc   = 10,\n",
    "#   pos_etiquetas_xm   = 10,\n",
    "#   tamaño_etiqueta    = 15,\n",
    "#   mat_porc           = -1,\n",
    "\n",
    "#   # Exportar factores para vista driver\n",
    "#   exportar_factores  = True\n",
    "# ) "
   ]
  },
  {
   "cell_type": "code",
   "execution_count": 0,
   "metadata": {
    "application/vnd.databricks.v1+cell": {
     "cellMetadata": {
      "byteLimit": 2048000,
      "rowLimit": 10000
     },
     "inputWidgets": {},
     "nuid": "e28f0d79-84a9-4c30-8e3a-cd4d0fe3745e",
     "showTitle": false,
     "tableResultSettingsMap": {},
     "title": ""
    }
   },
   "outputs": [],
   "source": [
    "#cubo_m_7"
   ]
  },
  {
   "cell_type": "markdown",
   "metadata": {
    "application/vnd.databricks.v1+cell": {
     "cellMetadata": {
      "byteLimit": 2048000,
      "rowLimit": 10000
     },
     "inputWidgets": {},
     "nuid": "366b797f-d8a7-4fab-a3a2-ee7f2855cefd",
     "showTitle": false,
     "tableResultSettingsMap": {},
     "title": ""
    }
   },
   "source": [
    "## Suma Producto por segmentos (Ponderación)"
   ]
  },
  {
   "cell_type": "code",
   "execution_count": 0,
   "metadata": {
    "application/vnd.databricks.v1+cell": {
     "cellMetadata": {
      "byteLimit": 2048000,
      "rowLimit": 10000
     },
     "inputWidgets": {},
     "nuid": "06a81c4a-d0ae-4bbb-bece-a9cd870db30e",
     "showTitle": false,
     "tableResultSettingsMap": {},
     "title": ""
    }
   },
   "outputs": [],
   "source": [
    "bhv_tc, cubo_c_co, cubo_m_co, factor_agg_c_1, factor_agg_m_1  = objSeg.EvolCal(\n",
    "  # Configuración de filtro de uso y pd de calibración\n",
    "  query_uso          = 'SEGMENTO_BANCA_GF = \"Consumo\"', # \"TIPO_CSEGPRO = 'REG_AF_LD'\"\n",
    "  pd_seg             = 'PD_BHV_TC_4Q24_F',\n",
    "  pd_comparacion     = True,\n",
    "  proys_def_temp     = 6,\n",
    "  proys_mor_temp     = 3,\n",
    "  rd_aux             = 'RD6',\n",
    "  rd_aux2            = 'MORA_30_3',\n",
    "  mora_temp          = 'MORA_30_3',\n",
    "  amplitud           = 1,\n",
    "  moviles            = False,\n",
    "\n",
    "  # Configuración de proyecciones por cuentas\n",
    "  proy_def_temp_xc   = 'met1_xc', #met1_xc, met2_xc, met3_xc, All_proy, Best_proy --Ademas puede operar con las metodologías: (met1_xc + met2_xc)/ 2 etc.\n",
    "  suav_def_temp_xc   = 1, # factor suavizamiento para def temprano\n",
    "  proy_mor_temp_xc   = 'det3_xc', # det1_xc, det2_xc, det3_xc, All_proy, Best_proy --Ademas puede operar con las metodologías: (det1_xc + det2_xc)/ 2 etc.\n",
    "  suav_mor_temp_xc   = 1,\n",
    "  prof_hist_xc       = 14, \n",
    "  fact_to_proy_xc    = [factor_c_4, factor_c_5, factor_c_6],\n",
    "\n",
    "  # Configuración de proyecciones por montos\n",
    "  proy_def_temp_xm   = 'met1_xm', #met1_xm, met2_xm, met3_xm, All_proy, Best_proy , 'np.where(met2_xm == 0, met2_xm + 0.005, met2_xm)'\n",
    "  suav_def_temp_xm   = 1,\n",
    "  proy_mor_temp_xm   = 'det3_xm', #det1_xm, det2_xm, det3_xm, All_proy, Best_proy\n",
    "  suav_mor_temp_xm   = 1,\n",
    "  prof_hist_xm       = 14,\n",
    "  fact_to_proy_xm    = [factor_m_4, factor_m_5, factor_m_6],\n",
    "\n",
    "  # Detalles del gráfico de calibración\n",
    "  titulo             = 'Calibración Bhv TC',\n",
    "  pos_leyenda        = (0.5, -0.25),\n",
    "  eje_y_xc           = 0.15,\n",
    "  eje_y_xm           = 0.15,\n",
    "  dim_grafico        = (25, 6.5),\n",
    "  punt_mora          = 100,\n",
    "  width_bar          = 1,\n",
    "  etiquetas          = True,\n",
    "  pos_etiquetas_xc   = 10,\n",
    "  pos_etiquetas_xm   = 10,\n",
    "  tamaño_etiqueta    = 15,\n",
    "  mat_porc           = -1,\n",
    "\n",
    "  # Exportar factores para vista driver\n",
    "  exportar_factores  = True\n",
    ") "
   ]
  },
  {
   "cell_type": "code",
   "execution_count": 0,
   "metadata": {
    "application/vnd.databricks.v1+cell": {
     "cellMetadata": {
      "byteLimit": 2048000,
      "rowLimit": 10000
     },
     "inputWidgets": {},
     "nuid": "0ba4ca36-a38b-4395-950f-f7caac9e5331",
     "showTitle": false,
     "tableResultSettingsMap": {},
     "title": ""
    }
   },
   "outputs": [],
   "source": [
    "cubo_m_co.display()"
   ]
  },
  {
   "cell_type": "code",
   "execution_count": 0,
   "metadata": {
    "application/vnd.databricks.v1+cell": {
     "cellMetadata": {
      "byteLimit": 2048000,
      "rowLimit": 10000
     },
     "inputWidgets": {},
     "nuid": "95a582e8-a734-4ad6-81d9-27d336c56e0b",
     "showTitle": false,
     "tableResultSettingsMap": {},
     "title": ""
    }
   },
   "outputs": [],
   "source": [
    "bhv_tc, cubo_c_af, cubo_m_af, factor_agg_c_2, factor_agg_m_2  = objSeg.EvolCal(\n",
    "  # Configuración de filtro de uso y pd de calibración\n",
    "  query_uso          = 'SEGMENTO_BANCA_GF = \"Afluente\"', # \"TIPO_CSEGPRO = 'REG_AF_LD'\"\n",
    "  pd_seg             = 'PD_BHV_TC_4Q24_F',\n",
    "  pd_comparacion     = True,\n",
    "  proys_def_temp     = 6,\n",
    "  proys_mor_temp     = 3,\n",
    "  rd_aux             = 'RD6',\n",
    "  rd_aux2            = 'MORA_30_3',\n",
    "  mora_temp          = 'MORA_30_3',\n",
    "  amplitud           = 1,\n",
    "  moviles            = False,\n",
    "\n",
    "  # Configuración de proyecciones por cuentas\n",
    "  proy_def_temp_xc   = 'met1_xc', #met1_xc, met2_xc, met3_xc, All_proy, Best_proy --Ademas puede operar con las metodologías: (met1_xc + met2_xc)/ 2 etc.\n",
    "  suav_def_temp_xc   = 1, # factor suavizamiento para def temprano\n",
    "  proy_mor_temp_xc   = 'det3_xc', # det1_xc, det2_xc, det3_xc, All_proy, Best_proy --Ademas puede operar con las metodologías: (det1_xc + det2_xc)/ 2 etc.\n",
    "  suav_mor_temp_xc   = 1,\n",
    "  prof_hist_xc       = 14, \n",
    "  fact_to_proy_xc    = [factor_c_1, factor_c_2, factor_c_3],\n",
    "\n",
    "  # Configuración de proyecciones por montos\n",
    "  proy_def_temp_xm   = 'met1_xm', #met1_xm, met2_xm, met3_xm, All_proy, Best_proy , 'np.where(met2_xm == 0, met2_xm + 0.005, met2_xm)'\n",
    "  suav_def_temp_xm   = 1,\n",
    "  proy_mor_temp_xm   = 'det3_xm', #det1_xm, det2_xm, det3_xm, All_proy, Best_proy\n",
    "  suav_mor_temp_xm   = 1,\n",
    "  prof_hist_xm       = 14,\n",
    "  fact_to_proy_xm    = [factor_m_1, factor_m_2, factor_m_3],\n",
    "\n",
    "  # Detalles del gráfico de calibración\n",
    "  titulo             = 'Calibración Bhv TC',\n",
    "  pos_leyenda        = (0.5, -0.25),\n",
    "  eje_y_xc           = 0.10,\n",
    "  eje_y_xm           = 0.10,\n",
    "  dim_grafico        = (25, 6.5),\n",
    "  punt_mora          = 100,\n",
    "  width_bar          = 1,\n",
    "  etiquetas          = True,\n",
    "  pos_etiquetas_xc   = 10,\n",
    "  pos_etiquetas_xm   = 10,\n",
    "  tamaño_etiqueta    = 15,\n",
    "  mat_porc           = -1,\n",
    "\n",
    "  # Exportar factores para vista driver\n",
    "  exportar_factores  = True\n",
    ") "
   ]
  },
  {
   "cell_type": "code",
   "execution_count": 0,
   "metadata": {
    "application/vnd.databricks.v1+cell": {
     "cellMetadata": {
      "byteLimit": 2048000,
      "rowLimit": 10000
     },
     "inputWidgets": {},
     "nuid": "8776c8d9-ce67-4ae1-aa58-9b5cb1435014",
     "showTitle": false,
     "tableResultSettingsMap": {},
     "title": ""
    }
   },
   "outputs": [],
   "source": [
    "\n",
    "cbhv_tc, cubo_c, cubo_m, factor_agg_c_3, factor_agg_m_3 = objSeg.EvolCal(\n",
    "  # Configuración de filtro de uso y pd de calibración\n",
    "  query_uso          = '1=1', \n",
    "  pd_seg             = 'PD_BHV_TC_4Q24_F',\n",
    "  pd_comparacion     = True,\n",
    "  proys_def_temp     = 6,\n",
    "  proys_mor_temp     = 3,\n",
    "  rd_aux             = 'RD6',\n",
    "  rd_aux2            = 'MORA_30_3',\n",
    "  mora_temp          = 'MORA_30_3',\n",
    "  amplitud           = 1,\n",
    "  moviles            = False,\n",
    "\n",
    "  # Configuración de proyecciones por cuentas\n",
    "  proy_def_temp_xc   = 'met1_xc', #met1_xc, met2_xc, met3_xc, All_proy, Best_proy --Ademas puede operar con las metodologías: (met1_xc + met2_xc)/ 2 etc.\n",
    "  suav_def_temp_xc   = 1, # factor suavizamiento para def temprano\n",
    "  proy_mor_temp_xc   = 'det3_xc', # det1_xc, det2_xc, det3_xc, All_proy, Best_proy --Ademas puede operar con las metodologías: (det1_xc + det2_xc)/ 2 etc.\n",
    "  suav_mor_temp_xc   = 1,\n",
    "  prof_hist_xc       = 14, \n",
    "  fact_to_proy_xc    = [factor_agg_c_1, factor_agg_c_2], \n",
    "\n",
    "  # Configuración de proyecciones por montos\n",
    "  proy_def_temp_xm   = 'met1_xm', #met1_xm, met2_xm, met3_xm, All_proy, Best_proy , 'np.where(met2_xm == 0, met2_xm + 0.005, met2_xm)'\n",
    "  suav_def_temp_xm   = 1,\n",
    "  proy_mor_temp_xm   = 'det3_xm', #det1_xm, det2_xm, det3_xm, All_proy, Best_proy\n",
    "  suav_mor_temp_xm   = 1,\n",
    "  prof_hist_xm       = 14,\n",
    "  fact_to_proy_xm    = [factor_agg_m_1, factor_agg_m_2],\n",
    "\n",
    "  # Detalles del gráfico de calibración\n",
    "  titulo             = 'Calibración Bhv TC',\n",
    "  pos_leyenda        = (0.5, -0.25),\n",
    "  eje_y_xc           = 0.10,\n",
    "  eje_y_xm           = 0.10,\n",
    "  dim_grafico        = (25, 6.5),\n",
    "  punt_mora          = 100,\n",
    "  width_bar          = 1,\n",
    "  etiquetas          = True,\n",
    "  pos_etiquetas_xc   = 10,\n",
    "  pos_etiquetas_xm   = 10,\n",
    "  tamaño_etiqueta    = 15,\n",
    "  mat_porc           = -1,\n",
    "\n",
    "  # Exportar factores para vista driver\n",
    "  exportar_factores  = True\n",
    ") "
   ]
  },
  {
   "cell_type": "code",
   "execution_count": 0,
   "metadata": {
    "application/vnd.databricks.v1+cell": {
     "cellMetadata": {
      "byteLimit": 2048000,
      "rowLimit": 10000
     },
     "inputWidgets": {},
     "nuid": "b0b5ddc7-e165-4681-91d4-1228eb61eff1",
     "showTitle": false,
     "tableResultSettingsMap": {},
     "title": ""
    }
   },
   "outputs": [],
   "source": [
    "cubo_m"
   ]
  },
  {
   "cell_type": "markdown",
   "metadata": {
    "application/vnd.databricks.v1+cell": {
     "cellMetadata": {
      "byteLimit": 2048000,
      "rowLimit": 10000
     },
     "inputWidgets": {},
     "nuid": "d0c25f7e-8863-4441-8d87-8ad323c4acfd",
     "showTitle": false,
     "tableResultSettingsMap": {},
     "title": ""
    }
   },
   "source": [
    "## Vista Cubo Power BI "
   ]
  },
  {
   "cell_type": "code",
   "execution_count": 0,
   "metadata": {
    "application/vnd.databricks.v1+cell": {
     "cellMetadata": {
      "byteLimit": 2048000,
      "rowLimit": 10000
     },
     "inputWidgets": {},
     "nuid": "328875d9-d24e-41ad-9b74-8637d00b6159",
     "showTitle": false,
     "tableResultSettingsMap": {},
     "title": ""
    }
   },
   "outputs": [],
   "source": [
    "def procesar_factores(n_SegProy, Mes_Def):\n",
    "    df_factores = pd.DataFrame()  # Inicializar un DataFrame vacío\n",
    "    \n",
    "    for i in range(1, n_SegProy + 1):\n",
    "        # Generar los nombres de los DataFrames dinámicamente\n",
    "        fc = globals()[f'factor_c_{i}']\n",
    "        fm = globals()[f'factor_m_{i}']\n",
    "        \n",
    "        # Añadir la columna SEG_PROYECCION\n",
    "        fc['SEG_PROYECCION'] = i\n",
    "        fc['CODMES_DEF'] = Mes_Def\n",
    "\n",
    "        u3m_c = fc['CODMES'].nlargest(3)\n",
    "        u3m_m = fm['CODMES'].nlargest(3)\n",
    "\n",
    "        # Rellenar los valores nulos en la columna RD_PROY_DEF con los valores de la columna DET_PROY_DEF para los últimos tres meses\n",
    "        fc.loc[fc['CODMES'].isin(u3m_c), 'RD_PROY_DEF'] = fc['DET_PROY_DEF']\n",
    "        fm.loc[fc['CODMES'].isin(u3m_m), 'RD_PROY_DEF'] = fm['DET_PROY_DEF']\n",
    "\n",
    "        # Realizar la unión de los DataFrames\n",
    "        df_resultante = pd.merge(fc, fm, on=\"CODMES\", how=\"inner\", suffixes=('_fc', '_fm'))\n",
    "\n",
    "        print(df_resultante[['CODMES', 'RD_PROY_DEF_fm', 'FAC_CAL_DRI_M']].head())\n",
    "\n",
    "        # Seleccionar las columnas deseadas\n",
    "        df_resultante = df_resultante[['CODMES_DEF','CODMES', 'SEG_PROYECCION', 'RD_PROY_DEF_fm', 'FAC_CAL_DRI_M', 'RD_PROY_DEF_fc', 'FAC_CAL_DRI_N']]\n",
    "\n",
    "        # Reemplazar los valores de factores NaN por 0 y RD por 0.005\n",
    "        df_resultante[['FAC_CAL_DRI_M', 'FAC_CAL_DRI_N']] = df_resultante[['FAC_CAL_DRI_M', 'FAC_CAL_DRI_N']].fillna(0)\n",
    "        df_resultante[['RD_PROY_DEF_fm', 'RD_PROY_DEF_fc']] = df_resultante[['RD_PROY_DEF_fm', 'RD_PROY_DEF_fc']].fillna(0.005)\n",
    "\n",
    "        # Cambiar los nombres de las columnas\n",
    "        df_resultante.rename(columns={'RD_PROY_DEF_fm': 'proyeccion_montos'}, inplace=True)\n",
    "        df_resultante.rename(columns={'FAC_CAL_DRI_M': 'factor_montos'}, inplace=True)\n",
    "        df_resultante.rename(columns={'RD_PROY_DEF_fc': 'proyeccion_cuentas'}, inplace=True)\n",
    "        df_resultante.rename(columns={'FAC_CAL_DRI_N': 'factor_cuentas'}, inplace=True)\n",
    "\n",
    "        # Concatenar el DataFrame resultante al DataFrame final\n",
    "        df_factores = pd.concat([df_factores, df_resultante], ignore_index=True)\n",
    "\n",
    "    return df_factores\n",
    "\n",
    "df_factores = procesar_factores(6, 202505)  # Consolidación de factores y valores"
   ]
  },
  {
   "cell_type": "code",
   "execution_count": 0,
   "metadata": {
    "application/vnd.databricks.v1+cell": {
     "cellMetadata": {
      "byteLimit": 2048000,
      "rowLimit": 10000
     },
     "inputWidgets": {},
     "nuid": "5ac0da8d-7a39-4ef3-ba43-23f2458ab9ec",
     "showTitle": false,
     "tableResultSettingsMap": {},
     "title": ""
    }
   },
   "outputs": [],
   "source": [
    "df_factores = spark.createDataFrame(df_factores) # pandas a pyspark df"
   ]
  },
  {
   "cell_type": "markdown",
   "metadata": {
    "application/vnd.databricks.v1+cell": {
     "cellMetadata": {
      "byteLimit": 2048000,
      "rowLimit": 10000
     },
     "inputWidgets": {},
     "nuid": "89feab39-aa11-407d-8a41-c89eb263e9d4",
     "showTitle": false,
     "tableResultSettingsMap": {},
     "title": ""
    }
   },
   "source": [
    "## Genera Cubo Calibración"
   ]
  },
  {
   "cell_type": "code",
   "execution_count": 0,
   "metadata": {
    "application/vnd.databricks.v1+cell": {
     "cellMetadata": {
      "byteLimit": 2048000,
      "rowLimit": 10000
     },
     "inputWidgets": {},
     "nuid": "0ce89a70-7b15-41f6-ac85-556530d557e6",
     "showTitle": false,
     "tableResultSettingsMap": {},
     "title": ""
    }
   },
   "outputs": [],
   "source": [
    "ruta=f'abfss://bcp-edv-fabseg@adlscu1lhclbackp05.dfs.core.windows.net/seg_bhv/TC/FACTORES_BHV_TC'\n",
    "df_factores.write.format(\"delta\").partitionBy(\"CODMES\").mode(\"overwrite\").save(ruta) "
   ]
  },
  {
   "cell_type": "code",
   "execution_count": 0,
   "metadata": {
    "application/vnd.databricks.v1+cell": {
     "cellMetadata": {
      "byteLimit": 2048000,
      "rowLimit": 10000
     },
     "inputWidgets": {},
     "nuid": "aab0d9d6-d492-428a-a54b-9ec831ac7185",
     "showTitle": false,
     "tableResultSettingsMap": {},
     "title": ""
    }
   },
   "outputs": [],
   "source": [
    "ruta=f'abfss://bcp-edv-fabseg@adlscu1lhclbackp05.dfs.core.windows.net/seg_bhv/TC/FACTORES_BHV_TC'\n",
    "factores_bhv_tc=spark.read.format(\"delta\").load(ruta) \n",
    "factores_bhv_tc.display()"
   ]
  },
  {
   "cell_type": "code",
   "execution_count": 0,
   "metadata": {
    "application/vnd.databricks.v1+cell": {
     "cellMetadata": {
      "byteLimit": 2048000,
      "rowLimit": 10000
     },
     "inputWidgets": {},
     "nuid": "92daae94-75ec-40c5-9709-23717f7c3917",
     "showTitle": false,
     "tableResultSettingsMap": {},
     "title": ""
    }
   },
   "outputs": [],
   "source": [
    "\n",
    "objSeg.base_monitoreo = objSeg.base_monitoreo.withColumn(\"SEG_PROYECCION\",\n",
    "                                                                    \n",
    "                                                                        when(objSeg.base_monitoreo.TIPO_CSEGPRO == \"AF_REV\", 1).\n",
    "                                                                        when(objSeg.base_monitoreo.TIPO_CSEGPRO == \"AF_TRAN\", 2).\n",
    "                                                                        when(objSeg.base_monitoreo.TIPO_CSEGPRO == \"AF_DOR\", 3).\n",
    "                                                                        when(objSeg.base_monitoreo.TIPO_CSEGPRO == \"CO_TRAN\", 4).\n",
    "                                                                        when(objSeg.base_monitoreo.TIPO_CSEGPRO == \"CO_REV\", 5).\n",
    "                                                                        when(objSeg.base_monitoreo.TIPO_CSEGPRO == \"CO_DOR\", 6))                                                                        "
   ]
  },
  {
   "cell_type": "code",
   "execution_count": 0,
   "metadata": {
    "application/vnd.databricks.v1+cell": {
     "cellMetadata": {
      "byteLimit": 2048000,
      "rowLimit": 10000
     },
     "inputWidgets": {},
     "nuid": "74179eff-fb79-430c-82b1-7400f3c01a05",
     "showTitle": false,
     "tableResultSettingsMap": {},
     "title": ""
    }
   },
   "outputs": [],
   "source": [
    "MES_DEF_ACT = codmes_ejecucion\n",
    "default = 12\n",
    "\n",
    "# Función para calcular los meses anteriores\n",
    "def calculate_previous_months(codmes, cant):\n",
    "  numeromes = (codmes // 100) * 12 + (codmes % 100)\n",
    "  return ((numeromes - 1 + cant) // 12) * 100 + ((numeromes + 11 - 11 * cant) % 12) + 1\n",
    "\n",
    "#Calculando meses default\n",
    "codmes_a1 = calculate_previous_months(MES_DEF_ACT, -default+11)\n",
    "codmes_a2 = calculate_previous_months(MES_DEF_ACT, -default+10)\n",
    "codmes_a3 = calculate_previous_months(MES_DEF_ACT, -default+9)\n",
    "codmes_a4 = calculate_previous_months(MES_DEF_ACT, -default+8)\n",
    "codmes_a5 = calculate_previous_months(MES_DEF_ACT, -default+7)\n",
    "codmes_a6 = calculate_previous_months(MES_DEF_ACT, -default+6)\n",
    "codmes_a7 = calculate_previous_months(MES_DEF_ACT, -default+5)\n",
    "codmes_a8 = calculate_previous_months(MES_DEF_ACT, -default+4)\n",
    "codmes_a9 = calculate_previous_months(MES_DEF_ACT, -default+3)\n",
    "codmes_a10 = calculate_previous_months(MES_DEF_ACT, -default+2)\n",
    "codmes_a11 = calculate_previous_months(MES_DEF_ACT, -default+1)\n",
    "codmes_a12 = calculate_previous_months(MES_DEF_ACT, -default)\n",
    "\n",
    "\n"
   ]
  },
  {
   "cell_type": "code",
   "execution_count": 0,
   "metadata": {
    "application/vnd.databricks.v1+cell": {
     "cellMetadata": {
      "byteLimit": 2048000,
      "rowLimit": 10000
     },
     "inputWidgets": {},
     "nuid": "29cdbcc9-7925-4f6a-8495-2b2d4b5719c6",
     "showTitle": false,
     "tableResultSettingsMap": {},
     "title": ""
    }
   },
   "outputs": [],
   "source": [
    "df_t = objSeg.base_monitoreo\n",
    "\n",
    "df_t = df_t.withColumn(\"ULT_RD\", when(col(\"CODMES\") == codmes_a11, col(\"DEF11\"))\n",
    "                                 .when(col(\"CODMES\") == codmes_a10, col(\"DEF10\"))\n",
    "                                 .when(col(\"CODMES\") == codmes_a9, col(\"DEF9\"))\n",
    "                                 .when(col(\"CODMES\") == codmes_a8, col(\"DEF8\"))\n",
    "                                 .when(col(\"CODMES\") == codmes_a7, col(\"DEF7\"))\n",
    "                                 .when(col(\"CODMES\") == codmes_a6, col(\"DEF6\"))\n",
    "                                 .when(col(\"CODMES\") == codmes_a5, col(\"DEF5\"))\n",
    "                                 .when(col(\"CODMES\") == codmes_a4, col(\"DEF4\"))\n",
    "                                 .when(col(\"CODMES\") == codmes_a3, col(\"DEF3\"))\n",
    "                                 .otherwise(0))\n",
    "\n",
    "\n",
    "\n",
    "\n",
    "df_proy = df_t.join(df_factores, (df_t.CODMES == df_factores.CODMES) & (df_t.SEG_PROYECCION == df_factores.SEG_PROYECCION), \"left\")  \n",
    "\n",
    "df_cal01 = df_proy.select(\n",
    "    df_t[\"*\"],\n",
    "    df_factores.factor_montos,\n",
    "    df_factores.factor_cuentas,\n",
    "    (col(\"ULT_RD\") * df_factores.factor_montos).alias(\"def12_proy_factor_m\"),\n",
    "    (col(\"ULT_RD\") * df_factores.factor_cuentas).alias(\"def12_proy_factor_n\"),\n",
    "    df_factores.proyeccion_montos.alias(\"def12_proy_valor_m\"),\n",
    "    df_factores.proyeccion_cuentas.alias(\"def12_proy_valor_n\") \n",
    ") "
   ]
  },
  {
   "cell_type": "code",
   "execution_count": 0,
   "metadata": {
    "application/vnd.databricks.v1+cell": {
     "cellMetadata": {
      "byteLimit": 2048000,
      "rowLimit": 10000
     },
     "inputWidgets": {},
     "nuid": "f72ddcd6-c8ab-4bee-a382-b7cd5c319673",
     "showTitle": false,
     "tableResultSettingsMap": {},
     "title": ""
    }
   },
   "outputs": [],
   "source": [
    "# df_factores.filter(df_factores[\"SEG_PROYECCION\"] == 2 ).display() "
   ]
  },
  {
   "cell_type": "code",
   "execution_count": 0,
   "metadata": {
    "application/vnd.databricks.v1+cell": {
     "cellMetadata": {
      "byteLimit": 2048000,
      "rowLimit": 10000
     },
     "inputWidgets": {},
     "nuid": "a62f27f8-ac10-4240-b730-2efd5cb33a4f",
     "showTitle": false,
     "tableResultSettingsMap": {},
     "title": ""
    }
   },
   "outputs": [],
   "source": [
    "## Añadir flag de los 3 últimos meses en base a la RD6 o en base a los últimos 3 meses\n",
    "df_cal01 = df_cal01.withColumn(\"FLG_U3M_RD6\", when(col(\"CODMES\").between(codmes_a8, codmes_a6), 1).otherwise(0)) \\\n",
    "           .withColumn(\"FLG_U3M\", when(col(\"CODMES\").between(codmes_a4, codmes_a2), 1).otherwise(0)) "
   ]
  },
  {
   "cell_type": "markdown",
   "metadata": {
    "application/vnd.databricks.v1+cell": {
     "cellMetadata": {
      "byteLimit": 2048000,
      "rowLimit": 10000
     },
     "inputWidgets": {},
     "nuid": "12f30320-ee0b-459c-baea-62aac79fcaeb",
     "showTitle": false,
     "tableResultSettingsMap": {},
     "title": ""
    }
   },
   "source": [
    "## Agregando Drivers"
   ]
  },
  {
   "cell_type": "markdown",
   "metadata": {
    "application/vnd.databricks.v1+cell": {
     "cellMetadata": {
      "byteLimit": 2048000,
      "rowLimit": 10000
     },
     "inputWidgets": {},
     "nuid": "4cd9b913-7384-44b6-bbf8-33f3b2bbc91a",
     "showTitle": false,
     "tableResultSettingsMap": {},
     "title": ""
    }
   },
   "source": [
    "## Generando cubo final"
   ]
  },
  {
   "cell_type": "code",
   "execution_count": 0,
   "metadata": {
    "application/vnd.databricks.v1+cell": {
     "cellMetadata": {
      "byteLimit": 2048000,
      "rowLimit": 10000
     },
     "inputWidgets": {},
     "nuid": "0bf54d0d-51df-4807-9074-3a40323fb971",
     "showTitle": false,
     "tableResultSettingsMap": {},
     "title": ""
    }
   },
   "outputs": [],
   "source": [
    "df_cal01.dtypes "
   ]
  },
  {
   "cell_type": "code",
   "execution_count": 0,
   "metadata": {
    "application/vnd.databricks.v1+cell": {
     "cellMetadata": {
      "byteLimit": 2048000,
      "rowLimit": 10000
     },
     "inputWidgets": {},
     "nuid": "9f3ef701-d6f6-401f-acf9-291f1d96cecd",
     "showTitle": false,
     "tableResultSettingsMap": {},
     "title": ""
    }
   },
   "outputs": [],
   "source": [
    "# df_cal01 = df_cal01.withColumn(\"PD_BHV_CEF_4Q23_F\", col(\"PD_BHV_CEF_4Q23_F\").cast(\"float\"))\n",
    "# df_cal01 = df_cal01.fillna({'PD_BHV_CEF_4Q23_F': 0}) "
   ]
  },
  {
   "cell_type": "code",
   "execution_count": 0,
   "metadata": {
    "application/vnd.databricks.v1+cell": {
     "cellMetadata": {
      "byteLimit": 2048000,
      "rowLimit": 10000
     },
     "inputWidgets": {},
     "nuid": "9e11317c-f1d0-4d93-a976-628a2d008325",
     "showTitle": false,
     "tableResultSettingsMap": {},
     "title": ""
    }
   },
   "outputs": [],
   "source": [
    "#ruta=f'abfss://bcp-edv-fabseg@adlscu1lhclbackp05.dfs.core.windows.net/seg_bhv/TC/df_cal01'\n",
    "#df_cal01.write.format(\"delta\").partitionBy(\"CODMES\").mode(\"overwrite\").save(ruta) "
   ]
  },
  {
   "cell_type": "code",
   "execution_count": 0,
   "metadata": {
    "application/vnd.databricks.v1+cell": {
     "cellMetadata": {
      "byteLimit": 2048000,
      "rowLimit": 10000
     },
     "inputWidgets": {},
     "nuid": "1fddb311-3b82-4091-9961-8b6a99352aa0",
     "showTitle": false,
     "tableResultSettingsMap": {},
     "title": ""
    }
   },
   "outputs": [],
   "source": [
    "df.display()"
   ]
  },
  {
   "cell_type": "code",
   "execution_count": 0,
   "metadata": {
    "application/vnd.databricks.v1+cell": {
     "cellMetadata": {
      "byteLimit": 2048000,
      "rowLimit": 10000
     },
     "inputWidgets": {},
     "nuid": "26c6654f-4154-4c38-81ed-d212c61a6377",
     "showTitle": false,
     "tableResultSettingsMap": {},
     "title": ""
    }
   },
   "outputs": [],
   "source": [
    "cubo_principal = df_cal01.groupBy(\n",
    "    \"CODMES\",\n",
    "    \"SEG_PROYECCION\",\n",
    "    \"FLG_U3M_RD6\",\n",
    "    \"FLG_U3M\",\n",
    "    lit(\"TC\")                                                                           .alias(\"PRODUCTO\"),\n",
    "    col(\"SEGMENTO_BANCA_GF\")                                                            .alias(\"EJE_P01\"),\n",
    "    col(\"TIPO_CSEGPRO\")                                                                  .alias(\"EJE_P02\"),\n",
    "    col(\"PRODUCTO\")                                                                      .alias(\"EJE_P03\"),\n",
    "    col(\"FLGPDHCTD2U3M\")                                                                 .alias(\"EJE_P04\"),\n",
    "    col(\"FLGMTOBTSOLMAYOR0\")                                                              .alias(\"EJE_P05\"),\n",
    "    col(\"MARCA_VULNERABLE\")                                                               .alias(\"EJE_S01\"),\n",
    "    col(\"FLG_ATRASO\")                                                                     .alias(\"EJE_S02\"),\n",
    "    col(\"UTILI_LINEA\")                                                                   .alias(\"EJE_S03\"),\n",
    "    col(\"RANGO_INGRESOS\")                                                                  .alias(\"EJE_S04\"),\n",
    "    col(\"RANGO_LINEA_ULT3M\")                                                               .alias(\"EJE_S05\"),\n",
    "    col(\"RCC_TIP_CLAS_RIE_SBS_MAX_U6M\")                                                    .alias(\"EJE_S06\"),\n",
    "    col(\"FLGMTOLINEACREDITOUTILIZADASOLMAY2000\")                                           .alias(\"EJE_S07\"),\n",
    "    col(\"FLG_DEPENDIENTE\")                                                                 .alias(\"EJE_S08\"),\n",
    "    col(\"FLGCEF\")                                                                          .alias(\"EJE_S09\"),\n",
    "    lit(\"\")                                                                      .alias(\"EJE_S10\"),\n",
    "    lit(\"\")                                                                                                  .alias(\"EJE_S11\"),\n",
    "    lit(\"\")                                                                                                 .alias(\"EJE_S12\"),\n",
    "    lit(\"\")                                                                                                 .alias(\"EJE_S13\"),\n",
    "    lit(\"\")                                                                                                 .alias(\"EJE_S14\"),\n",
    "    col(\"RANGO_CODCOSECHA\")                                                                                 .alias(\"EJE_S15\")\n",
    ").agg(\n",
    "\n",
    "    F.sum(lit(1))                                                                                                                       .alias(\"N\"),\n",
    "    F.sum( col(\"PD_BHV_TC_4Q24_F\") )                                                                                                   .alias(\"PD_XN_01\"),\n",
    "    F.sum( col(\"NUMPDBHVCLITCV9CALIBFINAL23Q2\") )                                                                                                   .alias(\"PD_XN_02\"),\n",
    "    F.sum( lit(\"\") )                                                                                                                    .alias(\"PD_XN_03\"),\n",
    "    F.sum( col(\"DEF12\") )                                                                                                               .alias(\"DEF_CERRADO_XN\"),\n",
    "    F.sum( col(\"DEF6\") )                                                                                                                .alias(\"DEF_TEMPRANO_XN\"),\n",
    "    F.sum( col(\"DEF3\") )                                                                                                                .alias(\"DEF_MORA_TEMPRANA_XN\"),\n",
    "    F.sum(when(col(\"CODMES\").between(codmes_a11, codmes_a6), col(\"def12_proy_factor_n\")).otherwise(0) )                                 .alias(\"DEF_PROY_FACTOR_DT_XN\"),\n",
    "    F.sum(when(col(\"CODMES\").between(codmes_a5, codmes_a3), col(\"def12_proy_factor_n\")).otherwise(0) )                                  .alias(\"DEF_PROY_FACTOR_MT_XN\"),\n",
    "    F.sum(when(col(\"CODMES\").between(codmes_a11, codmes_a6), col(\"def12_proy_valor_n\")).otherwise(0))                                   .alias(\"DEF_PROY_VALOR_DT_XN\"),\n",
    "    F.sum(when(col(\"CODMES\").between(codmes_a5, codmes_a3), col(\"def12_proy_valor_n\")).otherwise(0))                                    .alias(\"DEF_PROY_VALOR_MT_XN\"),\n",
    "\n",
    "    F.sum( col(\"EAD\") )                                                                                                   .alias(\"M\"),\n",
    "    F.sum( col(\"PD_BHV_TC_4Q24_F\") * col(\"EAD\") )                                                                        .alias(\"PD_XM_01\"),\n",
    "    F.sum( col(\"NUMPDBHVCLITCV9CALIBFINAL23Q2\") * col(\"EAD\") )                                                           .alias(\"PD_XM_02\"),\n",
    "    F.sum( lit(\"\") )                                                                                                                    .alias(\"PD_XM_03\"),\n",
    "    F.sum( col(\"DEF12\") * col(\"EAD\") )                                                                                    .alias(\"DEF_CERRADO_XM\"),\n",
    "    F.sum( col(\"DEF6\") * col(\"EAD\") )                                                                                     .alias(\"DEF_TEMPRANO_XM\"),\n",
    "    F.sum( col(\"DEF3\") * col(\"EAD\") )                                                                                     .alias(\"DEF_MORA_TEMPRANA_XM\"),\n",
    "    F.sum(when(col(\"CODMES\").between(codmes_a11, codmes_a6), col(\"def12_proy_factor_m\") * col(\"EAD\") ).otherwise(0) )     .alias(\"DEF_PROY_FACTOR_DT_XM\"),\n",
    "    F.sum(when(col(\"CODMES\").between(codmes_a5, codmes_a3), col(\"def12_proy_factor_m\")* col(\"EAD\") ).otherwise(0) )       .alias(\"DEF_PROY_FACTOR_MT_XM\"),\n",
    "    F.sum(when(col(\"CODMES\").between(codmes_a11, codmes_a6), col(\"def12_proy_valor_m\") * col(\"EAD\") ).otherwise(0))       .alias(\"DEF_PROY_VALOR_DT_XM\"),\n",
    "    F.sum(when(col(\"CODMES\").between(codmes_a5, codmes_a3), col(\"def12_proy_valor_m\") * col(\"EAD\") ).otherwise(0))        .alias(\"DEF_PROY_VALOR_MT_XM\")\n",
    "\n",
    ") "
   ]
  },
  {
   "cell_type": "code",
   "execution_count": 0,
   "metadata": {
    "application/vnd.databricks.v1+cell": {
     "cellMetadata": {
      "byteLimit": 2048000,
      "rowLimit": 10000
     },
     "inputWidgets": {},
     "nuid": "a6cac99f-7ed9-4d26-b0a6-f77f16c2ac47",
     "showTitle": false,
     "tableResultSettingsMap": {},
     "title": ""
    }
   },
   "outputs": [],
   "source": [
    "cubo_principal.display()"
   ]
  },
  {
   "cell_type": "code",
   "execution_count": 0,
   "metadata": {
    "application/vnd.databricks.v1+cell": {
     "cellMetadata": {
      "byteLimit": 2048000,
      "rowLimit": 10000
     },
     "inputWidgets": {},
     "nuid": "d091fa6d-387f-4c02-ba50-d57d72c0c48b",
     "showTitle": false,
     "tableResultSettingsMap": {},
     "title": ""
    }
   },
   "outputs": [],
   "source": [
    "# Colocar en nulos valores que estan fuera de tiempo\n",
    "cubo_principal = cubo_principal.withColumn(\"DEF_CERRADO_XN\", when(col(\"CODMES\") >= codmes_a11 ,  lit(None) ).otherwise(col(\"DEF_CERRADO_XN\")))\n",
    "cubo_principal = cubo_principal.withColumn(\"DEF_CERRADO_XM\", when(col(\"CODMES\") >= codmes_a11 ,  lit(None) ).otherwise(col(\"DEF_CERRADO_XM\")))\n",
    "cubo_principal = cubo_principal.withColumn(\"DEF_TEMPRANO_XN\", when(col(\"CODMES\") >= codmes_a5 ,  lit(None) ).otherwise(col(\"DEF_TEMPRANO_XN\")))\n",
    "cubo_principal = cubo_principal.withColumn(\"DEF_TEMPRANO_XM\", when(col(\"CODMES\") >= codmes_a5 ,   lit(None) ).otherwise(col(\"DEF_TEMPRANO_XM\")))\n",
    "cubo_principal = cubo_principal.withColumn(\"DEF_MORA_TEMPRANA_XN\", when(col(\"CODMES\") >= codmes_a2 ,   lit(None) ).otherwise(col(\"DEF_MORA_TEMPRANA_XN\")))\n",
    "cubo_principal = cubo_principal.withColumn(\"DEF_MORA_TEMPRANA_XM\", when(col(\"CODMES\") >= codmes_a2 ,  lit(None) ).otherwise(col(\"DEF_MORA_TEMPRANA_XM\")))\n",
    "\n",
    "cubo_principal = cubo_principal.withColumn(\"DEF_PROY_FACTOR_DT_XN\", when( ( col(\"CODMES\") >= codmes_a5) | ( col(\"CODMES\") <=  codmes_a12),  lit(None) ).otherwise(col(\"DEF_PROY_FACTOR_DT_XN\")))\n",
    "cubo_principal = cubo_principal.withColumn(\"DEF_PROY_VALOR_DT_XN\", when( ( col(\"CODMES\") >= codmes_a5) | ( col(\"CODMES\") <=  codmes_a12),  lit(None) ).otherwise(col(\"DEF_PROY_VALOR_DT_XN\")))\n",
    "cubo_principal = cubo_principal.withColumn(\"DEF_PROY_FACTOR_DT_XM\", when( ( col(\"CODMES\") >= codmes_a5) | ( col(\"CODMES\") <=  codmes_a12) ,  lit(None) ).otherwise(col(\"DEF_PROY_FACTOR_DT_XM\")))\n",
    "cubo_principal = cubo_principal.withColumn(\"DEF_PROY_VALOR_DT_XM\", when( ( col(\"CODMES\") >= codmes_a5) |( col(\"CODMES\") <=  codmes_a12) ,  lit(None) ).otherwise(col(\"DEF_PROY_VALOR_DT_XM\")))\n",
    "\n",
    "cubo_principal = cubo_principal.withColumn(\"DEF_PROY_FACTOR_MT_XN\", when( ( col(\"CODMES\") >= codmes_a2) | ( col(\"CODMES\") <=  codmes_a6),  lit(None) ).otherwise(col(\"DEF_PROY_FACTOR_MT_XN\")))\n",
    "cubo_principal = cubo_principal.withColumn(\"DEF_PROY_VALOR_MT_XN\", when( ( col(\"CODMES\") >= codmes_a2) | ( col(\"CODMES\") <=  codmes_a6),  lit(None) ).otherwise(col(\"DEF_PROY_VALOR_MT_XN\")))\n",
    "cubo_principal = cubo_principal.withColumn(\"DEF_PROY_FACTOR_MT_XM\", when( ( col(\"CODMES\") >= codmes_a2) | ( col(\"CODMES\") <=  codmes_a6) ,  lit(None) ).otherwise(col(\"DEF_PROY_FACTOR_MT_XM\")))\n",
    "cubo_principal = cubo_principal.withColumn(\"DEF_PROY_VALOR_MT_XM\", when( ( col(\"CODMES\") >= codmes_a2) | ( col(\"CODMES\") <=  codmes_a6) ,  lit(None) ).otherwise(col(\"DEF_PROY_VALOR_MT_XM\")))\n"
   ]
  },
  {
   "cell_type": "code",
   "execution_count": 0,
   "metadata": {
    "application/vnd.databricks.v1+cell": {
     "cellMetadata": {
      "byteLimit": 2048000,
      "rowLimit": 10000
     },
     "inputWidgets": {},
     "nuid": "4971204a-369a-45d8-b7b4-5b57a7e1f7ad",
     "showTitle": false,
     "tableResultSettingsMap": {},
     "title": ""
    }
   },
   "outputs": [],
   "source": [
    "def df_to_table( df, tableName ):\n",
    "  \n",
    "  abfs_url = \"abfss://bcp-edv-fabseg@adlscu1lhclbackp05.dfs.core.windows.net\"\n",
    "  finalLocation = abfs_url[:8] + os.path.normpath(f\"{abfs_url[8:]}/seg_bhv/DASHBOARDS/{tableName}\")\n",
    "  schema = \"catalog_lhcl_prod_bcp.bcp_edv_fabseg\"\n",
    "\n",
    "  dropQuery = f\"DROP TABLE IF EXISTS {schema}.{tableName}\"\n",
    "  print(dropQuery)\n",
    "  spark.sql(dropQuery)\n",
    "  dbutils.fs.rm(finalLocation, recurse=True)\n",
    "  \n",
    "  # Creando Tabla\n",
    "  df.createOrReplaceTempView(tableName)\n",
    "  createQuery = f\"\"\"\n",
    "    CREATE TABLE {schema}.{tableName}\n",
    "    LOCATION '{finalLocation}'\n",
    "    AS SELECT * FROM {tableName}\n",
    "  \"\"\"\n",
    "  print(createQuery)\n",
    "  spark.sql(createQuery) "
   ]
  },
  {
   "cell_type": "code",
   "execution_count": 0,
   "metadata": {
    "application/vnd.databricks.v1+cell": {
     "cellMetadata": {
      "byteLimit": 2048000,
      "rowLimit": 10000
     },
     "inputWidgets": {},
     "nuid": "3c759d18-945c-4aa9-9532-4f2c3e550b48",
     "showTitle": false,
     "tableResultSettingsMap": {},
     "title": ""
    }
   },
   "outputs": [],
   "source": [
    "df_to_table(cubo_principal, \"pbi_cubo_behavior_tc\")  "
   ]
  },
  {
   "cell_type": "code",
   "execution_count": 0,
   "metadata": {
    "application/vnd.databricks.v1+cell": {
     "cellMetadata": {
      "byteLimit": 2048000,
      "implicitDf": true,
      "rowLimit": 10000
     },
     "inputWidgets": {},
     "nuid": "1f842e79-ebe8-4749-b53c-08a81f6bb520",
     "showTitle": false,
     "tableResultSettingsMap": {},
     "title": ""
    }
   },
   "outputs": [],
   "source": [
    "%sql\n",
    "SELECT CODMES, PD_XM_01 FROM catalog_lhcl_prod_bcp.bcp_edv_fabseg.pbi_cubo_behavior_tc\n",
    "--WHERE CODMES =202505"
   ]
  },
  {
   "cell_type": "markdown",
   "metadata": {
    "application/vnd.databricks.v1+cell": {
     "cellMetadata": {
      "byteLimit": 2048000,
      "rowLimit": 10000
     },
     "inputWidgets": {},
     "nuid": "1a000dff-795d-4901-acec-aec0de33afd7",
     "showTitle": false,
     "tableResultSettingsMap": {},
     "title": ""
    }
   },
   "source": [
    "# 2. Análisis de Cosechas"
   ]
  },
  {
   "cell_type": "code",
   "execution_count": 0,
   "metadata": {
    "application/vnd.databricks.v1+cell": {
     "cellMetadata": {
      "byteLimit": 2048000,
      "rowLimit": 10000
     },
     "inputWidgets": {},
     "nuid": "592c8131-01ea-4d92-8858-9e0b0b6580c9",
     "showTitle": false,
     "tableResultSettingsMap": {},
     "title": ""
    }
   },
   "outputs": [],
   "source": [
    "ruta=f'abfss://bcp-edv-fabseg@adlscu1lhclbackp05.dfs.core.windows.net/seg_bhv/TC/df_cal01'\n",
    "df_cal01.write.format(\"delta\").option(\"mergeSchema\", \"true\").partitionBy(\"CODMES\").mode(\"overwrite\").save(ruta) "
   ]
  },
  {
   "cell_type": "code",
   "execution_count": 0,
   "metadata": {
    "application/vnd.databricks.v1+cell": {
     "cellMetadata": {
      "byteLimit": 2048000,
      "rowLimit": 10000
     },
     "inputWidgets": {},
     "nuid": "58011b16-244f-4d4f-bd67-a644f46393f1",
     "showTitle": false,
     "tableResultSettingsMap": {},
     "title": ""
    }
   },
   "outputs": [],
   "source": [
    "ruta_df_cal01=f'abfss://bcp-edv-fabseg@adlscu1lhclbackp05.dfs.core.windows.net/seg_bhv/TC/df_cal01'\n",
    "\n",
    "df_cal01=spark.read.format(\"delta\").load(ruta_df_cal01)"
   ]
  },
  {
   "cell_type": "code",
   "execution_count": 0,
   "metadata": {
    "application/vnd.databricks.v1+cell": {
     "cellMetadata": {
      "byteLimit": 2048000,
      "implicitDf": true,
      "rowLimit": 10000
     },
     "inputWidgets": {},
     "nuid": "ebb55c3a-bd50-4589-8761-6bd7d609f007",
     "showTitle": false,
     "tableResultSettingsMap": {
      "0": {
       "dataGridStateBlob": "{\"version\":1,\"tableState\":{\"columnPinning\":{\"left\":[\"#row_number#\"],\"right\":[]},\"columnSizing\":{},\"columnVisibility\":{}},\"settings\":{\"columns\":{}},\"syncTimestamp\":1755552258654}",
       "filterBlob": null,
       "queryPlanFiltersBlob": null,
       "tableResultIndex": 0
      }
     },
     "title": ""
    }
   },
   "outputs": [],
   "source": [
    " df_cal01.display()"
   ]
  },
  {
   "cell_type": "code",
   "execution_count": 0,
   "metadata": {
    "application/vnd.databricks.v1+cell": {
     "cellMetadata": {
      "byteLimit": 2048000,
      "rowLimit": 10000
     },
     "inputWidgets": {},
     "nuid": "9fbf3299-771e-41b0-aafd-7b6f13871b4c",
     "showTitle": false,
     "tableResultSettingsMap": {},
     "title": ""
    }
   },
   "outputs": [],
   "source": [
    "cubo_rf = df_cal01.groupBy(\n",
    "        col(\"CODMES\"),\n",
    "        lit(\"TC\").alias(\"MODELO\"),\n",
    "        col(\"TIPO_CSEGPRO\"),\n",
    "        col(\"SEGMENTO_BANCA_GF\"),\n",
    "        col(\"CODCOSECHA\").alias(\"CODCOSECHA\"),\n",
    "        \n",
    "        when(col(\"codcosecha\") <= 202205, '1. Menor 202205 ')\n",
    "        .when(col(\"codcosecha\").between(202206, 202306), '2. 202206-202306')\n",
    "        .when(col(\"codcosecha\").between(202307, 202404), '3. 202307-202404')\n",
    "        .when(col(\"codcosecha\") >= 202405, '4.Mayor 202405')\n",
    "        .otherwise('99. missing').alias(\"RANGO_CODCOSECHA\"),\n",
    "\n",
    "\n",
    "        when((col(\"codcosecha\").between(201901, 201912)), \"2019\")\n",
    "        .when((col(\"codcosecha\").between(202001, 202003)), \"2020-Q1\")\n",
    "        .when((col(\"codcosecha\").between(202004, 202006)), \"2020-Q2\")\n",
    "        .when((col(\"codcosecha\").between(202007, 202009)), \"2020-Q3\")\n",
    "        .when((col(\"codcosecha\").between(202010, 202012)), \"2020-Q4\")\n",
    "        .when((col(\"codcosecha\").between(202101, 202103)), \"2021-Q1\")\n",
    "        .when((col(\"codcosecha\").between(202104, 202106)), \"2021-Q2\")\n",
    "        .when((col(\"codcosecha\").between(202107, 202109)), \"2021-Q3\")\n",
    "        .when((col(\"codcosecha\").between(202110, 202112)), \"2021-Q4\")\n",
    "        .when((col(\"codcosecha\").between(202201, 202203)), \"2022-Q1\")\n",
    "        .when((col(\"codcosecha\").between(202204, 202206)), \"2022-Q2\")\n",
    "        .when((col(\"codcosecha\").between(202207, 202209)), \"2022-Q3\")\n",
    "        .when((col(\"codcosecha\").between(202210, 202212)), \"2022-Q4\")\n",
    "        .when((col(\"codcosecha\").between(202301, 202303)), \"2023-Q1\")\n",
    "        .when((col(\"codcosecha\").between(202304, 202306)), \"2023-Q2\")\n",
    "        .when((col(\"codcosecha\").between(202307, 202309)), \"2023-Q3\")\n",
    "        .when((col(\"codcosecha\").between(202310, 202312)), \"2023-Q4\")\n",
    "        .when((col(\"codcosecha\").between(202401, 202403)), \"2024-Q1\")\n",
    "        .when((col(\"codcosecha\").between(202404, 202406)), \"2024-Q2\")\n",
    "        .when((col(\"codcosecha\").between(202407, 202409)), \"2024-Q3\")\n",
    "        .when((col(\"codcosecha\").between(202410, 202412)), \"2024-Q4\")\n",
    "        .when((col(\"codcosecha\").between(202501, 202503)), \"2025-Q1\")\n",
    "        .when((col(\"codcosecha\").between(202504, 202506)), \"2025-Q2\")\n",
    "        .otherwise(\"1. Anterior\")\n",
    "        .alias(\"CODCOSECHA_Q\"),\n",
    "\n",
    "        when((col(\"CODMES\").between(202301, 202303)), \"2023-Q1\")\n",
    "        .when((col(\"CODMES\").between(202304, 202306)), \"2023-Q2\")\n",
    "        .when((col(\"CODMES\").between(202307, 202309)), \"2023-Q3\")\n",
    "        .when((col(\"CODMES\").between(202310, 202312)), \"2023-Q4\")\n",
    "        .when((col(\"CODMES\").between(202401, 202403)), \"2024-Q1\")\n",
    "        .when((col(\"CODMES\").between(202404, 202406)), \"2024-Q2\")\n",
    "        .when((col(\"CODMES\").between(202407, 202409)), \"2024-Q3\")\n",
    "        .when((col(\"CODMES\").between(202410, 202412)), \"2024-Q4\")\n",
    "        .when((col(\"CODMES\").between(202501, 202503)), \"2025-Q1\")\n",
    "        .when((col(\"CODMES\").between(202504, 202506)), \"2025-Q2\")\n",
    "        .otherwise(\"1. Anterior\")\n",
    "        .alias(\"CODMES_Q\")\n",
    "        \n",
    "        ).agg(\n",
    "\n",
    "    F.sum(lit(1)).alias(\"N\"),\n",
    "    F.sum( col(\"EAD\") ).alias(\"M\"),\n",
    "\n",
    "    F.sum( col(\"DEF12\") ).alias(\"DEF12_XN\"),\n",
    "    F.sum( col(\"DEF6\") ).alias(\"DEF6_XN\"),\n",
    "     \n",
    "    F.sum( col(\"DEF12\") * col(\"EAD\") ).alias(\"DEF12_XM\"),\n",
    "    F.sum( col(\"DEF6\") * col(\"EAD\") ).alias(\"DEF6_XM\")\n",
    "  \n",
    ") "
   ]
  },
  {
   "cell_type": "code",
   "execution_count": 0,
   "metadata": {
    "application/vnd.databricks.v1+cell": {
     "cellMetadata": {
      "byteLimit": 2048000,
      "rowLimit": 10000
     },
     "inputWidgets": {},
     "nuid": "7e6eb103-1190-45f0-940d-f6721ecc7b6c",
     "showTitle": false,
     "tableResultSettingsMap": {},
     "title": ""
    }
   },
   "outputs": [],
   "source": [
    "cubo_rf = cubo_rf.withColumn(\"DEF12_XN\", when(col(\"CODMES\") >= codmes_a11 ,  lit(None) ).otherwise(col(\"DEF12_XN\")))\n",
    "cubo_rf = cubo_rf.withColumn(\"DEF12_XM\", when(col(\"CODMES\") >= codmes_a11 ,  lit(None) ).otherwise(col(\"DEF12_XM\")))\n",
    "cubo_rf = cubo_rf.withColumn(\"DEF6_XN\", when(col(\"CODMES\") >= codmes_a5 ,  lit(None) ).otherwise(col(\"DEF6_XN\")))\n",
    "cubo_rf = cubo_rf.withColumn(\"DEF6_XM\", when(col(\"CODMES\") >= codmes_a5 ,  lit(None) ).otherwise(col(\"DEF6_XM\")))"
   ]
  },
  {
   "cell_type": "code",
   "execution_count": 0,
   "metadata": {
    "application/vnd.databricks.v1+cell": {
     "cellMetadata": {
      "byteLimit": 2048000,
      "rowLimit": 10000
     },
     "inputWidgets": {},
     "nuid": "6a865790-a36a-46ea-a145-13d037014f0e",
     "showTitle": false,
     "tableResultSettingsMap": {},
     "title": ""
    }
   },
   "outputs": [],
   "source": [
    "df_to_table(cubo_rf, \"pbi_cubo_behavior_tc_rf\")  "
   ]
  },
  {
   "cell_type": "code",
   "execution_count": 0,
   "metadata": {
    "application/vnd.databricks.v1+cell": {
     "cellMetadata": {
      "byteLimit": 2048000,
      "implicitDf": true,
      "rowLimit": 10000
     },
     "inputWidgets": {},
     "nuid": "657cd24c-d3a4-4eb5-aecc-c58edb58ff82",
     "showTitle": false,
     "tableResultSettingsMap": {},
     "title": ""
    }
   },
   "outputs": [],
   "source": [
    "%sql\n",
    "SELECT * FROM catalog_lhcl_prod_bcp.bcp_edv_fabseg.pbi_cubo_behavior_tc_rf\n"
   ]
  }
 ],
 "metadata": {
  "application/vnd.databricks.v1+notebook": {
   "computePreferences": null,
   "dashboards": [],
   "environmentMetadata": {
    "base_environment": "",
    "environment_version": "1"
   },
   "inputWidgetPreferences": null,
   "language": "python",
   "notebookMetadata": {
    "mostRecentlyExecutedCommandWithImplicitDF": {
     "commandId": 6908517745000669,
     "dataframes": [
      "_sqldf"
     ]
    },
    "pythonIndentUnit": 4
   },
   "notebookName": "01_calibración_behavior_tc",
   "widgets": {}
  },
  "language_info": {
   "name": "python"
  }
 },
 "nbformat": 4,
 "nbformat_minor": 0
}
