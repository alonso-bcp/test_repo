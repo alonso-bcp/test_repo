{
 "cells": [
  {
   "cell_type": "code",
   "execution_count": 0,
   "metadata": {
    "application/vnd.databricks.v1+cell": {
     "cellMetadata": {
      "byteLimit": 2048000,
      "rowLimit": 10000
     },
     "inputWidgets": {},
     "nuid": "bd941769-393e-48c9-82af-dab6e45c478d",
     "showTitle": false,
     "tableResultSettingsMap": {},
     "title": ""
    }
   },
   "outputs": [],
   "source": [
    "# Importando módulo de seguimiento\n",
    "import sys\n",
    "import importlib\n",
    "sys.path.append('/Workspace/Users/luisfdiaz@bcp.com.pe/Modulo de Seguimiento/')\n",
    "\n",
    "import SegScore as rmm\n",
    "importlib.reload(rmm)\n",
    "\n",
    "# Librerias y fuciones generales\n",
    "from pyspark.sql.functions import date_format, expr, to_date, date_sub, add_months, col, when, coalesce, trim, broadcast, avg, max, min, lit, concat, window, round as colround, upper, abs as sparkabs,greatest\n",
    "from pyspark.sql import functions as F\n",
    "from pyspark import StorageLevel\n",
    "import numpy as np\n",
    "import seaborn as sns\n",
    "import pandas as pd\n",
    "import matplotlib.pyplot as plt\n",
    "from pyspark.sql.window import Window"
   ]
  },
  {
   "cell_type": "code",
   "execution_count": 0,
   "metadata": {
    "application/vnd.databricks.v1+cell": {
     "cellMetadata": {
      "byteLimit": 2048000,
      "rowLimit": 10000
     },
     "inputWidgets": {},
     "nuid": "b33af7cb-d932-4958-a88d-9a34b17f028d",
     "showTitle": false,
     "tableResultSettingsMap": {},
     "title": ""
    }
   },
   "outputs": [],
   "source": [
    "def rezago_codmes_col(base, rezago_mes):\n",
    "    for i in range(0, rezago_mes + 1, 1):\n",
    "        base = base.withColumn(f\"CODMES_{i}\", date_format(add_months(to_date(concat(col(\"codmes\"), lit(\"01\")), \"yyyyMMdd\"), -i), \"yyyyMM\"))\n",
    "        base = base.withColumn(f\"CODMES_{i}\", col(f\"CODMES_{i}\").cast(\"integer\"))\n",
    "    return base\n",
    "\n",
    "def avance_codmes_col(base, avance_mes):\n",
    "    for l in range(0, avance_mes + 1, 1):\n",
    "        base = base.withColumn(f\"CODMES_F{l}\", date_format(add_months(to_date(concat(col(\"codmes\"), lit(\"01\")), \"yyyyMMdd\"), l), \"yyyyMM\"))\n",
    "        base = base.withColumn(f\"CODMES_F{l}\", col(f\"CODMES_F{l}\").cast(\"integer\"))\n",
    "    return base"
   ]
  },
  {
   "cell_type": "code",
   "execution_count": 0,
   "metadata": {
    "application/vnd.databricks.v1+cell": {
     "cellMetadata": {
      "byteLimit": 2048000,
      "rowLimit": 10000
     },
     "inputWidgets": {},
     "nuid": "5aed7768-7306-44a3-90fe-ff1a1f621e0d",
     "showTitle": false,
     "tableResultSettingsMap": {},
     "title": ""
    }
   },
   "outputs": [],
   "source": [
    "hipo = spark.table('catalog_lhcl_prod_bcp.bcp_edv_fabseg.T39290_univ_pre_driver_app_hip')"
   ]
  },
  {
   "cell_type": "code",
   "execution_count": 0,
   "metadata": {
    "application/vnd.databricks.v1+cell": {
     "cellMetadata": {
      "byteLimit": 2048000,
      "rowLimit": 10000
     },
     "inputWidgets": {},
     "nuid": "95ea7b5f-e2b3-44d8-9299-e8c1b42fed5b",
     "showTitle": false,
     "tableResultSettingsMap": {},
     "title": ""
    }
   },
   "outputs": [],
   "source": [
    "hipo = hipo.withColumn('CODMES', col(\"CODMES\").cast(\"integer\"))"
   ]
  },
  {
   "cell_type": "code",
   "execution_count": 0,
   "metadata": {
    "application/vnd.databricks.v1+cell": {
     "cellMetadata": {
      "byteLimit": 2048000,
      "rowLimit": 10000
     },
     "inputWidgets": {},
     "nuid": "2146b984-0ba1-4d7f-a8ba-b2ec2a8113f9",
     "showTitle": false,
     "tableResultSettingsMap": {},
     "title": ""
    }
   },
   "outputs": [],
   "source": [
    "hipo = rezago_codmes_col(base = hipo, rezago_mes = 12)\n",
    "hipo = avance_codmes_col(base = hipo, avance_mes = 12)"
   ]
  },
  {
   "cell_type": "code",
   "execution_count": 0,
   "metadata": {
    "application/vnd.databricks.v1+cell": {
     "cellMetadata": {
      "byteLimit": 2048000,
      "rowLimit": 10000
     },
     "inputWidgets": {},
     "nuid": "10740e52-36e4-47c0-a2a5-20983652ca4b",
     "showTitle": false,
     "tableResultSettingsMap": {},
     "title": ""
    }
   },
   "outputs": [],
   "source": [
    "hipo.select('CODMES', 'CODMES_2').display()"
   ]
  },
  {
   "cell_type": "code",
   "execution_count": 0,
   "metadata": {
    "application/vnd.databricks.v1+cell": {
     "cellMetadata": {
      "byteLimit": 2048000,
      "rowLimit": 10000
     },
     "inputWidgets": {},
     "nuid": "45bfe320-a9ab-4ccf-b833-f343653d29ab",
     "showTitle": false,
     "tableResultSettingsMap": {},
     "title": ""
    }
   },
   "outputs": [],
   "source": [
    "universo = spark.table('catalog_lhcl_prod_bcp.bcp_edv_fabseg.T39290_BASE_APP_HIP')\n",
    "universo = universo.filter(\"TIPCREDITO NOT IN ('HVIM','HMIM','HSIC','HVIC')\")\n",
    "\n",
    "# Creamos marca de fondeo BCP\n",
    "universo = universo.withColumn(\n",
    "    \"TIPO_FONDEO\",\n",
    "    when(col(\"TIPCREDITO\").isin('TH01','TH02','HICC','RHIP','RREF','HICB','HIFS','HIBS','HIBK','HIPA','HIPD', 'HIPO', 'HIPP', \n",
    "\t\t'HIPT','HIPR', 'HCPO', 'HITR'), \"FONDEO BCP\")\n",
    "    .when(col(\"TIPCREDITO\").isin('GAHI', 'GAHP', 'GAHR', 'GAPC'), \"GAHI\")\n",
    "    .when(col(\"TIPCREDITO\").isin('HITP', 'HMIV', 'HVIV', 'HSIV', 'HBIV'), \"FONDEO MVIV\")\n",
    "    .otherwise(\"OTROS\")\n",
    ")\n",
    "\n",
    "universo = universo.drop(\"FECINGRESOEMPLEADO\", \"FECINGRESOEMPLEADO_F\", \"FECRETIROEMPLEADO\", \"FECRETIROEMPLEADO_F\")"
   ]
  },
  {
   "cell_type": "code",
   "execution_count": 0,
   "metadata": {
    "application/vnd.databricks.v1+cell": {
     "cellMetadata": {
      "byteLimit": 2048000,
      "rowLimit": 10000
     },
     "inputWidgets": {},
     "nuid": "b44214a9-a2fc-4b35-8e5a-68f0816f9e19",
     "showTitle": false,
     "tableResultSettingsMap": {},
     "title": ""
    }
   },
   "outputs": [],
   "source": [
    "!pip install oracledb\n",
    "import oracledb\n",
    "import pandas as pd\n",
    "\n",
    "# Datos de conexión\n",
    "username = \"T39290\"\n",
    "password = \"Bcp1234$\"\n",
    "dsn = \"130.1.22.91:1521/BCPDW3\"\n",
    "\n",
    "# Configuramos la conexión a oracle\n",
    "connection = oracledb.connect(user=username, password=password, dsn=dsn)\n",
    "\n",
    "# Query de extracción\n",
    "query = \"SELECT * FROM ODS_V.MD_EMPLEADO\"\n",
    "\n",
    "chunks = pd.read_sql(query, connection, chunksize=3000)\n",
    "\n",
    "# Unir todos los chunks en un solo DataFrame\n",
    "md_empleado = pd.concat(chunks)\n",
    "\n",
    "# Cerrar la conexión\n",
    "connection.close()\n",
    "\n",
    "# Resumiendo gremio\n",
    "gremio = gremio.fillna(np.nan)\n",
    "gremio = md_empleado.groupby('CODCLAVECIC').agg({ 'FECINGRESOEMPLEADO': 'min', 'FECRETIROEMPLEADO': 'max' }).reset_index()\n",
    "gremio['FECINGRESOEMPLEADO_F'] = gremio['FECINGRESOEMPLEADO'].dt.year * 100 + gremio['FECINGRESOEMPLEADO'].dt.month\n",
    "gremio['FECRETIROEMPLEADO_F'] = gremio['FECRETIROEMPLEADO'].dt.year * 100 + gremio['FECRETIROEMPLEADO'].dt.month\n",
    "\n",
    "gremio = spark.createDataFrame(gremio)"
   ]
  },
  {
   "cell_type": "code",
   "execution_count": 0,
   "metadata": {
    "application/vnd.databricks.v1+cell": {
     "cellMetadata": {
      "byteLimit": 2048000,
      "rowLimit": 10000
     },
     "inputWidgets": {},
     "nuid": "8b068c78-7cce-4502-aa29-89fd306a9f36",
     "showTitle": false,
     "tableResultSettingsMap": {},
     "title": ""
    }
   },
   "outputs": [],
   "source": [
    "universo1 = universo.join(gremio, on=\"CODCLAVECIC\", how='left')\n",
    "universo1 = universo1.withColumn(\n",
    "    \"FLG_GREMIO_F\",\n",
    "    when((col(\"CODMES\")>=col(\"FECINGRESOEMPLEADO_F\")) & ((col(\"CODMES\")<=col(\"FECRETIROEMPLEADO_F\")) | (col(\"FECRETIROEMPLEADO_F\").isNull())), 1)\n",
    "    .otherwise(0)\n",
    ")\n",
    "\n",
    "\n",
    "universo2 = universo1.withColumn(\n",
    "    \"CAMPANIA_AGRUPADA_NEW\", \n",
    "    when(\n",
    "        (col(\"CAMPANIA_AGRUPADA\").isNotNull()) & (col(\"TIPCREDITO\").isin('HTIV','HVIV', 'HVIC', 'HVIM', 'HBIV', 'HBIC','HSIV', 'HSIC', 'HMIV', 'HMIC', 'HMIM', 'HITP')), \n",
    "        \"Ahorro Local\"\n",
    "    ).when(\n",
    "        (col(\"CAMPANIA_AGRUPADA\").isNotNull()) & (col(\"TIPCREDITO\").isin('HCPO', 'HIPA', 'HIPD', 'HIPO', 'HIPP','HIPR', 'HIPT', 'HIBS', 'HIBK', 'HREF', 'RHIP', 'HICC', 'HICB', 'HITR', 'HIFS', 'TH01', 'TH02')), \n",
    "        \"Tradicional\"\n",
    "    ).when(\n",
    "        col(\"TIPCREDITO\").isin('GAHI','GAHP','GAPC'), \n",
    "        \"GAHI\"\n",
    "    ).otherwise(col(\"CAMPANIA_AGRUPADA\"))\n",
    ")\n",
    "\n",
    "universo2 = universo2.filter(\"FLG_GREMIO_F = 0 AND CAMPANIA_AGRUPADA_NEW IN ('Tradicional', 'Pyme')\")"
   ]
  },
  {
   "cell_type": "markdown",
   "metadata": {
    "application/vnd.databricks.v1+cell": {
     "cellMetadata": {},
     "inputWidgets": {},
     "nuid": "0d8b0892-a637-424e-a77a-2b97cea3014a",
     "showTitle": false,
     "tableResultSettingsMap": {},
     "title": ""
    }
   },
   "source": [
    "## Importando variables cloud"
   ]
  },
  {
   "cell_type": "markdown",
   "metadata": {
    "application/vnd.databricks.v1+cell": {
     "cellMetadata": {},
     "inputWidgets": {},
     "nuid": "6beb0ce7-f069-40fb-ac60-bc429824b20f",
     "showTitle": false,
     "tableResultSettingsMap": {},
     "title": ""
    }
   },
   "source": [
    "### Evolución de la utilización promedio de líneas entre 6 y 24 meses"
   ]
  },
  {
   "cell_type": "code",
   "execution_count": 0,
   "metadata": {
    "application/vnd.databricks.v1+cell": {
     "cellMetadata": {},
     "inputWidgets": {},
     "nuid": "15bec569-2770-4fd5-b339-a2637ae3e8e0",
     "showTitle": false,
     "tableResultSettingsMap": {},
     "title": ""
    }
   },
   "outputs": [],
   "source": [
    "hm_matrizdeudorproducto = spark.table('catalog_lhcl_prod_bcp.bcp_ddv_matrizvariables_v.hm_matrizdeudorrccproducto')\n",
    "hm_matrizdeudorproducto = hm_matrizdeudorproducto.select(\"CODCLAVEUNICOCLI\", \"CODMESANALISIS as CODMES\", \"rcc_pct_utl6_utl24_rt_u24\")\n",
    "hm_matrizdeudorproducto = hm_matrizdeudorproducto.dropDuplicates(subset=[\"CODCLAVEUNICOCLI\"])"
   ]
  },
  {
   "cell_type": "markdown",
   "metadata": {
    "application/vnd.databricks.v1+cell": {
     "cellMetadata": {},
     "inputWidgets": {},
     "nuid": "cfca3369-434f-476d-a602-21862126aa17",
     "showTitle": false,
     "tableResultSettingsMap": {},
     "title": ""
    }
   },
   "source": [
    "### Evolución del promedio de deuda no hipotecaria entre 6 y 24 meses"
   ]
  },
  {
   "cell_type": "code",
   "execution_count": 0,
   "metadata": {
    "application/vnd.databricks.v1+cell": {
     "cellMetadata": {},
     "inputWidgets": {},
     "nuid": "84df614b-738d-46fd-b10e-dcc6d75d3ba3",
     "showTitle": false,
     "tableResultSettingsMap": {},
     "title": ""
    }
   },
   "outputs": [],
   "source": [
    "hm_matrizexperienciacliente = spark.table('catalog_lhcl_prod_bcp.bcp_ddv_matrizvariables_v.hm_matrizexperienciacliente')\n",
    "hm_matrizexperienciacliente = hm_matrizdeudorproducto.select(\"CODCLAVEUNICOCLI\", \"CODMES\", \"exp_pct_evol_ship_u6m_rt_u24\")\n",
    "hm_matrizexperienciacliente = hm_matrizexperienciacliente.dropDuplicates(subset=[\"CODCLAVEUNICOCLI\"])"
   ]
  },
  {
   "cell_type": "markdown",
   "metadata": {
    "application/vnd.databricks.v1+cell": {
     "cellMetadata": {},
     "inputWidgets": {},
     "nuid": "c1643f86-7613-4230-901d-239b32e7e47b",
     "showTitle": false,
     "tableResultSettingsMap": {},
     "title": ""
    }
   },
   "source": [
    "### Ratio entre el pasivo mínimo y el pasivo promedio en los últ. 24 meses"
   ]
  },
  {
   "cell_type": "code",
   "execution_count": 0,
   "metadata": {
    "application/vnd.databricks.v1+cell": {
     "cellMetadata": {},
     "inputWidgets": {},
     "nuid": "87e03537-6931-4f7a-ae07-4e1ef494d6fc",
     "showTitle": false,
     "tableResultSettingsMap": {},
     "title": ""
    }
   },
   "outputs": [],
   "source": [
    "hm_matrizresumensaldoactpas = spark.table('catalog_lhcl_prod_bcp.bcp_ddv_matrizvariables_v.hm_matrizresumensaldoactivopasivo')\n",
    "hm_matrizresumensaldoactpas = hm_matrizdeudorproducto.selectExpr(\"CODCLAVEUNICOCLI\", \"CODMESANALISIS as CODMES\", \"PROD_MTO_SLD_PRM_PAS_MIN_24_24_RT_U24 as SLD_PRM_PAS_MIN_24_24_RT_U24\")\n",
    "hm_matrizexperienciacliente = hm_matrizexperienciacliente.dropDuplicates(subset=[\"CODCLAVEUNICOCLI\"])"
   ]
  },
  {
   "cell_type": "code",
   "execution_count": 0,
   "metadata": {
    "application/vnd.databricks.v1+cell": {
     "cellMetadata": {},
     "inputWidgets": {},
     "nuid": "c6c80a86-2f49-443a-9dbd-c013b146693b",
     "showTitle": false,
     "tableResultSettingsMap": {},
     "title": ""
    }
   },
   "outputs": [],
   "source": [
    "universo2 = universo2.dropDuplicates(subset=['CODSOLICITUD'])\n",
    "universo3 = universo2.join(\n",
    "  hm_matrizdeudorproducto,\n",
    "  on=['CODCLAVEUNICOCLI'],\n",
    "  how='left'\n",
    ")\n",
    "\n",
    "universo4 = universo3.join(\n",
    "  hm_matrizexperienciacliente,\n",
    "  on=['CODCLAVEUNICOCLI'],\n",
    "  how='left'\n",
    ")\n",
    "\n",
    "universo5 = universo4.join(\n",
    "  hm_matrizresumensaldoactpas,\n",
    "  on=['CODCLAVEUNICOCLI'],\n",
    "  how='left'\n",
    ")"
   ]
  }
 ],
 "metadata": {
  "application/vnd.databricks.v1+notebook": {
   "computePreferences": null,
   "dashboards": [],
   "environmentMetadata": {
    "base_environment": "",
    "environment_version": "2"
   },
   "inputWidgetPreferences": null,
   "language": "python",
   "notebookMetadata": {
    "pythonIndentUnit": 4
   },
   "notebookName": "Puntuacion_Fondeo_BCP",
   "widgets": {}
  },
  "language_info": {
   "name": "python"
  }
 },
 "nbformat": 4,
 "nbformat_minor": 0
}
