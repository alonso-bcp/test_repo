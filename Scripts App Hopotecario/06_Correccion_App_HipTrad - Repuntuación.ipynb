{
 "cells": [
  {
   "cell_type": "code",
   "execution_count": 0,
   "metadata": {
    "application/vnd.databricks.v1+cell": {
     "cellMetadata": {
      "byteLimit": 2048000,
      "rowLimit": 10000
     },
     "inputWidgets": {},
     "nuid": "1e4c649a-5ddd-428f-aa23-dc981e5f3b59",
     "showTitle": false,
     "tableResultSettingsMap": {},
     "title": ""
    }
   },
   "outputs": [],
   "source": [
    "# Importando módulo de seguimiento\n",
    "import sys\n",
    "import importlib\n",
    "sys.path.append('/Workspace/Users/luisfdiaz@bcp.com.pe/ScoreGuardian')\n",
    "\n",
    "import core.SegScore as rmm\n",
    "importlib.reload(rmm)\n",
    "\n",
    "# Librerias y fuciones generales\n",
    "from pyspark.sql.functions import date_format, expr, to_date, date_sub, add_months, col, when, coalesce, trim, broadcast, avg, max, min, lit, concat, window, round as colround, upper, abs as sparkabs\n",
    "from pyspark.sql import functions as F\n",
    "from pyspark import StorageLevel\n",
    "import numpy as np\n",
    "import seaborn as sns\n",
    "import pandas as pd\n",
    "import matplotlib.pyplot as plt\n",
    "from pyspark.sql.window import Window\n",
    "from pyspark.sql.types import StructType, StructField, StringType\n",
    "\n",
    "#Mostrar los duplicados\n",
    "def print_res(sparkf_df):\n",
    "  import pandas as pd\n",
    "  pd.set_option('display.max_rows', None)\n",
    "  pd.set_option('display.max_columns', None)\n",
    "  pd_spark_df = sparkf_df.toPandas()\n",
    " \n",
    "  return pd_spark_df"
   ]
  },
  {
   "cell_type": "code",
   "execution_count": 0,
   "metadata": {
    "application/vnd.databricks.v1+cell": {
     "cellMetadata": {
      "byteLimit": 2048000,
      "rowLimit": 10000
     },
     "inputWidgets": {},
     "nuid": "d517e8a2-81f7-4b63-993e-1686b77fd3ba",
     "showTitle": false,
     "tableResultSettingsMap": {},
     "title": ""
    }
   },
   "outputs": [],
   "source": [
    "# Importando base y configuraciones iniciales\n",
    "base_seguimiento = spark.sql(\"select distinct * from catalog_lhcl_prod_bcp.bcp_edv_fabseg.t39290_hm_app_hiptrad\")\n",
    "base_seguimiento = base_seguimiento.withColumn(\"CODMES\", col(\"CODMES\").cast(\"integer\"))\n",
    "base_seguimiento = base_seguimiento.withColumn(\"DEF5\", when(col(\"DISTANCIA_DEF24\") <= 5, lit(1)).otherwise(lit(0)))\n",
    "base_seguimiento = base_seguimiento.withColumn(\"DEF4\", when(col(\"DISTANCIA_DEF24\") <= 4, lit(1)).otherwise(lit(0))) \n",
    "\n",
    "base_seguimiento.persist(StorageLevel.MEMORY_AND_DISK).count()\n",
    "\n",
    "# Verificando duplicandos en el segundo Join\n",
    "dup = base_seguimiento.groupBy(\"CODCLAVEOPECTA\", \"CODMES\").count().alias(\"count\").filter(col(\"count\")>1)\n",
    "print_res(dup)"
   ]
  },
  {
   "cell_type": "code",
   "execution_count": 0,
   "metadata": {
    "application/vnd.databricks.v1+cell": {
     "cellMetadata": {
      "byteLimit": 2048000,
      "rowLimit": 10000
     },
     "inputWidgets": {},
     "nuid": "c61c2f78-4af1-4856-9f42-9deacf66df3b",
     "showTitle": false,
     "tableResultSettingsMap": {},
     "title": ""
    }
   },
   "outputs": [],
   "source": [
    "fc = pd.DataFrame([(1, 1), (1, 1), (1, 1)], columns=['CODMES', 'FAC_CAL_DRI_N'])\n",
    "fm = pd.DataFrame([(1, 1), (1, 1), (1, 1)], columns=['CODMES', 'FAC_CAL_DRI_M'])"
   ]
  },
  {
   "cell_type": "code",
   "execution_count": 0,
   "metadata": {
    "application/vnd.databricks.v1+cell": {
     "cellMetadata": {
      "byteLimit": 2048000,
      "rowLimit": 10000
     },
     "inputWidgets": {},
     "nuid": "d3027721-8b65-4d61-989c-696c658413af",
     "showTitle": false,
     "tableResultSettingsMap": {},
     "title": ""
    }
   },
   "outputs": [],
   "source": [
    "base_seguimiento = base_seguimiento.withColumn(\"ACT_HIP\", when(col(\"CODMES\")<202308, \"ANTES\").otherwise(col(\"ACT_HIP\")))\n",
    "# base_seguimiento = base_seguimiento.dropDuplicates(subset=['CODMES', 'CODCLAVEOPECTA'])"
   ]
  },
  {
   "cell_type": "code",
   "execution_count": 0,
   "metadata": {
    "application/vnd.databricks.v1+cell": {
     "cellMetadata": {
      "byteLimit": 2048000,
      "rowLimit": 10000
     },
     "inputWidgets": {},
     "nuid": "3ae0db8c-96f6-4692-8696-ecf98f629cbb",
     "showTitle": false,
     "tableResultSettingsMap": {},
     "title": ""
    }
   },
   "outputs": [],
   "source": [
    "pd_rbm='PD_RBM'\n",
    "pd_ant='PD_BASE_ESPEJO' \n",
    "pd_cal='PD_APP_HIP_TRDPYME_2Q24'\n",
    "pd_trc='XB_ADC_POND85_F'\n",
    "tipo_banda = 'Jeffrey'#Jeffrey Vasiseck\n",
    "codmes_default = 202307\n",
    "columna_monto='MTOAPROBADO_SOLES'\n",
    "titulo='Calibración Applicant App Tradicional'\n",
    "condiciones= \"CODMES >= 201901 AND DEF_120_BLOQ_REF_0 = 0\""
   ]
  },
  {
   "cell_type": "code",
   "execution_count": 0,
   "metadata": {
    "application/vnd.databricks.v1+cell": {
     "cellMetadata": {
      "byteLimit": 2048000,
      "rowLimit": 10000
     },
     "inputWidgets": {},
     "nuid": "27cc83ad-3286-4c8e-be5e-fe75d582b423",
     "showTitle": false,
     "tableResultSettingsMap": {},
     "title": ""
    }
   },
   "outputs": [],
   "source": [
    "# Objeto de Seguimiento\n",
    "Obj_Seg = rmm.MonitorScore(\n",
    "  nombre_modelo         = 'Personas Modelo Applicant Tradicional',\n",
    "  codigo_modelo         = 'MOD-BCP-20658',\n",
    "  tier                  = 'II',\n",
    "  detalle_seguimiento   = 'Seguimiento Applicant Tradicional',\n",
    "  mes_seguimiento       = '202504',\n",
    "  base_monitoreo        = base_seguimiento,\n",
    "  pd1                   = 'PD_APP_HIP_TRDPYME_2Q24',\n",
    "  pd2                   = pd_trc,\n",
    "  monto_credito         = columna_monto,\n",
    "  query_univ            = \"DEF_120_BLOQ_REF_0=0 and codmes >=202201 AND PD_BASE_ESPEJO IS NOT NULL and ACT_HIP IN ('EMISION MEDIO DE PAGO', 'DESEMBOLSO', 'ANTES')\",\n",
    "  bandas                = tipo_banda,\n",
    "  codmes_default        = codmes_default,\n",
    "  meses_ventana_target  = 24,\n",
    "  meses_atraso_target   = 4\n",
    ")"
   ]
  },
  {
   "cell_type": "markdown",
   "metadata": {
    "application/vnd.databricks.v1+cell": {
     "cellMetadata": {
      "byteLimit": 2048000,
      "rowLimit": 10000
     },
     "inputWidgets": {},
     "nuid": "2e1bb051-bf47-400c-a677-d8f558f6a0d0",
     "showTitle": false,
     "tableResultSettingsMap": {},
     "title": ""
    }
   },
   "source": [
    "# Módulo Hipotecario"
   ]
  },
  {
   "cell_type": "markdown",
   "metadata": {
    "application/vnd.databricks.v1+cell": {
     "cellMetadata": {
      "byteLimit": 2048000,
      "rowLimit": 10000
     },
     "inputWidgets": {},
     "nuid": "c30c9280-d6f6-405a-b0cc-14b8862b054f",
     "showTitle": false,
     "tableResultSettingsMap": {},
     "title": ""
    }
   },
   "source": [
    "## LTV Hipotecaria (*)\n",
    "\n",
    "Esta variable tuvo correcciones en DWH y LHCL. Se comentó con el negocio sobre su importancia"
   ]
  },
  {
   "cell_type": "code",
   "execution_count": 0,
   "metadata": {
    "application/vnd.databricks.v1+cell": {
     "cellMetadata": {
      "byteLimit": 2048000,
      "rowLimit": 10000
     },
     "inputWidgets": {},
     "nuid": "6ec62c38-ee67-41ce-8817-b091fa0f1e49",
     "showTitle": false,
     "tableResultSettingsMap": {},
     "title": ""
    }
   },
   "outputs": [],
   "source": [
    "Obj_Seg.base_monitoreo = Obj_Seg.base_monitoreo.withColumn('LTV_CREADA', col('MTOAPROBADO_SOLES')/col('CSOL_ValorComVivienda'))\n",
    "Obj_Seg.base_monitoreo = Obj_Seg.base_monitoreo.withColumn('LTV_SALESFORCE', when(col('CODMES')<=202502, col('LTV_SALESFORCE')).otherwise(col('LTV_CREADA')))"
   ]
  },
  {
   "cell_type": "code",
   "execution_count": 0,
   "metadata": {
    "application/vnd.databricks.v1+cell": {
     "cellMetadata": {
      "byteLimit": 2048000,
      "rowLimit": 10000
     },
     "inputWidgets": {},
     "nuid": "4aeb258c-e986-4b4b-bf39-339131e8c210",
     "showTitle": false,
     "tableResultSettingsMap": {},
     "title": ""
    }
   },
   "outputs": [],
   "source": [
    "Obj_Seg.base_monitoreo = Obj_Seg.base_monitoreo.withColumn(\"LTV_CORREGIDO_VF\", when(col(\"CODMES\") >= 202308,  col(\"NFT_LTV\")).otherwise(col(\"LTV_CORREGIDO_0\")))\n",
    "\n",
    "# Cortamos la variable\n",
    "plazo = Obj_Seg.CutVar(variables=['LTV_CORREGIDO_VF', 'LTV_SUITE'], num_cortes=4, query_corte=\"CODMES BETWEEN 202101 AND 202410 AND DEF_120_BLOQ_REF_0 = 0\")"
   ]
  },
  {
   "cell_type": "code",
   "execution_count": 0,
   "metadata": {
    "application/vnd.databricks.v1+cell": {
     "cellMetadata": {
      "byteLimit": 2048000,
      "rowLimit": 10000
     },
     "inputWidgets": {},
     "nuid": "ce266bc5-1cc8-4453-b82b-7c175a74a557",
     "showTitle": false,
     "tableResultSettingsMap": {},
     "title": ""
    }
   },
   "outputs": [],
   "source": [
    "driver = 'LTV_CORREGIDO_VF_Q'\n",
    "Obj_SegPSI, mix_n, mix_m, psi_c, psi_m = Obj_Seg.MixPSI(\n",
    "  # Selección del driver y filtro de uso\n",
    "  driver             = driver,\n",
    "  query_uso          = 'CODMES >= 202101',\n",
    "  cast_int           = False,\n",
    "\n",
    "  # Ventana de construcción o más antigua\n",
    "  codmes_inicio1     = 202201,\n",
    "  codmes_fin1        = 202312,\n",
    "\n",
    "  # Periodo reciente\n",
    "  codmes_inicio2     = 202401,\n",
    "  codmes_fin2        = 202412,\n",
    "\n",
    "  # Detalles del gráfico\n",
    "  titulo             = driver,\n",
    "  dim_grafico        = (25,6.5),\n",
    "  pos_leyenda        = (0.5, -0.25),\n",
    "  borde              = 0.08,\n",
    "  metrica_secundaria = 'Media'\n",
    ")"
   ]
  },
  {
   "cell_type": "markdown",
   "metadata": {
    "application/vnd.databricks.v1+cell": {
     "cellMetadata": {
      "byteLimit": 2048000,
      "rowLimit": 10000
     },
     "inputWidgets": {},
     "nuid": "0b9ec270-a11d-4fb1-944b-6692b0bc108e",
     "showTitle": false,
     "tableResultSettingsMap": {},
     "title": ""
    }
   },
   "source": [
    "### LTV Suite"
   ]
  },
  {
   "cell_type": "code",
   "execution_count": 0,
   "metadata": {
    "application/vnd.databricks.v1+cell": {
     "cellMetadata": {
      "byteLimit": 2048000,
      "rowLimit": 10000
     },
     "inputWidgets": {},
     "nuid": "4546bab0-3e77-4492-977c-279ce782ab50",
     "showTitle": false,
     "tableResultSettingsMap": {},
     "title": ""
    }
   },
   "outputs": [],
   "source": [
    "driver = 'LTV_SUITE_Q'\n",
    "Obj_SegPSI, mix_n, mix_m, psi_c, psi_m = Obj_Seg.MixPSI(\n",
    "  # Selección del driver y filtro de uso\n",
    "  driver             = driver,\n",
    "  query_uso          = 'CODMES >= 202101',\n",
    "  cast_int           = False,\n",
    "\n",
    "  # Ventana de construcción o más antigua\n",
    "  codmes_inicio1     = 202201,\n",
    "  codmes_fin1        = 202312,\n",
    "\n",
    "  # Periodo reciente\n",
    "  codmes_inicio2     = 202401,\n",
    "  codmes_fin2        = 202412,\n",
    "\n",
    "  # Detalles del gráfico\n",
    "  titulo             = driver,\n",
    "  dim_grafico        = (25,6.5),\n",
    "  pos_leyenda        = (0.5, -0.25),\n",
    "  borde              = 0.08\n",
    ")"
   ]
  },
  {
   "cell_type": "markdown",
   "metadata": {
    "application/vnd.databricks.v1+cell": {
     "cellMetadata": {
      "byteLimit": 2048000,
      "rowLimit": 10000
     },
     "inputWidgets": {},
     "nuid": "2a7684c4-d8ae-41d0-8443-5e5f92928ed5",
     "showTitle": false,
     "tableResultSettingsMap": {},
     "title": ""
    }
   },
   "source": [
    "### Ambas LTV"
   ]
  },
  {
   "cell_type": "code",
   "execution_count": 0,
   "metadata": {
    "application/vnd.databricks.v1+cell": {
     "cellMetadata": {
      "byteLimit": 2048000,
      "rowLimit": 10000
     },
     "inputWidgets": {},
     "nuid": "445d1fb7-11b6-4559-8826-855bafbae6c3",
     "showTitle": false,
     "tableResultSettingsMap": {},
     "title": ""
    }
   },
   "outputs": [],
   "source": [
    "Obj_Seg.base_monitoreo = Obj_Seg.base_monitoreo.withColumn(\n",
    "  'LTV_SUITE_Q',\n",
    "  when((col('LTV_SUITE') >= 0) & (col('LTV_SUITE') <= 0.40), \"0. [0, 40%]\")\n",
    "  .when((col('LTV_SUITE') > 0.4) & (col('LTV_SUITE') <= 0.60), \"1. (40%, 60%]\")\n",
    "  .when((col('LTV_SUITE') > 0.6) & (col('LTV_SUITE') <= 0.70), \"2. (60%, 70%]\")\n",
    "  .when((col('LTV_SUITE') > 0.7) & (col('LTV_SUITE') <= 0.80), \"3. (70%, 80%]\")\n",
    "  .when((col('LTV_SUITE') > 0.8) & (col('LTV_SUITE') <= 0.90), \"4. (80%, 90%]\")\n",
    "  .when((col('LTV_SUITE') > 0.9) & (col('LTV_SUITE') <= 1), \"5. (90%, 100%]\")\n",
    ")\n",
    "\n",
    "Obj_Seg.base_monitoreo = Obj_Seg.base_monitoreo.withColumn(\n",
    "  'LTV_SALESFORCE_Q',\n",
    "  when((col('LTV_CORREGIDO_VF') >= 0) & (col('LTV_CORREGIDO_VF') <= 0.40), \"0. [0, 40%]\")\n",
    "  .when((col('LTV_CORREGIDO_VF') > 0.4) & (col('LTV_CORREGIDO_VF') <= 0.60), \"1. (40%, 60%]\")\n",
    "  .when((col('LTV_CORREGIDO_VF') > 0.6) & (col('LTV_CORREGIDO_VF') <= 0.70), \"2. (60%, 70%]\")\n",
    "  .when((col('LTV_CORREGIDO_VF') > 0.7) & (col('LTV_CORREGIDO_VF') <= 0.80), \"3. (70%, 80%]\")\n",
    "  .when((col('LTV_CORREGIDO_VF') > 0.8) & (col('LTV_CORREGIDO_VF') <= 0.90), \"4. (80%, 90%]\")\n",
    "  .when((col('LTV_CORREGIDO_VF') > 0.9) & (col('LTV_CORREGIDO_VF') <= 1), \"5. (90%, 100%]\")\n",
    ")\n",
    "\n",
    "psi_dri = Obj_Seg.MixPSIVar(\n",
    "  # Parametros de figura individual\n",
    "    query_uso         ='CODMES >= 202011',\n",
    "    cast_int          =True,\n",
    "    codmes_inicio1    =202011,\n",
    "    codmes_fin1       =202204,\n",
    "    codmes_inicio2    =202501,\n",
    "    codmes_fin2       =202504,\n",
    "    dim_grafico       =(25, 6),\n",
    "    pos_leyenda       =(0.5, -0.35),\n",
    " \n",
    "    # Parametros de figura final\n",
    "    tipo_vista        = 'M',\n",
    "    ncolumnas         = 2,\n",
    "    nfilas            = 1,\n",
    "    variables         = ['LTV_SUITE_Q', 'LTV_SALESFORCE_Q'],\n",
    "    dim_grafico_total = (17, 5),\n",
    "    ncol_leyenda      =5,\n",
    "    tamaño_leyenda    = 8.25,\n",
    "    vspacio           =-0.45,\n",
    "    hspacio           =0,\n",
    "    borde             = 0.08\n",
    ")"
   ]
  },
  {
   "cell_type": "code",
   "execution_count": 0,
   "metadata": {
    "application/vnd.databricks.v1+cell": {
     "cellMetadata": {
      "byteLimit": 2048000,
      "rowLimit": 10000
     },
     "inputWidgets": {},
     "nuid": "f4ea4449-2ebe-4ebe-9ccc-46a40c07fed4",
     "showTitle": false,
     "tableResultSettingsMap": {},
     "title": ""
    }
   },
   "outputs": [],
   "source": [
    "caldri, rc_var = Obj_Seg.CalVar(\n",
    "  # Parametros de figura individual\n",
    "  query_uso          = f\"CODMES >= 202207 AND CODMES <= 202307\",\n",
    "  pd_seg             = 'PD_APP_HIP_TRDPYME_2Q24',\n",
    "  rd_aux             = 'RD6',\n",
    "  pd_comparacion     = False,\n",
    "  factores_cuentas   = fc,\n",
    "  factores_montos    = fm,\n",
    "  mat_importancia    = 0,\n",
    "  cast_int           = True,\n",
    "  dim_grafico        = (25, 6),\n",
    "  pos_leyenda        = (0.5, -0.25),\n",
    "  punt_mora          = 50,\n",
    "  proys_def_temp     = 6,\n",
    " \n",
    "  # Parametros de figura final\n",
    "  tipo_vista         = 'M',\n",
    "  ncolumnas          = 2,\n",
    "  nfilas             = 1,\n",
    "  variables          = ['LTV_SUITE_Q', 'LTV_SALESFORCE_Q'],\n",
    "  dim_grafico_total  = (20, 5),\n",
    "  ncol_leyenda       = 5,\n",
    "  etiquetas_total    = True, \n",
    "  pos_etiqueta       = 0.05,\n",
    "  vspacio            = -0.5,\n",
    "  hspacio            = 2,\n",
    "  iv                 = True,\n",
    "  filtro_var         = \"NOT LIKE '%ssing%'\"  \n",
    ")"
   ]
  },
  {
   "cell_type": "markdown",
   "metadata": {
    "application/vnd.databricks.v1+cell": {
     "cellMetadata": {
      "byteLimit": 2048000,
      "rowLimit": 10000
     },
     "inputWidgets": {},
     "nuid": "c8588944-f008-4c0b-a50d-eb7016e46270",
     "showTitle": false,
     "tableResultSettingsMap": {},
     "title": ""
    }
   },
   "source": [
    "## Zona de Riesgo de inmueble (*)\n",
    "\n",
    "En determinado momento se reportó que los datos de esta variable habían cambiado con respecto a lo que originalemente fue modelado. En este apartado se efectua la corrección"
   ]
  },
  {
   "cell_type": "code",
   "execution_count": 0,
   "metadata": {
    "application/vnd.databricks.v1+cell": {
     "cellMetadata": {
      "byteLimit": 2048000,
      "rowLimit": 10000
     },
     "inputWidgets": {},
     "nuid": "98e7e201-32e4-4fe7-a604-8176047ec08c",
     "showTitle": false,
     "tableResultSettingsMap": {},
     "title": ""
    }
   },
   "outputs": [],
   "source": [
    "altos = [\n",
    "      \"ATE-LIMA\", \n",
    "      \"CARABAYLLO-LIMA\", \n",
    "      \"EL AGUSTINO-LIMA\", \n",
    "      \"LURIN-LIMA\", \n",
    "      \"PACHACAMAC-LIMA\",\n",
    "      \"PUENTE PIEDRA-LIMA\", \n",
    "      \"SAN JUAN LURIGANCHO\",\n",
    "      \"SAN JUAN MIRAFLORES\", \n",
    "      \"VILLA EL SALVADOR\", \n",
    "      \"VILLA MARIA TRIUNFO\", \n",
    "      \"ATE-LIMA\", \n",
    "      \"CARABAYLLO-LIMA\"\n",
    "]\n",
    "\n",
    "# Agregar la columna NFT_RIESGO_ZONA con las condiciones especificadas\n",
    "Obj_Seg.base_monitoreo = Obj_Seg.base_monitoreo.withColumn(\n",
    "      \"NFT_RIESGO_ZONA_ST\", \n",
    "      when((col(\"NFT_departamentoinmueble\") == \"CALLAO\") & (col(\"NFT_distritoinmueble\") == \"VENTANILLA-LIMA\"), \"ALTO\")\n",
    "      .when((col(\"NFT_departamentoinmueble\") == \"LIMA\") & (col(\"NFT_distritoinmueble\").isin(altos)), \"ALTO\")\n",
    "      .when((col(\"NFT_departamentoinmueble\").isNull()) | (col(\"NFT_departamentoinmueble\") == \"\") | (col(\"NFT_distritoinmueble\").isNull()) | (col(\"NFT_distritoinmueble\") == \"\"), \"ND\")\n",
    "      .otherwise(\"BAJO\")\n",
    ")"
   ]
  },
  {
   "cell_type": "code",
   "execution_count": 0,
   "metadata": {
    "application/vnd.databricks.v1+cell": {
     "cellMetadata": {
      "byteLimit": 2048000,
      "rowLimit": 10000
     },
     "inputWidgets": {},
     "nuid": "6a9864a8-9d7c-489c-9523-34c5dc8dcf56",
     "showTitle": false,
     "tableResultSettingsMap": {},
     "title": ""
    }
   },
   "outputs": [],
   "source": [
    "Obj_Seg.base_monitoreo = Obj_Seg.base_monitoreo.withColumn(\n",
    "    \"RIESGO_ZONA_ST_DEF\",\n",
    "    when((col(\"ESTADOS_DEPARTAMENTO\") == \"LIMA\") & (col(\"ESTADOS_DISTRITO\") == \"ATE-LIMA\"), \"ALTO\")\n",
    "    .when((col(\"ESTADOS_DEPARTAMENTO\") == \"LIMA\") & (col(\"ESTADOS_DISTRITO\") == \"BARRANCO-LIMA\"), \"BAJO\")\n",
    "    .when((col(\"ESTADOS_DEPARTAMENTO\") == \"LIMA\") & (col(\"ESTADOS_DISTRITO\") == \"BELLAVISTA-LIMA\"), \"BAJO\")\n",
    "    .when((col(\"ESTADOS_DEPARTAMENTO\") == \"LIMA\") & (col(\"ESTADOS_DISTRITO\") == \"BRE�A-LIMA\"), \"BAJO\")\n",
    "    .when((col(\"ESTADOS_DEPARTAMENTO\") == \"LIMA\") & (col(\"ESTADOS_DISTRITO\") == \"CARABAYLLO-LIMA\"), \"ALTO\")\n",
    "    .when((col(\"ESTADOS_DEPARTAMENTO\") == \"LIMA\") & (col(\"ESTADOS_DISTRITO\") == \"LIMA CERCADO-LIMA\"), \"BAJO\")\n",
    "    .when((col(\"ESTADOS_DEPARTAMENTO\") == \"LIMA\") & (col(\"ESTADOS_DISTRITO\") == \"CHACLACAYO-LIMA\"), \"BAJO\")\n",
    "    .when((col(\"ESTADOS_DEPARTAMENTO\") == \"LIMA\") & (col(\"ESTADOS_DISTRITO\") == \"CHORRILLOS-LIMA\"), \"BAJO\")\n",
    "    .when((col(\"ESTADOS_DEPARTAMENTO\") == \"LIMA\") & (col(\"ESTADOS_DISTRITO\") == \"COMAS-LIMA\"), \"BAJO\")\n",
    "    .when((col(\"ESTADOS_DEPARTAMENTO\") == \"LIMA\") & (col(\"ESTADOS_DISTRITO\") == \"EL AGUSTINO-LIMA\"), \"ALTO\")\n",
    "    .when((col(\"ESTADOS_DEPARTAMENTO\") == \"LIMA\") & (col(\"ESTADOS_DISTRITO\") == \"INDEPENDENCIA-LIMA\"), \"BAJO\")\n",
    "    .when((col(\"ESTADOS_DEPARTAMENTO\") == \"LIMA\") & (col(\"ESTADOS_DISTRITO\") == \"JESUS MARIA-LIMA\"), \"BAJO\")\n",
    "    .when((col(\"ESTADOS_DEPARTAMENTO\") == \"LIMA\") & (col(\"ESTADOS_DISTRITO\") == \"LA MOLINA-LIMA\"), \"BAJO\")\n",
    "    .when((col(\"ESTADOS_DEPARTAMENTO\") == \"LIMA\") & (col(\"ESTADOS_DISTRITO\") == \"LA VICTORIA-LIMA\"), \"BAJO\")\n",
    "    .when((col(\"ESTADOS_DEPARTAMENTO\") == \"LIMA\") & (col(\"ESTADOS_DISTRITO\") == \"LINCE-LIMA\"), \"BAJO\")\n",
    "    .when((col(\"ESTADOS_DEPARTAMENTO\") == \"LIMA\") & (col(\"ESTADOS_DISTRITO\") == \"LOS OLIVOS-LIMA\"), \"BAJO\")\n",
    "    .when((col(\"ESTADOS_DEPARTAMENTO\") == \"LIMA\") & (col(\"ESTADOS_DISTRITO\") == \"LURIGANCHO-LIMA\"), \"BAJO\")\n",
    "    .when((col(\"ESTADOS_DEPARTAMENTO\") == \"LIMA\") & (col(\"ESTADOS_DISTRITO\") == \"LURIN-LIMA\"), \"ALTO\")\n",
    "    .when((col(\"ESTADOS_DEPARTAMENTO\") == \"LIMA\") & (col(\"ESTADOS_DISTRITO\") == \"MAGDALENA DEL MAR-LIMA\"), \"BAJO\")\n",
    "    .when((col(\"ESTADOS_DEPARTAMENTO\") == \"LIMA\") & (col(\"ESTADOS_DISTRITO\") == \"MIRAFLORES-LIMA\"), \"BAJO\")\n",
    "    .when((col(\"ESTADOS_DEPARTAMENTO\") == \"LIMA\") & (col(\"ESTADOS_DISTRITO\") == \"PACHACAMAC-LIMA\"), \"ALTO\")\n",
    "    .when((col(\"ESTADOS_DEPARTAMENTO\") == \"LIMA\") & (col(\"ESTADOS_DISTRITO\") == \"PUEBLO LIBRE-LIMA\"), \"BAJO\")\n",
    "    .when((col(\"ESTADOS_DEPARTAMENTO\") == \"LIMA\") & (col(\"ESTADOS_DISTRITO\") == \"PUENTE PIEDRA-LIMA\"), \"BAJO\")\n",
    "    .when((col(\"ESTADOS_DEPARTAMENTO\") == \"LIMA\") & (col(\"ESTADOS_DISTRITO\") == \"RIMAC-LIMA\"), \"BAJO\")\n",
    "    .when((col(\"ESTADOS_DEPARTAMENTO\") == \"LIMA\") & (col(\"ESTADOS_DISTRITO\") == \"SAN BORJA-LIMA\"), \"BAJO\")\n",
    "    .when((col(\"ESTADOS_DEPARTAMENTO\") == \"LIMA\") & (col(\"ESTADOS_DISTRITO\") == \"SAN ISIDRO-LIMA\"), \"BAJO\")\n",
    "    .when((col(\"ESTADOS_DEPARTAMENTO\") == \"LIMA\") & (col(\"ESTADOS_DISTRITO\") == \"SAN JUAN DE LURIGANCHO\"), \"ALTO\")\n",
    "    .when((col(\"ESTADOS_DEPARTAMENTO\") == \"LIMA\") & (col(\"ESTADOS_DISTRITO\") == \"SAN JUAN LURIGANCHO\"), \"ALTO\")\n",
    "    .when((col(\"ESTADOS_DEPARTAMENTO\") == \"LIMA\") & (col(\"ESTADOS_DISTRITO\") == \"SAN JUAN MIRAFLORES\"), \"ALTO\")\n",
    "    .when((col(\"ESTADOS_DEPARTAMENTO\") == \"LIMA\") & (col(\"ESTADOS_DISTRITO\") == \"SAN LUIS-LIMA\"), \"BAJO\")\n",
    "    .when((col(\"ESTADOS_DEPARTAMENTO\") == \"LIMA\") & (col(\"ESTADOS_DISTRITO\") == \"SAN MARTIN DE PORRES\"), \"BAJO\")\n",
    "    .when((col(\"ESTADOS_DEPARTAMENTO\") == \"LIMA\") & (col(\"ESTADOS_DISTRITO\") == \"SANTA ANITA-LIMA\"), \"BAJO\")\n",
    "    .when((col(\"ESTADOS_DEPARTAMENTO\") == \"LIMA\") & (col(\"ESTADOS_DISTRITO\") == \"SURCO-LIMA\"), \"BAJO\")\n",
    "    .when((col(\"ESTADOS_DEPARTAMENTO\") == \"LIMA\") & (col(\"ESTADOS_DISTRITO\") == \"SURQUILLO-LIMA\"), \"BAJO\")\n",
    "    .when((col(\"ESTADOS_DEPARTAMENTO\") == \"LIMA\") & (col(\"ESTADOS_DISTRITO\") == \"VILLA EL SALVADOR\"), \"ALTO\")\n",
    "    .when((col(\"ESTADOS_DEPARTAMENTO\") == \"LIMA\") & (col(\"ESTADOS_DISTRITO\") == \"VILLA MARIA TRIUNFO\"), \"ALTO\")\n",
    "    .when((col(\"ESTADOS_DEPARTAMENTO\") == \"LIMA\") & (col(\"ESTADOS_DISTRITO\") == \"MAGDALENA DEL MAR\"), \"BAJO\")\n",
    "    .when((col(\"ESTADOS_DEPARTAMENTO\") == \"LIMA\") & (col(\"ESTADOS_DISTRITO\") == \"SANTIAGO DE SURCO\"), \"BAJO\")\n",
    "    .when((col(\"ESTADOS_DEPARTAMENTO\") == \"LIMA\") & (col(\"ESTADOS_DISTRITO\") == \"SAN MIGUEL-LIMA\"), \"BAJO\")\n",
    "    .otherwise(col(\"RIESGO_ZONA_ST\"))\n",
    ")"
   ]
  },
  {
   "cell_type": "code",
   "execution_count": 0,
   "metadata": {
    "application/vnd.databricks.v1+cell": {
     "cellMetadata": {
      "byteLimit": 2048000,
      "rowLimit": 10000
     },
     "inputWidgets": {},
     "nuid": "698218fa-78ec-438a-81eb-0bbe9de2cd45",
     "showTitle": false,
     "tableResultSettingsMap": {},
     "title": ""
    }
   },
   "outputs": [],
   "source": [
    "Obj_Seg.base_monitoreo = Obj_Seg.base_monitoreo.withColumn(\"DEF_NFT_RIESGO_ZONA_ST_ST\", when(col(\"CODMES\")>= 202308, col(\"NFT_RIESGO_ZONA_ST\")).otherwise(col(\"RIESGO_ZONA_ST_DEF\")))\n",
    "\n",
    "driver = 'DEF_NFT_RIESGO_ZONA_ST_ST'\n",
    "Obj_SegPSI, mix_n, mix_m, psi_c, psi_m = Obj_Seg.MixPSI(\n",
    "  # Selección del driver y filtro de uso\n",
    "  driver             = driver,\n",
    "  query_uso          = 'CODMES >= 202101',\n",
    "  cast_int           = False,\n",
    "\n",
    "  # Ventana de construcción o más antigua\n",
    "  codmes_inicio1     = 202201,\n",
    "  codmes_fin1        = 202312,\n",
    "\n",
    "  # Periodo reciente\n",
    "  codmes_inicio2     = 202401,\n",
    "  codmes_fin2        = 202412,\n",
    "\n",
    "  # Detalles del gráfico\n",
    "  titulo             = driver,\n",
    "  dim_grafico        = (25,6.5),\n",
    "  pos_leyenda        = (0.5, -0.25),\n",
    "  borde              = 0.08\n",
    ")"
   ]
  },
  {
   "cell_type": "markdown",
   "metadata": {
    "application/vnd.databricks.v1+cell": {
     "cellMetadata": {
      "byteLimit": 2048000,
      "rowLimit": 10000
     },
     "inputWidgets": {},
     "nuid": "4cd9b5b5-a161-433e-a155-0d1447f557a7",
     "showTitle": false,
     "tableResultSettingsMap": {},
     "title": ""
    }
   },
   "source": [
    "## Grupo Plazo (*)\n",
    "\n",
    "Esta variable se encuentra mal trameada en la puntuación y en la construcción de seguimiento. No deben existir plazos mayores a 25 años. En este apartado se efectua la correción"
   ]
  },
  {
   "cell_type": "code",
   "execution_count": 0,
   "metadata": {
    "application/vnd.databricks.v1+cell": {
     "cellMetadata": {
      "byteLimit": 2048000,
      "rowLimit": 10000
     },
     "inputWidgets": {},
     "nuid": "a3031ed7-5db2-44d5-8225-54d999a62e72",
     "showTitle": false,
     "tableResultSettingsMap": {},
     "title": ""
    }
   },
   "outputs": [],
   "source": [
    "# Cortamos la cantidad de plazo aprobaso\n",
    "plazo = Obj_Seg.CutVar(variables=['CTDPLAZOAPROBADO', 'NFT_PLAZO'], num_cortes=4, query_corte=\"CODMES BETWEEN 202101 AND 202410 AND DEF_120_BLOQ_REF_0 = 0\")\n",
    "print('--- Se verfica que no hay plazos mayores a 25 años ---')\n",
    "\n",
    "# Cortando la variabe definitiva de plazo\n",
    "Obj_Seg.base_monitoreo = Obj_Seg.base_monitoreo.withColumn(\"DEF_CTDPLAZOAPROBADO\", when(col(\"CODMES\")>= 202308, col(\"NFT_PLAZO\")).otherwise(col(\"CTDPLAZOAPROBADO\")))\n",
    "plazo = Obj_Seg.CutVar(variables=['DEF_CTDPLAZOAPROBADO'], num_cortes=4, query_corte=\"CODMES BETWEEN 202101 AND 202410 AND DEF_120_BLOQ_REF_0 = 0\")"
   ]
  },
  {
   "cell_type": "code",
   "execution_count": 0,
   "metadata": {
    "application/vnd.databricks.v1+cell": {
     "cellMetadata": {
      "byteLimit": 2048000,
      "rowLimit": 10000
     },
     "inputWidgets": {},
     "nuid": "653dddc0-039f-4a29-96f2-0403ad14fd0a",
     "showTitle": false,
     "tableResultSettingsMap": {},
     "title": ""
    }
   },
   "outputs": [],
   "source": [
    "driver = 'DEF_CTDPLAZOAPROBADO_Q'\n",
    "Obj_SegPSI, mix_n, mix_m, psi_c, psi_m = Obj_Seg.MixPSI(\n",
    "  # Selección del driver y filtro de uso\n",
    "  driver             = driver,\n",
    "  query_uso          = 'CODMES >= 202101',\n",
    "  cast_int           = False,\n",
    "\n",
    "  # Ventana de construcción o más antigua\n",
    "  codmes_inicio1     = 202201,\n",
    "  codmes_fin1        = 202312,\n",
    "\n",
    "  # Periodo reciente\n",
    "  codmes_inicio2     = 202401,\n",
    "  codmes_fin2        = 202412,\n",
    "\n",
    "  # Detalles del gráfico\n",
    "  titulo             = driver,\n",
    "  dim_grafico        = (25,6.5),\n",
    "  pos_leyenda        = (0.5, -0.25),\n",
    "  borde              = 0.08\n",
    ")"
   ]
  },
  {
   "cell_type": "markdown",
   "metadata": {
    "application/vnd.databricks.v1+cell": {
     "cellMetadata": {
      "byteLimit": 2048000,
      "rowLimit": 10000
     },
     "inputWidgets": {},
     "nuid": "91abbc55-f4de-45d3-bdf6-f4958d6cf33d",
     "showTitle": false,
     "tableResultSettingsMap": {},
     "title": ""
    }
   },
   "source": [
    "# Modulo demográfico"
   ]
  },
  {
   "cell_type": "markdown",
   "metadata": {
    "application/vnd.databricks.v1+cell": {
     "cellMetadata": {
      "byteLimit": 2048000,
      "rowLimit": 10000
     },
     "inputWidgets": {},
     "nuid": "87a9285c-4673-4545-9e5f-43112989df84",
     "showTitle": false,
     "tableResultSettingsMap": {},
     "title": ""
    }
   },
   "source": [
    "## Antiguedad Laboral (*)"
   ]
  },
  {
   "cell_type": "code",
   "execution_count": 0,
   "metadata": {
    "application/vnd.databricks.v1+cell": {
     "cellMetadata": {
      "byteLimit": 2048000,
      "rowLimit": 10000
     },
     "inputWidgets": {},
     "nuid": "a6e91eee-07e3-4038-9939-80f9839a0d21",
     "showTitle": false,
     "tableResultSettingsMap": {},
     "title": ""
    }
   },
   "outputs": [],
   "source": [
    "Obj_Seg.base_monitoreo = Obj_Seg.base_monitoreo.withColumn(\"SUITE_AntLaboralMeses_J\", when(col(\"codmes\") <= 202307, col(\"ANT_LABORAL_MESES\").cast(\"double\")).otherwise(col(\"SUITE_AntLaboralMeses\").cast(\"double\")))\n",
    "\n",
    "# Cortamos las variables\n",
    "ant_laboral = Obj_Seg.CutVar(variables=['SUITE_AntLaboralMeses_J'], num_cortes=4, query_corte=\"CODMES BETWEEN 202101 AND 202410 AND DEF_120_BLOQ_REF_0 = 0\")"
   ]
  },
  {
   "cell_type": "code",
   "execution_count": 0,
   "metadata": {
    "application/vnd.databricks.v1+cell": {
     "cellMetadata": {
      "byteLimit": 2048000,
      "rowLimit": 10000
     },
     "inputWidgets": {},
     "nuid": "23dd9468-6234-4733-8931-ac21f729e82b",
     "showTitle": false,
     "tableResultSettingsMap": {},
     "title": ""
    }
   },
   "outputs": [],
   "source": [
    "driver = 'SUITE_AntLaboralMeses_J_Q'\n",
    "Obj_SegPSI, mix_n, mix_m, psi_c, psi_m = Obj_Seg.MixPSI(\n",
    "  # Selección del driver y filtro de uso\n",
    "  driver             = driver,\n",
    "  query_uso          = 'CODMES >= 202101',\n",
    "  cast_int           = False,\n",
    "\n",
    "  # Ventana de construcción o más antigua\n",
    "  codmes_inicio1     = 202201,\n",
    "  codmes_fin1        = 202312,\n",
    "\n",
    "  # Periodo reciente\n",
    "  codmes_inicio2     = 202401,\n",
    "  codmes_fin2        = 202412,\n",
    "\n",
    "  # Detalles del gráfico\n",
    "  titulo             = driver,\n",
    "  dim_grafico        = (25,6.5),\n",
    "  pos_leyenda        = (0.5, -0.25),\n",
    "  borde              = 0.08\n",
    ")"
   ]
  },
  {
   "cell_type": "markdown",
   "metadata": {
    "application/vnd.databricks.v1+cell": {
     "cellMetadata": {
      "byteLimit": 2048000,
      "rowLimit": 10000
     },
     "inputWidgets": {},
     "nuid": "d1f50560-afbb-450b-8f30-bbbadb12f33b",
     "showTitle": false,
     "tableResultSettingsMap": {},
     "title": ""
    }
   },
   "source": [
    "## Categoria de Zona (*)"
   ]
  },
  {
   "cell_type": "code",
   "execution_count": 0,
   "metadata": {
    "application/vnd.databricks.v1+cell": {
     "cellMetadata": {
      "byteLimit": 2048000,
      "rowLimit": 10000
     },
     "inputWidgets": {},
     "nuid": "61052a80-de0d-4404-b1f8-76034f6a1f9c",
     "showTitle": false,
     "tableResultSettingsMap": {},
     "title": ""
    }
   },
   "outputs": [],
   "source": [
    "Obj_Seg.base_monitoreo = Obj_Seg.base_monitoreo.withColumn(\"CAT_ZONA\", \n",
    "                   when(col(\"CAT_ZONA1\").isNull(), \"99. Missing\")\n",
    "                   .when(col(\"CAT_ZONA1\").contains(\"LIMA\"), \"Lima\")\n",
    "                   .otherwise(\"Provincia\"))\n",
    "\n",
    "Obj_Seg.base_monitoreo = Obj_Seg.base_monitoreo.withColumn(\n",
    "    \"SUITE_CAT_ZONA_J\", \n",
    "    when(col(\"codmes\") <= 202307, col(\"CAT_ZONA\")).otherwise(col(\"SUITE_CAT_ZONA\"))\n",
    ")"
   ]
  },
  {
   "cell_type": "code",
   "execution_count": 0,
   "metadata": {
    "application/vnd.databricks.v1+cell": {
     "cellMetadata": {
      "byteLimit": 2048000,
      "rowLimit": 10000
     },
     "inputWidgets": {},
     "nuid": "d8ca19f8-d668-4513-8707-c57b8f584d12",
     "showTitle": false,
     "tableResultSettingsMap": {},
     "title": ""
    }
   },
   "outputs": [],
   "source": [
    "driver = 'SUITE_CAT_ZONA_J'\n",
    "Obj_SegPSI, mix_n, mix_m, psi_c, psi_m = Obj_Seg.MixPSI(\n",
    "  # Selección del driver y filtro de uso\n",
    "  driver             = driver,\n",
    "  query_uso          = 'CODMES >= 202101',\n",
    "  cast_int           = False,\n",
    "\n",
    "  # Ventana de construcción o más antigua\n",
    "  codmes_inicio1     = 202201,\n",
    "  codmes_fin1        = 202312,\n",
    "\n",
    "  # Periodo reciente\n",
    "  codmes_inicio2     = 202401,\n",
    "  codmes_fin2        = 202412,\n",
    "\n",
    "  # Detalles del gráfico\n",
    "  titulo             = driver,\n",
    "  dim_grafico        = (25,6.5),\n",
    "  pos_leyenda        = (0.5, -0.25),\n",
    "  borde              = 0.08\n",
    ")"
   ]
  },
  {
   "cell_type": "markdown",
   "metadata": {
    "application/vnd.databricks.v1+cell": {
     "cellMetadata": {
      "byteLimit": 2048000,
      "rowLimit": 10000
     },
     "inputWidgets": {},
     "nuid": "848e7823-ca5a-4b53-998b-a25d987039d4",
     "showTitle": false,
     "tableResultSettingsMap": {},
     "title": ""
    }
   },
   "source": [
    "## Actividad Económica del empleador (*)"
   ]
  },
  {
   "cell_type": "code",
   "execution_count": 0,
   "metadata": {
    "application/vnd.databricks.v1+cell": {
     "cellMetadata": {
      "byteLimit": 2048000,
      "rowLimit": 10000
     },
     "inputWidgets": {},
     "nuid": "1363c912-dbae-42e6-bb04-156dc4e170c4",
     "showTitle": false,
     "tableResultSettingsMap": {},
     "title": ""
    }
   },
   "outputs": [],
   "source": [
    "Obj_Seg.base_monitoreo = Obj_Seg.base_monitoreo.withColumn(\"DEF_CIIU_DEF\", when(col(\"CODMES\")>202307, col(\"NFT_CIIU_DEF\")).otherwise(col(\"ANT_CIIU_DEF\")))\n",
    "Obj_Seg.base_monitoreo = Obj_Seg.base_monitoreo.withColumn(\"DEF_ID_CIIU\", when(col(\"CODMES\")>202307, col(\"NFT_ID_CIIU\")).otherwise(col(\"ANT_ID_CIIU\")))"
   ]
  },
  {
   "cell_type": "code",
   "execution_count": 0,
   "metadata": {
    "application/vnd.databricks.v1+cell": {
     "cellMetadata": {
      "byteLimit": 2048000,
      "rowLimit": 10000
     },
     "inputWidgets": {},
     "nuid": "8d3a2b40-bcda-4b01-aeaf-697ff9b56b7f",
     "showTitle": false,
     "tableResultSettingsMap": {},
     "title": ""
    }
   },
   "outputs": [],
   "source": [
    "Obj_Seg.base_monitoreo = Obj_Seg.base_monitoreo.withColumn(\"SECTOR_ECONOMICO\",\n",
    "    when(col(\"DEF_CIIU_DEF\").isin(1, 2, 3), \"PRIMARIO\")\n",
    "    .when(col(\"DEF_CIIU_DEF\").isin(4, 5, 6), \"SECUNDARIO\")\n",
    "    .when(col(\"DEF_CIIU_DEF\").isin(7, 8, 9, 10, 11, 12, 13), \"TERCIARIO\")\n",
    ")"
   ]
  },
  {
   "cell_type": "code",
   "execution_count": 0,
   "metadata": {
    "application/vnd.databricks.v1+cell": {
     "cellMetadata": {
      "byteLimit": 2048000,
      "rowLimit": 10000
     },
     "inputWidgets": {},
     "nuid": "9bd1a161-ed66-4335-adac-318bb1d240e5",
     "showTitle": false,
     "tableResultSettingsMap": {},
     "title": ""
    }
   },
   "outputs": [],
   "source": [
    "Obj_Seg.base_monitoreo = Obj_Seg.base_monitoreo.withColumn(\"SECTOR_ECONOMICO\",\n",
    "    when(col(\"NFT_CIIU_DEF\").isin(1, 2, 3), \"PRIMARIO\")\n",
    "    .when(col(\"NFT_CIIU_DEF\").isin(4, 5, 6), \"SECUNDARIO\")\n",
    "    .when(col(\"NFT_CIIU_DEF\").isin(7, 8, 9, 10, 11, 12, 13), \"TERCIARIO\")\n",
    ")"
   ]
  },
  {
   "cell_type": "code",
   "execution_count": 0,
   "metadata": {
    "application/vnd.databricks.v1+cell": {
     "cellMetadata": {
      "byteLimit": 2048000,
      "rowLimit": 10000
     },
     "inputWidgets": {},
     "nuid": "c03411cd-e664-47a4-b8d3-d508b0273588",
     "showTitle": false,
     "tableResultSettingsMap": {},
     "title": ""
    }
   },
   "outputs": [],
   "source": [
    "driver = 'SECTOR_ECONOMICO'\n",
    "Obj_SegPSI, mix_n, mix_m, psi_c, psi_m = Obj_Seg.MixPSI(\n",
    "  # Selección del driver y filtro de uso\n",
    "  driver             = driver,\n",
    "  query_uso          = 'CODMES >= 202101',\n",
    "  cast_int           = False,\n",
    "\n",
    "  # Ventana de construcción o más antigua\n",
    "  codmes_inicio1     = 202201,\n",
    "  codmes_fin1        = 202312,\n",
    "\n",
    "  # Periodo reciente\n",
    "  codmes_inicio2     = 202401,\n",
    "  codmes_fin2        = 202412,\n",
    "\n",
    "  # Detalles del gráfico\n",
    "  titulo             = driver,\n",
    "  dim_grafico        = (25,6.5),\n",
    "  pos_leyenda        = (0.5, -0.25),\n",
    "  borde              = 0.08\n",
    ")"
   ]
  },
  {
   "cell_type": "code",
   "execution_count": 0,
   "metadata": {
    "application/vnd.databricks.v1+cell": {
     "cellMetadata": {
      "byteLimit": 2048000,
      "rowLimit": 10000
     },
     "inputWidgets": {},
     "nuid": "4ffe613d-915f-4c29-adda-7a78265d3119",
     "showTitle": false,
     "tableResultSettingsMap": {},
     "title": ""
    }
   },
   "outputs": [],
   "source": [
    "driver = 'NFT_ID_CIIU'\n",
    "Obj_SegPSI, mix_n, mix_m, psi_c, psi_m = Obj_Seg.MixPSI(\n",
    "  # Selección del driver y filtro de uso\n",
    "  driver             = driver,\n",
    "  query_uso          = 'CODMES >= 202101',\n",
    "  cast_int           = False,\n",
    "\n",
    "  # Ventana de construcción o más antigua\n",
    "  codmes_inicio1     = 202201,\n",
    "  codmes_fin1        = 202312,\n",
    "\n",
    "  # Periodo reciente\n",
    "  codmes_inicio2     = 202401,\n",
    "  codmes_fin2        = 202412,\n",
    "\n",
    "  # Detalles del gráfico\n",
    "  titulo             = driver,\n",
    "  dim_grafico        = (30,7),\n",
    "  pos_leyenda        = (0.5, -0.4),\n",
    "  borde              = 0.08\n",
    ")"
   ]
  },
  {
   "cell_type": "code",
   "execution_count": 0,
   "metadata": {
    "application/vnd.databricks.v1+cell": {
     "cellMetadata": {
      "byteLimit": 2048000,
      "rowLimit": 10000
     },
     "inputWidgets": {},
     "nuid": "990ea779-9ea2-48c8-8ee0-b8d9c494a907",
     "showTitle": false,
     "tableResultSettingsMap": {},
     "title": ""
    }
   },
   "outputs": [],
   "source": [
    "caldri_veh_app, rc_dri, rm_dri = Obj_Seg.CalDri(\n",
    "  driver             = 'NFT_ID_CIIU',\n",
    "  query_uso          = f\"CODMES >= 202110 AND CODMES <= 202304 AND CODMES NOT IN (202304)\",\n",
    "  pd_seg             = 'PD_APP_HIP_TRDPYME_2Q24',\n",
    "  rd_aux             = 'RD12',\n",
    "  pd_comparacion     = False,\n",
    "  factores_cuentas   = fc,\n",
    "  factores_montos    = fm,\n",
    "  mat_importancia    = 5,\n",
    "  cast_int           = True, \n",
    "  proys_def_temp     = 3,\n",
    "  titulo             = f'NFT_ID_CIIU',\n",
    "  dim_grafico        = (35, 6.5),\n",
    "  etiquetas          = True,\n",
    "  pos_etiquetas_xc   = [10, 10, 10, 10, 10, 10, 10, 10, 10],\n",
    "  pos_etiquetas_xm   = [10, 10, 10, 10, 10, 10, 10, 10, 10, 10],\n",
    "  pos_leyenda        = (0.5, -0.2),\n",
    "  punt_mora          = 100,\n",
    "  iv = True\n",
    ")"
   ]
  },
  {
   "cell_type": "code",
   "execution_count": 0,
   "metadata": {
    "application/vnd.databricks.v1+cell": {
     "cellMetadata": {
      "byteLimit": 2048000,
      "rowLimit": 10000
     },
     "inputWidgets": {},
     "nuid": "1a459a6f-5baa-4491-a678-8dfbf8c06438",
     "showTitle": false,
     "tableResultSettingsMap": {},
     "title": ""
    }
   },
   "outputs": [],
   "source": [
    "rc_dri"
   ]
  },
  {
   "cell_type": "markdown",
   "metadata": {
    "application/vnd.databricks.v1+cell": {
     "cellMetadata": {
      "byteLimit": 2048000,
      "rowLimit": 10000
     },
     "inputWidgets": {},
     "nuid": "2c906128-96db-45e2-bd5d-95a31c7862a1",
     "showTitle": false,
     "tableResultSettingsMap": {},
     "title": ""
    }
   },
   "source": [
    "## Edad"
   ]
  },
  {
   "cell_type": "code",
   "execution_count": 0,
   "metadata": {
    "application/vnd.databricks.v1+cell": {
     "cellMetadata": {
      "byteLimit": 2048000,
      "rowLimit": 10000
     },
     "inputWidgets": {},
     "nuid": "94043938-ba70-49ee-8342-9c939d968272",
     "showTitle": false,
     "tableResultSettingsMap": {},
     "title": ""
    }
   },
   "outputs": [],
   "source": [
    "Obj_Seg.base_monitoreo = Obj_Seg.base_monitoreo.withColumn(\n",
    "    \"SUITE_Edad_J\", \n",
    "    when(col(\"codmes\") <= 202307, col(\"EDAD\")).otherwise(col(\"SUITE_Edad\"))\n",
    ")\n",
    "\n",
    "# Cortamos las variables\n",
    "ant_laboral = Obj_Seg.CutVar(variables=['SUITE_Edad_J'], num_cortes=4, query_corte=\"CODMES BETWEEN 202101 AND 202410 AND DEF_120_BLOQ_REF_0 = 0\")"
   ]
  },
  {
   "cell_type": "code",
   "execution_count": 0,
   "metadata": {
    "application/vnd.databricks.v1+cell": {
     "cellMetadata": {
      "byteLimit": 2048000,
      "rowLimit": 10000
     },
     "inputWidgets": {},
     "nuid": "39b35984-190b-4068-a26e-706d1ca5a561",
     "showTitle": false,
     "tableResultSettingsMap": {},
     "title": ""
    }
   },
   "outputs": [],
   "source": [
    "driver = 'SUITE_Edad_J_Q'\n",
    "Obj_SegPSI, mix_n, mix_m, psi_c, psi_m = Obj_Seg.MixPSI(\n",
    "  # Selección del driver y filtro de uso\n",
    "  driver             = driver,\n",
    "  query_uso          = 'CODMES >= 202101',\n",
    "  cast_int           = False,\n",
    "\n",
    "  # Ventana de construcción o más antigua\n",
    "  codmes_inicio1     = 202201,\n",
    "  codmes_fin1        = 202312,\n",
    "\n",
    "  # Periodo reciente\n",
    "  codmes_inicio2     = 202401,\n",
    "  codmes_fin2        = 202412,\n",
    "\n",
    "  # Detalles del gráfico\n",
    "  titulo             = driver,\n",
    "  dim_grafico        = (25,6.5),\n",
    "  pos_leyenda        = (0.5, -0.3),\n",
    "  borde              = 0.08\n",
    ")"
   ]
  },
  {
   "cell_type": "markdown",
   "metadata": {
    "application/vnd.databricks.v1+cell": {
     "cellMetadata": {
      "byteLimit": 2048000,
      "rowLimit": 10000
     },
     "inputWidgets": {},
     "nuid": "e4c97083-8fed-49f0-b2d6-aab3acca72cf",
     "showTitle": false,
     "tableResultSettingsMap": {},
     "title": ""
    }
   },
   "source": [
    "## Estado civil (*)"
   ]
  },
  {
   "cell_type": "code",
   "execution_count": 0,
   "metadata": {
    "application/vnd.databricks.v1+cell": {
     "cellMetadata": {
      "byteLimit": 2048000,
      "rowLimit": 10000
     },
     "inputWidgets": {},
     "nuid": "97624deb-70c9-442b-9d08-2e343761a905",
     "showTitle": false,
     "tableResultSettingsMap": {},
     "title": ""
    }
   },
   "outputs": [],
   "source": [
    "Obj_Seg.base_monitoreo = Obj_Seg.base_monitoreo.withColumn(\n",
    "    \"SUITE_Estcivil_J\", \n",
    "    when(col(\"codmes\") <= 202307, col(\"EST_CIV\")).otherwise(col(\"SUITE_Estcivil\"))\n",
    ")"
   ]
  },
  {
   "cell_type": "code",
   "execution_count": 0,
   "metadata": {
    "application/vnd.databricks.v1+cell": {
     "cellMetadata": {
      "byteLimit": 2048000,
      "rowLimit": 10000
     },
     "inputWidgets": {},
     "nuid": "38ffc7f6-188f-4df0-b749-480933e801c4",
     "showTitle": false,
     "tableResultSettingsMap": {},
     "title": ""
    }
   },
   "outputs": [],
   "source": [
    "driver = 'SUITE_Estcivil_J'\n",
    "Obj_SegPSI, mix_n, mix_m, psi_c, psi_m = Obj_Seg.MixPSI(\n",
    "  # Selección del driver y filtro de uso\n",
    "  driver             = driver,\n",
    "  query_uso          = 'CODMES >= 202101',\n",
    "  cast_int           = False,\n",
    "\n",
    "  # Ventana de construcción o más antigua\n",
    "  codmes_inicio1     = 202201,\n",
    "  codmes_fin1        = 202312,\n",
    "\n",
    "  # Periodo reciente\n",
    "  codmes_inicio2     = 202401,\n",
    "  codmes_fin2        = 202412,\n",
    "\n",
    "  # Detalles del gráfico\n",
    "  titulo             = driver,\n",
    "  dim_grafico        = (25,6.5),\n",
    "  pos_leyenda        = (0.5, -0.3),\n",
    "  borde              = 0.08\n",
    ")"
   ]
  },
  {
   "cell_type": "markdown",
   "metadata": {
    "application/vnd.databricks.v1+cell": {
     "cellMetadata": {
      "byteLimit": 2048000,
      "rowLimit": 10000
     },
     "inputWidgets": {},
     "nuid": "44c9dc92-0d42-4010-a9ed-0bb5dfc87cb1",
     "showTitle": false,
     "tableResultSettingsMap": {},
     "title": ""
    }
   },
   "source": [
    "## Cluster Vehicular"
   ]
  },
  {
   "cell_type": "code",
   "execution_count": 0,
   "metadata": {
    "application/vnd.databricks.v1+cell": {
     "cellMetadata": {
      "byteLimit": 2048000,
      "rowLimit": 10000
     },
     "inputWidgets": {},
     "nuid": "ab5e2869-4c41-4639-9ce4-d73c5a24ef4a",
     "showTitle": false,
     "tableResultSettingsMap": {},
     "title": ""
    }
   },
   "outputs": [],
   "source": [
    "# Cortamos las variables\n",
    "ant_laboral = Obj_Seg.CutVar(variables=['CL_VEH_MEAN_st'], num_cortes=4, query_corte=\"CODMES BETWEEN 202101 AND 202410 AND DEF_120_BLOQ_REF_0 = 0\")"
   ]
  },
  {
   "cell_type": "code",
   "execution_count": 0,
   "metadata": {
    "application/vnd.databricks.v1+cell": {
     "cellMetadata": {
      "byteLimit": 2048000,
      "rowLimit": 10000
     },
     "inputWidgets": {},
     "nuid": "d5707f5e-6b6c-4a7d-888f-07afae519137",
     "showTitle": false,
     "tableResultSettingsMap": {},
     "title": ""
    }
   },
   "outputs": [],
   "source": [
    "from pyspark.sql.functions import exp\n",
    "\n",
    "# Revertimos la transformación de ODD a PD:\n",
    "Obj_Seg.base_monitoreo = Obj_Seg.base_monitoreo.withColumn( \n",
    "  \"CLU_RIESGO_VEH_PD\", \n",
    "  1 / (1 + exp(-col(\"CL_VEH_MEAN_ST\")))\n",
    ")\n",
    "\n",
    "# Hacemos los cortes de PD Cluster para agrupar los distintos cluster\n",
    "Obj_Seg.base_monitoreo = Obj_Seg.base_monitoreo.withColumn(\n",
    "  \"CLU_RIESGO_VEH\",\n",
    "  when(col(\"CLU_RIESGO_VEH_PD\") ==\t0.45289041446465306, '5. Cluster <=.')\n",
    "  .when(col(\"CLU_RIESGO_VEH_PD\") ==\t0.4528904144528834, '5. Cluster <=.')\n",
    "  .when(col(\"CLU_RIESGO_VEH_PD\") < \t0.2252013058, '1. Cluster <=4')\n",
    "  .when(col(\"CLU_RIESGO_VEH_PD\") < \t0.3114250996, '2. Cluster <=6')\n",
    "  .when(col(\"CLU_RIESGO_VEH_PD\") < \t0.4668103722, '3. Cluster <=8')\n",
    "  .when(col(\"CLU_RIESGO_VEH_PD\") < \t0.5282556825, '4. Cluster <=9')\n",
    ")"
   ]
  },
  {
   "cell_type": "code",
   "execution_count": 0,
   "metadata": {
    "application/vnd.databricks.v1+cell": {
     "cellMetadata": {
      "byteLimit": 2048000,
      "rowLimit": 10000
     },
     "inputWidgets": {},
     "nuid": "109bd442-fef7-42dc-8fdf-5b3d6bd6a267",
     "showTitle": false,
     "tableResultSettingsMap": {},
     "title": ""
    }
   },
   "outputs": [],
   "source": [
    "driver = 'CLU_RIESGO_VEH'\n",
    "Obj_SegPSI, mix_n, mix_m, psi_c, psi_m = Obj_Seg.MixPSI(\n",
    "  # Selección del driver y filtro de uso\n",
    "  driver             = driver,\n",
    "  query_uso          = 'CODMES >= 202101',\n",
    "  cast_int           = False,\n",
    "\n",
    "  # Ventana de construcción o más antigua\n",
    "  codmes_inicio1     = 202201,\n",
    "  codmes_fin1        = 202312,\n",
    "\n",
    "  # Periodo reciente\n",
    "  codmes_inicio2     = 202401,\n",
    "  codmes_fin2        = 202412,\n",
    "\n",
    "  # Detalles del gráfico\n",
    "  titulo             = driver,\n",
    "  dim_grafico        = (25,6.5),\n",
    "  pos_leyenda        = (0.5, -0.3),\n",
    "  borde              = 0.08\n",
    ")"
   ]
  },
  {
   "cell_type": "markdown",
   "metadata": {
    "application/vnd.databricks.v1+cell": {
     "cellMetadata": {
      "byteLimit": 2048000,
      "rowLimit": 10000
     },
     "inputWidgets": {},
     "nuid": "c58b8178-4cac-496b-855c-001ba4c29b8b",
     "showTitle": false,
     "tableResultSettingsMap": {},
     "title": ""
    }
   },
   "source": [
    "## Número de hijos"
   ]
  },
  {
   "cell_type": "code",
   "execution_count": 0,
   "metadata": {
    "application/vnd.databricks.v1+cell": {
     "cellMetadata": {
      "byteLimit": 2048000,
      "rowLimit": 10000
     },
     "inputWidgets": {},
     "nuid": "9d609040-8077-4f0e-b02b-74a8a998efdf",
     "showTitle": false,
     "tableResultSettingsMap": {},
     "title": ""
    }
   },
   "outputs": [],
   "source": [
    "# Cortamos las variables\n",
    "Obj_Seg.base_monitoreo = Obj_Seg.base_monitoreo.withColumn(\n",
    "    \"NUMHIJOS1\",\n",
    "    col(\"NUMHIJOS1\").cast('int')\n",
    ")\n",
    "ant_laboral = Obj_Seg.CutVar(variables=['NUMHIJOS1'], num_cortes=4, query_corte=\"CODMES BETWEEN 202101 AND 202410 AND DEF_120_BLOQ_REF_0 = 0\")"
   ]
  },
  {
   "cell_type": "code",
   "execution_count": 0,
   "metadata": {
    "application/vnd.databricks.v1+cell": {
     "cellMetadata": {
      "byteLimit": 2048000,
      "rowLimit": 10000
     },
     "inputWidgets": {},
     "nuid": "38346934-f0c2-4bfe-bb0b-28487ef1b0bc",
     "showTitle": false,
     "tableResultSettingsMap": {},
     "title": ""
    }
   },
   "outputs": [],
   "source": [
    "driver = 'NUMHIJOS1_Q'\n",
    "Obj_SegPSI, mix_n, mix_m, psi_c, psi_m = Obj_Seg.MixPSI(\n",
    "  # Selección del driver y filtro de uso\n",
    "  driver             = driver,\n",
    "  query_uso          = 'CODMES >= 202101',\n",
    "  cast_int           = False,\n",
    "\n",
    "  # Ventana de construcción o más antigua\n",
    "  codmes_inicio1     = 202201,\n",
    "  codmes_fin1        = 202312,\n",
    "\n",
    "  # Periodo reciente\n",
    "  codmes_inicio2     = 202401,\n",
    "  codmes_fin2        = 202412,\n",
    "\n",
    "  # Detalles del gráfico\n",
    "  titulo             = driver,\n",
    "  dim_grafico        = (25,6.5),\n",
    "  pos_leyenda        = (0.5, -0.3),\n",
    "  borde              = 0.08\n",
    ")"
   ]
  },
  {
   "cell_type": "markdown",
   "metadata": {
    "application/vnd.databricks.v1+cell": {
     "cellMetadata": {
      "byteLimit": 2048000,
      "rowLimit": 10000
     },
     "inputWidgets": {},
     "nuid": "73bd195b-94e3-4df9-83c1-0d6a4748f000",
     "showTitle": false,
     "tableResultSettingsMap": {},
     "title": ""
    }
   },
   "source": [
    "## Ingreso cascada"
   ]
  },
  {
   "cell_type": "code",
   "execution_count": 0,
   "metadata": {
    "application/vnd.databricks.v1+cell": {
     "cellMetadata": {
      "byteLimit": 2048000,
      "rowLimit": 10000
     },
     "inputWidgets": {},
     "nuid": "63f033e8-78a6-42b7-81aa-f6cd32d9ea18",
     "showTitle": false,
     "tableResultSettingsMap": {},
     "title": ""
    }
   },
   "outputs": [],
   "source": [
    "ant_laboral = Obj_Seg.CutVar(variables=['NFT_IngresoTitular'], num_cortes=4, query_corte=\"CODMES BETWEEN 202101 AND 202410 AND DEF_120_BLOQ_REF_0 = 0\")"
   ]
  },
  {
   "cell_type": "code",
   "execution_count": 0,
   "metadata": {
    "application/vnd.databricks.v1+cell": {
     "cellMetadata": {
      "byteLimit": 2048000,
      "rowLimit": 10000
     },
     "inputWidgets": {},
     "nuid": "d91cf91b-9d24-4a63-92e2-1f11178e2500",
     "showTitle": false,
     "tableResultSettingsMap": {},
     "title": ""
    }
   },
   "outputs": [],
   "source": [
    "Obj_Seg.base_monitoreo = Obj_Seg.base_monitoreo.withColumn(\n",
    "    \"DEF_ING_TIT\", \n",
    "    when(col(\"codmes\") <= 202307, col(\"ESTADOS_INGRESO_TITULAR\")).otherwise(col(\"NFT_IngresoTitular\"))\n",
    ")\n",
    "ant_laboral = Obj_Seg.CutVar(variables=['DEF_ING_TIT'], num_cortes=4, query_corte=\"CODMES BETWEEN 202101 AND 202410 AND DEF_120_BLOQ_REF_0 = 0\")"
   ]
  },
  {
   "cell_type": "code",
   "execution_count": 0,
   "metadata": {
    "application/vnd.databricks.v1+cell": {
     "cellMetadata": {
      "byteLimit": 2048000,
      "rowLimit": 10000
     },
     "inputWidgets": {},
     "nuid": "435adedd-52c7-422c-a47c-280022b828ea",
     "showTitle": false,
     "tableResultSettingsMap": {},
     "title": ""
    }
   },
   "outputs": [],
   "source": [
    "driver = 'DEF_ING_TIT_Q'\n",
    "Obj_SegPSI, mix_n, mix_m, psi_c, psi_m = Obj_Seg.MixPSI(\n",
    "  # Selección del driver y filtro de uso\n",
    "  driver             = driver,\n",
    "  query_uso          = 'CODMES >= 202101',\n",
    "  cast_int           = False,\n",
    "\n",
    "  # Ventana de construcción o más antigua\n",
    "  codmes_inicio1     = 202201,\n",
    "  codmes_fin1        = 202312,\n",
    "\n",
    "  # Periodo reciente\n",
    "  codmes_inicio2     = 202401,\n",
    "  codmes_fin2        = 202412,\n",
    "\n",
    "  # Detalles del gráfico\n",
    "  titulo             = driver,\n",
    "  dim_grafico        = (25,6.5),\n",
    "  pos_leyenda        = (0.5, -0.3),\n",
    "  borde              = 0.08\n",
    ")"
   ]
  },
  {
   "cell_type": "code",
   "execution_count": 0,
   "metadata": {
    "application/vnd.databricks.v1+cell": {
     "cellMetadata": {
      "byteLimit": 2048000,
      "rowLimit": 10000
     },
     "inputWidgets": {},
     "nuid": "17793b51-7470-4f77-b7fd-a1b8fb878d03",
     "showTitle": false,
     "tableResultSettingsMap": {},
     "title": ""
    }
   },
   "outputs": [],
   "source": [
    "Obj_Seg.base_monitoreo = Obj_Seg.base_monitoreo.withColumn(\n",
    "    \"DEF_ING_CONY\", \n",
    "    when(col(\"codmes\") <= 202307, col(\"ESTADOS_INGRESO_CONYUGE\")).otherwise(col(\"NFT_IngresoConyuge\"))\n",
    ")\n",
    "ant_laboral = Obj_Seg.CutVar(variables=['DEF_ING_CONY'], num_cortes=4, query_corte=\"CODMES BETWEEN 202101 AND 202410 AND DEF_120_BLOQ_REF_0 = 0\")"
   ]
  },
  {
   "cell_type": "code",
   "execution_count": 0,
   "metadata": {
    "application/vnd.databricks.v1+cell": {
     "cellMetadata": {
      "byteLimit": 2048000,
      "rowLimit": 10000
     },
     "inputWidgets": {},
     "nuid": "8a501aea-fdda-4f2a-a4c3-a499c4479658",
     "showTitle": false,
     "tableResultSettingsMap": {},
     "title": ""
    }
   },
   "outputs": [],
   "source": [
    "driver = 'DEF_ING_CONY_Q'\n",
    "Obj_SegPSI, mix_n, mix_m, psi_c, psi_m = Obj_Seg.MixPSI(\n",
    "  # Selección del driver y filtro de uso\n",
    "  driver             = driver,\n",
    "  query_uso          = 'CODMES >= 202101',\n",
    "  cast_int           = False,\n",
    "\n",
    "  # Ventana de construcción o más antigua\n",
    "  codmes_inicio1     = 202201,\n",
    "  codmes_fin1        = 202312,\n",
    "\n",
    "  # Periodo reciente\n",
    "  codmes_inicio2     = 202401,\n",
    "  codmes_fin2        = 202412,\n",
    "\n",
    "  # Detalles del gráfico\n",
    "  titulo             = driver,\n",
    "  dim_grafico        = (25,6.5),\n",
    "  pos_leyenda        = (0.5, -0.3),\n",
    "  borde              = 0.08\n",
    ")"
   ]
  },
  {
   "cell_type": "markdown",
   "metadata": {
    "application/vnd.databricks.v1+cell": {
     "cellMetadata": {
      "byteLimit": 2048000,
      "rowLimit": 10000
     },
     "inputWidgets": {},
     "nuid": "4dae3103-69ce-4a10-a946-1986057a82bb",
     "showTitle": false,
     "tableResultSettingsMap": {},
     "title": ""
    }
   },
   "source": [
    "# Repuntuación"
   ]
  },
  {
   "cell_type": "markdown",
   "metadata": {
    "application/vnd.databricks.v1+cell": {
     "cellMetadata": {
      "byteLimit": 2048000,
      "rowLimit": 10000
     },
     "inputWidgets": {},
     "nuid": "80b506b2-80cf-4e33-a0da-656b38df48f0",
     "showTitle": false,
     "tableResultSettingsMap": {},
     "title": ""
    }
   },
   "source": [
    "## Modulo Hipotecario"
   ]
  },
  {
   "cell_type": "code",
   "execution_count": 0,
   "metadata": {
    "application/vnd.databricks.v1+cell": {
     "cellMetadata": {
      "byteLimit": 2048000,
      "rowLimit": 10000
     },
     "inputWidgets": {},
     "nuid": "a2e44a02-b8d4-4e2c-95aa-34ba5989990e",
     "showTitle": false,
     "tableResultSettingsMap": {},
     "title": ""
    }
   },
   "outputs": [],
   "source": [
    "\n",
    "from pyspark.sql.functions import log10\n",
    "\n",
    "dummy_list = [1111111111, -1111111111, 2222222222, -2222222222, 3333333333, -3333333333, 4444444444, 5555555555, 6666666666, 7777777777, 99999]\n",
    "\n",
    "#--------------------------------#\n",
    "#-------- LTV SALESFORCE --------#\n",
    "#--------------------------------#\n",
    "\n",
    "Obj_Seg.base_monitoreo = Obj_Seg.base_monitoreo.withColumn(\n",
    "    \"LTV_1_REP_SALESFORCE\",\n",
    "    when(\n",
    "        (col(\"LTV_CORREGIDO_VF\") < 0.64288253401604) & (~col(\"LTV_CORREGIDO_VF\").isin(dummy_list)),\n",
    "        lit(0.64288253401604)\n",
    "    ).when(\n",
    "        (col(\"LTV_CORREGIDO_VF\") > 0.95) & (~col(\"LTV_CORREGIDO_VF\").isin(dummy_list)),\n",
    "        lit(0.95)\n",
    "    ).otherwise(col(\"LTV_CORREGIDO_VF\"))\n",
    ")\n",
    "\n",
    "threshold = 0.66449996056493\n",
    "multiplier = 7.42270169852774\n",
    "offset = -3.5025279917365\n",
    "default_value = -4.82009495731347\n",
    "\n",
    "Obj_Seg.base_monitoreo = Obj_Seg.base_monitoreo.withColumn(\n",
    "    \"LTV_1_D2_REP_SALESFORCE\",\n",
    "    when(~col(\"LTV_1_REP_SALESFORCE\").isin(dummy_list),\n",
    "    when(col(\"LTV_1_REP_SALESFORCE\") >= threshold, log10(col(\"LTV_1_REP_SALESFORCE\")) * multiplier + offset).otherwise(default_value))\n",
    "    .otherwise(None)\n",
    ")\n",
    "\n",
    "# Constantes\n",
    "default_value = -4.71505889542265\n",
    "upper_limit = 5.30330490805907\n",
    "lower_limit = -5.30330490805907\n",
    "\n",
    "# Aplicar condiciones\n",
    "Obj_Seg.base_monitoreo = Obj_Seg.base_monitoreo.withColumn(\n",
    "    \"LTV_1_D2_REP_SALESFORCE\",\n",
    "    when(col(\"LTV_1_REP_SALESFORCE\").isNull(), default_value)  # Si LTV_1 es nulo\n",
    "    .otherwise(col(\"LTV_1_D2_REP_SALESFORCE\"))  # Mantener el valor actual si no es nulo\n",
    ")\n",
    "\n",
    "# Limitar el rango de LTV_1_D2\n",
    "Obj_Seg.base_monitoreo = Obj_Seg.base_monitoreo.withColumn(\n",
    "    \"LTV_1_D2_REP__SALESFORCE\",\n",
    "    when(col(\"LTV_1_D2_REP_SALESFORCE\") > upper_limit, upper_limit)\n",
    "    .when(col(\"LTV_1_D2_REP_SALESFORCE\") < lower_limit, lower_limit)\n",
    "    .otherwise(col(\"LTV_1_D2_REP_SALESFORCE\"))\n",
    ")\n",
    "\n",
    "\n",
    "#---------------------------#\n",
    "#-------- LTV SUITE --------#\n",
    "#---------------------------#\n",
    "\n",
    "Obj_Seg.base_monitoreo = Obj_Seg.base_monitoreo.withColumn(\n",
    "    \"LTV_1_REP_SUITE\",\n",
    "    when(\n",
    "        (col(\"LTV_SUITE\") < 0.64288253401604) & (~col(\"LTV_SUITE\").isin(dummy_list)),\n",
    "        lit(0.64288253401604)\n",
    "    ).when(\n",
    "        (col(\"LTV_SUITE\") > 0.95) & (~col(\"LTV_SUITE\").isin(dummy_list)),\n",
    "        lit(0.95)\n",
    "    ).otherwise(col(\"LTV_SUITE\"))\n",
    ")\n",
    "\n",
    "threshold = 0.66449996056493\n",
    "multiplier = 7.42270169852774\n",
    "offset = -3.5025279917365\n",
    "default_value = -4.82009495731347\n",
    "\n",
    "Obj_Seg.base_monitoreo = Obj_Seg.base_monitoreo.withColumn(\n",
    "    \"LTV_1_D2_REP_SUITE\",\n",
    "    when(~col(\"LTV_1_REP_SUITE\").isin(dummy_list),\n",
    "    when(col(\"LTV_1_REP_SUITE\") >= threshold, log10(col(\"LTV_1_REP_SUITE\")) * multiplier + offset).otherwise(default_value))\n",
    "    .otherwise(None)\n",
    ")\n",
    "\n",
    "# Constantes\n",
    "default_value = -4.71505889542265\n",
    "upper_limit = 5.30330490805907\n",
    "lower_limit = -5.30330490805907\n",
    "\n",
    "# Aplicar condiciones\n",
    "Obj_Seg.base_monitoreo = Obj_Seg.base_monitoreo.withColumn(\n",
    "    \"LTV_1_D2_REP_SUITE\",\n",
    "    when(col(\"LTV_1_REP_SUITE\").isNull(), default_value)  # Si LTV_1 es nulo\n",
    "    .otherwise(col(\"LTV_1_D2_REP_SUITE\"))  # Mantener el valor actual si no es nulo\n",
    ")\n",
    "\n",
    "# Limitar el rango de LTV_1_D2\n",
    "Obj_Seg.base_monitoreo = Obj_Seg.base_monitoreo.withColumn(\n",
    "    \"LTV_1_D2_REP_SUITE\",\n",
    "    when(col(\"LTV_1_D2_REP_SUITE\") > upper_limit, upper_limit)\n",
    "    .when(col(\"LTV_1_D2_REP_SUITE\") < lower_limit, lower_limit)\n",
    "    .otherwise(col(\"LTV_1_D2_REP_SUITE\"))\n",
    ")\n",
    "\n",
    "#-----------------------------#\n",
    "#-------- RIESGO ZONA --------#\n",
    "#-----------------------------#\n",
    "\n",
    "\n",
    "Obj_Seg.base_monitoreo = Obj_Seg.base_monitoreo.withColumn(\n",
    "    \"RIESGO_ZONA_ST_ST_REP\",\n",
    "    when(col(\"DEF_NFT_RIESGO_ZONA_ST_ST\") == \"ALTO\", -4.62497281328427)\n",
    "    .when(col(\"DEF_NFT_RIESGO_ZONA_ST_ST\") == \"BAJO\", -5.21697172709408)\n",
    "    .when(col(\"DEF_NFT_RIESGO_ZONA_ST_ST\") == \"ND\", -4.61470207761345)\n",
    "    .otherwise(None)  # Puedes cambiar esto si quieres un valor por defecto distinto\n",
    ")\n",
    "\n",
    "#--------------------------------#\n",
    "#-------- PLAZO APROBADO --------#\n",
    "#--------------------------------#\n",
    "\n",
    "Obj_Seg.base_monitoreo = Obj_Seg.base_monitoreo.withColumn(\n",
    "    \"GRUPO_PLAZO_REP\",\n",
    "    when((col(\"DEF_CTDPLAZOAPROBADO\") >= 1) & (col(\"DEF_CTDPLAZOAPROBADO\") < 5), 1)\n",
    "    .when((col(\"DEF_CTDPLAZOAPROBADO\") >= 5) & (col(\"DEF_CTDPLAZOAPROBADO\") < 10), 2)\n",
    "    .when((col(\"DEF_CTDPLAZOAPROBADO\") >= 10) & (col(\"DEF_CTDPLAZOAPROBADO\") < 15), 3)\n",
    "    .when((col(\"DEF_CTDPLAZOAPROBADO\") >= 15) & (col(\"DEF_CTDPLAZOAPROBADO\") < 20), 4)\n",
    "    .when((col(\"DEF_CTDPLAZOAPROBADO\") >= 20) & (col(\"DEF_CTDPLAZOAPROBADO\") < 25), 5)\n",
    "    .when((col(\"DEF_CTDPLAZOAPROBADO\") >= 25) & (col(\"DEF_CTDPLAZOAPROBADO\") < 30), 6)\n",
    "    .when((col(\"DEF_CTDPLAZOAPROBADO\") >= 30) & (col(\"DEF_CTDPLAZOAPROBADO\") < 35), 7)\n",
    "    .when((col(\"DEF_CTDPLAZOAPROBADO\") >= 35) | (col(\"DEF_CTDPLAZOAPROBADO\").isNull()), 8)\n",
    "    .otherwise(None)\n",
    ")\n",
    "\n",
    "Obj_Seg.base_monitoreo = Obj_Seg.base_monitoreo.withColumn(\n",
    "    \"GRUPO_PLAZO_st_REP\",\n",
    "    when(col(\"GRUPO_PLAZO_REP\") == 1, -6.0734)\n",
    "    .when(col(\"GRUPO_PLAZO_REP\") == 2, -5.7347)\n",
    "    .when(col(\"GRUPO_PLAZO_REP\") == 3, -5.396)\n",
    "    .when(col(\"GRUPO_PLAZO_REP\") == 4, -4.89429858043284)\n",
    "    .when(col(\"GRUPO_PLAZO_REP\") == 5, -4.62790967295758)\n",
    "    .when(col(\"GRUPO_PLAZO_REP\") == 6, -4.3727734291934)\n",
    "    .when(col(\"GRUPO_PLAZO_REP\") == 7, -4.0674)\n",
    "    .when(col(\"GRUPO_PLAZO_REP\") == 8, -3.8159)\n",
    "    .otherwise(None)  # Puedes ajustar esto si deseas un valor por defecto distinto\n",
    ")"
   ]
  },
  {
   "cell_type": "code",
   "execution_count": 0,
   "metadata": {
    "application/vnd.databricks.v1+cell": {
     "cellMetadata": {
      "byteLimit": 2048000,
      "rowLimit": 10000
     },
     "inputWidgets": {},
     "nuid": "67295142-a6c6-4c22-8086-827af8073beb",
     "showTitle": false,
     "tableResultSettingsMap": {},
     "title": ""
    }
   },
   "outputs": [],
   "source": [
    "Obj_Seg.base_monitoreo = Obj_Seg.base_monitoreo.withColumn(\n",
    "    \"XB_HIP_REP_SALESFORCE\",\n",
    "    16.1771\n",
    "    + 1.4716 * col(\"LTV_1_D2_REP_SALESFORCE\")\n",
    "    + 0.9372 * col(\"GRUPO_PLAZO_st_REP\")\n",
    "    + 1.1548 * col(\"RIESGO_ZONA_ST_ST_REP\")\n",
    ")\n",
    "\n",
    "Obj_Seg.base_monitoreo = Obj_Seg.base_monitoreo.withColumn(\n",
    "    \"XB_HIP_REP_SUITE\",\n",
    "    16.1771\n",
    "    + 1.4716 * col(\"LTV_1_D2_REP_SUITE\")\n",
    "    + 0.9372 * col(\"GRUPO_PLAZO_st_REP\")\n",
    "    + 1.1548 * col(\"RIESGO_ZONA_ST_ST_REP\")\n",
    ")"
   ]
  },
  {
   "cell_type": "markdown",
   "metadata": {
    "application/vnd.databricks.v1+cell": {
     "cellMetadata": {
      "byteLimit": 2048000,
      "rowLimit": 10000
     },
     "inputWidgets": {},
     "nuid": "86f2d026-bf61-4a20-9c52-a7a851c22547",
     "showTitle": false,
     "tableResultSettingsMap": {},
     "title": ""
    }
   },
   "source": [
    "### Constraste de discriminación"
   ]
  },
  {
   "cell_type": "code",
   "execution_count": 0,
   "metadata": {
    "application/vnd.databricks.v1+cell": {
     "cellMetadata": {
      "byteLimit": 2048000,
      "rowLimit": 10000
     },
     "inputWidgets": {},
     "nuid": "5ed11154-d264-4e5a-a3c7-fe83db1a7150",
     "showTitle": false,
     "tableResultSettingsMap": {},
     "title": ""
    }
   },
   "outputs": [],
   "source": [
    "var_pd = [\"XB_HIP_REP_SALESFORCE\", \"XB_HIP_REP_SUITE\", \"XB_HIP\"]\n",
    "caldri_veh_app = Obj_Seg.EvolDisVar(\n",
    "  # Parametros de figura individual\n",
    "  query_filtro = '',\n",
    "  codmes_ini   = 202206,\n",
    "  codmes_fin   = 202401,\n",
    "  amplitud     = 6,\n",
    "  disc_target  = [24, 21,18],\n",
    "  umbral_sup   = 0.4,\n",
    "  umbral_inf   = 0.3,\n",
    "  moviles      = True,\n",
    "  dim_grafico  = (22.5, 6),\n",
    "  pos_leyenda  = (0.5, -0.35),\n",
    "  etiquetas    = True,\n",
    "  gini_abs     = False,\n",
    " \n",
    "  # Parametros de figura final\n",
    "  ncolumnas = 3,\n",
    "  nfilas    = 1,\n",
    "  variables = var_pd,\n",
    "  dim_grafico_total = (25, 6),\n",
    "  ncol_leyenda = 5,\n",
    "  vspacio=-0.25,\n",
    "  hspacio=4,\n",
    "  tamaño_etiqueta = 14 \n",
    ")"
   ]
  },
  {
   "cell_type": "markdown",
   "metadata": {
    "application/vnd.databricks.v1+cell": {
     "cellMetadata": {
      "byteLimit": 2048000,
      "rowLimit": 10000
     },
     "inputWidgets": {},
     "nuid": "a00544a1-05d6-4b4c-b54a-f85053f2f8b9",
     "showTitle": false,
     "tableResultSettingsMap": {},
     "title": ""
    }
   },
   "source": [
    "### Constraste de estabilidad"
   ]
  },
  {
   "cell_type": "code",
   "execution_count": 0,
   "metadata": {
    "application/vnd.databricks.v1+cell": {
     "cellMetadata": {
      "byteLimit": 2048000,
      "rowLimit": 10000
     },
     "inputWidgets": {},
     "nuid": "e4b9a615-9e5f-4ca6-8431-008de177158a",
     "showTitle": false,
     "tableResultSettingsMap": {},
     "title": ""
    }
   },
   "outputs": [],
   "source": [
    "var_pd_q = Obj_Seg.CutVar(variables=var_pd, num_cortes=4, query_corte=\"CODMES BETWEEN 202101 AND 202410 AND DEF_120_BLOQ_REF_0 = 0\")"
   ]
  },
  {
   "cell_type": "code",
   "execution_count": 0,
   "metadata": {
    "application/vnd.databricks.v1+cell": {
     "cellMetadata": {
      "byteLimit": 2048000,
      "rowLimit": 10000
     },
     "inputWidgets": {},
     "nuid": "83563b16-7d6f-4f37-b04b-044e5b28e2ae",
     "showTitle": false,
     "tableResultSettingsMap": {},
     "title": ""
    }
   },
   "outputs": [],
   "source": [
    "psi_dri = Obj_Seg.MixPSIVar(\n",
    "  # Parametros de figura individual\n",
    "    query_uso         ='CODMES >= 202011',\n",
    "    cast_int          =True,\n",
    "    codmes_inicio1    =202011,\n",
    "    codmes_fin1       =202204,\n",
    "    codmes_inicio2    =202501,\n",
    "    codmes_fin2       =202504,\n",
    "    dim_grafico       =(25, 6),\n",
    "    pos_leyenda       =(0.5, -0.25),\n",
    " \n",
    "    # Parametros de figura final\n",
    "    tipo_vista        = 'M',\n",
    "    ncolumnas         = 3,\n",
    "    nfilas            = 1,\n",
    "    variables         = var_pd_q,\n",
    "    dim_grafico_total = (25, 6),\n",
    "    ncol_leyenda      =5,\n",
    "    tamaño_leyenda    = 8.25,\n",
    "    vspacio           =-0.45,\n",
    "    hspacio           =0,\n",
    "    borde             = 0.08\n",
    ")"
   ]
  },
  {
   "cell_type": "markdown",
   "metadata": {
    "application/vnd.databricks.v1+cell": {
     "cellMetadata": {
      "byteLimit": 2048000,
      "rowLimit": 10000
     },
     "inputWidgets": {},
     "nuid": "1ae7c8b6-409f-46ef-a5ef-4ada5805022d",
     "showTitle": false,
     "tableResultSettingsMap": {},
     "title": ""
    }
   },
   "source": [
    "## Modulo demográfico"
   ]
  },
  {
   "cell_type": "code",
   "execution_count": 0,
   "metadata": {
    "application/vnd.databricks.v1+cell": {
     "cellMetadata": {
      "byteLimit": 2048000,
      "rowLimit": 10000
     },
     "inputWidgets": {},
     "nuid": "96d729b4-3862-4abe-b67c-91524f6a7b14",
     "showTitle": false,
     "tableResultSettingsMap": {},
     "title": ""
    }
   },
   "outputs": [],
   "source": [
    "#------------------------------------#\n",
    "#-------- ANTIGUEDAD LABORAL --------#\n",
    "#------------------------------------#\n",
    "\n",
    "from pyspark.sql.functions import col, when, log10, lit\n",
    "\n",
    "# Paso 1: Reemplazar valores extremos si no están en dummy_list\n",
    "Obj_Seg.base_monitoreo = Obj_Seg.base_monitoreo.withColumn(\n",
    "    \"SUITE_AntLaboralMeses_J\",\n",
    "    when((~col(\"SUITE_AntLaboralMeses_J\").isin(dummy_list)) & (col(\"SUITE_AntLaboralMeses_J\") < 1), 1)\n",
    "    .when((~col(\"SUITE_AntLaboralMeses_J\").isin(dummy_list)) & (col(\"SUITE_AntLaboralMeses_J\") > 72), 72)\n",
    "    .otherwise(col(\"SUITE_AntLaboralMeses_J\"))\n",
    ")\n",
    "\n",
    "# Paso 2: Calcular ANT_LABORAL_MESES_E2 según condiciones\n",
    "Obj_Seg.base_monitoreo = Obj_Seg.base_monitoreo.withColumn(\n",
    "    \"ANT_LABORAL_MESES_E2_REP\",\n",
    "    when(col(\"SUITE_AntLaboralMeses_J\").isNull(), -0.3120167161602)\n",
    "    .when(~col(\"SUITE_AntLaboralMeses_J\").isin(dummy_list),\n",
    "          when(col(\"SUITE_AntLaboralMeses_J\") >= 1.9189008504925,\n",
    "               log10(col(\"SUITE_AntLaboralMeses_J\")) ** 2 * (-0.44887796667188)\n",
    "               + log10(col(\"SUITE_AntLaboralMeses_J\")) * 0.25411209305111\n",
    "               + 0.37338265275158)\n",
    "          .otherwise(0.40934618885114))\n",
    "    .otherwise(None)\n",
    ")\n",
    "\n",
    "# Paso 3: Limitar valores extremos de ANT_LABORAL_MESES_E2\n",
    "Obj_Seg.base_monitoreo = Obj_Seg.base_monitoreo.withColumn(\n",
    "    \"ANT_LABORAL_MESES_E2_REP\",\n",
    "    when(col(\"ANT_LABORAL_MESES_E2_REP\") > 5.30330490805907, 5.30330490805907)\n",
    "    .when(col(\"ANT_LABORAL_MESES_E2_REP\") < -5.30330490805907, -5.30330490805907)\n",
    "    .otherwise(col(\"ANT_LABORAL_MESES_E2_REP\"))\n",
    ")\n",
    "\n",
    "#--------------------------------#\n",
    "#-------- CATEGORIA ZONA --------#\n",
    "#--------------------------------#\n",
    "\n",
    "Obj_Seg.base_monitoreo = Obj_Seg.base_monitoreo.withColumn(\"DEF_DESDITRITO\", when(col(\"codmes\") <= 202307, col(\"DESCODDISTRITO\")).otherwise(col(\"SUITE_DESDISTRITO\")))\n",
    "Obj_Seg.base_monitoreo = Obj_Seg.base_monitoreo.withColumn(\"DEF_DESPROVINCIA\", when(col(\"codmes\") <= 202307, col(\"DESCODPROVINCIA\")).otherwise(col(\"SUITE_DESPROVINCIA\")))\n",
    "Obj_Seg.base_monitoreo = Obj_Seg.base_monitoreo.withColumn(\"DEF_DESDEPARTAMENTO\", when(col(\"codmes\") <= 202307, col(\"DESCODDEPARTAMENTO\")).otherwise(col(\"SUITE_desdepartamento\")))\n",
    "\n",
    "\n",
    "Obj_Seg.base_monitoreo = Obj_Seg.base_monitoreo.withColumn(\n",
    "    \"CAT_ZONA1_REP\",\n",
    "    when(\n",
    "        (col(\"DEF_DESDEPARTAMENTO\").isNotNull()) & (col(\"DEF_DESDEPARTAMENTO\") != \"\") & (col(\"DEF_DESDEPARTAMENTO\") != \"LIMA\"),\n",
    "        when(col(\"DEF_DESDEPARTAMENTO\") == \"CERRO DE PASCO\", \"CERRO_DE_PASCO\")\n",
    "        .when(col(\"DEF_DESDEPARTAMENTO\") == \"MADRE DE DIOS\", \"MADRE_DE_DIOS\")\n",
    "        .when(col(\"DEF_DESDEPARTAMENTO\") == \"SAN MARTIN\", \"SAN_MARTIN\")\n",
    "        .when((col(\"DEF_DESDEPARTAMENTO\") == \"LA LIBERTAD\") | (col(\"DEF_DESDEPARTAMENTO\") == \"LALIBERTAD\"), \"LA_LIBERTAD\")\n",
    "        .otherwise(col(\"DEF_DESDEPARTAMENTO\"))\n",
    "    )\n",
    ")\n",
    "\n",
    "# Diccionario de distritos a zonas\n",
    "distrito_zona = {\n",
    "    \"ANCON\": \"LIMA_NORTE\",\n",
    "    \"ATE\": \"LIMA_ESTE\",\n",
    "    \"CIENEGUILLA\": \"LIMA_ESTE\",\n",
    "    \"BARRANCO\": \"LIMA_SUR\",\n",
    "    \"BREÑA\": \"LIMA_CENTRO\",\n",
    "    \"CARABAYLLO\": \"LIMA_NORTE\",\n",
    "    \"CHACLACAYO\": \"LIMA_ESTE\",\n",
    "    \"CHORRILLOS\": \"LIMA_SUR\",\n",
    "    \"COMAS\": \"LIMA_NORTE\",\n",
    "    \"EL AGUSTINO\": \"LIMA_ESTE\",\n",
    "    \"INDEPENDENCIA\": \"LIMA_NORTE\",\n",
    "    \"JESUS MARIA\": \"LIMA_MODERNA\",\n",
    "    \"LA MOLINA\": \"LIMA_MODERNA\",\n",
    "    \"LA VICTORIA\": \"LIMA_CENTRO\",\n",
    "    \"LIMA CERCADO\": \"LIMA_CENTRO\",\n",
    "    \"LINCE\": \"LIMA_MODERNA\",\n",
    "    \"LOS OLIVOS\": \"LIMA_NORTE\",\n",
    "    \"LURIGANCHO\": \"LIMA_ESTE\",\n",
    "    \"LURIN\": \"LIMA_SUR\",\n",
    "    \"MAGDALENA DEL MAR\": \"LIMA_MODERNA\",\n",
    "    \"MIRAFLORES\": \"LIMA_MODERNA\",\n",
    "    \"PACHACAMAC\": \"LIMA_SUR\",\n",
    "    \"PUCUSANA\": \"LIMA_SUR\",\n",
    "    \"PUEBLO LIBRE\": \"LIMA_MODERNA\",\n",
    "    \"PUENTE PIEDRA\": \"LIMA_NORTE\",\n",
    "    \"PUNTA HERMOSA\": \"LIMA_SUR\",\n",
    "    \"PUNTA NEGRA\": \"LIMA_SUR\",\n",
    "    \"RIMAC\": \"LIMA_CENTRO\",\n",
    "    \"SAN BARTOLO\": \"LIMA_SUR\",\n",
    "    \"SAN BORJA\": \"LIMA_MODERNA\",\n",
    "    \"SAN ISIDRO\": \"LIMA_MODERNA\",\n",
    "    \"SAN JUAN LURIGANCHO\": \"LIMA_ESTE\",\n",
    "    \"SAN JUAN MIRAFLORES\": \"LIMA_SUR\",\n",
    "    \"SAN LUIS\": \"LIMA_CENTRO\",\n",
    "    \"SAN MARTIN DE PORRES\": \"LIMA_NORTE\",\n",
    "    \"SAN MIGUEL\": \"LIMA_MODERNA\",\n",
    "    \"SANTA ANITA\": \"LIMA_ESTE\",\n",
    "    \"SANTA MARIA DEL MAR\": \"LIMA_SUR\",\n",
    "    \"SANTA ROSA\": \"LIMA_NORTE\",\n",
    "    \"SANTIAGO DE SURCO\": \"LIMA_MODERNA\",\n",
    "    \"SURQUILLO\": \"LIMA_MODERNA\",\n",
    "    \"VILLA EL SALVADOR\": \"LIMA_SUR\",\n",
    "    \"VILLA MARIA TRIUNFO\": \"LIMA_SUR\"\n",
    "}\n",
    "\n",
    "from pyspark.sql.functions import create_map, lit\n",
    "from itertools import chain\n",
    "\n",
    "# Convertir el diccionario a un mapa para PySpark\n",
    "mapping_expr = create_map([lit(x) for x in chain(*distrito_zona.items())])\n",
    "\n",
    "Obj_Seg.base_monitoreo = Obj_Seg.base_monitoreo.withColumn(\n",
    "    \"CAT_ZONA1_REP\",\n",
    "    when(\n",
    "        (col(\"DEF_DESDEPARTAMENTO\") == \"LIMA\") & (col(\"DEF_DESPROVINCIA\") == \"LIMA\"),\n",
    "        mapping_expr.getItem(col(\"DEF_DESDITRITO\"))\n",
    "    ).when(\n",
    "        (col(\"DEF_DESDEPARTAMENTO\") == \"LIMA\") & (col(\"DEF_DESPROVINCIA\") != \"LIMA\"),\n",
    "        lit(\"LIMA_PROV\")\n",
    "    ).otherwise(col(\"CAT_ZONA1_REP\"))  # Mantener lo que ya se asignó antes\n",
    ")\n",
    "\n",
    "from pyspark.sql.functions import create_map, lit, col, when\n",
    "from itertools import chain\n",
    "\n",
    "zona_coef = {\n",
    "    'AMAZONAS': -0.039938704,\n",
    "    'ANCASH': -0.039938704,\n",
    "    'APURIMAC': 0.0758135367,\n",
    "    'AREQUIPA': -0.617007477,\n",
    "    'AYACUCHO': 0.0333518574312501,\n",
    "    'CAJAMARCA': -0.282994571,\n",
    "    'CALLAO': 0.0758135367,\n",
    "    'CERRO_DE_PASCO': -0.484944634,\n",
    "    'CUZCO': -0.484944634,\n",
    "    'HUANCAVELICA': 0.0333518574312501,\n",
    "    'HUANUCO': -0.135237963,\n",
    "    'ICA': -0.039938704,\n",
    "    'JUNIN': -0.282994571,\n",
    "    'LAMBAYEQUE': -0.135237963,\n",
    "    'LA_LIBERTAD': -0.135237963,\n",
    "    'LIMA_CENTRO': -0.135237963,\n",
    "    'LIMA_ESTE': -0.135237963,\n",
    "    'LIMA_MODERNA': -0.741004134,\n",
    "    'LIMA_NORTE': -0.039938704,\n",
    "    'LIMA_PROV': -0.135237963,\n",
    "    'LIMA_SUR': -0.135237963,\n",
    "    'LORETO': 0.385320542,\n",
    "    'MADRE_DE_DIOS': 0.0758135367,\n",
    "    'MOQUEGUA': -0.617007477,\n",
    "    'PIURA': 0.0333518574312501,\n",
    "    'PUNO': 0.0333518574312501,\n",
    "    'SAN_MARTIN': -0.135237963,\n",
    "    'TACNA': -0.484944634,\n",
    "    'TUMBES': 0.0333518574312501,\n",
    "    'UCAYALI': 0.2909809729,\n",
    "    'AMERICA': -0.128832872,\n",
    "    'ASIA': 0.193371393,\n",
    "    'EUROPA': -0.223441042016937,\n",
    "    'OCEANIA': 0.385320542,\n",
    "    '': -0.101201527,\n",
    "    '-': -0.101201527\n",
    "}\n",
    "\n",
    "mapping_expr = create_map([lit(x) for x in chain(*zona_coef.items())])\n",
    "\n",
    "Obj_Seg.base_monitoreo = Obj_Seg.base_monitoreo.withColumn(\n",
    "    \"CAT_ZONA1_C_st_REP\",\n",
    "    mapping_expr.getItem(col(\"CAT_ZONA1_REP\"))\n",
    ")\n",
    "\n",
    "Obj_Seg.base_monitoreo = Obj_Seg.base_monitoreo.withColumn(\n",
    "    \"CAT_ZONA1_C_st_REP\",\n",
    "    when(col(\"CAT_ZONA1_C_st_REP\").isNull(), -0.101201527).otherwise(col(\"CAT_ZONA1_C_st_REP\"))\n",
    ")\n",
    "\n",
    "#-------------------------------------#\n",
    "#-------- ACTIVIDAD ECONOMICA --------#\n",
    "#-------------------------------------#\n",
    "\n",
    "from pyspark.sql.functions import create_map, lit, col\n",
    "from itertools import chain\n",
    "\n",
    "ciiu_map = {\n",
    "    1: -0.1801052251765060,\n",
    "    2: -0.0569214964619532,\n",
    "    3: -0.8740183129348840,\n",
    "    4: -0.2947593978359910,\n",
    "    5: -0.8740183129348840,\n",
    "    6: -0.0569214964619532,\n",
    "    7: -0.2947593978359910,\n",
    "    8: -0.1801052251765060,\n",
    "    9: -0.4582102012890810,\n",
    "    10: -0.8740183129348840,\n",
    "    11: -0.2947593978359910,\n",
    "    12: -0.4582102012890810,\n",
    "    13: -0.0569214964619532\n",
    "}\n",
    "default_value = -0.0478452553157524\n",
    "\n",
    "mapping_expr = create_map([lit(x) for x in chain(*ciiu_map.items())])\n",
    "\n",
    "Obj_Seg.base_monitoreo = Obj_Seg.base_monitoreo.withColumn(\n",
    "    \"CL_CIIU_ST_REP\",\n",
    "    mapping_expr.getItem(col(\"DEF_CIIU_DEF\"))\n",
    ")\n",
    "\n",
    "Obj_Seg.base_monitoreo = Obj_Seg.base_monitoreo.withColumn(\n",
    "    \"CL_CIIU_ST_REP\",\n",
    "    when(col(\"CL_CIIU_ST_REP\").isNull(), default_value).otherwise(col(\"CL_CIIU_ST_REP\"))\n",
    ")\n",
    "\n",
    "#------------------------------#\n",
    "#-------- ESTADO CIVIL --------#\n",
    "#------------------------------#\n",
    "\n",
    "from pyspark.sql.functions import create_map, lit, col, when\n",
    "from itertools import chain\n",
    "\n",
    "estado_civil_map = {\n",
    "    'CAS': -2.71052690690738,\n",
    "    'CBS': -1.3465386059661,\n",
    "    'CON': -1.01448118381917,\n",
    "    'SEP': -1.71018184183643,\n",
    "    'DIV': -1.71018184183643,\n",
    "    'SOL': -1.31089975256589,\n",
    "    'VIU': -1.91397294136183\n",
    "}\n",
    "default_value = -1.68975654862259\n",
    "\n",
    "mapping_expr = create_map([lit(x) for x in chain(*estado_civil_map.items())])\n",
    "\n",
    "Obj_Seg.base_monitoreo = Obj_Seg.base_monitoreo.withColumn(\n",
    "    \"EST_CIV_st_REP\",\n",
    "    mapping_expr.getItem(col(\"SUITE_Estcivil_J\"))\n",
    ")\n",
    "\n",
    "Obj_Seg.base_monitoreo = Obj_Seg.base_monitoreo.withColumn(\n",
    "    \"EST_CIV_st_REP\",\n",
    "    when(col(\"EST_CIV_st_REP\").isNull(), default_value).otherwise(col(\"EST_CIV_st_REP\"))\n",
    ")\n",
    "\n",
    "#---------------------------------#\n",
    "#-------- INGRESO CASCADA --------#\n",
    "#---------------------------------#\n",
    "\n",
    "Obj_Seg.base_monitoreo = Obj_Seg.base_monitoreo.withColumn(\n",
    "    \"ING_SOL_REP\",\n",
    "    col('DEF_ING_CONY') + col('DEF_ING_TIT')\n",
    ")\n",
    "\n",
    "Obj_Seg.base_monitoreo = Obj_Seg.base_monitoreo.withColumn(\"ING_CASCADA2_REP\", col(\"ING_SOL_REP\")) \\\n",
    "    .withColumn(\"ING_CASCADA2_F\", col(\"ING_SOL_REP\"))\\\n",
    "    .withColumn(\"ING_CASCADA3\", col(\"ING_SOL_REP\"))\\\n",
    "    .withColumn(\"ING_CASCADA3_F\", col(\"ING_SOL_REP\"))\n",
    "\n",
    "Obj_Seg.base_monitoreo = Obj_Seg.base_monitoreo.withColumn(\n",
    "    \"ING_CASCADA3_F\",\n",
    "    when((~col(\"ING_CASCADA3_F\").isin(dummy_list)) & (col(\"ING_CASCADA3_F\") < 733.42), 733.42)\n",
    "    .when((~col(\"ING_CASCADA3_F\").isin(dummy_list)) & (col(\"ING_CASCADA3_F\") > 11466.6615), 11466.6615)\n",
    "    .otherwise(col(\"ING_CASCADA3_F\"))\n",
    ")\n",
    "\n",
    "Obj_Seg.base_monitoreo = Obj_Seg.base_monitoreo.withColumn(\n",
    "    \"ING_CASCADA2_D2_REP\",\n",
    "    when(col(\"ING_CASCADA2_F\").isNull(), -0.37028113613139)\n",
    "    .when(~col(\"ING_CASCADA2_F\").isin(dummy_list),\n",
    "          when(col(\"ING_CASCADA2_F\") >= 772.712680373535,\n",
    "               log10(col(\"ING_CASCADA2_F\")) * (-1.5728915038144) + 4.86125959214205)\n",
    "          .otherwise(0.31872055547668))\n",
    "    .otherwise(None)\n",
    ")\n",
    "\n",
    "Obj_Seg.base_monitoreo = Obj_Seg.base_monitoreo.withColumn(\n",
    "    \"ING_CASCADA3_D2_REP\",\n",
    "    when(col(\"ING_CASCADA3_F\").isNull(), -0.37028113613139)\n",
    "    .when(~col(\"ING_CASCADA3_F\").isin(dummy_list),\n",
    "          when(col(\"ING_CASCADA3_F\") >= 772.712680373535,\n",
    "               log10(col(\"ING_CASCADA3_F\")) * (-1.5728915038144) + 4.86125959214205)\n",
    "          .otherwise(0.31872055547668))\n",
    "    .otherwise(None)\n",
    ")\n",
    "\n",
    "Obj_Seg.base_monitoreo = Obj_Seg.base_monitoreo.withColumn(\n",
    "    \"ING_CASCADA2_D2_REP\",\n",
    "    when(col(\"ING_CASCADA2_D2_REP\") > 5.30330490805907, 5.30330490805907)\n",
    "    .when(col(\"ING_CASCADA2_D2_REP\") < -5.30330490805907, -5.30330490805907)\n",
    "    .otherwise(col(\"ING_CASCADA2_D2_REP\"))\n",
    ")\n",
    "\n",
    "Obj_Seg.base_monitoreo = Obj_Seg.base_monitoreo.withColumn(\n",
    "    \"ING_CASCADA3_D2_REP\",\n",
    "    when(col(\"ING_CASCADA3_D2_REP\") > 5.30330490805907, 5.30330490805907)\n",
    "    .when(col(\"ING_CASCADA3_D2_REP\") < -5.30330490805907, -5.30330490805907)\n",
    "    .otherwise(col(\"ING_CASCADA3_D2_REP\"))\n",
    ")\n"
   ]
  },
  {
   "cell_type": "code",
   "execution_count": 0,
   "metadata": {
    "application/vnd.databricks.v1+cell": {
     "cellMetadata": {
      "byteLimit": 2048000,
      "rowLimit": 10000
     },
     "inputWidgets": {},
     "nuid": "8563fd9f-b762-4348-8ad2-48a7a0a58f89",
     "showTitle": false,
     "tableResultSettingsMap": {},
     "title": ""
    }
   },
   "outputs": [],
   "source": [
    "from pyspark.sql.functions import col\n",
    "\n",
    "Obj_Seg.base_monitoreo = Obj_Seg.base_monitoreo.withColumn(\n",
    "    \"XB_DEM_REP\",\n",
    "    2.9043\n",
    "    + 0.4919 * col(\"ANT_LABORAL_MESES_E2_REP\")\n",
    "    + 0.6787 * col(\"CAT_ZONA1_C_st_REP\")\n",
    "    + 0.8429 * col(\"CL_CIIU_st_REP\")\n",
    "    + 0.6557 * col(\"CL_VEH_MEAN_st\")\n",
    "    + 0.3951 * col(\"EDAD_E1\")\n",
    "    + 0.1797 * col(\"EST_CIV_st_REP\")\n",
    "    + 0.5159 * col(\"ING_CASCADA2_D2_REP\")\n",
    "    + 1.0291 * col(\"NUMHIJOS1_C2_st\")\n",
    ")"
   ]
  },
  {
   "cell_type": "markdown",
   "metadata": {
    "application/vnd.databricks.v1+cell": {
     "cellMetadata": {
      "byteLimit": 2048000,
      "rowLimit": 10000
     },
     "inputWidgets": {},
     "nuid": "b67516d3-8bae-42f6-bcb3-c74f79487d63",
     "showTitle": false,
     "tableResultSettingsMap": {},
     "title": ""
    }
   },
   "source": [
    "### Contraste de discriminación"
   ]
  },
  {
   "cell_type": "code",
   "execution_count": 0,
   "metadata": {
    "application/vnd.databricks.v1+cell": {
     "cellMetadata": {
      "byteLimit": 2048000,
      "rowLimit": 10000
     },
     "inputWidgets": {},
     "nuid": "fc9c415b-08a8-4a9f-929b-13e99c5c38c9",
     "showTitle": false,
     "tableResultSettingsMap": {},
     "title": ""
    }
   },
   "outputs": [],
   "source": [
    "var_pd = [\"XB_DEM_REP\", \"XB_DEM\"]\n",
    "caldri_veh_app = Obj_Seg.EvolDisVar(\n",
    "  # Parametros de figura individual\n",
    "  query_filtro = '',\n",
    "  codmes_ini   = 202206,\n",
    "  codmes_fin   = 202312,\n",
    "  amplitud     = 6,\n",
    "  disc_target  = [24, 21,18],\n",
    "  umbral_sup   = 0.4,\n",
    "  umbral_inf   = 0.3,\n",
    "  moviles      = True,\n",
    "  dim_grafico  = (22.5, 6),\n",
    "  pos_leyenda  = (0.5, -0.35),\n",
    "  etiquetas    = True,\n",
    "  gini_abs     = False,\n",
    " \n",
    "  # Parametros de figura final\n",
    "  ncolumnas = 2,\n",
    "  nfilas    = 1,\n",
    "  variables = var_pd,\n",
    "  dim_grafico_total = (20, 6),\n",
    "  ncol_leyenda = 5,\n",
    "  vspacio=-0.25,\n",
    "  hspacio=4,\n",
    "  tamaño_etiqueta = 14 \n",
    ")"
   ]
  },
  {
   "cell_type": "code",
   "execution_count": 0,
   "metadata": {
    "application/vnd.databricks.v1+cell": {
     "cellMetadata": {
      "byteLimit": 2048000,
      "rowLimit": 10000
     },
     "inputWidgets": {},
     "nuid": "0a3ac377-53f6-470b-9ee1-9ea817bd253e",
     "showTitle": false,
     "tableResultSettingsMap": {},
     "title": ""
    }
   },
   "outputs": [],
   "source": [
    "Obj_Seg.base_monitoreo = Obj_Seg.base_monitoreo.withColumn(\n",
    "    \"XB_DEM_S_ADCW_REP\",\n",
    "    0.2738 + 0.4184 * col('XB_DEM_REP')\n",
    ")"
   ]
  },
  {
   "cell_type": "code",
   "execution_count": 0,
   "metadata": {
    "application/vnd.databricks.v1+cell": {
     "cellMetadata": {
      "byteLimit": 2048000,
      "rowLimit": 10000
     },
     "inputWidgets": {},
     "nuid": "3e2c04fe-866d-4fbf-8ecc-f3a291de0cab",
     "showTitle": false,
     "tableResultSettingsMap": {},
     "title": ""
    }
   },
   "outputs": [],
   "source": [
    "var_pd = [\"XB_DEM_S_ADCW_REP\", \"XB_DEM_S_ADCW\"]\n",
    "caldri_veh_app = Obj_Seg.EvolDisVar(\n",
    "  # Parametros de figura individual\n",
    "  query_filtro = '',\n",
    "  codmes_ini   = 202206,\n",
    "  codmes_fin   = 202312,\n",
    "  amplitud     = 6,\n",
    "  disc_target  = [24, 21,18],\n",
    "  umbral_sup   = 0.4,\n",
    "  umbral_inf   = 0.3,\n",
    "  moviles      = True,\n",
    "  dim_grafico  = (22.5, 6),\n",
    "  pos_leyenda  = (0.5, -0.35),\n",
    "  etiquetas    = True,\n",
    "  gini_abs     = False,\n",
    " \n",
    "  # Parametros de figura final\n",
    "  ncolumnas = 2,\n",
    "  nfilas    = 1,\n",
    "  variables = var_pd,\n",
    "  dim_grafico_total = (20, 6),\n",
    "  ncol_leyenda = 5,\n",
    "  vspacio=-0.25,\n",
    "  hspacio=4,\n",
    "  tamaño_etiqueta = 14 \n",
    ")"
   ]
  },
  {
   "cell_type": "markdown",
   "metadata": {
    "application/vnd.databricks.v1+cell": {
     "cellMetadata": {
      "byteLimit": 2048000,
      "rowLimit": 10000
     },
     "inputWidgets": {},
     "nuid": "b6f9b6c7-a53e-4f68-912c-9ce636a6a101",
     "showTitle": false,
     "tableResultSettingsMap": {},
     "title": ""
    }
   },
   "source": [
    "### Constraste de estabilidad"
   ]
  },
  {
   "cell_type": "code",
   "execution_count": 0,
   "metadata": {
    "application/vnd.databricks.v1+cell": {
     "cellMetadata": {
      "byteLimit": 2048000,
      "rowLimit": 10000
     },
     "inputWidgets": {},
     "nuid": "80ba181c-6095-411e-9136-96cd39b9372c",
     "showTitle": false,
     "tableResultSettingsMap": {},
     "title": ""
    }
   },
   "outputs": [],
   "source": [
    "var_pd_q = Obj_Seg.CutVar(variables=var_pd, num_cortes=4, query_corte=\"CODMES BETWEEN 202101 AND 202410 AND DEF_120_BLOQ_REF_0 = 0\")"
   ]
  },
  {
   "cell_type": "code",
   "execution_count": 0,
   "metadata": {
    "application/vnd.databricks.v1+cell": {
     "cellMetadata": {
      "byteLimit": 2048000,
      "rowLimit": 10000
     },
     "inputWidgets": {},
     "nuid": "10679d7f-13c4-4b9c-b7f8-b025225f3e8b",
     "showTitle": false,
     "tableResultSettingsMap": {},
     "title": ""
    }
   },
   "outputs": [],
   "source": [
    "psi_dri = Obj_Seg.MixPSIVar(\n",
    "  # Parametros de figura individual\n",
    "    query_uso         ='CODMES >= 202011',\n",
    "    cast_int          =True,\n",
    "    codmes_inicio1    =202011,\n",
    "    codmes_fin1       =202204,\n",
    "    codmes_inicio2    =202501,\n",
    "    codmes_fin2       =202504,\n",
    "    dim_grafico       =(25, 6),\n",
    "    pos_leyenda       =(0.5, -0.35),\n",
    " \n",
    "    # Parametros de figura final\n",
    "    tipo_vista        = 'M',\n",
    "    ncolumnas         = 2,\n",
    "    nfilas            = 1,\n",
    "    variables         = var_pd_q,\n",
    "    dim_grafico_total = (17, 5),\n",
    "    ncol_leyenda      =5,\n",
    "    tamaño_leyenda    = 8.25,\n",
    "    vspacio           =-0.45,\n",
    "    hspacio           =0,\n",
    "    borde             = 0.08\n",
    ")"
   ]
  },
  {
   "cell_type": "markdown",
   "metadata": {
    "application/vnd.databricks.v1+cell": {
     "cellMetadata": {
      "byteLimit": 2048000,
      "rowLimit": 10000
     },
     "inputWidgets": {},
     "nuid": "3b11f493-bc2b-4807-8f6e-4c0bb6d17531",
     "showTitle": false,
     "tableResultSettingsMap": {},
     "title": ""
    }
   },
   "source": [
    "## Puntuación producto"
   ]
  },
  {
   "cell_type": "code",
   "execution_count": 0,
   "metadata": {
    "application/vnd.databricks.v1+cell": {
     "cellMetadata": {
      "byteLimit": 2048000,
      "rowLimit": 10000
     },
     "inputWidgets": {},
     "nuid": "f730c51d-49ee-4208-810b-0e59575b5305",
     "showTitle": false,
     "tableResultSettingsMap": {},
     "title": ""
    }
   },
   "outputs": [],
   "source": [
    "# XB modulo clásicos\n",
    "Obj_Seg.base_monitoreo = Obj_Seg.base_monitoreo.withColumn(\n",
    "    'XB_AD_HOC_REP',\n",
    "    0.2 * col('XB_ACT_S_ADCW') + \n",
    "    0.2 * col('XB_PAS_S_ADCW') +\n",
    "    0.2 * col('XB_TRX_S_ADCW') + \n",
    "    0.2 * col('XB_RCC_S_ADCW') + \n",
    "    0.2 * col('XB_DEM_S_ADCW_REP')\n",
    ")\n",
    "\n",
    "# XB troncal\n",
    "Obj_Seg.base_monitoreo = Obj_Seg.base_monitoreo.withColumn(\n",
    "    'XB_ADC_POND85_REP_SALESFORCE',\n",
    "    0.85 * col('XB_AD_HOC_REP') + \n",
    "    0.15 * col('XB_HIP_REP_SALESFORCE')\n",
    ")\n",
    "\n",
    "Obj_Seg.base_monitoreo = Obj_Seg.base_monitoreo.withColumn(\n",
    "    'XB_ADC_POND85_REP_SUITE',\n",
    "    0.85 * col('XB_AD_HOC_REP') + \n",
    "    0.15 * col('XB_HIP_REP_SUITE')\n",
    ")"
   ]
  },
  {
   "cell_type": "markdown",
   "metadata": {
    "application/vnd.databricks.v1+cell": {
     "cellMetadata": {
      "byteLimit": 2048000,
      "rowLimit": 10000
     },
     "inputWidgets": {},
     "nuid": "33af8254-1972-4fbc-a2c7-eca0c5cdc5dd",
     "showTitle": false,
     "tableResultSettingsMap": {},
     "title": ""
    }
   },
   "source": [
    "### Re-Puntuación modelo deprecado"
   ]
  },
  {
   "cell_type": "code",
   "execution_count": 0,
   "metadata": {
    "application/vnd.databricks.v1+cell": {
     "cellMetadata": {
      "byteLimit": 2048000,
      "rowLimit": 10000
     },
     "inputWidgets": {},
     "nuid": "9dbe8e49-a3f5-421b-96aa-94e26a0957f6",
     "showTitle": false,
     "tableResultSettingsMap": {},
     "title": ""
    }
   },
   "outputs": [],
   "source": [
    "Obj_Seg.base_monitoreo = Obj_Seg.base_monitoreo.withColumn(\"FLG_SOLTERO_ESPJ\", col(\"FLG_SOLTERO_ESPJ\").cast('double'))\n",
    "\n",
    "# Calibrado deprecado\n",
    "Obj_Seg.base_monitoreo = Obj_Seg.base_monitoreo.withColumn(\n",
    "    'XB_P7_REP',\n",
    "    0.7643010711 + \n",
    "    3.486179056*col('XB_ADC_POND85_REP_SALESFORCE') + \n",
    "    0.454204416*col('FLG_SOLTERO_ESPJ') + \n",
    "    0.5161483188*col('D_PYME') + \n",
    "    0.3950922249*col('SEGMENTO2_st') + \n",
    "    0.5719599111*col('FLG_NODEP_ESPJ') + \n",
    "    0.6680047673*col('ZONA_PAUTA5_st')\n",
    ")\n",
    "\n",
    "# Ajuste de calibrado deprecado\n",
    "Obj_Seg.base_monitoreo = Obj_Seg.base_monitoreo.withColumn(\n",
    "    'XB_P7_AJUS_REP',\n",
    "    when(col('D_PYME')==0, 0.3357247425 + 1.0090882734*col('XB_P7_REP'))\n",
    "    .when(col('D_PYME')==1, 0.0187091756 + 1.0007877789*col('XB_P7_REP'))\n",
    ")\n",
    "\n",
    "Obj_Seg.base_monitoreo = Obj_Seg.base_monitoreo.withColumn('PD_P7_ajus_REP', 1/(1+exp(-col('XB_P7_REP'))))"
   ]
  },
  {
   "cell_type": "markdown",
   "metadata": {
    "application/vnd.databricks.v1+cell": {
     "cellMetadata": {
      "byteLimit": 2048000,
      "rowLimit": 10000
     },
     "inputWidgets": {},
     "nuid": "173824d2-4568-461a-8da9-89740477760c",
     "showTitle": false,
     "tableResultSettingsMap": {},
     "title": ""
    }
   },
   "source": [
    "### Re-Puntuacion nuevo calibrado"
   ]
  },
  {
   "cell_type": "code",
   "execution_count": 0,
   "metadata": {
    "application/vnd.databricks.v1+cell": {
     "cellMetadata": {
      "byteLimit": 2048000,
      "rowLimit": 10000
     },
     "inputWidgets": {},
     "nuid": "2a977ef3-2cf9-4067-8d36-eac0b612f497",
     "showTitle": false,
     "tableResultSettingsMap": {},
     "title": ""
    }
   },
   "outputs": [],
   "source": [
    "Obj_Seg.base_monitoreo = Obj_Seg.base_monitoreo.withColumn(\n",
    "    'RCC_PCT_UTL6_UTL24_RT_U24_1',\n",
    "    when((col('RCC_PCT_UTL6_UTL24_RT_U24') < 0) & (~col('RCC_PCT_UTL6_UTL24_RT_U24').isin(dummy_list)), 0)\n",
    "    .when((col('RCC_PCT_UTL6_UTL24_RT_U24') > 4.75750721) & (~col('RCC_PCT_UTL6_UTL24_RT_U24').isin(dummy_list)), 4.75750721)\n",
    "    .otherwise(col('RCC_PCT_UTL6_UTL24_RT_U24'))\n",
    ")\n",
    "    \n",
    "Obj_Seg.base_monitoreo = Obj_Seg.base_monitoreo.withColumn(\n",
    "    'RCC_PCT_UTL6_UTL24_RT_U24_A2',\n",
    "    when(\n",
    "        (col('RCC_PCT_UTL6_UTL24_RT_U24_1') >= 1.54656615160457) & (~col('RCC_PCT_UTL6_UTL24_RT_U24_1').isin(dummy_list)), \n",
    "        col('RCC_PCT_UTL6_UTL24_RT_U24')*( 0.6065153511141)+( -5.73322836042411)\n",
    "    )\n",
    "    .when(\n",
    "        (col('RCC_PCT_UTL6_UTL24_RT_U24_1') < 1.54656615160457) & (~col('RCC_PCT_UTL6_UTL24_RT_U24_1').isin(dummy_list)), \n",
    "        -4.79521224796248\n",
    "    )\n",
    ")\n",
    "\n",
    "Obj_Seg.base_monitoreo = Obj_Seg.base_monitoreo.withColumn(\n",
    "    'RCC_PCT_UTL6_UTL24_RT_U24_A2',\n",
    "    when(col('RCC_PCT_UTL6_UTL24_RT_U24_1').isNull(), -4.09850257237076)\n",
    "    .when(col('RCC_PCT_UTL6_UTL24_RT_U24_1') == 1111111111, -3.25809653802148)\n",
    "    .when(col('RCC_PCT_UTL6_UTL24_RT_U24_1') == 4444444444, -3.15965646520823)\n",
    "    .when(col('RCC_PCT_UTL6_UTL24_RT_U24_1') == 5555555555, -3.86423234159179)\n",
    "    .when(col('RCC_PCT_UTL6_UTL24_RT_U24_1') == 6666666666, -3.43398720448514)\n",
    "    .when(col('RCC_PCT_UTL6_UTL24_RT_U24_A2').isNull(), -4.53576739442981)\n",
    "    .when(col('RCC_PCT_UTL6_UTL24_RT_U24_A2')>5.30330490805907, 5.30330490805907)\n",
    "    .when(col('RCC_PCT_UTL6_UTL24_RT_U24_A2')<-5.30330490805907, -5.30330490805907)\n",
    "    .otherwise(col('RCC_PCT_UTL6_UTL24_RT_U24_A2'))\n",
    ")\n",
    "\n",
    "Obj_Seg.base_monitoreo = Obj_Seg.base_monitoreo.withColumn(\n",
    "    'EXP_PCT_EVOL_SHIP_U6M_RT_U24_1',\n",
    "    when((col('EXP_PCT_EVOL_SHIP_U6M_RT_U24') < 0) & (~col('EXP_PCT_EVOL_SHIP_U6M_RT_U24').isin(dummy_list)), -0.23567654)\n",
    "    .when((col('EXP_PCT_EVOL_SHIP_U6M_RT_U24') > 4) & (~col('EXP_PCT_EVOL_SHIP_U6M_RT_U24').isin(dummy_list)), 4)\n",
    "    .otherwise(col('EXP_PCT_EVOL_SHIP_U6M_RT_U24'))\n",
    ")\n",
    "\n",
    "Obj_Seg.base_monitoreo = Obj_Seg.base_monitoreo.withColumn(\n",
    "    'EXP_PCT_EVOL_SHIP_U6M_RT_U24_A3',\n",
    "    when(\n",
    "        (col('EXP_PCT_EVOL_SHIP_U6M_RT_U24_1') <= 1.60497414842296) & (~col('EXP_PCT_EVOL_SHIP_U6M_RT_U24_1').isin(dummy_list)), \n",
    "        col('EXP_PCT_EVOL_SHIP_U6M_RT_U24_1')*( 0.9920846011259)+( -5.418514499396)\n",
    "    )\n",
    "    .when(\n",
    "        (col('EXP_PCT_EVOL_SHIP_U6M_RT_U24_1') > 1.60497414842296) & (~col('EXP_PCT_EVOL_SHIP_U6M_RT_U24_1').isin(dummy_list)), \n",
    "        -3.82624436154042\n",
    "    )\n",
    ")\n",
    "\n",
    "Obj_Seg.base_monitoreo = Obj_Seg.base_monitoreo.withColumn(\n",
    "    'EXP_PCT_EVOL_SHIP_U6M_RT_U24_A3',\n",
    "    when(col('EXP_PCT_EVOL_SHIP_U6M_RT_U24_1').isNull(), -4.71734613341528 )\n",
    "    .when(col('EXP_PCT_EVOL_SHIP_U6M_RT_U24_1') == 1111111111, -4.33983962163802)\n",
    "    .when(col('EXP_PCT_EVOL_SHIP_U6M_RT_U24_1') == -1111111111, -4.44029554279785)\n",
    "    .when(col('EXP_PCT_EVOL_SHIP_U6M_RT_U24_1') == 4444444444, -3.56953269648137)\n",
    "    .when(col('EXP_PCT_EVOL_SHIP_U6M_RT_U24_1') == 5555555555, -3.61091791264422)\n",
    "    .when(col('EXP_PCT_EVOL_SHIP_U6M_RT_U24_1') == 6666666666, -4.33983962163802)\n",
    "    .when(col('EXP_PCT_EVOL_SHIP_U6M_RT_U24_A3').isNull(), -4.33983962163802)\n",
    "    .when(col('EXP_PCT_EVOL_SHIP_U6M_RT_U24_A3')>5.30330490805907, 5.30330490805907)\n",
    "    .when(col('EXP_PCT_EVOL_SHIP_U6M_RT_U24_A3')<-5.30330490805907, -5.30330490805907)\n",
    "    .otherwise(col('EXP_PCT_EVOL_SHIP_U6M_RT_U24_A3'))\n",
    ")\n",
    "\n",
    "Obj_Seg.base_monitoreo = Obj_Seg.base_monitoreo.withColumn(\n",
    "    'SLD_PRM_PAS_MIN_24_24_RT_U24_1',\n",
    "    when((col('SLD_PRM_PAS_MIN_24_24_RT_U24') < 0) & (~col('SLD_PRM_PAS_MIN_24_24_RT_U24').isin(dummy_list)), 0)\n",
    "    .when((col('SLD_PRM_PAS_MIN_24_24_RT_U24') > 0.99141628) & (~col('SLD_PRM_PAS_MIN_24_24_RT_U24').isin(dummy_list)), 0.99141628)\n",
    "    .otherwise(col('SLD_PRM_PAS_MIN_24_24_RT_U24'))\n",
    ")\n",
    "\n",
    "Obj_Seg.base_monitoreo = Obj_Seg.base_monitoreo.withColumn(\n",
    "    'SLD_PRM_PAS_MIN_24_24_RT_U24_I',\n",
    "    ((3.40467318899109)/(1+exp(-((((col('SLD_PRM_PAS_MIN_24_24_RT_U24')-(0 ))/((0.99141628 )-(0 )))-(9.9621725832108E-9))*(-40.5181321064318)))))+(-5.02922159797982)\n",
    ")\n",
    "\n",
    "Obj_Seg.base_monitoreo = Obj_Seg.base_monitoreo.withColumn(\n",
    "    'SLD_PRM_PAS_MIN_24_24_RT_U24_I',\n",
    "    when(col('SLD_PRM_PAS_MIN_24_24_RT_U24_1').isNull(), -4.55212096489827)\n",
    "    .when(col('SLD_PRM_PAS_MIN_24_24_RT_U24_1') == 4444444444, -2.79575578152131)\n",
    "    .when(col('SLD_PRM_PAS_MIN_24_24_RT_U24_1') == 5555555555, -3.85014760171005)\n",
    "    .when(col('SLD_PRM_PAS_MIN_24_24_RT_U24_I').isNull(), -4.43288505190737)\n",
    "    .when(col('SLD_PRM_PAS_MIN_24_24_RT_U24_I')> 5.30330490805907, 5.30330490805907)\n",
    "    .when(col('SLD_PRM_PAS_MIN_24_24_RT_U24_I')< -5.30330490805907 , -5.30330490805907)\n",
    "    .otherwise(col('SLD_PRM_PAS_MIN_24_24_RT_U24_I'))\n",
    ")\n",
    "\n",
    "# Puntuación Seguimiento con LTV Salesforce\n",
    "Obj_Seg.base_monitoreo = Obj_Seg.base_monitoreo.withColumn(\n",
    "    'XB_APP_HIP_TRDPYME_IDIO_REP_SALESFORCE',\n",
    "    + 3.91310351 + 4.02126781*col('XB_ADC_POND85_REP_SALESFORCE') + 0.56543944*col('RCC_PCT_UTL6_UTL24_RT_U24_A2') \n",
    "\t+ 0.78436330*col('EXP_PCT_EVOL_SHIP_U6M_RT_U24_A3') + 0.37055435*col('SLD_PRM_PAS_MIN_24_24_RT_U24_I')\n",
    ")\n",
    "\n",
    "Obj_Seg.base_monitoreo = Obj_Seg.base_monitoreo.withColumn(\n",
    "    'PD_APP_HIP_TRDPYME_IDIO_REP_SALESFORCE',\n",
    "    1/(1+exp(-col('XB_APP_HIP_TRDPYME_IDIO_REP_SALESFORCE')))\n",
    ")\n",
    "\n",
    "Obj_Seg.base_monitoreo = Obj_Seg.base_monitoreo.withColumn(\n",
    "    'XB_APP_HIP_TRDPYME_2Q24_AJUS_REP_SALESFORCE',\n",
    "    when(col('FLAG_PYME')==0, 0.8305366216 + 1.0583064153*col('XB_APP_HIP_TRDPYME_IDIO_REP_SALESFORCE'))\n",
    ")\n",
    "\n",
    "Obj_Seg.base_monitoreo = Obj_Seg.base_monitoreo.withColumn('PD_APP_HIP_TRDPYME_2Q24_REP_SALESFORCE', 1/(1+exp(-col('XB_APP_HIP_TRDPYME_2Q24_AJUS_REP_SALESFORCE'))))\n",
    "\n",
    "# Puntuación Seguimiento con LTV Suite\n",
    "Obj_Seg.base_monitoreo = Obj_Seg.base_monitoreo.withColumn(\n",
    "    'XB_APP_HIP_TRDPYME_IDIO_REP_SUITE',\n",
    "    + 3.91310351 + 4.02126781*col('XB_ADC_POND85_REP_SUITE') + 0.56543944*col('RCC_PCT_UTL6_UTL24_RT_U24_A2') \n",
    "\t+ 0.78436330*col('EXP_PCT_EVOL_SHIP_U6M_RT_U24_A3') + 0.37055435*col('SLD_PRM_PAS_MIN_24_24_RT_U24_I')\n",
    ")\n",
    "\n",
    "Obj_Seg.base_monitoreo = Obj_Seg.base_monitoreo.withColumn(\n",
    "    'PD_APP_HIP_TRDPYME_IDIO_REP_SUITE',\n",
    "    1/(1+exp(-col('XB_APP_HIP_TRDPYME_IDIO_REP_SUITE')))\n",
    ")\n",
    "\n",
    "Obj_Seg.base_monitoreo = Obj_Seg.base_monitoreo.withColumn(\n",
    "    'XB_APP_HIP_TRDPYME_2Q24_AJUS_REP_SUITE',\n",
    "    when(col('FLAG_PYME')==0, 0.8305366216 + 1.0583064153*col('XB_APP_HIP_TRDPYME_IDIO_REP_SUITE'))\n",
    ")\n",
    "\n",
    "Obj_Seg.base_monitoreo = Obj_Seg.base_monitoreo.withColumn('PD_APP_HIP_TRDPYME_2Q24_REP_SUITE', 1/(1+exp(-col('XB_APP_HIP_TRDPYME_2Q24_AJUS_REP_SUITE'))))\n",
    "\n",
    "# Puntuación Fábrica\n",
    "Obj_Seg.base_monitoreo = Obj_Seg.base_monitoreo.withColumn(\n",
    "    'XB_APP_HIP_TRDPYME_IDIO_REP_FAB',\n",
    "    + 3.91310351 + 4.02126781*col('XB_ADC_POND85_REP_SALESFORCE') + 0.56543944*col('UTIL_PROM_6_24_A2') \n",
    "\t+ 0.78436330*col('DEU_NOHIP_6_24_A3') + 0.37055435*col('PAS_MIN_PROM24_I')\n",
    ")\n",
    "\n",
    "Obj_Seg.base_monitoreo = Obj_Seg.base_monitoreo.withColumn(\n",
    "    'PD_APP_HIP_TRDPYME_IDIO_REP_FAB',\n",
    "    1/(1+exp(-col('XB_APP_HIP_TRDPYME_IDIO_REP_FAB')))\n",
    ")\n",
    "\n",
    "Obj_Seg.base_monitoreo = Obj_Seg.base_monitoreo.withColumn(\n",
    "    'XB_APP_HIP_TRDPYME_2Q24_AJUS_REP_FAB',\n",
    "    when(col('FLAG_PYME')==0, 0.8305366216 + 1.0583064153*col('XB_APP_HIP_TRDPYME_IDIO_REP_FAB'))\n",
    ")\n",
    "\n",
    "Obj_Seg.base_monitoreo = Obj_Seg.base_monitoreo.withColumn('PD_APP_HIP_TRDPYME_2Q24_REP_FAB', 1/(1+exp(-col('XB_APP_HIP_TRDPYME_2Q24_AJUS_REP_FAB'))))"
   ]
  },
  {
   "cell_type": "markdown",
   "metadata": {
    "application/vnd.databricks.v1+cell": {
     "cellMetadata": {
      "byteLimit": 2048000,
      "rowLimit": 10000
     },
     "inputWidgets": {},
     "nuid": "97604279-4fc4-442d-b793-25b7934c26ba",
     "showTitle": false,
     "tableResultSettingsMap": {},
     "title": ""
    }
   },
   "source": [
    "### Contraste de discriminación Modelo deprecado"
   ]
  },
  {
   "cell_type": "code",
   "execution_count": 0,
   "metadata": {
    "application/vnd.databricks.v1+cell": {
     "cellMetadata": {
      "byteLimit": 2048000,
      "rowLimit": 10000
     },
     "inputWidgets": {},
     "nuid": "50de7f8a-9f09-4cd0-94db-83071112b894",
     "showTitle": false,
     "tableResultSettingsMap": {},
     "title": ""
    }
   },
   "outputs": [],
   "source": [
    "Obj_Seg.base_monitoreo = Obj_Seg.base_monitoreo.withColumn('PD_BASE_ESPEJO', col('PD_BASE_ESPEJO').cast('double'))\n",
    "var_pd = [\"PD_P7_ajus_REP\", \"PD_BASE_ESPEJO\"]\n",
    "caldri_veh_app = Obj_Seg.EvolDisVar(\n",
    "  # Parametros de figura individual\n",
    "  query_filtro = '',\n",
    "  codmes_ini   = 202206,\n",
    "  codmes_fin   = 202312,\n",
    "  amplitud     = 6,\n",
    "  disc_target  = [24, 21,18],\n",
    "  umbral_sup   = 0.5,\n",
    "  umbral_inf   = 0.4,\n",
    "  moviles      = True,\n",
    "  dim_grafico  = (22.5, 6),\n",
    "  pos_leyenda  = (0.5, -0.35),\n",
    "  etiquetas    = True,\n",
    "  gini_abs     = False,\n",
    " \n",
    "  # Parametros de figura final\n",
    "  ncolumnas = 2,\n",
    "  nfilas    = 1,\n",
    "  variables = var_pd,\n",
    "  dim_grafico_total = (20, 6),\n",
    "  ncol_leyenda = 5,\n",
    "  vspacio=-0.25,\n",
    "  hspacio=4,\n",
    "  tamaño_etiqueta = 14 \n",
    ")"
   ]
  },
  {
   "cell_type": "markdown",
   "metadata": {
    "application/vnd.databricks.v1+cell": {
     "cellMetadata": {
      "byteLimit": 2048000,
      "rowLimit": 10000
     },
     "inputWidgets": {},
     "nuid": "6648e151-5e38-4ee8-a289-b4b27cbd9f56",
     "showTitle": false,
     "tableResultSettingsMap": {},
     "title": ""
    }
   },
   "source": [
    "### Contraste de discriminación Modelo nuevo vigente"
   ]
  },
  {
   "cell_type": "code",
   "execution_count": 0,
   "metadata": {
    "application/vnd.databricks.v1+cell": {
     "cellMetadata": {
      "byteLimit": 2048000,
      "rowLimit": 10000
     },
     "inputWidgets": {},
     "nuid": "597b3514-c7f3-4505-8dfa-94c35be2a1ce",
     "showTitle": false,
     "tableResultSettingsMap": {},
     "title": ""
    }
   },
   "outputs": [],
   "source": [
    "Obj_Seg.base_monitoreo = Obj_Seg.base_monitoreo.withColumn('PD_BASE_ESPEJO', col('PD_BASE_ESPEJO').cast('double'))\n",
    "var_pd = [\"PD_APP_HIP_TRDPYME_2Q24_REP_SALESFORCE\", \"PD_APP_HIP_TRDPYME_2Q24_REP_SUITE\", \"XB_APP_HIP_TRDPYME_IDIO_REP_FAB\"]\n",
    "caldri_veh_app = Obj_Seg.EvolDisVar(\n",
    "  # Parametros de figura individual\n",
    "  query_filtro = '',\n",
    "  codmes_ini   = 202206,\n",
    "  codmes_fin   = 202312,\n",
    "  amplitud     = 6,\n",
    "  disc_target  = [24, 21,18],\n",
    "  umbral_sup   = 0.5,\n",
    "  umbral_inf   = 0.4,\n",
    "  moviles      = True,\n",
    "  dim_grafico  = (22.5, 6),\n",
    "  pos_leyenda  = (0.5, -0.35),\n",
    "  etiquetas    = True,\n",
    "  gini_abs     = False,\n",
    " \n",
    "  # Parametros de figura final\n",
    "  ncolumnas = 3,\n",
    "  nfilas    = 1,\n",
    "  variables = var_pd,\n",
    "  dim_grafico_total = (30, 6),\n",
    "  ncol_leyenda = 5,\n",
    "  vspacio=-0.25,\n",
    "  hspacio=4,\n",
    "  tamaño_etiqueta = 14 \n",
    ")"
   ]
  },
  {
   "cell_type": "markdown",
   "metadata": {
    "application/vnd.databricks.v1+cell": {
     "cellMetadata": {
      "byteLimit": 2048000,
      "rowLimit": 10000
     },
     "inputWidgets": {},
     "nuid": "36576e8d-e09b-4f9c-944c-5782b4409230",
     "showTitle": false,
     "tableResultSettingsMap": {},
     "title": ""
    }
   },
   "source": [
    "### Contraste de calibración"
   ]
  },
  {
   "cell_type": "code",
   "execution_count": 0,
   "metadata": {
    "application/vnd.databricks.v1+cell": {
     "cellMetadata": {
      "byteLimit": 2048000,
      "rowLimit": 10000
     },
     "inputWidgets": {},
     "nuid": "5c722538-bcd7-40f5-8f79-f3835497d0af",
     "showTitle": false,
     "tableResultSettingsMap": {},
     "title": ""
    }
   },
   "outputs": [],
   "source": [
    "pd_rbm='PD_RBM'\n",
    "pd_dep='PD_APP_HIP_TRDPYME_2Q24_REP_FAB' \n",
    "pd_vig='PD_APP_HIP_TRDPYME_2Q24_REP_SALESFORCE'\n",
    "pd_trc='XB_ADC_POND85_F'\n",
    "tipo_banda = 'Jeffrey'#Jeffrey Vasiseck\n",
    "codmes_default = 202305\n",
    "columna_monto='MTOAPROBADO_SOLES'\n",
    "titulo='Calibración Applicant App Tradicional'\n",
    "condiciones= \"CODMES >= 201901 AND DEF_120_BLOQ_REF_0 = 0\""
   ]
  },
  {
   "cell_type": "code",
   "execution_count": 0,
   "metadata": {
    "application/vnd.databricks.v1+cell": {
     "cellMetadata": {
      "byteLimit": 2048000,
      "rowLimit": 10000
     },
     "inputWidgets": {},
     "nuid": "67873c15-0a5c-4268-8822-04df1e80b5ae",
     "showTitle": false,
     "tableResultSettingsMap": {},
     "title": ""
    }
   },
   "outputs": [],
   "source": [
    "# Objeto de Seguimiento\n",
    "Obj_Seg1 = rmm.MonitorScore(\n",
    "  nombre_modelo         = 'Personas Modelo Applicant Tradicional',\n",
    "  codigo_modelo         = 'MOD-BCP-20658',\n",
    "  tier                  = 'II',\n",
    "  detalle_seguimiento   = 'Seguimiento Applicant Tradicional',\n",
    "  mes_seguimiento       = '202504',\n",
    "  base_monitoreo        = Obj_Seg.base_monitoreo,\n",
    "  pd1                   = pd_dep,\n",
    "  pd2                   = pd_rbm,\n",
    "  # pd3                   = pd_dep,\n",
    "  monto_credito         = columna_monto,\n",
    "  query_univ            = \"DEF_120_BLOQ_REF_0=0 and codmes >=202201 AND PD_APP_HIP_TRDPYME_2Q24_REP_FAB IS NOT NULL and ACT_HIP IN ('EMISION MEDIO DE PAGO', 'DESEMBOLSO', 'ANTES')\",\n",
    "  bandas                = tipo_banda,\n",
    "  codmes_default        = codmes_default,\n",
    "  meses_ventana_target  = 24,\n",
    "  meses_atraso_target   = 4\n",
    ")"
   ]
  },
  {
   "cell_type": "code",
   "execution_count": 0,
   "metadata": {
    "application/vnd.databricks.v1+cell": {
     "cellMetadata": {
      "byteLimit": 2048000,
      "rowLimit": 10000
     },
     "inputWidgets": {},
     "nuid": "1cfd65d5-8fdf-44c0-a1cf-d6b7775f3f04",
     "showTitle": false,
     "tableResultSettingsMap": {},
     "title": ""
    }
   },
   "outputs": [],
   "source": [
    "Obj_Seg_cal, rc_1, rm_1, fc_1, fm_1 = Obj_Seg1.EvolCal(\n",
    "  # Configuración de filtro de uso y pd de calibración\n",
    "  query_uso          = \"CODMES>=202106\",\n",
    "  pd_seg             = pd_dep,\n",
    "  pd_comparacion     = True,\n",
    "  proys_def_temp     = 6,\n",
    "  proys_mor_temp     = 0,\n",
    "  rd_aux             = 'RD21',\n",
    "  rd_aux2            = 'RD12', \n",
    "  mora_temp          = 'MORA_30_3',\n",
    "\n",
    "  # Configuración de proyecciones por cuentas\n",
    "  proy_def_temp_xc   = \"Best_proy\",\n",
    "  suav_def_temp_xc   = 1,\n",
    "  proy_mor_temp_xc   = 'det1_xc',\n",
    "  suav_mor_temp_xc   = 1,\n",
    "  prof_hist_xc       = 14,\n",
    "\n",
    "  # Configuración de proyecciones por montos\n",
    "  proy_def_temp_xm   = \"np.where(calxmontos['CODMES'].isin([202307, 202306, 202311]), met2_xm + 0.003, met2_xm)\",\n",
    "  suav_def_temp_xm   = 1,\n",
    "  proy_mor_temp_xm   = 'det1_xm',\n",
    "  suav_mor_temp_xm   = 1,\n",
    "  prof_hist_xm       = 14,\n",
    "\n",
    "  # Detalles del gráfico de calibración\n",
    "  titulo             = titulo,\n",
    "  pos_leyenda        = (0.5, -0.25),\n",
    "  eje_y_xc           = 0.05,\n",
    "  eje_y_xm           = 0.05,\n",
    "  dim_grafico        = (35, 8),\n",
    "  punt_mora          = 85, #Tamaño de puntos de mora temprana\n",
    "  etiquetas          =True,\n",
    "  pos_etiquetas_xm   = 10,\n",
    "  pos_etiquetas_xc   = 10,\n",
    "  tamaño_etiqueta    = 14,\n",
    "\n",
    "  # Exportar factores para vista driver\n",
    "  exportar_factores  = True\n",
    ")"
   ]
  },
  {
   "cell_type": "code",
   "execution_count": 0,
   "metadata": {
    "application/vnd.databricks.v1+cell": {
     "cellMetadata": {
      "byteLimit": 2048000,
      "rowLimit": 10000
     },
     "inputWidgets": {},
     "nuid": "58b6c960-6848-457b-8b07-7a19744d3523",
     "showTitle": false,
     "tableResultSettingsMap": {},
     "title": ""
    }
   },
   "outputs": [],
   "source": [
    "Obj_Seg.base_monitoreo.createOrReplaceTempView('hip_app_trad')\n",
    "spark.sql('''\n",
    "    CREATE OR REPLACE TABLE\n",
    "        catalog_lhcl_prod_bcp.bcp_edv_fabseg.T39290_hm_app_hiptrad_f\n",
    "    USING DELTA LOCATION \n",
    "        'abfss://bcp-edv-fabseg@adlscu1lhclbackp05.dfs.core.windows.net/T39290/Seguimiento/02_Applicant_Hipotecario/hm_app_hiptrad_F'\n",
    "    AS SELECT * FROM hip_app_trad\n",
    "    '''\n",
    ")"
   ]
  }
 ],
 "metadata": {
  "application/vnd.databricks.v1+notebook": {
   "computePreferences": null,
   "dashboards": [],
   "environmentMetadata": {
    "base_environment": "",
    "environment_version": "2"
   },
   "inputWidgetPreferences": null,
   "language": "python",
   "notebookMetadata": {
    "mostRecentlyExecutedCommandWithImplicitDF": {
     "commandId": -1,
     "dataframes": [
      "_sqldf"
     ]
    },
    "pythonIndentUnit": 4
   },
   "notebookName": "06_Correccion_App_HipTrad - Repuntuación",
   "widgets": {}
  },
  "language_info": {
   "name": "python"
  }
 },
 "nbformat": 4,
 "nbformat_minor": 0
}
