{
 "cells": [
  {
   "cell_type": "code",
   "execution_count": 0,
   "metadata": {
    "application/vnd.databricks.v1+cell": {
     "cellMetadata": {
      "byteLimit": 2048000,
      "rowLimit": 10000
     },
     "inputWidgets": {},
     "nuid": "67c55c8e-948b-43a2-958c-ef9d50398efc",
     "showTitle": false,
     "tableResultSettingsMap": {},
     "title": ""
    }
   },
   "outputs": [],
   "source": [
    "# Importando módulo de seguimiento\n",
    "import sys\n",
    "import importlib\n",
    "sys.path.append('/Workspace/Users/luisfdiaz@bcp.com.pe/ScoreGuardian')\n",
    "\n",
    "import core.SegScore as rmm\n",
    "importlib.reload(rmm)\n",
    "\n",
    "# Librerias y fuciones generales\n",
    "from pyspark.sql.functions import date_format, expr, to_date, date_sub, add_months, col, when, coalesce, trim, broadcast, avg, max, min, lit, concat, window, round as colround, upper, abs as sparkabs\n",
    "from pyspark.sql import functions as F\n",
    "from pyspark import StorageLevel\n",
    "import numpy as np\n",
    "import seaborn as sns\n",
    "import pandas as pd\n",
    "import matplotlib.pyplot as plt\n",
    "from pyspark.sql.window import Window\n",
    "from pyspark.sql.types import StructType, StructField, StringType\n",
    "\n",
    "#Mostrar los duplicados\n",
    "def print_res(sparkf_df):\n",
    "  import pandas as pd\n",
    "  pd.set_option('display.max_rows', None)\n",
    "  pd.set_option('display.max_columns', None)\n",
    "  pd_spark_df = sparkf_df.toPandas()\n",
    " \n",
    "  return pd_spark_df\n",
    "\n",
    "def avance_codmes_col(base, avance_mes):\n",
    "    for l in range(0, avance_mes + 1, 1):\n",
    "        base = base.withColumn(f\"CODMES_F{l}\", date_format(add_months(to_date(concat(col(\"codmes\"), lit(\"01\")), \"yyyyMMdd\"), l), \"yyyyMM\"))\n",
    "        base = base.withColumn(f\"CODMES_F{l}\", col(f\"CODMES_F{l}\").cast(\"integer\"))\n",
    "    return base"
   ]
  },
  {
   "cell_type": "code",
   "execution_count": 0,
   "metadata": {
    "application/vnd.databricks.v1+cell": {
     "cellMetadata": {
      "byteLimit": 2048000,
      "rowLimit": 10000
     },
     "inputWidgets": {},
     "nuid": "b2c3acea-2356-499b-b255-3ab1cc9674c4",
     "showTitle": false,
     "tableResultSettingsMap": {},
     "title": ""
    }
   },
   "outputs": [],
   "source": [
    "# ltv_malita = spark.table('catalog_lhcl_prod_bcp.bcp_edv_fabseg.T45988_EXT_SEG_AGRUP_LTV_202504')\n",
    "\n",
    "# hip_ahol_2 = hip_ahol_2.alias(\"A\") \\\n",
    "#     .join(ltv_malita.alias(\"F\"), F.col(\"A.CODSOLICITUD\") == F.col(\"F.CODSOLICITUD\"), \"left\") \\\n",
    "#     .join(hip_ahol_2.alias(\"G\"), (F.col(\"A.CODSOLICITUD\") == F.col(\"G.CODSOLICITUD\")) & (F.col(\"A.CODCLAVEOPECTA\") == F.col(\"G.CODCLAVEOPECTA\")), \"left\") \\\n",
    "#     .select(\"A.*\", F.coalesce(F.col(\"F.LTV\"), F.col(\"G.LTV_RBM\")).alias(\"LTV_CORREGIDO_0\") ,F.col(\"F.LTV\").alias(\"LTV_EXT\"))"
   ]
  },
  {
   "cell_type": "code",
   "execution_count": 0,
   "metadata": {
    "application/vnd.databricks.v1+cell": {
     "cellMetadata": {
      "byteLimit": 2048000,
      "rowLimit": 10000
     },
     "inputWidgets": {},
     "nuid": "6d82c47a-73eb-4cae-96a7-1b100bf6b2fa",
     "showTitle": false,
     "tableResultSettingsMap": {},
     "title": ""
    }
   },
   "outputs": [],
   "source": [
    "# Importando base y configuraciones iniciales\n",
    "base_seguimiento = spark.sql(\"select distinct * from catalog_lhcl_prod_bcp.bcp_edv_fabseg.t39290_hm_app_hipahlo\")\n",
    "base_seguimiento = base_seguimiento.withColumn(\"CODMES\", col(\"CODMES\").cast(\"integer\"))\n",
    "base_seguimiento = base_seguimiento.withColumn(\"DEF5\", when(col(\"DISTANCIA_DEF24\") <= 5, lit(1)).otherwise(lit(0)))\n",
    "base_seguimiento = base_seguimiento.withColumn(\"DEF4\", when(col(\"DISTANCIA_DEF24\") <= 4, lit(1)).otherwise(lit(0))) \n",
    "\n",
    "base_seguimiento.persist(StorageLevel.MEMORY_AND_DISK).count()\n",
    "\n",
    "# Verificando duplicandos en el segundo Join\n",
    "dup = base_seguimiento.groupBy(\"CODCLAVEOPECTA\", \"CODMES\").count().alias(\"count\").filter(col(\"count\")>1)\n",
    "print_res(dup)"
   ]
  },
  {
   "cell_type": "code",
   "execution_count": 0,
   "metadata": {
    "application/vnd.databricks.v1+cell": {
     "cellMetadata": {
      "byteLimit": 2048000,
      "rowLimit": 10000
     },
     "inputWidgets": {},
     "nuid": "c32b458f-eb72-4a74-bb93-a8971a269054",
     "showTitle": false,
     "tableResultSettingsMap": {},
     "title": ""
    }
   },
   "outputs": [],
   "source": [
    "base_seguimiento = base_seguimiento.withColumn(\"FLG_VC_VIVIENDA_RBM\", F.when(F.col(\"PRS_ValorComVivienda\") <= 355100, 1).otherwise(0))\n",
    "base_seguimiento = base_seguimiento.withColumn(\"ACT_HIP\", when(col(\"CODMES\")<202308, \"ANTES\").otherwise(col(\"ACT_HIP\")))"
   ]
  },
  {
   "cell_type": "code",
   "execution_count": 0,
   "metadata": {
    "application/vnd.databricks.v1+cell": {
     "cellMetadata": {
      "byteLimit": 2048000,
      "rowLimit": 10000
     },
     "inputWidgets": {},
     "nuid": "2cf774b9-fee4-4abf-a930-7baf35a23dc9",
     "showTitle": false,
     "tableResultSettingsMap": {},
     "title": ""
    }
   },
   "outputs": [],
   "source": [
    "pd_cal='PD_2024Q4vf'#vigente\n",
    "pd_rbm='PD_RBM'\n",
    "pd_trc='PD_FINAL_BASE'\n",
    "tipo_banda = 'Jeffrey'#Jeffrey Vasiseck\n",
    "codmes_default = 202307\n",
    "columna_monto='MTOAPROBADO_SOLES'\n",
    "titulo='Calibración Applicant App Ahorro Local'\n",
    "condiciones= \"CODMES >= 201901 AND DEF_120_BLOQ_REF_0 = 0\""
   ]
  },
  {
   "cell_type": "code",
   "execution_count": 0,
   "metadata": {
    "application/vnd.databricks.v1+cell": {
     "cellMetadata": {
      "byteLimit": 2048000,
      "rowLimit": 10000
     },
     "inputWidgets": {},
     "nuid": "55ca7e49-ed70-4ee2-9e21-9700982d757f",
     "showTitle": false,
     "tableResultSettingsMap": {},
     "title": ""
    }
   },
   "outputs": [],
   "source": [
    "# Objeto de Seguimiento\n",
    "Obj_Seg = rmm.MonitorScore(\n",
    "  nombre_modelo         = 'Personas Modelo Applicant Ahorro Local',\n",
    "  codigo_modelo         = 'MOD-BCP-20658',\n",
    "  tier                  = 'II',\n",
    "  detalle_seguimiento   = 'Seguimiento Applicant Ahorro Local',\n",
    "  mes_seguimiento       = '202504',\n",
    "  base_monitoreo        = base_seguimiento,\n",
    "  pd1                   = pd_cal,\n",
    "  pd2                   = pd_rbm,\n",
    "  monto_credito         = columna_monto,\n",
    "  query_univ            = \"DEF_120_BLOQ_REF_0=0 AND FLG_VC_VIVIENDA_RBM=1 and ACT_HIP IN ('EMISION MEDIO DE PAGO', 'DESEMBOLSO', 'ANTES')\",\n",
    "  bandas                = tipo_banda,\n",
    "  codmes_default        = codmes_default,\n",
    "  meses_ventana_target  = 24,\n",
    "  meses_atraso_target   = 4\n",
    ")"
   ]
  },
  {
   "cell_type": "markdown",
   "metadata": {
    "application/vnd.databricks.v1+cell": {
     "cellMetadata": {
      "byteLimit": 2048000,
      "rowLimit": 10000
     },
     "inputWidgets": {},
     "nuid": "470cab20-1bfd-4c73-9884-e42b67fc262c",
     "showTitle": false,
     "tableResultSettingsMap": {},
     "title": ""
    }
   },
   "source": [
    "# Segmento No Cliente"
   ]
  },
  {
   "cell_type": "markdown",
   "metadata": {
    "application/vnd.databricks.v1+cell": {
     "cellMetadata": {
      "byteLimit": 2048000,
      "rowLimit": 10000
     },
     "inputWidgets": {},
     "nuid": "c1d5c20c-72e3-4661-95e4-55534d881312",
     "showTitle": false,
     "tableResultSettingsMap": {},
     "title": ""
    }
   },
   "source": [
    "## LTV"
   ]
  },
  {
   "cell_type": "code",
   "execution_count": 0,
   "metadata": {
    "application/vnd.databricks.v1+cell": {
     "cellMetadata": {
      "byteLimit": 2048000,
      "rowLimit": 10000
     },
     "inputWidgets": {},
     "nuid": "9357047d-090a-4d82-a72e-52990725b193",
     "showTitle": false,
     "tableResultSettingsMap": {},
     "title": ""
    }
   },
   "outputs": [],
   "source": [
    "Obj_Seg.base_monitoreo = Obj_Seg.base_monitoreo.withColumn('LTV_CREADA', col('MTOAPROBADO_SOLES')/col('CSOL_ValorComVivienda'))\n",
    "Obj_Seg.base_monitoreo = Obj_Seg.base_monitoreo.withColumn('LTV_SALESFORCE', when(col('CODMES')<=202502, col('LTV_SALESFORCE')).otherwise(col('LTV_CREADA')))"
   ]
  },
  {
   "cell_type": "code",
   "execution_count": 0,
   "metadata": {
    "application/vnd.databricks.v1+cell": {
     "cellMetadata": {
      "byteLimit": 2048000,
      "rowLimit": 10000
     },
     "inputWidgets": {},
     "nuid": "ca6385b9-3fe5-4e51-9388-ecc39e2678da",
     "showTitle": false,
     "tableResultSettingsMap": {},
     "title": ""
    }
   },
   "outputs": [],
   "source": [
    "# Cortamos la variable\n",
    "plazo = Obj_Seg.CutVar(variables=['LTV_SALESFORCE', 'LTV_SUITE'], num_cortes=4, query_corte=\"CODMES BETWEEN 202101 AND 202410 AND DEF_120_BLOQ_REF_0 = 0\")"
   ]
  },
  {
   "cell_type": "code",
   "execution_count": 0,
   "metadata": {
    "application/vnd.databricks.v1+cell": {
     "cellMetadata": {
      "byteLimit": 2048000,
      "rowLimit": 10000
     },
     "inputWidgets": {},
     "nuid": "14f278a2-d18f-47ce-b099-e857164db698",
     "showTitle": false,
     "tableResultSettingsMap": {},
     "title": ""
    }
   },
   "outputs": [],
   "source": [
    "driver = 'LTV_SALESFORCE_Q'\n",
    "Obj_SegPSI, mix_n, mix_m, psi_c, psi_m = Obj_Seg.MixPSI(\n",
    "  # Selección del driver y filtro de uso\n",
    "  driver             = driver,\n",
    "  query_uso          = 'CODMES >= 202105',\n",
    "  cast_int           = False,\n",
    "\n",
    "  # Ventana de construcción o más antigua\n",
    "  codmes_inicio1     = 202201,\n",
    "  codmes_fin1        = 202312,\n",
    "\n",
    "  # Periodo reciente\n",
    "  codmes_inicio2     = 202401,\n",
    "  codmes_fin2        = 202412,\n",
    "\n",
    "  # Detalles del gráfico\n",
    "  titulo             = driver,\n",
    "  dim_grafico        = (25,6.5),\n",
    "  pos_leyenda        = (0.5, -0.25),\n",
    "  borde              = 0.08,\n",
    "\n",
    ")"
   ]
  },
  {
   "cell_type": "code",
   "execution_count": 0,
   "metadata": {
    "application/vnd.databricks.v1+cell": {
     "cellMetadata": {
      "byteLimit": 2048000,
      "rowLimit": 10000
     },
     "inputWidgets": {},
     "nuid": "bf233003-c7cf-4f37-b2a8-3ba150bb1c35",
     "showTitle": false,
     "tableResultSettingsMap": {},
     "title": ""
    }
   },
   "outputs": [],
   "source": [
    "\n",
    "Obj_Seg.base_monitoreo = Obj_Seg.base_monitoreo.withColumn(\n",
    "  'LTV_DEFINITIVA_Q',\n",
    "  when((col('LTV_SUITE') >= 0) & (col('LTV_SUITE') <= 0.40), \"0. [0, 40%]\")\n",
    "  .when((col('LTV_SUITE') > 0.4) & (col('LTV_SUITE') <= 0.60), \"1. (40%, 60%]\")\n",
    "  .when((col('LTV_SUITE') > 0.6) & (col('LTV_SUITE') <= 0.70), \"2. (60%, 70%]\")\n",
    "  .when((col('LTV_SUITE') > 0.7) & (col('LTV_SUITE') <= 0.80), \"3. (70%, 80%]\")\n",
    "  .when((col('LTV_SUITE') > 0.8) & (col('LTV_SUITE') <= 0.90), \"4. (80%, 90%]\")\n",
    "  .when((col('LTV_SUITE') > 0.9) & (col('LTV_SUITE') <= 1), \"5. (90%, 100%]\")\n",
    ")\n",
    "driver = 'LTV_DEFINITIVA_Q'\n",
    "Obj_SegPSI, mix_n, mix_m, psi_c, psi_m = Obj_Seg.MixPSI(\n",
    "  # Selección del driver y filtro de uso\n",
    "  driver             = driver,\n",
    "  query_uso          = 'CODMES >= 202201',\n",
    "  cast_int           = False,\n",
    "\n",
    "  # Ventana de construcción o más antigua\n",
    "  codmes_inicio1     = 202201,\n",
    "  codmes_fin1        = 202312,\n",
    "\n",
    "  # Periodo reciente\n",
    "  codmes_inicio2     = 202401,\n",
    "  codmes_fin2        = 202412,\n",
    "\n",
    "  # Detalles del gráfico\n",
    "  titulo             = driver,\n",
    "  dim_grafico        = (25,6.5),\n",
    "  pos_leyenda        = (0.5, -0.25),\n",
    "  borde              = 0.08,\n",
    "  metrica_secundaria = 'Media'\n",
    ")"
   ]
  },
  {
   "cell_type": "code",
   "execution_count": 0,
   "metadata": {
    "application/vnd.databricks.v1+cell": {
     "cellMetadata": {
      "byteLimit": 2048000,
      "rowLimit": 10000
     },
     "inputWidgets": {},
     "nuid": "46f5084a-1af6-4066-a1ff-79eb6fa929d7",
     "showTitle": false,
     "tableResultSettingsMap": {},
     "title": ""
    }
   },
   "outputs": [],
   "source": [
    "fc = pd.DataFrame([(1, 1), (1, 1), (1, 1)], columns=['CODMES', 'FAC_CAL_DRI_N'])\n",
    "fm = pd.DataFrame([(1, 1), (1, 1), (1, 1)], columns=['CODMES', 'FAC_CAL_DRI_M'])"
   ]
  },
  {
   "cell_type": "code",
   "execution_count": 0,
   "metadata": {
    "application/vnd.databricks.v1+cell": {
     "cellMetadata": {
      "byteLimit": 2048000,
      "rowLimit": 10000
     },
     "inputWidgets": {},
     "nuid": "fde06556-a7e5-4fbf-b578-c9e51ef5bc65",
     "showTitle": false,
     "tableResultSettingsMap": {},
     "title": ""
    }
   },
   "outputs": [],
   "source": [
    "caldri_veh_app, rc_dri, rm_dri = Obj_Seg.CalDri(\n",
    "  driver             = 'LTV_DEFINITIVA_Q',\n",
    "  query_uso          = f\"CODMES >= 202110 AND CODMES <= 202304\",\n",
    "  pd_seg             = 'PD_2024Q4vf',\n",
    "  rd_aux             = 'RD12',\n",
    "  pd_comparacion     = False,\n",
    "  factores_cuentas   = fc,\n",
    "  factores_montos    = fm,\n",
    "  mat_importancia    = 0,\n",
    "  cast_int           = True, \n",
    "  proys_def_temp     = 3,\n",
    "  titulo             = f'LTV_DEFINITIVA_Q',\n",
    "  dim_grafico        = (26, 6.5),\n",
    "  etiquetas          = True,\n",
    "  pos_etiquetas_xc   = [10, 10, 10, 10, 10, 10, 10, 10, 10],\n",
    "  pos_etiquetas_xm   = [10, 10, 10, 10, 10, 10, 10, 10, 10, 10],\n",
    "  pos_leyenda        = (0.5, -0.2),\n",
    "  punt_mora          = 100,\n",
    "  iv = True\n",
    ")"
   ]
  },
  {
   "cell_type": "code",
   "execution_count": 0,
   "metadata": {
    "application/vnd.databricks.v1+cell": {
     "cellMetadata": {
      "byteLimit": 2048000,
      "rowLimit": 10000
     },
     "inputWidgets": {},
     "nuid": "df7d8ece-3e7c-4f9e-96c5-5a5aa55772c4",
     "showTitle": false,
     "tableResultSettingsMap": {},
     "title": ""
    }
   },
   "outputs": [],
   "source": [
    "caldri_veh_app, rc_dri, rm_dri = Obj_Seg.CalDri(\n",
    "  driver             = 'LTV_SUITE_Q',\n",
    "  query_uso          = f\"CODMES >= 202110 AND CODMES <= 202304\",\n",
    "  pd_seg             = 'PD_2024Q4vf',\n",
    "  rd_aux             = 'RD12',\n",
    "  pd_comparacion     = False,\n",
    "  factores_cuentas   = fc,\n",
    "  factores_montos    = fm,\n",
    "  mat_importancia    = 0,\n",
    "  cast_int           = True, \n",
    "  proys_def_temp     = 3,\n",
    "  titulo             = f'LTV_SUITE_Q',\n",
    "  dim_grafico        = (26, 6.5),\n",
    "  etiquetas          = True,\n",
    "  pos_etiquetas_xc   = [10, 10, 10, 10, 10, 10, 10, 10, 10],\n",
    "  pos_etiquetas_xm   = [10, 10, 10, 10, 10, 10, 10, 10, 10, 10],\n",
    "  pos_leyenda        = (0.5, -0.2),\n",
    "  punt_mora          = 100,\n",
    "  iv = True\n",
    ")"
   ]
  },
  {
   "cell_type": "code",
   "execution_count": 0,
   "metadata": {
    "application/vnd.databricks.v1+cell": {
     "cellMetadata": {
      "byteLimit": 2048000,
      "rowLimit": 10000
     },
     "inputWidgets": {},
     "nuid": "c611a83f-9998-46ae-aac9-492f09e3ce29",
     "showTitle": false,
     "tableResultSettingsMap": {},
     "title": ""
    }
   },
   "outputs": [],
   "source": [
    "psi_dri = Obj_Seg.MixPSIVar(\n",
    "  # Parametros de figura individual\n",
    "  query_uso         ='CODMES >= 202201',\n",
    "  cast_int          =True,\n",
    "  codmes_inicio1    =202011,\n",
    "  codmes_fin1       =202204,\n",
    "  codmes_inicio2    =202501,\n",
    "  codmes_fin2       =202504,\n",
    "  dim_grafico       =(25, 6),\n",
    "  pos_leyenda       =(0.5, -0.25),\n",
    " \n",
    "  # Parametros de figura final\n",
    "  tipo_vista        = 'M',\n",
    "  ncolumnas         = 2,\n",
    "  nfilas            = 1,\n",
    "  variables         = plazo,\n",
    "  dim_grafico_total = (21, 6),\n",
    "  ncol_leyenda      =5,\n",
    "  tamaño_leyenda    = 8.25,\n",
    "  vspacio           =-0.45,\n",
    "  hspacio           =0,\n",
    "  borde             = 0.08\n",
    ")"
   ]
  },
  {
   "cell_type": "code",
   "execution_count": 0,
   "metadata": {
    "application/vnd.databricks.v1+cell": {
     "cellMetadata": {
      "byteLimit": 2048000,
      "rowLimit": 10000
     },
     "inputWidgets": {},
     "nuid": "8cda8898-4676-473a-8003-4d38ae3dffcb",
     "showTitle": false,
     "tableResultSettingsMap": {},
     "title": ""
    }
   },
   "outputs": [],
   "source": [
    "# Corrgiendo LTV para segmento Cliente\n",
    "Obj_Seg.base_monitoreo = Obj_Seg.base_monitoreo.withColumn(\n",
    "    \"LTV_AJUSTADO_REP\", \n",
    "    when(col(\"LTV_SALESFORCE\")<0.80017114914425, 0.80017114914425)\n",
    "    .when(col(\"LTV_SALESFORCE\")>0.8628, 0.8628)\n",
    "    .otherwise(col(\"LTV_SALESFORCE\"))\n",
    ")\n",
    "\n",
    "Obj_Seg.base_monitoreo = Obj_Seg.base_monitoreo.withColumn(\n",
    "    \"LTV_AJUSTADO_A2_REP\",\n",
    "    when(col(\"LTV_AJUSTADO_REP\")>=0.8218960830333, col(\"LTV_AJUSTADO_REP\")*( 18.6829109272581)+(-19.0487761651462))\n",
    "    .when(col(\"LTV_AJUSTADO_REP\")<0.8218960830333,  -3.69336485437273)\n",
    "    .when(col(\"LTV_AJUSTADO_REP\").isNull(), -3.32089743926051)\n",
    ")\n",
    "\n",
    "Obj_Seg.base_monitoreo = Obj_Seg.base_monitoreo.withColumn(\n",
    "    \"LTV_AJUSTADO_A2_REP\",\n",
    "    when(col(\"LTV_AJUSTADO_A2_REP\")<-5.30330490805907,  -5.30330490805907)\n",
    "    .when(col(\"LTV_AJUSTADO_A2_REP\")>5.30330490805907,  5.30330490805907)\n",
    "    .otherwise(col(\"LTV_AJUSTADO_A2_REP\"))\n",
    ")\n",
    "\n",
    "# Corrigiendo LTV para segmento No Cliente\n",
    "Obj_Seg.base_monitoreo = Obj_Seg.base_monitoreo.withColumn(\n",
    "    \"LTV_AJUSTADO_REP\", \n",
    "    when(col(\"LTV_SALESFORCE\")<0.70014975550122, 0.70014975550122)\n",
    "    .when(col(\"LTV_SALESFORCE\")>0.8628, 0.8628)\n",
    "    .otherwise(col(\"LTV_SALESFORCE\"))\n",
    ")\n",
    "\n",
    "Obj_Seg.base_monitoreo = Obj_Seg.base_monitoreo.withColumn(\n",
    "    \"LTV_AJUSTADO_A3_REP\",\n",
    "    when(col(\"LTV_AJUSTADO_REP\")<=0.77197707614449, col(\"LTV_AJUSTADO_REP\")*(13.6280190364747)+(-13.4371609294235))\n",
    "    .when(col(\"LTV_AJUSTADO_REP\")>0.77197707614449,  -2.91664264000431)\n",
    "    .when(col(\"LTV_AJUSTADO_REP\").isNull(), -3.05605519073697)\n",
    ")\n",
    "\n",
    "Obj_Seg.base_monitoreo = Obj_Seg.base_monitoreo.withColumn(\n",
    "    \"LTV_AJUSTADO_A3_REP\",\n",
    "    when(col(\"LTV_AJUSTADO_A3_REP\")<-5.30330490805907,  -5.30330490805907)\n",
    "    .when(col(\"LTV_AJUSTADO_A3_REP\")>5.30330490805907,  5.30330490805907)\n",
    "    .otherwise(col(\"LTV_AJUSTADO_A3_REP\"))\n",
    ")"
   ]
  },
  {
   "cell_type": "code",
   "execution_count": 0,
   "metadata": {
    "application/vnd.databricks.v1+cell": {
     "cellMetadata": {
      "byteLimit": 2048000,
      "rowLimit": 10000
     },
     "inputWidgets": {},
     "nuid": "a775100f-94d3-47d6-8337-5bd71fc2562d",
     "showTitle": false,
     "tableResultSettingsMap": {},
     "title": ""
    }
   },
   "outputs": [],
   "source": [
    "ant_laboral = Obj_Seg.CutVar(variables=['LTV_AJUSTADO_REP'], num_cortes=4, query_corte=\"CODMES BETWEEN 202101 AND 202410 AND DEF_120_BLOQ_REF_0 = 0\")\n",
    "driver = 'LTV_AJUSTADO_REP_Q'\n",
    "Obj_SegPSI, mix_n, mix_m, psi_c, psi_m = Obj_Seg.MixPSI(\n",
    "  # Selección del driver y filtro de uso\n",
    "  driver             = driver,\n",
    "  query_uso          = 'CODMES >= 202101',\n",
    "  cast_int           = False,\n",
    "\n",
    "  # Ventana de construcción o más antigua\n",
    "  codmes_inicio1     = 202201,\n",
    "  codmes_fin1        = 202312,\n",
    "\n",
    "  # Periodo reciente\n",
    "  codmes_inicio2     = 202401,\n",
    "  codmes_fin2        = 202412,\n",
    "\n",
    "  # Detalles del gráfico\n",
    "  titulo             = driver,\n",
    "  dim_grafico        = (25,6.5),\n",
    "  pos_leyenda        = (0.5, -0.25),\n",
    "  borde              = 0.08\n",
    ")"
   ]
  },
  {
   "cell_type": "markdown",
   "metadata": {
    "application/vnd.databricks.v1+cell": {
     "cellMetadata": {
      "byteLimit": 2048000,
      "rowLimit": 10000
     },
     "inputWidgets": {},
     "nuid": "3a8374f1-7680-4563-9343-ff7e23c78874",
     "showTitle": false,
     "tableResultSettingsMap": {},
     "title": ""
    }
   },
   "source": [
    "## Zona Riesgo"
   ]
  },
  {
   "cell_type": "code",
   "execution_count": 0,
   "metadata": {
    "application/vnd.databricks.v1+cell": {
     "cellMetadata": {
      "byteLimit": 2048000,
      "rowLimit": 10000
     },
     "inputWidgets": {},
     "nuid": "a1ead15b-6013-47e4-b5ac-865f748c4724",
     "showTitle": false,
     "tableResultSettingsMap": {},
     "title": ""
    }
   },
   "outputs": [],
   "source": [
    "altos = [\n",
    "    \"ATE-LIMA\", \n",
    "    \"CARABAYLLO-LIMA\", \n",
    "    \"EL AGUSTINO-LIMA\", \n",
    "    \"PACHACAMAC-LIMA\",\n",
    "    \"PUENTE PIEDRA-LIMA\", \n",
    "    \"SAN JUAN LURIGANCHO\",\n",
    "    \"SAN JUAN MIRAFLORES\", \n",
    "    \"VILLA EL SALVADOR\", \n",
    "    \"VILLA MARIA TRIUNFO\", \n",
    "    \"ATE-LIMA\", \n",
    "    \"CARABAYLLO-LIMA\",\n",
    "    \"BRE�A-LIMA\",\n",
    "    \"BRE#A-LIMA\",\n",
    "    \"VENTANILLA-LIMA\"\n",
    "]\n",
    "\n",
    "oriente = [\n",
    "    'AMAZONAS',\n",
    "    'SAN MARTIN',\n",
    "    'LORETO',\n",
    "    'MADRE DE DIOS',\n",
    "    'UCAYALI',\n",
    "    'HUANUCO',\n",
    "    'CERRO DE PASCO',\n",
    "    'JUNIN'\n",
    "]\n",
    "\n",
    "norte = [\n",
    "    'CAJAMARCA',\n",
    "    'ANCASH',\n",
    "    'TUMBES',\n",
    "    'LA LIBERTAD',\n",
    "    'LAMBAYEQUE',\n",
    "    'PIURA'\n",
    "]\n",
    "\n",
    "sur = [\n",
    "    'AREQUIPA',\n",
    "    'AYACUCHO',\n",
    "    'TACNA',\n",
    "    'CUZCO',\n",
    "    'PUNO',\n",
    "    'APURIMAC',\n",
    "    'HUANCAVELICA',\n",
    "    'MOQUEGUA',\n",
    "    'ICA'\n",
    "]\n",
    "\n",
    "Obj_Seg.base_monitoreo = Obj_Seg.base_monitoreo.withColumn(\"DISTRITO_P\", when(col(\"CODMES\")>202307, col(\"NFT_distritoinmueble\")).otherwise(col(\"ESTADOS_DISTRITO\")))\n",
    "Obj_Seg.base_monitoreo = Obj_Seg.base_monitoreo.withColumn(\"DEPARTAMENTO_P\", when(col(\"CODMES\")>202307, col(\"NFT_departamentoinmueble\")).otherwise(col(\"ESTADOS_DEPARTAMENTO\")))\n",
    "\n",
    "Obj_Seg.base_monitoreo = Obj_Seg.base_monitoreo.withColumn(\n",
    "    \"ZONA_SEG_REP\", \n",
    "    when((col(\"DEPARTAMENTO_P\") == \"CALLAO\") & (col(\"DISTRITO_P\") == \"VENTANILLA-LIMA\"), \"ALTO_RIESGO\")\n",
    "    .when((col(\"DEPARTAMENTO_P\") == \"LIMA\") & (col(\"DISTRITO_P\") == \"ATE-LIMA\"), \"ALTO_RIESGO\")\n",
    "    .when((col(\"DEPARTAMENTO_P\") == \"LIMA\") & (col(\"DISTRITO_P\") == \"ANCON-LIMA\"), \"BAJO\")\n",
    "    .when((col(\"DEPARTAMENTO_P\") == \"LIMA\") & (col(\"DISTRITO_P\") == \"BARRANCO-LIMA\"), \"BAJO\")\n",
    "    .when((col(\"DEPARTAMENTO_P\") == \"LIMA\") & (col(\"DISTRITO_P\") == \"BELLAVISTA-LIMA\"), \"BAJO\")\n",
    "    .when((col(\"DEPARTAMENTO_P\") == \"LIMA\") & (col(\"DISTRITO_P\") == \"BRE�A-LIMA\"), \"ALTO_RIESGO\")\n",
    "    .when((col(\"DEPARTAMENTO_P\") == \"LIMA\") & (col(\"DISTRITO_P\") == \"BRE#A-LIMA\"), \"ALTO_RIESGO\")\n",
    "    .when((col(\"DEPARTAMENTO_P\") == \"LIMA\") & (col(\"DISTRITO_P\") == \"CARABAYLLO-LIMA\"), \"ALTO_RIESGO\")\n",
    "    .when((col(\"DEPARTAMENTO_P\") == \"LIMA\") & (col(\"DISTRITO_P\") == \"LIMA CERCADO-LIMA\"), \"BAJO\")\n",
    "    .when((col(\"DEPARTAMENTO_P\") == \"LIMA\") & (col(\"DISTRITO_P\") == \"CHACLACAYO-LIMA\"), \"BAJO\")\n",
    "    .when((col(\"DEPARTAMENTO_P\") == \"LIMA\") & (col(\"DISTRITO_P\") == \"CHORRILLOS-LIMA\"), \"BAJO\")\n",
    "    .when((col(\"DEPARTAMENTO_P\") == \"LIMA\") & (col(\"DISTRITO_P\") == \"COMAS-LIMA\"), \"BAJO\")\n",
    "    .when((col(\"DEPARTAMENTO_P\") == \"LIMA\") & (col(\"DISTRITO_P\") == \"EL AGUSTINO-LIMA\"), \"ALTO_RIESGO\")\n",
    "    .when((col(\"DEPARTAMENTO_P\") == \"LIMA\") & (col(\"DISTRITO_P\") == \"INDEPENDENCIA-LIMA\"), \"BAJO\")\n",
    "    .when((col(\"DEPARTAMENTO_P\") == \"LIMA\") & (col(\"DISTRITO_P\") == \"JESUS MARIA-LIMA\"), \"BAJO\")\n",
    "    .when((col(\"DEPARTAMENTO_P\") == \"LIMA\") & (col(\"DISTRITO_P\") == \"LA MOLINA-LIMA\"), \"BAJO\")\n",
    "    .when((col(\"DEPARTAMENTO_P\") == \"LIMA\") & (col(\"DISTRITO_P\") == \"LA VICTORIA-LIMA\"), \"BAJO\")\n",
    "    .when((col(\"DEPARTAMENTO_P\") == \"LIMA\") & (col(\"DISTRITO_P\") == \"LINCE-LIMA\"), \"BAJO\")\n",
    "    .when((col(\"DEPARTAMENTO_P\") == \"LIMA\") & (col(\"DISTRITO_P\") == \"LOS OLIVOS-LIMA\"), \"BAJO\")\n",
    "    .when((col(\"DEPARTAMENTO_P\") == \"LIMA\") & (col(\"DISTRITO_P\") == \"LURIGANCHO-LIMA\"), \"BAJO\")\n",
    "    .when((col(\"DEPARTAMENTO_P\") == \"LIMA\") & (col(\"DISTRITO_P\") == \"LURIN-LIMA\"), \"BAJO\")\n",
    "    .when((col(\"DEPARTAMENTO_P\") == \"LIMA\") & (col(\"DISTRITO_P\") == \"MAGDALENA DEL MAR-LIMA\"), \"BAJO\")\n",
    "    .when((col(\"DEPARTAMENTO_P\") == \"LIMA\") & (col(\"DISTRITO_P\") == \"MIRAFLORES-LIMA\"), \"BAJO\")\n",
    "    .when((col(\"DEPARTAMENTO_P\") == \"LIMA\") & (col(\"DISTRITO_P\") == \"PACHACAMAC-LIMA\"), \"ALTO_RIESGO\")\n",
    "    .when((col(\"DEPARTAMENTO_P\") == \"LIMA\") & (col(\"DISTRITO_P\") == \"PUEBLO LIBRE-LIMA\"), \"BAJO\")\n",
    "    .when((col(\"DEPARTAMENTO_P\") == \"LIMA\") & (col(\"DISTRITO_P\") == \"PUENTE PIEDRA-LIMA\"), \"ALTO_RIESGO\")\n",
    "    .when((col(\"DEPARTAMENTO_P\") == \"LIMA\") & (col(\"DISTRITO_P\") == \"RIMAC-LIMA\"), \"BAJO\")\n",
    "    .when((col(\"DEPARTAMENTO_P\") == \"LIMA\") & (col(\"DISTRITO_P\") == \"SAN BORJA-LIMA\"), \"BAJO\")\n",
    "    .when((col(\"DEPARTAMENTO_P\") == \"LIMA\") & (col(\"DISTRITO_P\") == \"SAN ISIDRO-LIMA\"), \"BAJO\")\n",
    "    .when((col(\"DEPARTAMENTO_P\") == \"LIMA\") & (col(\"DISTRITO_P\") == \"SAN JUAN DE LURIGANCHO\"), \"ALTO_RIESGO\")\n",
    "    .when((col(\"DEPARTAMENTO_P\") == \"LIMA\") & (col(\"DISTRITO_P\") == \"SAN JUAN LURIGANCHO\"), \"ALTO_RIESGO\")\n",
    "    .when((col(\"DEPARTAMENTO_P\") == \"LIMA\") & (col(\"DISTRITO_P\") == \"SAN JUAN MIRAFLORES\"), \"ALTO_RIESGO\")\n",
    "    .when((col(\"DEPARTAMENTO_P\") == \"LIMA\") & (col(\"DISTRITO_P\") == \"SAN JUAN DE MIRAFLORES\"), \"ALTO_RIESGO\")\n",
    "    .when((col(\"DEPARTAMENTO_P\") == \"LIMA\") & (col(\"DISTRITO_P\") == \"SAN LUIS'-LIMA\"), \"BAJO\")\n",
    "    .when((col(\"DEPARTAMENTO_P\") == \"LIMA\") & (col(\"DISTRITO_P\") == \"SAN MARTIN DE PORRES\"), \"BAJO\")\n",
    "    .when((col(\"DEPARTAMENTO_P\") == \"LIMA\") & (col(\"DISTRITO_P\") == \"SANTA ANITA-LIMA\"), \"BAJO\")\n",
    "    .when((col(\"DEPARTAMENTO_P\") == \"LIMA\") & (col(\"DISTRITO_P\") == \"SURCO-LIMA\"), \"BAJO\")\n",
    "    .when((col(\"DEPARTAMENTO_P\") == \"LIMA\") & (col(\"DISTRITO_P\") == \"SURQUILLO-LIMA\"), \"BAJO\")\n",
    "    .when((col(\"DEPARTAMENTO_P\") == \"LIMA\") & (col(\"DISTRITO_P\") == \"VILLA EL SALVADOR\"), \"ALTO_RIESGO\")\n",
    "    .when((col(\"DEPARTAMENTO_P\") == \"LIMA\") & (col(\"DISTRITO_P\") == \"VILLA MARIA TRIUNFO\"), \"ALTO_RIESGO\")\n",
    "    .when((col(\"DEPARTAMENTO_P\") == \"LIMA\") & (col(\"DISTRITO_P\") == \"MAGDALENA DEL MAR\"), \"BAJO\")\n",
    "    .when((col(\"DEPARTAMENTO_P\") == \"LIMA\") & (col(\"DISTRITO_P\") == \"SANTIAGO DE SURCO\"), \"BAJO\")\n",
    "    .when((col(\"DEPARTAMENTO_P\") == \"LIMA\") & (col(\"DISTRITO_P\") == \"SAN MIGUEL-LIMA\"), \"BAJO\")\n",
    "    .when((col(\"DEPARTAMENTO_P\").isNull()) | (col(\"DEPARTAMENTO_P\") == \"\") | (col(\"DISTRITO_P\").isNull()) | (col(\"DISTRITO_P\") == \"\"), \"MISSING\")\n",
    "    .when(col(\"DEPARTAMENTO_P\").isin(oriente), \"CENTRO\")\n",
    "    .when(col(\"DEPARTAMENTO_P\").isin(norte), \"NORTE\")  \n",
    "    .when(col(\"DEPARTAMENTO_P\").isin(sur), \"SUR\")\n",
    "    .otherwise(\"BAJO\")\n",
    ")\n",
    "\n",
    "Obj_Seg.base_monitoreo = Obj_Seg.base_monitoreo.withColumn(\"FLG_ZONA_RIES_REP\", when(col(\"ZONA_SEG_REP\").isin([\"ORIENTE\", \"ALTO_RIESGO\", \"NORTE\"]), 1).otherwise(0))\n",
    "Obj_Seg.base_monitoreo = Obj_Seg.base_monitoreo.withColumn(\n",
    "    \"FLG_ZONA_RIES_A2_REP\",\n",
    "    when(col(\"FLG_ZONA_RIES_REP\")>=0.31063594313468, col(\"FLG_ZONA_RIES_REP\")*(0.86753195033657)+( -3.79151132823777))\n",
    "    .when(col(\"FLG_ZONA_RIES_REP\")<0.31063594313468, -3.5220247226455)\n",
    "    .otherwise(-3.5220247226455)\n",
    ")\n",
    "\n",
    "Obj_Seg.base_monitoreo = Obj_Seg.base_monitoreo.withColumn(\n",
    "    \"ZONA_RIES_REP\",\n",
    "    when(col(\"ZONA_SEG_REP\").isin([\"ORIENTE\", \"ALTO_RIESGO\"]), \"ALTO_RIESGO\")\n",
    "    .when(col(\"ZONA_SEG_REP\").isin([\"NORTE\", \"CENTRO\"]), \"CENTRO_NORTE\")\n",
    "    .when(col(\"ZONA_SEG_REP\")==\"MISSING\", \"MISSING\")\n",
    "    .otherwise(\"SUR_LIMA_CALLO\")\n",
    ")\n",
    "\n",
    "Obj_Seg.base_monitoreo = Obj_Seg.base_monitoreo.withColumn(\n",
    "    \"ZONA_RIES_ST_REP\",\n",
    "    when(col(\"ZONA_RIES_REP\")==\"SUR_LIMA_CALLO\", -3.377303061)\n",
    "    .when(col(\"ZONA_RIES_REP\")==\"CENTRO_NORTE\", -3.059560315)\n",
    "    .when(col(\"ZONA_RIES_REP\")==\"ALTO_RIESGO\", -2.661903598)\n",
    "    .otherwise(-3.056055191)\n",
    ")"
   ]
  },
  {
   "cell_type": "code",
   "execution_count": 0,
   "metadata": {
    "application/vnd.databricks.v1+cell": {
     "cellMetadata": {
      "byteLimit": 2048000,
      "rowLimit": 10000
     },
     "inputWidgets": {},
     "nuid": "6cacc79c-c7bd-40a6-af0a-4cf986de49b3",
     "showTitle": false,
     "tableResultSettingsMap": {},
     "title": ""
    }
   },
   "outputs": [],
   "source": [
    "driver = 'ZONA_RIES_REP'\n",
    "Obj_SegPSI, mix_n, mix_m, psi_c, psi_m = Obj_Seg.MixPSI(\n",
    "  # Selección del driver y filtro de uso\n",
    "  driver             = driver,\n",
    "  query_uso          = 'CODMES >= 202101',\n",
    "  cast_int           = False,\n",
    "\n",
    "  # Ventana de construcción o más antigua\n",
    "  codmes_inicio1     = 202201,\n",
    "  codmes_fin1        = 202312,\n",
    "\n",
    "  # Periodo reciente\n",
    "  codmes_inicio2     = 202401,\n",
    "  codmes_fin2        = 202412,\n",
    "\n",
    "  # Detalles del gráfico\n",
    "  titulo             = driver,\n",
    "  dim_grafico        = (25,6.5),\n",
    "  pos_leyenda        = (0.5, -0.25),\n",
    "  borde              = 0.08\n",
    ")"
   ]
  },
  {
   "cell_type": "markdown",
   "metadata": {
    "application/vnd.databricks.v1+cell": {
     "cellMetadata": {
      "byteLimit": 2048000,
      "rowLimit": 10000
     },
     "inputWidgets": {},
     "nuid": "8b4e4dde-894d-479f-8518-2f47ddf3509a",
     "showTitle": false,
     "tableResultSettingsMap": {},
     "title": ""
    }
   },
   "source": [
    "## Apalancamiento y Zona"
   ]
  },
  {
   "cell_type": "code",
   "execution_count": 0,
   "metadata": {
    "application/vnd.databricks.v1+cell": {
     "cellMetadata": {
      "byteLimit": 2048000,
      "rowLimit": 10000
     },
     "inputWidgets": {},
     "nuid": "8ff17068-dc6e-4235-87b7-d734a5a99228",
     "showTitle": false,
     "tableResultSettingsMap": {},
     "title": ""
    }
   },
   "outputs": [],
   "source": [
    "Obj_Seg.base_monitoreo = Obj_Seg.base_monitoreo.withColumn('APALANCAMIENTO', col('APALANCAMIENTO').cast('float'))\n",
    "\n",
    "Obj_Seg.base_monitoreo = Obj_Seg.base_monitoreo.withColumn(\n",
    "    \"ZONA_ING_SEG_REP\", \n",
    "    when((col(\"DEPARTAMENTO_P\") == \"CALLAO\") & (col(\"DISTRITO_P\") == \"VENTANILLA-LIMA\"), \"CALLAO\")\n",
    "    .when((col(\"DEPARTAMENTO_P\") == \"LIMA\") & (col(\"DISTRITO_P\") == \"ATE-LIMA\"), \"LIMA_ESTE\")\n",
    "    .when((col(\"DEPARTAMENTO_P\") == \"LIMA\") & (col(\"DISTRITO_P\") == \"BARRANCO-LIMA\"), \"LIMA_SUR\")\n",
    "    .when((col(\"DEPARTAMENTO_P\") == \"LIMA\") & (col(\"DISTRITO_P\") == \"ANCON-LIMA\"), \"LIMA_NORTE\")\n",
    "    .when((col(\"DEPARTAMENTO_P\") == \"LIMA\") & (col(\"DISTRITO_P\") == \"BELLAVISTA-LIMA\"), \"CALLAO\")\n",
    "    .when((col(\"DEPARTAMENTO_P\") == \"LIMA\") & (col(\"DISTRITO_P\") == \"BRE�A-LIMA\"), \"LIMA_CENTRO\")\n",
    "    .when((col(\"DEPARTAMENTO_P\") == \"LIMA\") & (col(\"DISTRITO_P\") == \"BRE#A-LIMA\"), \"LIMA_CENTRO\")\n",
    "    .when((col(\"DEPARTAMENTO_P\") == \"LIMA\") & (col(\"DISTRITO_P\") == \"CARABAYLLO-LIMA\"), \"LIMA_NORTE\")\n",
    "    .when((col(\"DEPARTAMENTO_P\") == \"LIMA\") & (col(\"DISTRITO_P\") == \"LIMA CERCADO-LIMA\"), \"LIMA_CENTRO\")\n",
    "    .when((col(\"DEPARTAMENTO_P\") == \"LIMA\") & (col(\"DISTRITO_P\") == \"CHACLACAYO-LIMA\"), \"LIMA_ESTE\")\n",
    "    .when((col(\"DEPARTAMENTO_P\") == \"LIMA\") & (col(\"DISTRITO_P\") == \"CHORRILLOS-LIMA\"), \"LIMA_SUR\")\n",
    "    .when((col(\"DEPARTAMENTO_P\") == \"LIMA\") & (col(\"DISTRITO_P\") == \"COMAS-LIMA\"), \"LIMA_NORTE\")\n",
    "    .when((col(\"DEPARTAMENTO_P\") == \"LIMA\") & (col(\"DISTRITO_P\") == \"EL AGUSTINO-LIMA\"), \"LIMA_ESTE\")\n",
    "    .when((col(\"DEPARTAMENTO_P\") == \"LIMA\") & (col(\"DISTRITO_P\") == \"INDEPENDENCIA-LIMA\"), \"LIMA_NORTE\")\n",
    "    .when((col(\"DEPARTAMENTO_P\") == \"LIMA\") & (col(\"DISTRITO_P\") == \"JESUS MARIA-LIMA\"), \"LIMA_MODERNA\")\n",
    "    .when((col(\"DEPARTAMENTO_P\") == \"LIMA\") & (col(\"DISTRITO_P\") == \"LA MOLINA-LIMA\"), \"LIMA_MODERNA\")\n",
    "    .when((col(\"DEPARTAMENTO_P\") == \"LIMA\") & (col(\"DISTRITO_P\") == \"LA VICTORIA-LIMA\"), \"LIMA_CENTRO\")\n",
    "    .when((col(\"DEPARTAMENTO_P\") == \"LIMA\") & (col(\"DISTRITO_P\") == \"LINCE-LIMA\"), \"LIMA_MODERNA\")\n",
    "    .when((col(\"DEPARTAMENTO_P\") == \"LIMA\") & (col(\"DISTRITO_P\") == \"LOS OLIVOS-LIMA\"), \"LIMA_NORTE\")\n",
    "    .when((col(\"DEPARTAMENTO_P\") == \"LIMA\") & (col(\"DISTRITO_P\") == \"LURIGANCHO-LIMA\"), \"LIMA_NORTE\")\n",
    "    .when((col(\"DEPARTAMENTO_P\") == \"LIMA\") & (col(\"DISTRITO_P\") == \"LURIN-LIMA\"), \"LIMA_SUR\")\n",
    "    .when((col(\"DEPARTAMENTO_P\") == \"LIMA\") & (col(\"DISTRITO_P\") == \"MAGDALENA DEL MAR-LIMA\"), \"LIMA_MODERNA\")\n",
    "    .when((col(\"DEPARTAMENTO_P\") == \"LIMA\") & (col(\"DISTRITO_P\") == \"MIRAFLORES-LIMA\"), \"LIMA_MODERNA\")\n",
    "    .when((col(\"DEPARTAMENTO_P\") == \"LIMA\") & (col(\"DISTRITO_P\") == \"PACHACAMAC-LIMA\"), \"LIMA_SUR\")\n",
    "    .when((col(\"DEPARTAMENTO_P\") == \"LIMA\") & (col(\"DISTRITO_P\") == \"PUEBLO LIBRE-LIMA\"), \"LIMA_MODERNA\")\n",
    "    .when((col(\"DEPARTAMENTO_P\") == \"LIMA\") & (col(\"DISTRITO_P\") == \"PUENTE PIEDRA-LIMA\"), \"LIMA_NORTE\")\n",
    "    .when((col(\"DEPARTAMENTO_P\") == \"LIMA\") & (col(\"DISTRITO_P\") == \"RIMAC-LIMA\"), \"LIMA_CENTRO\")\n",
    "    .when((col(\"DEPARTAMENTO_P\") == \"LIMA\") & (col(\"DISTRITO_P\") == \"SAN BORJA-LIMA\"), \"LIMA_MODERNA\")\n",
    "    .when((col(\"DEPARTAMENTO_P\") == \"LIMA\") & (col(\"DISTRITO_P\") == \"SAN ISIDRO-LIMA\"), \"LIMA_MODERNA\")\n",
    "    .when((col(\"DEPARTAMENTO_P\") == \"LIMA\") & (col(\"DISTRITO_P\") == \"SAN JUAN DE LURIGANCHO\"), \"LIMA_ESTE\")\n",
    "    .when((col(\"DEPARTAMENTO_P\") == \"LIMA\") & (col(\"DISTRITO_P\") == \"SAN JUAN LURIGANCHO\"), \"LIMA_ESTE\")\n",
    "    .when((col(\"DEPARTAMENTO_P\") == \"LIMA\") & (col(\"DISTRITO_P\") == \"SAN JUAN MIRAFLORES\"), \"LIMA_SUR\")\n",
    "    .when((col(\"DEPARTAMENTO_P\") == \"LIMA\") & (col(\"DISTRITO_P\") == \"SAN JUAN DE MIRAFLORES\"), \"LIMA_SUR\")\n",
    "    .when((col(\"DEPARTAMENTO_P\") == \"LIMA\") & (col(\"DISTRITO_P\") == \"SAN LUIS-LIMA\"), \"LIMA_CENTRO\")\n",
    "    .when((col(\"DEPARTAMENTO_P\") == \"LIMA\") & (col(\"DISTRITO_P\") == \"SAN MARTIN DE PORRES\"), \"LIMA_NORTE\")\n",
    "    .when((col(\"DEPARTAMENTO_P\") == \"LIMA\") & (col(\"DISTRITO_P\") == \"SANTA ANITA-LIMA\"), \"LIMA_ESTE\")\n",
    "    .when((col(\"DEPARTAMENTO_P\") == \"LIMA\") & (col(\"DISTRITO_P\") == \"SURCO-LIMA\"), \"LIMA_MODERNA\")\n",
    "    .when((col(\"DEPARTAMENTO_P\") == \"LIMA\") & (col(\"DISTRITO_P\") == \"SURQUILLO-LIMA\"), \"LIMA_MODERNA\")\n",
    "    .when((col(\"DEPARTAMENTO_P\") == \"LIMA\") & (col(\"DISTRITO_P\") == \"VILLA EL SALVADOR\"), \"LIMA_SUR\")\n",
    "    .when((col(\"DEPARTAMENTO_P\") == \"LIMA\") & (col(\"DISTRITO_P\") == \"VILLA MARIA TRIUNFO\"), \"LIMA_SUR\")\n",
    "    .when((col(\"DEPARTAMENTO_P\") == \"LIMA\") & (col(\"DISTRITO_P\") == \"MAGDALENA DEL MAR\"), \"LIMA_MODERNA\")\n",
    "    .when((col(\"DEPARTAMENTO_P\") == \"LIMA\") & (col(\"DISTRITO_P\") == \"SANTIAGO DE SURCO\"), \"LIMA_MODERNA\")\n",
    "    .when((col(\"DEPARTAMENTO_P\") == \"LIMA\") & (col(\"DISTRITO_P\") == \"SAN MIGUEL-LIMA\"), \"LIMA_MODERNA\")\n",
    "    .when((col(\"DEPARTAMENTO_P\") == \"LIMA\") & (col(\"DISTRITO_P\") == \"HUANGASCAR\"), \"LIMA_PROV\")\n",
    "    .when((col(\"DEPARTAMENTO_P\") == \"LIMA\") & (col(\"DISTRITO_P\") == \"HUAURA\"), \"LIMA_PROV\")\n",
    "    .when((col(\"DEPARTAMENTO_P\") == \"LIMA\") & (col(\"DISTRITO_P\") == \"HUACHO-LIMA\"), \"LIMA_PROV\")\n",
    "    .when((col(\"DEPARTAMENTO_P\") == \"LIMA\") & (col(\"DISTRITO_P\") == \"SANTA MARIA\"), \"LIMA_PROV\")\n",
    "    .when((col(\"DEPARTAMENTO_P\") == \"LIMA\") & (col(\"DISTRITO_P\") == \"PUCUSANA-LIMA\"), \"LIMA_SUR\")\n",
    "    .when((col(\"DEPARTAMENTO_P\") == \"LIMA\") & (col(\"DISTRITO_P\") == \"BARRANCA-LIMA\"), \"LIMA_PROV\")\n",
    "    .when((col(\"DEPARTAMENTO_P\") == \"LIMA\") & (col(\"DISTRITO_P\") == \"SAN BARTOLO-LIMA\"), \"LIMA_PROV\")\n",
    "    .when((col(\"DEPARTAMENTO_P\").isNull()) | (col(\"DEPARTAMENTO_P\") == \"\") | (col(\"DISTRITO_P\").isNull()) | (col(\"DISTRITO_P\") == \"\"), \"MISSING\")\n",
    "    .when(col(\"DEPARTAMENTO_P\").isin(\"CALLAO\"), \"LIMA\")\n",
    "    .when(col(\"DEPARTAMENTO_P\").isin(oriente), \"CENTRO\")\n",
    "    .when(col(\"DEPARTAMENTO_P\").isin(norte), \"NORTE\")  \n",
    "    .when(col(\"DEPARTAMENTO_P\").isin(sur), \"SUR\")\n",
    ")\n",
    "\n",
    "#------------------------------#\n",
    "#---- APALANCAMIENTO_VF_A3 ----#\n",
    "#------------------------------#\n",
    "\n",
    "Obj_Seg.base_monitoreo = Obj_Seg.base_monitoreo.withColumn(\n",
    "    \"APALANCAMIENTO_VF_REP\",\n",
    "    when((col(\"APALANCAMIENTO\").isNull()) & (col(\"ZONA_ING_SEG_REP\")=='CALLAO'), 4444444444)\n",
    "    .when((col(\"APALANCAMIENTO\").isNull()) & (col(\"ZONA_ING_SEG_REP\")=='CENTRO'), 5555555555)\n",
    "    .when((col(\"APALANCAMIENTO\").isNull()) & (col(\"ZONA_ING_SEG_REP\")=='LIMA_PROV'), 6666666666)\n",
    "    .when((col(\"APALANCAMIENTO\").isNull()) & (col(\"ZONA_ING_SEG_REP\")=='LIMA_CENTRO'), 7777777777)\n",
    "    .when((col(\"APALANCAMIENTO\").isNull()) & (col(\"ZONA_ING_SEG_REP\")=='LIMA_ESTE'), 1111111111)\n",
    "    .when((col(\"APALANCAMIENTO\").isNull()) & (col(\"ZONA_ING_SEG_REP\")=='LIMA_MODERNA'), -1111111111)\n",
    "    .when((col(\"APALANCAMIENTO\").isNull()) & (col(\"ZONA_ING_SEG_REP\")=='LIMA_NORTE'), 2222222222)\n",
    "    .when((col(\"APALANCAMIENTO\").isNull()) & (col(\"ZONA_ING_SEG_REP\")=='LIMA_SUR'), -2222222222)\n",
    "    .when((col(\"APALANCAMIENTO\").isNull()) & (col(\"ZONA_ING_SEG_REP\")=='NORTE'), 3333333333)\n",
    "    .when((col(\"APALANCAMIENTO\").isNull()) & (col(\"ZONA_ING_SEG_REP\")=='ORIENTE'), -3333333333)\n",
    "    .when(col(\"ZONA_ING_SEG_REP\").isNull(), None)\n",
    "    .otherwise(col(\"APALANCAMIENTO\"))\n",
    ")\n",
    "\n",
    "dummy_list = [4444444444, 4444444444, 6666666666, 7777777777, 1111111111, -1111111111, 2222222222, -2222222222, 3333333333, -3333333333]\n",
    "Obj_Seg.base_monitoreo = Obj_Seg.base_monitoreo.withColumn(\n",
    "    \"APALANCAMIENTO_VF_REP\",\n",
    "    when((~col('APALANCAMIENTO_VF_REP').isin(dummy_list)) & (col(\"APALANCAMIENTO_VF_REP\")<0), 0)\n",
    "    .when((~col('APALANCAMIENTO_VF_REP').isin(dummy_list)) & (col(\"APALANCAMIENTO_VF_REP\")>14.6738657407407), 14.6738657407407)\n",
    "    .otherwise(col(\"APALANCAMIENTO_VF_REP\"))\n",
    ")\n",
    "\n",
    "Obj_Seg.base_monitoreo = Obj_Seg.base_monitoreo.withColumn(\n",
    "    \"APALANCAMIENTO_VF_A3_REP\",\n",
    "    when((~col('APALANCAMIENTO_VF_REP').isin(dummy_list)) & (col(\"APALANCAMIENTO\")<=0.57784417966182), col(\"APALANCAMIENTO_VF_REP\")*(2.85727779797169)+( -4.60813537285898))\n",
    "    .when((~col('APALANCAMIENTO_VF_REP').isin(dummy_list)) & (col(\"APALANCAMIENTO\")>0.57784417966182), -2.95707402762409)\n",
    ")\n",
    "\n",
    "Obj_Seg.base_monitoreo = Obj_Seg.base_monitoreo.withColumn(\n",
    "    \"APALANCAMIENTO_VF_A3_REP\",\n",
    "    when((col(\"APALANCAMIENTO_VF_REP\").isNull()) | (col(\"APALANCAMIENTO_VF_REP\").isin(5555555555, 6666666666)), -3.30305711397781)\n",
    "    .when(col(\"APALANCAMIENTO_VF_REP\")==-1111111111,-3.30305711397781)\n",
    "    .when(col(\"APALANCAMIENTO_VF_REP\")==-2222222222,-3.30305711397781)\n",
    "    .when(col(\"APALANCAMIENTO_VF_REP\")==-3333333333,-3.30305711397781)\n",
    "    .when(col(\"APALANCAMIENTO_VF_REP\")==1111111111,-3.30305711397781)\n",
    "    .when(col(\"APALANCAMIENTO_VF_REP\")==2222222222,-3.82864139648909)\n",
    "    .when(col(\"APALANCAMIENTO_VF_REP\")==3333333333,-2.69462718077006)\n",
    "    .when(col(\"APALANCAMIENTO_VF_REP\")==4444444444,-3.30305711397781)\n",
    "    .when(col(\"APALANCAMIENTO_VF_REP\")==7777777777,-3.19184715248028)\n",
    "    .otherwise(col(\"APALANCAMIENTO_VF_A3_REP\"))\n",
    ")\n",
    "\n",
    "Obj_Seg.base_monitoreo = Obj_Seg.base_monitoreo.withColumn(\n",
    "    \"APALANCAMIENTO_VF_A3_REP\",\n",
    "    when(col(\"APALANCAMIENTO_VF_A3_REP\")<-5.30330490805907, -5.30330490805907)\n",
    "    .when(col(\"APALANCAMIENTO_VF_A3_REP\")>5.30330490805907, 5.30330490805907)\n",
    "    .when(col(\"APALANCAMIENTO_VF_A3_REP\").isNull(), -3.30305711397781)\n",
    "    .otherwise(col(\"APALANCAMIENTO_VF_A3_REP\"))\n",
    ")\n",
    "\n",
    "#------------------------------#\n",
    "#---- APALANCAMIENTO_VF_A1 ----#\n",
    "#------------------------------#\n",
    "\n",
    "Obj_Seg.base_monitoreo = Obj_Seg.base_monitoreo.withColumn(\n",
    "    \"APALANCAMIENTO_VF_REP\",\n",
    "    when((col(\"APALANCAMIENTO\").isNull()) & (col(\"ZONA_ING_SEG_REP\")=='CALLAO'), 4444444444)\n",
    "    .when((col(\"APALANCAMIENTO\").isNull()) & (col(\"ZONA_ING_SEG_REP\")=='CENTRO'), 5555555555)\n",
    "    .when((col(\"APALANCAMIENTO\").isNull()) & (col(\"ZONA_ING_SEG_REP\")=='LIMA_PROV'), 6666666666)\n",
    "    .when((col(\"APALANCAMIENTO\").isNull()) & (col(\"ZONA_ING_SEG_REP\")=='LIMA_CENTRO'), 7777777777)\n",
    "    .when((col(\"APALANCAMIENTO\").isNull()) & (col(\"ZONA_ING_SEG_REP\")=='LIMA_ESTE'), 1111111111)\n",
    "    .when((col(\"APALANCAMIENTO\").isNull()) & (col(\"ZONA_ING_SEG_REP\")=='LIMA_MODERNA'), -1111111111)\n",
    "    .when((col(\"APALANCAMIENTO\").isNull()) & (col(\"ZONA_ING_SEG_REP\")=='LIMA_NORTE'), 2222222222)\n",
    "    .when((col(\"APALANCAMIENTO\").isNull()) & (col(\"ZONA_ING_SEG_REP\")=='LIMA_SUR'), -2222222222)\n",
    "    .when((col(\"APALANCAMIENTO\").isNull()) & (col(\"ZONA_ING_SEG_REP\")=='NORTE'), 3333333333)\n",
    "    .when((col(\"APALANCAMIENTO\").isNull()) & (col(\"ZONA_ING_SEG_REP\")=='ORIENTE'), -3333333333)\n",
    "    .when(col(\"ZONA_ING_SEG_REP\").isNull(), None)\n",
    "    .otherwise(col(\"APALANCAMIENTO\"))\n",
    ")\n",
    "\n",
    "dummy_list = [4444444444, 4444444444, 6666666666, 7777777777, 1111111111, -1111111111, 2222222222, -2222222222, 3333333333, -3333333333]\n",
    "Obj_Seg.base_monitoreo = Obj_Seg.base_monitoreo.withColumn(\n",
    "    \"APALANCAMIENTO_VF_REP\",\n",
    "    when((~col('APALANCAMIENTO_VF_REP').isin(dummy_list)) & (col(\"APALANCAMIENTO_VF_REP\")<0), 0)\n",
    "    .when((~col('APALANCAMIENTO_VF_REP').isin(dummy_list)) & (col(\"APALANCAMIENTO_VF_REP\")>11.541568), 11.541568)\n",
    "    .otherwise(col(\"APALANCAMIENTO_VF_REP\"))\n",
    ")\n",
    "\n",
    "Obj_Seg.base_monitoreo = Obj_Seg.base_monitoreo.withColumn(\n",
    "    \"APALANCAMIENTO_VF_A1_REP\",\n",
    "    col(\"APALANCAMIENTO_VF_REP\")*(0.10381308011209)+(-3.88564085924316)\n",
    ")\n",
    "\n",
    "Obj_Seg.base_monitoreo = Obj_Seg.base_monitoreo.withColumn(\n",
    "    \"APALANCAMIENTO_VF_A1_REP\",\n",
    "    when(col(\"APALANCAMIENTO_VF_REP\").isNull(), -3.3756205398725)\n",
    "    .when(col(\"APALANCAMIENTO_VF_REP\")==-1111111111,-3.3756205398725)\n",
    "    .when(col(\"APALANCAMIENTO_VF_REP\")==-2222222222,-3.87120101090789)\n",
    "    .when(col(\"APALANCAMIENTO_VF_REP\")==-3333333333,-3.3756205398725)\n",
    "    .when(col(\"APALANCAMIENTO_VF_REP\")==1111111111,-3.3756205398725)\n",
    "    .when(col(\"APALANCAMIENTO_VF_REP\")==2222222222,-2.39789527279837)\n",
    "    .when(col(\"APALANCAMIENTO_VF_REP\")==3333333333,-2.38646657697474)\n",
    "    .when(col(\"APALANCAMIENTO_VF_REP\")==4444444444,-2.00148000021012)\n",
    "    .when(col(\"APALANCAMIENTO_VF_REP\")==7777777777,-3.45946628978613)\n",
    "    .when(col(\"APALANCAMIENTO_VF_REP\")==6666666666,-3.3756205398725)\n",
    "    .when(col(\"APALANCAMIENTO_VF_REP\")==5555555555,-3.3756205398725)\n",
    "    .otherwise(col(\"APALANCAMIENTO_VF_A1_REP\"))\n",
    ")\n",
    "\n",
    "Obj_Seg.base_monitoreo = Obj_Seg.base_monitoreo.withColumn(\n",
    "    \"APALANCAMIENTO_VF_A1_REP\",\n",
    "    when(col(\"APALANCAMIENTO_VF_A1_REP\")<-5.30330490805907, -5.30330490805907)\n",
    "    .when(col(\"APALANCAMIENTO_VF_A1_REP\")>5.30330490805907, 5.30330490805907)\n",
    "    .when(col(\"APALANCAMIENTO_VF_A1_REP\").isNull(), -3.3756205398725)\n",
    "    .otherwise(col(\"APALANCAMIENTO_VF_A1_REP\"))\n",
    ")"
   ]
  },
  {
   "cell_type": "code",
   "execution_count": 0,
   "metadata": {
    "application/vnd.databricks.v1+cell": {
     "cellMetadata": {
      "byteLimit": 2048000,
      "rowLimit": 10000
     },
     "inputWidgets": {},
     "nuid": "e9f033d8-0aaf-4b6a-b277-33e9f55f3c8f",
     "showTitle": false,
     "tableResultSettingsMap": {},
     "title": ""
    }
   },
   "outputs": [],
   "source": [
    "Obj_Seg.base_monitoreo = Obj_Seg.base_monitoreo.withColumn('APALANCAMIENTO_VF_REP', col('APALANCAMIENTO_VF_REP').cast('float'))\n",
    "ant_laboral = Obj_Seg.CutVar(variables=['APALANCAMIENTO_VF_REP'], num_cortes=4, query_corte=\"CODMES BETWEEN 202101 AND 202410 AND DEF_120_BLOQ_REF_0 = 0\")\n",
    "\n",
    "driver = 'APALANCAMIENTO_VF_REP_Q'\n",
    "Obj_SegPSI, mix_n, mix_m, psi_c, psi_m = Obj_Seg.MixPSI(\n",
    "  # Selección del driver y filtro de uso\n",
    "  driver             = driver,\n",
    "  query_uso          = 'CODMES >= 202101',\n",
    "  cast_int           = False,\n",
    "\n",
    "  # Ventana de construcción o más antigua\n",
    "  codmes_inicio1     = 202201,\n",
    "  codmes_fin1        = 202312,\n",
    "\n",
    "  # Periodo reciente\n",
    "  codmes_inicio2     = 202401,\n",
    "  codmes_fin2        = 202412,\n",
    "\n",
    "  # Detalles del gráfico\n",
    "  titulo             = driver,\n",
    "  dim_grafico        = (25,6.5),\n",
    "  pos_leyenda        = (0.5, -0.25),\n",
    "  borde              = 0.08\n",
    ")"
   ]
  },
  {
   "cell_type": "markdown",
   "metadata": {
    "application/vnd.databricks.v1+cell": {
     "cellMetadata": {
      "byteLimit": 2048000,
      "rowLimit": 10000
     },
     "inputWidgets": {},
     "nuid": "56e40016-61cf-4b3f-a55b-0ccebad08501",
     "showTitle": false,
     "tableResultSettingsMap": {},
     "title": ""
    }
   },
   "source": [
    "## Edad, estado civil y sexo"
   ]
  },
  {
   "cell_type": "code",
   "execution_count": 0,
   "metadata": {
    "application/vnd.databricks.v1+cell": {
     "cellMetadata": {
      "byteLimit": 2048000,
      "rowLimit": 10000
     },
     "inputWidgets": {},
     "nuid": "054ea0ad-8c89-47d9-b4a7-3462defba3d8",
     "showTitle": false,
     "tableResultSettingsMap": {},
     "title": ""
    }
   },
   "outputs": [],
   "source": [
    "Obj_Seg.base_monitoreo = Obj_Seg.base_monitoreo.withColumn(\n",
    "    \"SUITE_Estcivil_J\", \n",
    "    when(col(\"codmes\") <= 202307, col(\"TIPESTCIVIL_ESPEJO\")).otherwise(col(\"SUITE_Estcivil\"))\n",
    ")\n",
    "\n",
    "Obj_Seg.base_monitoreo = Obj_Seg.base_monitoreo.withColumn(\n",
    "    \"TIPESTCIVIL_N_REP\",\n",
    "    when(\n",
    "        (col(\"SUITE_Estcivil_J\").isin(['CBS','CON','SEP','VIU','CAS'])) | (col(\"SUITE_Estcivil_J\").isNull()),\n",
    "        \"CAS_OTROS\"\n",
    "    ).otherwise(\"SOL\")\n",
    ")\n",
    "\n",
    "Obj_Seg.base_monitoreo = Obj_Seg.base_monitoreo.withColumn(\n",
    "    \"FLGSEXO_REP\",\n",
    "    when(\n",
    "        col(\"FLGSEXO\").isNull(),\n",
    "        \"M\"\n",
    "    ).otherwise(col(\"FLGSEXO\"))\n",
    ")\n",
    "\n",
    "Obj_Seg.base_monitoreo = Obj_Seg.base_monitoreo.withColumn(\n",
    "    \"CAT_EDAD_SEX_EST_REP_1\",\n",
    "    when(col(\"TIPESTCIVIL_N_REP\").isNull() | col(\"EDAD\").isNull() | col(\"FLGSEXO_REP\").isNull(),\"MISSING\")\n",
    "    .when((col(\"TIPESTCIVIL_N_REP\") == \"CAS_OTROS\") & (col(\"FLGSEXO_REP\") == \"F\"),\"NCR1\")\n",
    "    .when((col(\"TIPESTCIVIL_N_REP\") == \"CAS_OTROS\") & (col(\"FLGSEXO_REP\") == \"M\"),\"NCR2\")\n",
    "    .when((col(\"TIPESTCIVIL_N_REP\") == \"SOL\") & (col(\"EDAD\") < 26) & (col(\"FLGSEXO_REP\") == \"F\"),\"NCR3\")\n",
    "    .when((col(\"TIPESTCIVIL_N_REP\") == \"SOL\") & (col(\"EDAD\") >= 26) & (col(\"EDAD\") < 34) & (col(\"FLGSEXO_REP\") == \"F\"),\"NCR4\")\n",
    "    .when((col(\"TIPESTCIVIL_N_REP\") == \"SOL\") & (col(\"EDAD\") >= 34) & (col(\"FLGSEXO_REP\") == \"F\"),\"NCR5\")\n",
    "    .when((col(\"TIPESTCIVIL_N_REP\") == \"SOL\") & (col(\"EDAD\") < 26) & (col(\"FLGSEXO_REP\") == \"M\"),\"NCR6\")\n",
    "    .when((col(\"TIPESTCIVIL_N_REP\") == \"SOL\") & (col(\"EDAD\") >= 26) & (col(\"EDAD\") < 34) & (col(\"FLGSEXO_REP\") == \"M\"),\"NCR7\")\n",
    "    .when((col(\"TIPESTCIVIL_N_REP\") == \"SOL\") & (col(\"EDAD\") >= 34) & (col(\"FLGSEXO_REP\") == \"M\"),\"NCR8\")\n",
    ")\n",
    "\n",
    "Obj_Seg.base_monitoreo = Obj_Seg.base_monitoreo.withColumn(\n",
    "    \"CAT_EDAD_SEX_EST_ST_REP_1\",\n",
    "    when(col(\"CAT_EDAD_SEX_EST_REP_1\") == \"NCR1\", -3.63319054825334)\n",
    "    .when(col(\"CAT_EDAD_SEX_EST_REP_1\") == \"NCR2\", -3.32568982915401)\n",
    "    .when(col(\"CAT_EDAD_SEX_EST_REP_1\") == \"NCR3\", -2.45100509811231)\n",
    "    .when(col(\"CAT_EDAD_SEX_EST_REP_1\") == \"NCR4\", -2.89037175789616)\n",
    "    .when(col(\"CAT_EDAD_SEX_EST_REP_1\") == \"NCR5\", -3.5481795720108)\n",
    "    .when(col(\"CAT_EDAD_SEX_EST_REP_1\") == \"NCR6\", -2.30258509299404)\n",
    "    .when(col(\"CAT_EDAD_SEX_EST_REP_1\") == \"NCR7\", -2.56946403781606)\n",
    "    .when(col(\"CAT_EDAD_SEX_EST_REP_1\") == \"NCR8\", -2.89652562347054)\n",
    "    .otherwise(-3.05605519073697)\n",
    ")\n",
    "\n",
    "Obj_Seg.base_monitoreo = Obj_Seg.base_monitoreo.withColumn(\n",
    "    \"CAT_EDAD_SEX_EST_REP_0\",\n",
    "    when(col(\"TIPESTCIVIL_N_REP\").isNull() | col(\"EDAD\").isNull() | col(\"FLGSEXO_REP\").isNull(),\"MISSING\")\n",
    "    .when((col(\"TIPESTCIVIL_N_REP\") == \"SOL\") & (col(\"EDAD\") < 26),\"CR1\")\n",
    "    .when((col(\"TIPESTCIVIL_N_REP\") == \"SOL\") & (col(\"EDAD\") >= 26) & (col(\"EDAD\") < 42) & (col(\"FLGSEXO_REP\") == \"M\"),\"CR2\")\n",
    "    .when((col(\"TIPESTCIVIL_N_REP\") == \"SOL\") & (col(\"EDAD\") >= 26) & (col(\"EDAD\") < 42) & (col(\"FLGSEXO_REP\") == \"F\"),\"CR3\")\n",
    "    .when((col(\"TIPESTCIVIL_N_REP\") == \"SOL\") & (col(\"EDAD\") >= 42),\"CR4\")\n",
    "    .when((col(\"TIPESTCIVIL_N_REP\") == \"CAS_OTROS\") & (col(\"EDAD\") < 39),\"CR5\")\n",
    "    .when((col(\"TIPESTCIVIL_N_REP\") == \"CAS_OTROS\") & (col(\"EDAD\") >= 39),\"CR6\")\n",
    "    .otherwise(\"MISSING\")\n",
    ")\n",
    "\n",
    "Obj_Seg.base_monitoreo = Obj_Seg.base_monitoreo.withColumn(\n",
    "    \"CAT_EDAD_SEX_EST_ST_REP_0\",\n",
    "    when(col(\"CAT_EDAD_SEX_EST_REP_0\") == \"CR1\", -2.76562005292368)\n",
    "    .when(col(\"CAT_EDAD_SEX_EST_REP_0\") == \"CR2\", -3.04154180958528)\n",
    "    .when(col(\"CAT_EDAD_SEX_EST_REP_0\") == \"CR3\", -3.56568407082007)\n",
    "    .when(col(\"CAT_EDAD_SEX_EST_REP_0\") == \"CR4\", -3.27336401015227)\n",
    "    .when(col(\"CAT_EDAD_SEX_EST_REP_0\") == \"CR5\", -3.14168618617707)\n",
    "    .when(col(\"CAT_EDAD_SEX_EST_REP_0\") == \"CR6\", -3.78985537145393)\n",
    "    .otherwise(-3.32089743926051)  # MISSING u otros casos\n",
    ")"
   ]
  },
  {
   "cell_type": "code",
   "execution_count": 0,
   "metadata": {
    "application/vnd.databricks.v1+cell": {
     "cellMetadata": {
      "byteLimit": 2048000,
      "rowLimit": 10000
     },
     "inputWidgets": {},
     "nuid": "6257385a-4f6a-4ee1-a131-2cffa96aeab3",
     "showTitle": false,
     "tableResultSettingsMap": {},
     "title": ""
    }
   },
   "outputs": [],
   "source": [
    "driver = 'CAT_EDAD_SEX_EST_REP_0'\n",
    "Obj_SegPSI, mix_n, mix_m, psi_c, psi_m = Obj_Seg.MixPSI(\n",
    "  # Selección del driver y filtro de uso\n",
    "  driver             = driver,\n",
    "  query_uso          = 'CODMES >= 202101',\n",
    "  cast_int           = False,\n",
    "\n",
    "  # Ventana de construcción o más antigua\n",
    "  codmes_inicio1     = 202201,\n",
    "  codmes_fin1        = 202312,\n",
    "\n",
    "  # Periodo reciente\n",
    "  codmes_inicio2     = 202401,\n",
    "  codmes_fin2        = 202412,\n",
    "\n",
    "  # Detalles del gráfico\n",
    "  titulo             = driver,\n",
    "  dim_grafico        = (25,6.5),\n",
    "  pos_leyenda        = (0.5, -0.25),\n",
    "  borde              = 0.08\n",
    ")"
   ]
  },
  {
   "cell_type": "markdown",
   "metadata": {
    "application/vnd.databricks.v1+cell": {
     "cellMetadata": {
      "byteLimit": 2048000,
      "rowLimit": 10000
     },
     "inputWidgets": {},
     "nuid": "a34c4d72-4b92-4f69-85f7-e8caebf8e852",
     "showTitle": false,
     "tableResultSettingsMap": {},
     "title": ""
    }
   },
   "source": [
    "## Plazo Aprobado"
   ]
  },
  {
   "cell_type": "code",
   "execution_count": 0,
   "metadata": {
    "application/vnd.databricks.v1+cell": {
     "cellMetadata": {
      "byteLimit": 2048000,
      "rowLimit": 10000
     },
     "inputWidgets": {},
     "nuid": "d40ac5f6-5099-45e1-b6e2-f93a7a7815d6",
     "showTitle": false,
     "tableResultSettingsMap": {},
     "title": ""
    }
   },
   "outputs": [],
   "source": [
    "Obj_Seg.base_monitoreo = Obj_Seg.base_monitoreo.withColumn(\"DEF_CTDPLAZOAPROBADO\", when(col(\"CODMES\")>= 202308, col(\"NFT_PLAZO\")).otherwise(col(\"CTDPLAZOAPROBADO\")))\n",
    "\n",
    "Obj_Seg.base_monitoreo = Obj_Seg.base_monitoreo.withColumn(\n",
    "    \"CTDPLAZOAPROBADO_N_REP_0\",\n",
    "    when(col(\"CTDPLAZOAPROBADO\").isNull(), \"MISSING\")\n",
    "    .when(col(\"CTDPLAZOAPROBADO\") <= 10, \"PLAZO_10\")\n",
    "    .when(col(\"CTDPLAZOAPROBADO\") > 10, \"PLAZO_15_20\")\n",
    "    .otherwise(\"MISSING\")\n",
    ")\n",
    "\n",
    "\n",
    "Obj_Seg.base_monitoreo = Obj_Seg.base_monitoreo.withColumn(\n",
    "    \"CTDPLAZOAPROBADO_N_ST_REP_0\",\n",
    "    when(col(\"CTDPLAZOAPROBADO_N_REP_0\") == \"PLAZO_10\", -3.68171096463532)\n",
    "    .when(col(\"CTDPLAZOAPROBADO_N_REP_0\") == \"PLAZO_15_20\", -3.23376443736195)\n",
    "    .when(col(\"CTDPLAZOAPROBADO_N_REP_0\") == \"MISSING\", -3.32089743926051)\n",
    ")\n",
    "\n",
    "Obj_Seg.base_monitoreo = Obj_Seg.base_monitoreo.withColumn(\n",
    "    \"CTDPLAZOAPROBADO_N_REP_1\",\n",
    "    when(col(\"CTDPLAZOAPROBADO\").isNull(), \"MISSING\")\n",
    "    .when(col(\"CTDPLAZOAPROBADO\") <= 10, \"PLAZO_10\")\n",
    "    .when((col(\"CTDPLAZOAPROBADO\") > 10) & (col(\"CTDPLAZOAPROBADO\") <= 15), \"PLAZO_15\")\n",
    "    .when(col(\"CTDPLAZOAPROBADO\") > 15, \"PLAZO_20\")\n",
    "    .otherwise(\"MISSING\")\n",
    ")\n",
    "\n",
    "\n",
    "Obj_Seg.base_monitoreo = Obj_Seg.base_monitoreo.withColumn(\n",
    "    \"CTDPLAZOAPROBADO_N_ST_REP_1\",\n",
    "    when(col(\"CTDPLAZOAPROBADO_N_REP_1\") == \"PLAZO_10\", -3.5631100668249)\n",
    "    .when(col(\"CTDPLAZOAPROBADO_N_REP_1\") == \"PLAZO_15\", -3.02529107579553)\n",
    "    .when(col(\"CTDPLAZOAPROBADO_N_REP_1\") == \"PLAZO_20\", -2.84385174226127)\n",
    "    .when(col(\"CTDPLAZOAPROBADO_N_REP_1\") == \"MISSING\", -3.05605519073697)\n",
    ")"
   ]
  },
  {
   "cell_type": "code",
   "execution_count": 0,
   "metadata": {
    "application/vnd.databricks.v1+cell": {
     "cellMetadata": {
      "byteLimit": 2048000,
      "rowLimit": 10000
     },
     "inputWidgets": {},
     "nuid": "cf6f6cd3-5e27-4695-bf5f-97f8469f1875",
     "showTitle": false,
     "tableResultSettingsMap": {},
     "title": ""
    }
   },
   "outputs": [],
   "source": [
    "driver = 'CTDPLAZOAPROBADO_N_REP_1'\n",
    "Obj_SegPSI, mix_n, mix_m, psi_c, psi_m = Obj_Seg.MixPSI(\n",
    "  # Selección del driver y filtro de uso\n",
    "  driver             = driver,\n",
    "  query_uso          = 'CODMES >= 202101',\n",
    "  cast_int           = False,\n",
    "\n",
    "  # Ventana de construcción o más antigua\n",
    "  codmes_inicio1     = 202201,\n",
    "  codmes_fin1        = 202312,\n",
    "\n",
    "  # Periodo reciente\n",
    "  codmes_inicio2     = 202401,\n",
    "  codmes_fin2        = 202412,\n",
    "\n",
    "  # Detalles del gráfico\n",
    "  titulo             = driver,\n",
    "  dim_grafico        = (25,6.5),\n",
    "  pos_leyenda        = (0.5, -0.25),\n",
    "  borde              = 0.08\n",
    ")"
   ]
  },
  {
   "cell_type": "markdown",
   "metadata": {
    "application/vnd.databricks.v1+cell": {
     "cellMetadata": {
      "byteLimit": 2048000,
      "rowLimit": 10000
     },
     "inputWidgets": {},
     "nuid": "41757eb2-aa64-45b3-b7c4-a80665e5a8dd",
     "showTitle": false,
     "tableResultSettingsMap": {},
     "title": ""
    }
   },
   "source": [
    "## Situación laboral"
   ]
  },
  {
   "cell_type": "code",
   "execution_count": 0,
   "metadata": {
    "application/vnd.databricks.v1+cell": {
     "cellMetadata": {
      "byteLimit": 2048000,
      "rowLimit": 10000
     },
     "inputWidgets": {},
     "nuid": "0b155efd-d7d1-4292-9f53-4068135b54ab",
     "showTitle": false,
     "tableResultSettingsMap": {},
     "title": ""
    }
   },
   "outputs": [],
   "source": [
    "driver = 'TIPSITUACIONLABORAL_N'\n",
    "Obj_SegPSI, mix_n, mix_m, psi_c, psi_m = Obj_Seg.MixPSI(\n",
    "  # Selección del driver y filtro de uso\n",
    "  driver             = driver,\n",
    "  query_uso          = 'CODMES >= 202101',\n",
    "  cast_int           = False,\n",
    "\n",
    "  # Ventana de construcción o más antigua\n",
    "  codmes_inicio1     = 202201,\n",
    "  codmes_fin1        = 202312,\n",
    "\n",
    "  # Periodo reciente\n",
    "  codmes_inicio2     = 202401,\n",
    "  codmes_fin2        = 202412,\n",
    "\n",
    "  # Detalles del gráfico\n",
    "  titulo             = driver,\n",
    "  dim_grafico        = (25,6.5),\n",
    "  pos_leyenda        = (0.5, -0.25),\n",
    "  borde              = 0.08\n",
    ")"
   ]
  },
  {
   "cell_type": "markdown",
   "metadata": {
    "application/vnd.databricks.v1+cell": {
     "cellMetadata": {
      "byteLimit": 2048000,
      "rowLimit": 10000
     },
     "inputWidgets": {},
     "nuid": "8e319b5b-4e93-4c9f-80ff-081cb32eded3",
     "showTitle": false,
     "tableResultSettingsMap": {},
     "title": ""
    }
   },
   "source": [
    "## Antiguedad Laboral"
   ]
  },
  {
   "cell_type": "code",
   "execution_count": 0,
   "metadata": {
    "application/vnd.databricks.v1+cell": {
     "cellMetadata": {
      "byteLimit": 2048000,
      "rowLimit": 10000
     },
     "inputWidgets": {},
     "nuid": "58808d17-e773-472d-96d4-dbe6853d1963",
     "showTitle": false,
     "tableResultSettingsMap": {},
     "title": ""
    }
   },
   "outputs": [],
   "source": [
    "Obj_Seg.base_monitoreo = Obj_Seg.base_monitoreo.withColumn(\n",
    "    \"SUITE_AntLaboralMeses_J\", \n",
    "    when(col(\"codmes\") <= 202307, col(\"ANT_LABORAL_MESES\")).otherwise(col(\"SUITE_AntLaboralMeses\"))\n",
    ")\n",
    "\n",
    "from pyspark.sql.functions import when, col\n",
    "\n",
    "Obj_Seg.base_monitoreo = Obj_Seg.base_monitoreo.withColumn(\n",
    "    \"CAT_LAB_ANT_REP\",\n",
    "    when(col(\"TIPSITUACIONLABORAL_N\").isNull() | col(\"SUITE_AntLaboralMeses_J\").isNull(), \"MISSING\")\n",
    "    .when((col(\"TIPSITUACIONLABORAL_N\") == \"DEP\") & (col(\"SUITE_AntLaboralMeses_J\") < 37), \"NCA1\")\n",
    "    .when((col(\"TIPSITUACIONLABORAL_N\") == \"DEP\") & (col(\"SUITE_AntLaboralMeses_J\") >= 37), \"NCA2\")\n",
    "    .when(col(\"TIPSITUACIONLABORAL_N\") == \"IND\", \"NCA3\")\n",
    "    .otherwise(\"MISSING\")\n",
    ")\n",
    "\n",
    "\n",
    "Obj_Seg.base_monitoreo = Obj_Seg.base_monitoreo.withColumn(\n",
    "    \"CAT_LAB_ANT_ST_REP\",\n",
    "    when(col(\"CAT_LAB_ANT_REP\") == \"NCA1\", -2.68492778368135)\n",
    "    .when(col(\"CAT_LAB_ANT_REP\") == \"NCA2\", -3.93360657709532)\n",
    "    .when(col(\"CAT_LAB_ANT_REP\") == \"NCA3\", -2.84354045821206)\n",
    "    .when(col(\"CAT_LAB_ANT_REP\") == \"MISSING\", -3.05605519073697)\n",
    ")\n"
   ]
  },
  {
   "cell_type": "code",
   "execution_count": 0,
   "metadata": {
    "application/vnd.databricks.v1+cell": {
     "cellMetadata": {
      "byteLimit": 2048000,
      "rowLimit": 10000
     },
     "inputWidgets": {},
     "nuid": "e25745da-f23e-4488-a2a9-dd8111171eb8",
     "showTitle": false,
     "tableResultSettingsMap": {},
     "title": ""
    }
   },
   "outputs": [],
   "source": [
    "ant_laboral = Obj_Seg.CutVar(variables=['SUITE_AntLaboralMeses_J'], num_cortes=4, query_corte=\"CODMES BETWEEN 202101 AND 202410 AND DEF_120_BLOQ_REF_0 = 0\")\n",
    "\n",
    "driver = 'CAT_LAB_ANT_REP'\n",
    "Obj_SegPSI, mix_n, mix_m, psi_c, psi_m = Obj_Seg.MixPSI(\n",
    "  # Selección del driver y filtro de uso\n",
    "  driver             = driver,\n",
    "  query_uso          = 'CODMES >= 202101',\n",
    "  cast_int           = False,\n",
    "\n",
    "  # Ventana de construcción o más antigua\n",
    "  codmes_inicio1     = 202201,\n",
    "  codmes_fin1        = 202312,\n",
    "\n",
    "  # Periodo reciente\n",
    "  codmes_inicio2     = 202401,\n",
    "  codmes_fin2        = 202412,\n",
    "\n",
    "  # Detalles del gráfico\n",
    "  titulo             = driver,\n",
    "  dim_grafico        = (25,6.5),\n",
    "  pos_leyenda        = (0.5, -0.25),\n",
    "  borde              = 0.08\n",
    ")"
   ]
  },
  {
   "cell_type": "code",
   "execution_count": 0,
   "metadata": {
    "application/vnd.databricks.v1+cell": {
     "cellMetadata": {
      "byteLimit": 2048000,
      "rowLimit": 10000
     },
     "inputWidgets": {},
     "nuid": "0a268303-63c4-4217-9187-6b148ca74837",
     "showTitle": false,
     "tableResultSettingsMap": {},
     "title": ""
    }
   },
   "outputs": [],
   "source": [
    "from pyspark.sql.functions import exp\n",
    "from pyspark.sql.functions import col, log\n",
    "\n",
    "from pyspark.sql.functions import col, when, exp, round, greatest\n",
    "\n",
    "Obj_Seg.base_monitoreo = Obj_Seg.base_monitoreo.withColumn(\n",
    "    \"XB_CEF_FWL\",\n",
    "    -log(1 / col(\"PD_CEF_FWL\") - 1)\n",
    ")\n",
    "\n",
    "Obj_Seg.base_monitoreo = Obj_Seg.base_monitoreo.withColumn(\n",
    "    \"XB_OPE_CLI_REP\",\n",
    "    + 19.7606 + \n",
    "    1.0652*col(\"APALANCAMIENTO_VF_A3_REP\") + \n",
    "    0.8225*col(\"CAT_EDAD_SEX_EST_ST_REP_0\") + \n",
    "    1.6724*col(\"CTDPLAZOAPROBADO_N_ST_REP_0\") + \n",
    "    0.6581*col(\"FLG_ZONA_RIES_A2_REP\") + \n",
    "    0.7299*col(\"LTV_AJUSTADO_A2_REP\") + \n",
    "    1.1436*col(\"TIPSITUACIONLABORAL_N_st\")\n",
    ")\n",
    "\n",
    "Obj_Seg.base_monitoreo = Obj_Seg.base_monitoreo.withColumn(\n",
    "    \"XB_OPE_CLI_CAL_REP\",\n",
    "    -3.338370259+col(\"XB_OPE_CLI_REP\")*1.007288158\n",
    ")\n",
    "\n",
    "Obj_Seg.base_monitoreo = Obj_Seg.base_monitoreo.withColumn(\n",
    "    \"XB_OPE_NOCLI_REP\",\n",
    "    + 16.8631 + \n",
    "    1.0129*col(\"APALANCAMIENTO_VF_A1_REP\") + \n",
    "    0.8328*col(\"CAT_EDAD_SEX_EST_ST_REP_1\") + \n",
    "    0.8849*col(\"CAT_LAB_ANT_ST_REP\") + \n",
    "    1.5137*col(\"CTDPLAZOAPROBADO_N_ST_REP_1\") + \n",
    "    0.6357*col(\"LTV_AJUSTADO_A3_REP\") + \n",
    "    0.7218*col(\"ZONA_RIES_ST_REP\")\n",
    ")\n",
    "\n",
    "Obj_Seg.base_monitoreo = Obj_Seg.base_monitoreo.withColumn(\n",
    "    \"XB_OPE_NOCLI_CAL_REP\",\n",
    "    -3.061233813+col(\"XB_OPE_NOCLI_REP\")*0.936436216\n",
    ")\n",
    "\n",
    "# Troncal\n",
    "Obj_Seg.base_monitoreo = Obj_Seg.base_monitoreo.withColumn(\n",
    "    \"XB_FINAL_BASE_REP\",\n",
    "    when(col(\"FLAG_CLIENTE\")==1, 1.7257+ 0.7581*col(\"XB_COMP_CLI_CAL\")+ 0.7653*col(\"XB_OPE_CLI_CAL_REP\"))\n",
    "    .when(col(\"FLAG_CLIENTE\")==0, 1.7536 + 0.7694*col(\"XB_COMP_NOCLI_CAL\") + 0.8264 *col(\"XB_OPE_NOCLI_CAL_REP\"))\n",
    ")\n",
    "\n",
    "# Troncal ajustado\n",
    "Obj_Seg.base_monitoreo = Obj_Seg.base_monitoreo.withColumn(\n",
    "    \"XB_P3_REP\",\n",
    "    + 2.5264843027 + \n",
    "    0.4633354446*col(\"XB_FINAL_BASE_REP\") + \n",
    "    0.758056468*col(\"FLG_BANCARIZADO\") + \n",
    "    0.6013379015*col(\"FLG_DEPEN_TOT2_st\") + \n",
    "    0.7977852254*col(\"SEGMENTO2_st\")\n",
    ")\n",
    "\n",
    "Obj_Seg.base_monitoreo = Obj_Seg.base_monitoreo.withColumn(\n",
    "    \"XB_P1_REP\",\n",
    "    + 0.0832037105 + 1.0035121744*col(\"XB_P3_REP\")\n",
    ")\n",
    "\n",
    "Obj_Seg.base_monitoreo = Obj_Seg.base_monitoreo.withColumn(\n",
    "    \"PD_P1_REP\",\n",
    "    1/(exp(-1*col(\"XB_P1_REP\"))+1)\n",
    ")\n",
    "\n",
    "dummy_list = [\n",
    "    1111111111,\n",
    "\t-1111111111,\n",
    "\t2222222222,\n",
    "\t-2222222222,\n",
    "\t3333333333,\n",
    "\t-3333333333,\n",
    "\t4444444444,\n",
    "\t5555555555,\n",
    "\t6666666666,\n",
    "\t7777777777,\n",
    "\t99999\n",
    "]\n",
    "\n",
    "#### PD DISEF\n",
    "Obj_Seg.base_monitoreo = Obj_Seg.base_monitoreo.withColumn(\n",
    "    \"PD_DISEF_1\",\n",
    "    when((~col(\"PD_DISEF\").isin(dummy_list)) & (col(\"PD_DISEF\")<0), 0.09580216556787) \n",
    "    .when((~col(\"PD_DISEF\").isin(dummy_list)) & (col(\"PD_DISEF\")>0), 0.87092787027359) \n",
    ")\n",
    "\n",
    "from pyspark.sql.functions import log10\n",
    "\n",
    "Obj_Seg.base_monitoreo = Obj_Seg.base_monitoreo.withColumn(\n",
    "    \"PD_DISEF_D2\",\n",
    "    when((~col(\"PD_DISEF\").isin(dummy_list)) & (col(\"PD_DISEF\")>=0.30031001399606), log10(col(\"PD_DISEF\")) * 6.25909153062975 + (-1.96152054573695))\n",
    "    .when((~col(\"PD_DISEF\").isin(dummy_list)) & (col(\"PD_DISEF\")<0.30031001399606), -5.23145889690188)\n",
    ") \n",
    "\n",
    "#### RATIO DE EVOLUTIVO DE MONTO BALANCE\n",
    "Obj_Seg.base_monitoreo = Obj_Seg.base_monitoreo.withColumn(\n",
    "    \"EXP_PCT_EVOL_SHIP_U3M_RT_U6M_J\",\n",
    "    when((~col(\"EXP_PCT_EVOL_SHIP_U3M_RT_U6M\").isin(dummy_list)),0.0023248543556)*(exp((col('EXP_PCT_EVOL_SHIP_U3M_RT_U6M')-(-0.12790595 ))/((2.02439643 )-(-0.12790595 ))*(6.38547233898654)))+(-4.35046625457099) \n",
    ")\n",
    "\n",
    "Obj_Seg.base_monitoreo = Obj_Seg.base_monitoreo.withColumn(\n",
    "    \"EXP_PCT_EVOL_SHIP_U3M_RT_U6M_J\",\n",
    "    when(col(\"EXP_PCT_EVOL_SHIP_U3M_RT_U6M\").isNull(), -3.50890807466493)\n",
    "    .when(col(\"EXP_PCT_EVOL_SHIP_U3M_RT_U6M\") == -1111111111, -3.87888744383204)\n",
    "    .when(col(\"EXP_PCT_EVOL_SHIP_U3M_RT_U6M\") == 1111111111, -3.66356164612964)\n",
    "    .when(col(\"EXP_PCT_EVOL_SHIP_U3M_RT_U6M\") == 4444444444, -4.40976338964548)\n",
    "    .when(col(\"EXP_PCT_EVOL_SHIP_U3M_RT_U6M\") == 5555555555, -3.87888744383204)\n",
    "    .when(col(\"EXP_PCT_EVOL_SHIP_U3M_RT_U6M\") == 6666666666, -3.89182029811062)\n",
    "    .otherwise(col(\"EXP_PCT_EVOL_SHIP_U3M_RT_U6M_J\"))\n",
    ")\n",
    "\n",
    "Obj_Seg.base_monitoreo = Obj_Seg.base_monitoreo.withColumn('FLAG_DEPENDIENTE', col('flgsituacionlaboraldependiente'))\n",
    "\n",
    "\n",
    "from pyspark.sql.functions import col, when\n",
    "\n",
    "# 1. Crear TIPO_EMPLEO_F\n",
    "Obj_Seg.base_monitoreo = Obj_Seg.base_monitoreo.withColumn(\n",
    "    \"TIPO_EMPLEO_F\",\n",
    "    when((col(\"FLAG_DEPENDIENTE\") == '1') | (col(\"FLG_PDH_2_3\") == 1), \"1. Dependiente\")\n",
    "    .otherwise(\"Otros\")\n",
    ")\n",
    "\n",
    "# 2. Crear FLG_DEPENDIENTE\n",
    "Obj_Seg.base_monitoreo = Obj_Seg.base_monitoreo.withColumn(\n",
    "    \"FLG_DEPENDIENTE\",\n",
    "    when(col(\"TIPO_EMPLEO_F\") == \"1. Dependiente\", 1)\n",
    "    .otherwise(0)\n",
    ")\n",
    "\n",
    "# 3. Crear SEGMENTO_MT\n",
    "Obj_Seg.base_monitoreo = Obj_Seg.base_monitoreo.withColumn(\n",
    "    \"SEGMENTO_MT\",\n",
    "    when((col(\"FLG_DEPENDIENTE\") == 1) & (col(\"LTV_SALESFORCE\") <= 0.8), 1)\n",
    "    .when((col(\"FLG_DEPENDIENTE\") == 1) & (col(\"LTV_SALESFORCE\") > 0.8), 2)\n",
    "    .when((col(\"FLG_DEPENDIENTE\") == 0) & (col(\"LTV_SALESFORCE\") <= 0.8), 3)\n",
    "    .otherwise(4)\n",
    ")\n",
    "\n",
    "# Corrigiendo Nuevo calibrado\n",
    "Obj_Seg.base_monitoreo = Obj_Seg.base_monitoreo.withColumn(\n",
    "    \"XB_IDIO_2024Q4_REP\",\n",
    "    + 2.9927167711\n",
    "    + 0.58402489*col(\"XB_FINAL_BASE_REP\")\n",
    "    + 0.6119697002*col(\"PD_DISEF_D2\")\n",
    "    + 0.6360502209*col(\"EXP_PCT_EVOL_SHIP_U3M_RT_U6M_J\")\n",
    ")\n",
    "\n",
    "# 1. Calcular XB_FWL_2024Q4 según SEGMENTO_MT\n",
    "Obj_Seg.base_monitoreo = Obj_Seg.base_monitoreo.withColumn(\n",
    "    \"XB_FWL_2024Q4_REP\",\n",
    "    when(col(\"SEGMENTO_MT\").isin(1, 2),\n",
    "         1.91243989 +\n",
    "         0.97182736 * col(\"XB_IDIO_2024Q4_REP\") +\n",
    "         0.86678477 * col(\"XB_CEF_FWL\"))\n",
    "    .otherwise(\n",
    "         0.09995573 +\n",
    "         0.77288905 * col(\"XB_IDIO_2024Q4_REP\") +\n",
    "         0.29568435 * col(\"XB_CEF_FWL\"))\n",
    ")\n",
    "\n",
    "# 2. Calcular PD_FWL_2024Q4\n",
    "Obj_Seg.base_monitoreo = Obj_Seg.base_monitoreo.withColumn(\n",
    "    \"PD_FWL_2024Q4\",\n",
    "    1 / (exp(-col(\"XB_FWL_2024Q4_REP\")) + 1)\n",
    ")\n",
    "\n",
    "# 3. Calcular XB_2024Q4 según SEGMENTO_MT\n",
    "Obj_Seg.base_monitoreo = Obj_Seg.base_monitoreo.withColumn(\n",
    "    \"XB_2024Q4_REP\",\n",
    "    when(col(\"SEGMENTO_MT\") == 2,\n",
    "         0.58798239 + 1.03034420 * col(\"XB_FWL_2024Q4_REP\"))\n",
    "    .when(col(\"SEGMENTO_MT\") == 3,\n",
    "         0.44258963 + 1.01849005 * col(\"XB_FWL_2024Q4_REP\"))\n",
    "    .when(col(\"SEGMENTO_MT\") == 4,\n",
    "         1.30390804 + 1.06821831 * col(\"XB_FWL_2024Q4_REP\"))\n",
    "    .otherwise(col(\"XB_FWL_2024Q4_REP\"))\n",
    ")\n",
    "\n",
    "# 4. Calcular PD_2024Q4\n",
    "Obj_Seg.base_monitoreo = Obj_Seg.base_monitoreo.withColumn(\n",
    "    \"PD_2024Q4_REP\",\n",
    "    1 / (exp(-col(\"XB_2024Q4_REP\")) + 1)\n",
    ")\n",
    "\n",
    "# 5. Calcular SC_2024Q4\n",
    "Obj_Seg.base_monitoreo = Obj_Seg.base_monitoreo.withColumn(\n",
    "    \"SC_2024Q4_REP\",\n",
    "    greatest(round(174.25 - 57.708 * col(\"XB_2024Q4_REP\"), 1), lit(3))\n",
    ")\n"
   ]
  },
  {
   "cell_type": "code",
   "execution_count": 0,
   "metadata": {
    "application/vnd.databricks.v1+cell": {
     "cellMetadata": {
      "byteLimit": 2048000,
      "rowLimit": 10000
     },
     "inputWidgets": {},
     "nuid": "d9c0a93b-1830-435e-bcf4-a56d23f56090",
     "showTitle": false,
     "tableResultSettingsMap": {},
     "title": ""
    }
   },
   "outputs": [],
   "source": [
    "Obj_Seg.base_monitoreo.persist(StorageLevel.MEMORY_AND_DISK).count()"
   ]
  },
  {
   "cell_type": "code",
   "execution_count": 0,
   "metadata": {
    "application/vnd.databricks.v1+cell": {
     "cellMetadata": {
      "byteLimit": 2048000,
      "rowLimit": 10000
     },
     "inputWidgets": {},
     "nuid": "3f568720-b602-4c4d-8733-1e9cd6cb5b14",
     "showTitle": false,
     "tableResultSettingsMap": {},
     "title": ""
    }
   },
   "outputs": [],
   "source": [
    "var_pd = [\"XB_FINAL_BASE_REP\", \"XB_FINAL_BASE\"]\n",
    "caldri_veh_app = Obj_Seg.EvolDisVar(\n",
    "  # Parametros de figura individual\n",
    "  query_filtro      = '',\n",
    "  codmes_ini        = 202206,\n",
    "  codmes_fin        = 202312,\n",
    "  amplitud          = 6,\n",
    "  disc_target       = [24, 21,18],\n",
    "  umbral_sup        = 0.4,\n",
    "  umbral_inf        = 0.3,\n",
    "  moviles           = True,\n",
    "  dim_grafico       = (22.5, 6),\n",
    "  pos_leyenda       = (0.5, -0.35),\n",
    "  etiquetas         = True,\n",
    "  gini_abs          = False,\n",
    " \n",
    "  # Parametros de figura final\n",
    "  ncolumnas         = 2,\n",
    "  nfilas            = 1,\n",
    "  variables         = var_pd,\n",
    "  dim_grafico_total = (20, 6),\n",
    "  ncol_leyenda      = 5,\n",
    "  vspacio           = -0.25,\n",
    "  hspacio           = 4,\n",
    "  tamaño_etiqueta   = 14 \n",
    ")"
   ]
  },
  {
   "cell_type": "code",
   "execution_count": 0,
   "metadata": {
    "application/vnd.databricks.v1+cell": {
     "cellMetadata": {
      "byteLimit": 2048000,
      "rowLimit": 10000
     },
     "inputWidgets": {},
     "nuid": "247f191e-0f3d-49da-b92c-91b829f0bfbe",
     "showTitle": false,
     "tableResultSettingsMap": {},
     "title": ""
    }
   },
   "outputs": [],
   "source": [
    "var_pd = [\"PD_2024Q4_REP\", \"PD_2024Q4\"]\n",
    "caldri_veh_app = Obj_Seg.EvolDisVar(\n",
    "  # Parametros de figura individual\n",
    "  query_filtro = '',\n",
    "  codmes_ini   = 202206,\n",
    "  codmes_fin   = 202312,\n",
    "  amplitud     = 6,\n",
    "  disc_target  = [24, 21,18],\n",
    "  umbral_sup   = 0.4,\n",
    "  umbral_inf   = 0.3,\n",
    "  moviles      = True,\n",
    "  dim_grafico  = (22.5, 6),\n",
    "  pos_leyenda  = (0.5, -0.35),\n",
    "  etiquetas    = True,\n",
    "  gini_abs     = False,\n",
    " \n",
    "  # Parametros de figura final\n",
    "  ncolumnas = 2,\n",
    "  nfilas    = 1,\n",
    "  variables = var_pd,\n",
    "  dim_grafico_total = (20, 6),\n",
    "  ncol_leyenda = 5,\n",
    "  vspacio=-0.25,\n",
    "  hspacio=4,\n",
    "  tamaño_etiqueta = 14 \n",
    ")"
   ]
  },
  {
   "cell_type": "code",
   "execution_count": 0,
   "metadata": {
    "application/vnd.databricks.v1+cell": {
     "cellMetadata": {
      "byteLimit": 2048000,
      "rowLimit": 10000
     },
     "inputWidgets": {},
     "nuid": "b3ed8599-710e-4231-8c17-e59ec031ec6a",
     "showTitle": false,
     "tableResultSettingsMap": {},
     "title": ""
    }
   },
   "outputs": [],
   "source": [
    "var_pd = [\"XB_OPE_NOCLI_CAL_REP\", \"XB_OPE_CLI_CAL_REP\"]\n",
    "caldri_veh_app = Obj_Seg.EvolDisVar(\n",
    "  # Parametros de figura individual\n",
    "  query_filtro = '',\n",
    "  codmes_ini   = 202206,\n",
    "  codmes_fin   = 202312,\n",
    "  amplitud     = 6,\n",
    "  disc_target  = [24, 21,18],\n",
    "  umbral_sup   = 0.4,\n",
    "  umbral_inf   = 0.3,\n",
    "  moviles      = True,\n",
    "  dim_grafico  = (22.5, 6),\n",
    "  pos_leyenda  = (0.5, -0.35),\n",
    "  etiquetas    = True,\n",
    "  gini_abs     = False,\n",
    " \n",
    "  # Parametros de figura final\n",
    "  ncolumnas = 2,\n",
    "  nfilas    = 1,\n",
    "  variables = var_pd,\n",
    "  dim_grafico_total = (20, 6),\n",
    "  ncol_leyenda = 5,\n",
    "  vspacio=-0.25,\n",
    "  hspacio=4,\n",
    "  tamaño_etiqueta = 14 \n",
    ")"
   ]
  },
  {
   "cell_type": "code",
   "execution_count": 0,
   "metadata": {
    "application/vnd.databricks.v1+cell": {
     "cellMetadata": {
      "byteLimit": 2048000,
      "rowLimit": 10000
     },
     "inputWidgets": {},
     "nuid": "8efcbe51-5d94-4719-8c96-9eea2482c35f",
     "showTitle": false,
     "tableResultSettingsMap": {},
     "title": ""
    }
   },
   "outputs": [],
   "source": [
    "pd_cal='PD_2024Q4'#vigente\n",
    "pd_rbm='PD_RBM'\n",
    "pd_trc='PD_FINAL_BASE'\n",
    "tipo_banda = 'Jeffrey'#Jeffrey Vasiseck\n",
    "codmes_default = 202305\n",
    "columna_monto='MTOAPROBADO_SOLES'\n",
    "titulo='Calibración Applicant App Ahorro Local'\n",
    "condiciones= \"CODMES >= 201901 AND DEF_120_BLOQ_REF_0 = 0\""
   ]
  },
  {
   "cell_type": "code",
   "execution_count": 0,
   "metadata": {
    "application/vnd.databricks.v1+cell": {
     "cellMetadata": {
      "byteLimit": 2048000,
      "rowLimit": 10000
     },
     "inputWidgets": {},
     "nuid": "ba8bfbc8-129e-4aac-b961-01ee55a79b4d",
     "showTitle": false,
     "tableResultSettingsMap": {},
     "title": ""
    }
   },
   "outputs": [],
   "source": [
    "# Objeto de Seguimiento\n",
    "Obj_Seg = rmm.MonitorScore(\n",
    "  nombre_modelo         = 'Personas Modelo Applicant Ahorro Local',\n",
    "  codigo_modelo         = 'MOD-BCP-20658',\n",
    "  tier                  = 'II',\n",
    "  detalle_seguimiento   = 'Seguimiento Applicant Ahorro Local',\n",
    "  mes_seguimiento       = '202504',\n",
    "  base_monitoreo        = Obj_Seg.base_monitoreo,\n",
    "  pd1                   = pd_cal,\n",
    "  pd2                   = 'PD_2024Q4vf',\n",
    "  pd3                   = pd_rbm,\n",
    "  monto_credito         = columna_monto,\n",
    "  query_univ            = \"DEF_120_BLOQ_REF_0=0 AND PD_2024Q4vf IS NOT NULL AND FLG_VC_VIVIENDA_RBM=1\",\n",
    "  bandas                = tipo_banda,\n",
    "  codmes_default        = codmes_default,\n",
    "  meses_ventana_target  = 24,\n",
    "  meses_atraso_target   = 4\n",
    ")"
   ]
  },
  {
   "cell_type": "code",
   "execution_count": 0,
   "metadata": {
    "application/vnd.databricks.v1+cell": {
     "cellMetadata": {
      "byteLimit": 2048000,
      "rowLimit": 10000
     },
     "inputWidgets": {},
     "nuid": "4adb64ce-8590-41b6-a199-f25b29cae503",
     "showTitle": false,
     "tableResultSettingsMap": {},
     "title": ""
    }
   },
   "outputs": [],
   "source": [
    "Obj_Seg_cal, rc_1, rm_1, fc_1, fm_1 = Obj_Seg.EvolCal(\n",
    "  # Configuración de filtro de uso y pd de calibración\n",
    "  query_uso          = \"CODMES>=202106\",\n",
    "  pd_seg             = pd_cal,\n",
    "  pd_comparacion     = True,\n",
    "  proys_def_temp     = 6,\n",
    "  proys_mor_temp     = 0,\n",
    "  rd_aux             = 'RD21',\n",
    "  rd_aux2            = 'RD12', \n",
    "  mora_temp          = 'MORA_30_3',\n",
    "\n",
    "  # Configuración de proyecciones por cuentas\n",
    "  proy_def_temp_xc   = \"Best_proy\",\n",
    "  suav_def_temp_xc   = 1,\n",
    "  proy_mor_temp_xc   = 'det1_xc',\n",
    "  suav_mor_temp_xc   = 1,\n",
    "  prof_hist_xc       = 14,\n",
    "\n",
    "  # Configuración de proyecciones por montos\n",
    "  proy_def_temp_xm   = \"np.where(calxmontos['CODMES'].isin([202307, 202306, 202311]), met2_xm + 0.003, met2_xm)\",\n",
    "  suav_def_temp_xm   = 1,\n",
    "  proy_mor_temp_xm   = 'det1_xm',\n",
    "  suav_mor_temp_xm   = 1,\n",
    "  prof_hist_xm       = 14,\n",
    "\n",
    "  # Detalles del gráfico de calibración\n",
    "  titulo             = titulo,\n",
    "  pos_leyenda        = (0.5, -0.25),\n",
    "  eje_y_xc           = 0.12,\n",
    "  eje_y_xm           = 0.12,\n",
    "  dim_grafico        = (27,6.5),\n",
    "  punt_mora          = 85, #Tamaño de puntos de mora temprana\n",
    "  etiquetas          =True,\n",
    "  pos_etiquetas_xm   = 10,\n",
    "  pos_etiquetas_xc   = 10,\n",
    "  tamaño_etiqueta    = 14,\n",
    "\n",
    "  # Exportar factores para vista driver\n",
    "  exportar_factores  = True\n",
    ")"
   ]
  },
  {
   "cell_type": "code",
   "execution_count": 0,
   "metadata": {
    "application/vnd.databricks.v1+cell": {
     "cellMetadata": {
      "byteLimit": 2048000,
      "rowLimit": 10000
     },
     "inputWidgets": {},
     "nuid": "6c6e5758-364f-47a9-9cd9-655c1abd417a",
     "showTitle": false,
     "tableResultSettingsMap": {},
     "title": ""
    }
   },
   "outputs": [],
   "source": [
    "rm_1"
   ]
  },
  {
   "cell_type": "code",
   "execution_count": 0,
   "metadata": {
    "application/vnd.databricks.v1+cell": {
     "cellMetadata": {
      "byteLimit": 2048000,
      "rowLimit": 10000
     },
     "inputWidgets": {},
     "nuid": "3592692b-4bf4-4031-8db5-a9b8e6ac8b99",
     "showTitle": false,
     "tableResultSettingsMap": {},
     "title": ""
    }
   },
   "outputs": [],
   "source": [
    "Obj_Seg.base_monitoreo.createOrReplaceTempView(\"hip_ahol_2\")\n",
    "spark.sql('''\n",
    "    CREATE OR REPLACE TABLE\n",
    "        catalog_lhcl_prod_bcp.bcp_edv_fabseg.T39290_hm_app_hipahlo_f\n",
    "    USING DELTA LOCATION \n",
    "        'abfss://bcp-edv-fabseg@adlscu1lhclbackp05.dfs.core.windows.net/T39290/Seguimiento/02_Applicant_Hipotecario/hm_app_hipahlo_f'\n",
    "    AS SELECT * FROM hip_ahol_2\n",
    "    '''\n",
    ")"
   ]
  }
 ],
 "metadata": {
  "application/vnd.databricks.v1+notebook": {
   "computePreferences": null,
   "dashboards": [],
   "environmentMetadata": {
    "base_environment": "",
    "environment_version": "2"
   },
   "inputWidgetPreferences": null,
   "language": "python",
   "notebookMetadata": {
    "pythonIndentUnit": 4
   },
   "notebookName": "08_Correccion_App_HipAhlo - Repuntuación",
   "widgets": {}
  },
  "language_info": {
   "name": "python"
  }
 },
 "nbformat": 4,
 "nbformat_minor": 0
}
