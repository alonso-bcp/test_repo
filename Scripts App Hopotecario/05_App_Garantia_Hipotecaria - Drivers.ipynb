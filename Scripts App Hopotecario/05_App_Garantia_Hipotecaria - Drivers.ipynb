{
 "cells": [
  {
   "cell_type": "code",
   "execution_count": 0,
   "metadata": {
    "application/vnd.databricks.v1+cell": {
     "cellMetadata": {
      "byteLimit": 2048000,
      "rowLimit": 10000
     },
     "inputWidgets": {},
     "nuid": "f8971f4c-4bd6-4aa8-b0e2-1640c4d782c4",
     "showTitle": false,
     "tableResultSettingsMap": {},
     "title": ""
    }
   },
   "outputs": [],
   "source": [
    "import sys\n",
    "import importlib\n",
    "sys.path.append('/Workspace/Users/luisfdiaz@bcp.com.pe/Modulo de Seguimiento/')\n",
    "\n",
    "import SegScore as rmm\n",
    "importlib.reload(rmm)\n",
    "\n",
    "# Librerias y fuciones generales\n",
    "from pyspark.sql.functions import date_format, expr, to_date, date_sub, add_months, col, when, coalesce, trim, broadcast, avg, max, min, lit, concat, window, round as colround, upper, abs as sparkabs,greatest\n",
    "from pyspark.sql import functions as F\n",
    "from pyspark import StorageLevel\n",
    "import numpy as np\n",
    "import seaborn as sns\n",
    "import pandas as pd\n",
    "import matplotlib.pyplot as plt\n",
    "from pyspark.sql.window import Window\n",
    "\n",
    "#Mostrar los duplicados\n",
    "def print_res(sparkf_df):\n",
    "  import pandas as pd\n",
    "  pd.set_option('display.max_rows', None)\n",
    "  pd.set_option('display.max_columns', None)\n",
    "  pd_spark_df = sparkf_df.toPandas()\n",
    " \n",
    "  return pd_spark_df\n",
    "\n",
    "from collections import Counter\n",
    "\n",
    "def find_repeated_columns(df):\n",
    "    column_names = df.columns\n",
    "    column_counts = Counter(column_names)\n",
    "    repeated_columns = [col for col, count in column_counts.items() if count > 1]\n",
    "    return repeated_columns\n",
    "\n",
    "def find_missing_columns(df1, df2):\n",
    "    columns_df1 = set(df1.columns)\n",
    "    columns_df2 = set(df2.columns)\n",
    "    \n",
    "    missing_in_df2 = columns_df1 - columns_df2\n",
    "    missing_in_df1 = columns_df2 - columns_df1\n",
    "    \n",
    "    print(\"Columnas en df1 pero no en df2:\", missing_in_df2)\n",
    "    print(\"Columnas en df2 pero no en df1:\", missing_in_df1)"
   ]
  },
  {
   "cell_type": "code",
   "execution_count": 0,
   "metadata": {
    "application/vnd.databricks.v1+cell": {
     "cellMetadata": {
      "byteLimit": 2048000,
      "rowLimit": 10000
     },
     "inputWidgets": {},
     "nuid": "39ed0e3d-5f8b-47e2-816a-1a4950e4b34e",
     "showTitle": false,
     "tableResultSettingsMap": {},
     "title": ""
    }
   },
   "outputs": [],
   "source": [
    "hip = spark.table('catalog_lhcl_prod_bcp.bcp_edv_fabseg.T39290_univ_pre_driver_app_hip')\n",
    "\n",
    "gahi = hip.withColumn(\n",
    "    \"FLG_FINALIDAD\",\n",
    "    when(col(\"DESTIPFINALIDADCREDHIPOTECARIO\").isNull(), lit(1))\n",
    "    .when(col(\"DESTIPFINALIDADCREDHIPOTECARIO\").isin(\n",
    "        \"LIBRE DISPONIBILIDAD\",\n",
    "        \"COMPRA VENTA DE LOCAL COMERCIAL\",\n",
    "        \"C-V/REMODEL/AMPLI DE LOCAL COMERCIAL\",\n",
    "        \"C-V Oficinas/Locales BT\",\n",
    "        \"LIBRE DISP. CON GARANT.LOCAL COMERC.\",\n",
    "        \"MIGRACION DE OTRO BANCO\"\n",
    "    ), lit(1))\n",
    "    .when((col(\"CODMES\") >= 202307) & (col(\"DESTIPFINALIDADCREDHIPOTECARIO\") == \"COMPRA/VENTA BIEN TERMINADO\"), lit(1))\n",
    "    .otherwise(lit(0))\n",
    ").filter(col(\"TIPCREDITO\").isin('GAHI', 'GAHP', 'GAHR', 'GAPC'))"
   ]
  },
  {
   "cell_type": "markdown",
   "metadata": {
    "application/vnd.databricks.v1+cell": {
     "cellMetadata": {
      "byteLimit": 2048000,
      "rowLimit": 10000
     },
     "inputWidgets": {},
     "nuid": "36106e4f-610b-4202-8951-c0f67a6a4cb4",
     "showTitle": false,
     "tableResultSettingsMap": {},
     "title": ""
    }
   },
   "source": [
    "## Base espejo"
   ]
  },
  {
   "cell_type": "code",
   "execution_count": 0,
   "metadata": {
    "application/vnd.databricks.v1+cell": {
     "cellMetadata": {
      "byteLimit": 2048000,
      "rowLimit": 10000
     },
     "inputWidgets": {},
     "nuid": "789863ed-0a7c-4bf2-a40f-566b585c29f1",
     "showTitle": false,
     "tableResultSettingsMap": {},
     "title": ""
    }
   },
   "outputs": [],
   "source": [
    "espejo_total = spark.table('catalog_lhcl_prod_bcp.bcp_edv_fabseg.T39290_mm_appscore_gahi')\n",
    "gahi.createOrReplaceTempView('gahi')\n",
    "espejo_total.createOrReplaceTempView('espejo_total')\n",
    "gahi_2 = spark.sql(\"\"\"\n",
    "    SELECT A.*, \n",
    "           /*VARIABLES CALIBRADO*/\n",
    "           D.XB_GAHI,\n",
    "           D.XB_GAHI_PRELIMINAR,\n",
    "           D.XB_NUE_APP_CEF, /*89%*/\n",
    "           D.XB_MODUL_GAHI, /*11%*/\n",
    "           D.LTV_NEW AS LTV_NEW_CAL,\n",
    "           D.LTV_NEW_A2,\n",
    "           D.CTDPLAZOAPROBADO_TP,\n",
    "           D.CTDPLAZOAPROBADO_A2,\n",
    "           D.RIESGO_ZONA2,\n",
    "           D.RIESGO_ZONA2_ST,\n",
    "           D.INGRESO_SOL_CONY_TP,\n",
    "           D.INGRESO_SOL_CONY_D3, \n",
    "           D.FLG_MONTO AS FLG_MONTO_CAL, /*SI >=325,000 FLG_MONTO=1*/\n",
    "           D.PD_GAHI AS PD_GAHI_ESPEJO\n",
    "    FROM gahi A\n",
    "    LEFT JOIN espejo_total D ON A.CODSOLICITUD=D.CODSOLICITUD;\n",
    "\"\"\")"
   ]
  },
  {
   "cell_type": "code",
   "execution_count": 0,
   "metadata": {
    "application/vnd.databricks.v1+cell": {
     "cellMetadata": {
      "byteLimit": 2048000,
      "rowLimit": 10000
     },
     "inputWidgets": {},
     "nuid": "dbd1c71f-7f58-4b80-b81e-198f7f5160b8",
     "showTitle": false,
     "tableResultSettingsMap": {},
     "title": ""
    }
   },
   "outputs": [],
   "source": [
    "# Add the TOTAL column\n",
    "gahi_2 = gahi_2.withColumn(\"TOTAL\", lit('1'))\n",
    "\n",
    "# Add the PAUTA column\n",
    "gahi_2 = gahi_2.withColumn(\"PAUTA\", when(col(\"SC_GAHI\") >= 345, 1).otherwise(0))\n",
    "\n",
    "# Add the RSC column\n",
    "gahi_2 = gahi_2.withColumn(\"RSC\", when(col(\"SC_GAHI\").isNull(), '99. Missing')\n",
    "                   .when(col(\"SC_GAHI\") < 385, '1. <0 - 385>')\n",
    "                   .when(col(\"SC_GAHI\") < 415, '2. [385 - 415>')\n",
    "                   .when(col(\"SC_GAHI\") < 450, '3. [415 - 450>')\n",
    "                   .when(col(\"SC_GAHI\") < 495, '4. [450 - 495>')\n",
    "                   .when(col(\"SC_GAHI\") >= 495, '5. [495 - +++>')\n",
    "                   .otherwise('98. Otro'))\n",
    "\n",
    "# Add the RPD column\n",
    "gahi_2 = gahi_2.withColumn(\"RPD\", when(col(\"PD_GAHI\").isNull(), '99. Missing')\n",
    "                   .when(col(\"PD_GAHI\") <= 0.005, '1. <0 - 0.5%]')\n",
    "                   .when(col(\"PD_GAHI\") <= 0.010, '2. <0.5 - 1.0%]')\n",
    "                   .when(col(\"PD_GAHI\") <= 0.015, '3. <1.0 - 1.5%]')\n",
    "                   .when(col(\"PD_GAHI\") <= 0.025, '4. <1.5 - 2.5%]')\n",
    "                   .when(col(\"PD_GAHI\") > 0.025, '5. <2.5 - ++>')\n",
    "                   .otherwise('98. Otro'))\n",
    "\n",
    "# Add the MONTO_R column\n",
    "gahi_2 = gahi_2.withColumn(\"MONTO_R\", when(col(\"MTOAPROBADO_SOLES\").isNull(), '99. Missing')\n",
    "                   .when(col(\"MTOAPROBADO_SOLES\") <= 87500, '1. [0 - 87,500]')\n",
    "                   .when(col(\"MTOAPROBADO_SOLES\") <= 140000, '2. <87,500 - 140,000]')\n",
    "                   .when(col(\"MTOAPROBADO_SOLES\") <= 215000, '3. <140,000 - 215,000]')\n",
    "                   .when(col(\"MTOAPROBADO_SOLES\") <= 300000, '4. <215,000 - 300,000]')\n",
    "                   .when(col(\"MTOAPROBADO_SOLES\") <= 600000, '5. <300,000 - 600,000]')\n",
    "                   .otherwise('6. <600,000 - ++>'))\n",
    "\n",
    "# Add the MISS_PD column\n",
    "gahi_2 = gahi_2.withColumn(\"MISS_PD\", when(col(\"PD_GAHI\").isNull(), 1).otherwise(0))\n",
    "\n",
    "# Add the MISS_MONTO column\n",
    "gahi_2 = gahi_2.withColumn(\"MISS_MONTO\", when(col(\"MTOAPROBADO_SOLES\").isNull(), 1).otherwise(0))\n",
    "\n",
    "# Add the RAN_INGR_CY column\n",
    "gahi_2 = gahi_2.withColumn(\"RAN_INGR_CY\", when(col(\"INGRESO_SOL_CONY_TP\").isNull(), '99. Missing')\n",
    "                   .when(col(\"INGRESO_SOL_CONY_TP\") <= 2500, '1. [0 - 2,500]')\n",
    "                   .when(col(\"INGRESO_SOL_CONY_TP\") <= 5000, '2. <2,500 - 5,000]')\n",
    "                   .when(col(\"INGRESO_SOL_CONY_TP\") <= 7500, '3. <5,000 - 7,500]')\n",
    "                   .when(col(\"INGRESO_SOL_CONY_TP\") <= 10000, '4. <7,500 - 10,000]')\n",
    "                   .when(col(\"INGRESO_SOL_CONY_TP\") <= 20000, '5. <10,000 - 20,000]')\n",
    "                   .otherwise('6. <20,000 - ++>'))\n",
    "\n",
    "# Add the FLG_MONTO_R column\n",
    "gahi_2 = gahi_2.withColumn(\"FLG_MONTO_R\", when(col(\"FLG_MONTO_CAL\").isNull(), '99. Missing')\n",
    "                   .when(col(\"FLG_MONTO_CAL\") == 1, '1. >=325,000')\n",
    "                   .otherwise('2. <325,000'))\n",
    "\n",
    "# Filter the dataframe\n",
    "gahi_2 = gahi_2.filter(col(\"FLG_FINALIDAD\") == 1)"
   ]
  },
  {
   "cell_type": "code",
   "execution_count": 0,
   "metadata": {
    "application/vnd.databricks.v1+cell": {
     "cellMetadata": {
      "byteLimit": 2048000,
      "rowLimit": 10000
     },
     "inputWidgets": {},
     "nuid": "339eeac7-19a5-4b37-9940-3444427869b1",
     "showTitle": false,
     "tableResultSettingsMap": {},
     "title": ""
    }
   },
   "outputs": [],
   "source": [
    "gahi_2.createOrReplaceTempView(\"hip_app_gahi\")\n",
    "\n",
    "spark.sql('''\n",
    "    CREATE OR REPLACE TABLE\n",
    "        catalog_lhcl_prod_bcp.bcp_edv_fabseg.T39290_hm_app_gahi\n",
    "    USING DELTA LOCATION \n",
    "        'abfss://bcp-edv-fabseg@adlscu1lhclbackp05.dfs.core.windows.net/T39290/Seguimiento/02_Applicant_Hipotecario/hm_app_gahi'\n",
    "    AS SELECT * FROM hip_app_gahi\n",
    "    '''\n",
    ")"
   ]
  }
 ],
 "metadata": {
  "application/vnd.databricks.v1+notebook": {
   "computePreferences": null,
   "dashboards": [],
   "environmentMetadata": {
    "base_environment": "",
    "environment_version": "2"
   },
   "inputWidgetPreferences": null,
   "language": "python",
   "notebookMetadata": {
    "pythonIndentUnit": 4
   },
   "notebookName": "05_App_Garantia_Hipotecaria - Drivers",
   "widgets": {}
  },
  "language_info": {
   "name": "python"
  }
 },
 "nbformat": 4,
 "nbformat_minor": 0
}
