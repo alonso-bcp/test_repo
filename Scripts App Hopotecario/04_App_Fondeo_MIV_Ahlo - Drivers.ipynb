{
 "cells": [
  {
   "cell_type": "code",
   "execution_count": 0,
   "metadata": {
    "application/vnd.databricks.v1+cell": {
     "cellMetadata": {
      "byteLimit": 2048000,
      "rowLimit": 10000
     },
     "inputWidgets": {},
     "nuid": "eeb381ce-bfef-4ccf-b88a-1a6dadc4de47",
     "showTitle": false,
     "tableResultSettingsMap": {},
     "title": ""
    }
   },
   "outputs": [],
   "source": [
    "import sys\n",
    "import importlib\n",
    "sys.path.append('/Workspace/Users/luisfdiaz@bcp.com.pe/Modulo de Seguimiento/')\n",
    "\n",
    "import SegScore as rmm\n",
    "importlib.reload(rmm)\n",
    "\n",
    "# Librerias y fuciones generales\n",
    "from pyspark.sql.functions import date_format, expr, to_date, date_sub, add_months, col, when, coalesce, trim, broadcast, avg, max, min, lit, concat, window, round as colround, upper, abs as sparkabs,greatest\n",
    "from pyspark.sql import functions as F\n",
    "from pyspark import StorageLevel\n",
    "import numpy as np\n",
    "import seaborn as sns\n",
    "import pandas as pd\n",
    "import matplotlib.pyplot as plt\n",
    "from pyspark.sql.window import Window"
   ]
  },
  {
   "cell_type": "code",
   "execution_count": 0,
   "metadata": {
    "application/vnd.databricks.v1+cell": {
     "cellMetadata": {
      "byteLimit": 2048000,
      "rowLimit": 10000
     },
     "inputWidgets": {},
     "nuid": "1906b1b5-6cac-48e9-9898-2918ec506d0e",
     "showTitle": false,
     "tableResultSettingsMap": {},
     "title": ""
    }
   },
   "outputs": [],
   "source": [
    "#Mostrar los duplicados\n",
    "def print_res(sparkf_df):\n",
    "  import pandas as pd\n",
    "  pd.set_option('display.max_rows', None)\n",
    "  pd.set_option('display.max_columns', None)\n",
    "  pd_spark_df = sparkf_df.toPandas()\n",
    " \n",
    "  return pd_spark_df\n",
    "\n",
    "from collections import Counter\n",
    "\n",
    "def find_repeated_columns(df):\n",
    "    column_names = df.columns\n",
    "    column_counts = Counter(column_names)\n",
    "    repeated_columns = [col for col, count in column_counts.items() if count > 1]\n",
    "    return repeated_columns\n",
    "\n",
    "def find_missing_columns(df1, df2):\n",
    "    columns_df1 = set(df1.columns)\n",
    "    columns_df2 = set(df2.columns)\n",
    "    \n",
    "    missing_in_df2 = columns_df1 - columns_df2\n",
    "    missing_in_df1 = columns_df2 - columns_df1\n",
    "    \n",
    "    print(\"Columnas en df1 pero no en df2:\", missing_in_df2)\n",
    "    print(\"Columnas en df2 pero no en df1:\", missing_in_df1)\n",
    "\n",
    "def rezago_codmes_col(base, rezago_mes):\n",
    "    for i in range(0, rezago_mes + 1, 1):\n",
    "        base = base.withColumn(f\"CODMES_{i}\", date_format(add_months(to_date(concat(col(\"codmes\"), lit(\"01\")), \"yyyyMMdd\"), -i), \"yyyyMM\"))\n",
    "        base = base.withColumn(f\"CODMES_{i}\", col(f\"CODMES_{i}\").cast(\"integer\"))\n",
    "    return base\n",
    "\n",
    "def avance_codmes_col(base, avance_mes):\n",
    "    for l in range(0, avance_mes + 1, 1):\n",
    "        base = base.withColumn(f\"CODMES_F{l}\", date_format(add_months(to_date(concat(col(\"codmes\"), lit(\"01\")), \"yyyyMMdd\"), l), \"yyyyMM\"))\n",
    "        base = base.withColumn(f\"CODMES_F{l}\", col(f\"CODMES_F{l}\").cast(\"integer\"))\n",
    "    return base"
   ]
  },
  {
   "cell_type": "code",
   "execution_count": 0,
   "metadata": {
    "application/vnd.databricks.v1+cell": {
     "cellMetadata": {
      "byteLimit": 2048000,
      "rowLimit": 10000
     },
     "inputWidgets": {},
     "nuid": "9576a9cd-a998-4b3b-87f0-15490a46b26c",
     "showTitle": false,
     "tableResultSettingsMap": {},
     "title": ""
    }
   },
   "outputs": [],
   "source": [
    "hip = spark.table('catalog_lhcl_prod_bcp.bcp_edv_fabseg.T39290_univ_pre_driver_app_hip')\n",
    "\n",
    "hip = hip.withColumnRenamed(\"XB_P3_AJUST\", \"XB_CAL\") \\\n",
    "       .withColumnRenamed(\"PD_P3_AJUST\", \"PD_CAL\") \\\n",
    "       .withColumnRenamed(\"SC_P3_AJUST\", \"SC_CAL\")\n",
    "\n",
    "# Apply the filter conditions\n",
    "hip_ahlo = hip.filter(\n",
    "    (col(\"TIPO_FONDEO\") == \"FONDEO MVIV\") &\n",
    "    (col(\"CAMPANIA_AGRUPADA\") == \"Ahorro Local\")\n",
    ")"
   ]
  },
  {
   "cell_type": "markdown",
   "metadata": {
    "application/vnd.databricks.v1+cell": {
     "cellMetadata": {
      "byteLimit": 2048000,
      "rowLimit": 10000
     },
     "inputWidgets": {},
     "nuid": "2449017a-be63-4d97-8b81-381d9902016e",
     "showTitle": false,
     "tableResultSettingsMap": {},
     "title": ""
    }
   },
   "source": [
    "## Base Espejo"
   ]
  },
  {
   "cell_type": "code",
   "execution_count": 0,
   "metadata": {
    "application/vnd.databricks.v1+cell": {
     "cellMetadata": {
      "byteLimit": 2048000,
      "rowLimit": 10000
     },
     "inputWidgets": {},
     "nuid": "c74af8b2-ca45-4dd0-bc46-b1375697c6b5",
     "showTitle": false,
     "tableResultSettingsMap": {},
     "title": ""
    }
   },
   "outputs": [],
   "source": [
    "espejo_total = spark.table('catalog_lhcl_prod_bcp.bcp_edv_fabseg.T39290_mm_appscore_hip_ahlo')"
   ]
  },
  {
   "cell_type": "code",
   "execution_count": 0,
   "metadata": {
    "application/vnd.databricks.v1+cell": {
     "cellMetadata": {
      "byteLimit": 2048000,
      "rowLimit": 10000
     },
     "inputWidgets": {},
     "nuid": "6eecf11f-6d58-4259-9855-28420b610150",
     "showTitle": false,
     "tableResultSettingsMap": {},
     "title": ""
    }
   },
   "outputs": [],
   "source": [
    "espejo_total = spark.table('catalog_lhcl_prod_bcp.bcp_edv_fabseg.T39290_mm_appscore_hip_ahlo')\n",
    "hip_ahlo.createOrReplaceTempView(\"hip_ahlo\")\n",
    "espejo_total.createOrReplaceTempView('espejo_total')\n",
    "hip_ahlo_1 = spark.sql(\"\"\"\n",
    "SELECT A.*,\n",
    "       B.XB_P3,\n",
    "       B.XB_FINAL_BASE,\n",
    "       B.FLG_BANCARIZADO AS FLG_BANCARIZADO_CAL,\n",
    "       B.FLG_DEPEN_TOT2_ST,\n",
    "       COALESCE(B.SIT_LABORAL_EXP, '99. MISSING') AS SIT_LABORAL_EXP,\n",
    "       B.SEGMENTO AS SEGMENTO_CAL,\n",
    "       B.SEGMENTO2_ST,\n",
    "       B.XB_COMP_NOCLI_CAL,\n",
    "       B.XB_COMP_NOCLI,\n",
    "       B.SF3_SF24,\n",
    "       B.SF3_SF24_A3,\n",
    "       B.FLAG_CLIENTE_6,\n",
    "       B.TIPCLASIFRIESGOSBSMAX24,\n",
    "       B.TIPCLASIFRIESGOSBSMAX24_A3,\n",
    "       B.UTL_24_V1,\n",
    "       B.UTL_24_V1_A3,\n",
    "       B.XB_OPE_NOCLI_CAL,\n",
    "       B.XB_OPE_NOCLI,\n",
    "       B.APALANCAMIENTO_VF,\n",
    "       B.APALANCAMIENTO_VF_A1,\n",
    "       B.CAT_EDAD_SEX_EST,\n",
    "       B.CAT_EDAD_SEX_EST_st,\n",
    "       B.CAT_LAB_ANT,\n",
    "       B.CAT_LAB_ANT_st,\n",
    "       B.CTDPLAZOAPROBADO_N,\n",
    "       B.CTDPLAZOAPROBADO_N_st,\n",
    "       B.LTV_AJUSTADO,\n",
    "       B.LTV_AJUSTADO_A3,\n",
    "       B.ZONA_RIES,\n",
    "       B.ZONA_RIES_st,\n",
    "       B.XB_COMP_CLI_CAL,\n",
    "       B.XB_COMP_CLI,\n",
    "       B.ATRASOMAX_12,\n",
    "       B.ATRASOMAX_12_A2,\n",
    "       B.IGCLETMXCN50F_SUM_12,\n",
    "       B.IGCLETMXCN50F_SUM_12_J,\n",
    "       B.MESES_FMSAVMF_24_1000,\n",
    "       B.MESES_FMSAVMF_24_1000_J,\n",
    "       B.MESES_PASIVO_ACTIVO_12_1000,\n",
    "       B.MESES_PASIVO_ACTIVO_12_1000_A3,\n",
    "       B.RT_IGCLETMXCNFDS_MED_6_12,\n",
    "       B.RT_IGCLETMXCNFDS_MED_6_12_A1,\n",
    "       B.RT_PMACTIVO_SUM_6_24,\n",
    "       B.RT_PMACTIVO_SUM_6_24_A3,\n",
    "       B.SF12_SF24,\n",
    "       B.SF12_SF24_D2,\n",
    "       B.TIPCLASIFRIESGOSBSMAX24_A1,\n",
    "       B.XB_OPE_CLI_CAL,\n",
    "       B.XB_OPE_CLI,\n",
    "       B.APALANCAMIENTO_VF_A3,\n",
    "       B.FLG_ZONA_RIES,\n",
    "       B.FLG_ZONA_RIES_A2,\n",
    "       B.LTV_AJUSTADO_A2,\n",
    "       B.TIPSITUACIONLABORAL_N,\n",
    "       B.TIPSITUACIONLABORAL_N_st,\n",
    "       COALESCE(B.FLAG_CLIENTE_6, 0) AS FLAG_CLIENTE,\n",
    "       COALESCE(B.FLAG_CLI_PAS_6, 0) AS FLAG_PASIVO,\n",
    "       COALESCE(B.FLAG_CLI_ACT_6, 0) AS FLAG_ACTIVO,\n",
    "       B.ING_CASCADA2_2 AS ING_CASCADA_CAL,\n",
    "       b.ZONA_SEG,\n",
    "       B.MTOTOTALDEUDA1 AS MTOTOTALDEUDA1_CAL,\n",
    "       B.PD_P3_AJUST AS PD_ESPEJO,\n",
    "       B.CODMES_SOLICITUD AS CODMES_SOLICITUD_ESPEJO,\n",
    "       B.APALANCAMIENTO,\n",
    "       B.TIPESTCIVIL_N,\n",
    "       B.TIPESTCIVIL AS TIPESTCIVIL_ESPEJO,\n",
    "       B.EDAD AS EDAD_ESPEJO,\n",
    "       B.FLGSEXO,\n",
    "       B.INGRESO_5TA_TIT,\n",
    "       B.ANT_LABORAL_MESES,\n",
    "       B.PD_P1,\n",
    "       B.XB_P1,\n",
    "       B.XB_P3_AJUST,\n",
    "       B.INGRESO_5TA \n",
    "FROM hip_ahlo A\n",
    "LEFT JOIN espejo_total B ON A.CODSOLICITUD = B.CODSOLICITUD\n",
    "\"\"\")\n",
    "\n",
    "hip_ahlo_1.persist(StorageLevel.MEMORY_AND_DISK).count()\n",
    "\n",
    "dup = hip_ahlo_1.groupBy(\"codmes\", \"codclaveopecta\").count().alias(\"count\").filter(col(\"count\")>1)\n",
    "print_res(dup)"
   ]
  },
  {
   "cell_type": "markdown",
   "metadata": {
    "application/vnd.databricks.v1+cell": {
     "cellMetadata": {
      "byteLimit": 2048000,
      "rowLimit": 10000
     },
     "inputWidgets": {},
     "nuid": "89589c91-6666-46ae-8b99-998dc9e87720",
     "showTitle": false,
     "tableResultSettingsMap": {},
     "title": ""
    }
   },
   "source": [
    "## Puntuaciones Tácticas"
   ]
  },
  {
   "cell_type": "code",
   "execution_count": 0,
   "metadata": {
    "application/vnd.databricks.v1+cell": {
     "cellMetadata": {
      "byteLimit": 2048000,
      "rowLimit": 10000
     },
     "inputWidgets": {},
     "nuid": "f418e1d4-7e8b-4ef2-9d1d-4fba1960e2c9",
     "showTitle": false,
     "tableResultSettingsMap": {},
     "title": ""
    }
   },
   "outputs": [],
   "source": [
    "VER = spark.table('catalog_lhcl_prod_bcp.bcp_edv_fabseg.T45988_HM_ADM_HIP_AHLO_Q424_202410')"
   ]
  },
  {
   "cell_type": "code",
   "execution_count": 0,
   "metadata": {
    "application/vnd.databricks.v1+cell": {
     "cellMetadata": {
      "byteLimit": 2048000,
      "rowLimit": 10000
     },
     "inputWidgets": {},
     "nuid": "66424406-9e56-4626-add9-e4f82795be66",
     "showTitle": false,
     "tableResultSettingsMap": {},
     "title": ""
    }
   },
   "outputs": [],
   "source": [
    "puntuacion_reciente = spark.table('catalog_lhcl_prod_bcp.bcp_edv_fabseg.T39290_hm_adm_hip_ahlo_score')\n",
    "\n",
    "hip_ahlo_1.createOrReplaceTempView(\"hip_ahlo_1\")\n",
    "puntuacion_reciente.createOrReplaceTempView('puntuacion_reciente')\n",
    "hip_ahol_2 = spark.sql(\"\"\"\n",
    "SELECT A.*, \n",
    "       B.PD_2024Q4 AS PD_2024Q4,\n",
    "       -LOG((1/B.PD_2024Q4)-1) AS SC_2024Q4,\n",
    "       C.PD_2024Q4 AS PD_2024Q4v2,\n",
    "       -LOG((1/C.PD_2024Q4)-1) AS SC_2024Q4v2,\n",
    "       case when A.CODMES<=202307 THEN B.PD_2024Q4 ELSE  C.PD_2024Q4 END as PD_2024Q4vf,\n",
    "       case when A.CODMES<=202307 THEN B.EXP_PCT_EVOL_SHIP_U3M_RT_U6M ELSE  C.EXP_PCT_EVOL_SHIP_U3M_RT_U6M END as EXP_PCT_EVOL_SHIP_U3M_RT_U6M_FAB,\n",
    "       case when A.CODMES<=202307 THEN B.EXP_PCT_EVOL_SHIP_U3M_RT_U6M_J ELSE  C.EXP_PCT_EVOL_SHIP_U3M_RT_U6M_J END as EXP_PCT_EVOL_SHIP_U3M_RT_U6M_J_FAB,\n",
    "       case when A.CODMES<=202307 THEN B.pd_disef ELSE  C.pd_disef END as pd_disef_FAB,\n",
    "       case when A.CODMES<=202307 THEN B.PD_DISEF_D2 ELSE  C.PD_DISEF_D2 END as PD_DISEF_D2_FAB,\n",
    "       case when A.CODMES<=202307 THEN B.XB_IDIO_2024Q4 ELSE  C.XB_IDIO_2024Q4 END as XB_IDIO_2024Q4_FAB,\n",
    "       case when A.CODMES<=202307 THEN B.XB_FWL_2024Q4 ELSE  C.XB_FWL_2024Q4 END as XB_FWL_2024Q4_FAB,\n",
    "       C.XB_CEF_FWL AS XB_CEF_FWL_FAB\n",
    "FROM hip_ahlo_1 A\n",
    "LEFT JOIN catalog_lhcl_prod_bcp.bcp_edv_fabseg.T45988_HM_ADM_HIP_AHLO_Q424_202410 B\n",
    "ON A.CODCLAVEOPECTA = B.CODCLAVEOPECTA AND A.CODMES = B.CODMES\n",
    "LEFT JOIN puntuacion_reciente C\n",
    "ON A.CODCLAVEOPECTA = C.CODCLAVEOPECTA AND A.CODMES = C.CODMES\n",
    "\"\"\")\n",
    "\n",
    "hip_ahol_2.persist(StorageLevel.MEMORY_AND_DISK).count()\n",
    "\n",
    "dup = hip_ahol_2.groupBy(\"codmes\", \"codclaveopecta\").count().alias(\"count\").filter(col(\"count\")>1)\n",
    "print_res(dup)"
   ]
  },
  {
   "cell_type": "code",
   "execution_count": 0,
   "metadata": {
    "application/vnd.databricks.v1+cell": {
     "cellMetadata": {
      "byteLimit": 2048000,
      "rowLimit": 10000
     },
     "inputWidgets": {},
     "nuid": "e6237210-bc52-494e-b1fe-3e87355fc02e",
     "showTitle": false,
     "tableResultSettingsMap": {},
     "title": ""
    }
   },
   "outputs": [],
   "source": [
    "rbm_nft = spark.table('catalog_lhcl_prod_bcp.bcp_ddv_rbmrbmper_solicitudch_vu.hm_solicitudcreditohipotecariorbm')\n",
    "\n",
    "rbm_max = rbm_nft.groupBy('codsolicitudcredito').agg(F.max('CODMES').alias(\"codmes\"))\n",
    "\n",
    "rbm_ltv_nueva = rbm_max.join(\n",
    "    rbm_nft.selectExpr(\"codmes\", \"codsolicitudcredito\", \"pctfinanciamientocredito as NFT_LTV_DEF\"),\n",
    "    on=['codsolicitudcredito', 'codmes'],\n",
    "    how='left'\n",
    ")\n",
    "\n",
    "hip_ahol_2 = hip_ahol_2.join(\n",
    "    rbm_ltv_nueva.selectExpr(\"codsolicitudcredito as codsolicitud\", \"NFT_LTV_DEF\"),\n",
    "    on='codsolicitud',\n",
    "    how='left'\n",
    ")\n",
    "\n",
    "hip_ahol_2.persist(StorageLevel.MEMORY_AND_DISK).count()\n",
    "\n",
    "dup = hip_ahol_2.groupBy(\"codmes\", \"codclaveopecta\").count().alias(\"count\").filter(col(\"count\")>1)\n",
    "print_res(dup)"
   ]
  },
  {
   "cell_type": "code",
   "execution_count": 0,
   "metadata": {
    "application/vnd.databricks.v1+cell": {
     "cellMetadata": {
      "byteLimit": 2048000,
      "rowLimit": 10000
     },
     "inputWidgets": {},
     "nuid": "6f138c67-4ccb-4c86-b9ab-47ebc8c7643d",
     "showTitle": false,
     "tableResultSettingsMap": {},
     "title": ""
    }
   },
   "outputs": [],
   "source": [
    "PD_SEG='PD_2024Q4'\n",
    "SCORE='SC_2024Q4'\n",
    "PAUTA=386\n",
    "\n",
    "hip_ahol_2 = hip_ahol_2.withColumn(\"ING_CASCADA_R\", when(col(\"ING_CASCADA_CAL\").isNull() | (col(\"ING_CASCADA_CAL\") == lit('.')), '99. Missing')\n",
    "                   .when(col(\"ING_CASCADA_CAL\") <= 1500, '1. [0 - 1,500]')\n",
    "                   .when(col(\"ING_CASCADA_CAL\") <= 2000, '2. <1,500 - 2,000]')\n",
    "                   .when(col(\"ING_CASCADA_CAL\") <= 2500, '3. <2,000 - 2,500]')\n",
    "                   .when(col(\"ING_CASCADA_CAL\") <= 4000, '4. <2,500 - 4,000]')\n",
    "                   .otherwise('5. <4,000 - ++]'))\n",
    "\n",
    "# Add the ANT_LABORAL column\n",
    "hip_ahol_2 = hip_ahol_2.withColumn(\"ANT_LABORAL\", when(col(\"ANTIGUEDAD_LABORAL_T\").isNull(), '99. Missing')\n",
    "                   .when(col(\"ANTIGUEDAD_LABORAL_T\") <= 24, '1. <0-24]')\n",
    "                   .when(col(\"ANTIGUEDAD_LABORAL_T\") <= 84, '2. <24-84]')\n",
    "                   .otherwise('3. >84'))\n",
    "\n",
    "# Add the END_COUTA_INGCASCADA column\n",
    "hip_ahol_2 = hip_ahol_2.withColumn(\"END_COUTA_INGCASCADA\", coalesce(col(\"MTOTOTALDEUDA1_CAL\"), lit(0)) / coalesce(col(\"ING_CASCADA_CAL\"), lit(0)))\n",
    "\n",
    "# Add the END_COUTA_INGCASCADA_R column\n",
    "hip_ahol_2 = hip_ahol_2.withColumn(\"END_COUTA_INGCASCADA_R\", when(col(\"ING_CASCADA_CAL\").isNull(), '99. Missing')\n",
    "                   .when(col(\"MTOTOTALDEUDA1_CAL\").isNull(), '99. Missing')\n",
    "                   .when(col(\"END_COUTA_INGCASCADA\") <= 0, '97. <=0%')\n",
    "                   .when(col(\"END_COUTA_INGCASCADA\") <= 0.20, '1. <=20%')\n",
    "                   .when(col(\"END_COUTA_INGCASCADA\") <= 0.30, '2. <=30%')\n",
    "                   .when(col(\"END_COUTA_INGCASCADA\") <= 0.40, '3. <=40%')\n",
    "                   .when(col(\"END_COUTA_INGCASCADA\") <= 1, '4. <=100%')\n",
    "                   .otherwise('98. >100%'))\n",
    "\n",
    "# Add the RSC column\n",
    "hip_ahol_2 = hip_ahol_2.withColumn(\"RSC\", when(col(SCORE).isNull(), '99. Missing')\n",
    "                   .when(col(SCORE) <= 335, '01. <0 - 335]')\n",
    "                   .when(col(SCORE) <= 385, '02. <335 - 385]')\n",
    "                   .when(col(SCORE) <= 435, '03. <385 - 435]')\n",
    "                   .when(col(SCORE) <= 495, '04. <435 - 495]')\n",
    "                   .when(col(SCORE) > 495, '05. <495 - ++]')\n",
    "                   .otherwise('98. Otro'))\n",
    "\n",
    "# Add the RPD column\n",
    "hip_ahol_2 = hip_ahol_2.withColumn(\"RPD\", when(col(PD_SEG).isNull(), '99. Missing')\n",
    "                   .when(col(PD_SEG) <= 0.0038411, '01. [0 - 0.38%]')\n",
    "                   .when(col(PD_SEG) <= 0.0107884, '02. <0.38 - 1.08%]')\n",
    "                   .when(col(PD_SEG) <= 0.0252832, '03. <1.08 - 2.53%]')\n",
    "                   .when(col(PD_SEG) <= 0.0581086, '04. <2.53 - 5.81%]')\n",
    "                   .when(col(PD_SEG) > 0.0581086, '05. <5.81 - 100%]')\n",
    "                   .otherwise('98. Otro'))\n",
    "\n",
    "# Add the RANGO_MONTO column\n",
    "hip_ahol_2 = hip_ahol_2.withColumn(\"RANGO_MONTO\", when(col(\"MTOAPROBADO_SOLES\").isNull(), '99. Missing')\n",
    "                   .when(col(\"MTOAPROBADO_SOLES\") <= 100000, '1. [0 - 100K]')\n",
    "                   .when(col(\"MTOAPROBADO_SOLES\") <= 150000, '2. <100 - 150K]')\n",
    "                   .when(col(\"MTOAPROBADO_SOLES\") <= 200000, '3. <150 - 200K]')\n",
    "                   .when(col(\"MTOAPROBADO_SOLES\") <= 250000, '4. <200 - 250K]')\n",
    "                   .otherwise('5. <250K - ++]'))\n",
    "\n",
    "# Add the PAUTA column\n",
    "hip_ahol_2 = hip_ahol_2.withColumn(\"PAUTA\", when(col(\"SC_CAL\") >= PAUTA, 1).otherwise(0))\n",
    "\n",
    "# Add the SIT_LABORAL_EXP_F column\n",
    "hip_ahol_2 = hip_ahol_2.withColumn(\"SIT_LABORAL_EXP_F\", when(col(\"FLG_PDH_2_3\") == 1, 'DEPENDIENTE').otherwise(col(\"SIT_LABORAL_EXP\")))\n",
    "\n",
    "# Add the MISS_PD column\n",
    "hip_ahol_2 = hip_ahol_2.withColumn(\"MISS_PD\", when(col(PD_SEG).isNull(), 1).otherwise(0))\n",
    "\n",
    "# Add the MISS_MONTO column\n",
    "hip_ahol_2 = hip_ahol_2.withColumn(\"MISS_MONTO\", when(col(\"MTOAPROBADO_SOLES\").isNull(), 1).otherwise(0))\n",
    "\n",
    "hip_ahol_2 = hip_ahol_2.withColumn(\n",
    "    \"PD_RBM\", \n",
    "    when(col(\"codmes\") <= 202307, col(\"PD_ESTADOS\")).otherwise(col(\"CSOL_PD_RBM\"))\n",
    ")\n",
    "\n",
    "hip_ahol_2 = hip_ahol_2.withColumn(\"CAT_EDAD_SEX_EST_Q\", when(col(\"CAT_EDAD_SEX_EST\") == \"CR1\", \"1 Soltero - Menor a 26 años\")\n",
    "                   .when(col(\"CAT_EDAD_SEX_EST\") == \"CR2\", \"2 Soltero - 26 a 42 años - Hombre\")\n",
    "                   .when(col(\"CAT_EDAD_SEX_EST\") == \"CR3\", \"5 Soltero - 26 a 42 años - Mujer\")\n",
    "                   .when(col(\"CAT_EDAD_SEX_EST\") == \"CR4\", \"4 Soltero - Mayor a 42 años\")\n",
    "                   .when(col(\"CAT_EDAD_SEX_EST\") == \"CR5\", \"3 Casado o Otros - Menor a 39 años\")\n",
    "                   .when(col(\"CAT_EDAD_SEX_EST\") == \"CR6\", \"6 Casado o Otros - 39 a más años\")\n",
    "                   .when(col(\"CAT_EDAD_SEX_EST\") == \"NCR1\", \"14 Casado o Otros - Mujer\")\n",
    "                   .when(col(\"CAT_EDAD_SEX_EST\") == \"NCR2\", \"12 Casado o Otros - Hombre\")\n",
    "                   .when(col(\"CAT_EDAD_SEX_EST\") == \"NCR3\", \"8 Soltero - Menor a 26 años - Mujer\")\n",
    "                   .when(col(\"CAT_EDAD_SEX_EST\") == \"NCR4\", \"10 Soltero - 26 a 33 años - Mujer\")\n",
    "                   .when(col(\"CAT_EDAD_SEX_EST\") == \"NCR5\", \"13 Soltero - 34 a más años - Mujer\")\n",
    "                   .when(col(\"CAT_EDAD_SEX_EST\") == \"NCR6\", \"7 Soltero - Menor a 26 años - Hombre\")\n",
    "                   .when(col(\"CAT_EDAD_SEX_EST\") == \"NCR7\", \"9 Soltero - 26 a 33 años - Hombre\")\n",
    "                   .when(col(\"CAT_EDAD_SEX_EST\") == \"NCR8\", \"11 Soltero - 34 a más años - Hombre\")\n",
    "                   .otherwise(\"Missing\"))\n",
    "\n",
    "hip_ahol_2 = hip_ahol_2.withColumn(\"flag_perfil\", when(col(\"MTOCEMCLISOL_6\")/col(\"MTOAPROBADO_SOLES\") <= 0.000430813, 1).otherwise(0))\n",
    "hip_ahol_2 = hip_ahol_2.withColumn(\"FLG_VC_VIVIENDA_RBM\", F.when(F.col(\"PRS_ValorComVivienda\") <= 355100, 1).otherwise(0))\n",
    "\n",
    "hip_ahol_2 = hip_ahol_2.withColumn(\n",
    "    \"RANGO_MTOVIVI_F\",\n",
    "    when(col(\"PRS_ValorComVivienda\").isNull(), \"99. Missing\")\n",
    "    .when(col(\"PRS_ValorComVivienda\") <= 67400, \"1. [0 - 67K]\")\n",
    "    .when(col(\"PRS_ValorComVivienda\") <= 96200, \"2. <67 - 96K]\")\n",
    "    .when(col(\"PRS_ValorComVivienda\") <= 144000, \"3. <96 - 144K]\")\n",
    "    .when(col(\"PRS_ValorComVivienda\") <= 239800, \"4. <144 - 239K]\")\n",
    "    .when(col(\"PRS_ValorComVivienda\") <= 355100, \"5. <239 - 355K]\")\n",
    "    .when(col(\"PRS_ValorComVivienda\") <= 479300, \"6. <355 - 479K]\")\n",
    "    .otherwise(\"7. <479K - ++]\")\n",
    ")\n",
    "\n",
    "hip_ahol_2 = hip_ahol_2.withColumn(\"PAUTA_RBM\", F.when(F.col(\"SC_CAL\") >= 386, 1).otherwise(0))\n",
    "\n",
    "#Score final: \n",
    "from pyspark.sql.functions import col, log, exp, round\n",
    "hip_ahol_2 = hip_ahol_2.withColumn(\"XB_2024Q4vf\", -log((1 / col(\"PD_2024Q4vf\")) - 1))\n",
    "hip_ahol_2 = hip_ahol_2.withColumn(\"SC_2024Q4vf\", round(174.25 - 57.708 * col(\"XB_2024Q4vf\"), 1))\n",
    "hip_ahol_2 = hip_ahol_2.withColumn(\"PAUTA_2024Q4vf\", F.when(F.col(\"SC_2024Q4vf\") >= 386, 1).otherwise(0))\n",
    "\n",
    "hip_ahol_2 = hip_ahol_2.withColumn(\"CEM6_MTO_T\", F.col(\"MTOCEMCLISOL_6\") / F.col(\"MTOAPROBADO_SOLES\") * 1.000)\n",
    "\n",
    "# Crear el campo RNG_CEM6_MTO con las condiciones especificadas\n",
    "hip_ahol_2 = hip_ahol_2.withColumn(\"RNG_CEM6_MTO\", \n",
    "    F.when(F.col(\"CEM6_MTO_T\").isNull(), \"99. Missing\")\n",
    "    .when(F.col(\"CEM6_MTO_T\") <= 0.000430813, \"01. [0 - 0.04%]\")\n",
    "    .when(F.col(\"CEM6_MTO_T\") <= 0.0018687401, \"02. <0.04- 0.18%]\")\n",
    "    .when(F.col(\"CEM6_MTO_T\") <= 0.0041421573, \"03. <0.18 - 0.4%]\")\n",
    "    .otherwise(\"04. <0.4 a mas]\"))\n",
    "\n",
    "ltv_malita = spark.table('catalog_lhcl_prod_bcp.bcp_edv_fabseg.T45988_EXT_SEG_AGRUP_LTV_202504')\n",
    "\n",
    "hip_ahol_2 = hip_ahol_2.alias(\"A\") \\\n",
    "    .join(ltv_malita.alias(\"F\"), F.col(\"A.CODSOLICITUD\") == F.col(\"F.CODSOLICITUD\"), \"left\") \\\n",
    "    .join(hip_ahol_2.alias(\"G\"), (F.col(\"A.CODSOLICITUD\") == F.col(\"G.CODSOLICITUD\")) & (F.col(\"A.CODCLAVEOPECTA\") == F.col(\"G.CODCLAVEOPECTA\")), \"left\") \\\n",
    "    .select(\"A.*\", F.coalesce(F.col(\"F.LTV\"), F.col(\"G.LTV_RBM\")).alias(\"LTV_CORREGIDO_0\") ,F.col(\"F.LTV\").alias(\"LTV_EXT\"))\n",
    "\n",
    "# hip_ahol_2 = hip_ahol_2.withColumn(\"NFT_LTV\", col(\"NFT_LTV\").cast(\"double\"))\n",
    "hip_ahol_2 = hip_ahol_2.withColumn(\"LTV_CORREGIDO_VF\", when(col(\"CODMES\") >= 202308,  col(\"NFT_LTV\")).otherwise(col(\"LTV_CORREGIDO_0\")))\n",
    "\n",
    "# Rango de LTV\n",
    "hip_ahol_2 = hip_ahol_2.withColumn(\n",
    "    \"LTV_CORREGIDO_0_R\",\n",
    "    F.when(F.col(\"LTV_CORREGIDO_0\").isNull(), '99. Missing')\n",
    "     .when(F.col(\"LTV_CORREGIDO_0\") > 1, '7. <100 - +]')\n",
    "     .when(F.col(\"LTV_CORREGIDO_0\") > 0.90, '6. <90 - 100%]')\n",
    "     .when(F.col(\"LTV_CORREGIDO_0\") > 0.80, '5. <80 - 90%]')\n",
    "     .when(F.col(\"LTV_CORREGIDO_0\") > 0.70, '4. <70 - 80%]')\n",
    "     .when(F.col(\"LTV_CORREGIDO_0\") > 0.60, '3. <60 - 70%]')\n",
    "     .when(F.col(\"LTV_CORREGIDO_0\") > 0.50, '2. <50 - 60%]')\n",
    "     .otherwise('1. [0 - 50%]')\n",
    ")\n",
    "\n",
    "# Crear el campo SEGMENTO_CAL_2024Q4 con las condiciones especificadas\n",
    "hip_ahol_2 = hip_ahol_2.withColumn(\"SEGMENTO_CAL_2024Q4\", \n",
    "    F.when((F.col(\"SIT_LABORAL_EXP_F\") == \"DEPENDIENTE\") & \n",
    "           (~F.col(\"LTV_CORREGIDO_0_R\").isin(\"7. <100 - +]\", \"6. <90 - 100%]\", \"5. <80 - 90%]\")), \"1. Dep+LTV<80%\")\n",
    "    .when((F.col(\"SIT_LABORAL_EXP_F\") == \"DEPENDIENTE\") & \n",
    "          (F.col(\"LTV_CORREGIDO_0_R\").isin(\"7. <100 - +]\", \"6. <90 - 100%]\", \"5. <80 - 90%]\")), \"2. Dep+LTV>80%\")\n",
    "    .when((F.col(\"SIT_LABORAL_EXP_F\") != \"DEPENDIENTE\") & \n",
    "          (~F.col(\"LTV_CORREGIDO_0_R\").isin(\"7. <100 - +]\", \"6. <90 - 100%]\", \"5. <80 - 90%]\")), \"3. No Dep+LTV<80%\")\n",
    "    .when((F.col(\"SIT_LABORAL_EXP_F\") != \"DEPENDIENTE\") & \n",
    "          (F.col(\"LTV_CORREGIDO_0_R\").isin(\"7. <100 - +]\", \"6. <90 - 100%]\", \"5. <80 - 90%]\")), \"4. No Dep+LTV>80%\"))\n",
    "\n",
    "hip_ahol_2 = hip_ahol_2.withColumn(\n",
    "    \"SEGMENTO_CAL_2024Q4_v2\", \n",
    "    when((col(\"SIT_LABORAL_EXP_F\") == \"DEPENDIENTE\") & (col(\"LTV_CORREGIDO_VF\") <= 0.80), \"1. Dep+LTV<80%\")\n",
    "    .when((col(\"SIT_LABORAL_EXP_F\") == \"DEPENDIENTE\") & (col(\"LTV_CORREGIDO_VF\") > 0.80), \"2. Dep+LTV>80%\")\n",
    "    .when((col(\"SIT_LABORAL_EXP_F\") != \"DEPENDIENTE\") & (col(\"LTV_CORREGIDO_VF\") <= 0.80), \"3. No Dep+LTV<80%\")\n",
    "    .when((col(\"SIT_LABORAL_EXP_F\") != \"DEPENDIENTE\") & (col(\"LTV_CORREGIDO_VF\") > 0.80), \"4. No Dep+LTV>80%\")\n",
    ")\n",
    "\n",
    "hip_ahol_2 = hip_ahol_2.withColumn(\"FLG_SEGMENTO_CAL_1\", F.when(F.col(\"SEGMENTO_CAL_2024Q4_v2\") == \"1. Dep+LTV<80%\", 1).otherwise(0))\n",
    "hip_ahol_2 = hip_ahol_2.withColumn(\"FLG_SEGMENTO_CAL_2\", F.when(F.col(\"SEGMENTO_CAL_2024Q4_v2\") == \"2. Dep+LTV>80%\", 1).otherwise(0))\n",
    "hip_ahol_2 = hip_ahol_2.withColumn(\"FLG_SEGMENTO_CAL_3\", F.when(F.col(\"SEGMENTO_CAL_2024Q4_v2\") == \"3. No Dep+LTV<80%\", 1).otherwise(0))\n",
    "hip_ahol_2 = hip_ahol_2.withColumn(\"FLG_SEGMENTO_CAL_4\", F.when(F.col(\"SEGMENTO_CAL_2024Q4_v2\") == \"4. No Dep+LTV>80%\", 1).otherwise(0))\n",
    "\n",
    "hip_ahol_2 = hip_ahol_2.withColumn(\"Tipo_excepcion_F\", \n",
    "                   when(col(\"flg_PlanAhorro\").isNull(), \"sin excepcion\")\n",
    "                   .when(col(\"flg_PlanAhorro\") == 1, \"Plan de Ahorro\")\n",
    "                   .otherwise(\"Resto de excepciones\"))\n",
    "\n",
    "hip_ahol_2 = hip_ahol_2.withColumn('PD_FINAL_BASE', expr(\"1 / (1 + exp(-XB_FINAL_BASE))\"))"
   ]
  },
  {
   "cell_type": "code",
   "execution_count": 0,
   "metadata": {
    "application/vnd.databricks.v1+cell": {
     "cellMetadata": {
      "byteLimit": 2048000,
      "rowLimit": 10000
     },
     "inputWidgets": {},
     "nuid": "c9053499-05bc-467d-b12a-403c7f67f9c7",
     "showTitle": false,
     "tableResultSettingsMap": {},
     "title": ""
    }
   },
   "outputs": [],
   "source": [
    "hip_ahol_2.createOrReplaceTempView(\"hip_ahol_2\")\n",
    "spark.sql('''\n",
    "    CREATE OR REPLACE TABLE\n",
    "        catalog_lhcl_prod_bcp.bcp_edv_fabseg.T39290_hm_app_hipahlo\n",
    "    USING DELTA LOCATION \n",
    "        'abfss://bcp-edv-fabseg@adlscu1lhclbackp05.dfs.core.windows.net/T39290/Seguimiento/02_Applicant_Hipotecario/hm_app_hipahlo'\n",
    "    AS SELECT * FROM hip_ahol_2\n",
    "    '''\n",
    ")"
   ]
  }
 ],
 "metadata": {
  "application/vnd.databricks.v1+notebook": {
   "computePreferences": null,
   "dashboards": [],
   "environmentMetadata": {
    "base_environment": "",
    "environment_version": "2"
   },
   "inputWidgetPreferences": null,
   "language": "python",
   "notebookMetadata": {
    "mostRecentlyExecutedCommandWithImplicitDF": {
     "commandId": 7382155985442600,
     "dataframes": [
      "_sqldf"
     ]
    },
    "pythonIndentUnit": 4
   },
   "notebookName": "04_App_Fondeo_MIV_Ahlo - Drivers",
   "widgets": {}
  },
  "language_info": {
   "name": "python"
  }
 },
 "nbformat": 4,
 "nbformat_minor": 0
}
