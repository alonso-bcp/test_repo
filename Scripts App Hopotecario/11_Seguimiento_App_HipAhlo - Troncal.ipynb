{
 "cells": [
  {
   "cell_type": "code",
   "execution_count": 0,
   "metadata": {
    "application/vnd.databricks.v1+cell": {
     "cellMetadata": {
      "byteLimit": 2048000,
      "rowLimit": 10000
     },
     "inputWidgets": {},
     "nuid": "ad2475e6-0b8b-49cb-9e41-ea1137385be8",
     "showTitle": false,
     "tableResultSettingsMap": {},
     "title": ""
    }
   },
   "outputs": [],
   "source": [
    "# Importando módulo de seguimiento\n",
    "import sys\n",
    "import importlib\n",
    "sys.path.append('/Workspace/Users/luisfdiaz@bcp.com.pe/ScoreGuardian')\n",
    "\n",
    "import core.SegScore as rmm\n",
    "importlib.reload(rmm)\n",
    "\n",
    "# Librerias y fuciones generales\n",
    "from pyspark.sql.functions import date_format, expr, to_date, date_sub, add_months, col, when, coalesce, trim, broadcast, avg, max, min, lit, concat, window, round as colround, upper, abs as sparkabs\n",
    "from pyspark.sql import functions as F\n",
    "from pyspark import StorageLevel\n",
    "import numpy as np\n",
    "import seaborn as sns\n",
    "import pandas as pd\n",
    "import matplotlib.pyplot as plt\n",
    "from pyspark.sql.window import Window\n",
    "from pyspark.sql.types import StructType, StructField, StringType\n",
    "\n",
    "#Mostrar los duplicados\n",
    "def print_res(sparkf_df):\n",
    "  import pandas as pd\n",
    "  pd.set_option('display.max_rows', None)\n",
    "  pd.set_option('display.max_columns', None)\n",
    "  pd_spark_df = sparkf_df.toPandas()\n",
    " \n",
    "  return pd_spark_df"
   ]
  },
  {
   "cell_type": "code",
   "execution_count": 0,
   "metadata": {
    "application/vnd.databricks.v1+cell": {
     "cellMetadata": {
      "byteLimit": 2048000,
      "rowLimit": 10000
     },
     "inputWidgets": {},
     "nuid": "f9dcd12e-8ad4-46ad-bc7c-5f9c2138d4c2",
     "showTitle": false,
     "tableResultSettingsMap": {},
     "title": ""
    }
   },
   "outputs": [],
   "source": [
    "# Importando base y configuraciones iniciales\n",
    "base_seguimiento = spark.sql(\"select distinct * from catalog_lhcl_prod_bcp.bcp_edv_fabseg.t39290_hm_app_hipahlo_f\")\n",
    "base_seguimiento = base_seguimiento.withColumn(\"CODMES\", col(\"CODMES\").cast(\"integer\"))\n",
    "base_seguimiento = base_seguimiento.withColumn(\"DEF5\", when(col(\"DISTANCIA_DEF24\") <= 5, lit(1)).otherwise(lit(0)))\n",
    "base_seguimiento = base_seguimiento.withColumn(\"DEF4\", when(col(\"DISTANCIA_DEF24\") <= 4, lit(1)).otherwise(lit(0))) \n",
    "\n",
    "base_seguimiento.persist(StorageLevel.MEMORY_AND_DISK).count()\n",
    "\n",
    "# Verificando duplicandos en el segundo Join\n",
    "dup = base_seguimiento.groupBy(\"CODCLAVEOPECTA\", \"CODMES\").count().alias(\"count\").filter(col(\"count\")>1)\n",
    "print_res(dup)"
   ]
  },
  {
   "cell_type": "code",
   "execution_count": 0,
   "metadata": {
    "application/vnd.databricks.v1+cell": {
     "cellMetadata": {
      "byteLimit": 2048000,
      "rowLimit": 10000
     },
     "inputWidgets": {},
     "nuid": "90b290d3-3588-4f0c-8902-028dcb4990c7",
     "showTitle": false,
     "tableResultSettingsMap": {},
     "title": ""
    }
   },
   "outputs": [],
   "source": [
    "fc = pd.DataFrame([(1, 1), (1, 1), (1, 1)], columns=['CODMES', 'FAC_CAL_DRI_N'])\n",
    "fm = pd.DataFrame([(1, 1), (1, 1), (1, 1)], columns=['CODMES', 'FAC_CAL_DRI_M'])"
   ]
  },
  {
   "cell_type": "code",
   "execution_count": 0,
   "metadata": {
    "application/vnd.databricks.v1+cell": {
     "cellMetadata": {
      "byteLimit": 2048000,
      "rowLimit": 10000
     },
     "inputWidgets": {},
     "nuid": "c524829d-4550-4358-8b42-6a7b2cdc55b0",
     "showTitle": false,
     "tableResultSettingsMap": {},
     "title": ""
    }
   },
   "outputs": [],
   "source": [
    "base_seguimiento = base_seguimiento.withColumn(\"ACT_HIP\", when(col(\"CODMES\")<202308, \"ANTES\").otherwise(col(\"ACT_HIP\")))\n",
    "base_seguimiento = base_seguimiento.dropDuplicates(subset=['CODMES', 'CODCLAVEOPECTA'])"
   ]
  },
  {
   "cell_type": "code",
   "execution_count": 0,
   "metadata": {
    "application/vnd.databricks.v1+cell": {
     "cellMetadata": {
      "byteLimit": 2048000,
      "rowLimit": 10000
     },
     "inputWidgets": {},
     "nuid": "276bb54e-b95a-43fa-8bc2-19fd30b5d95f",
     "showTitle": false,
     "tableResultSettingsMap": {},
     "title": ""
    }
   },
   "outputs": [],
   "source": [
    "pd_cal='PD_2024Q4vf'#vigente\n",
    "pd_rbm='PD_RBM'\n",
    "pd_trc='PD_FINAL_BASE'\n",
    "tipo_banda = 'Jeffrey'#Jeffrey Vasiseck\n",
    "codmes_default = 202307\n",
    "columna_monto='MTOAPROBADO_SOLES'\n",
    "titulo='Calibración Applicant App Ahorro Local'\n",
    "condiciones= \"CODMES >= 201901 AND DEF_120_BLOQ_REF_0 = 0\""
   ]
  },
  {
   "cell_type": "code",
   "execution_count": 0,
   "metadata": {
    "application/vnd.databricks.v1+cell": {
     "cellMetadata": {
      "byteLimit": 2048000,
      "rowLimit": 10000
     },
     "inputWidgets": {},
     "nuid": "f6aad0ff-5b8d-4b27-9f07-dabfedc9e065",
     "showTitle": false,
     "tableResultSettingsMap": {},
     "title": ""
    }
   },
   "outputs": [],
   "source": [
    "# Objeto de Seguimiento\n",
    "Obj_Seg = rmm.MonitorScore(\n",
    "  nombre_modelo         = 'Personas Modelo Applicant Ahorro Local',\n",
    "  codigo_modelo         = 'MOD-BCP-20658',\n",
    "  tier                  = 'II',\n",
    "  detalle_seguimiento   = 'Seguimiento Applicant Ahorro Local',\n",
    "  mes_seguimiento       = '202504',\n",
    "  base_monitoreo        = base_seguimiento,\n",
    "  pd1                   = pd_cal,\n",
    "  pd2                   = pd_cal,\n",
    "  monto_credito         = columna_monto,\n",
    "  query_univ            = \"DEF_120_BLOQ_REF_0=0 AND PD_2024Q4vf IS NOT NULL AND FLG_VC_VIVIENDA_RBM=1\",\n",
    "  bandas                = tipo_banda,\n",
    "  codmes_default        = codmes_default,\n",
    "  meses_ventana_target  = 24,\n",
    "  meses_atraso_target   = 4\n",
    ")"
   ]
  },
  {
   "cell_type": "code",
   "execution_count": 0,
   "metadata": {
    "application/vnd.databricks.v1+cell": {
     "cellMetadata": {
      "byteLimit": 2048000,
      "rowLimit": 10000
     },
     "inputWidgets": {},
     "nuid": "f8802b9b-cc02-465b-beac-312cc0115b0f",
     "showTitle": false,
     "tableResultSettingsMap": {},
     "title": ""
    }
   },
   "outputs": [],
   "source": [
    "dis_veh_app, evoldis_gini_pd_cal, evoldis_ks_pd_cal = Obj_Seg.EvolDis(\n",
    "  query_filtro       = 'FLAG_CLIENTE=1',\n",
    "  pd_dis             = 'XB_OPE_CLI_CAL_REP',\n",
    "  codmes_ini         = 202206,\n",
    "  codmes_fin         = 202409,\n",
    "  amplitud           = 6,\n",
    "  disc_target        = [24, 21,18],\n",
    "  umbral_sup         = 0.4,\n",
    "  umbral_inf         = 0.3,\n",
    "  moviles            = True,\n",
    "  dim_grafico        = (22.5, 6),\n",
    "  pos_leyenda        = (0.5, -0.3),\n",
    "  etiquetas          = True,\n",
    "  eje_gini_max = 1,\n",
    "  eje_gini_min = 0\n",
    ")"
   ]
  },
  {
   "cell_type": "code",
   "execution_count": 0,
   "metadata": {
    "application/vnd.databricks.v1+cell": {
     "cellMetadata": {
      "byteLimit": 2048000,
      "rowLimit": 10000
     },
     "inputWidgets": {},
     "nuid": "3a8762ae-42c8-4d27-ace7-cc25056e2248",
     "showTitle": false,
     "tableResultSettingsMap": {},
     "title": ""
    }
   },
   "outputs": [],
   "source": [
    "dis_veh_app, evoldis_gini_pd_cal, evoldis_ks_pd_cal = Obj_Seg.EvolDis(\n",
    "  query_filtro       = 'FLAG_CLIENTE=0',\n",
    "  pd_dis             = 'XB_OPE_NOCLI_REP',\n",
    "  codmes_ini         = 202101,\n",
    "  codmes_fin         = 202409,\n",
    "  amplitud           = 6,\n",
    "  disc_target        = [24, 21,18],\n",
    "  umbral_sup         = 0.4,\n",
    "  umbral_inf         = 0.3,\n",
    "  moviles            = True,\n",
    "  dim_grafico        = (22.5, 6),\n",
    "  pos_leyenda        = (0.5, -0.3),\n",
    "  etiquetas          = True,\n",
    "  eje_gini_max = 1\n",
    ")"
   ]
  },
  {
   "cell_type": "code",
   "execution_count": 0,
   "metadata": {
    "application/vnd.databricks.v1+cell": {
     "cellMetadata": {
      "byteLimit": 2048000,
      "rowLimit": 10000
     },
     "inputWidgets": {},
     "nuid": "7cfa6c42-7b0c-40cc-bf8c-06fd2f528c15",
     "showTitle": false,
     "tableResultSettingsMap": {},
     "title": ""
    }
   },
   "outputs": [],
   "source": [
    "var_pd = [\"XB_FINAL_BASE_REP\", \"XB_FINAL_BASE\"]\n",
    "caldri_veh_app = Obj_Seg.EvolDisVar(\n",
    "  # Parametros de figura individual\n",
    "  query_filtro      = 'FLAG_CLIENTE =1',\n",
    "  codmes_ini        = 202206,\n",
    "  codmes_fin        = 202312,\n",
    "  amplitud          = 6,\n",
    "  disc_target       = [24, 21,18],\n",
    "  umbral_sup        = 0.4,\n",
    "  umbral_inf        = 0.3,\n",
    "  moviles           = True,\n",
    "  dim_grafico       = (22.5, 6),\n",
    "  pos_leyenda       = (0.5, -0.35),\n",
    "  etiquetas         = True,\n",
    "  gini_abs          = False,\n",
    " \n",
    "  # Parametros de figura final\n",
    "  ncolumnas         = 2,\n",
    "  nfilas            = 1,\n",
    "  variables         = var_pd,\n",
    "  dim_grafico_total = (20, 6),\n",
    "  ncol_leyenda      = 5,\n",
    "  vspacio           = -0.25,\n",
    "  hspacio           = 4,\n",
    "  tamaño_etiqueta   = 14 \n",
    ")"
   ]
  },
  {
   "cell_type": "code",
   "execution_count": 0,
   "metadata": {
    "application/vnd.databricks.v1+cell": {
     "cellMetadata": {
      "byteLimit": 2048000,
      "rowLimit": 10000
     },
     "inputWidgets": {},
     "nuid": "ded1a8bc-9c07-4fe9-a6bd-3b56022e1f2c",
     "showTitle": false,
     "tableResultSettingsMap": {},
     "title": ""
    }
   },
   "outputs": [],
   "source": [
    "var_pd = [\"XB_FINAL_BASE_REP\", \"XB_FINAL_BASE\"]\n",
    "caldri_veh_app = Obj_Seg.EvolDisVar(\n",
    "  # Parametros de figura individual\n",
    "  query_filtro      = 'FLAG_CLIENTE =0',\n",
    "  codmes_ini        = 202206,\n",
    "  codmes_fin        = 202312,\n",
    "  amplitud          = 6,\n",
    "  disc_target       = [24, 21,18],\n",
    "  umbral_sup        = 0.4,\n",
    "  umbral_inf        = 0.3,\n",
    "  moviles           = True,\n",
    "  dim_grafico       = (22.5, 6),\n",
    "  pos_leyenda       = (0.5, -0.35),\n",
    "  etiquetas         = True,\n",
    "  gini_abs          = False,\n",
    " \n",
    "  # Parametros de figura final\n",
    "  ncolumnas         = 2,\n",
    "  nfilas            = 1,\n",
    "  variables         = var_pd,\n",
    "  dim_grafico_total = (20, 6),\n",
    "  ncol_leyenda      = 5,\n",
    "  vspacio           = -0.25,\n",
    "  hspacio           = 4,\n",
    "  tamaño_etiqueta   = 14 \n",
    ")"
   ]
  },
  {
   "cell_type": "code",
   "execution_count": 0,
   "metadata": {
    "application/vnd.databricks.v1+cell": {
     "cellMetadata": {
      "byteLimit": 2048000,
      "rowLimit": 10000
     },
     "inputWidgets": {},
     "nuid": "292fb180-2cee-498c-b1e4-3cd63bb00f3a",
     "showTitle": false,
     "tableResultSettingsMap": {},
     "title": ""
    }
   },
   "outputs": [],
   "source": [
    "var_pd = [\"PD_P1_REP\", \"PD_P1\"]\n",
    "caldri_veh_app = Obj_Seg.EvolDisVar(\n",
    "  # Parametros de figura individual\n",
    "  query_filtro      = '',\n",
    "  codmes_ini        = 202206,\n",
    "  codmes_fin        = 202312,\n",
    "  amplitud          = 6,\n",
    "  disc_target       = [24, 21,18],\n",
    "  umbral_sup        = 0.4,\n",
    "  umbral_inf        = 0.3,\n",
    "  moviles           = True,\n",
    "  dim_grafico       = (22.5, 6),\n",
    "  pos_leyenda       = (0.5, -0.35),\n",
    "  etiquetas         = True,\n",
    "  gini_abs          = False,\n",
    " \n",
    "  # Parametros de figura final\n",
    "  ncolumnas         = 2,\n",
    "  nfilas            = 1,\n",
    "  variables         = var_pd,\n",
    "  dim_grafico_total = (20, 6),\n",
    "  ncol_leyenda      = 5,\n",
    "  vspacio           = -0.25,\n",
    "  hspacio           = 4,\n",
    "  tamaño_etiqueta   = 14 \n",
    ")"
   ]
  },
  {
   "cell_type": "code",
   "execution_count": 0,
   "metadata": {
    "application/vnd.databricks.v1+cell": {
     "cellMetadata": {
      "byteLimit": 2048000,
      "rowLimit": 10000
     },
     "inputWidgets": {},
     "nuid": "da1b1614-0f2d-431a-8c8b-a4c02c8de82b",
     "showTitle": false,
     "tableResultSettingsMap": {},
     "title": ""
    }
   },
   "outputs": [],
   "source": [
    "Obj_Seg.base_monitoreo = Obj_Seg.base_monitoreo.withColumn(\n",
    "    \"SUITE_AntLaboralMeses_J\", \n",
    "    when(col(\"codmes\") <= 202307, col(\"ANT_LABORAL_MESES\")).otherwise(col(\"SUITE_AntLaboralMeses\"))\n",
    ")\n",
    "\n",
    "Obj_Seg.base_monitoreo = Obj_Seg.base_monitoreo.withColumn(\n",
    "    \"SUITE_AntLaboralMeses_J\",\n",
    "    col('SUITE_AntLaboralMeses_J').cast('int')\n",
    ")\n",
    "\n",
    "# Cortamos la variable\n",
    "plazo = Obj_Seg.CutVar(variables=['EDAD', 'APALANCAMIENTO', 'SUITE_AntLaboralMeses_J'], num_cortes=4, query_corte=\"CODMES BETWEEN 202101 AND 202410 AND DEF_120_BLOQ_REF_0 = 0\")"
   ]
  },
  {
   "cell_type": "code",
   "execution_count": 0,
   "metadata": {
    "application/vnd.databricks.v1+cell": {
     "cellMetadata": {
      "byteLimit": 2048000,
      "rowLimit": 10000
     },
     "inputWidgets": {},
     "nuid": "d7547223-4686-40c7-82b4-2a754281ad46",
     "showTitle": false,
     "tableResultSettingsMap": {},
     "title": ""
    }
   },
   "outputs": [],
   "source": []
  },
  {
   "cell_type": "code",
   "execution_count": 0,
   "metadata": {
    "application/vnd.databricks.v1+cell": {
     "cellMetadata": {
      "byteLimit": 2048000,
      "rowLimit": 10000
     },
     "inputWidgets": {},
     "nuid": "9e787a15-f81e-4bb9-aee1-e60f5e90c5e9",
     "showTitle": false,
     "tableResultSettingsMap": {},
     "title": ""
    }
   },
   "outputs": [],
   "source": [
    "var_cal = [\"LTV_DEFINITIVA_Q\", \"FLG_ZONA_RIES_REP\", \"APALANCAMIENTO_Q\", \"EDAD_Q\", \"CTDPLAZOAPROBADO_N_REP_0\", \"TIPSITUACIONLABORAL_N\"]\n",
    "\n",
    "psi_dri = Obj_Seg.MixPSIVar(\n",
    "  # Parametros de figura individual\n",
    "    query_uso         ='FLAG_CLIENTE=1 AND CODMES >=202201',\n",
    "    cast_int          =True,\n",
    "    codmes_inicio1    =202011,\n",
    "    codmes_fin1       =202204,\n",
    "    codmes_inicio2    =202501,\n",
    "    codmes_fin2       =202504,\n",
    "    dim_grafico       =(25, 6),\n",
    "    pos_leyenda       =(0.5, -0.35),\n",
    " \n",
    "    # Parametros de figura final\n",
    "    tipo_vista        = 'M',\n",
    "    ncolumnas         = 3,\n",
    "    nfilas            = 2,\n",
    "    variables         = var_cal,\n",
    "    dim_grafico_total = (27, 12),\n",
    "    ncol_leyenda      =5,\n",
    "    tamaño_leyenda    = 8.25,\n",
    "    vspacio           =-0.45,\n",
    "    hspacio           =0,\n",
    "    borde             = 0.08\n",
    ")"
   ]
  },
  {
   "cell_type": "code",
   "execution_count": 0,
   "metadata": {
    "application/vnd.databricks.v1+cell": {
     "cellMetadata": {
      "byteLimit": 2048000,
      "rowLimit": 10000
     },
     "inputWidgets": {},
     "nuid": "e00abe53-20ab-4999-84aa-2e962083d297",
     "showTitle": false,
     "tableResultSettingsMap": {},
     "title": ""
    }
   },
   "outputs": [],
   "source": [
    "var_cal = [\"LTV_DEFINITIVA_Q\", \"FLG_ZONA_RIES_REP\", \"APALANCAMIENTO_Q\", \"EDAD_Q\", \"CTDPLAZOAPROBADO_N_REP_1\", \"SUITE_AntLaboralMeses_J_Q\"]\n",
    "\n",
    "psi_dri = Obj_Seg.MixPSIVar(\n",
    "  # Parametros de figura individual\n",
    "    query_uso         ='FLAG_CLIENTE=0 AND CODMES >=202201',\n",
    "    cast_int          =True,\n",
    "    codmes_inicio1    =202011,\n",
    "    codmes_fin1       =202204,\n",
    "    codmes_inicio2    =202501,\n",
    "    codmes_fin2       =202504,\n",
    "    dim_grafico       =(25, 6),\n",
    "    pos_leyenda       =(0.5, -0.35),\n",
    " \n",
    "    # Parametros de figura final\n",
    "    tipo_vista        = 'M',\n",
    "    ncolumnas         = 3,\n",
    "    nfilas            = 2,\n",
    "    variables         = var_cal,\n",
    "    dim_grafico_total = (27, 12),\n",
    "    ncol_leyenda      =5,\n",
    "    tamaño_leyenda    = 8.25,\n",
    "    vspacio           =-0.45,\n",
    "    hspacio           =0,\n",
    "    borde             = 0.08\n",
    ")"
   ]
  },
  {
   "cell_type": "code",
   "execution_count": 0,
   "metadata": {
    "application/vnd.databricks.v1+cell": {
     "cellMetadata": {
      "byteLimit": 2048000,
      "rowLimit": 10000
     },
     "inputWidgets": {},
     "nuid": "a7062208-4b4b-450c-966f-3f20d0a6e8b8",
     "showTitle": false,
     "tableResultSettingsMap": {},
     "title": ""
    }
   },
   "outputs": [],
   "source": [
    "caldri_veh_app, rc_dri, rm_dri = Obj_Seg.CalDri(\n",
    "  driver             = 'LTV_DEFINITIVA_Q',\n",
    "  query_uso          = f\"CODMES >= 202110 AND CODMES <= 202306 AND CODMES NOT IN (202304)\",\n",
    "  pd_seg             = 'PD_2024Q4vf',\n",
    "  rd_aux             = 'RD12',\n",
    "  pd_comparacion     = False,\n",
    "  factores_cuentas   = fc,\n",
    "  factores_montos    = fm,\n",
    "  mat_importancia    = 5,\n",
    "  cast_int           = True, \n",
    "  proys_def_temp     = 3,\n",
    "  titulo             = f'LTV_DEFINITIVA_Q',\n",
    "  dim_grafico        = (35, 6.5),\n",
    "  etiquetas          = True,\n",
    "  pos_etiquetas_xc   = [10, 10, 10, 10, 10, 10, 10, 10, 10],\n",
    "  pos_etiquetas_xm   = [10, 10, 10, 10, 10, 10, 10, 10, 10, 10],\n",
    "  pos_leyenda        = (0.5, -0.2),\n",
    "  punt_mora          = 100,\n",
    "  iv = True\n",
    ")"
   ]
  }
 ],
 "metadata": {
  "application/vnd.databricks.v1+notebook": {
   "computePreferences": null,
   "dashboards": [],
   "environmentMetadata": {
    "base_environment": "",
    "environment_version": "2"
   },
   "inputWidgetPreferences": null,
   "language": "python",
   "notebookMetadata": {
    "pythonIndentUnit": 4
   },
   "notebookName": "11_Seguimiento_App_HipAhlo - Troncal",
   "widgets": {}
  },
  "language_info": {
   "name": "python"
  }
 },
 "nbformat": 4,
 "nbformat_minor": 0
}
