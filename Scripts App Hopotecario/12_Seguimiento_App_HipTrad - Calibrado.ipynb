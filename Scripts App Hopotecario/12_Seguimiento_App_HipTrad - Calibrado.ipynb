{
 "cells": [
  {
   "cell_type": "code",
   "execution_count": 0,
   "metadata": {
    "application/vnd.databricks.v1+cell": {
     "cellMetadata": {
      "byteLimit": 2048000,
      "rowLimit": 10000
     },
     "inputWidgets": {},
     "nuid": "7e04cd6a-f999-4fa4-9cdb-5dc334c829d2",
     "showTitle": false,
     "tableResultSettingsMap": {},
     "title": ""
    }
   },
   "outputs": [],
   "source": [
    "# Importando módulo de seguimiento\n",
    "import sys\n",
    "import importlib\n",
    "sys.path.append('/Workspace/Users/luisfdiaz@bcp.com.pe/ScoreGuardian')\n",
    "\n",
    "import core.SegScore as rmm\n",
    "importlib.reload(rmm)\n",
    "\n",
    "# Librerias y fuciones generales\n",
    "from pyspark.sql.functions import date_format, expr, to_date, date_sub, add_months, col, when, coalesce, trim, broadcast, avg, max, min, lit, concat, window, round as colround, upper, abs as sparkabs\n",
    "from pyspark.sql import functions as F\n",
    "from pyspark import StorageLevel\n",
    "import numpy as np\n",
    "import seaborn as sns\n",
    "import pandas as pd\n",
    "import matplotlib.pyplot as plt\n",
    "from pyspark.sql.window import Window\n",
    "from pyspark.sql.types import StructType, StructField, StringType\n",
    "\n",
    "#Mostrar los duplicados\n",
    "def print_res(sparkf_df):\n",
    "  import pandas as pd\n",
    "  pd.set_option('display.max_rows', None)\n",
    "  pd.set_option('display.max_columns', None)\n",
    "  pd_spark_df = sparkf_df.toPandas()\n",
    " \n",
    "  return pd_spark_df"
   ]
  },
  {
   "cell_type": "code",
   "execution_count": 0,
   "metadata": {
    "application/vnd.databricks.v1+cell": {
     "cellMetadata": {
      "byteLimit": 2048000,
      "rowLimit": 10000
     },
     "inputWidgets": {},
     "nuid": "48e23965-069f-4c36-8b93-fccf3229b3c7",
     "showTitle": false,
     "tableResultSettingsMap": {},
     "title": ""
    }
   },
   "outputs": [],
   "source": [
    "# Importando base y configuraciones iniciales\n",
    "base_seguimiento = spark.sql(\"select distinct * from catalog_lhcl_prod_bcp.bcp_edv_fabseg.t39290_hm_app_hiptrad_f\")\n",
    "base_seguimiento = base_seguimiento.withColumn(\"CODMES\", col(\"CODMES\").cast(\"integer\"))\n",
    "base_seguimiento = base_seguimiento.withColumn(\"DEF5\", when(col(\"DISTANCIA_DEF24\") <= 5, lit(1)).otherwise(lit(0)))\n",
    "base_seguimiento = base_seguimiento.withColumn(\"DEF4\", when(col(\"DISTANCIA_DEF24\") <= 4, lit(1)).otherwise(lit(0))) \n",
    "\n",
    "base_seguimiento.persist(StorageLevel.MEMORY_AND_DISK).count()\n",
    "base_seguimiento = base_seguimiento.dropDuplicates([\"CODCLAVEOPECTA\"])\n",
    "\n",
    "# Verificando duplicandos en el segundo Join\n",
    "dup = base_seguimiento.groupBy(\"CODCLAVEOPECTA\", \"CODMES\").count().alias(\"count\").filter(col(\"count\")>1)\n",
    "print_res(dup)"
   ]
  },
  {
   "cell_type": "code",
   "execution_count": 0,
   "metadata": {
    "application/vnd.databricks.v1+cell": {
     "cellMetadata": {
      "byteLimit": 2048000,
      "rowLimit": 10000
     },
     "inputWidgets": {},
     "nuid": "a3d1558b-87c2-480a-a5c7-91522fae3ab5",
     "showTitle": false,
     "tableResultSettingsMap": {},
     "title": ""
    }
   },
   "outputs": [],
   "source": [
    "pd_rbm='PD_RBM'\n",
    "pd_ant='PD_APP_HIP_TRDPYME_2Q24_REP_SUITE' \n",
    "pd_cal='PD_APP_HIP_TRDPYME_2Q24_REP_FAB'\n",
    "pd_trc='XB_ADC_POND85_F'\n",
    "tipo_banda = 'Jeffrey'#Jeffrey Vasiseck\n",
    "codmes_default = 202307\n",
    "columna_monto='MTOAPROBADO_SOLES'\n",
    "titulo='Calibración Applicant App Tradicional'\n",
    "condiciones= \"CODMES >= 201901 AND DEF_120_BLOQ_REF_0 = 0\""
   ]
  },
  {
   "cell_type": "code",
   "execution_count": 0,
   "metadata": {
    "application/vnd.databricks.v1+cell": {
     "cellMetadata": {
      "byteLimit": 2048000,
      "rowLimit": 10000
     },
     "inputWidgets": {},
     "nuid": "4df1752f-6688-46fe-9b2c-738e05bf1a3c",
     "showTitle": false,
     "tableResultSettingsMap": {},
     "title": ""
    }
   },
   "outputs": [],
   "source": [
    "# Objeto de Seguimiento\n",
    "Obj_Seg = rmm.MonitorScore(\n",
    "  nombre_modelo         = 'Personas Modelo Applicant Tradicional',\n",
    "  codigo_modelo         = 'MOD-BCP-20658',\n",
    "  tier                  = 'II',\n",
    "  detalle_seguimiento   = 'Seguimiento Applicant Tradicional',\n",
    "  mes_seguimiento       = '202504',\n",
    "  base_monitoreo        = base_seguimiento, #dataframe de spark de tu base de seguimiento \n",
    "  pd1                   = pd_cal, #\n",
    "  pd2                   = pd_rbm, #\n",
    "  # pd3                   = pd_rbm, #\n",
    "  monto_credito         = columna_monto, #\n",
    "  query_univ            = \"DEF_120_BLOQ_REF_0=0 and codmes >202201\", #\n",
    "  bandas                = tipo_banda, \n",
    "  codmes_default        = codmes_default, #\n",
    "  meses_ventana_target  = 24, #  ventana de target\n",
    "  meses_atraso_target   = 4  #  condicion de target\n",
    ")"
   ]
  },
  {
   "cell_type": "markdown",
   "metadata": {
    "application/vnd.databricks.v1+cell": {
     "cellMetadata": {
      "byteLimit": 2048000,
      "rowLimit": 10000
     },
     "inputWidgets": {},
     "nuid": "eecb10b9-745f-4c7f-88d8-0e0e4c193768",
     "showTitle": false,
     "tableResultSettingsMap": {},
     "title": ""
    }
   },
   "source": [
    "# 1. Calibración"
   ]
  },
  {
   "cell_type": "code",
   "execution_count": 0,
   "metadata": {
    "application/vnd.databricks.v1+cell": {
     "cellMetadata": {
      "byteLimit": 2048000,
      "rowLimit": 10000
     },
     "inputWidgets": {},
     "nuid": "f3f8053b-3149-4b8b-ae7b-ae32689242d0",
     "showTitle": false,
     "tableResultSettingsMap": {},
     "title": ""
    }
   },
   "outputs": [],
   "source": [
    "Obj_Seg_cal, rc_1, rm_1, fc_1, fm_1 = Obj_Seg.EvolCal(\n",
    "  # Configuración de filtro de uso y pd de calibración\n",
    "  query_uso          = \"CODMES>=202106 and segmento_banca_f='1. Afluente'\",\n",
    "  pd_seg             = pd_cal,\n",
    "  pd_comparacion     = True,\n",
    "  proys_def_temp     = 6,\n",
    "  proys_mor_temp     = 0,\n",
    "  rd_aux             = 'RD21',\n",
    "  rd_aux2            = 'RD12', \n",
    "  mora_temp          = 'MORA_30_3',\n",
    "\n",
    "  # Configuración de proyecciones por cuentas\n",
    "  proy_def_temp_xc   = \"Best_proy\",\n",
    "  suav_def_temp_xc   = 1,\n",
    "  proy_mor_temp_xc   = 'det1_xc',\n",
    "  suav_mor_temp_xc   = 1,\n",
    "  prof_hist_xc       = 14,\n",
    "\n",
    "  # Configuración de proyecciones por montos\n",
    "  proy_def_temp_xm   = \"np.where(met2_xm==0, met2_xm+0.002, met2_xm)\",\n",
    "  suav_def_temp_xm   = 1,\n",
    "  proy_mor_temp_xm   = 'det1_xm',\n",
    "  suav_mor_temp_xm   = 1,\n",
    "  prof_hist_xm       = 14,\n",
    "\n",
    "  # Detalles del gráfico de calibración\n",
    "  titulo             = titulo,\n",
    "  pos_leyenda        = (0.5, -0.25),\n",
    "  eje_y_xc           = 0.05,\n",
    "  eje_y_xm           = 0.05,\n",
    "  dim_grafico        = (32, 7),\n",
    "  punt_mora          = 85, #Tamaño de puntos de mora temprana\n",
    "  etiquetas          =True,\n",
    "  pos_etiquetas_xm   = 10,\n",
    "  pos_etiquetas_xc   = 10,\n",
    "  tamaño_etiqueta    = 14,\n",
    "\n",
    "  # Exportar factores para vista driver\n",
    "  exportar_factores  = True\n",
    ")"
   ]
  },
  {
   "cell_type": "code",
   "execution_count": 0,
   "metadata": {
    "application/vnd.databricks.v1+cell": {
     "cellMetadata": {
      "byteLimit": 2048000,
      "rowLimit": 10000
     },
     "collapsed": true,
     "inputWidgets": {},
     "nuid": "34000922-2cf5-439e-bd04-1edaf1731f73",
     "showTitle": false,
     "tableResultSettingsMap": {},
     "title": ""
    }
   },
   "outputs": [],
   "source": [
    "rc_1"
   ]
  },
  {
   "cell_type": "code",
   "execution_count": 0,
   "metadata": {
    "application/vnd.databricks.v1+cell": {
     "cellMetadata": {
      "byteLimit": 2048000,
      "rowLimit": 10000
     },
     "collapsed": true,
     "inputWidgets": {},
     "nuid": "33db922e-329a-4c75-9185-561d9e3a0222",
     "showTitle": false,
     "tableResultSettingsMap": {},
     "title": ""
    }
   },
   "outputs": [],
   "source": [
    "rm_1"
   ]
  },
  {
   "cell_type": "code",
   "execution_count": 0,
   "metadata": {
    "application/vnd.databricks.v1+cell": {
     "cellMetadata": {
      "byteLimit": 2048000,
      "rowLimit": 10000
     },
     "collapsed": true,
     "inputWidgets": {},
     "nuid": "396f6460-0323-406a-a7f1-b8276eea57e3",
     "showTitle": false,
     "tableResultSettingsMap": {},
     "title": ""
    }
   },
   "outputs": [],
   "source": [
    "fm_1"
   ]
  },
  {
   "cell_type": "code",
   "execution_count": 0,
   "metadata": {
    "application/vnd.databricks.v1+cell": {
     "cellMetadata": {
      "byteLimit": 2048000,
      "rowLimit": 10000
     },
     "inputWidgets": {},
     "nuid": "aa6ff249-355e-4538-8549-eff239eb239e",
     "showTitle": false,
     "tableResultSettingsMap": {},
     "title": ""
    }
   },
   "outputs": [],
   "source": [
    "Obj_Seg_cal, rc_2, rm_2, fc_2, fm_2 = Obj_Seg.EvolCal(\n",
    "  # Configuración de filtro de uso y pd de calibración\n",
    "  query_uso          = \"CODMES>=202105 and segmento_banca_f<>'1. Afluente'\",\n",
    "  pd_seg             = pd_cal,\n",
    "  pd_comparacion     = True,\n",
    "  proys_def_temp     = 6,\n",
    "  proys_mor_temp     = 0,\n",
    "  rd_aux             = 'RD21',\n",
    "  rd_aux2            = 'RD12', \n",
    "  mora_temp          = 'MORA_30_3',\n",
    "\n",
    "  # Configuración de proyecciones por cuentas\n",
    "  proy_def_temp_xc   = \"Best_proy\",\n",
    "  suav_def_temp_xc   = 1,\n",
    "  proy_mor_temp_xc   = 'det1_xc',\n",
    "  suav_mor_temp_xc   = 1,\n",
    "  prof_hist_xc       = 14,\n",
    "\n",
    "  # Configuración de proyecciones por montos\n",
    "  proy_def_temp_xm   = \"np.where(met1_xm==0, met1_xm+0.005, np.where(calxmontos['CODMES']==202311, met1_xm*1, met1_xm))\",\n",
    "  suav_def_temp_xm   = 1,\n",
    "  proy_mor_temp_xm   = 'det1_xm',\n",
    "  suav_mor_temp_xm   = 1,\n",
    "  prof_hist_xm       = 14,\n",
    "\n",
    "  # Detalles del gráfico de calibración\n",
    "  titulo             = titulo,\n",
    "  pos_leyenda        = (0.5, -0.25),\n",
    "  eje_y_xc           = 0.13,\n",
    "  eje_y_xm           = 0.13,\n",
    "  dim_grafico        = (32, 7),\n",
    "  punt_mora          = 85, #Tamaño de puntos de mora temprana\n",
    "  etiquetas          =True,\n",
    "  pos_etiquetas_xm   = 10,\n",
    "  pos_etiquetas_xc   = 10,\n",
    "  tamaño_etiqueta    = 14,\n",
    "\n",
    "  # Exportar factores para vista driver\n",
    "  exportar_factores  = True\n",
    ")"
   ]
  },
  {
   "cell_type": "code",
   "execution_count": 0,
   "metadata": {
    "application/vnd.databricks.v1+cell": {
     "cellMetadata": {
      "byteLimit": 2048000,
      "rowLimit": 10000
     },
     "collapsed": true,
     "inputWidgets": {},
     "nuid": "8149ac3f-da73-4495-a62a-b1e3139b908f",
     "showTitle": false,
     "tableResultSettingsMap": {},
     "title": ""
    }
   },
   "outputs": [],
   "source": [
    "rm_2"
   ]
  },
  {
   "cell_type": "code",
   "execution_count": 0,
   "metadata": {
    "application/vnd.databricks.v1+cell": {
     "cellMetadata": {
      "byteLimit": 2048000,
      "rowLimit": 10000
     },
     "collapsed": true,
     "inputWidgets": {},
     "nuid": "457c1b70-4993-40a3-838b-ee5ca15f4cf7",
     "showTitle": false,
     "tableResultSettingsMap": {},
     "title": ""
    }
   },
   "outputs": [],
   "source": [
    "rc_2"
   ]
  },
  {
   "cell_type": "code",
   "execution_count": 0,
   "metadata": {
    "application/vnd.databricks.v1+cell": {
     "cellMetadata": {
      "byteLimit": 2048000,
      "rowLimit": 10000
     },
     "collapsed": true,
     "inputWidgets": {},
     "nuid": "b14208b3-8409-431f-8c8e-8e4a8c7144f0",
     "showTitle": false,
     "tableResultSettingsMap": {},
     "title": ""
    }
   },
   "outputs": [],
   "source": [
    "fm_2"
   ]
  },
  {
   "cell_type": "code",
   "execution_count": 0,
   "metadata": {
    "application/vnd.databricks.v1+cell": {
     "cellMetadata": {
      "byteLimit": 2048000,
      "rowLimit": 10000
     },
     "inputWidgets": {},
     "nuid": "e57625e2-c269-4092-a893-8218d979e615",
     "showTitle": false,
     "tableResultSettingsMap": {},
     "title": ""
    }
   },
   "outputs": [],
   "source": [
    "Obj_Seg_cal, rc, rm, fc, fm = Obj_Seg.EvolCal(\n",
    "  # Configuración de filtro de uso y pd de calibración\n",
    "  query_uso          = \"CODMES>=202101\",\n",
    "  pd_seg             = pd_cal,\n",
    "  pd_comparacion     = True,\n",
    "  proys_def_temp     = 6,\n",
    "  proys_mor_temp     = 0,\n",
    "  rd_aux             = 'RD21',\n",
    "  rd_aux2            = 'RD12', # Corregido\n",
    "  mora_temp          = 'MORA_30_3',\n",
    "\n",
    "  # Configuración de proyecciones por cuentas\n",
    "  proy_def_temp_xc   = 'det1_xm', \n",
    "  suav_def_temp_xc   = 1,\n",
    "  proy_mor_temp_xc   = 'det1_xm', \n",
    "  suav_mor_temp_xc   = 1,\n",
    "  prof_hist_xc       = 14,\n",
    "\n",
    "  # Configuración de proyecciones por montos\n",
    "  proy_def_temp_xm   = \"det1_xm\", \n",
    "  suav_def_temp_xm   = 1,\n",
    "  proy_mor_temp_xm   = 'det1_xm', \n",
    "  suav_mor_temp_xm   = 1,\n",
    "  prof_hist_xm       = 14,\n",
    "  fact_to_proy_xc    = [fc_1, fc_2],\n",
    "  fact_to_proy_xm    = [fm_1, fm_2],\n",
    "\n",
    "  # Detalles del gráfico de calibración\n",
    "  titulo             = titulo,\n",
    "  pos_leyenda        = (0.5, -0.25),\n",
    "  eje_y_xc           = 0.05,\n",
    "  eje_y_xm           = 0.05,\n",
    "  dim_grafico        = (32, 7),\n",
    "  punt_mora          = 85, \n",
    "  etiquetas          =True,\n",
    "  pos_etiquetas_xm   =10,\n",
    "  pos_etiquetas_xc   =10,\n",
    "  tamaño_etiqueta    =14,\n",
    "\n",
    "  # Exportar factores para vista driver\n",
    "  exportar_factores  = True\n",
    ")"
   ]
  },
  {
   "cell_type": "code",
   "execution_count": 0,
   "metadata": {
    "application/vnd.databricks.v1+cell": {
     "cellMetadata": {
      "byteLimit": 2048000,
      "rowLimit": 10000
     },
     "inputWidgets": {},
     "nuid": "fe5b503c-2b28-4e0c-ba8c-d2fdc05d2e7b",
     "showTitle": false,
     "tableResultSettingsMap": {},
     "title": ""
    }
   },
   "outputs": [],
   "source": [
    "rc"
   ]
  },
  {
   "cell_type": "code",
   "execution_count": 0,
   "metadata": {
    "application/vnd.databricks.v1+cell": {
     "cellMetadata": {
      "byteLimit": 2048000,
      "rowLimit": 10000
     },
     "inputWidgets": {},
     "nuid": "3fe197af-0c37-4334-862d-e632314a8398",
     "showTitle": false,
     "tableResultSettingsMap": {},
     "title": ""
    }
   },
   "outputs": [],
   "source": [
    "rm"
   ]
  },
  {
   "cell_type": "code",
   "execution_count": 0,
   "metadata": {
    "application/vnd.databricks.v1+cell": {
     "cellMetadata": {
      "byteLimit": 2048000,
      "rowLimit": 10000
     },
     "inputWidgets": {},
     "nuid": "959fd7e4-da35-4861-8eef-4c35a9ef175c",
     "showTitle": false,
     "tableResultSettingsMap": {},
     "title": ""
    }
   },
   "outputs": [],
   "source": [
    "driver = 'segmento_banca_f'\n",
    "Obj_SegPSI, mix_n, mix_m, psi_c, psi_m = Obj_Seg.MixPSI(\n",
    "  # Selección del driver y filtro de uso\n",
    "  driver             = driver,\n",
    "  query_uso          = 'CODMES >= 202101',\n",
    "  cast_int           = False,\n",
    "\n",
    "  # Ventana de construcción o más antigua\n",
    "  codmes_inicio1     = 202201,\n",
    "  codmes_fin1        = 202312,\n",
    "\n",
    "  # Periodo reciente\n",
    "  codmes_inicio2     = 202401,\n",
    "  codmes_fin2        = 202412,\n",
    "\n",
    "  # Detalles del gráfico\n",
    "  titulo             = driver,\n",
    "  dim_grafico        = (25,6.5),\n",
    "  pos_leyenda        = (0.5, -0.25),\n",
    "  borde              = 0.08\n",
    ")"
   ]
  },
  {
   "cell_type": "markdown",
   "metadata": {
    "application/vnd.databricks.v1+cell": {
     "cellMetadata": {
      "byteLimit": 2048000,
      "rowLimit": 10000
     },
     "inputWidgets": {},
     "nuid": "d69c99b1-7518-4296-8dec-fd305d2e45af",
     "showTitle": false,
     "tableResultSettingsMap": {},
     "title": ""
    }
   },
   "source": [
    "# 2. Discriminación"
   ]
  },
  {
   "cell_type": "code",
   "execution_count": 0,
   "metadata": {
    "application/vnd.databricks.v1+cell": {
     "cellMetadata": {
      "byteLimit": 2048000,
      "rowLimit": 10000
     },
     "inputWidgets": {},
     "nuid": "b1fabdfa-6756-4a5d-b19e-7c9b75ad5b8c",
     "showTitle": false,
     "tableResultSettingsMap": {},
     "title": ""
    }
   },
   "outputs": [],
   "source": [
    "Obj_Seg.base_monitoreo = Obj_Seg.base_monitoreo.withColumn('PD_APP_HIP_TRDPYME_2Q24', col('PD_APP_HIP_TRDPYME_2Q24').cast('float'))\n",
    "var_pd = [pd_cal, 'PD_APP_HIP_TRDPYME_2Q24', pd_rbm]\n",
    "caldri_veh_app = Obj_Seg.EvolDisVar(\n",
    "  # Parametros de figura individual\n",
    "  query_filtro = '',\n",
    "  codmes_ini   = 202206,\n",
    "  codmes_fin   = 202312,\n",
    "  amplitud     = 6,\n",
    "  disc_target  = [24, 21,18],\n",
    "  umbral_sup   = 0.5,\n",
    "  umbral_inf   = 0.4,\n",
    "  moviles      = True,\n",
    "  dim_grafico  = (22.5, 6),\n",
    "  pos_leyenda  = (0.5, -0.35),\n",
    "  etiquetas    = True,\n",
    "  gini_abs     = False,\n",
    " \n",
    "  # Parametros de figura final\n",
    "  ncolumnas = 3,\n",
    "  nfilas    = 1,\n",
    "  variables = var_pd,\n",
    "  dim_grafico_total = (30, 6),\n",
    "  ncol_leyenda = 5,\n",
    "  vspacio=-0.25,\n",
    "  hspacio=4,\n",
    "  tamaño_etiqueta = 14 \n",
    ")"
   ]
  },
  {
   "cell_type": "code",
   "execution_count": 0,
   "metadata": {
    "application/vnd.databricks.v1+cell": {
     "cellMetadata": {
      "byteLimit": 2048000,
      "rowLimit": 10000
     },
     "inputWidgets": {},
     "nuid": "1d3f323a-21a6-4aa3-913f-30924b05e81e",
     "showTitle": false,
     "tableResultSettingsMap": {},
     "title": ""
    }
   },
   "outputs": [],
   "source": [
    "var_pd = ['PD_APP_HIP_TRDPYME_2Q24', pd_cal]\n",
    "caldri_veh_app = Obj_Seg.EvolDisVar(\n",
    "  # Parametros de figura individual\n",
    "  query_filtro = '',\n",
    "  codmes_ini   = 202206,\n",
    "  codmes_fin   = 202312,\n",
    "  amplitud     = 6,\n",
    "  disc_target  = [24, 21,18],\n",
    "  umbral_sup   = 0.5,\n",
    "  umbral_inf   = 0.4,\n",
    "  moviles      = True,\n",
    "  dim_grafico  = (22.5, 6),\n",
    "  pos_leyenda  = (0.5, -0.35),\n",
    "  etiquetas    = True,\n",
    "  gini_abs     = False,\n",
    " \n",
    "  # Parametros de figura final\n",
    "  ncolumnas = 2,\n",
    "  nfilas    = 1,\n",
    "  variables = var_pd,\n",
    "  dim_grafico_total = (20, 6),\n",
    "  ncol_leyenda = 5,\n",
    "  vspacio=-0.25,\n",
    "  hspacio=4,\n",
    "  tamaño_etiqueta = 14 \n",
    ")"
   ]
  },
  {
   "cell_type": "markdown",
   "metadata": {
    "application/vnd.databricks.v1+cell": {
     "cellMetadata": {
      "byteLimit": 2048000,
      "rowLimit": 10000
     },
     "inputWidgets": {},
     "nuid": "5ca8bfa3-5695-4b1f-9e18-36fd63d3259c",
     "showTitle": false,
     "tableResultSettingsMap": {},
     "title": ""
    }
   },
   "source": [
    "# 3. Seguimiento de variables del modelo"
   ]
  },
  {
   "cell_type": "markdown",
   "metadata": {
    "application/vnd.databricks.v1+cell": {
     "cellMetadata": {
      "byteLimit": 2048000,
      "rowLimit": 10000
     },
     "inputWidgets": {},
     "nuid": "66adc049-cbee-4a69-b4b3-54984840b910",
     "showTitle": false,
     "tableResultSettingsMap": {},
     "title": ""
    }
   },
   "source": [
    "\n",
    "**Variable**                      | **Descripción**                                                                 | **Peso**  | **Sentido** |\n",
    "|----------------------------------|----------------------------------------------------------------------------------|-----------|-------------|\n",
    "| XB_ADC_POND85_F                  | Score base                                                                      | 62.19%    | +           |\n",
    "| EXP_PCT_EVOL_SHIP_U6M_RT_U24_A3 | Evolución del promedio de deuda no hipotecaria entre 6 y 24 meses               | 11.18%    | +           |\n",
    "| RCC_PCT_UTL6_UTL24_RT_U24_A2     | Evolución de la utilización promedio de líneas entre 6 y 24 meses               | 9.29%     | +           |\n",
    "| SLD_PRM_PAS_MIN_24_24_RT_U24_I   | Ratio entre el pasivo mínimo y el pasivo promedio en los últ. 24 meses         | 5.28%     | +           |\n",
    "| FLAG_PYME                        | Flag de Fondeo BCP Pyme                                                         | 5.07%     | -           |\n"
   ]
  },
  {
   "cell_type": "code",
   "execution_count": 0,
   "metadata": {
    "application/vnd.databricks.v1+cell": {
     "cellMetadata": {
      "byteLimit": 2048000,
      "rowLimit": 10000
     },
     "inputWidgets": {},
     "nuid": "df8c52bb-0da1-4930-ba5b-ece74a759132",
     "showTitle": false,
     "tableResultSettingsMap": {},
     "title": ""
    }
   },
   "outputs": [],
   "source": [
    "Obj_Seg.base_monitoreo = Obj_Seg.base_monitoreo.withColumn('DEU_NOHIP_6_24', col('DEU_NOHIP_6_24').cast('float'))\n",
    "Obj_Seg.base_monitoreo = Obj_Seg.base_monitoreo.withColumn('UTIL_PROM_6_24', col('UTIL_PROM_6_24').cast('float'))\n",
    "Obj_Seg.base_monitoreo = Obj_Seg.base_monitoreo.withColumn('PAS_MIN_PROM24', col('PAS_MIN_PROM24').cast('float'))\n",
    "\n",
    "# Corrigiendo deuda no hipotecaria\n",
    "Obj_Seg.base_monitoreo = Obj_Seg.base_monitoreo.withColumn(\"DEU_NOHIP_6_24\", when(col(\"DEU_NOHIP_6_24\") <0, 0).otherwise(col(\"DEU_NOHIP_6_24\")))\n",
    "\n",
    "var_cal = [\"XB_ADC_POND85_REP_SALESFORCE\", \"DEU_NOHIP_6_24\", \"UTIL_PROM_6_24\", \"PAS_MIN_PROM24\"]\n",
    "var_cal_Q = Obj_Seg.CutVar(variables=var_cal, num_cortes=4, query_corte=\"CODMES BETWEEN 202101 AND 202410 AND DEF_120_BLOQ_REF_0 = 0\")\n",
    "\n",
    "# Corrigiendo significado de missing\n",
    "Obj_Seg.base_monitoreo = Obj_Seg.base_monitoreo.withColumn(\"DEU_NOHIP_6_24_Q\", when(col(\"DEU_NOHIP_6_24_Q\") == \"98. Missing\", \"5. Sin deuda NOHIP\").otherwise(col(\"DEU_NOHIP_6_24_Q\")))\n",
    "Obj_Seg.base_monitoreo = Obj_Seg.base_monitoreo.withColumn(\"UTIL_PROM_6_24_Q\", when(col(\"UTIL_PROM_6_24_Q\") == \"98. Missing\", \"5. Sin utilización\").otherwise(col(\"UTIL_PROM_6_24_Q\")))"
   ]
  },
  {
   "cell_type": "code",
   "execution_count": 0,
   "metadata": {
    "application/vnd.databricks.v1+cell": {
     "cellMetadata": {
      "byteLimit": 2048000,
      "rowLimit": 10000
     },
     "inputWidgets": {},
     "nuid": "b74c97cd-884e-4cc6-8546-124e12ea8dbe",
     "showTitle": false,
     "tableResultSettingsMap": {},
     "title": ""
    }
   },
   "outputs": [],
   "source": [
    "Obj_Seg.base_monitoreo = Obj_Seg.base_monitoreo.withColumn('RCC_PCT_UTL6_UTL24_RT_U24', col('RCC_PCT_UTL6_UTL24_RT_U24').cast('float'))\n",
    "Obj_Seg.base_monitoreo = Obj_Seg.base_monitoreo.withColumn('EXP_PCT_EVOL_SHIP_U6M_RT_U24', col('EXP_PCT_EVOL_SHIP_U6M_RT_U24').cast('float'))\n",
    "Obj_Seg.base_monitoreo = Obj_Seg.base_monitoreo.withColumn('SLD_PRM_PAS_MIN_24_24_RT_U24', col('SLD_PRM_PAS_MIN_24_24_RT_U24').cast('float'))\n",
    "\n",
    "# Corrigiendo deuda no hipotecaria\n",
    "Obj_Seg.base_monitoreo = Obj_Seg.base_monitoreo.withColumn(\"RCC_PCT_UTL6_UTL24_RT_U24\", when(col(\"RCC_PCT_UTL6_UTL24_RT_U24\") <0, 0).otherwise(col(\"RCC_PCT_UTL6_UTL24_RT_U24\")))\n",
    "Obj_Seg.base_monitoreo = Obj_Seg.base_monitoreo.withColumn(\"RCC_PCT_UTL6_UTL24_RT_U24\", when(col(\"RCC_PCT_UTL6_UTL24_RT_U24\") <0, 0).otherwise(col(\"RCC_PCT_UTL6_UTL24_RT_U24\")))\n",
    "\n",
    "var_cal1 = [\"XB_ADC_POND85_REP_SALESFORCE\", \"EXP_PCT_EVOL_SHIP_U6M_RT_U24_1\", \"RCC_PCT_UTL6_UTL24_RT_U24_1\", \"SLD_PRM_PAS_MIN_24_24_RT_U24_1\"]\n",
    "var_cal1_Q = Obj_Seg.CutVar(variables=var_cal1, num_cortes=4, query_corte=\"CODMES BETWEEN 202101 AND 202410 AND DEF_120_BLOQ_REF_0 = 0\")\n",
    "\n",
    "# Corrigiendo significado de missing\n",
    "Obj_Seg.base_monitoreo = Obj_Seg.base_monitoreo.withColumn(\"RCC_PCT_UTL6_UTL24_RT_U24_1_Q\", when(col(\"RCC_PCT_UTL6_UTL24_RT_U24_1_Q\") == \"98. Missing\", \"5. Sin deuda NOHIP\").otherwise(col(\"RCC_PCT_UTL6_UTL24_RT_U24_1_Q\")))\n",
    "Obj_Seg.base_monitoreo = Obj_Seg.base_monitoreo.withColumn(\"EXP_PCT_EVOL_SHIP_U6M_RT_U2_1_Q\", when(col(\"EXP_PCT_EVOL_SHIP_U6M_RT_U24_1_Q\") == \"98. Missing\", \"5. Sin utilización\").otherwise(col(\"EXP_PCT_EVOL_SHIP_U6M_RT_U24_1_Q\")))"
   ]
  },
  {
   "cell_type": "code",
   "execution_count": 0,
   "metadata": {
    "application/vnd.databricks.v1+cell": {
     "cellMetadata": {
      "byteLimit": 2048000,
      "rowLimit": 10000
     },
     "inputWidgets": {},
     "nuid": "6598ccc1-6d8a-4fcf-a0e8-3741c1599998",
     "showTitle": false,
     "tableResultSettingsMap": {},
     "title": ""
    }
   },
   "outputs": [],
   "source": [
    "caldri = Obj_Seg.CalVar(\n",
    "  # Parametros de figura individual\n",
    "  query_uso          = \"CODMES BETWEEN 202207 AND 202307\",\n",
    "  pd_seg             = pd_cal,\n",
    "  rd_aux             = 'RD12',\n",
    "  pd_comparacion     = False,\n",
    "  factores_cuentas   = fc,\n",
    "  factores_montos    = fm,\n",
    "  mat_importancia    = 0, \n",
    "  cast_int           = True,\n",
    "  dim_grafico        = (25, 6),\n",
    "  pos_leyenda        = (0.5, -0.3),\n",
    "  punt_mora          = 70,\n",
    "  proys_def_temp     =6,\n",
    " \n",
    "  # Parametros de figura final\n",
    "  tipo_vista         = 'M',\n",
    "  ncolumnas          = 2,\n",
    "  nfilas             = 2,\n",
    "  variables          = var_cal_Q,\n",
    "  dim_grafico_total  = (16.5, 9),\n",
    "  ncol_leyenda       = 5,\n",
    "  etiquetas_total    = True, \n",
    "  pos_etiqueta       = 0.05,\n",
    "  vspacio            = -0.5,\n",
    "  hspacio            = 0.5,\n",
    "  filtro_var         =\"not like '%issing%'\",\n",
    "  iv                 = True \n",
    ")"
   ]
  },
  {
   "cell_type": "code",
   "execution_count": 0,
   "metadata": {
    "application/vnd.databricks.v1+cell": {
     "cellMetadata": {
      "byteLimit": 2048000,
      "rowLimit": 10000
     },
     "inputWidgets": {},
     "nuid": "07bd92fd-7afa-42d9-ab28-1984f9794862",
     "showTitle": false,
     "tableResultSettingsMap": {},
     "title": ""
    }
   },
   "outputs": [],
   "source": [
    "caldri = Obj_Seg.CalVar(\n",
    "  # Parametros de figura individual\n",
    "  query_uso          = \"CODMES BETWEEN 202207 AND 202307\",\n",
    "  pd_seg             = pd_cal,\n",
    "  rd_aux             = 'RD12',\n",
    "  pd_comparacion     = False,\n",
    "  factores_cuentas   = fc,\n",
    "  factores_montos    = fm,\n",
    "  mat_importancia    = 0, \n",
    "  cast_int           = True,\n",
    "  dim_grafico        = (25, 6),\n",
    "  pos_leyenda        = (0.5, -0.3),\n",
    "  punt_mora          = 70,\n",
    "  proys_def_temp     =6,\n",
    " \n",
    "  # Parametros de figura final\n",
    "  tipo_vista         = 'M',\n",
    "  ncolumnas          = 2,\n",
    "  nfilas             = 2,\n",
    "  variables          = var_cal1_Q,\n",
    "  dim_grafico_total  = (16.5, 9),\n",
    "  ncol_leyenda       = 5,\n",
    "  etiquetas_total    = True, \n",
    "  pos_etiqueta       = 0.05,\n",
    "  vspacio            = -0.5,\n",
    "  hspacio            = 0.5,\n",
    "  filtro_var         =\"not like '%issing%'\",\n",
    "  iv                 = True \n",
    ")"
   ]
  },
  {
   "cell_type": "code",
   "execution_count": 0,
   "metadata": {
    "application/vnd.databricks.v1+cell": {
     "cellMetadata": {
      "byteLimit": 2048000,
      "rowLimit": 10000
     },
     "inputWidgets": {},
     "nuid": "0a0353ce-cd41-41f5-a7c7-060a3e1ec615",
     "showTitle": false,
     "tableResultSettingsMap": {},
     "title": ""
    }
   },
   "outputs": [],
   "source": [
    "psi_dri = Obj_Seg.MixPSIVar(\n",
    "  # Parametros de figura individual\n",
    "    query_uso         ='CODMES >= 202011',\n",
    "    cast_int          =True,\n",
    "    codmes_inicio1    =202112,\n",
    "    codmes_fin1       =202204,\n",
    "    codmes_inicio2    =202501,\n",
    "    codmes_fin2       =202505,\n",
    "    dim_grafico       =(25, 6),\n",
    "    pos_leyenda       =(0.5, -0.35),\n",
    " \n",
    "    # Parametros de figura final\n",
    "    tipo_vista        = 'M',\n",
    "    ncolumnas         = 2,\n",
    "    nfilas            = 2,\n",
    "    variables         = var_cal_Q,\n",
    "    dim_grafico_total = (17, 10),\n",
    "    ncol_leyenda      =5,\n",
    "    tamaño_leyenda    = 8.25,\n",
    "    vspacio           =-0.45,\n",
    "    hspacio           =0,\n",
    "    borde             = 0.08,\n",
    "    metrica_secundaria='Media'\n",
    ")"
   ]
  },
  {
   "cell_type": "code",
   "execution_count": 0,
   "metadata": {
    "application/vnd.databricks.v1+cell": {
     "cellMetadata": {
      "byteLimit": 2048000,
      "rowLimit": 10000
     },
     "inputWidgets": {},
     "nuid": "e1141335-c67e-4157-a5ca-62d6555f68fe",
     "showTitle": false,
     "tableResultSettingsMap": {},
     "title": ""
    }
   },
   "outputs": [],
   "source": [
    "psi_dri = Obj_Seg.MixPSIVar(\n",
    "  # Parametros de figura individual\n",
    "    query_uso         ='CODMES >= 202011',\n",
    "    cast_int          =True,\n",
    "    codmes_inicio1    =202112,\n",
    "    codmes_fin1       =202204,\n",
    "    codmes_inicio2    =202501,\n",
    "    codmes_fin2       =202505,\n",
    "    dim_grafico       =(25, 6),\n",
    "    pos_leyenda       =(0.5, -0.35),\n",
    " \n",
    "    # Parametros de figura final\n",
    "    tipo_vista        = 'M',\n",
    "    ncolumnas         = 2,\n",
    "    nfilas            = 2,\n",
    "    variables         = var_cal1_Q,\n",
    "    dim_grafico_total = (17, 10),\n",
    "    ncol_leyenda      =5,\n",
    "    tamaño_leyenda    = 8.25,\n",
    "    vspacio           =-0.45,\n",
    "    hspacio           =0,\n",
    "    borde             = 0.08,\n",
    "    # metrica_secundaria='Media'\n",
    ")"
   ]
  },
  {
   "cell_type": "code",
   "execution_count": 0,
   "metadata": {
    "application/vnd.databricks.v1+cell": {
     "cellMetadata": {
      "byteLimit": 2048000,
      "rowLimit": 10000
     },
     "inputWidgets": {},
     "nuid": "0233daea-e812-489d-a1b8-6e1abe229aae",
     "showTitle": false,
     "tableResultSettingsMap": {},
     "title": ""
    }
   },
   "outputs": [],
   "source": [
    "gini = Obj_Seg.EvolDisVar(\n",
    "  # Parametros de figura individual\n",
    "    query_filtro = '',\n",
    "    codmes_ini   = 202206,\n",
    "    codmes_fin   = 202312,\n",
    "    amplitud     = 6,\n",
    "    disc_target  = [24, 21,18],\n",
    "    umbral_sup   = 0.15,\n",
    "    umbral_inf   = 0.05,\n",
    "    #umbral_opc   = 0.1,\n",
    "    moviles      = True,\n",
    "    dim_grafico  = (15, 6),\n",
    "    pos_leyenda  = (0.5, -0.35),\n",
    " \n",
    "    etiquetas    = True,\n",
    "    tamaño_etiqueta    =12,\n",
    "\n",
    "    # Parametros de figura final\n",
    "    ncolumnas = 2,\n",
    "    nfilas    = 2,\n",
    "    variables = var_cal,\n",
    "    dim_grafico_total = (17, 10),\n",
    "    ncol_leyenda      = 6,\n",
    "    vspacio           =-0.25,\n",
    "    hspacio           =5\n",
    "  )"
   ]
  },
  {
   "cell_type": "markdown",
   "metadata": {
    "application/vnd.databricks.v1+cell": {
     "cellMetadata": {
      "byteLimit": 2048000,
      "rowLimit": 10000
     },
     "inputWidgets": {},
     "nuid": "6de4bed2-54ab-49be-bdd4-4aeeff519bc7",
     "showTitle": false,
     "tableResultSettingsMap": {},
     "title": ""
    }
   },
   "source": [
    "# 4. Drivers de negocio"
   ]
  },
  {
   "cell_type": "code",
   "execution_count": 0,
   "metadata": {
    "application/vnd.databricks.v1+cell": {
     "cellMetadata": {
      "byteLimit": 2048000,
      "rowLimit": 10000
     },
     "inputWidgets": {},
     "nuid": "35757be7-411e-458c-a34e-fb8550f54d87",
     "showTitle": false,
     "tableResultSettingsMap": {},
     "title": ""
    }
   },
   "outputs": [],
   "source": [
    "from pyspark.sql.functions import date_format, concat, lit, lpad\n",
    "\n",
    "Obj_Seg.base_monitoreo = Obj_Seg.base_monitoreo.withColumn(\n",
    "    'GRADO_ESTUDIO',\n",
    "    when(col(\"MAX_GRADO\")=='BACHILLER', '1. BACHILLER')\n",
    "    .when(col(\"MAX_GRADO\")=='TITULO', '3. TITULO')\n",
    "    .when(col(\"MAX_GRADO\")=='MAESTRIA', '2. MAESTRIA')\n",
    "    .otherwise('99. Missing')\n",
    ")\n",
    "\n",
    "PD_SEG='PD_APP_HIP_TRDPYME_2Q24_REP_FAB'\n",
    "PAUTA=335\n",
    "\n",
    "Obj_Seg.base_monitoreo = Obj_Seg.base_monitoreo.withColumn(\n",
    "    \"SCR_XB\",\n",
    "    F.lit(174.24575241) + F.lit(57.707801636) * F.log((1 / col(\"PD_APP_HIP_TRDPYME_2Q24_REP_FAB\")) - 1)\n",
    ")\n",
    "\n",
    "\n",
    "sol_credit = spark.table(\"catalog_lhcl_prod_bcp.bcp_udv_int_vu.m_solicitudcreditohipotecario\")\n",
    "Obj_Seg.base_monitoreo = Obj_Seg.base_monitoreo.join(\n",
    "    sol_credit.select(\n",
    "        concat(lit('2'), lpad(sol_credit.codsolicitud, 10, '0')).alias('codsolicitud'),\n",
    "        col(\"destipfinalidadcreditohipotecario\")\n",
    "    ),\n",
    "    on=\"codsolicitud\",\n",
    "    how='left'\n",
    ")\n",
    "\n",
    "Obj_Seg.base_monitoreo = Obj_Seg.base_monitoreo.withColumn(\"PAUTA\", when(col('SCR_XB') >= PAUTA , 1)\n",
    "                                            .when(col('SCR_XB') < PAUTA , 0)\n",
    "                                            .when(col('destipfinalidadcreditohipotecario')=='MIGRACION DE OTRO BANCO', \"97. CDD\")\n",
    "                                            .when(col('SCR_XB').isNull(), \"99. Missing\"))\n",
    "\n",
    "Obj_Seg.base_monitoreo = Obj_Seg.base_monitoreo.withColumn(\"RANGO_PD_REP\", when(col(PD_SEG).isNull(), '99. Missing')\n",
    "                   .when(col(PD_SEG) <= 0.0045641, '01. [0 - 0.45%]')\n",
    "                   .when(col(PD_SEG) <= 0.0151879, '02. <0.45 - 1.51%]')\n",
    "                   .when(col(PD_SEG) <= 0.0353823, '03. <1.51 - 3.53%]')\n",
    "                   .when(col(PD_SEG) <= 0.0581041, '04. <3.53 - 5.81%]')\n",
    "                   .when(col(PD_SEG) > 0.0581041, '05. <5.81 - 100%]')\n",
    "                   .when(col('destipfinalidadcreditohipotecario')=='MIGRACION DE OTRO BANCO', \"97. CDD\")\n",
    "                   .otherwise('98. Otro'))"
   ]
  },
  {
   "cell_type": "code",
   "execution_count": 0,
   "metadata": {
    "application/vnd.databricks.v1+cell": {
     "cellMetadata": {
      "byteLimit": 2048000,
      "rowLimit": 10000
     },
     "inputWidgets": {},
     "nuid": "e0cd9f81-a381-45d5-bb03-51b8be14e3d6",
     "showTitle": false,
     "tableResultSettingsMap": {},
     "title": ""
    }
   },
   "outputs": [],
   "source": [
    "dri_neg = [\"LTV_CORREGIDO_VF\", \"SUITE_AntLaboralMeses\"]\n",
    "dri_neg_Q = Obj_Seg.CutVar(variables=dri_neg, num_cortes=4, query_corte=\"CODMES BETWEEN 202101 AND 202410 AND DEF_120_BLOQ_REF_0 = 0\")\n",
    "dri_neg_Q = dri_neg_Q + [\"MARCA_HML_T\", \"FLG_SOLTERO_ESPJ\", \"PLAZO_R\", \"SUITE_Edad_J_Q\", \"FLG_PDH_2_3\", \"PAUTA\", \"RANGO_PD_REP\"]"
   ]
  },
  {
   "cell_type": "code",
   "execution_count": 0,
   "metadata": {
    "application/vnd.databricks.v1+cell": {
     "cellMetadata": {
      "byteLimit": 2048000,
      "rowLimit": 10000
     },
     "inputWidgets": {},
     "nuid": "1ddc0b3b-b24f-4c32-866e-0eecc5ac029a",
     "showTitle": false,
     "tableResultSettingsMap": {},
     "title": ""
    }
   },
   "outputs": [],
   "source": [
    "caldri = Obj_Seg.CalVar(\n",
    "  # Parametros de figura individual\n",
    "  query_uso          = \"CODMES BETWEEN 202212 AND 202306\",\n",
    "  pd_seg             = pd_cal,\n",
    "  rd_aux             = 'RD12',\n",
    "  pd_comparacion     = True,\n",
    "  factores_cuentas   = fc,\n",
    "  factores_montos    = fm,\n",
    "  mat_importancia    = 0, \n",
    "  cast_int           = True,\n",
    "  dim_grafico        = (25, 6),\n",
    "  pos_leyenda        = (0.5, -0.3),\n",
    "  punt_mora          = 70,\n",
    "  proys_def_temp=6,\n",
    " \n",
    "  # Parametros de figura final\n",
    "  tipo_vista         = 'M',\n",
    "  ncolumnas          = 3,\n",
    "  nfilas             = 3,\n",
    "  variables          = dri_neg_Q,\n",
    "  dim_grafico_total  = (25, 15),\n",
    "  ncol_leyenda       = 5,\n",
    "  etiquetas_total    = True, \n",
    "  pos_etiqueta       = 0.05,\n",
    "  vspacio            = -0.5,\n",
    "  hspacio            = 0.5,\n",
    "  filtro_var         =\"not like '%issing%'\",\n",
    "  iv                 = True \n",
    ")"
   ]
  },
  {
   "cell_type": "code",
   "execution_count": 0,
   "metadata": {
    "application/vnd.databricks.v1+cell": {
     "cellMetadata": {
      "byteLimit": 2048000,
      "rowLimit": 10000
     },
     "inputWidgets": {},
     "nuid": "314c8988-993e-465b-9008-d243e6f59fec",
     "showTitle": false,
     "tableResultSettingsMap": {},
     "title": ""
    }
   },
   "outputs": [],
   "source": [
    "psi_dri = Obj_Seg.MixPSIVar(\n",
    "  # Parametros de figura individual\n",
    "    query_uso       ='CODMES >= 202201 AND CODMES <> 202407',\n",
    "    cast_int        =True,\n",
    "    codmes_inicio1  =202201,\n",
    "    codmes_fin1     =202212,\n",
    "    codmes_inicio2  =202501,\n",
    "    codmes_fin2     =202505,\n",
    "    dim_grafico     =(22.5, 6),\n",
    "    pos_leyenda     =(0.5, -0.35),\n",
    " \n",
    "    # Parametros de figura final\n",
    "    tipo_vista      = 'M',\n",
    "    ncolumnas       = 3,\n",
    "    nfilas          = 3,\n",
    "    variables       = dri_neg_Q,\n",
    "    dim_grafico_total = (25, 15),\n",
    "    ncol_leyenda    =8,\n",
    "    tamaño_leyenda  = 8.25,\n",
    "    vspacio         =-0.25,\n",
    "    hspacio         =0,\n",
    "    borde           = 0.08\n",
    ")"
   ]
  },
  {
   "cell_type": "code",
   "execution_count": 0,
   "metadata": {
    "application/vnd.databricks.v1+cell": {
     "cellMetadata": {
      "byteLimit": 2048000,
      "rowLimit": 10000
     },
     "inputWidgets": {},
     "nuid": "749211c9-c204-451d-a4c8-1116369ec060",
     "showTitle": false,
     "tableResultSettingsMap": {},
     "title": ""
    }
   },
   "outputs": [],
   "source": [
    "dri_neg = [\"PRS_TASA\", \"INGRESO_RBM\"]\n",
    "dri_neg_Q = Obj_Seg.CutVar(variables=dri_neg, num_cortes=4, query_corte=\"CODMES BETWEEN 202101 AND 202410 AND DEF_120_BLOQ_REF_0 = 0\")"
   ]
  },
  {
   "cell_type": "markdown",
   "metadata": {
    "application/vnd.databricks.v1+cell": {
     "cellMetadata": {
      "byteLimit": 2048000,
      "rowLimit": 10000
     },
     "inputWidgets": {},
     "nuid": "020e9f09-1114-45c8-86cf-6db1d4bbfebf",
     "showTitle": false,
     "tableResultSettingsMap": {},
     "title": ""
    }
   },
   "source": [
    "# POWER BI"
   ]
  },
  {
   "cell_type": "code",
   "execution_count": 0,
   "metadata": {
    "application/vnd.databricks.v1+cell": {
     "cellMetadata": {
      "byteLimit": 2048000,
      "rowLimit": 10000
     },
     "inputWidgets": {},
     "nuid": "5b52f1e8-5218-4572-a5e5-8656252b895c",
     "showTitle": false,
     "tableResultSettingsMap": {},
     "title": ""
    }
   },
   "outputs": [],
   "source": [
    "import pandas as pd\n",
    "\n",
    "def procesar_factores(n_SegProy, Mes_Def):\n",
    "    df_factores = pd.DataFrame()  # Inicializar un DataFrame vacío\n",
    "    \n",
    "    for i in range(1, n_SegProy + 1):\n",
    "        # Generar los nombres de los DataFrames dinámicamente\n",
    "        fc = globals()[f'fc_{i}']\n",
    "        fm = globals()[f'fm_{i}']\n",
    "        \n",
    "        # Añadir la columna SEG_PROYECCION\n",
    "        fc['SEG_PROYECCION'] = i\n",
    "        fc['CODMES_DEF'] = Mes_Def\n",
    "\n",
    "        # Realizar la unión de los DataFrames\n",
    "        df_resultante = pd.merge(fc, fm, on=\"CODMES\", how=\"inner\", suffixes=('_fc', '_fm'))\n",
    "\n",
    "        # Seleccionar las columnas deseadas\n",
    "        df_resultante = df_resultante[['CODMES_DEF','CODMES', 'SEG_PROYECCION', 'RD_PROY_DEF_fm', 'FAC_CAL_DRI_M', 'RD_PROY_DEF_fc', 'FAC_CAL_DRI_N']]\n",
    "\n",
    "        # Reemplazar los valores de factores NaN por 0 y RD por 0.005\n",
    "        df_resultante[['FAC_CAL_DRI_M', 'FAC_CAL_DRI_N']] = df_resultante[['FAC_CAL_DRI_M', 'FAC_CAL_DRI_N']].fillna(0)\n",
    "        df_resultante[['RD_PROY_DEF_fm', 'RD_PROY_DEF_fc']] = df_resultante[['RD_PROY_DEF_fm', 'RD_PROY_DEF_fc']].fillna(0.005)\n",
    "\n",
    "        # Cambiar los nombres de las columnas\n",
    "        df_resultante.rename(columns={'RD_PROY_DEF_fm': 'proyeccion_montos'}, inplace=True)\n",
    "        df_resultante.rename(columns={'FAC_CAL_DRI_M': 'factor_montos'}, inplace=True)\n",
    "        df_resultante.rename(columns={'RD_PROY_DEF_fc': 'proyeccion_cuentas'}, inplace=True)\n",
    "        df_resultante.rename(columns={'FAC_CAL_DRI_N': 'factor_cuentas'}, inplace=True)\n",
    "\n",
    "        # Concatenar el DataFrame resultante al DataFrame final\n",
    "        df_factores = pd.concat([df_factores, df_resultante], ignore_index=True)\n",
    "\n",
    "    return df_factores"
   ]
  },
  {
   "cell_type": "code",
   "execution_count": 0,
   "metadata": {
    "application/vnd.databricks.v1+cell": {
     "cellMetadata": {
      "byteLimit": 2048000,
      "rowLimit": 10000
     },
     "inputWidgets": {},
     "nuid": "53744da8-97b0-490e-ab0a-63b84cb1dde3",
     "showTitle": false,
     "tableResultSettingsMap": {},
     "title": ""
    }
   },
   "outputs": [],
   "source": [
    "df_factores=procesar_factores(2,202505)\n",
    "df_factores"
   ]
  },
  {
   "cell_type": "code",
   "execution_count": 0,
   "metadata": {
    "application/vnd.databricks.v1+cell": {
     "cellMetadata": {
      "byteLimit": 2048000,
      "rowLimit": 10000
     },
     "inputWidgets": {},
     "nuid": "a13ff23a-873b-42a4-ad84-94a324d327a5",
     "showTitle": false,
     "tableResultSettingsMap": {},
     "title": ""
    }
   },
   "outputs": [],
   "source": [
    "df_factores = spark.createDataFrame(df_factores)\n",
    "df_factores.createOrReplaceTempView(\"temp_view\")\n",
    "spark.sql(\"CREATE OR REPLACE TABLE catalog_lhcl_prod_bcp.bcp_edv_fabseg.T45988_FAC_ADM_HIP_TRAD_202506 LOCATION 'abfss://bcp-edv-fabseg@adlscu1lhclbackp05.dfs.core.windows.net/HIPOTECARIO_2025/APP/202506/T45988_FAC_ADM_HIP_TRAD_202503' AS SELECT * FROM temp_view\")"
   ]
  },
  {
   "cell_type": "code",
   "execution_count": 0,
   "metadata": {
    "application/vnd.databricks.v1+cell": {
     "cellMetadata": {
      "byteLimit": 2048000,
      "rowLimit": 10000
     },
     "inputWidgets": {},
     "nuid": "49eda282-f015-412b-a892-3eb317fe1222",
     "showTitle": false,
     "tableResultSettingsMap": {},
     "title": ""
    }
   },
   "outputs": [],
   "source": [
    "# Definir la fecha base\n",
    "MES_DEF_ACT = 202505\n",
    "default = 24\n",
    "\n",
    "# Convertir la fecha base a un objeto datetime\n",
    "# base_date = datetime.strptime(MES_DEF_ACT, \"%Y%m\")\n",
    "\n",
    "# Función para calcular los meses anteriores\n",
    "def calculate_previous_months(codmes, cant):\n",
    "  numeromes = (codmes // 100) * 12 + (codmes % 100)\n",
    "  return ((numeromes - 1 + cant) // 12) * 100 + ((numeromes + 11 - 11 * cant) % 12) + 1\n",
    "\n",
    "# Calcular los meses anteriores\n",
    "\n",
    "codmes_a1 = calculate_previous_months(MES_DEF_ACT, -default+11)\n",
    "codmes_a2 = calculate_previous_months(MES_DEF_ACT, -default+10)\n",
    "codmes_a3 = calculate_previous_months(MES_DEF_ACT, -default+9)\n",
    "codmes_a4 = calculate_previous_months(MES_DEF_ACT, -default+8)\n",
    "codmes_a5 = calculate_previous_months(MES_DEF_ACT, -default+7)\n",
    "codmes_a6 = calculate_previous_months(MES_DEF_ACT, -default+6)\n",
    "codmes_a7 = calculate_previous_months(MES_DEF_ACT, -default+5)\n",
    "codmes_a8 = calculate_previous_months(MES_DEF_ACT, -default+4)\n",
    "codmes_a9 = calculate_previous_months(MES_DEF_ACT, -default+3)\n",
    "codmes_a10 = calculate_previous_months(MES_DEF_ACT, -default+2)\n",
    "codmes_a11 = calculate_previous_months(MES_DEF_ACT, -default+1)\n",
    "codmes_a12 = calculate_previous_months(MES_DEF_ACT, -default)\n",
    "\n",
    "monto = \"MTOAPROBADO_SOLES\""
   ]
  },
  {
   "cell_type": "code",
   "execution_count": 0,
   "metadata": {
    "application/vnd.databricks.v1+cell": {
     "cellMetadata": {
      "byteLimit": 2048000,
      "rowLimit": 10000
     },
     "inputWidgets": {},
     "nuid": "f1e12cdc-a13f-4433-9b86-0f2544329a0f",
     "showTitle": false,
     "tableResultSettingsMap": {},
     "title": ""
    }
   },
   "outputs": [],
   "source": [
    "Obj_Seg.base_monitoreo = Obj_Seg.base_monitoreo.withColumn(\"SEG_PROYECCION\", when(Obj_Seg.base_monitoreo.SEGMENTO_BANCA_F == \"1. Afluente\", 1).when(Obj_Seg.base_monitoreo.SEGMENTO_BANCA_F != \"1. Afluente\", 2))"
   ]
  },
  {
   "cell_type": "code",
   "execution_count": 0,
   "metadata": {
    "application/vnd.databricks.v1+cell": {
     "cellMetadata": {
      "byteLimit": 2048000,
      "rowLimit": 10000
     },
     "inputWidgets": {},
     "nuid": "471451f3-a409-413c-b589-94797daa6e9f",
     "showTitle": false,
     "tableResultSettingsMap": {},
     "title": ""
    }
   },
   "outputs": [],
   "source": [
    "#CÁLCULO DE VALORES DE MESES Y CRUCE\n",
    "\n",
    "from datetime import datetime, timedelta\n",
    "from pyspark.sql import SparkSession\n",
    "from pyspark.sql.functions import col, when\n",
    "\n",
    "# Definir la fecha base\n",
    "MES_DEF_ACT = 202505\n",
    "default = 24\n",
    "\n",
    "# Convertir la fecha base a un objeto datetime\n",
    "# base_date = datetime.strptime(MES_DEF_ACT, \"%Y%m\")\n",
    "\n",
    "# Función para calcular los meses anteriores\n",
    "def calculate_previous_months(codmes, cant):\n",
    "  numeromes = (codmes // 100) * 12 + (codmes % 100)\n",
    "  return ((numeromes - 1 + cant) // 12) * 100 + ((numeromes + 11 - 11 * cant) % 12) + 1\n",
    "\n",
    "# Calcular los meses anteriores\n",
    "\n",
    "codmes_a1 = calculate_previous_months(MES_DEF_ACT, -default+11)\n",
    "codmes_a2 = calculate_previous_months(MES_DEF_ACT, -default+10)\n",
    "codmes_a3 = calculate_previous_months(MES_DEF_ACT, -default+9)\n",
    "codmes_a4 = calculate_previous_months(MES_DEF_ACT, -default+8)\n",
    "codmes_a5 = calculate_previous_months(MES_DEF_ACT, -default+7)\n",
    "codmes_a6 = calculate_previous_months(MES_DEF_ACT, -default+6)\n",
    "codmes_a7 = calculate_previous_months(MES_DEF_ACT, -default+5)\n",
    "codmes_a8 = calculate_previous_months(MES_DEF_ACT, -default+4)\n",
    "codmes_a9 = calculate_previous_months(MES_DEF_ACT, -default+3)\n",
    "codmes_a10 = calculate_previous_months(MES_DEF_ACT, -default+2)\n",
    "codmes_a11 = calculate_previous_months(MES_DEF_ACT, -default+1)\n",
    "codmes_a12 = calculate_previous_months(MES_DEF_ACT, -default)\n",
    "\n",
    "# Cargar las tablas para el cruce\n",
    "df_a = Obj_Seg.base_monitoreo\n",
    "df_b = spark.table(\"catalog_lhcl_prod_bcp.bcp_edv_fabseg.T45988_FAC_ADM_HIP_TRAD_202506\")\n",
    "\n",
    "# Crear la columna ult_rd\n",
    "df_a = df_a.withColumn(\"ult_rd\", when(col(\"CODMES\") == codmes_a11, col(\"DEF23\"))\n",
    "                                 .when(col(\"CODMES\") == codmes_a10, col(\"DEF22\"))\n",
    "                                 .when(col(\"CODMES\") == codmes_a9, col(\"DEF22\"))\n",
    "                                 .when(col(\"CODMES\") == codmes_a8, col(\"DEF21\"))\n",
    "                                 .when(col(\"CODMES\") == codmes_a7, col(\"DEF20\"))\n",
    "                                 .when(col(\"CODMES\") == codmes_a6, col(\"DEF19\"))\n",
    "                                 .when(col(\"CODMES\") == codmes_a5, col(\"DEF18\"))\n",
    "                                 .when(col(\"CODMES\") == codmes_a4, col(\"DEF17\"))\n",
    "                                 .when(col(\"CODMES\") == codmes_a3, col(\"DEF16\"))\n",
    "                                 .otherwise(0))\n",
    "\n",
    "\n",
    "# Realizar la unión izquierda\n",
    "df_joined = df_a.join(df_b, (df_a.CODMES == df_b.CODMES) & (df_a.SEG_PROYECCION == df_b.SEG_PROYECCION), \"left\")\n",
    "\n",
    "# Calcular las nuevas columnas\n",
    "df_cal01 = df_joined.select(\n",
    "    df_a[\"*\"],\n",
    "    df_b.factor_montos,\n",
    "    df_b.factor_cuentas,\n",
    "    (col(\"ult_rd\") * df_b.factor_montos).alias(\"def12_proy_factor_m\"),\n",
    "    (col(\"ult_rd\") * df_b.factor_cuentas).alias(\"def12_proy_factor_n\"),\n",
    "    df_b.proyeccion_montos.alias(\"def12_proy_valor_m\"),\n",
    "    df_b.proyeccion_cuentas.alias(\"def12_proy_valor_n\")\n",
    ")\n",
    "\n",
    "# la última tabla creada aquí es df_cal01\n",
    "\n",
    "#-------------------------------------------------------------------------------------------------------------------\n",
    "\n",
    "#CUBO PRINCIPAL\n",
    "\n",
    "from pyspark.sql import SparkSession\n",
    "from pyspark.sql.functions import col, sum, when, count\n",
    "\n",
    "# Crear las columnas flgventana_diagnostico, flgventana_reciente, flgdef_cerrado, flgdef_temp, flgmora_temp\n",
    "df_cal01 = df_cal01.withColumn(\"flgventana_diagnostico\", when(col(\"CODMES\").between(codmes_a11, codmes_a6), 1).otherwise(0)) \\\n",
    "           .withColumn(\"flgventana_reciente\", when(col(\"CODMES\").between(202410, 202412), 1).otherwise(0)) \\\n",
    "           .withColumn(\"flgdef_cerrado\", when(col(\"CODMES\") <= codmes_a12, 1).otherwise(0)) \\\n",
    "           .withColumn(\"flgdef_temp\", when(col(\"CODMES\") <= codmes_a9, 1).otherwise(0)) \\\n",
    "           .withColumn(\"flgmora_temp\", when(col(\"CODMES\") <= 202401, 1).otherwise(0)) \\\n",
    "           .withColumn(\"PASA_PAUTA\", when(col(\"SC_APP_TRAD\") >= 335, 1).otherwise(0))\n",
    "           \n",
    "#Creación de nuevas PDs\n",
    "# Calcular XB_TRAD a partir de CSOL_SC_RBM (SC_TRAD)\n",
    "df_cal01 = df_cal01.withColumn('XB_TRAD', expr(\"(174.25 - CSOL_SC_RBM) / 57.708\"))\n",
    "\n",
    "# Calcular PD_TRAD a partir de XB_TRAD y renombrar la columna resultante a PD_RBM\n",
    "df_cal01 = df_cal01.withColumn('PD_RBM', expr(\"1 / (1 + exp(-XB_TRAD))\"))\n",
    "\n",
    "# Calcular PD_TRAD para las columnas XB especificadas y renombrar las columnas resultantes\n",
    "xb_columns = {\n",
    "    'XB_ADC_POND85_F': 'PD_TRC',\n",
    "    'XB_HIP_REP': 'PD_HIP',\n",
    "    'XB_DEM_S_ADCW_REP': 'PD_DEMOGRAFICO',\n",
    "    'XB_ACT_S_ADCW': 'PD_ACTIVO',\n",
    "    'XB_TRX_S_ADCW': 'PD_TRANSACCIONAL',\n",
    "    'XB_PAS_S_ADCW': 'PD_PASIVO',\n",
    "    'XB_RCC_S_ADCW': 'PD_RCC'\n",
    "}\n",
    "\n",
    "for col_name, new_col_name in xb_columns.items():\n",
    "    df_cal01 = df_cal01.withColumn(new_col_name, expr(f\"1 / (1 + exp(-{col_name}))\"))\n",
    "\n",
    "# Eliminar la columna temporal XB_TRAD\n",
    "df_cal01 = df_cal01.drop('XB_TRAD')\n",
    "\n",
    "# LISTA DE NOMBRES DE COLUMNAS\n",
    "lista_pd = [\n",
    "    \"PD_P7_AJUS_REP\",\n",
    "    \"PD_APP_HIP_TRDPYME_2Q24_REP\",\n",
    "    \"PD_TRC\",\n",
    "    \"PD_RBM\",\n",
    "    \"PD_HIP\",\n",
    "    \"PD_DEMOGRAFICO\",\n",
    "    \"PD_ACTIVO\",\n",
    "    \"PD_TRANSACCIONAL\",\n",
    "    \"PD_PASIVO\",\n",
    "    \"PD_RCC\"\n",
    "]\n",
    "# Crear una lista de expresiones de agregación\n",
    "pd_result_xm = [sum(col(c) * col(monto)).alias(f\"pd_{str(i+1).zfill(2)}_xm\") for i, c in enumerate(lista_pd)]\n",
    "# Crear una lista de expresiones de agregación sin multiplicar por monto\n",
    "pd_result_xn = [sum(col(c)).alias(f\"pd_{str(i+1).zfill(2)}_xn\") for i, c in enumerate(lista_pd)]\n",
    "\n",
    "#DEFINIR LISTA DE EJES \n",
    "lista_ejes = {\n",
    "    \"CAMPANIA_AGRUPADA\": \"EJE_P1\",\n",
    "    \"TIPO_FONDEO\": \"EJE_P2\",\n",
    "    \"SEGMENTO_BANCA_F\": \"EJE_P3\",  \n",
    "    \"FLG_BANCARIZADO\": \"EJE_P4\",\n",
    "    \"RANGO_SCORE\": \"EJE_P5\",\n",
    "    \"DEU_NOHIP_6_24_Q\": \"EJE_S1\",\n",
    "    \"UTIL_PROM_6_24_Q\": \"EJE_S2\",\n",
    "    \"PAS_MIN_PROM24_Q\": \"EJE_S3\",\n",
    "    \"ZONA_PAUTA5_F\": \"EJE_S4\",\n",
    "    \"FLG_NODEP_ESPJ\": \"EJE_S5\",\n",
    "    \"FLG_SOLTERO_ESPJ\": \"EJE_S6\",\n",
    "    \"MONTO_R\": \"EJE_S7\",\n",
    "    \"RAN_PLAZO\": \"EJE_S8\",\n",
    "    \"PRS_TASA_Q\": \"EJE_S9\",\n",
    "    \"NUMHIJOS1_Q\": \"EJE_S10\",\n",
    "    \"EDAD_R\": \"EJE_S11\",\n",
    "    \"RAN_ING_CY\": \"EJE_S12\",\n",
    "    \"LTV_CORREGIDO_VF_Q\": \"EJE_S13\",\n",
    "    \"INGRESO_RBM_Q\": \"EJE_S14\",\n",
    "    \"MARCA_HML_T\": \"EJE_S15\",\n",
    "    \"PASA_PAUTA\": \"EJE_S16\"\n",
    "}\n",
    "\n",
    "# Crear una lista de expresiones de selección usando el diccionario\n",
    "eje_result = [col(k).alias(v) for k, v in lista_ejes.items()]\n",
    "\n",
    "# AGRUPAR Y AGREGAR DATOS\n",
    "cubo_principal = df_cal01.groupBy(\n",
    "    \"CODMES\",\n",
    "    \"seg_proyeccion\",\n",
    "    \"flgventana_diagnostico\",\n",
    "    \"flgventana_reciente\",\n",
    "    \"flgdef_cerrado\",\n",
    "    \"flgdef_temp\",\n",
    "    \"flgmora_temp\",\n",
    "    col(\"SEGMENTO_BANCA_F\").alias(\"EJE_TOOLTIP\"),\n",
    "    *eje_result,\n",
    ").agg(\n",
    "    *pd_result_xm,\n",
    "    sum(col(monto)).alias(\"m\"),\n",
    "    sum(when(col(\"CODMES\") > codmes_a12, 0).otherwise(col(\"DEF24\") * col(monto))).alias(\"def_cerrado_xm\"),\n",
    "    sum(when(col(\"CODMES\") > codmes_a9, 0).otherwise(col(\"DEF21\") * col(monto))).alias(\"def_temp_xm\"),\n",
    "    sum(when(col(\"CODMES\") > 202401, 0).otherwise(col(\"DEF12\") * col(monto))).alias(\"mora_temp_xm\"),\n",
    "    sum(when(col(\"CODMES\").between(codmes_a11, codmes_a6), col(\"def12_proy_factor_m\") * col(monto)).otherwise(0)).alias(\"def_proy_factor_dt_xm\"),\n",
    "    sum(when(col(\"CODMES\").between(codmes_a5, codmes_a3), col(\"def12_proy_factor_m\") * col(monto)).otherwise(0)).alias(\"def_proy_factor_mt_xm\"),\n",
    "    sum(when(col(\"CODMES\").between(codmes_a11, codmes_a6), col(\"def12_proy_valor_m\") * col(monto)).otherwise(0)).alias(\"def_proy_valor_dt_xm\"),\n",
    "    sum(when(col(\"CODMES\").between(codmes_a5, codmes_a3), col(\"def12_proy_valor_m\") * col(monto)).otherwise(0)).alias(\"def_proy_valor_mt_xm\"),\n",
    "    *pd_result_xn,\n",
    "    count(lit(1)).alias(\"n\"),\n",
    "    sum(when(col(\"CODMES\") > codmes_a12, 0).otherwise(col(\"DEF24\"))).alias(\"def_cerrado_xn\"),\n",
    "    sum(when(col(\"CODMES\") > codmes_a9, 0).otherwise(col(\"DEF21\"))).alias(\"def_temp_xn\"),\n",
    "    sum(when(col(\"CODMES\") > 202401, 0).otherwise(col(\"DEF12\"))).alias(\"mora_temp_xn\"),\n",
    "    sum(when(col(\"CODMES\").between(codmes_a11, codmes_a6), col(\"def12_proy_factor_n\")).otherwise(0)).alias(\"def_proy_factor_dt_xn\"),\n",
    "    sum(when(col(\"CODMES\").between(codmes_a5, codmes_a3), col(\"def12_proy_factor_n\")).otherwise(0)).alias(\"def_proy_factor_mt_xn\"),\n",
    "    sum(when(col(\"CODMES\").between(codmes_a11, codmes_a6), col(\"def12_proy_valor_n\")).otherwise(0)).alias(\"def_proy_valor_dt_xn\"),\n",
    "    sum(when(col(\"CODMES\").between(codmes_a5, codmes_a3), col(\"def12_proy_valor_n\")).otherwise(0)).alias(\"def_proy_valor_mt_xn\")\n",
    ")\n",
    "\n",
    "cubo_principal_final = cubo_principal.toPandas()\n",
    "\n",
    "#-------------------------------------------------------------------------------------------------------------------\n",
    "\n",
    "#ETIQUETA DE EJES\n",
    "\n",
    "from pyspark.sql import SparkSession\n",
    "from pyspark.sql.types import StructType, StructField, StringType\n",
    "\n",
    "\n",
    "# Definir el esquema\n",
    "schema = StructType([\n",
    "    StructField(\"EJE\", StringType(), True),\n",
    "    StructField(\"ETIQUETA\", StringType(), True)\n",
    "])\n",
    "\n",
    "# Crear los datos\n",
    "data = [\n",
    "    (\"EJE_P1\", \"Producto\"),\n",
    "    (\"EJE_P2\", \"Tipo de Fondeo\"),\n",
    "    (\"EJE_P3\", \"Segmento Banca\"),\n",
    "    (\"EJE_P4\", \"Flg Bancarizado\"),\n",
    "    (\"EJE_P5\", \"Rango de Score\"),\n",
    "    (\"EJE_S1\", \"Deuda promedio No Hipotecaria entre 6 y 24 m\"),\n",
    "    (\"EJE_S2\", \"Utilizacion promedio de lineas entre 6 y 24 m\"),\n",
    "    (\"EJE_S3\", \"Ratio entre el pasivo minimo y prom. en u24 m\"),\n",
    "    (\"EJE_S4\", \"Zona Pauta\"),\n",
    "    (\"EJE_S5\", \"Flag No Dependiente\"),\n",
    "    (\"EJE_S6\", \"Flag Soltero\"),\n",
    "    (\"EJE_S7\", \"Monto aprobado\"),\n",
    "    (\"EJE_S8\", \"Rango Plazo\"),\n",
    "    (\"EJE_S9\", \"Rango de Tasa\"),\n",
    "    (\"EJE_S10\", \"Número de hijos\"),\n",
    "    (\"EJE_S11\", \"Rango de Edad\"),\n",
    "    (\"EJE_S12\", \"Rango Ingreso Conyugue\"),\n",
    "    (\"EJE_S13\", \"LTV\"),\n",
    "    (\"EJE_S14\", \"Rango de Ingreso Titular\"),\n",
    "    (\"EJE_S15\", \"Marca HML\"),\n",
    "    (\"EJE_S16\", \"Pasa Pauta\")\n",
    "]\n",
    "\n",
    "# Crear el DataFrame\n",
    "df_etiquetas_ejes_final = spark.createDataFrame(data, schema)\n",
    "\n",
    "df_etiquetas_ejes = df_etiquetas_ejes_final.toPandas()\n",
    "\n",
    "#-------------------------------------------------------------------------------------------------------------------\n",
    "\n",
    "#ETIQUETA DE PDs\n",
    "\n",
    "from pyspark.sql import SparkSession\n",
    "from pyspark.sql.types import StructType, StructField, StringType\n",
    "\n",
    "# Crear una sesión de Spark\n",
    "spark = SparkSession.builder.appName(\"SQLtoPySpark\").getOrCreate()\n",
    "\n",
    "# Definir el esquema\n",
    "schema = StructType([\n",
    "    StructField(\"PD\", StringType(), True),\n",
    "    StructField(\"DESCRIPTIVO\", StringType(), True)\n",
    "])\n",
    "\n",
    "# Crear los datos\n",
    "data = [\n",
    "    (\"01\", \"01-PD Vigente\"),\n",
    "    (\"02\", \"02-PD Calibrado\"),\n",
    "    (\"03\", \"03-PD Troncal\"),\n",
    "    (\"04\", \"04-PD RBM\"),\n",
    "    (\"05\", \"05-PD Hip\"),\n",
    "    (\"06\", \"06-PD Demográfico\"),\n",
    "    (\"07\", \"07-PD Activo\"),\n",
    "    (\"08\", \"08-PD Transaccional\"),\n",
    "    (\"09\", \"09-PD Pasivo\"),\n",
    "    (\"10\", \"10-PD RCC\"),\n",
    "]\n",
    "\n",
    "# Crear el DataFrame\n",
    "df_descriptivo_pds_final = spark.createDataFrame(data, schema)\n",
    "# Convertir a Pandas\n",
    "df_descriptivo_pds = df_descriptivo_pds_final.toPandas()"
   ]
  },
  {
   "cell_type": "code",
   "execution_count": 0,
   "metadata": {
    "application/vnd.databricks.v1+cell": {
     "cellMetadata": {
      "byteLimit": 2048000,
      "rowLimit": 10000
     },
     "inputWidgets": {},
     "nuid": "3ff78282-1e25-42a9-9fea-c3baa43d6153",
     "showTitle": false,
     "tableResultSettingsMap": {},
     "title": ""
    }
   },
   "outputs": [],
   "source": [
    "# PASAR DE DATAFRAME A UNA TABLA DE DATABRICKS\n",
    "cubo_principal.createOrReplaceTempView(\"temp_view\")\n",
    "\n",
    "spark.sql(\"\"\"\n",
    "CREATE OR REPLACE TABLE catalog_lhcl_prod_bcp.bcp_edv_fabseg.cubo_trad_202506\n",
    "LOCATION 'abfss://bcp-edv-fabseg@adlscu1lhclbackp05.dfs.core.windows.net/HIPOTECARIO_2025/APP/202506/cubo_trad' \n",
    "AS SELECT * FROM temp_view\n",
    "\"\"\")"
   ]
  },
  {
   "cell_type": "code",
   "execution_count": 0,
   "metadata": {
    "application/vnd.databricks.v1+cell": {
     "cellMetadata": {
      "byteLimit": 2048000,
      "rowLimit": 10000
     },
     "inputWidgets": {},
     "nuid": "7919bea9-3296-4cde-8fd9-9c5fff02190d",
     "showTitle": false,
     "tableResultSettingsMap": {},
     "title": ""
    }
   },
   "outputs": [],
   "source": [
    "#EXPORTAR EN ARCHIVO CSV (PARA EL CUBO_PRINCIPAL SE ESTÁ EXPORTANDO EN ZIP (COMPRIMIDO))\n",
    "\n",
    "import zipfile\n",
    "\n",
    "# Guardar los DataFrames como archivos CSV\n",
    "df_etiquetas_ejes.to_csv(\"/Workspace/Users/luisfdiaz@bcp.com.pe/Seguimiento/Applicant Hipotecario/etiquetas_ejes.csv\", index=False)\n",
    "df_descriptivo_pds.to_csv(\"/Workspace/Users/luisfdiaz@bcp.com.pe/Seguimiento/Applicant Hipotecario/descriptivo_pds.csv\", index=False)\n",
    "\n",
    "# Guardar y comprimir cubo_principal_final\n",
    "csv_path = \"/Workspace/Users/luisfdiaz@bcp.com.pe/Seguimiento/Applicant Hipotecario/cubo_principal.csv\"\n",
    "zip_path = \"/Workspace/Users/luisfdiaz@bcp.com.pe/Seguimiento/Applicant Hipotecario/cubo_principal.zip\"\n",
    "\n",
    "cubo_principal_final.to_csv(csv_path, index=False)\n",
    "\n",
    "with zipfile.ZipFile(zip_path, 'w', zipfile.ZIP_DEFLATED) as zipf:\n",
    "    zipf.write(csv_path, arcname=\"cubo_principal.csv\")"
   ]
  },
  {
   "cell_type": "code",
   "execution_count": 0,
   "metadata": {
    "application/vnd.databricks.v1+cell": {
     "cellMetadata": {
      "byteLimit": 2048000,
      "rowLimit": 10000
     },
     "inputWidgets": {},
     "nuid": "034638d9-5639-4a58-84d8-1f0e3c2bf15d",
     "showTitle": false,
     "tableResultSettingsMap": {},
     "title": ""
    }
   },
   "outputs": [],
   "source": [
    "cubo_principal_final"
   ]
  }
 ],
 "metadata": {
  "application/vnd.databricks.v1+notebook": {
   "computePreferences": null,
   "dashboards": [],
   "environmentMetadata": {
    "base_environment": "",
    "environment_version": "2"
   },
   "inputWidgetPreferences": null,
   "language": "python",
   "notebookMetadata": {
    "mostRecentlyExecutedCommandWithImplicitDF": {
     "commandId": 8508994428463906,
     "dataframes": [
      "_sqldf"
     ]
    },
    "pythonIndentUnit": 4
   },
   "notebookName": "12_Seguimiento_App_HipTrad - Calibrado",
   "widgets": {}
  },
  "language_info": {
   "name": "python"
  }
 },
 "nbformat": 4,
 "nbformat_minor": 0
}
