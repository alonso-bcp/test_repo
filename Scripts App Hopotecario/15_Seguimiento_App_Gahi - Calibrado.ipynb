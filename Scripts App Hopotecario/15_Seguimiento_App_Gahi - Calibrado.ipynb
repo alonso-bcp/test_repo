{
 "cells": [
  {
   "cell_type": "code",
   "execution_count": 0,
   "metadata": {
    "application/vnd.databricks.v1+cell": {
     "cellMetadata": {
      "byteLimit": 2048000,
      "rowLimit": 10000
     },
     "inputWidgets": {},
     "nuid": "53155b0a-acce-4ba9-81a6-bc0f094b2c1e",
     "showTitle": false,
     "tableResultSettingsMap": {},
     "title": ""
    }
   },
   "outputs": [],
   "source": [
    "# Importando módulo de seguimiento\n",
    "import sys\n",
    "import importlib\n",
    "sys.path.append('/Workspace/Users/luisfdiaz@bcp.com.pe/Modulo de Seguimiento/')\n",
    "\n",
    "import SegScore as rmm\n",
    "importlib.reload(rmm)\n",
    "\n",
    "# Librerias y fuciones generales\n",
    "from pyspark.sql.functions import date_format, expr, to_date, date_sub, add_months, col, when, coalesce, trim, broadcast, avg, max, min, lit, concat, window, round as colround, upper, abs as sparkabs\n",
    "from pyspark.sql import functions as F\n",
    "from pyspark import StorageLevel\n",
    "import numpy as np\n",
    "import seaborn as sns\n",
    "import pandas as pd\n",
    "import matplotlib.pyplot as plt\n",
    "from pyspark.sql.window import Window"
   ]
  },
  {
   "cell_type": "code",
   "execution_count": 0,
   "metadata": {
    "application/vnd.databricks.v1+cell": {
     "cellMetadata": {
      "byteLimit": 2048000,
      "rowLimit": 10000
     },
     "inputWidgets": {},
     "nuid": "a011134f-f446-4100-b154-c60462914ae2",
     "showTitle": false,
     "tableResultSettingsMap": {},
     "title": ""
    }
   },
   "outputs": [],
   "source": [
    "#Cuartiles\n",
    "from pyspark.sql import functions as F\n",
    "\n",
    "def categorize_by_quintiles(df, column_names, filter_condition, quintile_probabilities=[0.25, 0.5, 0.75, 1.0], relative_error=0.01):\n",
    "    for column in column_names:\n",
    "        # Filtrar y calcular los quintiles\n",
    "        quintiles = df.filter(filter_condition).approxQuantile(column, quintile_probabilities, relative_error)\n",
    "        Minimo = df.agg({column: \"min\"}).collect()[0][0]\n",
    "        \n",
    "        # Crear la nueva columna categorizada\n",
    "        df = df.withColumn(\n",
    "            f'{column}_Q',\n",
    "            F.when(F.col(column) <= quintiles[0], f\"1. {format(Minimo, '.3f')} - {format(quintiles[0], '.3f')}\")\n",
    "             .when(F.col(column) <= quintiles[1], f\"2. {format(quintiles[0], '.3f')} - {format(quintiles[1], '.3f')}\")\n",
    "             .when(F.col(column) <= quintiles[2], f\"3. {format(quintiles[1], '.3f')} - {format(quintiles[2], '.3f')}\")\n",
    "             .when(F.col(column) <= quintiles[3], f\"4. {format(quintiles[2], '.3f')} - {format(quintiles[3], '.3f')}\")\n",
    "             .otherwise(\"98. Missing\")\n",
    "        )\n",
    "    return df"
   ]
  },
  {
   "cell_type": "code",
   "execution_count": 0,
   "metadata": {
    "application/vnd.databricks.v1+cell": {
     "cellMetadata": {
      "byteLimit": 2048000,
      "rowLimit": 10000
     },
     "inputWidgets": {},
     "nuid": "e767fe76-930f-4b1b-8e16-22286cf85319",
     "showTitle": false,
     "tableResultSettingsMap": {},
     "title": ""
    }
   },
   "outputs": [],
   "source": [
    "# Configuraciones iniciales\n",
    "from pyspark.sql import SparkSession\n",
    "from pyspark.sql.functions import col, substring\n",
    "\n",
    "base_seguimiento = spark.sql(\"select distinct * from catalog_lhcl_prod_bcp.bcp_edv_fabseg.t39290_hm_app_gahi\")\n",
    "base_seguimiento = base_seguimiento.withColumn(\"CODMES\", col(\"CODMES\").cast(\"integer\"))\n",
    "base_seguimiento = base_seguimiento.withColumn(\"DEF5\", when(col(\"DISTANCIA_DEF24\") <= 5, lit(1)).otherwise(lit(0))) \n",
    "\n",
    "base_seguimiento = base_seguimiento.withColumn(\n",
    "    \"INGRESO_CONY_TIT\",\n",
    "    coalesce(col(\"INGRESO_SOL_CONY\"), expr(\"0\")) + coalesce(col(\"INGRESO_RBM\"), expr(\"0\"))\n",
    ")\n",
    "base_seguimiento = base_seguimiento.withColumn(\"PD_GAHI_PRELIMINAR\", expr(\"1 / (1 + EXP(-XB_GAHI_PRELIMINAR))\"))\n",
    "base_seguimiento = base_seguimiento.withColumn(\"mes\", col(\"codmes\").cast(\"string\"))\n",
    "base_seguimiento = base_seguimiento.withColumn(\"codyear\", substring(col(\"mes\"), 1, 4))\n",
    "\n",
    "base_seguimiento = base_seguimiento.withColumn(\n",
    "    \"RAN_PLAZO\",\n",
    "    F.when(F.col(\"RAN_PLAZO\") == \"HASTA 10\", \"1  HASTA 10\")\n",
    "     .when(F.col(\"RAN_PLAZO\") == \"<10 - 15]\", \"2 <10 - 15]\")\n",
    "     .when(F.col(\"RAN_PLAZO\") == \"<15 - 20]\", \"3 <15 - 20]\")\n",
    "     .when(F.col(\"RAN_PLAZO\") == \"MAS DE 20\", \"4 MAS DE 20\")\n",
    "     .otherwise(F.col(\"RAN_PLAZO\"))\n",
    ")\n",
    "base_seguimiento.select(\"RAN_PLAZO\").show(10)\n",
    "\n",
    "base_seguimiento = base_seguimiento.withColumn(\n",
    "    \"PD_RBM\", \n",
    "    when(col(\"codmes\") <= 202307, col(\"PD_ESTADOS\")).otherwise(col(\"CSOL_PD_RBM\"))\n",
    ")"
   ]
  },
  {
   "cell_type": "code",
   "execution_count": 0,
   "metadata": {
    "application/vnd.databricks.v1+cell": {
     "cellMetadata": {
      "byteLimit": 2048000,
      "rowLimit": 10000
     },
     "inputWidgets": {},
     "nuid": "72d56edc-0dbf-42e5-82ae-d8b25eab7956",
     "showTitle": false,
     "tableResultSettingsMap": {},
     "title": ""
    }
   },
   "outputs": [],
   "source": [
    "pd_vig='PD_GAHI' \n",
    "pd_cal='PD_GAHI'\n",
    "pd_rbm='PD_RBM'\n",
    "pd_trc='XB_GAHI_PRELIMINAR'\n",
    "tipo_banda = 'Jeffrey'#Jeffrey Vasiseck\n",
    "codmes_default = 202305\n",
    "columna_monto='MTOAPROBADO_SOLES'\n",
    "titulo='Calibración Applicant App Garantia Hipotecaria'"
   ]
  },
  {
   "cell_type": "code",
   "execution_count": 0,
   "metadata": {
    "application/vnd.databricks.v1+cell": {
     "cellMetadata": {
      "byteLimit": 2048000,
      "rowLimit": 10000
     },
     "inputWidgets": {},
     "nuid": "e45fbd20-b1f7-4133-bd39-69ecab749cdb",
     "showTitle": false,
     "tableResultSettingsMap": {},
     "title": ""
    }
   },
   "outputs": [],
   "source": [
    "# Objeto de Seguimiento\n",
    "Obj_Seg = rmm.MonitorScore_v01(\n",
    "  nombre_modelo         = 'Personas Modelo Applicant Garantia Hipotecaria',\n",
    "  codigo_modelo         = 'MOD-BCP-20658',\n",
    "  tier                  = 'II',\n",
    "  detalle_seguimiento   = 'Seguimiento Applicant Garantia Hipotecaria',\n",
    "  mes_seguimiento       = '202504',\n",
    "  base_monitoreo        = base_seguimiento,\n",
    "  pd1                   = pd_cal,\n",
    "  pd2                   = pd_vig,\n",
    "  pd3                   = pd_rbm,\n",
    "  monto_credito         = columna_monto,\n",
    "  query_univ            = \"DEF_120_BLOQ_REF_0=0 AND PD_GAHI IS NOT NULL\",\n",
    "  bandas                = tipo_banda,\n",
    "  codmes_default        = codmes_default,\n",
    "  meses_ventana_target  = 24,\n",
    "  meses_atraso_target   = 4\n",
    ")"
   ]
  },
  {
   "cell_type": "code",
   "execution_count": 0,
   "metadata": {
    "application/vnd.databricks.v1+cell": {
     "cellMetadata": {
      "byteLimit": 2048000,
      "rowLimit": 10000
     },
     "inputWidgets": {},
     "nuid": "ed90c9b0-b646-4804-a2b4-55061b0568ca",
     "showTitle": false,
     "tableResultSettingsMap": {},
     "title": ""
    }
   },
   "outputs": [],
   "source": [
    "Obj_Seg_cal, rc, rm, fc, fm = Obj_Seg.EvolCal(\n",
    "  # Configuración de filtro de uso y pd de calibración\n",
    "  query_uso          = \"CODMES>=202101\",\n",
    "  pd_seg             = pd_cal,\n",
    "  pd_comparacion     = True,\n",
    "  proys_def_temp     = 6,\n",
    "  proys_mor_temp     = 0,\n",
    "  rd_aux             = 'RD21',\n",
    "  rd_aux2            = 'RD18', # Corregido\n",
    "  mora_temp          = 'MORA_30_3',\n",
    "\n",
    "  # Configuración de proyecciones por cuentas\n",
    "  proy_def_temp_xc   = \"np.where( (calxcuentas['CODMES'] == 202302) | ( calxcuentas['CODMES'] == 202303)| ( calxcuentas['CODMES'] == 202304), (met1_xc) +0.005, (met1_xc) )\", #All_proy met1_xc met2_xc met3_xc\n",
    "  suav_def_temp_xc   = 1,\n",
    "  proy_mor_temp_xc   = 'det1_xc',\n",
    "  suav_mor_temp_xc   = 1,\n",
    "  prof_hist_xc       = 14,\n",
    "\n",
    "  # Configuración de proyecciones por montos\n",
    "  proy_def_temp_xm   = \"np.where(met2_xm == 0, met2_xm + 0.005, met2_xm)\", #All_proy met1_xm met2_xm met3_xm\n",
    "  suav_def_temp_xm   = 1,\n",
    "  proy_mor_temp_xm   = 'det1_xm',\n",
    "  suav_mor_temp_xm   = 1,\n",
    "  prof_hist_xm       = 14,\n",
    "  #fact_to_proy_xc    = [fc_af, fc_con],\n",
    "  #fact_to_proy_xm    = [fm_af, fm_con],\n",
    "\n",
    "  # Detalles del gráfico de calibración\n",
    "  titulo             = titulo,\n",
    "  pos_leyenda        = (0.5, -0.25),\n",
    "  eje_y_xc           = 0.15,\n",
    "  eje_y_xm           = 0.15,\n",
    "  dim_grafico        = (25, 6.5),\n",
    "  punt_mora          = 85, #Tamaño de puntos de mora temprana\n",
    "  etiquetas          =True,\n",
    "  pos_etiquetas_xm   =10,\n",
    "  pos_etiquetas_xc   =10,\n",
    "  tamaño_etiqueta    =20,\n",
    "\n",
    "  # Exportar factores para vista driver\n",
    "  exportar_factores  = True\n",
    ")"
   ]
  },
  {
   "cell_type": "code",
   "execution_count": 0,
   "metadata": {
    "application/vnd.databricks.v1+cell": {
     "cellMetadata": {
      "byteLimit": 2048000,
      "rowLimit": 10000
     },
     "inputWidgets": {},
     "nuid": "33102189-ca99-4727-869d-f509643a88c1",
     "showTitle": false,
     "tableResultSettingsMap": {},
     "title": ""
    }
   },
   "outputs": [],
   "source": [
    "rm"
   ]
  },
  {
   "cell_type": "code",
   "execution_count": 0,
   "metadata": {
    "application/vnd.databricks.v1+cell": {
     "cellMetadata": {
      "byteLimit": 2048000,
      "rowLimit": 10000
     },
     "inputWidgets": {},
     "nuid": "13fffe57-2587-4078-bbfc-8bb69be1a372",
     "showTitle": false,
     "tableResultSettingsMap": {},
     "title": ""
    }
   },
   "outputs": [],
   "source": [
    "# Variables a categoricas\n",
    "columnas = [\"PD_GAHI\"]\n",
    "condicion_filtro = \"CODMES BETWEEN 202101 AND 202410 AND DEF_120_BLOQ_REF_0 = 0\"\n",
    "Obj_Seg.base_monitoreo = categorize_by_quintiles(Obj_Seg.base_monitoreo, columnas, condicion_filtro)"
   ]
  },
  {
   "cell_type": "code",
   "execution_count": 0,
   "metadata": {
    "application/vnd.databricks.v1+cell": {
     "cellMetadata": {
      "byteLimit": 2048000,
      "rowLimit": 10000
     },
     "inputWidgets": {},
     "nuid": "27bf19d1-c532-402e-a88b-555c36761462",
     "showTitle": false,
     "tableResultSettingsMap": {},
     "title": ""
    }
   },
   "outputs": [],
   "source": [
    "driver = 'PD_GAHI_Q'\n",
    "Obj_SegPSI, mix_n, mix_m, psi_c, psi_m = Obj_Seg.MixPSI(\n",
    "  # Selección del driver y filtro de uso\n",
    "  driver             = driver,\n",
    "  query_uso          = 'CODMES >= 202101',\n",
    "  cast_int           = False,\n",
    "\n",
    "  # Ventana de construcción o más antigua\n",
    "  codmes_inicio1     = 202101,\n",
    "  codmes_fin1        = 202212,\n",
    "\n",
    "  # Periodo reciente\n",
    "  codmes_inicio2     = 202301,\n",
    "  codmes_fin2        = 202410,\n",
    "\n",
    "  # Detalles del gráfico\n",
    "  titulo             = driver,\n",
    "  dim_grafico        = (22.5, 6),\n",
    "  pos_leyenda        = (0.5, -0.25),\n",
    "  borde              = 0.08\n",
    ")"
   ]
  },
  {
   "cell_type": "code",
   "execution_count": 0,
   "metadata": {
    "application/vnd.databricks.v1+cell": {
     "cellMetadata": {
      "byteLimit": 2048000,
      "rowLimit": 10000
     },
     "inputWidgets": {},
     "nuid": "c7feaadb-0852-4bcb-ae05-0558aa7b0485",
     "showTitle": false,
     "tableResultSettingsMap": {},
     "title": ""
    }
   },
   "outputs": [],
   "source": [
    "Obj_SegDis, evoldis_gini, evoldis_ks = Obj_Seg.EvolDis(\n",
    "  query_filtro = \"CODMES>=201901 AND DEF_120_BLOQ_REF_0 = 0\",\n",
    "  pd_dis       = pd_cal,\n",
    "  codmes_ini   = 202201,\n",
    "  codmes_fin   = 202312,\n",
    "  amplitud     = 24,\n",
    "  disc_target= [24, 21,18],\n",
    "  umbral_sup   = 0.5,\n",
    "  umbral_inf   = 0.4,\n",
    "  moviles      = True,\n",
    "  etiquetas= True,\n",
    "  tamaño_etiqueta=20,\n",
    "  dim_grafico  = (23, 6),\n",
    "  pos_leyenda  = (0.5, -0.3)\n",
    ")"
   ]
  },
  {
   "cell_type": "code",
   "execution_count": 0,
   "metadata": {
    "application/vnd.databricks.v1+cell": {
     "cellMetadata": {
      "byteLimit": 2048000,
      "rowLimit": 10000
     },
     "inputWidgets": {},
     "nuid": "c05adb6e-4ba9-42cf-ac53-50f4b6043029",
     "showTitle": false,
     "tableResultSettingsMap": {},
     "title": ""
    }
   },
   "outputs": [],
   "source": [
    "Obj_Seg_dri, rc_dr, rm_dri = Obj_Seg.CalDri(\n",
    "  driver             = 'codyear',\n",
    "  query_uso          = f\"(CODMES BETWEEN 202101 AND 202305) AND CODMES NOT IN (202201,202208) AND codyear NOT LIKE  '%Missing%' \",\n",
    "  pd_seg             = pd_cal,\n",
    "  rd_aux             = 'RD6',\n",
    "  pd_comparacion     = True,\n",
    "  factores_cuentas   = fc,\n",
    "  factores_montos    = fm,\n",
    "  mat_importancia    = 0,\n",
    "  cast_int           = True, \n",
    "  titulo             = f'Vista Anual',\n",
    "  dim_grafico        = (25, 6),\n",
    "  etiquetas          = True,\n",
    "  pos_etiquetas_xc   = [10, 10, 10, 10, 10, 10, 10, 10],\n",
    "  pos_etiquetas_xm   = [10, 10, 10, 10, 10, 10, 10, 10],\n",
    "  pos_leyenda        = (0.5, -0.2),\n",
    "  punt_mora          = 100,\n",
    "  iv                 = False\n",
    ") "
   ]
  },
  {
   "cell_type": "code",
   "execution_count": 0,
   "metadata": {
    "application/vnd.databricks.v1+cell": {
     "cellMetadata": {
      "byteLimit": 2048000,
      "rowLimit": 10000
     },
     "inputWidgets": {},
     "nuid": "f75c8115-b373-48e1-b7a2-6e3854f2d0dd",
     "showTitle": false,
     "tableResultSettingsMap": {},
     "title": ""
    }
   },
   "outputs": [],
   "source": [
    "rm_dri"
   ]
  },
  {
   "cell_type": "code",
   "execution_count": 0,
   "metadata": {
    "application/vnd.databricks.v1+cell": {
     "cellMetadata": {
      "byteLimit": 2048000,
      "rowLimit": 10000
     },
     "inputWidgets": {},
     "nuid": "1c300fa1-7078-4065-8c31-0ded2a293927",
     "showTitle": false,
     "tableResultSettingsMap": {},
     "title": ""
    }
   },
   "outputs": [],
   "source": [
    "rc_dr"
   ]
  },
  {
   "cell_type": "code",
   "execution_count": 0,
   "metadata": {
    "application/vnd.databricks.v1+cell": {
     "cellMetadata": {
      "byteLimit": 2048000,
      "rowLimit": 10000
     },
     "inputWidgets": {},
     "nuid": "d2793d93-8662-4d1e-bcf4-e14bbd51bb38",
     "showTitle": false,
     "tableResultSettingsMap": {},
     "title": ""
    }
   },
   "outputs": [],
   "source": [
    "Obj_Seg_dri, rc_dr, rm_dri = Obj_Seg.CalDri(\n",
    "  driver             = 'PD_GAHI_Q',\n",
    "  query_uso          = f\"(CODMES BETWEEN 202101 AND 202304) AND CODMES NOT IN (202201,202208) AND PD_GAHI_Q NOT LIKE '%Missing%' \",\n",
    "  pd_seg             = pd_cal,\n",
    "  rd_aux             = 'RD6',\n",
    "  pd_comparacion     = True,\n",
    "  factores_cuentas   = fc,\n",
    "  factores_montos    = fm,\n",
    "  mat_importancia    = 0,\n",
    "  cast_int           = True, \n",
    "  titulo             = f'Rango de PD',\n",
    "  dim_grafico        = (25, 6),\n",
    "  etiquetas          = True,\n",
    "  pos_etiquetas_xc   = [10, 10, 10, 10, 10, 10, 10, 10],\n",
    "  pos_etiquetas_xm   = [10, 10, 10, 10, 10, 10, 10, 10],\n",
    "  pos_leyenda        = (0.5, -0.2),\n",
    "  punt_mora          = 100,\n",
    "  iv                 = False\n",
    ") "
   ]
  }
 ],
 "metadata": {
  "application/vnd.databricks.v1+notebook": {
   "computePreferences": null,
   "dashboards": [],
   "environmentMetadata": {
    "base_environment": "",
    "environment_version": "2"
   },
   "inputWidgetPreferences": null,
   "language": "python",
   "notebookMetadata": {
    "pythonIndentUnit": 4
   },
   "notebookName": "15_Seguimiento_App_Gahi - Calibrado",
   "widgets": {}
  },
  "language_info": {
   "name": "python"
  }
 },
 "nbformat": 4,
 "nbformat_minor": 0
}
