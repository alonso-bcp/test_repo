{
 "cells": [
  {
   "cell_type": "code",
   "execution_count": 0,
   "metadata": {
    "application/vnd.databricks.v1+cell": {
     "cellMetadata": {
      "byteLimit": 2048000,
      "rowLimit": 10000
     },
     "inputWidgets": {},
     "nuid": "f00c17ae-6377-4197-b439-c379e86077bd",
     "showTitle": false,
     "tableResultSettingsMap": {},
     "title": ""
    }
   },
   "outputs": [],
   "source": [
    "%load_ext autoreload\n",
    "%autoreload 2\n",
    "\n",
    "# Importando módulo de seguimiento\n",
    "import sys\n",
    "import importlib\n",
    "sys.path.append('/Workspace/Users/luisfdiaz@bcp.com.pe/ScoreGuardian')\n",
    "\n",
    "import core.SegScore as rmm\n",
    "importlib.reload(rmm)\n",
    " \n",
    "# Librerias y fuciones generales\n",
    "from pyspark.sql.functions import date_format, expr, to_date, date_sub, add_months, col, when, coalesce, trim, broadcast, avg, max, min, lit, concat, window, round as colround, upper, abs as sparkabs\n",
    "from pyspark.sql import functions as F\n",
    "from pyspark import StorageLevel\n",
    "import numpy as np\n",
    "import seaborn as sns\n",
    "import pandas as pd\n",
    "import matplotlib.pyplot as plt\n",
    "from pyspark.sql.window import Window\n",
    "\n",
    "#Mostrar los duplicados\n",
    "def print_res(sparkf_df):\n",
    "  import pandas as pd\n",
    "  pd.set_option('display.max_rows', None)\n",
    "  pd.set_option('display.max_columns', None)\n",
    "  pd_spark_df = sparkf_df.toPandas()\n",
    " \n",
    "  return pd_spark_df"
   ]
  },
  {
   "cell_type": "code",
   "execution_count": 0,
   "metadata": {
    "application/vnd.databricks.v1+cell": {
     "cellMetadata": {
      "byteLimit": 2048000,
      "rowLimit": 10000
     },
     "inputWidgets": {},
     "nuid": "1d68376c-2b42-41df-8fd3-e4fc2b97cf33",
     "showTitle": false,
     "tableResultSettingsMap": {},
     "title": ""
    }
   },
   "outputs": [],
   "source": [
    "# Configuraciones iniciales\n",
    "from pyspark.sql import SparkSession\n",
    "base_seguimiento = spark.sql(\"select distinct * from catalog_lhcl_prod_bcp.bcp_edv_fabseg.t39290_hm_app_hipahlo_f\")\n",
    "\n",
    "base_seguimiento = base_seguimiento.withColumn(\"CODMES\", col(\"CODMES\").cast(\"integer\"))\n",
    "base_seguimiento = base_seguimiento.withColumn(\"DEF5\", when(col(\"DISTANCIA_DEF24\") <= 5, lit(1)).otherwise(lit(0))) \n",
    "\n",
    "base_seguimiento.persist(StorageLevel.MEMORY_AND_DISK).count()"
   ]
  },
  {
   "cell_type": "code",
   "execution_count": 0,
   "metadata": {
    "application/vnd.databricks.v1+cell": {
     "cellMetadata": {
      "byteLimit": 2048000,
      "rowLimit": 10000
     },
     "inputWidgets": {},
     "nuid": "01ed4b08-d30c-429b-bacd-1d7fb7a0ad89",
     "showTitle": false,
     "tableResultSettingsMap": {},
     "title": ""
    }
   },
   "outputs": [],
   "source": [
    "pd_cal='PD_2024Q4vf'#vigente\n",
    "pd_rbm='PD_RBM'\n",
    "pd_trc='PD_FINAL_BASE'\n",
    "tipo_banda = 'Jeffrey'#Jeffrey Vasiseck\n",
    "codmes_default = 202307\n",
    "columna_monto='MTOAPROBADO_SOLES'\n",
    "titulo='Calibración Applicant App Ahorro Local'\n",
    "condiciones= \"CODMES >= 201901 AND DEF_120_BLOQ_REF_0 = 0\""
   ]
  },
  {
   "cell_type": "code",
   "execution_count": 0,
   "metadata": {
    "application/vnd.databricks.v1+cell": {
     "cellMetadata": {
      "byteLimit": 2048000,
      "rowLimit": 10000
     },
     "inputWidgets": {},
     "nuid": "483b7714-2b5b-4fc7-a7b6-955481c7b135",
     "showTitle": false,
     "tableResultSettingsMap": {},
     "title": ""
    }
   },
   "outputs": [],
   "source": [
    "# Objeto de Seguimiento\n",
    "Obj_Seg = rmm.MonitorScore(\n",
    "  nombre_modelo         = 'Personas Modelo Applicant Ahorro Local',\n",
    "  codigo_modelo         = 'MOD-BCP-20658',\n",
    "  tier                  = 'II',\n",
    "  detalle_seguimiento   = 'Seguimiento Applicant Ahorro Local',\n",
    "  mes_seguimiento       = '202504',\n",
    "  base_monitoreo        = base_seguimiento,\n",
    "  pd1                   = pd_cal,\n",
    "  pd2                   = pd_cal,\n",
    "  monto_credito         = columna_monto,\n",
    "  query_univ            = \"DEF_120_BLOQ_REF_0=0 AND PD_2024Q4vf IS NOT NULL AND FLG_VC_VIVIENDA_RBM=1\",\n",
    "  bandas                = tipo_banda,\n",
    "  codmes_default        = codmes_default,\n",
    "  meses_ventana_target  = 24,\n",
    "  meses_atraso_target   = 4\n",
    ")"
   ]
  },
  {
   "cell_type": "markdown",
   "metadata": {
    "application/vnd.databricks.v1+cell": {
     "cellMetadata": {
      "byteLimit": 2048000,
      "rowLimit": 10000
     },
     "inputWidgets": {},
     "nuid": "896ea3f0-9d9c-412f-bce7-f82f1ba36518",
     "showTitle": false,
     "tableResultSettingsMap": {},
     "title": ""
    }
   },
   "source": [
    "# 1. Calibración en pauta reciente"
   ]
  },
  {
   "cell_type": "code",
   "execution_count": 0,
   "metadata": {
    "application/vnd.databricks.v1+cell": {
     "cellMetadata": {
      "byteLimit": 2048000,
      "rowLimit": 10000
     },
     "inputWidgets": {},
     "nuid": "399a579e-de83-4182-be14-a06995beed87",
     "showTitle": false,
     "tableResultSettingsMap": {},
     "title": ""
    }
   },
   "outputs": [],
   "source": [
    "Obj_Seg_cal1, rc_1, rm_1, fc_1, fm_1 = Obj_Seg.EvolCal(\n",
    "  # Configuración de filtro de uso y pd de calibración\n",
    "  query_uso          = \"CODMES>=202101 AND PRS_ValorComVivienda<=239800\",\n",
    "  pd_seg             = pd_cal,\n",
    "  pd_comparacion     = True,\n",
    "  proys_def_temp     = 6,\n",
    "  proys_mor_temp     = 0,\n",
    "  rd_aux             = 'RD21',\n",
    "  rd_aux2            = 'RD18', # Corregido\n",
    "  mora_temp          = 'MORA_30_3',\n",
    "\n",
    "  # Configuración de proyecciones por cuentas\n",
    "  proy_def_temp_xc   = \"met1_xc\",\n",
    "  suav_def_temp_xc   = 1,\n",
    "  proy_mor_temp_xc   = 'det2_xc',\n",
    "  suav_mor_temp_xc   = 1,\n",
    "  prof_hist_xc       = 14,\n",
    "\n",
    "  # Configuración de proyecciones por montos\n",
    "  proy_def_temp_xm   = \"np.where(met2_xm == 0, met2_xm + 0.008, met2_xm*1.25)\",\n",
    "  suav_def_temp_xm   = 1,\n",
    "  proy_mor_temp_xm   = 'det3_xm',\n",
    "  suav_mor_temp_xm   = 1,\n",
    "  prof_hist_xm       = 14,\n",
    "\n",
    "  # Detalles del gráfico de calibración\n",
    "  titulo             = titulo,\n",
    "  pos_leyenda        = (0.5, -0.25),\n",
    "  eje_y_xc           = 0.2,\n",
    "  eje_y_xm           = 0.2,\n",
    "  dim_grafico        = (27,6.5),\n",
    "  punt_mora          = 85, \n",
    "  etiquetas          =True,\n",
    "  pos_etiquetas_xm   =10,\n",
    "  pos_etiquetas_xc   =10,\n",
    "  tamaño_etiqueta    =14,\n",
    "\n",
    "  # Exportar factores para vista driver\n",
    "  exportar_factores  = True\n",
    ")"
   ]
  },
  {
   "cell_type": "code",
   "execution_count": 0,
   "metadata": {
    "application/vnd.databricks.v1+cell": {
     "cellMetadata": {
      "byteLimit": 2048000,
      "rowLimit": 10000
     },
     "inputWidgets": {},
     "nuid": "d3d40e43-a53b-4d3b-abdc-2648d4be204e",
     "showTitle": false,
     "tableResultSettingsMap": {},
     "title": ""
    }
   },
   "outputs": [],
   "source": [
    "Obj_Seg_cal2, rc_2, rm_2, fc_2, fm_2 = Obj_Seg.EvolCal(\n",
    "  # Configuración de filtro de uso y pd de calibración\n",
    "  query_uso          = \"CODMES>=202101 AND PRS_ValorComVivienda>239800\",\n",
    "  pd_seg             = pd_cal,\n",
    "  pd_comparacion     = True,\n",
    "  proys_def_temp     = 6,\n",
    "  proys_mor_temp     = 0,\n",
    "  rd_aux             = 'RD21',\n",
    "  rd_aux2            = 'RD18', # Corregido\n",
    "  mora_temp          = 'MORA_30_3',\n",
    "\n",
    "  # Configuración de proyecciones por cuentas\n",
    "  proy_def_temp_xc   = \"met1_xc\",\n",
    "  suav_def_temp_xc   = 1,\n",
    "  proy_mor_temp_xc   = 'det2_xc',\n",
    "  suav_mor_temp_xc   = 1,\n",
    "  prof_hist_xc       = 14,\n",
    "\n",
    "  # Configuración de proyecciones por montos\n",
    "  proy_def_temp_xm   = \"np.where(met2_xm == 0, met2_xm + 0.009, np.where(calxmontos['CODMES']==202309, met1_xm, met2_xm*1.25))\",\n",
    "  suav_def_temp_xm   = 1,\n",
    "  proy_mor_temp_xm   = 'det3_xm',\n",
    "  suav_mor_temp_xm   = 1,\n",
    "  prof_hist_xm       = 14,\n",
    "\n",
    "  # Detalles del gráfico de calibración\n",
    "  titulo             = titulo,\n",
    "  pos_leyenda        = (0.5, -0.25),\n",
    "  eje_y_xc           = 0.2,\n",
    "  eje_y_xm           = 0.2,\n",
    "  dim_grafico        = (27,6.5),\n",
    "  punt_mora          = 85, \n",
    "  etiquetas          =True,\n",
    "  pos_etiquetas_xm   =10,\n",
    "  pos_etiquetas_xc   =10,\n",
    "  tamaño_etiqueta    =14,\n",
    "\n",
    "  # Exportar factores para vista driver\n",
    "  exportar_factores  = True,\n",
    ")"
   ]
  },
  {
   "cell_type": "code",
   "execution_count": 0,
   "metadata": {
    "application/vnd.databricks.v1+cell": {
     "cellMetadata": {
      "byteLimit": 2048000,
      "rowLimit": 10000
     },
     "inputWidgets": {},
     "nuid": "a7d7d86f-02be-4136-b069-2215711501d4",
     "showTitle": false,
     "tableResultSettingsMap": {},
     "title": ""
    }
   },
   "outputs": [],
   "source": [
    "Obj_Seg_cal, rc, rm, fc, fm = Obj_Seg.EvolCal(\n",
    "  # Configuración de filtro de uso y pd de calibración\n",
    "  query_uso          = \"CODMES>=202101\",\n",
    "  pd_seg             = pd_cal,\n",
    "  pd_comparacion     = True,\n",
    "  proys_def_temp     = 6,\n",
    "  proys_mor_temp     = 0,\n",
    "  rd_aux             = 'RD21',\n",
    "  rd_aux2            = 'RD18', # Corregido\n",
    "  mora_temp          = 'MORA_30_3',\n",
    "\n",
    "  # Configuración de proyecciones por cuentas\n",
    "  proy_def_temp_xc   = \"\",\n",
    "  suav_def_temp_xc   = 1,\n",
    "  proy_mor_temp_xc   = '',\n",
    "  suav_mor_temp_xc   = 1,\n",
    "  prof_hist_xc       = 14,\n",
    "  fact_to_proy_xc    = [fc_1, fc_2],\n",
    "\n",
    "  # Configuración de proyecciones por montos\n",
    "  proy_def_temp_xm   = \"\",\n",
    "  suav_def_temp_xm   = 1,\n",
    "  proy_mor_temp_xm   = '',\n",
    "  suav_mor_temp_xm   = 1,\n",
    "  prof_hist_xm       = 14,\n",
    "  fact_to_proy_xm    = [fm_1, fm_2],\n",
    "\n",
    "  # Detalles del gráfico de calibración\n",
    "  titulo             = titulo,\n",
    "  pos_leyenda        = (0.5, -0.25),\n",
    "  eje_y_xc           = 0.125,\n",
    "  eje_y_xm           = 0.125,\n",
    "  dim_grafico        = (27,6.5),\n",
    "  punt_mora          = 85, \n",
    "  etiquetas          =True,\n",
    "  pos_etiquetas_xm   =10,\n",
    "  pos_etiquetas_xc   =10,\n",
    "  tamaño_etiqueta    =14,\n",
    "\n",
    "  # Exportar factores para vista driver\n",
    "  exportar_factores  = True\n",
    ")"
   ]
  },
  {
   "cell_type": "code",
   "execution_count": 0,
   "metadata": {
    "application/vnd.databricks.v1+cell": {
     "cellMetadata": {
      "byteLimit": 2048000,
      "rowLimit": 10000
     },
     "inputWidgets": {},
     "nuid": "f7b683a1-879b-4687-8ace-73ca09a54063",
     "showTitle": false,
     "tableResultSettingsMap": {},
     "title": ""
    }
   },
   "outputs": [],
   "source": [
    "rm"
   ]
  },
  {
   "cell_type": "code",
   "execution_count": 0,
   "metadata": {
    "application/vnd.databricks.v1+cell": {
     "cellMetadata": {
      "byteLimit": 2048000,
      "rowLimit": 10000
     },
     "inputWidgets": {},
     "nuid": "5549973c-c2f9-4785-9d6a-c512b118baef",
     "showTitle": false,
     "tableResultSettingsMap": {},
     "title": ""
    }
   },
   "outputs": [],
   "source": [
    "rc"
   ]
  },
  {
   "cell_type": "code",
   "execution_count": 0,
   "metadata": {
    "application/vnd.databricks.v1+cell": {
     "cellMetadata": {
      "byteLimit": 2048000,
      "rowLimit": 10000
     },
     "inputWidgets": {},
     "nuid": "18914b5a-508c-4556-a5c0-eddcbf92a83b",
     "showTitle": false,
     "tableResultSettingsMap": {},
     "title": ""
    }
   },
   "outputs": [],
   "source": [
    "Obj_Seg.base_monitoreo = Obj_Seg.base_monitoreo.withColumn(\"FLG_SEGMENTO_PRECIO\", when(col(\"PRS_ValorComVivienda\")>239800,1).otherwise(0))\n",
    "driver = 'FLG_SEGMENTO_PRECIO'\n",
    "Obj_SegPSI, mix_n, mix_m, psi_c, psi_m = Obj_Seg.MixPSI(\n",
    "  # Selección del driver y filtro de uso\n",
    "  driver             = driver,\n",
    "  query_uso          = 'CODMES >= 202101',\n",
    "  cast_int           = False,\n",
    "\n",
    "  # Ventana de construcción o más antigua\n",
    "  codmes_inicio1     = 202101,\n",
    "  codmes_fin1        = 202312,\n",
    "\n",
    "  # Periodo reciente\n",
    "  codmes_inicio2     = 202401,\n",
    "  codmes_fin2        = 202412,\n",
    "\n",
    "  # Detalles del gráfico\n",
    "  titulo             = driver,\n",
    "  dim_grafico        = (25,6.5),\n",
    "  pos_leyenda        = (0.5, -0.25),\n",
    "  borde              = 0.08\n",
    ")"
   ]
  },
  {
   "cell_type": "markdown",
   "metadata": {
    "application/vnd.databricks.v1+cell": {
     "cellMetadata": {
      "byteLimit": 2048000,
      "rowLimit": 10000
     },
     "inputWidgets": {},
     "nuid": "ed74509c-3362-43d4-a50f-17d48b75bc03",
     "showTitle": false,
     "tableResultSettingsMap": {},
     "title": ""
    }
   },
   "source": [
    "# 2. Discriminación"
   ]
  },
  {
   "cell_type": "code",
   "execution_count": 0,
   "metadata": {
    "application/vnd.databricks.v1+cell": {
     "cellMetadata": {
      "byteLimit": 2048000,
      "rowLimit": 10000
     },
     "inputWidgets": {},
     "nuid": "8417e349-e6cb-48ff-adbb-0cdad141be6d",
     "showTitle": false,
     "tableResultSettingsMap": {},
     "title": ""
    }
   },
   "outputs": [],
   "source": [
    "var_pd = [pd_cal, pd_rbm]\n",
    "caldri_veh_app = Obj_Seg.EvolDisVar(\n",
    "  # Parametros de figura individual\n",
    "  query_filtro = '',\n",
    "  codmes_ini   = 202110,\n",
    "  codmes_fin   = 202312,\n",
    "  amplitud     = 6,\n",
    "  disc_target  = [24, 21,18],\n",
    "  umbral_sup   = 0.5,\n",
    "  umbral_inf   = 0.4,\n",
    "  moviles      = True,\n",
    "  dim_grafico  = (22.5, 6),\n",
    "  pos_leyenda  = (0.5, -0.35),\n",
    "  etiquetas    = True,\n",
    "  gini_abs     = False,\n",
    " \n",
    "  # Parametros de figura final\n",
    "  ncolumnas = 2,\n",
    "  nfilas    = 1,\n",
    "  variables = var_pd,\n",
    "  dim_grafico_total = (20, 6),\n",
    "  ncol_leyenda = 5,\n",
    "  vspacio=-0.25,\n",
    "  hspacio=4,\n",
    "  tamaño_etiqueta = 14 \n",
    ")"
   ]
  },
  {
   "cell_type": "markdown",
   "metadata": {
    "application/vnd.databricks.v1+cell": {
     "cellMetadata": {
      "byteLimit": 2048000,
      "rowLimit": 10000
     },
     "inputWidgets": {},
     "nuid": "73840dac-6fba-4b18-929d-bb5e23bbe530",
     "showTitle": false,
     "tableResultSettingsMap": {},
     "title": ""
    }
   },
   "source": [
    "# 3. Seguimiento de variables del modelo"
   ]
  },
  {
   "cell_type": "markdown",
   "metadata": {
    "application/vnd.databricks.v1+cell": {
     "cellMetadata": {
      "byteLimit": 2048000,
      "rowLimit": 10000
     },
     "inputWidgets": {},
     "nuid": "c3b21858-610a-4765-855c-46535a5ad7cb",
     "showTitle": false,
     "tableResultSettingsMap": {},
     "title": ""
    }
   },
   "source": [
    "\n",
    "\n",
    "| **Variable**                     | **Descripción**                                                                                      | **Peso** | **Sentido** |\n",
    "|----------------------------------|--------------------------------------------------------------------------------------------------------|----------|-------------|\n",
    "| XB_FINAL_BASE                    | Score base                                                                                             | 50.2%    | +           |\n",
    "| PD_DISEF_D2                      | Score de default de Disposición de Efectivo                                                           | 47.3%    | +           |\n",
    "| EXP_PCT_EVOL_SHIP_U3M_RT_U6M_J   | Ratio entre media de saldo de balance entre los últimos 3m y últimos 6m (excl. hipotecario)           | 6.2%     | +           |"
   ]
  },
  {
   "cell_type": "code",
   "execution_count": 0,
   "metadata": {
    "application/vnd.databricks.v1+cell": {
     "cellMetadata": {
      "byteLimit": 2048000,
      "rowLimit": 10000
     },
     "inputWidgets": {},
     "nuid": "40eb66df-e077-4407-94a4-7baf2b78edbe",
     "showTitle": false,
     "tableResultSettingsMap": {},
     "title": ""
    }
   },
   "outputs": [],
   "source": [
    "Obj_Seg.base_monitoreo = Obj_Seg.base_monitoreo.withColumn(\"EXP_PCT_EVOL_SHIP_U3M_RT_U6M\", when(col(\"EXP_PCT_EVOL_SHIP_U3M_RT_U6M\")<0, 0).otherwise(col(\"EXP_PCT_EVOL_SHIP_U3M_RT_U6M\")))\n",
    "var_cal = ['XB_FINAL_BASE_REP', \"EXP_PCT_EVOL_SHIP_U3M_RT_U6M\", \"PD_DISEF\"]\n",
    "var_cal_Q = Obj_Seg.CutVar(variables=var_cal, num_cortes=4, query_corte=\"CODMES BETWEEN 202103 AND 202208 AND DEF_120_BLOQ_REF_0 = 0\")"
   ]
  },
  {
   "cell_type": "code",
   "execution_count": 0,
   "metadata": {
    "application/vnd.databricks.v1+cell": {
     "cellMetadata": {
      "byteLimit": 2048000,
      "rowLimit": 10000
     },
     "inputWidgets": {},
     "nuid": "326379f2-feb0-48c9-a7b4-56c88894921b",
     "showTitle": false,
     "tableResultSettingsMap": {},
     "title": ""
    }
   },
   "outputs": [],
   "source": [
    "driver = 'PD_DISEF_Q'\n",
    "Obj_SegPSI, mix_n, mix_m, psi_c, psi_m = Obj_Seg.MixPSI(\n",
    "  # Selección del driver y filtro de uso\n",
    "  driver             = driver,\n",
    "  query_uso          = 'CODMES >= 202101',\n",
    "  cast_int           = False,\n",
    "\n",
    "  # Ventana de construcción o más antigua\n",
    "  codmes_inicio1     = 202101,\n",
    "  codmes_fin1        = 202312,\n",
    "\n",
    "  # Periodo reciente\n",
    "  codmes_inicio2     = 202401,\n",
    "  codmes_fin2        = 202504,\n",
    "\n",
    "  # Detalles del gráfico\n",
    "  titulo             = driver,\n",
    "  dim_grafico        = (25,6.5),\n",
    "  pos_leyenda        = (0.5, -0.25),\n",
    "  borde              = 0.08,\n",
    "  metrica_secundaria='Mediana'\n",
    ")"
   ]
  },
  {
   "cell_type": "code",
   "execution_count": 0,
   "metadata": {
    "application/vnd.databricks.v1+cell": {
     "cellMetadata": {
      "byteLimit": 2048000,
      "rowLimit": 10000
     },
     "inputWidgets": {},
     "nuid": "13b90c43-4876-4e99-9be6-d3e3ece49512",
     "showTitle": false,
     "tableResultSettingsMap": {},
     "title": ""
    }
   },
   "outputs": [],
   "source": [
    "var_cal\n",
    "caldri = Obj_Seg.CalVar(\n",
    "  # Parametros de figura individual\n",
    "  query_uso          = \"CODMES BETWEEN 202207 AND 202307\",\n",
    "  pd_seg             = pd_cal,\n",
    "  rd_aux             = 'RD12',\n",
    "  pd_comparacion     = True,\n",
    "  factores_cuentas   = fc,\n",
    "  factores_montos    = fm,\n",
    "  mat_importancia    = 5, \n",
    "  cast_int           = True,\n",
    "  dim_grafico        = (25, 6),\n",
    "  pos_leyenda        = (0.5, -0.3),\n",
    "  punt_mora          = 70,\n",
    " \n",
    "  # Parametros de figura final\n",
    "  tipo_vista         = 'M',\n",
    "  ncolumnas          = 3,\n",
    "  nfilas             = 1,\n",
    "  variables          = var_cal_Q,\n",
    "  dim_grafico_total  = (25, 5),\n",
    "  ncol_leyenda       = 5,\n",
    "  etiquetas_total    = True, \n",
    "  pos_etiqueta       = 0.05,\n",
    "  vspacio            = -0.5,\n",
    "  hspacio            = 0.5,\n",
    "  filtro_var         =\"not like '%issing%'\",\n",
    "  iv                 = True \n",
    ")"
   ]
  },
  {
   "cell_type": "code",
   "execution_count": 0,
   "metadata": {
    "application/vnd.databricks.v1+cell": {
     "cellMetadata": {
      "byteLimit": 2048000,
      "rowLimit": 10000
     },
     "inputWidgets": {},
     "nuid": "4c7a44b0-06e9-414e-81a4-3def75ebc565",
     "showTitle": false,
     "tableResultSettingsMap": {},
     "title": ""
    }
   },
   "outputs": [],
   "source": [
    "psi_dri = Obj_Seg.MixPSIVar(\n",
    "  # Parametros de figura individual\n",
    "    query_uso         ='CODMES >= 202011',\n",
    "    cast_int          =True,\n",
    "    codmes_inicio1    =202011,\n",
    "    codmes_fin1       =202204,\n",
    "    codmes_inicio2    =202401,\n",
    "    codmes_fin2       =202504,\n",
    "    dim_grafico       =(25, 6),\n",
    "    pos_leyenda       =(0.5, -0.35),\n",
    " \n",
    "    # Parametros de figura final\n",
    "    tipo_vista        = 'M',\n",
    "    ncolumnas         = 3,\n",
    "    nfilas            = 1,\n",
    "    variables         = var_cal_Q,\n",
    "    dim_grafico_total = (25, 5),\n",
    "    ncol_leyenda      =5,\n",
    "    tamaño_leyenda    = 8.25,\n",
    "    vspacio           =-0.45,\n",
    "    hspacio           =0,\n",
    "    borde             = 0.08,\n",
    "    # metrica_secundaria='Media'\n",
    ")"
   ]
  },
  {
   "cell_type": "code",
   "execution_count": 0,
   "metadata": {
    "application/vnd.databricks.v1+cell": {
     "cellMetadata": {
      "byteLimit": 2048000,
      "rowLimit": 10000
     },
     "inputWidgets": {},
     "nuid": "dc0df964-f603-436e-9e6a-fc6a3ea10297",
     "showTitle": false,
     "tableResultSettingsMap": {},
     "title": ""
    }
   },
   "outputs": [],
   "source": [
    "gini = Obj_Seg.EvolDisVar(\n",
    "  # Parametros de figura individual\n",
    "    query_filtro = '',\n",
    "    codmes_ini   = 202110,\n",
    "    codmes_fin   = 202312,\n",
    "    amplitud     = 6,\n",
    "    disc_target  = [24, 21,18],\n",
    "    umbral_sup   = 0.15,\n",
    "    umbral_inf   = 0.05,\n",
    "    #umbral_opc   = 0.1,\n",
    "    moviles      = True,\n",
    "    dim_grafico  = (25, 5),\n",
    "    pos_leyenda  = (0.5, -0.35),\n",
    " \n",
    "    etiquetas    = True,\n",
    "    tamaño_etiqueta    =12,\n",
    "\n",
    "    # Parametros de figura final\n",
    "    ncolumnas = 3,\n",
    "    nfilas    = 1,\n",
    "    variables = var_cal,\n",
    "    dim_grafico_total = (25, 5),\n",
    "    ncol_leyenda      = 6,\n",
    "    vspacio           =-0.25,\n",
    "    hspacio           =5\n",
    "  )"
   ]
  },
  {
   "cell_type": "code",
   "execution_count": 0,
   "metadata": {
    "application/vnd.databricks.v1+cell": {
     "cellMetadata": {
      "byteLimit": 2048000,
      "rowLimit": 10000
     },
     "inputWidgets": {},
     "nuid": "d952dbf8-7e08-4d4b-8796-a1a7b2b512c8",
     "showTitle": false,
     "tableResultSettingsMap": {},
     "title": ""
    }
   },
   "outputs": [],
   "source": []
  },
  {
   "cell_type": "code",
   "execution_count": 0,
   "metadata": {
    "application/vnd.databricks.v1+cell": {
     "cellMetadata": {
      "byteLimit": 2048000,
      "rowLimit": 10000
     },
     "inputWidgets": {},
     "nuid": "52c08a9c-cc43-419c-9184-5aab18672e9b",
     "showTitle": false,
     "tableResultSettingsMap": {},
     "title": ""
    }
   },
   "outputs": [],
   "source": [
    "Obj_Seg.base_monitoreo = Obj_Seg.base_monitoreo.withColumn(\"XB_OPE_NOCLI_CAL\", col(\"XB_OPE_NOCLI_CAL\").cast(\"double\"))\n",
    "Obj_Seg.base_monitoreo = Obj_Seg.base_monitoreo.withColumn(\"XB_OPE_CLI_CAL\", col(\"XB_OPE_CLI_CAL\").cast(\"double\"))\n",
    "\n",
    "var_pd = [\"XB_OPE_NOCLI_CAL\", \"XB_OPE_CLI_CAL\"]\n",
    "caldri_veh_app = Obj_Seg.EvolDisVar(\n",
    "  # Parametros de figura individual\n",
    "  query_filtro = 'FLAG_CLIENTE = 0',\n",
    "  codmes_ini   = 202206,\n",
    "  codmes_fin   = 202312,\n",
    "  amplitud     = 6,\n",
    "  disc_target  = [24, 21,18],\n",
    "  umbral_sup   = 0.4,\n",
    "  umbral_inf   = 0.3,\n",
    "  moviles      = True,\n",
    "  dim_grafico  = (22.5, 6),\n",
    "  pos_leyenda  = (0.5, -0.35),\n",
    "  etiquetas    = True,\n",
    "  gini_abs     = False,\n",
    " \n",
    "  # Parametros de figura final\n",
    "  ncolumnas = 2,\n",
    "  nfilas    = 1,\n",
    "  variables = var_pd,\n",
    "  dim_grafico_total = (20, 6),\n",
    "  ncol_leyenda = 5,\n",
    "  vspacio=-0.25,\n",
    "  hspacio=4,\n",
    "  tamaño_etiqueta = 14 \n",
    ")"
   ]
  },
  {
   "cell_type": "code",
   "execution_count": 0,
   "metadata": {
    "application/vnd.databricks.v1+cell": {
     "cellMetadata": {
      "byteLimit": 2048000,
      "rowLimit": 10000
     },
     "inputWidgets": {},
     "nuid": "556ca77f-795a-4349-a5cc-f537e8bd598b",
     "showTitle": false,
     "tableResultSettingsMap": {},
     "title": ""
    }
   },
   "outputs": [],
   "source": [
    "Obj_Seg.base_monitoreo = Obj_Seg.base_monitoreo.withColumn(\"XB_COMP_CLI_CAL\", col(\"XB_COMP_CLI_CAL\").cast(\"double\"))\n",
    "Obj_Seg.base_monitoreo = Obj_Seg.base_monitoreo.withColumn(\"XB_COMP_CLI_CAL\", col(\"XB_COMP_CLI_CAL\").cast(\"double\"))\n",
    "\n",
    "var_pd = [\"XB_COMP_CLI_CAL\", \"XB_OPE_CLI_CAL_REP\"]\n",
    "caldri_veh_app = Obj_Seg.EvolDisVar(\n",
    "  # Parametros de figura individual\n",
    "  query_filtro = 'FLAG_CLIENTE = 1',\n",
    "  codmes_ini   = 202206,\n",
    "  codmes_fin   = 202312,\n",
    "  amplitud     = 6,\n",
    "  disc_target  = [24, 21,18],\n",
    "  umbral_sup   = 0.4,\n",
    "  umbral_inf   = 0.3,\n",
    "  moviles      = True,\n",
    "  dim_grafico  = (22.5, 6),\n",
    "  pos_leyenda  = (0.5, -0.35),\n",
    "  etiquetas    = True,\n",
    "  gini_abs     = False,\n",
    " \n",
    "  # Parametros de figura final\n",
    "  ncolumnas = 2,\n",
    "  nfilas    = 1,\n",
    "  variables = var_pd,\n",
    "  dim_grafico_total = (20, 6),\n",
    "  ncol_leyenda = 5,\n",
    "  vspacio=-0.25,\n",
    "  hspacio=4,\n",
    "  tamaño_etiqueta = 14 \n",
    ")"
   ]
  },
  {
   "cell_type": "code",
   "execution_count": 0,
   "metadata": {
    "application/vnd.databricks.v1+cell": {
     "cellMetadata": {
      "byteLimit": 2048000,
      "rowLimit": 10000
     },
     "inputWidgets": {},
     "nuid": "afc807b6-e943-42ff-b849-ea79eabe488e",
     "showTitle": false,
     "tableResultSettingsMap": {},
     "title": ""
    }
   },
   "outputs": [],
   "source": [
    "Obj_Seg.base_monitoreo = Obj_Seg.base_monitoreo.withColumn(\"XB_COMP_NOCLI_CAL\", col(\"XB_COMP_NOCLI_CAL\").cast(\"double\"))\n",
    "Obj_Seg.base_monitoreo = Obj_Seg.base_monitoreo.withColumn(\"XB_COMP_CLI_CAL\", col(\"XB_COMP_CLI_CAL\").cast(\"double\"))\n",
    "\n",
    "var_pd = [\"XB_COMP_NOCLI_CAL\", \"XB_OPE_NOCLI_CAL_REP\"]\n",
    "caldri_veh_app = Obj_Seg.EvolDisVar(\n",
    "  # Parametros de figura individual\n",
    "  query_filtro = 'FLAG_CLIENTE = 0',\n",
    "  codmes_ini   = 202206,\n",
    "  codmes_fin   = 202312,\n",
    "  amplitud     = 6,\n",
    "  disc_target  = [24, 21,18],\n",
    "  umbral_sup   = 0.4,\n",
    "  umbral_inf   = 0.3,\n",
    "  moviles      = True,\n",
    "  dim_grafico  = (22.5, 6),\n",
    "  pos_leyenda  = (0.5, -0.35),\n",
    "  etiquetas    = True,\n",
    "  gini_abs     = False,\n",
    " \n",
    "  # Parametros de figura final\n",
    "  ncolumnas = 2,\n",
    "  nfilas    = 1,\n",
    "  variables = var_pd,\n",
    "  dim_grafico_total = (20, 6),\n",
    "  ncol_leyenda = 5,\n",
    "  vspacio=-0.25,\n",
    "  hspacio=4,\n",
    "  tamaño_etiqueta = 14 \n",
    ")"
   ]
  },
  {
   "cell_type": "code",
   "execution_count": 0,
   "metadata": {
    "application/vnd.databricks.v1+cell": {
     "cellMetadata": {
      "byteLimit": 2048000,
      "rowLimit": 10000
     },
     "inputWidgets": {},
     "nuid": "c63a40e8-911b-4569-a665-42f873ee9a17",
     "showTitle": false,
     "tableResultSettingsMap": {},
     "title": ""
    }
   },
   "outputs": [],
   "source": [
    "Obj_Seg.base_monitoreo = Obj_Seg.base_monitoreo.withColumn(\"XB_OPE_NOCLI_CAL\", col(\"XB_OPE_NOCLI_CAL\").cast(\"double\"))\n",
    "Obj_Seg.base_monitoreo = Obj_Seg.base_monitoreo.withColumn(\"XB_OPE_CLI_CAL\", col(\"XB_OPE_CLI_CAL\").cast(\"double\"))\n",
    "\n",
    "var_pd = [\"XB_FINAL_BASE_REP\", \"XB_FINAL_BASE\"]\n",
    "caldri_veh_app = Obj_Seg.EvolDisVar(\n",
    "  # Parametros de figura individual\n",
    "  query_filtro = '',\n",
    "  codmes_ini   = 202206,\n",
    "  codmes_fin   = 202312,\n",
    "  amplitud     = 6,\n",
    "  disc_target  = [24, 21,18],\n",
    "  umbral_sup   = 0.4,\n",
    "  umbral_inf   = 0.3,\n",
    "  moviles      = True,\n",
    "  dim_grafico  = (22.5, 6),\n",
    "  pos_leyenda  = (0.5, -0.35),\n",
    "  etiquetas    = True,\n",
    "  gini_abs     = False,\n",
    " \n",
    "  # Parametros de figura final\n",
    "  ncolumnas = 2,\n",
    "  nfilas    = 1,\n",
    "  variables = var_pd,\n",
    "  dim_grafico_total = (20, 6),\n",
    "  ncol_leyenda = 5,\n",
    "  vspacio=-0.25,\n",
    "  hspacio=4,\n",
    "  tamaño_etiqueta = 14 \n",
    ")"
   ]
  },
  {
   "cell_type": "code",
   "execution_count": 0,
   "metadata": {
    "application/vnd.databricks.v1+cell": {
     "cellMetadata": {
      "byteLimit": 2048000,
      "rowLimit": 10000
     },
     "inputWidgets": {},
     "nuid": "3595005c-b016-44c0-a097-caf523df1a99",
     "showTitle": false,
     "tableResultSettingsMap": {},
     "title": ""
    }
   },
   "outputs": [],
   "source": []
  },
  {
   "cell_type": "code",
   "execution_count": 0,
   "metadata": {
    "application/vnd.databricks.v1+cell": {
     "cellMetadata": {
      "byteLimit": 2048000,
      "rowLimit": 10000
     },
     "inputWidgets": {},
     "nuid": "b87b15ed-4417-4092-a263-6dd660796bb3",
     "showTitle": false,
     "tableResultSettingsMap": {},
     "title": ""
    }
   },
   "outputs": [],
   "source": [
    "Obj_Seg.base_monitoreo = Obj_Seg.base_monitoreo.withColumn(\n",
    "    \"LTV_CORREGIDO_VF\", \n",
    "    when(col(\"CODMES\") >= 202308, col(\"NFT_LTV\")).otherwise(col(\"LTV_CORREGIDO_0\"))\n",
    ")\n",
    "\n",
    "dri_neg = [\"NFT_LTV\", \"PRS_TASA\"]\n",
    "dri_neg_Q = Obj_Seg.CutVar(variables=dri_neg, num_cortes=4, query_corte=\"CODMES BETWEEN 202101 AND 202412 AND DEF_120_BLOQ_REF_0 = 0\")"
   ]
  },
  {
   "cell_type": "code",
   "execution_count": 0,
   "metadata": {
    "application/vnd.databricks.v1+cell": {
     "cellMetadata": {
      "byteLimit": 2048000,
      "rowLimit": 10000
     },
     "inputWidgets": {},
     "nuid": "fef942ee-c274-4b08-a9b5-9801f74edb2b",
     "showTitle": false,
     "tableResultSettingsMap": {},
     "title": ""
    }
   },
   "outputs": [],
   "source": [
    "Obj_Seg.base_monitoreo = Obj_Seg.base_monitoreo.withColumn(\n",
    "    \"RANGO_MTOVIVI_F\",\n",
    "    when(col(\"PRS_ValorComVivienda\").isNull(), \"99. Missing\")\n",
    "    .when(col(\"PRS_ValorComVivienda\") <= 67400, \"1. [0 - 67K]\")\n",
    "    .when(col(\"PRS_ValorComVivienda\") <= 96200, \"2. <67 - 96K]\")\n",
    "    .when(col(\"PRS_ValorComVivienda\") <= 144000, \"3. <96 - 144K]\")\n",
    "    .when(col(\"PRS_ValorComVivienda\") <= 239800, \"4. <144 - 239K]\")\n",
    "    .when(col(\"PRS_ValorComVivienda\") <= 355100, \"5. <239 - 355K]\")\n",
    "    .when(col(\"PRS_ValorComVivienda\") <= 479300, \"6. <355 - 479K]\")\n",
    "    .otherwise(\"7. <479K - ++]\")\n",
    ")\n",
    "\n",
    "Obj_Seg.base_monitoreo = Obj_Seg.base_monitoreo.withColumn(\"RNG_CEM6_MTO\", \n",
    "    F.when(F.col(\"CEM6_MTO_T\").isNull(), \"99. Missing\")\n",
    "    .when(F.col(\"CEM6_MTO_T\") <= 0.000430813, \"01. [0 - 0.04%]\")\n",
    "    .when(F.col(\"CEM6_MTO_T\") <= 0.0018687401, \"02. <0.04- 0.18%]\")\n",
    "    .when(F.col(\"CEM6_MTO_T\") <= 0.0041421573, \"03. <0.18 - 0.4%]\")\n",
    "    .otherwise(\"04. <0.4 a mas]\"))"
   ]
  },
  {
   "cell_type": "code",
   "execution_count": 0,
   "metadata": {
    "application/vnd.databricks.v1+cell": {
     "cellMetadata": {
      "byteLimit": 2048000,
      "rowLimit": 10000
     },
     "inputWidgets": {},
     "nuid": "851e510f-a470-4e53-894a-954ba57c9d92",
     "showTitle": false,
     "tableResultSettingsMap": {},
     "title": ""
    }
   },
   "outputs": [],
   "source": [
    "dri_neg_Q = [\"RANGO_MTOVIVI_F\",\"NFT_LTV_Q\",\"RNG_CEM6_MTO\",\"EST_CIVIL_R\",\"RANGO_MONTO\", \"RAN_PLAZO\", \"PRS_TASA_Q\",  \"MARCA_HML_T\", \"EDAD_R\"]\n",
    "caldri = Obj_Seg.CalVar(\n",
    "  # Parametros de figura individual\n",
    "  query_uso          = \"CODMES >= 202212 AND CODMES <= 202304\",\n",
    "  pd_seg             = pd_cal,\n",
    "  rd_aux             = 'RD12',\n",
    "  pd_comparacion     = True,\n",
    "  factores_cuentas   = fc,\n",
    "  factores_montos    = fm,\n",
    "  mat_importancia    = 5, \n",
    "  cast_int           = True,\n",
    "  dim_grafico        = (25, 6),\n",
    "  pos_leyenda        = (0.5, -0.3),\n",
    "  punt_mora          = 70,\n",
    " \n",
    "  # Parametros de figura final\n",
    "  tipo_vista         = 'M',\n",
    "  ncolumnas          = 3,\n",
    "  nfilas             = 3,\n",
    "  variables          = dri_neg_Q,\n",
    "  dim_grafico_total  = (25, 15),\n",
    "  ncol_leyenda       = 5,\n",
    "  etiquetas_total    = True, \n",
    "  pos_etiqueta       = 0.05,\n",
    "  vspacio            = -0.5,\n",
    "  hspacio            = 0.5,\n",
    "  filtro_var         =\"not like '%issing%'\",\n",
    "  iv                 = True \n",
    ")"
   ]
  },
  {
   "cell_type": "code",
   "execution_count": 0,
   "metadata": {
    "application/vnd.databricks.v1+cell": {
     "cellMetadata": {
      "byteLimit": 2048000,
      "rowLimit": 10000
     },
     "inputWidgets": {},
     "nuid": "64c4a81e-94e6-483e-81a8-12fde27332b5",
     "showTitle": false,
     "tableResultSettingsMap": {},
     "title": ""
    }
   },
   "outputs": [],
   "source": [
    "psi_dri = Obj_SegTotal.MixPSIVar(\n",
    "  # Parametros de figura individual\n",
    "    query_uso       ='CODMES >= 202201 AND CODMES <> 202407',\n",
    "    cast_int        =True,\n",
    "    codmes_inicio1  =202101,\n",
    "    codmes_fin1     =202112,\n",
    "    codmes_inicio2  =202301,\n",
    "    codmes_fin2     =202312,\n",
    "    dim_grafico     =(22.5, 6),\n",
    "    pos_leyenda     =(0.5, -0.35),\n",
    " \n",
    "    # Parametros de figura final\n",
    "    tipo_vista      = 'M',\n",
    "    ncolumnas       = 3,\n",
    "    nfilas          = 3,\n",
    "    variables       = dri_neg_Q,\n",
    "    dim_grafico_total = (25, 15),\n",
    "    ncol_leyenda    =8,\n",
    "    tamaño_leyenda  = 8.25,\n",
    "    vspacio         =-0.25,\n",
    "    hspacio         =0,\n",
    "    borde           = 0.08\n",
    ")"
   ]
  },
  {
   "cell_type": "code",
   "execution_count": 0,
   "metadata": {
    "application/vnd.databricks.v1+cell": {
     "cellMetadata": {
      "byteLimit": 2048000,
      "rowLimit": 10000
     },
     "inputWidgets": {},
     "nuid": "4ebc0ab7-ad89-4fa4-9ae3-d1cf42e443e6",
     "showTitle": false,
     "tableResultSettingsMap": {},
     "title": ""
    }
   },
   "outputs": [],
   "source": [
    "dri_neg = [\"NFT_LTV\"]\n",
    "dri_neg_Q = Obj_SegTotal.CutVar(variables=dri_neg, num_cortes=4, query_corte=\"CODMES BETWEEN 202101 AND 202412 AND DEF_120_BLOQ_REF_0 = 0\")\n",
    "Obj_SegTotal.base_monitoreo = Obj_SegTotal.base_monitoreo.withColumn(\"FLG_SEGMENTO_PRECIO\", when(col(\"PRS_ValorComVivienda\")>239800,1).otherwise(0))\n",
    "driver = 'LTV_VF_R'\n",
    "Obj_SegPSI, mix_n, mix_m, psi_c, psi_m = Obj_SegTotal.MixPSI(\n",
    "  # Selección del driver y filtro de uso\n",
    "  driver             = driver,\n",
    "  query_uso          = 'CODMES >= 202101',\n",
    "  cast_int           = False,\n",
    "\n",
    "  # Ventana de construcción o más antigua\n",
    "  codmes_inicio1     = 202101,\n",
    "  codmes_fin1        = 202312,\n",
    "\n",
    "  # Periodo reciente\n",
    "  codmes_inicio2     = 202401,\n",
    "  codmes_fin2        = 202412,\n",
    "\n",
    "  # Detalles del gráfico\n",
    "  titulo             = driver,\n",
    "  dim_grafico        = (25,6.5),\n",
    "  pos_leyenda        = (0.5, -0.25),\n",
    "  borde              = 0.08\n",
    ")"
   ]
  },
  {
   "cell_type": "code",
   "execution_count": 0,
   "metadata": {
    "application/vnd.databricks.v1+cell": {
     "cellMetadata": {
      "byteLimit": 2048000,
      "rowLimit": 10000
     },
     "inputWidgets": {},
     "nuid": "a503925c-b45b-47da-b76a-92ba068879b3",
     "showTitle": false,
     "tableResultSettingsMap": {},
     "title": ""
    }
   },
   "outputs": [],
   "source": [
    "dri_neg = [\"NFT_LTV\"]\n",
    "dri_neg_Q = Obj_SegTotal.CutVar(variables=dri_neg, num_cortes=4, query_corte=\"CODMES BETWEEN 202101 AND 202412 AND DEF_120_BLOQ_REF_0 = 0\")\n",
    "Obj_SegTotal.base_monitoreo = Obj_SegTotal.base_monitoreo.withColumn(\"FLG_SEGMENTO_PRECIO\", when(col(\"PRS_ValorComVivienda\")>239800,1).otherwise(0))\n",
    "driver = 'NFT_LTV_Q'\n",
    "Obj_SegPSI, mix_n, mix_m, psi_c, psi_m = Obj_SegTotal.MixPSI(\n",
    "  # Selección del driver y filtro de uso\n",
    "  driver             = driver,\n",
    "  query_uso          = 'CODMES >= 202101',\n",
    "  cast_int           = False,\n",
    "\n",
    "  # Ventana de construcción o más antigua\n",
    "  codmes_inicio1     = 202101,\n",
    "  codmes_fin1        = 202312,\n",
    "\n",
    "  # Periodo reciente\n",
    "  codmes_inicio2     = 202401,\n",
    "  codmes_fin2        = 202412,\n",
    "\n",
    "  # Detalles del gráfico\n",
    "  titulo             = driver,\n",
    "  dim_grafico        = (25,6.5),\n",
    "  pos_leyenda        = (0.5, -0.25),\n",
    "  borde              = 0.08\n",
    ")"
   ]
  },
  {
   "cell_type": "code",
   "execution_count": 0,
   "metadata": {
    "application/vnd.databricks.v1+cell": {
     "cellMetadata": {
      "byteLimit": 2048000,
      "rowLimit": 10000
     },
     "inputWidgets": {},
     "nuid": "fabb75a6-5568-49fe-82a3-06742db4f7a4",
     "showTitle": false,
     "tableResultSettingsMap": {},
     "title": ""
    }
   },
   "outputs": [],
   "source": [
    "driver = 'LTV_CORREGIDO_VF_Q'\n",
    "Obj_SegPSI, mix_n, mix_m, psi_c, psi_m = Obj_SegTotal.MixPSI(\n",
    "  # Selección del driver y filtro de uso\n",
    "  driver             = driver,\n",
    "  query_uso          = 'CODMES >= 202101',\n",
    "  cast_int           = False,\n",
    "\n",
    "  # Ventana de construcción o más antigua\n",
    "  codmes_inicio1     = 202101,\n",
    "  codmes_fin1        = 202312,\n",
    "\n",
    "  # Periodo reciente\n",
    "  codmes_inicio2     = 202401,\n",
    "  codmes_fin2        = 202412,\n",
    "\n",
    "  # Detalles del gráfico\n",
    "  titulo             = driver,\n",
    "  dim_grafico        = (25,6.5),\n",
    "  pos_leyenda        = (0.5, -0.25),\n",
    "  borde              = 0.08\n",
    ")"
   ]
  },
  {
   "cell_type": "code",
   "execution_count": 0,
   "metadata": {
    "application/vnd.databricks.v1+cell": {
     "cellMetadata": {
      "byteLimit": 2048000,
      "rowLimit": 10000
     },
     "inputWidgets": {},
     "nuid": "44202fb3-a0df-4c42-ab1c-1b99bf34c52e",
     "showTitle": false,
     "tableResultSettingsMap": {},
     "title": ""
    }
   },
   "outputs": [],
   "source": [
    "pd_cal='MTOAPROBADO_SOLES'#vigente\n",
    "pd_rbm='MTOAPROBADO_SOLES'\n",
    "pd_trc='MTOAPROBADO_SOLES'\n",
    "tipo_banda = 'Jeffrey'#Jeffrey Vasiseck\n",
    "codmes_default = 202304\n",
    "columna_monto='MTOAPROBADO_SOLES'\n",
    "titulo='Calibración Applicant App Ahorro Local'\n",
    "condiciones= \"CODMES >= 201901 AND DEF_120_BLOQ_REF_0 = 0\""
   ]
  },
  {
   "cell_type": "code",
   "execution_count": 0,
   "metadata": {
    "application/vnd.databricks.v1+cell": {
     "cellMetadata": {
      "byteLimit": 2048000,
      "rowLimit": 10000
     },
     "inputWidgets": {},
     "nuid": "2c0e64e9-7f7d-448e-a92f-0aee81ec05e5",
     "showTitle": false,
     "tableResultSettingsMap": {},
     "title": ""
    }
   },
   "outputs": [],
   "source": [
    "tabla = spark.table('catalog_lhcl_prod_bcp.bcp_edv_fabseg.T45988_HM_ADM_HIP_AHLO_202504_F')\n",
    "# Objeto de Seguimiento\n",
    "Obj_SegTotal = rmm.MonitorScore_v01(\n",
    "  nombre_modelo         = 'Personas Modelo Applicant Ahorro Local',\n",
    "  codigo_modelo         = 'MOD-BCP-20658',\n",
    "  tier                  = 'II',\n",
    "  detalle_seguimiento   = 'Seguimiento Applicant Ahorro Local',\n",
    "  mes_seguimiento       = '202504',\n",
    "  base_monitoreo        = tabla,\n",
    "  pd1                   = pd_cal,\n",
    "  pd2                   = pd_trc,\n",
    "  pd3                   = pd_rbm,\n",
    "  monto_credito         = columna_monto,\n",
    "  query_univ            = \"DEF_120_BLOQ_REF_0=0 AND --PD_2024Q4vf IS NOT NULL AND FLG_VC_VIVIENDA_RBM=1\",\n",
    "  bandas                = tipo_banda,\n",
    "  codmes_default        = codmes_default,\n",
    "  meses_ventana_target  = 24,\n",
    "  meses_atraso_target   = 4\n",
    ")"
   ]
  },
  {
   "cell_type": "code",
   "execution_count": 0,
   "metadata": {
    "application/vnd.databricks.v1+cell": {
     "cellMetadata": {
      "byteLimit": 2048000,
      "rowLimit": 10000
     },
     "inputWidgets": {},
     "nuid": "1887c70c-c32c-41a0-b0f8-9b7d28856f58",
     "showTitle": false,
     "tableResultSettingsMap": {},
     "title": ""
    }
   },
   "outputs": [],
   "source": [
    "Obj_SegTotal.base_monitoreo = Obj_SegTotal.base_monitoreo.withColumn(\n",
    "    \"LTV_CORREGIDO_VF\", \n",
    "    when(col(\"CODMES\") >= 202308, col(\"NFT_LTV\")).otherwise(col(\"LTV_CORREGIDO_0\"))\n",
    ")\n",
    "\n",
    "dri_neg = [\"LTV_CORREGIDO_VF\"]\n",
    "dri_neg_Q = Obj_SegTotal.CutVar(variables=dri_neg, num_cortes=4, query_corte=\"CODMES BETWEEN 202101 AND 202412 AND DEF_120_BLOQ_REF_0 = 0\")\n",
    "Obj_SegTotal.base_monitoreo = Obj_SegTotal.base_monitoreo.withColumn(\"FLG_SEGMENTO_PRECIO\", when(col(\"PRS_ValorComVivienda\")>239800,1).otherwise(0))\n",
    "driver = 'LTV_CORREGIDO_VF_Q'\n",
    "Obj_SegPSI, mix_n, mix_m, psi_c, psi_m = Obj_SegTotal.MixPSI(\n",
    "  # Selección del driver y filtro de uso\n",
    "  driver             = driver,\n",
    "  query_uso          = 'CODMES >= 202101',\n",
    "  cast_int           = False,\n",
    "\n",
    "  # Ventana de construcción o más antigua\n",
    "  codmes_inicio1     = 202101,\n",
    "  codmes_fin1        = 202312,\n",
    "\n",
    "  # Periodo reciente\n",
    "  codmes_inicio2     = 202401,\n",
    "  codmes_fin2        = 202412,\n",
    "\n",
    "  # Detalles del gráfico\n",
    "  titulo             = driver,\n",
    "  dim_grafico        = (25,6.5),\n",
    "  pos_leyenda        = (0.5, -0.25),\n",
    "  borde              = 0.08\n",
    ")"
   ]
  }
 ],
 "metadata": {
  "application/vnd.databricks.v1+notebook": {
   "computePreferences": null,
   "dashboards": [],
   "environmentMetadata": {
    "base_environment": "",
    "environment_version": "2"
   },
   "inputWidgetPreferences": null,
   "language": "python",
   "notebookMetadata": {
    "pythonIndentUnit": 4
   },
   "notebookName": "14_Seguimiento_App_HipAhlo - Calibrado",
   "widgets": {}
  },
  "language_info": {
   "name": "python"
  }
 },
 "nbformat": 4,
 "nbformat_minor": 0
}
