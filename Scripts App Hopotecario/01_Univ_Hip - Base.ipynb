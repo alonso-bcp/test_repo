{
 "cells": [
  {
   "cell_type": "code",
   "execution_count": 0,
   "metadata": {
    "application/vnd.databricks.v1+cell": {
     "cellMetadata": {
      "byteLimit": 2048000,
      "rowLimit": 10000
     },
     "inputWidgets": {},
     "nuid": "e045e400-e1f9-464c-9233-c6bbba4e8295",
     "showTitle": false,
     "tableResultSettingsMap": {},
     "title": ""
    }
   },
   "outputs": [],
   "source": [
    "# Importando módulo de seguimiento\n",
    "import sys\n",
    "import importlib\n",
    "sys.path.append('/Workspace/Users/luisfdiaz@bcp.com.pe/Modulo de Seguimiento/')\n",
    "\n",
    "import SegScore as rmm\n",
    "importlib.reload(rmm)\n",
    "\n",
    "# Librerias y fuciones generales\n",
    "from pyspark.sql.functions import date_format, expr, to_date, date_sub, add_months, col, when, coalesce, trim, broadcast, avg, max, min, lit, concat, window, round as colround, upper, abs as sparkabs,greatest\n",
    "from pyspark.sql import functions as F\n",
    "from pyspark import StorageLevel\n",
    "import numpy as np\n",
    "import seaborn as sns\n",
    "import pandas as pd\n",
    "import matplotlib.pyplot as plt\n",
    "from pyspark.sql.window import Window\n",
    "\n",
    "from pyspark.sql import SparkSession\n",
    "spark = SparkSession.builder \\\n",
    "    .appName(\"Optimized\") \\\n",
    "    .config(\"spark.executor.memory\", \"32g\") \\\n",
    "    .config(\"spark.executor.cores\", \"4\") \\\n",
    "    .config(\"spark.executor.instances\", \"2\") \\\n",
    "    .config(\"spark.sql.shuffle.partitions\", \"200\") \\\n",
    "    .getOrCreate()"
   ]
  },
  {
   "cell_type": "code",
   "execution_count": 0,
   "metadata": {
    "application/vnd.databricks.v1+cell": {
     "cellMetadata": {
      "byteLimit": 2048000,
      "rowLimit": 10000
     },
     "inputWidgets": {},
     "nuid": "e18b0af8-1a60-45f8-8868-45727b7e255d",
     "showTitle": false,
     "tableResultSettingsMap": {},
     "title": ""
    }
   },
   "outputs": [],
   "source": [
    "#Mostrar los duplicados\n",
    "def print_res(sparkf_df):\n",
    "  import pandas as pd\n",
    "  pd.set_option('display.max_rows', None)\n",
    "  pd.set_option('display.max_columns', None)\n",
    "  pd_spark_df = sparkf_df.toPandas()\n",
    " \n",
    "  return pd_spark_df"
   ]
  },
  {
   "cell_type": "code",
   "execution_count": 0,
   "metadata": {
    "application/vnd.databricks.v1+cell": {
     "cellMetadata": {
      "byteLimit": 2048000,
      "rowLimit": 10000
     },
     "inputWidgets": {},
     "nuid": "08060f03-53f6-44be-bea0-b5b3cc65d298",
     "showTitle": false,
     "tableResultSettingsMap": {},
     "title": ""
    }
   },
   "outputs": [],
   "source": [
    "from pyspark.sql.functions import coalesce, lit\n",
    "\n",
    "def generar_codmes(inicio, final):\n",
    "    codmes_list = []\n",
    "    anio_inicial = inicio // 100\n",
    "    mes_inicial = inicio % 100\n",
    "    \n",
    "    anio_final = final // 100\n",
    "    mes_final = final % 100\n",
    "    \n",
    "    anio = anio_inicial\n",
    "    mes = mes_inicial\n",
    "    \n",
    "    # Generar la lista hasta el mes final\n",
    "    while (anio < anio_final) or (anio == anio_final and mes <= mes_final):\n",
    "        codmes_list.append(anio * 100 + mes)\n",
    "        mes += 1\n",
    "        if mes > 12:\n",
    "            mes = 1  # Pasar a enero del siguiente año\n",
    "            anio += 1\n",
    "    return codmes_list\n",
    "\n",
    "def dias_atraso(base, identificador, inicio, final): \n",
    "    df_list = []\n",
    "    espacio = generar_codmes(inicio = inicio, final = final)\n",
    "    for codmes in espacio:\n",
    "        numeromes = (codmes // 100) * 12 + (codmes % 100)\n",
    "        codmes_f1 = ((numeromes - 1 + 1) // 12) * 100 + ((numeromes + 11 - 11 * 1) % 12) + 1\n",
    "        codmes_f2 = ((numeromes - 1 + 2) // 12) * 100 + ((numeromes + 11 - 11 * 2) % 12) + 1\n",
    "        codmes_f3 = ((numeromes - 1 + 3) // 12) * 100 + ((numeromes + 11 - 11 * 3) % 12) + 1\n",
    "\n",
    "        df_base = base.filter(f\"CODMES = {codmes}\").select(\"CODMES\", identificador, \"CTDMESMADURACION\", \"MTOSALDOCAPITALSOL\",\"TIPBLOQUEOPRODUCTO\", \"CTDDIAATRASO\")\n",
    "        df_f1 = base.filter(f\"CODMES = {codmes_f1}\").select(\"CODMES\", identificador, \"CTDDIAATRASO\")\n",
    "        df_f2 = base.filter(f\"CODMES = {codmes_f2}\").select(\"CODMES\", identificador, \"CTDDIAATRASO\")\n",
    "        df_f3 = base.filter(f\"CODMES = {codmes_f3}\").select(\"CODMES\", identificador, \"CTDDIAATRASO\")\n",
    "\n",
    "        df_parcial = df_base.alias('A') \\\n",
    "                .join(df_f1.alias('B'), on = identificador, how = 'left') \\\n",
    "                .join(df_f2.alias('C'), on = identificador, how = 'left') \\\n",
    "                .join(df_f3.alias('D'), on = identificador, how = 'left') \\\n",
    "                .selectExpr('A.*', \n",
    "                            'COALESCE(B.CTDDIAATRASO, 0) AS CTDDIAATRASO_F1', \n",
    "                            'COALESCE(C.CTDDIAATRASO, 0) AS CTDDIAATRASO_F2', \n",
    "                            'COALESCE(D.CTDDIAATRASO, 0) AS CTDDIAATRASO_F3')\n",
    "                \n",
    "        df_list.append(df_parcial)\n",
    "        print(f'Iteración {codmes}:', f't0:{codmes}', f't1:{codmes_f1}', f't2:{codmes_f2}', f't3:{codmes_f3}')\n",
    "\n",
    "    df_final = df_list[0]\n",
    "    for df in df_list[1:]:\n",
    "        df_final = df_final.unionByName(df)\n",
    "\n",
    "    return df_final"
   ]
  },
  {
   "cell_type": "code",
   "execution_count": 0,
   "metadata": {
    "application/vnd.databricks.v1+cell": {
     "cellMetadata": {
      "byteLimit": 2048000,
      "rowLimit": 10000
     },
     "inputWidgets": {},
     "nuid": "4c525d72-2169-4033-8655-1ff66b12cf1b",
     "showTitle": false,
     "tableResultSettingsMap": {},
     "title": ""
    }
   },
   "outputs": [],
   "source": [
    "def rezago_codmes_col(base, rezago_mes):\n",
    "    for i in range(0, rezago_mes + 1, 1):\n",
    "        base = base.withColumn(f\"CODMES_{i}\", date_format(add_months(to_date(concat(col(\"codmes\"), lit(\"01\")), \"yyyyMMdd\"), -i), \"yyyyMM\"))\n",
    "        base = base.withColumn(f\"CODMES_{i}\", col(f\"CODMES_{i}\").cast(\"integer\"))\n",
    "    return base\n",
    "\n",
    "def avance_codmes_col(base, avance_mes):\n",
    "    for l in range(0, avance_mes + 1, 1):\n",
    "        base = base.withColumn(f\"CODMES_F{l}\", date_format(add_months(to_date(concat(col(\"codmes\"), lit(\"01\")), \"yyyyMMdd\"), l), \"yyyyMM\"))\n",
    "        base = base.withColumn(f\"CODMES_F{l}\", col(f\"CODMES_F{l}\").cast(\"integer\"))\n",
    "    return base"
   ]
  },
  {
   "cell_type": "markdown",
   "metadata": {
    "application/vnd.databricks.v1+cell": {
     "cellMetadata": {
      "byteLimit": 2048000,
      "rowLimit": 10000
     },
     "inputWidgets": {},
     "nuid": "9f3396dd-6c97-4e22-bb7f-fb448b7084ff",
     "showTitle": false,
     "tableResultSettingsMap": {},
     "title": ""
    }
   },
   "source": [
    "# Base de seguimiento usual"
   ]
  },
  {
   "cell_type": "code",
   "execution_count": 0,
   "metadata": {
    "application/vnd.databricks.v1+cell": {
     "cellMetadata": {
      "byteLimit": 2048000,
      "rowLimit": 10000
     },
     "inputWidgets": {},
     "nuid": "9ac34b03-27c5-4edd-b7f4-1789ba67c717",
     "showTitle": false,
     "tableResultSettingsMap": {},
     "title": ""
    }
   },
   "outputs": [],
   "source": [
    "base_hip = spark.table('catalog_lhcl_prod_bcp.bcp_edv_fabseg.t39290_base_app_hip')\n",
    "\n",
    "# Filtro inicial\n",
    "base_hip = base_hip.filter(~base_hip.TIPCREDITO.isin('HVIC', 'HVIM', 'HBIC', 'HSIC', 'HMIC', 'HMIM', 'HREF'))\n",
    "base_hip = base_hip.drop('MIN_MES_DEF_120_BLOQ_REF_ACT')\n",
    "\n",
    "# Eliminamos registros especificos\n",
    "base_hip = base_hip.filter(\n",
    "    ~(\n",
    "        (base_hip.CODMES == 202412) &\n",
    "        (base_hip.REGION == 'MISS') &\n",
    "        (base_hip.CODCLAVEOPECTA.isin(\n",
    "            329918345, 330318674, 329976162, 330387465, 329138480, 329138511,\n",
    "            330318622, 329976170, 329918227, 329918736, 330318689, 330151937,\n",
    "            329666794, 330318703, 329976146\n",
    "        ))\n",
    "    )\n",
    ")\n",
    "\n",
    "# Verficamos duplicados\n",
    "base_hip = base_hip.dropDuplicates(subset=[\"codmes\", \"CODCLAVEOPECTA\"])\n",
    "base_hip.persist(StorageLevel.MEMORY_AND_DISK).count()\n",
    "dup1 =base_hip.persist(StorageLevel.MEMORY_AND_DISK).groupBy(\"codmes\", \"CODCLAVEOPECTA\").count().alias(\"count\").filter(col(\"count\")>1)\n",
    "print_res(dup1)"
   ]
  },
  {
   "cell_type": "markdown",
   "metadata": {
    "application/vnd.databricks.v1+cell": {
     "cellMetadata": {
      "byteLimit": 2048000,
      "rowLimit": 10000
     },
     "inputWidgets": {},
     "nuid": "e39da5a0-529f-4999-b496-c6d7feff40e1",
     "showTitle": false,
     "tableResultSettingsMap": {},
     "title": ""
    }
   },
   "source": [
    "## Llaves cloud"
   ]
  },
  {
   "cell_type": "code",
   "execution_count": 0,
   "metadata": {
    "application/vnd.databricks.v1+cell": {
     "cellMetadata": {
      "byteLimit": 2048000,
      "rowLimit": 10000
     },
     "inputWidgets": {},
     "nuid": "2590d02d-8163-47b5-b755-45bc2d71d934",
     "showTitle": false,
     "tableResultSettingsMap": {},
     "title": ""
    }
   },
   "outputs": [],
   "source": [
    "# Pegamos llaves de databricks\n",
    "md_relclientedl = spark.table('catalog_lhcl_prod_bcp.bcp_edv_fabseg.t39290_md_relclientedl')\n",
    "md_relcodclaveopectadl = spark.table('catalog_lhcl_prod_bcp.bcp_edv_fabseg.t39290_md_relcodclaveopectadl')\n",
    "\n",
    "# Pegando codclaveunicocli\n",
    "base_hip = base_hip.join(\n",
    "    md_relclientedl.selectExpr(\"CODCLAVECIC\", \"CODCLAVEUNICOCLIDL AS CODCLAVEUNICOCLI\"),\n",
    "    on = 'CODCLAVECIC',\n",
    "    how = 'left'\n",
    ")\n",
    "\n",
    "base_hip = base_hip.join(\n",
    "    md_relcodclaveopectadl.selectExpr(\"CODCLAVEOPECTA\", \"CODCLAVECTADL AS CODCLAVECTA\"),\n",
    "    on = 'CODCLAVEOPECTA',\n",
    "    how = 'left'\n",
    ")\n",
    "\n",
    "base_hip.persist(StorageLevel.MEMORY_AND_DISK).count()\n",
    "dup2 =base_hip.persist(StorageLevel.MEMORY_AND_DISK).groupBy(\"codmes\", \"CODCLAVEOPECTA\").count().alias(\"count\").filter(col(\"count\")>1)\n",
    "print_res(dup2)"
   ]
  },
  {
   "cell_type": "markdown",
   "metadata": {
    "application/vnd.databricks.v1+cell": {
     "cellMetadata": {
      "byteLimit": 2048000,
      "rowLimit": 10000
     },
     "inputWidgets": {},
     "nuid": "2c41aed1-7fb5-4905-95bf-8f75d64bbfdc",
     "showTitle": false,
     "tableResultSettingsMap": {},
     "title": ""
    }
   },
   "source": [
    "## Actualización de default"
   ]
  },
  {
   "cell_type": "code",
   "execution_count": 0,
   "metadata": {
    "application/vnd.databricks.v1+cell": {
     "cellMetadata": {
      "byteLimit": 2048000,
      "rowLimit": 10000
     },
     "inputWidgets": {},
     "nuid": "2b68f954-06f4-443c-b5db-f2ce63ea0e5f",
     "showTitle": false,
     "tableResultSettingsMap": {},
     "title": ""
    }
   },
   "outputs": [],
   "source": [
    "# Tabla mm_mes_primer_default_norev: Obtener el minimo mes de default\n",
    "mm_mes_primer_default_norev = spark.table('catalog_lhcl_prod_bcp.bcp_ddv_adrmmgr_seginfobasesgenerales_vu.mm_portafoliocredito')\n",
    "\n",
    "from pyspark.sql.functions import col, coalesce, lit\n",
    "\n",
    "base_hip = base_hip.join(\n",
    "    mm_mes_primer_default_norev.select(\n",
    "        \"CODCLAVECTA\", \n",
    "        coalesce(col(\"CODMESMINDEF60BLOQUEOREFIN\"), lit(999999)).alias(\"MIN_MES_DEF_60_BLOQ_REF_ACT\"), \n",
    "        coalesce(col(\"CODMESMINDEF120BLOQUEOREFIN\"), lit(999999)).alias(\"MIN_MES_DEF_120_BLOQ_REF_ACT\")\n",
    "    ),\n",
    "    on=\"CODCLAVECTA\",\n",
    "    how='left'\n",
    ")\n",
    "\n",
    "base_hip.persist(StorageLevel.MEMORY_AND_DISK).count()\n",
    "\n",
    "# Verificando duplicandos en el segundo Join\n",
    "dup = base_hip.groupBy(\"codmes\", \"codclaveopecta\").count().alias(\"count\").filter(col(\"count\")>1)\n",
    "print_res(dup)"
   ]
  },
  {
   "cell_type": "code",
   "execution_count": 0,
   "metadata": {
    "application/vnd.databricks.v1+cell": {
     "cellMetadata": {
      "byteLimit": 2048000,
      "rowLimit": 10000
     },
     "inputWidgets": {},
     "nuid": "28dd9dc0-600f-48f7-b2d4-087079302919",
     "showTitle": false,
     "tableResultSettingsMap": {},
     "title": ""
    }
   },
   "outputs": [],
   "source": [
    "# DISTANCIA 'MIN_MES_DEF_120_BLOQ_REF_ACT' 120_24\n",
    "base_hip = base_hip.withColumn(\n",
    "    \"DISTANCIA_DEF24\",\n",
    "    (F.floor(F.col('MIN_MES_DEF_120_BLOQ_REF_ACT') / 100) * 12 + (F.col('MIN_MES_DEF_120_BLOQ_REF_ACT') - F.floor(F.col('MIN_MES_DEF_120_BLOQ_REF_ACT') / 100) * 100) - \n",
    "     (F.floor(F.col(\"CODMES\") / 100) * 12 + (F.col(\"CODMES\") - F.floor(F.col(\"CODMES\") / 100) * 100)))\n",
    ")\n",
    "\n",
    "# Crear columnas DEF24 a DEF6\n",
    "for i in range(24, 5, -1):\n",
    "    base_hip = base_hip.withColumn(f\"DEF{i}\", F.when(F.col(\"DISTANCIA_DEF24\") <= i, 1).otherwise(0))\n",
    "\n",
    "# 'MIN_MES_DEF_120_BLOQ_REF_ACT' TEMPRANO 60_12\n",
    "base_hip = base_hip.withColumn(\n",
    "    \"DISTANCIA_DEF60_12\",\n",
    "    (F.floor(F.col('MIN_MES_DEF_120_BLOQ_REF_ACT') / 100) * 12 + (F.col('MIN_MES_DEF_120_BLOQ_REF_ACT') - F.floor(F.col('MIN_MES_DEF_120_BLOQ_REF_ACT') / 100) * 100) - \n",
    "     (F.floor(F.col(\"CODMES\") / 100) * 12 + (F.col(\"CODMES\") - F.floor(F.col(\"CODMES\") / 100) * 100)))\n",
    ")\n",
    "base_hip = base_hip.withColumn(\"DEF60_12\", F.when(F.col(\"DISTANCIA_DEF60_12\") <= 12, 1).otherwise(0))"
   ]
  },
  {
   "cell_type": "markdown",
   "metadata": {
    "application/vnd.databricks.v1+cell": {
     "cellMetadata": {
      "byteLimit": 2048000,
      "rowLimit": 10000
     },
     "inputWidgets": {},
     "nuid": "e7c87618-1b9f-425f-96c8-4a38cdf9afeb",
     "showTitle": false,
     "tableResultSettingsMap": {},
     "title": ""
    }
   },
   "source": [
    "## Actualización de atrasos"
   ]
  },
  {
   "cell_type": "code",
   "execution_count": 0,
   "metadata": {
    "application/vnd.databricks.v1+cell": {
     "cellMetadata": {
      "byteLimit": 2048000,
      "rowLimit": 10000
     },
     "inputWidgets": {},
     "nuid": "1e639400-7b81-4dd6-95f3-6e18c74b8a3a",
     "showTitle": false,
     "tableResultSettingsMap": {},
     "title": ""
    }
   },
   "outputs": [],
   "source": [
    "# # Tabla de cuentas ALS: Obtener el atraso en meses posteriores al observado\n",
    "# hm_univ_ctas_als = spark.table('catalog_lhcl_prod_bcp.bcp_ddv_adrmmgr_seginfobasesgenerales_vu.hm_portafoliocredito')\n",
    "# hm_univ_ctas_als = hm_univ_ctas_als.filter(\"codapp = 'ALS'\")\n",
    "\n",
    "# # Backlog Lesly: Automatizar codmes\n",
    "# # función dias_atraso difinida al inicio\n",
    "# v_hm_univ_ctas_als = dias_atraso(base=hm_univ_ctas_als, identificador='codclavecta', inicio=201701, final=202504)\n",
    "\n",
    "# # Cruzando para homologar el opecta\n",
    "# v_hm_univ_ctas_als = v_hm_univ_ctas_als.join(\n",
    "#     md_relcodclaveopectadl.selectExpr(\"CODCLAVECTADL AS CODCLAVECTA\", \"CODCLAVEOPECTA\"),\n",
    "#     on = \"CODCLAVECTA\",\n",
    "#     how = 'left'\n",
    "# )\n",
    "\n",
    "# v_hm_univ_ctas_als.createOrReplaceTempView('ctas_als')\n",
    "\n",
    "# spark.sql('''\n",
    "#     CREATE OR REPLACE TABLE\n",
    "#         catalog_lhcl_prod_bcp.bcp_edv_fabseg.TABLASGE_v_hm_univ_ctas_als\n",
    "#     USING DELTA LOCATION \n",
    "#         'abfss://bcp-edv-fabseg@adlscu1lhclbackp05.dfs.core.windows.net/TABLASGE_SEG_PER/v_hm_univ_ctas_als'\n",
    "#     AS SELECT * FROM ctas_als\n",
    "#     '''\n",
    "# )"
   ]
  },
  {
   "cell_type": "code",
   "execution_count": 0,
   "metadata": {
    "application/vnd.databricks.v1+cell": {
     "cellMetadata": {
      "byteLimit": 2048000,
      "rowLimit": 10000
     },
     "inputWidgets": {},
     "nuid": "266d732b-5ddd-406c-becc-5486b73062fd",
     "showTitle": false,
     "tableResultSettingsMap": {},
     "title": ""
    }
   },
   "outputs": [],
   "source": [
    "v_hm_univ_ctas_als = spark.table('catalog_lhcl_prod_bcp.bcp_edv_fabseg.TABLASGE_v_hm_univ_ctas_als')\n",
    "base_hip = base_hip.join(\n",
    "    v_hm_univ_ctas_als, \n",
    "    (base_hip.CODMES == v_hm_univ_ctas_als.CODMES) & \n",
    "    (base_hip['CODCLAVECTA'] == v_hm_univ_ctas_als['CODCLAVECTA']), \n",
    "    'left'\n",
    ").select(\n",
    "    base_hip['*'], \n",
    "    v_hm_univ_ctas_als.CTDDIAATRASO_F1, \n",
    "    v_hm_univ_ctas_als.CTDDIAATRASO_F2, \n",
    "    v_hm_univ_ctas_als.CTDDIAATRASO_F3\n",
    ")\n",
    "\n",
    "base_hip.persist(StorageLevel.MEMORY_AND_DISK).count()\n",
    "\n",
    "# Verificando duplicandos en el segundo Join\n",
    "dup = base_hip.groupBy(\"codmes\", \"CODCLAVECTA\").count().alias(\"count\").filter(col(\"count\")>1)\n",
    "print_res(dup)"
   ]
  },
  {
   "cell_type": "code",
   "execution_count": 0,
   "metadata": {
    "application/vnd.databricks.v1+cell": {
     "cellMetadata": {
      "byteLimit": 2048000,
      "rowLimit": 10000
     },
     "inputWidgets": {},
     "nuid": "ca48b599-6ca8-4553-acde-f1fed5ef7540",
     "showTitle": false,
     "tableResultSettingsMap": {},
     "title": ""
    }
   },
   "outputs": [],
   "source": [
    "base_hip = base_hip.withColumn(\"MORA_8_3\", F.when(F.greatest(\"CTDDIAATRASO_F1\", \"CTDDIAATRASO_F2\", \"CTDDIAATRASO_F3\") >= 8, 1).otherwise(0))\n",
    "base_hip = base_hip.withColumn(\"MORA_30_3\", F.when(F.greatest(\"CTDDIAATRASO_F1\", \"CTDDIAATRASO_F2\", \"CTDDIAATRASO_F3\") >= 30, 1).otherwise(0))\n",
    "base_hip = base_hip.withColumn(\"MORA_45_3\", F.when(F.greatest(\"CTDDIAATRASO_F1\", \"CTDDIAATRASO_F2\", \"CTDDIAATRASO_F3\") >= 45, 1).otherwise(0))\n",
    "base_hip = base_hip.withColumn(\"MORA_60_3\", F.when(F.greatest(\"CTDDIAATRASO_F1\", \"CTDDIAATRASO_F2\", \"CTDDIAATRASO_F3\") >= 60, 1).otherwise(0))"
   ]
  },
  {
   "cell_type": "markdown",
   "metadata": {
    "application/vnd.databricks.v1+cell": {
     "cellMetadata": {
      "byteLimit": 2048000,
      "rowLimit": 10000
     },
     "inputWidgets": {},
     "nuid": "21c703c3-2479-4361-9545-42a2f81f087c",
     "showTitle": false,
     "tableResultSettingsMap": {},
     "title": ""
    }
   },
   "source": [
    "## Marca de tipo de fondeo y corrigiendo segmento"
   ]
  },
  {
   "cell_type": "code",
   "execution_count": 0,
   "metadata": {
    "application/vnd.databricks.v1+cell": {
     "cellMetadata": {
      "byteLimit": 2048000,
      "rowLimit": 10000
     },
     "inputWidgets": {},
     "nuid": "df5b53f1-76fd-4775-b4d1-83fe528b0e8c",
     "showTitle": false,
     "tableResultSettingsMap": {},
     "title": ""
    }
   },
   "outputs": [],
   "source": [
    "# FLAG DE TIPO DE FONDEO\n",
    "base_hip_1 = base_hip.withColumn(\n",
    "    \"TIPO_FONDEO\",\n",
    "    F.when(F.col(\"TIPCREDITO\").isin(['TH01','TH02','HICC','RHIP','RREF','HICB','HIFS','HIBS','HIBK','HIPA','HIPD', 'HIPO', 'HIPP', 'HIPT','HIPR', 'HCPO', 'HITR','HTIV']), \"FONDEO BCP\")\n",
    "     .when(F.col(\"TIPCREDITO\").isin(['GAHI', 'GAHP', 'GAHR', 'GAPC']), \"GAHI\")\n",
    "     .when(F.col(\"TIPCREDITO\").isin(['HITP', 'HMIV', 'HVIV', 'HSIV', 'HBIV']), \"FONDEO MVIV\")\n",
    "     .otherwise(\"OTROS\")\n",
    ")\n",
    "\n",
    "base_hip_1 = base_hip_1.withColumn(\n",
    "    \"SEGMENTOAGRUPADO_CORREGIDO_C\",\n",
    "    F.when(F.trim(F.when(F.col(\"SEGMENTOCORREGIDO\").isNull(), F.col(\"CODCAMPANIA\")).otherwise(F.col(\"SEGMENTOCORREGIDO\"))).isin(['E15','E45','F41','F94','A62','F70','H27','J68','K28']), 'AHORRO LOCAL')\n",
    "     .when(F.trim(F.when(F.col(\"SEGMENTOCORREGIDO\").isNull(), F.col(\"CODCAMPANIA\")).otherwise(F.col(\"SEGMENTOCORREGIDO\"))).isin(['E46','F14','H26']), 'GREMIO BCP')\n",
    "     .when(F.trim(F.when(F.col(\"SEGMENTOCORREGIDO\").isNull(), F.col(\"CODCAMPANIA\")).otherwise(F.col(\"SEGMENTOCORREGIDO\"))).isin(['E44','F26','H25','H42','H35','K24','K27']), 'PYME')\n",
    "     .when(F.trim(F.when(F.col(\"SEGMENTOCORREGIDO\").isNull(), F.col(\"CODCAMPANIA\")).otherwise(F.col(\"SEGMENTOCORREGIDO\"))).isin(['F36','F42']), 'REMESAS')\n",
    "     .when(F.trim(F.when(F.col(\"SEGMENTOCORREGIDO\").isNull(), F.col(\"CODCAMPANIA\")).otherwise(F.col(\"SEGMENTOCORREGIDO\"))).isin(['860','E06','E11','E42','E43','E47','F32','F33','F34','F35','F37','F38','F39','F40','F43','F44','F45','F48','F84','G04','G05','208','70','C12','F83','E35','I15','J91','J92','E56','K23','K26']), 'TRADICIONAL')\n",
    "     .otherwise('OTROS')\n",
    ")"
   ]
  },
  {
   "cell_type": "markdown",
   "metadata": {
    "application/vnd.databricks.v1+cell": {
     "cellMetadata": {
      "byteLimit": 2048000,
      "rowLimit": 10000
     },
     "inputWidgets": {},
     "nuid": "b92dfc53-caa8-4386-af83-3d132ae87fa7",
     "showTitle": false,
     "tableResultSettingsMap": {},
     "title": ""
    }
   },
   "source": [
    "## Tabla de estados"
   ]
  },
  {
   "cell_type": "code",
   "execution_count": 0,
   "metadata": {
    "application/vnd.databricks.v1+cell": {
     "cellMetadata": {
      "byteLimit": 2048000,
      "rowLimit": 10000
     },
     "inputWidgets": {},
     "nuid": "460cb8dc-cdd0-45d7-ba76-4fe37ef6b4ee",
     "showTitle": false,
     "tableResultSettingsMap": {},
     "title": ""
    }
   },
   "outputs": [],
   "source": [
    "sol_estados_ant = spark.sql(\"\"\"\n",
    "SELECT \n",
    "    DISTINCT t.CODSOLICITUD, t.SCORE_APPLICANT_FINAL, t.INGRESO_TITULAR, t.INGRESO_CONYUGE, t.DEPARTAMENTO, t.PROVINCIA, t.DISTRITO, t.CODEMP, t.CODCLAVECIC_E\n",
    "FROM \n",
    "    (SELECT \n",
    "        a.*, \n",
    "        CASE \n",
    "            WHEN fecactualizaciontabla = '06FEB2023:16:58:26' THEN 2 \n",
    "            WHEN fecactualizaciontabla = '03JAN2024:00:00:00' THEN 1 \n",
    "            WHEN fecactualizaciontabla IS NULL THEN 0 \n",
    "        END AS fecha_act \n",
    "     FROM \n",
    "        catalog_lhcl_prod_bcp.bcp_edv_fabseg.T45988_HM_SOLICITUDES_CH_RMS_ESTADOS_202504 AS a\n",
    "     WHERE \n",
    "        SCORE_APPLICANT_FINAL IS NOT NULL) t\n",
    "INNER JOIN \n",
    "    (SELECT \n",
    "        codsolicitud, \n",
    "        MAX(CASE \n",
    "            WHEN fecactualizaciontabla = '06FEB2023:16:58:26' THEN 2 \n",
    "            WHEN fecactualizaciontabla = '03JAN2024:00:00:00' THEN 1 \n",
    "            WHEN fecactualizaciontabla IS NULL THEN 0 \n",
    "        END) AS max_fechaactualizacion\n",
    "     FROM \n",
    "        catalog_lhcl_prod_bcp.bcp_edv_fabseg.T45988_HM_SOLICITUDES_CH_RMS_ESTADOS_202504\n",
    "     WHERE \n",
    "        SCORE_APPLICANT_FINAL IS NOT NULL\n",
    "     GROUP BY \n",
    "        codsolicitud) sub\n",
    "ON \n",
    "    t.codsolicitud = sub.codsolicitud AND t.fecha_act = sub.max_fechaactualizacion\n",
    "\"\"\")\n",
    "sol_estados_ant.persist(StorageLevel.MEMORY_AND_DISK).count()"
   ]
  },
  {
   "cell_type": "code",
   "execution_count": 0,
   "metadata": {
    "application/vnd.databricks.v1+cell": {
     "cellMetadata": {
      "byteLimit": 2048000,
      "rowLimit": 10000
     },
     "inputWidgets": {},
     "nuid": "33811955-0936-409c-9a65-3e09bc2cd808",
     "showTitle": false,
     "tableResultSettingsMap": {},
     "title": ""
    }
   },
   "outputs": [],
   "source": [
    "tabla_suite_unique = sol_estados_ant.dropDuplicates(['CODSOLICITUD']).select(\n",
    "    'CODSOLICITUD',\n",
    "    'SCORE_APPLICANT_FINAL',\n",
    "    F.col('INGRESO_TITULAR').alias('ESTADOS_INGRESO_TITULAR'),\n",
    "    F.col('INGRESO_CONYUGE').alias('ESTADOS_INGRESO_CONYUGE'),\n",
    "    F.col('DEPARTAMENTO').alias('ESTADOS_DEPARTAMENTO'),\n",
    "    F.col('PROVINCIA').alias('ESTADOS_PROVINCIA'),\n",
    "    F.col('DISTRITO').alias('ESTADOS_DISTRITO'),\n",
    "    F.col('CODEMP').alias('ESTADOS_CODEMP'),\n",
    "    F.col('CODCLAVECIC_E').alias('ESTADOS_CODCLAVECIC_E')\n",
    ") \n",
    "\n",
    "tabla_suite_unique.persist(StorageLevel.MEMORY_AND_DISK).count()\n",
    "\n",
    "# Verificando duplicandos en el segundo Join\n",
    "dup = tabla_suite_unique.groupBy(\"CODSOLICITUD\").count().alias(\"count\").filter(col(\"count\")>1)\n",
    "print_res(dup)"
   ]
  },
  {
   "cell_type": "code",
   "execution_count": 0,
   "metadata": {
    "application/vnd.databricks.v1+cell": {
     "cellMetadata": {
      "byteLimit": 2048000,
      "rowLimit": 10000
     },
     "inputWidgets": {},
     "nuid": "0d70d6a5-bca1-4a7f-aaac-33020ea6660b",
     "showTitle": false,
     "tableResultSettingsMap": {},
     "title": ""
    }
   },
   "outputs": [],
   "source": [
    "base_hip_2 = base_hip_1.join(\n",
    "    tabla_suite_unique,\n",
    "    on = [\"CODSOLICITUD\"],\n",
    "    how = 'left'\n",
    ")\n",
    "\n",
    "base_hip_2 = base_hip_2.withColumn(\"SC_ESTADOS\", F.col(\"SCORE_APPLICANT_FINAL\")) \\\n",
    "                       .withColumn(\"XB_ESTADOS\", (174.25 - F.col(\"SCORE_APPLICANT_FINAL\")) / 57.708) \\\n",
    "                       .withColumn(\"PD_ESTADOS\", 1 / (1 + F.exp(-F.col(\"XB_ESTADOS\")))) \n",
    "\n",
    "base_hip_2.persist(StorageLevel.MEMORY_AND_DISK).count()\n",
    "\n",
    "# Verificando duplicandos en el segundo Join\n",
    "dup = base_hip_2.groupBy(\"CODMES\", \"CODCLAVEOPECTA\").count().alias(\"count\").filter(col(\"count\")>1)\n",
    "print_res(dup)"
   ]
  },
  {
   "cell_type": "markdown",
   "metadata": {
    "application/vnd.databricks.v1+cell": {
     "cellMetadata": {
      "byteLimit": 2048000,
      "rowLimit": 10000
     },
     "inputWidgets": {},
     "nuid": "0fca88cc-c09f-4e91-a8b5-887e30e612c6",
     "showTitle": false,
     "tableResultSettingsMap": {},
     "title": ""
    }
   },
   "source": [
    "## Duplicados de codsolicitud"
   ]
  },
  {
   "cell_type": "code",
   "execution_count": 0,
   "metadata": {
    "application/vnd.databricks.v1+cell": {
     "cellMetadata": {
      "byteLimit": 2048000,
      "rowLimit": 10000
     },
     "inputWidgets": {},
     "nuid": "5587f515-93e6-417b-8d35-67fd61e88f24",
     "showTitle": false,
     "tableResultSettingsMap": {},
     "title": ""
    }
   },
   "outputs": [],
   "source": [
    "dup = base_hip_2.filter(F.col(\"CODSOLICITUD\").isNotNull()) \\\n",
    "  .groupBy(\"CODMES\", \"CODSOLICITUD\") \\\n",
    "  .agg(F.count(\"*\").alias(\"N\")) \\\n",
    "  .filter(F.col(\"N\") > 1)\n",
    "\n",
    "# Crear la tabla SOL\n",
    "sol = dup.select(\"CODSOLICITUD\").distinct()\n",
    "\n",
    "# Crear la tabla R.DUPLICADOS_SOLICITUD\n",
    "duplicados_solicitud = base_hip_2.alias(\"A\") \\\n",
    "    .join(sol.alias(\"B\"), F.col(\"A.CODSOLICITUD\") == F.col(\"B.CODSOLICITUD\"), \"inner\") \\\n",
    "    .select(\"A.*\")\n",
    "\n",
    "# Importando tabla MD_prestamo\n",
    "md_prestamo = spark.table('catalog_lhcl_prod_bcp.bcp_udv_int_vu.m_cuentacreditopersonal')\n",
    "\n",
    "md_prestamo = md_prestamo.select(\n",
    "    col(\"CODCLAVECTA\"),\n",
    "    date_format(col(\"FECCIERRE\"), \"yyyyMM\").cast(\"int\").alias(\"CODMESCIERRE\"),\n",
    "    date_format(col(\"FECCANCELACION\"), \"yyyyMM\").cast(\"int\").alias(\"CODMESCANCEL\")\n",
    ")"
   ]
  },
  {
   "cell_type": "code",
   "execution_count": 0,
   "metadata": {
    "application/vnd.databricks.v1+cell": {
     "cellMetadata": {
      "byteLimit": 2048000,
      "rowLimit": 10000
     },
     "inputWidgets": {},
     "nuid": "c130bdf8-ba81-46f1-9bf9-2b9f347739b6",
     "showTitle": false,
     "tableResultSettingsMap": {},
     "title": ""
    }
   },
   "outputs": [],
   "source": [
    "# Cruce para explorar fechas de cierre y fecha de cancelación\n",
    "duplicados_solicitud_1 = broadcast(duplicados_solicitud).join(\n",
    "    md_prestamo,\n",
    "    on = \"CODCLAVECTA\",\n",
    "    how = \"left\"\n",
    ").select(\n",
    "    \"*\",\n",
    "    coalesce(col(\"CODMESCIERRE\"), lit(999999)).alias(\"CODMESCIERRE_F\"),\n",
    "    coalesce(col(\"CODMESCANCEL\"), lit(999999)).alias(\"CODMESCANCEL_F\")\n",
    ")\n",
    "\n",
    "# Agregar las columnas FLG_CIERRE_CTA, FLG_CANCELADA_CTA y FLG_ELIMINAR\n",
    "duplicados_solicitud_2 = duplicados_solicitud_1.withColumn(\"FLG_CIERRE_CTA\", F.when(F.col(\"CODMESCIERRE_F\") == 999999, 0).otherwise(1)) \\\n",
    "    .withColumn(\"FLG_CANCELADA_CTA\", F.when(F.col(\"CODMESCANCEL_F\") == 999999, 0).otherwise(1)) \\\n",
    "    .withColumn(\"FLG_ELIMINAR\", F.when(F.col(\"CODMESCANCEL_F\") == F.col(\"CODMES\"), 1).otherwise(0))\n",
    "\n",
    "# Crear la tabla DUPLICADOS_SOLICITUD_3\n",
    "duplicados_solicitud_3 = duplicados_solicitud_2.filter(F.col(\"FLG_ELIMINAR\") == 1)"
   ]
  },
  {
   "cell_type": "code",
   "execution_count": 0,
   "metadata": {
    "application/vnd.databricks.v1+cell": {
     "cellMetadata": {
      "byteLimit": 2048000,
      "rowLimit": 10000
     },
     "inputWidgets": {},
     "nuid": "7c3dabfa-825f-49ef-b01e-c0e6a5d76957",
     "showTitle": false,
     "tableResultSettingsMap": {},
     "title": ""
    }
   },
   "outputs": [],
   "source": [
    "# Realizar el join y filtrar las filas donde CODCLAVEOPECTA es nulo en duplicados_solicitud_3\n",
    "base_hip_3 = base_hip_2.alias(\"A\") \\\n",
    "    .join(duplicados_solicitud_3.alias(\"B\"), F.col(\"A.CODCLAVEOPECTA\") == F.col(\"B.CODCLAVEOPECTA\"), \"left\") \\\n",
    "    .filter(F.col(\"B.CODCLAVEOPECTA\").isNull()) \\\n",
    "    .select(\"A.*\")\n",
    "\n",
    "base_hip_3.persist(StorageLevel.MEMORY_AND_DISK).count()\n",
    "\n",
    "# Verificando duplicandos en el segundo Join\n",
    "dup = base_hip_3.groupBy(\"codmes\", \"codclaveopecta\").count().alias(\"count\").filter(col(\"count\")>1)\n",
    "print_res(dup)"
   ]
  },
  {
   "cell_type": "markdown",
   "metadata": {
    "application/vnd.databricks.v1+cell": {
     "cellMetadata": {
      "byteLimit": 2048000,
      "rowLimit": 10000
     },
     "inputWidgets": {},
     "nuid": "a3b437f4-8f6a-442f-8bd8-0a2b58a5b41c",
     "showTitle": false,
     "tableResultSettingsMap": {},
     "title": ""
    }
   },
   "source": [
    "## Gremio"
   ]
  },
  {
   "cell_type": "code",
   "execution_count": 0,
   "metadata": {
    "application/vnd.databricks.v1+cell": {
     "cellMetadata": {
      "byteLimit": 2048000,
      "rowLimit": 10000
     },
     "inputWidgets": {},
     "nuid": "dbbd2b6e-9163-4b9e-9e90-d6ef1d535bf8",
     "showTitle": false,
     "tableResultSettingsMap": {},
     "title": ""
    }
   },
   "outputs": [],
   "source": [
    "!pip install oracledb\n",
    "import oracledb\n",
    "import pandas as pd\n",
    "\n",
    "# Datos de conexión\n",
    "username = \"T39290\"\n",
    "password = \"Vjqgqg$9171#\"\n",
    "dsn = \"130.1.22.91:1521/BCPDW3\"\n",
    "\n",
    "# Configuramos la conexión a oracle\n",
    "connection = oracledb.connect(user=username, password=password, dsn=dsn)\n",
    "\n",
    "# Query de extracción\n",
    "query = \"SELECT * FROM ODS_V.MD_EMPLEADO\"\n",
    "\n",
    "chunks = pd.read_sql(query, connection, chunksize=3000)\n",
    "\n",
    "# Unir todos los chunks en un solo DataFrame\n",
    "md_empleado = pd.concat(chunks)\n",
    "\n",
    "# Cerrar la conexión\n",
    "connection.close()\n",
    "\n",
    "# Resumiendo gremio\n",
    "gremio = md_empleado.groupby('CODCLAVECIC').agg({ 'FECINGRESOEMPLEADO': 'min', 'FECRETIROEMPLEADO': 'max' }).reset_index()\n",
    "gremio['FECINGRESOEMPLEADO_F'] = gremio['FECINGRESOEMPLEADO'].dt.year * 100 + gremio['FECINGRESOEMPLEADO'].dt.month\n",
    "gremio['FECRETIROEMPLEADO_F'] = gremio['FECRETIROEMPLEADO'].dt.year * 100 + gremio['FECRETIROEMPLEADO'].dt.month\n",
    "\n",
    "gremio = spark.createDataFrame(gremio)"
   ]
  },
  {
   "cell_type": "code",
   "execution_count": 0,
   "metadata": {
    "application/vnd.databricks.v1+cell": {
     "cellMetadata": {
      "byteLimit": 2048000,
      "rowLimit": 10000
     },
     "inputWidgets": {},
     "nuid": "b4185c44-b2d7-4f6f-a000-8aef2eb246d2",
     "showTitle": false,
     "tableResultSettingsMap": {},
     "title": ""
    }
   },
   "outputs": [],
   "source": [
    "base_hip_4 = base_hip_3.alias(\"A\") \\\n",
    "    .join(gremio.alias(\"G\"), F.col(\"A.CODCLAVECIC\") == F.col(\"G.CODCLAVECIC\"), \"left\") \\\n",
    "    .select(\n",
    "        \"A.*\",\n",
    "        F.when(F.col(\"G.CODCLAVECIC\").isNull(), 0)\n",
    "         .when((F.col(\"A.CODMES\") >= F.col(\"G.FECINGRESOEMPLEADO_F\")) & \n",
    "               ((F.col(\"A.CODMES\") <= F.col(\"G.FECRETIROEMPLEADO_F\")) | F.col(\"G.FECRETIROEMPLEADO\").isNull()), 1)\n",
    "         .otherwise(0).alias(\"FLG_GREMIO_F\")\n",
    "    )\n",
    "\n",
    "base_hip_4.persist(StorageLevel.MEMORY_AND_DISK).count()\n",
    "\n",
    "# Verificando duplicandos en el segundo Join\n",
    "dup = base_hip_4.groupBy(\"codmes\", \"codclaveopecta\").count().alias(\"count\").filter(col(\"count\")>1)\n",
    "print_res(dup)"
   ]
  },
  {
   "cell_type": "markdown",
   "metadata": {
    "application/vnd.databricks.v1+cell": {
     "cellMetadata": {
      "byteLimit": 2048000,
      "rowLimit": 10000
     },
     "inputWidgets": {},
     "nuid": "4d2a6e8e-cbe8-4e99-9dfb-cd1298fc9059",
     "showTitle": false,
     "tableResultSettingsMap": {},
     "title": ""
    }
   },
   "source": [
    "## Drivers base"
   ]
  },
  {
   "cell_type": "code",
   "execution_count": 0,
   "metadata": {
    "application/vnd.databricks.v1+cell": {
     "cellMetadata": {
      "byteLimit": 2048000,
      "rowLimit": 10000
     },
     "inputWidgets": {},
     "nuid": "2b18ea04-77a4-4230-8965-0f74da088bc2",
     "showTitle": false,
     "tableResultSettingsMap": {},
     "title": ""
    }
   },
   "outputs": [],
   "source": [
    "# Default foto\n",
    "base_hip_4 = base_hip_4.withColumn(\n",
    "    \"DEF_120_BLOQ_REF_0\",\n",
    "    F.when(F.col(\"CODMES\") < F.col(\"MIN_MES_DEF_120_BLOQ_REF_ACT\"), 0).otherwise(1)\n",
    ")\n",
    "\n",
    "# Marca HML\n",
    "base_hip_4 = base_hip_4.withColumn(\n",
    "    \"MARCA_HML_T\",\n",
    "    F.when(F.col(\"MARCA_HML\").isNull(), '99. Missing')\n",
    "     .when(F.col(\"MARCA_HML\").isin('H+', 'H-'), '1. H')\n",
    "     .when(F.col(\"MARCA_HML\").isin('M+', 'M-'), '2. M')\n",
    "     .when(F.col(\"MARCA_HML\").isin('L+', 'L-'), '3. L')\n",
    "     .otherwise('98. Otro')\n",
    ")\n",
    "\n",
    "# Marca segmento banca\n",
    "base_hip_4 = base_hip_4.withColumn(\n",
    "    \"SEGMENTO_BANCA\",\n",
    "    F.when(F.col(\"CODSUBSEGMENTO\").isNull(), '99. Missing')\n",
    "     .when(F.col(\"CODSUBSEGMENTO\") == 'X1N', '1. Bex')\n",
    "     .when(F.col(\"CODSUBSEGMENTO\").isin('P1N', 'LEN'), '2. Enalta/Privada')\n",
    "     .when(F.col(\"CODSUBSEGMENTO\") == 'M1N', '3. Consumo')\n",
    "     .when(F.col(\"CODSUBSEGMENTO\") == 'Q1N', '4. Pyme')\n",
    "     .when(F.col(\"CODSUBSEGMENTO\") == 'NBN', '5. No Banco')\n",
    "     .otherwise('98. Otros')\n",
    ")\n",
    "\n",
    "base_hip_4 = base_hip_4.withColumn(\n",
    "    \"SEGMENTO_BANCA_F\",\n",
    "    F.when(F.col(\"CODSUBSEGMENTO\").isNull(), '99. Missing')\n",
    "     .when(F.col(\"CODSUBSEGMENTO\").isin('X1N', 'P1N', 'LEN'), '1. Afluente')\n",
    "     .when(F.col(\"CODSUBSEGMENTO\").isin('M1N', 'Q1N'), '2. Consumo')\n",
    "     .otherwise('3. Resto')\n",
    ")\n",
    "\n",
    "# Rango de edad\n",
    "base_hip_4 = base_hip_4.withColumn(\n",
    "    \"EDAD_R\",\n",
    "    F.when(F.col(\"EDAD\").isNull(), '99. Missing')\n",
    "     .when(F.col(\"EDAD\") <= 30, '1. [00 - 30]')\n",
    "     .when(F.col(\"EDAD\") <= 35, '2. <30 - 35]')\n",
    "     .when(F.col(\"EDAD\") <= 40, '3. <35 - 40]')\n",
    "     .when(F.col(\"EDAD\") <= 48, '4. <40 - 48]')\n",
    "     .otherwise('5. <48 - ++]')\n",
    ")\n",
    "\n",
    "# Estado civil\n",
    "base_hip_4 = base_hip_4.withColumn(\n",
    "    \"EST_CIVIL_R\",\n",
    "    F.when(F.col(\"TIPESTCIVIL\").isNull(), '99. Missing')\n",
    "     .when(F.col(\"TIPESTCIVIL\") == 'SOL', '1. Soltero')\n",
    "     .when(F.col(\"TIPESTCIVIL\") == 'CAS', '2. Casado')\n",
    "     .otherwise('98. Otros')\n",
    ")\n",
    "\n",
    "# Rango plazo\n",
    "base_hip_4 = base_hip_4.withColumn(\n",
    "    \"PLAZO_R\",\n",
    "    F.when(F.col(\"CTDPLAZOAPROBADO\").isNull(), '99. Missing')\n",
    "     .when(F.col(\"CTDPLAZOAPROBADO\") <= 10, '1. [0 - 10]')\n",
    "     .when(F.col(\"CTDPLAZOAPROBADO\") <= 15, '2. <10 - 15]')\n",
    "     .when(F.col(\"CTDPLAZOAPROBADO\") <= 20, '3. <15 - 20]')\n",
    "     .when(F.col(\"CTDPLAZOAPROBADO\") <= 25, '4. <20 - 25]')\n",
    "     .otherwise('5. <25 - ++]')\n",
    ")\n",
    "\n",
    "# Endeudamiento total en el sistema financiero incluyendo el ingreso del cónyuge\n",
    "base_hip_4 = base_hip_4.withColumn(\n",
    "    \"END_TOT_SF_CY\",\n",
    "    (F.coalesce(F.col(\"DEU_RCC_TC_SBS\"), F.lit(0)) +\n",
    "     F.coalesce(F.col(\"DEU_RCC_CEF_SBS\"), F.lit(0)) +\n",
    "     F.coalesce(F.col(\"DEU_RCC_VEH_SBS\"), F.lit(0)) +\n",
    "     F.coalesce(F.col(\"DEU_RCC_HIP_SBS\"), F.lit(0))) / F.coalesce(F.col(\"INGRESO_SOL_CONY\"), F.lit(1000))\n",
    ")\n",
    "\n",
    "base_hip_4 = base_hip_4.withColumn(\n",
    "    \"END_TOT_SF_CY_R\",\n",
    "    F.when(F.col(\"END_TOT_SF_CY\") == 0, '1. [0]')\n",
    "     .when(F.col(\"END_TOT_SF_CY\") <= 1, '2. <0 - 1]')\n",
    "     .when(F.col(\"END_TOT_SF_CY\") <= 4, '3. <1 - 4]')\n",
    "     .when(F.col(\"END_TOT_SF_CY\") <= 6, '4. <4 - 6]')\n",
    "     .when(F.col(\"END_TOT_SF_CY\") <= 8, '5. <6 - 8]')\n",
    "     .when(F.col(\"END_TOT_SF_CY\") <= 12, '6. <8 - 12]')\n",
    "     .otherwise('7. <12 - ++>')\n",
    ")\n",
    "\n",
    "# Endeudamiento en el sistema financiero con solo ingreso del titular\n",
    "base_hip_4 = base_hip_4.withColumn(\n",
    "    \"END_TOT_SF\",\n",
    "    (F.coalesce(F.col(\"DEUDA_TC_RBM\"), F.lit(0)) +\n",
    "     F.coalesce(F.col(\"DEUDA_CEF_RBM\"), F.lit(0)) +\n",
    "     F.coalesce(F.col(\"DEUDA_VEH_RBM\"), F.lit(0))) / F.coalesce(F.col(\"INGRESO_RBM\"), F.lit(1000))\n",
    ")\n",
    "\n",
    "base_hip_4 = base_hip_4.withColumn(\n",
    "    \"END_TOT_SF_R\",\n",
    "    F.when(F.col(\"END_TOT_SF\") == 0, '1. [0]')\n",
    "     .when(F.col(\"END_TOT_SF\") <= 1, '2. <0 - 1]')\n",
    "     .when(F.col(\"END_TOT_SF\") <= 4, '3. <1 - 4]')\n",
    "     .when(F.col(\"END_TOT_SF\") <= 6, '4. <4 - 6]')\n",
    "     .when(F.col(\"END_TOT_SF\") <= 8, '5. <6 - 8]')\n",
    "     .when(F.col(\"END_TOT_SF\") <= 12, '6. <8 - 12]')\n",
    "     .otherwise('7. <12 - ++>')\n",
    ")\n",
    "\n",
    "# Moneda\n",
    "base_hip_4 = base_hip_4.withColumn(\n",
    "    \"MONEDA\",\n",
    "    F.when(F.col(\"CODMONEDA\").isNull(), '99.Missing')\n",
    "     .when(F.col(\"CODMONEDA\") == '0001', '01. Soles')\n",
    "     .when(F.col(\"CODMONEDA\") == '1001', '02. Dolares')\n",
    ")\n",
    "\n",
    "# Rango ingreso titular\n",
    "base_hip_4 = base_hip_4.withColumn(\n",
    "    \"RAN_ING_TIT\",\n",
    "    F.when(F.col(\"INGRESO_RBM\").isNull(), '99. Missing')\n",
    "     .when(F.col(\"INGRESO_RBM\") <= 2500, '1. [0 - 2,500]')\n",
    "     .when(F.col(\"INGRESO_RBM\") <= 5000, '2. <2,500 - 5,000]')\n",
    "     .when(F.col(\"INGRESO_RBM\") <= 7500, '3. <5,000 - 7,500]')\n",
    "     .when(F.col(\"INGRESO_RBM\") <= 10000, '4. <7,500 - 10,000]')\n",
    "     .when(F.col(\"INGRESO_RBM\") <= 20000, '5. <10,000 - 20,000]')\n",
    "     .otherwise('6. <20,000 - ++>')\n",
    ")\n",
    "\n",
    "# Rango ingreso conyugal\n",
    "base_hip_4 = base_hip_4.withColumn(\n",
    "    \"RAN_ING_CY\",\n",
    "    F.when(F.col(\"INGRESO_SOL_CONY\").isNull(), '99. Missing')\n",
    "     .when(F.col(\"INGRESO_SOL_CONY\") <= 2500, '1. [0 - 2,500]')\n",
    "     .when(F.col(\"INGRESO_SOL_CONY\") <= 5000, '2. <2,500 - 5,000]')\n",
    "     .when(F.col(\"INGRESO_SOL_CONY\") <= 7500, '3. <5,000 - 7,500]')\n",
    "     .when(F.col(\"INGRESO_SOL_CONY\") <= 10000, '4. <7,500 - 10,000]')\n",
    "     .when(F.col(\"INGRESO_SOL_CONY\") <= 20000, '5. <10,000 - 20,000]')\n",
    "     .otherwise('6. <20,000 - ++>')\n",
    ")\n",
    "\n",
    "# Complementando el CAMPANIA_AGRUPADA como lo hace IFRS9\n",
    "base_hip_4 = base_hip_4.withColumn(\n",
    "    \"CAMPANIA_AGRUPADA_NEW\",\n",
    "    F.when(F.col(\"CAMPANIA_AGRUPADA\").isNull() & F.col(\"TIPCREDITO\").isin('HTIV','HVIV', 'HVIC', 'HVIM', 'HBIV', 'HBIC','HSIV', 'HSIC', 'HMIV', 'HMIC', 'HMIM', 'HITP'), 'Ahorro Local')\n",
    "     .when(F.col(\"CAMPANIA_AGRUPADA\").isNull() & F.col(\"TIPCREDITO\").isin('HCPO', 'HIPA', 'HIPD', 'HIPO', 'HIPP','HIPR', 'HIPT', 'HIBS', 'HIBK', 'HREF', 'RHIP', 'HICC', 'HICB', 'HITR', 'HIFS', 'TH01', 'TH02'), 'Tradicional')\n",
    "     .when(F.col(\"TIPCREDITO\").isin('GAHI','GAHP','GAPC'), 'GAHI')\n",
    "     .otherwise(F.col(\"CAMPANIA_AGRUPADA\"))\n",
    ")"
   ]
  },
  {
   "cell_type": "markdown",
   "metadata": {
    "application/vnd.databricks.v1+cell": {
     "cellMetadata": {
      "byteLimit": 2048000,
      "rowLimit": 10000
     },
     "inputWidgets": {},
     "nuid": "1ffb16d7-4d6e-4a01-878f-26ec6e289187",
     "showTitle": false,
     "tableResultSettingsMap": {},
     "title": ""
    }
   },
   "source": [
    "## Incidencias CEF"
   ]
  },
  {
   "cell_type": "code",
   "execution_count": 0,
   "metadata": {
    "application/vnd.databricks.v1+cell": {
     "cellMetadata": {
      "byteLimit": 2048000,
      "rowLimit": 10000
     },
     "inputWidgets": {},
     "nuid": "cb1b93a2-3925-472e-a39d-cf2beff78b2d",
     "showTitle": false,
     "tableResultSettingsMap": {},
     "title": ""
    }
   },
   "outputs": [],
   "source": [
    "incidencias_cef = spark.table('catalog_lhcl_prod_bcp.bcp_edv_fabseg.T45988_INCIDENCIAS_CEF_202504')\n",
    "\n",
    "base_hip_4 = base_hip_4.join(\n",
    "    incidencias_cef.select(\"CODMES\", \"CODCLAVECIC\", F.lit(1).alias(\"FLG_INCIDENCIA\")),\n",
    "    on=[\"CODMES\", \"CODCLAVECIC\"],\n",
    "    how='left'\n",
    ")\n",
    "\n",
    "base_hip_4 = base_hip_4.withColumn(\n",
    "    'FLG_INCIDENCIA', \n",
    "    F.when(base_hip_4['FLG_INCIDENCIA'].isNull(), 0).otherwise(1)\n",
    ")\n",
    "\n",
    "base_hip_4.persist(StorageLevel.MEMORY_AND_DISK).count()\n",
    "\n",
    "dup = base_hip_4.groupBy(\"codmes\", \"codclaveopecta\").count().alias(\"count\").filter(col(\"count\")>1)\n",
    "print_res(dup)"
   ]
  },
  {
   "cell_type": "markdown",
   "metadata": {
    "application/vnd.databricks.v1+cell": {
     "cellMetadata": {
      "byteLimit": 2048000,
      "rowLimit": 10000
     },
     "inputWidgets": {},
     "nuid": "f0964c92-1904-4aa0-840c-f64c85c4cb72",
     "showTitle": false,
     "tableResultSettingsMap": {},
     "title": ""
    }
   },
   "source": [
    "## Tasa y cuota"
   ]
  },
  {
   "cell_type": "code",
   "execution_count": 0,
   "metadata": {
    "application/vnd.databricks.v1+cell": {
     "cellMetadata": {
      "byteLimit": 2048000,
      "rowLimit": 10000
     },
     "inputWidgets": {},
     "nuid": "c888f4e1-4380-4d4f-9cf2-3b0fdb79d903",
     "showTitle": false,
     "tableResultSettingsMap": {},
     "title": ""
    }
   },
   "outputs": [],
   "source": [
    "md_prestamo = spark.table('catalog_lhcl_prod_bcp.bcp_udv_int_vu.m_cuentacreditopersonal')\n",
    "base_hip_5 = base_hip_4.join(\n",
    "    md_prestamo.select(\n",
    "        'codclavecta',\n",
    "        col('pcttasainteresoriginal').alias('PRS_TASA'),\n",
    "        col('ctdcuotaanual').alias('PRS_CUOTA_ANUAL'),\n",
    "        col('ctdmesoriginal').alias('PRS_PLAZO'),\n",
    "        col('mtovalorbien').alias('PRS_ValorComVivienda')\n",
    "    ),\n",
    "    on='codclavecta',\n",
    "    how='left'\n",
    ")\n",
    "\n",
    "base_hip_5.persist(StorageLevel.MEMORY_AND_DISK).count()\n",
    "\n",
    "dup = base_hip_5.groupBy(\"codmes\", \"codclaveopecta\").count().alias(\"count\").filter(col(\"count\")>1)\n",
    "print_res(dup)"
   ]
  },
  {
   "cell_type": "markdown",
   "metadata": {
    "application/vnd.databricks.v1+cell": {
     "cellMetadata": {
      "byteLimit": 2048000,
      "rowLimit": 10000
     },
     "inputWidgets": {},
     "nuid": "fc6027b1-0115-4fb4-bd82-f5e25e2ec58f",
     "showTitle": false,
     "tableResultSettingsMap": {},
     "title": ""
    }
   },
   "source": [
    "## CEM"
   ]
  },
  {
   "cell_type": "code",
   "execution_count": 0,
   "metadata": {
    "application/vnd.databricks.v1+cell": {
     "cellMetadata": {
      "byteLimit": 2048000,
      "rowLimit": 10000
     },
     "inputWidgets": {},
     "nuid": "e73be113-65de-4012-960b-eeb0a685acbf",
     "showTitle": false,
     "tableResultSettingsMap": {},
     "title": ""
    }
   },
   "outputs": [],
   "source": [
    "base_hip_5 = base_hip_5.withColumn(\"CODCLAVEUNICOCLI\", \n",
    "                   when(col(\"CODCLAVECIC\") == 22780207, \"36b6035f939a9a07ad3d57b052367685590ef97d3f23c6851837cb95f3dc57f10082bba27dd0ba3e05a29d8d7651f72b74b8bda2e862b9098e51fcbb8aa2c2ee\")\n",
    "                   .when(col(\"CODCLAVECIC\") == 9111029, \"2f0d282125c78c876d75120067edf198b0c2eacbea149329addb2c659657be0d8e27e9f684f7308c59e7d5cf6ef794673498e7ddf3bc41e73700b034eeebcad6\")\n",
    "                   .otherwise(col(\"CODCLAVEUNICOCLI\")))"
   ]
  },
  {
   "cell_type": "code",
   "execution_count": 0,
   "metadata": {
    "application/vnd.databricks.v1+cell": {
     "cellMetadata": {
      "byteLimit": 2048000,
      "rowLimit": 10000
     },
     "inputWidgets": {},
     "nuid": "eb1b06cc-97ee-440d-b792-26e9937606f8",
     "showTitle": false,
     "tableResultSettingsMap": {},
     "title": ""
    }
   },
   "outputs": [],
   "source": [
    "base_hip_5.createOrReplaceTempView(\"base_hip_5\")\n",
    "base_hip_6 = spark.sql(f\"\"\"\n",
    "     select A.*,\n",
    "     B_0.MTOCEMCLISOL AS MTOCEMCLISOL_0,\n",
    "     B_1.MTOCEMCLISOL AS MTOCEMCLISOL_1,\n",
    "     B_2.MTOCEMCLISOL AS MTOCEMCLISOL_2,\n",
    "     B_3.MTOCEMCLISOL AS MTOCEMCLISOL_3,\n",
    "     B_4.MTOCEMCLISOL AS MTOCEMCLISOL_4,\n",
    "     B_5.MTOCEMCLISOL AS MTOCEMCLISOL_5,\n",
    "     B_6.MTOCEMCLISOL AS MTOCEMCLISOL_6,\n",
    "     B_F3.MTOCEMCLISOL AS MTOCEMCLISOL_F3,\n",
    "     B_F6.MTOCEMCLISOL AS MTOCEMCLISOL_F6,\n",
    "     B_0.MTOCUOTATOTALGARCGTESOL AS MTOCUOTATOTALGARCGTESOL_0,\n",
    "     B_1.MTOCUOTATOTALGARCGTESOL AS MTOCUOTATOTALGARCGTESOL_1,\n",
    "     B_2.MTOCUOTATOTALGARCGTESOL AS MTOCUOTATOTALGARCGTESOL_2,\n",
    "     B_3.MTOCUOTATOTALGARCGTESOL AS MTOCUOTATOTALGARCGTESOL_3,\n",
    "     B_4.MTOCUOTATOTALGARCGTESOL AS MTOCUOTATOTALGARCGTESOL_4,\n",
    "     B_5.MTOCUOTATOTALGARCGTESOL AS MTOCUOTATOTALGARCGTESOL_5,\n",
    "     B_6.MTOCUOTATOTALGARCGTESOL AS MTOCUOTATOTALGARCGTESOL_6,\n",
    "     B_F3.MTOCUOTATOTALGARCGTESOL AS MTOCUOTATOTALGARCGTESOL_F3,\n",
    "     B_F6.MTOCUOTATOTALGARCGTESOL AS MTOCUOTATOTALGARCGTESOL_F6,\n",
    "     B_0.MTOAJUSTADOBCISOL AS MTOAJUSTADOBCISOL_0,\n",
    "     B_1.MTOAJUSTADOBCISOL AS MTOAJUSTADOBCISOL_1,\n",
    "     B_2.MTOAJUSTADOBCISOL AS MTOAJUSTADOBCISOL_2,\n",
    "     B_3.MTOAJUSTADOBCISOL AS MTOAJUSTADOBCISOL_3,\n",
    "     B_4.MTOAJUSTADOBCISOL AS MTOAJUSTADOBCISOL_4,\n",
    "     B_5.MTOAJUSTADOBCISOL AS MTOAJUSTADOBCISOL_5,\n",
    "     B_6.MTOAJUSTADOBCISOL AS MTOAJUSTADOBCISOL_6,\n",
    "     B_0.MTOCUOTACEFBCPSOL AS MTOCUOTACEFBCPSOL_0,\n",
    "     B_1.MTOCUOTACEFBCPSOL AS MTOCUOTACEFBCPSOL_1,\n",
    "     B_2.MTOCUOTACEFBCPSOL AS MTOCUOTACEFBCPSOL_2,\n",
    "     B_3.MTOCUOTACEFBCPSOL AS MTOCUOTACEFBCPSOL_3,\n",
    "     B_4.MTOCUOTACEFBCPSOL AS MTOCUOTACEFBCPSOL_4,\n",
    "     B_5.MTOCUOTACEFBCPSOL AS MTOCUOTACEFBCPSOL_5,\n",
    "     B_6.MTOCUOTACEFBCPSOL AS MTOCUOTACEFBCPSOL_6,\n",
    "     B_F3.MTOCUOTACEFBCPSOL AS MTOCUOTACEFBCPSOL_F3,\n",
    "     B_F6.MTOCUOTACEFBCPSOL AS MTOCUOTACEFBCPSOL_F6,\n",
    "     B_0.MTOCUOTACEFBCPSOL AS MTOCUOTATCBCPSOL_0,\n",
    "     B_1.MTOCUOTACEFBCPSOL AS MTOCUOTATCBCPSOL_1,\n",
    "     B_2.MTOCUOTACEFBCPSOL AS MTOCUOTATCBCPSOL_2,\n",
    "     B_3.MTOCUOTACEFBCPSOL AS MTOCUOTATCBCPSOL_3,\n",
    "     B_4.MTOCUOTACEFBCPSOL AS MTOCUOTATCBCPSOL_4,\n",
    "     B_5.MTOCUOTACEFBCPSOL AS MTOCUOTATCBCPSOL_5,\n",
    "     B_6.MTOCUOTACEFBCPSOL AS MTOCUOTATCBCPSOL_6,\n",
    "     B_0.MTOCUOTATOTALBCPSOL AS MTOCUOTATOTALBCPSOL_0,\n",
    "     B_1.MTOCUOTATOTALBCPSOL AS MTOCUOTATOTALBCPSOL_1,\n",
    "     B_2.MTOCUOTATOTALBCPSOL AS MTOCUOTATOTALBCPSOL_2,\n",
    "     B_3.MTOCUOTATOTALBCPSOL AS MTOCUOTATOTALBCPSOL_3,\n",
    "     B_4.MTOCUOTATOTALBCPSOL AS MTOCUOTATOTALBCPSOL_4,\n",
    "     B_5.MTOCUOTATOTALBCPSOL AS MTOCUOTATOTALBCPSOL_5,\n",
    "     B_6.MTOCUOTATOTALBCPSOL AS MTOCUOTATOTALBCPSOL_6,\n",
    "     B_0.MTOCUOTAESTIMADOCEFSBSSINBCPSOL AS MTOCUOTAESTIMADOCEFSBSSINBCPSOL_0,\n",
    "     B_1.MTOCUOTAESTIMADOCEFSBSSINBCPSOL AS MTOCUOTAESTIMADOCEFSBSSINBCPSOL_1,\n",
    "     B_2.MTOCUOTAESTIMADOCEFSBSSINBCPSOL AS MTOCUOTAESTIMADOCEFSBSSINBCPSOL_2,\n",
    "     B_3.MTOCUOTAESTIMADOCEFSBSSINBCPSOL AS MTOCUOTAESTIMADOCEFSBSSINBCPSOL_3,\n",
    "     B_4.MTOCUOTAESTIMADOCEFSBSSINBCPSOL AS MTOCUOTAESTIMADOCEFSBSSINBCPSOL_4,\n",
    "     B_5.MTOCUOTAESTIMADOCEFSBSSINBCPSOL AS MTOCUOTAESTIMADOCEFSBSSINBCPSOL_5,\n",
    "     B_6.MTOCUOTAESTIMADOCEFSBSSINBCPSOL AS MTOCUOTAESTIMADOCEFSBSSINBCPSOL_6,\n",
    "     B_0.MTOCUOTAESTIMADOTCSBSSINBCPSOL AS MTOCUOTAESTIMADOTCSBSSINBCPSOL_0,\n",
    "     B_1.MTOCUOTAESTIMADOTCSBSSINBCPSOL AS MTOCUOTAESTIMADOTCSBSSINBCPSOL_1,\n",
    "     B_2.MTOCUOTAESTIMADOTCSBSSINBCPSOL AS MTOCUOTAESTIMADOTCSBSSINBCPSOL_2,\n",
    "     B_3.MTOCUOTAESTIMADOTCSBSSINBCPSOL AS MTOCUOTAESTIMADOTCSBSSINBCPSOL_3,\n",
    "     B_4.MTOCUOTAESTIMADOTCSBSSINBCPSOL AS MTOCUOTAESTIMADOTCSBSSINBCPSOL_4,\n",
    "     B_5.MTOCUOTAESTIMADOTCSBSSINBCPSOL AS MTOCUOTAESTIMADOTCSBSSINBCPSOL_5,\n",
    "     B_6.MTOCUOTAESTIMADOTCSBSSINBCPSOL AS MTOCUOTAESTIMADOTCSBSSINBCPSOL_6,\n",
    "     B_0.MTOCUOTAVEHICULARBCPSOL AS MTOCUOTAVEHICULARBCPSOL_0,\n",
    "     B_1.MTOCUOTAVEHICULARBCPSOL AS MTOCUOTAVEHICULARBCPSOL_1,\n",
    "     B_2.MTOCUOTAVEHICULARBCPSOL AS MTOCUOTAVEHICULARBCPSOL_2,\n",
    "     B_3.MTOCUOTAVEHICULARBCPSOL AS MTOCUOTAVEHICULARBCPSOL_3,\n",
    "     B_4.MTOCUOTAVEHICULARBCPSOL AS MTOCUOTAVEHICULARBCPSOL_4,\n",
    "     B_5.MTOCUOTAVEHICULARBCPSOL AS MTOCUOTAVEHICULARBCPSOL_5,\n",
    "     B_6.MTOCUOTAVEHICULARBCPSOL AS MTOCUOTAVEHICULARBCPSOL_6,\n",
    "     B_0.MTOCUOTAHIPOTECARIOBCPSOL AS MTOCUOTAHIPOTECARIOBCPSOL_0,\n",
    "     B_1.MTOCUOTAHIPOTECARIOBCPSOL AS MTOCUOTAHIPOTECARIOBCPSOL_1,\n",
    "     B_2.MTOCUOTAHIPOTECARIOBCPSOL AS MTOCUOTAHIPOTECARIOBCPSOL_2,\n",
    "     B_3.MTOCUOTAHIPOTECARIOBCPSOL AS MTOCUOTAHIPOTECARIOBCPSOL_3,\n",
    "     B_4.MTOCUOTAHIPOTECARIOBCPSOL AS MTOCUOTAHIPOTECARIOBCPSOL_4,\n",
    "     B_5.MTOCUOTAHIPOTECARIOBCPSOL AS MTOCUOTAHIPOTECARIOBCPSOL_5,\n",
    "     B_6.MTOCUOTAHIPOTECARIOBCPSOL AS MTOCUOTAHIPOTECARIOBCPSOL_6,\n",
    "     B_0.MTOCUOTAVIVIENDABCPSOL AS MTOCUOTAVIVIENDABCPSOL_0,\n",
    "     B_1.MTOCUOTAVIVIENDABCPSOL AS MTOCUOTAVIVIENDABCPSOL_1,\n",
    "     B_2.MTOCUOTAVIVIENDABCPSOL AS MTOCUOTAVIVIENDABCPSOL_2,\n",
    "     B_3.MTOCUOTAVIVIENDABCPSOL AS MTOCUOTAVIVIENDABCPSOL_3,\n",
    "     B_4.MTOCUOTAVIVIENDABCPSOL AS MTOCUOTAVIVIENDABCPSOL_4,\n",
    "     B_5.MTOCUOTAVIVIENDABCPSOL AS MTOCUOTAVIVIENDABCPSOL_5,\n",
    "     B_6.MTOCUOTAVIVIENDABCPSOL AS MTOCUOTAVIVIENDABCPSOL_6,\n",
    "     B_0.MTOCUOTALTOTALSBSSINBCPSOL AS MTOCUOTALTOTALSBSSINBCPSOL_0,\n",
    "     B_1.MTOCUOTALTOTALSBSSINBCPSOL AS MTOCUOTALTOTALSBSSINBCPSOL_1,\n",
    "     B_2.MTOCUOTALTOTALSBSSINBCPSOL AS MTOCUOTALTOTALSBSSINBCPSOL_2,\n",
    "     B_3.MTOCUOTALTOTALSBSSINBCPSOL AS MTOCUOTALTOTALSBSSINBCPSOL_3,\n",
    "     B_4.MTOCUOTALTOTALSBSSINBCPSOL AS MTOCUOTALTOTALSBSSINBCPSOL_4,\n",
    "     B_5.MTOCUOTALTOTALSBSSINBCPSOL AS MTOCUOTALTOTALSBSSINBCPSOL_5,\n",
    "     B_6.MTOCUOTALTOTALSBSSINBCPSOL AS MTOCUOTALTOTALSBSSINBCPSOL_6\n",
    "     from base_hip_5 as a\n",
    "     left join catalog_lhcl_prod_bcp.bcp_ddv_rbmrbmper_fuenteinfocli_vu.hm_clientecemrbm as b_0\n",
    "         on trim(a.CODCLAVEUNICOCLI)=trim(b_0.CODCLAVEUNICOCLI) and a.CODMES=b_0.CODMES\n",
    "     left join catalog_lhcl_prod_bcp.bcp_ddv_rbmrbmper_fuenteinfocli_vu.hm_clientecemrbm as b_1\n",
    "         on trim(a.CODCLAVEUNICOCLI)=trim(b_1.CODCLAVEUNICOCLI) and\n",
    "         DATE_ADD(MONTH, -1, CAST(CONCAT(SUBSTRING(a.CODMES, 1, 4), '-', SUBSTRING(a.CODMES, 5, 2), '-01') AS DATE)) =CONCAT(SUBSTRING(b_1.CODMES, 1, 4), '-', SUBSTRING(b_1.CODMES, 5, 2), '-01')\n",
    "     left join catalog_lhcl_prod_bcp.bcp_ddv_rbmrbmper_fuenteinfocli_vu.hm_clientecemrbm as b_2\n",
    "         on trim(a.CODCLAVEUNICOCLI)=trim(b_2.CODCLAVEUNICOCLI) and\n",
    "         DATE_ADD(MONTH, -2, CAST(CONCAT(SUBSTRING(a.CODMES, 1, 4), '-', SUBSTRING(a.CODMES, 5, 2), '-01') AS DATE)) =CONCAT(SUBSTRING(b_2.CODMES, 1, 4), '-', SUBSTRING(b_2.CODMES, 5, 2), '-01')\n",
    "     left join catalog_lhcl_prod_bcp.bcp_ddv_rbmrbmper_fuenteinfocli_vu.hm_clientecemrbm as b_3\n",
    "         on trim(a.CODCLAVEUNICOCLI)=trim(b_3.CODCLAVEUNICOCLI) and\n",
    "         DATE_ADD(MONTH, -3, CAST(CONCAT(SUBSTRING(a.CODMES, 1, 4), '-', SUBSTRING(a.CODMES, 5, 2), '-01') AS DATE)) =CONCAT(SUBSTRING(b_3.CODMES, 1, 4), '-', SUBSTRING(b_3.CODMES, 5, 2), '-01')\n",
    "     left join catalog_lhcl_prod_bcp.bcp_ddv_rbmrbmper_fuenteinfocli_vu.hm_clientecemrbm as b_4\n",
    "         on trim(a.CODCLAVEUNICOCLI)=trim(b_4.CODCLAVEUNICOCLI) and\n",
    "         DATE_ADD(MONTH, -4, CAST(CONCAT(SUBSTRING(a.CODMES, 1, 4), '-', SUBSTRING(a.CODMES, 5, 2), '-01') AS DATE)) =CONCAT(SUBSTRING(b_4.CODMES, 1, 4), '-', SUBSTRING(b_4.CODMES, 5, 2), '-01')\n",
    "     left join catalog_lhcl_prod_bcp.bcp_ddv_rbmrbmper_fuenteinfocli_vu.hm_clientecemrbm as b_5\n",
    "         on trim(a.CODCLAVEUNICOCLI)=trim(b_5.CODCLAVEUNICOCLI) and\n",
    "         DATE_ADD(MONTH, -5, CAST(CONCAT(SUBSTRING(a.CODMES, 1, 4), '-', SUBSTRING(a.CODMES, 5, 2), '-01') AS DATE)) =CONCAT(SUBSTRING(b_5.CODMES, 1, 4), '-', SUBSTRING(b_5.CODMES, 5, 2), '-01')\n",
    "     left join catalog_lhcl_prod_bcp.bcp_ddv_rbmrbmper_fuenteinfocli_vu.hm_clientecemrbm as b_6\n",
    "         on trim(a.CODCLAVEUNICOCLI)=trim(b_6.CODCLAVEUNICOCLI) and\n",
    "         DATE_ADD(MONTH, -6, CAST(CONCAT(SUBSTRING(a.CODMES, 1, 4), '-', SUBSTRING(a.CODMES, 5, 2), '-01') AS DATE)) =CONCAT(SUBSTRING(b_6.CODMES, 1, 4), '-', SUBSTRING(b_6.CODMES, 5, 2), '-01')\n",
    "     left join catalog_lhcl_prod_bcp.bcp_ddv_rbmrbmper_fuenteinfocli_vu.hm_clientecemrbm as b_F3\n",
    "         on trim(a.CODCLAVEUNICOCLI)=trim(b_F3.CODCLAVEUNICOCLI) and\n",
    "         DATE_ADD(MONTH, 3, CAST(CONCAT(SUBSTRING(a.CODMES, 1, 4), '-', SUBSTRING(a.CODMES, 5, 2), '-01') AS DATE)) =CONCAT(SUBSTRING(b_F3.CODMES, 1, 4), '-', SUBSTRING(b_F3.CODMES, 5, 2), '-01')\n",
    "     left join catalog_lhcl_prod_bcp.bcp_ddv_rbmrbmper_fuenteinfocli_vu.hm_clientecemrbm as b_F6\n",
    "         on trim(a.CODCLAVEUNICOCLI)=trim(b_F6.CODCLAVEUNICOCLI) and\n",
    "         DATE_ADD(MONTH, 6, CAST(CONCAT(SUBSTRING(a.CODMES, 1, 4), '-', SUBSTRING(a.CODMES, 5, 2), '-01') AS DATE)) =CONCAT(SUBSTRING(b_F6.CODMES, 1, 4), '-', SUBSTRING(b_F6.CODMES, 5, 2), '-01')  \n",
    "     ;\n",
    " \"\"\")\n",
    "\n",
    "base_hip_6.persist(StorageLevel.MEMORY_AND_DISK).count()\n",
    "\n",
    "dup = base_hip_6.groupBy(\"codclaveopecta\").count().alias(\"count\").filter(col(\"count\")>1)\n",
    "print_res(dup)"
   ]
  },
  {
   "cell_type": "markdown",
   "metadata": {
    "application/vnd.databricks.v1+cell": {
     "cellMetadata": {
      "byteLimit": 2048000,
      "rowLimit": 10000
     },
     "inputWidgets": {},
     "nuid": "3af061bb-0cab-4ea9-827f-a6cc120cef06",
     "showTitle": false,
     "tableResultSettingsMap": {},
     "title": ""
    }
   },
   "source": [
    "# Info salesforce"
   ]
  },
  {
   "cell_type": "markdown",
   "metadata": {
    "application/vnd.databricks.v1+cell": {
     "cellMetadata": {
      "byteLimit": 2048000,
      "rowLimit": 10000
     },
     "inputWidgets": {},
     "nuid": "466def28-52e7-4026-bff6-18143840f56a",
     "showTitle": false,
     "tableResultSettingsMap": {},
     "title": ""
    }
   },
   "source": [
    "## Créditos hipotecarios cloud"
   ]
  },
  {
   "cell_type": "code",
   "execution_count": 0,
   "metadata": {
    "application/vnd.databricks.v1+cell": {
     "cellMetadata": {
      "byteLimit": 2048000,
      "rowLimit": 10000
     },
     "inputWidgets": {},
     "nuid": "0c46d950-6e88-4741-9910-f805ee2a6e8a",
     "showTitle": false,
     "tableResultSettingsMap": {},
     "title": ""
    }
   },
   "outputs": [],
   "source": [
    "from pyspark.sql.functions import date_format, concat, lit, lpad\n",
    "\n",
    "sol_credit = spark.table(\"catalog_lhcl_prod_bcp.bcp_udv_int_vu.m_solicitudcreditohipotecario\")\n",
    "\n",
    "sol_credit_fin = sol_credit.filter(\n",
    "    \"desactividadhipotecario IN ('EMISION MEDIO DE PAGO', 'DESEMBOLSO')\"\n",
    ").select(\n",
    "#    date_format(sol_credit.fecdesembolso, 'yyyyMM').alias('codmes'),\n",
    "    sol_credit.desgradosostenibilidad,\n",
    "    sol_credit.mtovalorcomercialinmueble,\n",
    "    sol_credit.numscoreclititularappriesgo,\n",
    "    sol_credit.destipcreditohipotecario,\n",
    "    sol_credit.pctfinanciado,\n",
    "    sol_credit.codsolicitudappriesgo,\n",
    "    sol_credit.fecsolicitud,\n",
    "    sol_credit.desactividadhipotecario,\n",
    "    concat(lit('2'), lpad(sol_credit.codsolicitud, 10, '0')).alias('codsolicitud_nue')\n",
    ").distinct()\n",
    "\n",
    "sol_credit_fin.persist(StorageLevel.MEMORY_AND_DISK).count()"
   ]
  },
  {
   "cell_type": "code",
   "execution_count": 0,
   "metadata": {
    "application/vnd.databricks.v1+cell": {
     "cellMetadata": {
      "byteLimit": 2048000,
      "rowLimit": 10000
     },
     "inputWidgets": {},
     "nuid": "9b5c34dc-ebe4-48f9-a71f-60f4124ec8fa",
     "showTitle": false,
     "tableResultSettingsMap": {},
     "title": ""
    }
   },
   "outputs": [],
   "source": [
    "base_hip_6 = base_hip_6.join(\n",
    "    sol_credit_fin.select(\n",
    "        col(\"codsolicitud_nue\").alias(\"codsolicitud\"),\n",
    "        col(\"pctfinanciado\").alias(\"CSOL_LTV\"),\n",
    "        col(\"desgradosostenibilidad\").alias(\"CSOL_GradoSostenibilidad\"),\n",
    "        col(\"numscoreclititularappriesgo\").alias(\"CSOL_SC_RBM\"),\n",
    "        col(\"destipcreditohipotecario\").alias(\"CSOL_tipcredito\"),\n",
    "        col(\"mtovalorcomercialinmueble\").alias(\"CSOL_ValorComVivienda\"),\n",
    "        col(\"codsolicitudappriesgo\"),\n",
    "        col(\"fecsolicitud\").alias(\"CSOL_FEC_SOL\"),\n",
    "        col(\"desactividadhipotecario\").alias(\"ACT_HIP\")\n",
    "    ),\n",
    "    on=\"codsolicitud\",\n",
    "    how='left'\n",
    ")\n",
    "\n",
    "base_hip_6.persist(StorageLevel.MEMORY_AND_DISK).count()\n",
    "\n",
    "dup = base_hip_6.groupBy(\"codclaveopecta\").count().alias(\"count\").filter(col(\"count\")>1)\n",
    "print_res(dup)"
   ]
  },
  {
   "cell_type": "code",
   "execution_count": 0,
   "metadata": {
    "application/vnd.databricks.v1+cell": {
     "cellMetadata": {
      "byteLimit": 2048000,
      "rowLimit": 10000
     },
     "inputWidgets": {},
     "nuid": "b2145989-1596-4d2a-9d13-b5a52f816f36",
     "showTitle": false,
     "tableResultSettingsMap": {},
     "title": ""
    }
   },
   "outputs": [],
   "source": [
    "from pyspark.sql.functions import col, exp\n",
    "\n",
    "base_hip_6 = base_hip_6.withColumn(\"CSOL_XB_RBM\", (174.25 - col(\"CSOL_SC_RBM\")) / 57.708) \\\n",
    "                       .withColumn(\"CSOL_PD_RBM\", 1 / (1 + exp(-col(\"CSOL_XB_RBM\"))))\n",
    "\n",
    "#Definicion de pasa pauta con excepciones\n",
    "base_hip_6 = base_hip_6.withColumn(\n",
    "    \"FLG_PAUTA_VIV\",\n",
    "    F.when(\n",
    "        (F.col(\"TIPO_FONDEO\") != \"FONDEO MVIV\") | F.col(\"CODCLAVECIC\").isNull(), None\n",
    "    ).when(\n",
    "        (F.col(\"CSOL_ValorComVivienda\").between(61200, 218100)) & \n",
    "        (F.col(\"CSOL_GradoSostenibilidad\") == \"NINGUNO\") & \n",
    "        (F.col(\"CSOL_SC_RBM\").between(336, 385)), 1\n",
    "    ).when(\n",
    "        (F.col(\"CSOL_GradoSostenibilidad\").isin(\"GRADO 1\", \"GRADO 2\", \"GRADO 3\")) & \n",
    "        (F.col(\"CSOL_SC_RBM\").between(336, 385)), 1\n",
    "    ).when(\n",
    "        F.col(\"CSOL_SC_RBM\") >= 386, 1\n",
    "    ).otherwise(0)\n",
    ")"
   ]
  },
  {
   "cell_type": "markdown",
   "metadata": {
    "application/vnd.databricks.v1+cell": {
     "cellMetadata": {
      "byteLimit": 2048000,
      "rowLimit": 10000
     },
     "inputWidgets": {},
     "nuid": "a63b7484-efd6-46b5-ab1e-859cdacdce98",
     "showTitle": false,
     "tableResultSettingsMap": {},
     "title": ""
    }
   },
   "source": [
    "## Variables en fuente productiva cloud"
   ]
  },
  {
   "cell_type": "code",
   "execution_count": 0,
   "metadata": {
    "application/vnd.databricks.v1+cell": {
     "cellMetadata": {
      "byteLimit": 2048000,
      "rowLimit": 10000
     },
     "inputWidgets": {},
     "nuid": "cb04a3ba-73e8-4d30-84a7-a49ef1dd3239",
     "showTitle": false,
     "tableResultSettingsMap": {},
     "title": ""
    }
   },
   "outputs": [],
   "source": [
    "rbm_nueva_fuente = spark.sql(\"\"\"\n",
    "    SELECT DISTINCT \n",
    "        codsolicitudcredito AS codsolicitud, \n",
    "        pctfinanciamientocredito AS NFT_LTV, \n",
    "        ctdanioplazoaprobado as NFT_PLAZO,\n",
    "        mtoingresoconyuguesol as NFT_IngresoConyuge,\n",
    "        mtoingresotitularsol  as NFT_IngresoTitular,\n",
    "        desdistritoinmueble  as NFT_distritoinmueble, \n",
    "        desprovinciainmueble   as NFT_provinciainmueble,\n",
    "        desdepartamentoinmueble as NFT_departamentoinmueble,\n",
    "        desestadosolicitudcreditohipotecariorbm as NFT_estadosolicitud, \n",
    "        destipgrupocampaniasolicitudcreditocalibradorbm as NFT_grupocampania,\n",
    "        codclavepartyemp as NFT_codclavepartyemp\n",
    "    FROM catalog_lhcl_prod_bcp.bcp_ddv_rbmrbmper_solicitudch_vu.hm_solicitudcreditohipotecariorbm\n",
    "    WHERE fecactualizacionregistro = (\n",
    "        SELECT MAX(fecactualizacionregistro)\n",
    "        FROM catalog_lhcl_prod_bcp.bcp_ddv_rbmrbmper_solicitudch_vu.hm_solicitudcreditohipotecariorbm\n",
    "    )\n",
    "\"\"\")\n",
    "\n",
    "rbm_nueva_fuente.persist(StorageLevel.MEMORY_AND_DISK).count()\n",
    "\n",
    "dup = rbm_nueva_fuente.groupBy(\"codsolicitud\").count().alias(\"count\").filter(col(\"count\")>1)\n",
    "print_res(dup)"
   ]
  },
  {
   "cell_type": "code",
   "execution_count": 0,
   "metadata": {
    "application/vnd.databricks.v1+cell": {
     "cellMetadata": {
      "byteLimit": 2048000,
      "rowLimit": 10000
     },
     "inputWidgets": {},
     "nuid": "ca4f30a0-0382-4491-8d85-7842c4ed34ec",
     "showTitle": false,
     "tableResultSettingsMap": {},
     "title": ""
    }
   },
   "outputs": [],
   "source": [
    "# Pegando variables demográficas de la nueva fuente\n",
    "base_hip_7 = base_hip_6.join(\n",
    "    rbm_nueva_fuente.selectExpr(\"codsolicitud\",\"NFT_LTV\",\"NFT_PLAZO\", \"NFT_IngresoConyuge\", \"NFT_IngresoTitular\",  \"NFT_distritoinmueble\",  \"NFT_provinciainmueble\", \"NFT_departamentoinmueble\", \"NFT_estadosolicitud\", \"NFT_grupocampania\"),\n",
    "    on = [\"codsolicitud\"],\n",
    "    how = 'left'\n",
    ")\n",
    "\n",
    "base_hip_7.persist(StorageLevel.MEMORY_AND_DISK).count()\n",
    "\n",
    "dup = base_hip_7.groupBy(\"codclaveopecta\").count().alias(\"count\").filter(col(\"count\")>1)\n",
    "print_res(dup)"
   ]
  },
  {
   "cell_type": "markdown",
   "metadata": {
    "application/vnd.databricks.v1+cell": {
     "cellMetadata": {
      "byteLimit": 2048000,
      "rowLimit": 10000
     },
     "inputWidgets": {},
     "nuid": "9cae6a6d-f2b6-4d40-b6cf-056888642e7c",
     "showTitle": false,
     "tableResultSettingsMap": {},
     "title": ""
    }
   },
   "source": [
    "## Suite Cloud"
   ]
  },
  {
   "cell_type": "code",
   "execution_count": 0,
   "metadata": {
    "application/vnd.databricks.v1+cell": {
     "cellMetadata": {
      "byteLimit": 2048000,
      "rowLimit": 10000
     },
     "inputWidgets": {},
     "nuid": "406a855d-d896-4520-804b-f6fd3e1708e5",
     "showTitle": false,
     "tableResultSettingsMap": {},
     "title": ""
    }
   },
   "outputs": [],
   "source": [
    "# Titular\n",
    "suite_titular = spark.sql(\"\"\"\n",
    "    SELECT a.*\n",
    "    FROM catalog_lhcl_prod_bcp.bcp_ddv_rbmrbmper_reportlogevaluacion_vu.hd_personasolicitudevaluacioncreditohipoticariorbmper a\n",
    "    INNER JOIN (\n",
    "        SELECT numsecuencialsolicitudcreditohipotecario, MAX(fecrutina) AS max_fecrutina\n",
    "        FROM catalog_lhcl_prod_bcp.bcp_ddv_rbmrbmper_reportlogevaluacion_vu.hd_personasolicitudevaluacioncreditohipoticariorbmper \n",
    "        WHERE destiporelacionadoevaluacion = 'TITULAR'\n",
    "        GROUP BY numsecuencialsolicitudcreditohipotecario\n",
    "    ) b\n",
    "    ON a.numsecuencialsolicitudcreditohipotecario = b.numsecuencialsolicitudcreditohipotecario AND a.fecrutina = b.max_fecrutina\n",
    "    WHERE a.destiporelacionadoevaluacion = 'TITULAR'\n",
    "\"\"\")\n",
    "\n",
    "suite_titular.persist(StorageLevel.MEMORY_AND_DISK).count()\n",
    "\n",
    "# Conyuge\n",
    "suite_conyuge = spark.sql(\"\"\"\n",
    "    SELECT a.*\n",
    "    FROM catalog_lhcl_prod_bcp.bcp_ddv_rbmrbmper_reportlogevaluacion_vu.hd_personasolicitudevaluacioncreditohipoticariorbmper a\n",
    "    INNER JOIN (\n",
    "        SELECT numsecuencialsolicitudcreditohipotecario, MAX(fecrutina) AS max_fecrutina\n",
    "        FROM catalog_lhcl_prod_bcp.bcp_ddv_rbmrbmper_reportlogevaluacion_vu.hd_personasolicitudevaluacioncreditohipoticariorbmper \n",
    "        WHERE destiporelacionadoevaluacion = 'CONYUGE'\n",
    "        GROUP BY numsecuencialsolicitudcreditohipotecario\n",
    "    ) b\n",
    "    ON a.numsecuencialsolicitudcreditohipotecario = b.numsecuencialsolicitudcreditohipotecario AND a.fecrutina = b.max_fecrutina\n",
    "    WHERE a.destiporelacionadoevaluacion = 'CONYUGE'\n",
    "\"\"\")\n",
    "\n",
    "suite_conyuge.persist(StorageLevel.MEMORY_AND_DISK).count()"
   ]
  },
  {
   "cell_type": "code",
   "execution_count": 0,
   "metadata": {
    "application/vnd.databricks.v1+cell": {
     "cellMetadata": {
      "byteLimit": 2048000,
      "rowLimit": 10000
     },
     "inputWidgets": {},
     "nuid": "9971f109-fb89-4674-b995-d31b0ac46118",
     "showTitle": false,
     "tableResultSettingsMap": {},
     "title": ""
    }
   },
   "outputs": [],
   "source": [
    "ver = spark.table('catalog_lhcl_prod_bcp.bcp_ddv_rbmrbmper_reportlogevaluacion_vu.hd_personasolicitudevaluacioncreditohipoticariorbmper')"
   ]
  },
  {
   "cell_type": "code",
   "execution_count": 0,
   "metadata": {
    "application/vnd.databricks.v1+cell": {
     "cellMetadata": {
      "byteLimit": 2048000,
      "rowLimit": 10000
     },
     "inputWidgets": {},
     "nuid": "15438730-d507-4d85-b418-c80773e6a2e9",
     "showTitle": false,
     "tableResultSettingsMap": {},
     "title": ""
    }
   },
   "outputs": [],
   "source": [
    "base_hip_8 = base_hip_7.join(\n",
    "    suite_titular.selectExpr(\n",
    "        \"tipestadocivil as SUITE_Estcivil\",\n",
    "        \"fecnacimiento as SUITE_Fecnacimiento\",\n",
    "        \"fecingresolaboral  as SUITE_Fecingresolaboral\",\n",
    "        \"numsecuencialsolicitudcreditohipotecario as codsolicitudappriesgo\",\n",
    "        \"desdistrito as SUITE_desdistrito\",\"fecdia as SUITE_fecdia\",\n",
    "        \"desprovincia as SUITE_desprovincia\",\n",
    "        \"desdepartamento as SUITE_desdepartamento\",\n",
    "        \"codinternocomputacionalempleador\",\n",
    "        \"codclaveunicocliempleador\",\n",
    "        \"codclavepartycliempleador\"\n",
    "    ),\n",
    "    on = [\"codsolicitudappriesgo\"],\n",
    "    how = 'left'\n",
    ")\n",
    "\n",
    "base_hip_8.persist(StorageLevel.MEMORY_AND_DISK).count()\n",
    "\n",
    "dup = base_hip_8.groupBy(\"codclaveopecta\").count().alias(\"count\").filter(col(\"count\")>1)\n",
    "print_res(dup)"
   ]
  },
  {
   "cell_type": "markdown",
   "metadata": {
    "application/vnd.databricks.v1+cell": {
     "cellMetadata": {
      "byteLimit": 2048000,
      "rowLimit": 10000
     },
     "inputWidgets": {},
     "nuid": "3bb13aaf-1a6f-4089-8a00-6bfe2a4dfa9f",
     "showTitle": false,
     "tableResultSettingsMap": {},
     "title": ""
    }
   },
   "source": [
    "## Excepciones"
   ]
  },
  {
   "cell_type": "code",
   "execution_count": 0,
   "metadata": {
    "application/vnd.databricks.v1+cell": {
     "cellMetadata": {
      "byteLimit": 2048000,
      "rowLimit": 10000
     },
     "inputWidgets": {},
     "nuid": "3348854c-8649-4376-b39e-4e9e113b43d9",
     "showTitle": false,
     "tableResultSettingsMap": {},
     "title": ""
    }
   },
   "outputs": [],
   "source": [
    "# Excepciones historicas\n",
    "base_excepciones_hist = spark.sql(\"select distinct Nombre,Tipo_excepcion from catalog_lhcl_prod_bcp.bcp_edv_fabseg.T45988_HM_EXCEPCIONES_HIPOTECARIO where ID_Excepcion is not null and Nombre is not null\")\n",
    "\n",
    "# Excepciones Marzo\n",
    "base_excepciones_actual = spark.sql(\"select distinct Nombre,`Tipo de excepci�n`as Tipo_excepcion from catalog_lhcl_prod_bcp.bcp_edv_fabseg.T45988_HM_EXCEPCIONES_HIPOTECARIO_202503 where `ID Excepci�n` is not null and Nombre is not null\")\n",
    "\n",
    "base_excepciones = base_excepciones_hist.union(base_excepciones_actual)"
   ]
  },
  {
   "cell_type": "code",
   "execution_count": 0,
   "metadata": {
    "application/vnd.databricks.v1+cell": {
     "cellMetadata": {
      "byteLimit": 2048000,
      "rowLimit": 10000
     },
     "inputWidgets": {},
     "nuid": "4347377c-948d-4a45-81e5-a6fa0c09a11d",
     "showTitle": false,
     "tableResultSettingsMap": {},
     "title": ""
    }
   },
   "outputs": [],
   "source": [
    "from pyspark.sql import SparkSession\n",
    "from pyspark.sql.functions import regexp_replace\n",
    "\n",
    "base_excepciones_unico = spark.sql(\"\"\"\n",
    "SELECT \n",
    "    nombre, \n",
    "    SUM(CASE WHEN Tipo_excepcion = 'Perfil del Cliente' THEN 1 ELSE 0 END) AS flg_perfil,\n",
    "    SUM(CASE WHEN Tipo_excepcion = 'Score' THEN 1 ELSE 0 END) AS flG_score,\n",
    "    SUM(CASE WHEN UPPER(Tipo_excepcion) LIKE 'CONDICION%' THEN 1 ELSE 0 END) AS flg_CondicionCredito,\n",
    "    SUM(CASE WHEN Tipo_excepcion = 'Plan de Ahorro' THEN 1 ELSE 0 END) AS flg_PlanAhorro,\n",
    "    SUM(CASE WHEN Tipo_excepcion = 'Ingresos' THEN 1 ELSE 0 END) AS flg_Ingresos,\n",
    "    SUM(CASE WHEN Tipo_excepcion = 'Inmobiliario y legal' THEN 1 ELSE 0 END) AS flg_Inmobiliario,\n",
    "    SUM(CASE WHEN Tipo_excepcion = 'ISFP' THEN 1 ELSE 0 END) AS flg_ISFP,\n",
    "    SUM(CASE WHEN Tipo_excepcion = 'Seguros' THEN 1 ELSE 0 END) AS flg_Seguros,\n",
    "    COUNT(1) AS n_exc\n",
    "FROM (\n",
    "    SELECT DISTINCT nombre, Tipo_excepcion \n",
    "    FROM catalog_lhcl_prod_bcp.bcp_edv_fabseg.T45988_HM_EXCEPCIONES_HIPOTECARIO_HIST_202504\n",
    ") AS t\n",
    "GROUP BY nombre\n",
    "\"\"\")\n",
    "base_excepciones_unico = base_excepciones_unico.withColumn(\"CODSOLICITUD\", regexp_replace(base_excepciones_unico[\"nombre\"], \"^N\", \"\"))"
   ]
  },
  {
   "cell_type": "code",
   "execution_count": 0,
   "metadata": {
    "application/vnd.databricks.v1+cell": {
     "cellMetadata": {
      "byteLimit": 2048000,
      "rowLimit": 10000
     },
     "inputWidgets": {},
     "nuid": "83ee4cd8-1688-4dd1-8a40-5930ea7b13b5",
     "showTitle": false,
     "tableResultSettingsMap": {},
     "title": ""
    }
   },
   "outputs": [],
   "source": [
    "base_hip_8 = base_hip_8.join(\n",
    "    base_excepciones_unico,\n",
    "    on = [\"codsolicitud\"],\n",
    "    how = 'left'\n",
    ")\n",
    "\n",
    "base_hip_8.persist(StorageLevel.MEMORY_AND_DISK).count()\n",
    "\n",
    "dup = base_hip_8.groupBy(\"codclaveopecta\").count().alias(\"count\").filter(col(\"count\")>1)\n",
    "print_res(dup)"
   ]
  },
  {
   "cell_type": "code",
   "execution_count": 0,
   "metadata": {
    "application/vnd.databricks.v1+cell": {
     "cellMetadata": {
      "byteLimit": 2048000,
      "rowLimit": 10000
     },
     "inputWidgets": {},
     "nuid": "a39ef797-54b1-451c-9ca4-6fe243f7feab",
     "showTitle": false,
     "tableResultSettingsMap": {},
     "title": ""
    }
   },
   "outputs": [],
   "source": [
    "from pyspark.sql.functions import months_between\n",
    "\n",
    "base_hip_8 = base_hip_8.withColumn(\"SUITE_AntLaboralMeses\", months_between(base_hip_8[\"SUITE_fecdia\"], base_hip_8[\"SUITE_Fecingresolaboral\"]))\n",
    "base_hip_8 = base_hip_8.withColumn(\"SUITE_Fecnacimiento\", base_hip_8[\"SUITE_Fecnacimiento\"].cast(\"date\"))\n",
    "base_hip_8 = base_hip_8.withColumn(\"SUITE_Edad\", months_between(base_hip_8[\"CSOL_FEC_SOL\"], base_hip_8[\"SUITE_Fecnacimiento\"]) / 12)"
   ]
  },
  {
   "cell_type": "code",
   "execution_count": 0,
   "metadata": {
    "application/vnd.databricks.v1+cell": {
     "cellMetadata": {
      "byteLimit": 2048000,
      "rowLimit": 10000
     },
     "inputWidgets": {},
     "nuid": "117b0318-7e71-4c28-ab3d-fcff54cb0c85",
     "showTitle": false,
     "tableResultSettingsMap": {},
     "title": ""
    }
   },
   "outputs": [],
   "source": [
    "base_hip_8 = base_hip_8.dropDuplicates(subset=['CODCLAVEOPECTA'])\n",
    "base_hip_8.createOrReplaceTempView('base_hip_8')\n",
    "\n",
    "spark.sql('''\n",
    "    CREATE OR REPLACE TABLE\n",
    "        catalog_lhcl_prod_bcp.bcp_edv_fabseg.T39290_univ_pre_driver_app_hip\n",
    "    USING DELTA LOCATION \n",
    "        'abfss://bcp-edv-fabseg@adlscu1lhclbackp05.dfs.core.windows.net/T39290/Seguimiento/02_Applicant_Hipotecario/univ_pre_driver_app_hip'\n",
    "    AS SELECT * FROM base_hip_8\n",
    "    '''\n",
    ")"
   ]
  }
 ],
 "metadata": {
  "application/vnd.databricks.v1+notebook": {
   "computePreferences": null,
   "dashboards": [],
   "environmentMetadata": {
    "base_environment": "",
    "environment_version": "2"
   },
   "inputWidgetPreferences": null,
   "language": "python",
   "notebookMetadata": {
    "mostRecentlyExecutedCommandWithImplicitDF": {
     "commandId": 8646003727397423,
     "dataframes": [
      "_sqldf"
     ]
    },
    "pythonIndentUnit": 4
   },
   "notebookName": "01_Univ_Hip - Base",
   "widgets": {}
  },
  "language_info": {
   "name": "python"
  }
 },
 "nbformat": 4,
 "nbformat_minor": 0
}
