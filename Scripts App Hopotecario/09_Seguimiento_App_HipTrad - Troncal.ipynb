{
 "cells": [
  {
   "cell_type": "code",
   "execution_count": 0,
   "metadata": {
    "application/vnd.databricks.v1+cell": {
     "cellMetadata": {
      "byteLimit": 2048000,
      "rowLimit": 10000
     },
     "inputWidgets": {},
     "nuid": "0e07b8a4-a4e5-4663-8030-ec033ffd8e66",
     "showTitle": false,
     "tableResultSettingsMap": {},
     "title": ""
    }
   },
   "outputs": [],
   "source": [
    "# Importando módulo de seguimiento\n",
    "import sys\n",
    "import importlib\n",
    "sys.path.append('/Workspace/Users/luisfdiaz@bcp.com.pe/ScoreGuardian')\n",
    "\n",
    "import core.SegScore as rmm\n",
    "importlib.reload(rmm)\n",
    "\n",
    "# Librerias y fuciones generales\n",
    "from pyspark.sql.functions import date_format, expr, to_date, date_sub, add_months, col, when, coalesce, trim, broadcast, avg, max, min, lit, concat, window, round as colround, upper, abs as sparkabs\n",
    "from pyspark.sql import functions as F\n",
    "from pyspark import StorageLevel\n",
    "import numpy as np\n",
    "import seaborn as sns\n",
    "import pandas as pd\n",
    "import matplotlib.pyplot as plt\n",
    "from pyspark.sql.window import Window\n",
    "from pyspark.sql.types import StructType, StructField, StringType\n",
    "\n",
    "#Mostrar los duplicados\n",
    "def print_res(sparkf_df):\n",
    "  import pandas as pd\n",
    "  pd.set_option('display.max_rows', None)\n",
    "  pd.set_option('display.max_columns', None)\n",
    "  pd_spark_df = sparkf_df.toPandas()\n",
    " \n",
    "  return pd_spark_df"
   ]
  },
  {
   "cell_type": "code",
   "execution_count": 0,
   "metadata": {
    "application/vnd.databricks.v1+cell": {
     "cellMetadata": {
      "byteLimit": 2048000,
      "rowLimit": 10000
     },
     "inputWidgets": {},
     "nuid": "ed3a860b-60e4-434c-8af8-1b91597dd3cf",
     "showTitle": false,
     "tableResultSettingsMap": {},
     "title": ""
    }
   },
   "outputs": [],
   "source": [
    "pd_rbm='PD_RBM'\n",
    "pd_ant='PD_APP_HIP_TRDPYME_2Q24_REP_SALESFORCE' \n",
    "pd_cal='PD_APP_HIP_TRDPYME_2Q24_REP_SUITE'\n",
    "pd_trc='XB_ADC_POND85_F'\n",
    "tipo_banda = 'Jeffrey'#Jeffrey Vasiseck\n",
    "codmes_default = 202307\n",
    "columna_monto='MTOAPROBADO_SOLES'\n",
    "titulo='Calibración Applicant App Tradicional'\n",
    "condiciones= \"CODMES >= 201901 AND DEF_120_BLOQ_REF_0 = 0\""
   ]
  },
  {
   "cell_type": "code",
   "execution_count": 0,
   "metadata": {
    "application/vnd.databricks.v1+cell": {
     "cellMetadata": {
      "byteLimit": 2048000,
      "rowLimit": 10000
     },
     "inputWidgets": {},
     "nuid": "652fb6c4-e606-40ce-bbe8-4e68c30cea46",
     "showTitle": false,
     "tableResultSettingsMap": {},
     "title": ""
    }
   },
   "outputs": [],
   "source": [
    "troncal_app_trad = spark.table('catalog_lhcl_prod_bcp.bcp_edv_fabseg.T39290_hm_app_hiptrad_f')\n",
    "\n",
    "# Objeto de Seguimiento\n",
    "Obj_Seg = rmm.MonitorScore(\n",
    "  nombre_modelo         = 'Personas Modelo Applicant Tradicional',\n",
    "  codigo_modelo         = 'MOD-BCP-20658',\n",
    "  tier                  = 'II',\n",
    "  detalle_seguimiento   = 'Seguimiento Applicant Tradicional',\n",
    "  mes_seguimiento       = '202504',\n",
    "  base_monitoreo        = troncal_app_trad,\n",
    "  pd1                   = pd_cal,\n",
    "  pd2                   = pd_ant,\n",
    "  pd3                   = pd_rbm,\n",
    "  monto_credito         = columna_monto,\n",
    "  query_univ            = \"DEF_120_BLOQ_REF_0=0 and codmes >202201 AND PD_BASE_ESPEJO IS NOT NULL and ACT_HIP IN ('EMISION MEDIO DE PAGO', 'DESEMBOLSO', 'ANTES')\",\n",
    "  bandas                = tipo_banda,\n",
    "  codmes_default        = codmes_default,\n",
    "  meses_ventana_target  = 24,\n",
    "  meses_atraso_target   = 4\n",
    ")"
   ]
  },
  {
   "cell_type": "code",
   "execution_count": 0,
   "metadata": {
    "application/vnd.databricks.v1+cell": {
     "cellMetadata": {
      "byteLimit": 2048000,
      "rowLimit": 10000
     },
     "inputWidgets": {},
     "nuid": "0fe175ab-2f7f-4dbc-bb98-b29ec5de0fa9",
     "showTitle": false,
     "tableResultSettingsMap": {},
     "title": ""
    }
   },
   "outputs": [],
   "source": [
    "Obj_Seg.base_monitoreo = Obj_Seg.base_monitoreo.withColumn('PD_BASE_ESPEJO', col('PD_BASE_ESPEJO').cast('double'))\n",
    "var_pd = [\"XB_ADC_POND85_REP_SALESFORCE\", \"XB_ADC_POND85_REP_SUITE\"]\n",
    "caldri_veh_app = Obj_Seg.EvolDisVar(\n",
    "  # Parametros de figura individual\n",
    "  query_filtro = '',\n",
    "  codmes_ini   = 202206,\n",
    "  codmes_fin   = 202312,\n",
    "  amplitud     = 6,\n",
    "  disc_target  = [24, 21,18],\n",
    "  umbral_sup   = 0.5,\n",
    "  umbral_inf   = 0.4,\n",
    "  moviles      = True,\n",
    "  dim_grafico  = (22.5, 6),\n",
    "  pos_leyenda  = (0.5, -0.35),\n",
    "  etiquetas    = True,\n",
    "  gini_abs     = False,\n",
    " \n",
    "  # Parametros de figura final\n",
    "  ncolumnas = 2,\n",
    "  nfilas    = 1,\n",
    "  variables = var_pd,\n",
    "  dim_grafico_total = (20, 6),\n",
    "  ncol_leyenda = 5,\n",
    "  vspacio=-0.25,\n",
    "  hspacio=4,\n",
    "  tamaño_etiqueta = 14 \n",
    ")"
   ]
  },
  {
   "cell_type": "code",
   "execution_count": 0,
   "metadata": {
    "application/vnd.databricks.v1+cell": {
     "cellMetadata": {
      "byteLimit": 2048000,
      "rowLimit": 10000
     },
     "inputWidgets": {},
     "nuid": "52c193a9-b1ee-40c3-9de5-7637c4b3f84b",
     "showTitle": false,
     "tableResultSettingsMap": {},
     "title": ""
    }
   },
   "outputs": [],
   "source": [
    "Obj_Seg.base_monitoreo = Obj_Seg.base_monitoreo.withColumn('PD_BASE_ESPEJO', col('PD_BASE_ESPEJO').cast('double'))\n",
    "var_pd = [\"PD_APP_HIP_TRDPYME_2Q24\", \"PD_APP_HIP_TRDPYME_2Q24_REP_SALESFORCE\", 'PD_APP_HIP_TRDPYME_2Q24_REP_SUITE']\n",
    "caldri_veh_app = Obj_Seg.EvolDisVar(\n",
    "  # Parametros de figura individual\n",
    "  query_filtro = '',\n",
    "  codmes_ini   = 202206,\n",
    "  codmes_fin   = 202312,\n",
    "  amplitud     = 6,\n",
    "  disc_target  = [24, 21,18],\n",
    "  umbral_sup   = 0.5,\n",
    "  umbral_inf   = 0.4,\n",
    "  moviles      = True,\n",
    "  dim_grafico  = (30, 6),\n",
    "  pos_leyenda  = (0.5, -0.35),\n",
    "  etiquetas    = True,\n",
    "  gini_abs     = False,\n",
    " \n",
    "  # Parametros de figura final\n",
    "  ncolumnas = 3,\n",
    "  nfilas    = 1,\n",
    "  variables = var_pd,\n",
    "  dim_grafico_total = (30, 6),\n",
    "  ncol_leyenda = 5,\n",
    "  vspacio=-0.25,\n",
    "  hspacio=4,\n",
    "  tamaño_etiqueta = 14 \n",
    ")"
   ]
  },
  {
   "cell_type": "code",
   "execution_count": 0,
   "metadata": {
    "application/vnd.databricks.v1+cell": {
     "cellMetadata": {
      "byteLimit": 2048000,
      "rowLimit": 10000
     },
     "inputWidgets": {},
     "nuid": "dd1668f3-3f63-468f-9dea-76661af73739",
     "showTitle": false,
     "tableResultSettingsMap": {},
     "title": ""
    }
   },
   "outputs": [],
   "source": [
    "var_pd = [\"XB_HIP_REP_SALESFORCE\", \"XB_RCC_S_ADCW\", \"XB_PAS_S_ADCW\", \"XB_ACT_S_ADCW\", \"XB_DEM_S_ADCW_REP\", \"XB_TRX_S_ADCW\"]\n",
    "caldri_veh_app = Obj_Seg.EvolDisVar(\n",
    "  # Parametros de figura individual\n",
    "  query_filtro = '',\n",
    "  codmes_ini   = 202206,\n",
    "  codmes_fin   = 202312,\n",
    "  amplitud     = 6,\n",
    "  disc_target  = [24, 21,18],\n",
    "  umbral_sup   = 0.4,\n",
    "  umbral_inf   = 0.3,\n",
    "  moviles      = True,\n",
    "  dim_grafico  = (22.5, 6),\n",
    "  pos_leyenda  = (0.5, -0.35),\n",
    "  etiquetas    = True,\n",
    "  gini_abs     = False,\n",
    "  umbral_opc   = 0.1,\n",
    "  eje_gini_max = 1,\n",
    " \n",
    "  # Parametros de figura final\n",
    "  ncolumnas = 3,\n",
    "  nfilas    = 2,\n",
    "  variables = var_pd,\n",
    "  dim_grafico_total = (30, 12),\n",
    "  ncol_leyenda = 7,\n",
    "  vspacio=-0.25,\n",
    "  hspacio=5,\n",
    "  tamaño_etiqueta = 14 \n",
    ")"
   ]
  },
  {
   "cell_type": "code",
   "execution_count": 0,
   "metadata": {
    "application/vnd.databricks.v1+cell": {
     "cellMetadata": {
      "byteLimit": 2048000,
      "rowLimit": 10000
     },
     "inputWidgets": {},
     "nuid": "ab633340-d2ed-48b3-b0de-deb43e5df3c2",
     "showTitle": false,
     "tableResultSettingsMap": {},
     "title": ""
    }
   },
   "outputs": [],
   "source": [
    "var_pd = [\"XB_HIP_REP_SUITE\", \"XB_RCC_S_ADCW\", \"XB_PAS_S_ADCW\", \"XB_ACT_S_ADCW\", \"XB_DEM_S_ADCW_REP\", \"XB_TRX_S_ADCW\"]\n",
    "caldri_veh_app = Obj_Seg.EvolDisVar(\n",
    "  # Parametros de figura individual\n",
    "  query_filtro = '',\n",
    "  codmes_ini   = 202206,\n",
    "  codmes_fin   = 202312,\n",
    "  amplitud     = 6,\n",
    "  disc_target  = [24, 21,18],\n",
    "  umbral_sup   = 0.4,\n",
    "  umbral_inf   = 0.3,\n",
    "  moviles      = True,\n",
    "  dim_grafico  = (22.5, 6),\n",
    "  pos_leyenda  = (0.5, -0.35),\n",
    "  etiquetas    = True,\n",
    "  gini_abs     = False,\n",
    "  umbral_opc   = 0.1,\n",
    "  eje_gini_max = 1,\n",
    " \n",
    "  # Parametros de figura final\n",
    "  ncolumnas = 3,\n",
    "  nfilas    = 2,\n",
    "  variables = var_pd,\n",
    "  dim_grafico_total = (30, 12),\n",
    "  ncol_leyenda = 7,\n",
    "  vspacio=-0.25,\n",
    "  hspacio=5,\n",
    "  tamaño_etiqueta = 14 \n",
    ")"
   ]
  },
  {
   "cell_type": "markdown",
   "metadata": {
    "application/vnd.databricks.v1+cell": {
     "cellMetadata": {
      "byteLimit": 2048000,
      "rowLimit": 10000
     },
     "inputWidgets": {},
     "nuid": "756184f4-2ebf-4001-a6ba-bc3b37489572",
     "showTitle": false,
     "tableResultSettingsMap": {},
     "title": ""
    }
   },
   "source": [
    "## Módulo Hipotecario"
   ]
  },
  {
   "cell_type": "code",
   "execution_count": 0,
   "metadata": {
    "application/vnd.databricks.v1+cell": {
     "cellMetadata": {
      "byteLimit": 2048000,
      "rowLimit": 10000
     },
     "inputWidgets": {},
     "nuid": "efc947be-d968-45f4-8cb1-e8dacf765096",
     "showTitle": false,
     "tableResultSettingsMap": {},
     "title": ""
    }
   },
   "outputs": [],
   "source": [
    "var_pd_q = ['LTV_CORREGIDO_VF_Q', 'DEF_NFT_RIESGO_ZONA_ST_ST', 'PLAZO_R']\n",
    "fc = pd.DataFrame([(1, 1), (1, 1), (1, 1)], columns=['CODMES', 'FAC_CAL_DRI_N'])\n",
    "fm = pd.DataFrame([(1, 1), (1, 1), (1, 1)], columns=['CODMES', 'FAC_CAL_DRI_M'])"
   ]
  },
  {
   "cell_type": "code",
   "execution_count": 0,
   "metadata": {
    "application/vnd.databricks.v1+cell": {
     "cellMetadata": {
      "byteLimit": 2048000,
      "rowLimit": 10000
     },
     "inputWidgets": {},
     "nuid": "124289c4-d099-469b-a463-92449a415a47",
     "showTitle": false,
     "tableResultSettingsMap": {},
     "title": ""
    }
   },
   "outputs": [],
   "source": [
    "caldri = Obj_Seg.CalVar(\n",
    "  # Parametros de figura individual\n",
    "  query_uso          = \"CODMES BETWEEN 202207 AND 202307\",\n",
    "  pd_seg             = pd_ant,\n",
    "  rd_aux             = 'RD12',\n",
    "  pd_comparacion     = True,\n",
    "  factores_cuentas   = fc,\n",
    "  factores_montos    = fm,\n",
    "  mat_importancia    = 0, \n",
    "  cast_int           = True,\n",
    "  dim_grafico        = (25, 6),\n",
    "  pos_leyenda        = (0.5, -0.25),\n",
    "  punt_mora          = 70,\n",
    "  proys_def_temp     = 6,\n",
    "  # proys_mor_temp     = 3,\n",
    " \n",
    "  # Parametros de figura final\n",
    "  tipo_vista         = 'M',\n",
    "  ncolumnas          = 3,\n",
    "  nfilas             = 1,\n",
    "  variables          = var_pd_q,\n",
    "  dim_grafico_total  = (33, 6),\n",
    "  ncol_leyenda       = 5,\n",
    "  etiquetas_total    = True, \n",
    "  pos_etiqueta       = 0.05,\n",
    "  vspacio            = -0.5,\n",
    "  hspacio            = 1,\n",
    "  filtro_var         =\"not like '%issing%'\",\n",
    "  iv                 = True \n",
    ")"
   ]
  },
  {
   "cell_type": "code",
   "execution_count": 0,
   "metadata": {
    "application/vnd.databricks.v1+cell": {
     "cellMetadata": {
      "byteLimit": 2048000,
      "rowLimit": 10000
     },
     "inputWidgets": {},
     "nuid": "c3158b07-122f-4b75-8b88-4475e3a5f5a8",
     "showTitle": false,
     "tableResultSettingsMap": {},
     "title": ""
    }
   },
   "outputs": [],
   "source": [
    "psi_dri = Obj_Seg.MixPSIVar(\n",
    "  # Parametros de figura individual\n",
    "    query_uso         ='CODMES >= 202011',\n",
    "    cast_int          =True,\n",
    "    codmes_inicio1    =202011,\n",
    "    codmes_fin1       =202204,\n",
    "    codmes_inicio2    =202501,\n",
    "    codmes_fin2       =202504,\n",
    "    dim_grafico       =(25, 6),\n",
    "    pos_leyenda       =(0.5, -0.25),\n",
    " \n",
    "    # Parametros de figura final\n",
    "    tipo_vista        = 'M',\n",
    "    ncolumnas         = 3,\n",
    "    nfilas            = 1,\n",
    "    variables         = var_pd_q,\n",
    "    dim_grafico_total = (33, 6),\n",
    "    ncol_leyenda      =5,\n",
    "    tamaño_leyenda    = 8.25,\n",
    "    vspacio           =-0.45,\n",
    "    hspacio           =1,\n",
    "    borde             = 0.08\n",
    ")"
   ]
  },
  {
   "cell_type": "markdown",
   "metadata": {
    "application/vnd.databricks.v1+cell": {
     "cellMetadata": {
      "byteLimit": 2048000,
      "rowLimit": 10000
     },
     "inputWidgets": {},
     "nuid": "c0a6b00e-62af-4a27-843f-76d65139debe",
     "showTitle": false,
     "tableResultSettingsMap": {},
     "title": ""
    }
   },
   "source": [
    "## Modulo demográfico"
   ]
  },
  {
   "cell_type": "code",
   "execution_count": 0,
   "metadata": {
    "application/vnd.databricks.v1+cell": {
     "cellMetadata": {
      "byteLimit": 2048000,
      "rowLimit": 10000
     },
     "inputWidgets": {},
     "nuid": "db9c8d47-3d53-435f-af6e-3c5ebc2e91ca",
     "showTitle": false,
     "tableResultSettingsMap": {},
     "title": ""
    }
   },
   "outputs": [],
   "source": [
    "Obj_Seg.base_monitoreo = Obj_Seg.base_monitoreo.withColumn(\"Situacion_estado_civil\", \n",
    "                                                           when(col(\"SUITE_Estcivil_J\").isin(['CBS', 'CAS', 'CON']), \"2. Con Pareja\")\n",
    "                                                           .when(col(\"SUITE_Estcivil_J\").isin(['SOL', 'VIU', 'SEP']), \"1. Soltero\")\n",
    ")\n",
    "\n",
    "ant_laboral = Obj_Seg.CutVar(variables=['ING_SOL_REP'], num_cortes=4, query_corte=\"CODMES BETWEEN 202101 AND 202410 AND DEF_120_BLOQ_REF_0 = 0\")"
   ]
  },
  {
   "cell_type": "code",
   "execution_count": 0,
   "metadata": {
    "application/vnd.databricks.v1+cell": {
     "cellMetadata": {
      "byteLimit": 2048000,
      "rowLimit": 10000
     },
     "inputWidgets": {},
     "nuid": "044b1057-3b0d-462f-8408-855104bca00f",
     "showTitle": false,
     "tableResultSettingsMap": {},
     "title": ""
    }
   },
   "outputs": [],
   "source": [
    "var_pd_q = ['SUITE_AntLaboralMeses_J_Q', 'SUITE_CAT_ZONA_J', 'SECTOR_ECONOMICO', 'SUITE_Edad_J_Q', 'Situacion_estado_civil', 'CLU_RIESGO_VEH', 'NUMHIJOS1_Q', 'ING_SOL_REP_Q']"
   ]
  },
  {
   "cell_type": "code",
   "execution_count": 0,
   "metadata": {
    "application/vnd.databricks.v1+cell": {
     "cellMetadata": {
      "byteLimit": 2048000,
      "rowLimit": 10000
     },
     "inputWidgets": {},
     "nuid": "6a61b038-c269-456a-8744-7e7bf74d768a",
     "showTitle": false,
     "tableResultSettingsMap": {},
     "title": ""
    }
   },
   "outputs": [],
   "source": [
    "caldri = Obj_Seg.CalVar(\n",
    "  # Parametros de figura individual\n",
    "  query_uso          = \"CODMES BETWEEN 202207 AND 202307\",\n",
    "  pd_seg             = pd_cal,\n",
    "  rd_aux             = 'RD12',\n",
    "  pd_comparacion     = True,\n",
    "  factores_cuentas   = fc,\n",
    "  factores_montos    = fm,\n",
    "  mat_importancia    = 5, \n",
    "  cast_int           = True,\n",
    "  dim_grafico        = (45, 6),\n",
    "  pos_leyenda        = (0.5, -0.25),\n",
    "  punt_mora          = 70,\n",
    "  proys_def_temp     = 6,\n",
    " \n",
    "  # Parametros de figura final\n",
    "  tipo_vista         = 'M',\n",
    "  ncolumnas          = 4,\n",
    "  nfilas             = 2,\n",
    "  variables          = var_pd_q,\n",
    "  dim_grafico_total  = (45, 12),\n",
    "  ncol_leyenda       = 5,\n",
    "  etiquetas_total    = True, \n",
    "  pos_etiqueta       = 0.05,\n",
    "  vspacio            = -1,\n",
    "  hspacio            = 0.8,\n",
    "  filtro_var         =\"not like '%issing%'\",\n",
    "  iv                 = True \n",
    ")"
   ]
  },
  {
   "cell_type": "code",
   "execution_count": 0,
   "metadata": {
    "application/vnd.databricks.v1+cell": {
     "cellMetadata": {
      "byteLimit": 2048000,
      "rowLimit": 10000
     },
     "inputWidgets": {},
     "nuid": "307e5076-cb1c-4504-9e39-285e07aba3f2",
     "showTitle": false,
     "tableResultSettingsMap": {},
     "title": ""
    }
   },
   "outputs": [],
   "source": [
    "caldri = Obj_Seg.CalVar(\n",
    "  # Parametros de figura individual\n",
    "  query_uso          = \"CODMES BETWEEN 202207 AND 202307\",\n",
    "  pd_seg             = pd_cal,\n",
    "  rd_aux             = 'RD12',\n",
    "  pd_comparacion     = True,\n",
    "  factores_cuentas   = fc,\n",
    "  factores_montos    = fm,\n",
    "  mat_importancia    = 5, \n",
    "  cast_int           = True,\n",
    "  dim_grafico        = (45, 6),\n",
    "  pos_leyenda        = (0.5, -0.25),\n",
    "  punt_mora          = 70,\n",
    "  proys_def_temp     = 6,\n",
    " \n",
    "  # Parametros de figura final\n",
    "  tipo_vista         = 'C',\n",
    "  ncolumnas          = 4,\n",
    "  nfilas             = 2,\n",
    "  variables          = var_pd_q,\n",
    "  dim_grafico_total  = (45, 12),\n",
    "  ncol_leyenda       = 5,\n",
    "  etiquetas_total    = True, \n",
    "  pos_etiqueta       = 0.05,\n",
    "  vspacio            = -1,\n",
    "  hspacio            = 0.8,\n",
    "  filtro_var         =\"not like '%issing%'\",\n",
    "  iv                 = True \n",
    ")"
   ]
  },
  {
   "cell_type": "code",
   "execution_count": 0,
   "metadata": {
    "application/vnd.databricks.v1+cell": {
     "cellMetadata": {
      "byteLimit": 2048000,
      "rowLimit": 10000
     },
     "inputWidgets": {},
     "nuid": "0b1fa88b-485f-4e14-a3f2-f2efdef0cbf6",
     "showTitle": false,
     "tableResultSettingsMap": {},
     "title": ""
    }
   },
   "outputs": [],
   "source": [
    "psi_dri = Obj_Seg.MixPSIVar(\n",
    "  # Parametros de figura individual\n",
    "    query_uso         ='CODMES >= 202011',\n",
    "    cast_int          =True,\n",
    "    codmes_inicio1    =202011,\n",
    "    codmes_fin1       =202204,\n",
    "    codmes_inicio2    =202504,\n",
    "    codmes_fin2       =202507,\n",
    "    dim_grafico       =(25, 6),\n",
    "    pos_leyenda       =(0.5, -0.4),\n",
    " \n",
    "    # Parametros de figura final\n",
    "    tipo_vista        = 'M',\n",
    "    ncolumnas         = 4,\n",
    "    nfilas            = 2,\n",
    "    variables         = var_pd_q,\n",
    "    dim_grafico_total = (36, 12),\n",
    "    ncol_leyenda      =5,\n",
    "    tamaño_leyenda    = 8.25,\n",
    "    vspacio           =-0.6,\n",
    "    hspacio           =0.8,\n",
    "    borde             = 0.08\n",
    ")"
   ]
  }
 ],
 "metadata": {
  "application/vnd.databricks.v1+notebook": {
   "computePreferences": null,
   "dashboards": [],
   "environmentMetadata": {
    "base_environment": "",
    "environment_version": "2"
   },
   "inputWidgetPreferences": null,
   "language": "python",
   "notebookMetadata": {
    "pythonIndentUnit": 4
   },
   "notebookName": "09_Seguimiento_App_HipTrad - Troncal",
   "widgets": {}
  },
  "language_info": {
   "name": "python"
  }
 },
 "nbformat": 4,
 "nbformat_minor": 0
}
