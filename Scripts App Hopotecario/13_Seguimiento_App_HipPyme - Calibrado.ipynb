{
 "cells": [
  {
   "cell_type": "code",
   "execution_count": 0,
   "metadata": {
    "application/vnd.databricks.v1+cell": {
     "cellMetadata": {
      "byteLimit": 2048000,
      "rowLimit": 10000
     },
     "inputWidgets": {},
     "nuid": "08388dc5-e89c-4720-a27a-4cacc2e2a494",
     "showTitle": false,
     "tableResultSettingsMap": {},
     "title": ""
    }
   },
   "outputs": [],
   "source": [
    "# Importando módulo de seguimiento\n",
    "import sys\n",
    "import importlib\n",
    "sys.path.append('/Workspace/Users/luisfdiaz@bcp.com.pe/ScoreGuardian')\n",
    "\n",
    "import core.SegScore as rmm\n",
    "importlib.reload(rmm)\n",
    "\n",
    "# Librerias y fuciones generales\n",
    "from pyspark.sql.functions import date_format, expr, to_date, date_sub, add_months, col, when, coalesce, trim, broadcast, avg, max, min, lit, concat, window, round as colround, upper, abs as sparkabs\n",
    "from pyspark.sql import functions as F\n",
    "from pyspark import StorageLevel\n",
    "import numpy as np\n",
    "import seaborn as sns\n",
    "import pandas as pd\n",
    "import matplotlib.pyplot as plt\n",
    "from pyspark.sql.window import Window\n",
    "from pyspark.sql.types import StructType, StructField, StringType\n",
    "\n",
    "#Mostrar los duplicados\n",
    "def print_res(sparkf_df):\n",
    "  import pandas as pd\n",
    "  pd.set_option('display.max_rows', None)\n",
    "  pd.set_option('display.max_columns', None)\n",
    "  pd_spark_df = sparkf_df.toPandas()\n",
    " \n",
    "  return pd_spark_df"
   ]
  },
  {
   "cell_type": "code",
   "execution_count": 0,
   "metadata": {
    "application/vnd.databricks.v1+cell": {
     "cellMetadata": {
      "byteLimit": 2048000,
      "rowLimit": 10000
     },
     "inputWidgets": {},
     "nuid": "95c0324c-57f5-4694-bc35-bb9244479583",
     "showTitle": false,
     "tableResultSettingsMap": {},
     "title": ""
    }
   },
   "outputs": [],
   "source": [
    "# Importando base y configuraciones iniciales\n",
    "base_seguimiento = spark.sql(\"select distinct * from catalog_lhcl_prod_bcp.bcp_edv_fabseg.t39290_hm_app_hippyme_f\")\n",
    "base_seguimiento = base_seguimiento.withColumn(\"CODMES\", col(\"CODMES\").cast(\"integer\"))\n",
    "base_seguimiento = base_seguimiento.withColumn(\"DEF5\", when(col(\"DISTANCIA_DEF24\") <= 5, lit(1)).otherwise(lit(0)))\n",
    "base_seguimiento = base_seguimiento.withColumn(\"DEF4\", when(col(\"DISTANCIA_DEF24\") <= 4, lit(1)).otherwise(lit(0))) \n",
    "\n",
    "base_seguimiento.persist(StorageLevel.MEMORY_AND_DISK).count()\n",
    "\n",
    "# Verificando duplicandos en el segundo Join\n",
    "dup = base_seguimiento.groupBy(\"CODCLAVEOPECTA\", \"CODMES\").count().alias(\"count\").filter(col(\"count\")>1)\n",
    "print_res(dup)"
   ]
  },
  {
   "cell_type": "code",
   "execution_count": 0,
   "metadata": {
    "application/vnd.databricks.v1+cell": {
     "cellMetadata": {
      "byteLimit": 2048000,
      "rowLimit": 10000
     },
     "inputWidgets": {},
     "nuid": "f0c7b717-15fc-4c47-a9be-cb801494421e",
     "showTitle": false,
     "tableResultSettingsMap": {},
     "title": ""
    }
   },
   "outputs": [],
   "source": [
    "pd_rbm='PD_RBM'\n",
    "pd_ant='PD_APP_HIP_TRDPYME_2Q24_REP_SUITE' \n",
    "pd_cal='PD_APP_HIP_TRDPYME_2Q24_REP_FAB'\n",
    "pd_trc='XB_ADC_POND85_F'\n",
    "tipo_banda = 'Jeffrey'#Jeffrey Vasiseck\n",
    "codmes_default = 202307\n",
    "columna_monto='MTOAPROBADO_SOLES'\n",
    "titulo='Calibración Applicant App Tradicional'\n",
    "condiciones= \"CODMES >= 201901 AND DEF_120_BLOQ_REF_0 = 0\""
   ]
  },
  {
   "cell_type": "code",
   "execution_count": 0,
   "metadata": {
    "application/vnd.databricks.v1+cell": {
     "cellMetadata": {
      "byteLimit": 2048000,
      "rowLimit": 10000
     },
     "inputWidgets": {},
     "nuid": "edbd5355-170c-4a77-bf2a-8c158f0942eb",
     "showTitle": false,
     "tableResultSettingsMap": {},
     "title": ""
    }
   },
   "outputs": [],
   "source": [
    "# Objeto de Seguimiento\n",
    "Obj_Seg = rmm.MonitorScore(\n",
    "  nombre_modelo         = 'Personas Modelo Applicant Tradicional',\n",
    "  codigo_modelo         = 'MOD-BCP-20658',\n",
    "  tier                  = 'II',\n",
    "  detalle_seguimiento   = 'Seguimiento Applicant Tradicional',\n",
    "  mes_seguimiento       = '202504',\n",
    "  base_monitoreo        = base_seguimiento, #dataframe de spark de tu base de seguimiento \n",
    "  pd1                   = pd_cal, #\n",
    "  pd2                   = pd_rbm, #\n",
    "  # pd3                   = pd_rbm, #\n",
    "  monto_credito         = columna_monto, #\n",
    "  query_univ            = \"DEF_120_BLOQ_REF_0=0 and codmes >202201 AND PD_APP_HIP_TRDPYME_2Q24_REP_FAB IS NOT NULL\", #\n",
    "  bandas                = tipo_banda, \n",
    "  codmes_default        = codmes_default, #\n",
    "  meses_ventana_target  = 24, #  ventana de target\n",
    "  meses_atraso_target   = 4  #  condicion de target\n",
    ")"
   ]
  },
  {
   "cell_type": "markdown",
   "metadata": {
    "application/vnd.databricks.v1+cell": {
     "cellMetadata": {
      "byteLimit": 2048000,
      "rowLimit": 10000
     },
     "inputWidgets": {},
     "nuid": "4f7667f6-119c-4e9d-a0da-4873aecc7c66",
     "showTitle": false,
     "tableResultSettingsMap": {},
     "title": ""
    }
   },
   "source": [
    "# 1. Calibración"
   ]
  },
  {
   "cell_type": "code",
   "execution_count": 0,
   "metadata": {
    "application/vnd.databricks.v1+cell": {
     "cellMetadata": {
      "byteLimit": 2048000,
      "rowLimit": 10000
     },
     "inputWidgets": {},
     "nuid": "f02f8e15-fa66-4223-bbc6-63848485a279",
     "showTitle": false,
     "tableResultSettingsMap": {},
     "title": ""
    }
   },
   "outputs": [],
   "source": [
    "Obj_Seg_cal, rc_1, rm_1, fc_1, fm_1 = Obj_Seg.EvolCal(\n",
    "  # Configuración de filtro de uso y pd de calibración\n",
    "  query_uso          = \"CODMES>=202101 and segmento_banca_f='1. Afluente'\",\n",
    "  pd_seg             = pd_cal,\n",
    "  pd_comparacion     = True,\n",
    "  proys_def_temp     = 6,\n",
    "  proys_mor_temp     = 0,\n",
    "  rd_aux             = 'RD21',\n",
    "  rd_aux2            = 'RD12', # Corregido\n",
    "  mora_temp          = 'MORA_30_3',\n",
    "\n",
    "  # Configuración de proyecciones por cuentas\n",
    "  proy_def_temp_xc   =  \"np.where(calxcuentas['CODMES'].isin([202307, 202308, 202310]),0.005, met1_xc)\", #All_proy met1_xc met2_xc met3_xc\n",
    "  suav_def_temp_xc   = 1,\n",
    "  proy_mor_temp_xc   = 'det1_xc',\n",
    "  suav_mor_temp_xc   = 1,\n",
    "  prof_hist_xc       = 14,\n",
    "\n",
    "  # Configuración de proyecciones por montos\n",
    "  proy_def_temp_xm   = \"np.where(calxcuentas['CODMES'].isin([202307, 202308, 202310]),met1_xm + 0.006, met1_xm*1.25)\", #All_proy met1_xm met2_xm met3_xm\n",
    "  suav_def_temp_xm   = 1,\n",
    "  proy_mor_temp_xm   = 'det1_xm',\n",
    "  suav_mor_temp_xm   = 1,\n",
    "  prof_hist_xm       = 14,\n",
    "  #fact_to_proy_xc    = [fc_af, fc_con],\n",
    "  #fact_to_proy_xm    = [fm_af, fm_con],\n",
    "\n",
    "  # Detalles del gráfico de calibración\n",
    "  titulo             = titulo,\n",
    "  pos_leyenda        = (0.5, -0.25),\n",
    "  eje_y_xc           = 0.28,\n",
    "  eje_y_xm           = 0.28,\n",
    "  dim_grafico        = (27,6.5),\n",
    "  punt_mora          = 85, #Tamaño de puntos de mora temprana\n",
    "  etiquetas          =True,\n",
    "  pos_etiquetas_xm   = 10,\n",
    "  pos_etiquetas_xc   = 10,\n",
    "  tamaño_etiqueta    = 14,\n",
    "  width_bar          = 1,\n",
    "\n",
    "  # Exportar factores para vista driver\n",
    "  exportar_factores  = True,\n",
    ")"
   ]
  },
  {
   "cell_type": "code",
   "execution_count": 0,
   "metadata": {
    "application/vnd.databricks.v1+cell": {
     "cellMetadata": {
      "byteLimit": 2048000,
      "rowLimit": 10000
     },
     "inputWidgets": {},
     "nuid": "af3d6385-fd77-44e5-ba27-865ac2aa97bc",
     "showTitle": false,
     "tableResultSettingsMap": {},
     "title": ""
    }
   },
   "outputs": [],
   "source": [
    "Obj_Seg_cal, rc_2, rm_2, fc_2, fm_2 = Obj_Seg.EvolCal(\n",
    "  # Configuración de filtro de uso y pd de calibración\n",
    "  query_uso          = \"CODMES>=202101 and segmento_banca_f<>'1. Afluente'\",\n",
    "  pd_seg             = pd_cal,\n",
    "  pd_comparacion     = True,\n",
    "  proys_def_temp     = 6,\n",
    "  proys_mor_temp     = 0,\n",
    "  rd_aux             = 'RD21',\n",
    "  rd_aux2            = 'RD12', # Corregido\n",
    "  mora_temp          = 'MORA_30_3',\n",
    "\n",
    "  # Configuración de proyecciones por cuentas\n",
    "  proy_def_temp_xc   = \"np.where( (calxcuentas['CODMES'] == 202306) | (calxcuentas['CODMES'] == 202307) | (calxcuentas['CODMES'] == 202308) ,met1_xc, met1_xc)\", #All_proy met1_xc met2_xc met3_xc\n",
    "  suav_def_temp_xc   = 1,\n",
    "  proy_mor_temp_xc   = 'det1_xc',\n",
    "  suav_mor_temp_xc   = 1,\n",
    "  prof_hist_xc       = 14,\n",
    "\n",
    "  # Configuración de proyecciones por montos\n",
    "  proy_def_temp_xm   = \"np.where(met1_xm == 0 , met1_xm + 0.006, met1_xm)\", #All_proy met1_xm met2_xm met3_xm\n",
    "  suav_def_temp_xm   = 1,\n",
    "  proy_mor_temp_xm   = \"det1_xc\",\n",
    "  suav_mor_temp_xm   = 1,\n",
    "  prof_hist_xm       = 14,\n",
    "  #fact_to_proy_xc    = [fc_af, fc_con],\n",
    "  #fact_to_proy_xm    = [fm_af, fm_con],\n",
    "\n",
    "  # Detalles del gráfico de calibración\n",
    "  titulo             = titulo,\n",
    "  pos_leyenda        = (0.5, -0.25),\n",
    "  eje_y_xc           = 0.14,\n",
    "  eje_y_xm           = 0.14,\n",
    "  dim_grafico        = (27,6.5),\n",
    "  punt_mora          = 85,\n",
    "  etiquetas          =True,\n",
    "  pos_etiquetas_xm   = 10,\n",
    "  pos_etiquetas_xc   = 10,\n",
    "  tamaño_etiqueta    = 14,\n",
    "\n",
    "  # Exportar factores para vista driver\n",
    "  exportar_factores  = True\n",
    ")"
   ]
  },
  {
   "cell_type": "code",
   "execution_count": 0,
   "metadata": {
    "application/vnd.databricks.v1+cell": {
     "cellMetadata": {
      "byteLimit": 2048000,
      "rowLimit": 10000
     },
     "inputWidgets": {},
     "nuid": "64fb5bfe-dbdb-4c27-bee7-6904397f8325",
     "showTitle": false,
     "tableResultSettingsMap": {},
     "title": ""
    }
   },
   "outputs": [],
   "source": [
    "Obj_Seg_cal, rc, rm, fc, fm = Obj_Seg.EvolCal(\n",
    "  # Configuración de filtro de uso y pd de calibración\n",
    "  query_uso          = \"CODMES>=202101\",\n",
    "  pd_seg             = pd_cal,\n",
    "  pd_comparacion     = True,\n",
    "  proys_def_temp     = 6,\n",
    "  proys_mor_temp     = 0,\n",
    "  rd_aux             = 'RD21',\n",
    "  rd_aux2            = 'RD12', # Corregido\n",
    "  mora_temp          = 'MORA_30_3',\n",
    "\n",
    "  # Configuración de proyecciones por cuentas\n",
    "  proy_def_temp_xc   = '',\n",
    "  suav_def_temp_xc   = 1,\n",
    "  proy_mor_temp_xc   = '',\n",
    "  suav_mor_temp_xc   = 1,\n",
    "  prof_hist_xc       = 14,\n",
    "\n",
    "  # Configuración de proyecciones por montos\n",
    "  proy_def_temp_xm   = \"\",\n",
    "  suav_def_temp_xm   = 1,\n",
    "  proy_mor_temp_xm   = '',\n",
    "  suav_mor_temp_xm   = 1,\n",
    "  prof_hist_xm       = 14,\n",
    "  fact_to_proy_xc    = [fc_1, fc_2],\n",
    "  fact_to_proy_xm    = [fm_1, fm_2],\n",
    "\n",
    "  # Detalles del gráfico de calibración\n",
    "  titulo             = titulo,\n",
    "  pos_leyenda        = (0.5, -0.25),\n",
    "  eje_y_xc           = 0.12,\n",
    "  eje_y_xm           = 0.12,\n",
    "  dim_grafico        = (27,6.5),\n",
    "  punt_mora          = 85, \n",
    "  etiquetas          =True,\n",
    "  pos_etiquetas_xm   =10,\n",
    "  pos_etiquetas_xc   =10,\n",
    "  tamaño_etiqueta    =14,\n",
    "\n",
    "  # Exportar factores para vista driver\n",
    "  exportar_factores  = True\n",
    ")"
   ]
  },
  {
   "cell_type": "code",
   "execution_count": 0,
   "metadata": {
    "application/vnd.databricks.v1+cell": {
     "cellMetadata": {
      "byteLimit": 2048000,
      "rowLimit": 10000
     },
     "inputWidgets": {},
     "nuid": "5600043b-b071-4156-bdd0-da41ad9e76a0",
     "showTitle": false,
     "tableResultSettingsMap": {},
     "title": ""
    }
   },
   "outputs": [],
   "source": [
    "rc"
   ]
  },
  {
   "cell_type": "code",
   "execution_count": 0,
   "metadata": {
    "application/vnd.databricks.v1+cell": {
     "cellMetadata": {
      "byteLimit": 2048000,
      "rowLimit": 10000
     },
     "inputWidgets": {},
     "nuid": "325acd63-a68a-4edd-a492-10840c4b45ed",
     "showTitle": false,
     "tableResultSettingsMap": {},
     "title": ""
    }
   },
   "outputs": [],
   "source": [
    "rm"
   ]
  },
  {
   "cell_type": "code",
   "execution_count": 0,
   "metadata": {
    "application/vnd.databricks.v1+cell": {
     "cellMetadata": {
      "byteLimit": 2048000,
      "rowLimit": 10000
     },
     "inputWidgets": {},
     "nuid": "ca24dbe6-bb21-4823-a421-584987f98485",
     "showTitle": false,
     "tableResultSettingsMap": {},
     "title": ""
    }
   },
   "outputs": [],
   "source": [
    "driver = 'segmento_banca_f'\n",
    "Obj_SegPSI, mix_n, mix_m, psi_c, psi_m = Obj_Seg.MixPSI(\n",
    "  # Selección del driver y filtro de uso\n",
    "  driver             = driver,\n",
    "  query_uso          = 'CODMES >= 202101',\n",
    "  cast_int           = False,\n",
    "\n",
    "  # Ventana de construcción o más antigua\n",
    "  codmes_inicio1     = 202101,\n",
    "  codmes_fin1        = 202204,\n",
    "\n",
    "  # Periodo reciente\n",
    "  codmes_inicio2     = 202301,\n",
    "  codmes_fin2        = 202404,\n",
    "\n",
    "  # Detalles del gráfico\n",
    "  titulo             = driver,\n",
    "  dim_grafico        = (25,6.5),\n",
    "  pos_leyenda        = (0.5, -0.25),\n",
    "  borde              = 0.08\n",
    ")"
   ]
  },
  {
   "cell_type": "markdown",
   "metadata": {
    "application/vnd.databricks.v1+cell": {
     "cellMetadata": {
      "byteLimit": 2048000,
      "rowLimit": 10000
     },
     "inputWidgets": {},
     "nuid": "357ff9ef-818d-49af-ad66-13329f6d0fdb",
     "showTitle": false,
     "tableResultSettingsMap": {},
     "title": ""
    }
   },
   "source": [
    "# 2. Discriminación"
   ]
  },
  {
   "cell_type": "code",
   "execution_count": 0,
   "metadata": {
    "application/vnd.databricks.v1+cell": {
     "cellMetadata": {
      "byteLimit": 2048000,
      "rowLimit": 10000
     },
     "inputWidgets": {},
     "nuid": "78b1b7ac-b8dc-42db-9f61-f4852136018c",
     "showTitle": false,
     "tableResultSettingsMap": {},
     "title": ""
    }
   },
   "outputs": [],
   "source": [
    "Obj_Seg.base_monitoreo = Obj_Seg.base_monitoreo.withColumn('PD_APP_HIP_TRDPYME_2Q24', col('PD_APP_HIP_TRDPYME_2Q24').cast('float'))\n",
    "\n",
    "var_pd = ['PD_APP_HIP_TRDPYME_2Q24_REP_FAB', 'PD_APP_HIP_TRDPYME_2Q24', pd_rbm]\n",
    "caldri_veh_app = Obj_Seg.EvolDisVar(\n",
    "  # Parametros de figura individual\n",
    "  query_filtro      = '',\n",
    "  codmes_ini        = 202209,\n",
    "  codmes_fin        = 202312,\n",
    "  amplitud          = 24,\n",
    "  disc_target       = [24, 21,18],\n",
    "  umbral_sup        = 0.5,\n",
    "  umbral_inf        = 0.4,\n",
    "  moviles           = True,\n",
    "  dim_grafico       = (22.5, 6),\n",
    "  pos_leyenda       = (0.5, -0.35),\n",
    "  etiquetas         = True,\n",
    "  gini_abs          = False,\n",
    " \n",
    "  # Parametros de figura final\n",
    "  ncolumnas         = 3,\n",
    "  nfilas            = 1,\n",
    "  variables         = var_pd,\n",
    "  dim_grafico_total = (30, 6),\n",
    "  ncol_leyenda      = 5,\n",
    "  vspacio           = -0.25,\n",
    "  hspacio           = 4,\n",
    "  tamaño_etiqueta   = 14 \n",
    ")"
   ]
  },
  {
   "cell_type": "markdown",
   "metadata": {
    "application/vnd.databricks.v1+cell": {
     "cellMetadata": {
      "byteLimit": 2048000,
      "rowLimit": 10000
     },
     "inputWidgets": {},
     "nuid": "286c5b93-29ad-4a19-b83a-7a377c9cc1f3",
     "showTitle": false,
     "tableResultSettingsMap": {},
     "title": ""
    }
   },
   "source": [
    "# 3. Seguimiento de variables del modelo"
   ]
  },
  {
   "cell_type": "markdown",
   "metadata": {
    "application/vnd.databricks.v1+cell": {
     "cellMetadata": {
      "byteLimit": 2048000,
      "rowLimit": 10000
     },
     "inputWidgets": {},
     "nuid": "4fc2b0b4-26c8-4649-a76f-deb416e7692e",
     "showTitle": false,
     "tableResultSettingsMap": {},
     "title": ""
    }
   },
   "source": [
    "\n",
    "**Variable**                      | **Descripción**                                                                 | **Peso**  | **Sentido** |\n",
    "|----------------------------------|----------------------------------------------------------------------------------|-----------|-------------|\n",
    "| XB_ADC_POND85_F                  | Score base                                                                      | 62.19%    | +           |\n",
    "| EXP_PCT_EVOL_SHIP_U6M_RT_U24_A3 | Evolución del promedio de deuda no hipotecaria entre 6 y 24 meses               | 11.18%    | +           |\n",
    "| RCC_PCT_UTL6_UTL24_RT_U24_A2     | Evolución de la utilización promedio de líneas entre 6 y 24 meses               | 9.29%     | +           |\n",
    "| SLD_PRM_PAS_MIN_24_24_RT_U24_I   | Ratio entre el pasivo mínimo y el pasivo promedio en los últ. 24 meses         | 5.28%     | +           |\n",
    "| FLAG_PYME                        | Flag de Fondeo BCP Pyme                                                         | 5.07%     | -           |"
   ]
  },
  {
   "cell_type": "code",
   "execution_count": 0,
   "metadata": {
    "application/vnd.databricks.v1+cell": {
     "cellMetadata": {
      "byteLimit": 2048000,
      "rowLimit": 10000
     },
     "inputWidgets": {},
     "nuid": "ef03ee9f-a155-4773-b331-0339c5ed0928",
     "showTitle": false,
     "tableResultSettingsMap": {},
     "title": ""
    }
   },
   "outputs": [],
   "source": [
    "Obj_Seg.base_monitoreo = Obj_Seg.base_monitoreo.withColumn('DEU_NOHIP_6_24', col('DEU_NOHIP_6_24').cast('float'))\n",
    "Obj_Seg.base_monitoreo = Obj_Seg.base_monitoreo.withColumn('UTIL_PROM_6_24', col('UTIL_PROM_6_24').cast('float'))\n",
    "Obj_Seg.base_monitoreo = Obj_Seg.base_monitoreo.withColumn('PAS_MIN_PROM24', col('PAS_MIN_PROM24').cast('float'))\n",
    "\n",
    "# Corrigiendo deuda no hipotecaria\n",
    "Obj_Seg.base_monitoreo = Obj_Seg.base_monitoreo.withColumn(\"DEU_NOHIP_6_24\", when(col(\"DEU_NOHIP_6_24\") <0, 0).otherwise(col(\"DEU_NOHIP_6_24\")))\n",
    "\n",
    "var_cal = [\"XB_ADC_POND85_REP_SALESFORCE\", \"DEU_NOHIP_6_24\", \"UTIL_PROM_6_24\", \"PAS_MIN_PROM24\"]\n",
    "var_cal_Q = Obj_Seg.CutVar(variables=var_cal, num_cortes=4, query_corte=\"CODMES BETWEEN 202101 AND 202410 AND DEF_120_BLOQ_REF_0 = 0\")\n",
    "\n",
    "# Corrigiendo significado de missing\n",
    "Obj_Seg.base_monitoreo = Obj_Seg.base_monitoreo.withColumn(\"DEU_NOHIP_6_24_Q\", when(col(\"DEU_NOHIP_6_24_Q\") == \"98. Missing\", \"5. Sin deuda NOHIP\").otherwise(col(\"DEU_NOHIP_6_24_Q\")))\n",
    "Obj_Seg.base_monitoreo = Obj_Seg.base_monitoreo.withColumn(\"UTIL_PROM_6_24_Q\", when(col(\"UTIL_PROM_6_24_Q\") == \"98. Missing\", \"5. Sin utilización\").otherwise(col(\"UTIL_PROM_6_24_Q\")))"
   ]
  },
  {
   "cell_type": "code",
   "execution_count": 0,
   "metadata": {
    "application/vnd.databricks.v1+cell": {
     "cellMetadata": {
      "byteLimit": 2048000,
      "rowLimit": 10000
     },
     "inputWidgets": {},
     "nuid": "3a403983-beb0-40b7-bf1e-d8e4baaeee1c",
     "showTitle": false,
     "tableResultSettingsMap": {},
     "title": ""
    }
   },
   "outputs": [],
   "source": [
    "Obj_Seg.base_monitoreo = Obj_Seg.base_monitoreo.withColumn('RCC_PCT_UTL6_UTL24_RT_U24', col('RCC_PCT_UTL6_UTL24_RT_U24').cast('float'))\n",
    "Obj_Seg.base_monitoreo = Obj_Seg.base_monitoreo.withColumn('EXP_PCT_EVOL_SHIP_U6M_RT_U24', col('EXP_PCT_EVOL_SHIP_U6M_RT_U24').cast('float'))\n",
    "Obj_Seg.base_monitoreo = Obj_Seg.base_monitoreo.withColumn('SLD_PRM_PAS_MIN_24_24_RT_U24', col('SLD_PRM_PAS_MIN_24_24_RT_U24').cast('float'))\n",
    "\n",
    "# Corrigiendo deuda no hipotecaria\n",
    "Obj_Seg.base_monitoreo = Obj_Seg.base_monitoreo.withColumn(\"RCC_PCT_UTL6_UTL24_RT_U24\", when(col(\"RCC_PCT_UTL6_UTL24_RT_U24\") <0, 0).otherwise(col(\"RCC_PCT_UTL6_UTL24_RT_U24\")))\n",
    "Obj_Seg.base_monitoreo = Obj_Seg.base_monitoreo.withColumn(\"RCC_PCT_UTL6_UTL24_RT_U24\", when(col(\"RCC_PCT_UTL6_UTL24_RT_U24\") <0, 0).otherwise(col(\"RCC_PCT_UTL6_UTL24_RT_U24\")))\n",
    "\n",
    "var_cal1 = [\"XB_ADC_POND85_REP_SALESFORCE\", \"EXP_PCT_EVOL_SHIP_U6M_RT_U24_1\", \"RCC_PCT_UTL6_UTL24_RT_U24_1\", \"SLD_PRM_PAS_MIN_24_24_RT_U24_1\"]\n",
    "var_cal1_Q = Obj_Seg.CutVar(variables=var_cal1, num_cortes=4, query_corte=\"CODMES BETWEEN 202101 AND 202410 AND DEF_120_BLOQ_REF_0 = 0\")\n",
    "\n",
    "# Corrigiendo significado de missing\n",
    "Obj_Seg.base_monitoreo = Obj_Seg.base_monitoreo.withColumn(\"RCC_PCT_UTL6_UTL24_RT_U24_1_Q\", when(col(\"RCC_PCT_UTL6_UTL24_RT_U24_1_Q\") == \"98. Missing\", \"5. Sin deuda NOHIP\").otherwise(col(\"RCC_PCT_UTL6_UTL24_RT_U24_1_Q\")))\n",
    "Obj_Seg.base_monitoreo = Obj_Seg.base_monitoreo.withColumn(\"EXP_PCT_EVOL_SHIP_U6M_RT_U24_1_Q\", when(col(\"EXP_PCT_EVOL_SHIP_U6M_RT_U24_1_Q\") == \"98. Missing\", \"5. Sin utilización\").otherwise(col(\"EXP_PCT_EVOL_SHIP_U6M_RT_U24_1_Q\")))"
   ]
  },
  {
   "cell_type": "code",
   "execution_count": 0,
   "metadata": {
    "application/vnd.databricks.v1+cell": {
     "cellMetadata": {
      "byteLimit": 2048000,
      "rowLimit": 10000
     },
     "inputWidgets": {},
     "nuid": "7677add3-aabd-4eb6-a56b-095d5d62fb29",
     "showTitle": false,
     "tableResultSettingsMap": {},
     "title": ""
    }
   },
   "outputs": [],
   "source": [
    "caldri = Obj_Seg.CalVar(\n",
    "  # Parametros de figura individual\n",
    "  query_uso          = \"(CODMES BETWEEN 202105 AND 202306) AND CODMES NOT IN (202211, 202305)\",\n",
    "  pd_seg             = pd_cal,\n",
    "  rd_aux             = 'RD12',\n",
    "  pd_comparacion     = True,\n",
    "  factores_cuentas   = fc,\n",
    "  factores_montos    = fm,\n",
    "  mat_importancia    = 5, \n",
    "  cast_int           = True,\n",
    "  dim_grafico        = (25, 6),\n",
    "  pos_leyenda        = (0.5, -0.3),\n",
    "  punt_mora          = 70,\n",
    " \n",
    "  # Parametros de figura final\n",
    "  tipo_vista         = 'M',\n",
    "  ncolumnas          = 2,\n",
    "  nfilas             = 2,\n",
    "  variables          = var_cal_Q,\n",
    "  dim_grafico_total  = (17, 9),\n",
    "  ncol_leyenda       = 5,\n",
    "  etiquetas_total    = True, \n",
    "  pos_etiqueta       = 0.05,\n",
    "  vspacio            = -0.5,\n",
    "  hspacio            = 0.5,\n",
    "  filtro_var         =\"not like '%issing%'\",\n",
    "  iv                 = True \n",
    ")"
   ]
  },
  {
   "cell_type": "code",
   "execution_count": 0,
   "metadata": {
    "application/vnd.databricks.v1+cell": {
     "cellMetadata": {
      "byteLimit": 2048000,
      "rowLimit": 10000
     },
     "inputWidgets": {},
     "nuid": "3d04a848-79f4-4f31-96a2-79a9772d0b25",
     "showTitle": false,
     "tableResultSettingsMap": {},
     "title": ""
    }
   },
   "outputs": [],
   "source": [
    "caldri = Obj_Seg.CalVar(\n",
    "  # Parametros de figura individual\n",
    "  query_uso          = \"CODMES BETWEEN 202207 AND 202307\",\n",
    "  pd_seg             = pd_cal,\n",
    "  rd_aux             = 'RD12',\n",
    "  pd_comparacion     = False,\n",
    "  factores_cuentas   = fc,\n",
    "  factores_montos    = fm,\n",
    "  mat_importancia    = 0, \n",
    "  cast_int           = True,\n",
    "  dim_grafico        = (25, 6),\n",
    "  pos_leyenda        = (0.5, -0.3),\n",
    "  punt_mora          = 70,\n",
    "  proys_def_temp     =6,\n",
    " \n",
    "  # Parametros de figura final\n",
    "  tipo_vista         = 'M',\n",
    "  ncolumnas          = 2,\n",
    "  nfilas             = 2,\n",
    "  variables          = var_cal1_Q,\n",
    "  dim_grafico_total  = (16.5, 9),\n",
    "  ncol_leyenda       = 5,\n",
    "  etiquetas_total    = True, \n",
    "  pos_etiqueta       = 0.05,\n",
    "  vspacio            = -0.5,\n",
    "  hspacio            = 0.5,\n",
    "  filtro_var         =\"not like '%issing%'\",\n",
    "  iv                 = True \n",
    ")"
   ]
  },
  {
   "cell_type": "code",
   "execution_count": 0,
   "metadata": {
    "application/vnd.databricks.v1+cell": {
     "cellMetadata": {
      "byteLimit": 2048000,
      "rowLimit": 10000
     },
     "inputWidgets": {},
     "nuid": "1ec3117d-cce7-44d9-a0ae-f909b727808c",
     "showTitle": false,
     "tableResultSettingsMap": {},
     "title": ""
    }
   },
   "outputs": [],
   "source": [
    "psi_dri = Obj_Seg.MixPSIVar(\n",
    "  # Parametros de figura individual\n",
    "    query_uso         ='CODMES >= 202011',\n",
    "    cast_int          =True,\n",
    "    codmes_inicio1    =202202,\n",
    "    codmes_fin1       =202212,\n",
    "    codmes_inicio2    =202501,\n",
    "    codmes_fin2       =202505,\n",
    "    dim_grafico       =(25, 6),\n",
    "    pos_leyenda       =(0.5, -0.35),\n",
    " \n",
    "    # Parametros de figura final\n",
    "    tipo_vista        = 'M',\n",
    "    ncolumnas         = 2,\n",
    "    nfilas            = 2,\n",
    "    variables         = var_cal_Q,\n",
    "    dim_grafico_total = (17, 10),\n",
    "    ncol_leyenda      =5,\n",
    "    tamaño_leyenda    = 8.25,\n",
    "    vspacio           =-0.45,\n",
    "    hspacio           =0,\n",
    "    borde             = 0.08,\n",
    "    metrica_secundaria='Media'\n",
    ")"
   ]
  },
  {
   "cell_type": "code",
   "execution_count": 0,
   "metadata": {
    "application/vnd.databricks.v1+cell": {
     "cellMetadata": {
      "byteLimit": 2048000,
      "rowLimit": 10000
     },
     "inputWidgets": {},
     "nuid": "f5c3e8d6-51a1-46b0-9154-55ad33b920e6",
     "showTitle": false,
     "tableResultSettingsMap": {},
     "title": ""
    }
   },
   "outputs": [],
   "source": [
    "psi_dri = Obj_Seg.MixPSIVar(\n",
    "  # Parametros de figura individual\n",
    "    query_uso         ='CODMES >= 202011',\n",
    "    cast_int          =True,\n",
    "    codmes_inicio1    =202112,\n",
    "    codmes_fin1       =202204,\n",
    "    codmes_inicio2    =202501,\n",
    "    codmes_fin2       =202505,\n",
    "    dim_grafico       =(25, 6),\n",
    "    pos_leyenda       =(0.5, -0.35),\n",
    " \n",
    "    # Parametros de figura final\n",
    "    tipo_vista        = 'M',\n",
    "    ncolumnas         = 2,\n",
    "    nfilas            = 2,\n",
    "    variables         = var_cal1_Q,\n",
    "    dim_grafico_total = (17, 10),\n",
    "    ncol_leyenda      =5,\n",
    "    tamaño_leyenda    = 8.25,\n",
    "    vspacio           =-0.45,\n",
    "    hspacio           =0,\n",
    "    borde             = 0.08,\n",
    "    # metrica_secundaria='Media'\n",
    ")"
   ]
  },
  {
   "cell_type": "markdown",
   "metadata": {
    "application/vnd.databricks.v1+cell": {
     "cellMetadata": {
      "byteLimit": 2048000,
      "rowLimit": 10000
     },
     "inputWidgets": {},
     "nuid": "63b6eccb-8b1b-4fb6-b3d1-654983e7f8d0",
     "showTitle": false,
     "tableResultSettingsMap": {},
     "title": ""
    }
   },
   "source": [
    "# 4. Drivers de negocio"
   ]
  },
  {
   "cell_type": "code",
   "execution_count": 0,
   "metadata": {
    "application/vnd.databricks.v1+cell": {
     "cellMetadata": {
      "byteLimit": 2048000,
      "rowLimit": 10000
     },
     "inputWidgets": {},
     "nuid": "9bab5a2f-32f3-4538-a95b-710d01cd963a",
     "showTitle": false,
     "tableResultSettingsMap": {},
     "title": ""
    }
   },
   "outputs": [],
   "source": [
    "from pyspark.sql.functions import date_format, concat, lit, lpad\n",
    "\n",
    "Obj_Seg.base_monitoreo = Obj_Seg.base_monitoreo.withColumn(\n",
    "    'GRADO_ESTUDIO',\n",
    "    when(col(\"MAX_GRADO\")=='BACHILLER', '1. BACHILLER')\n",
    "    .when(col(\"MAX_GRADO\")=='TITULO', '3. TITULO')\n",
    "    .when(col(\"MAX_GRADO\")=='MAESTRIA', '2. MAESTRIA')\n",
    "    .otherwise('99. Missing')\n",
    ")\n",
    "\n",
    "PD_SEG='PD_APP_HIP_TRDPYME_2Q24_REP'\n",
    "PAUTA=335\n",
    "\n",
    "Obj_Seg.base_monitoreo = Obj_Seg.base_monitoreo.withColumn(\n",
    "    \"SCR_XB\",\n",
    "    F.lit(174.24575241) + F.lit(57.707801636) * F.log((1 / col(\"PD_APP_HIP_TRDPYME_2Q24_REP\")) - 1)\n",
    ")\n",
    "\n",
    "\n",
    "sol_credit = spark.table(\"catalog_lhcl_prod_bcp.bcp_udv_int_vu.m_solicitudcreditohipotecario\")\n",
    "Obj_Seg.base_monitoreo = Obj_Seg.base_monitoreo.join(\n",
    "    sol_credit.select(\n",
    "        concat(lit('2'), lpad(sol_credit.codsolicitud, 10, '0')).alias('codsolicitud'),\n",
    "        col(\"destipfinalidadcreditohipotecario\")\n",
    "    ),\n",
    "    on=\"codsolicitud\",\n",
    "    how='left'\n",
    ")\n",
    "\n",
    "Obj_Seg.base_monitoreo = Obj_Seg.base_monitoreo.withColumn(\"PAUTA\", when(col('SCR_XB') >= PAUTA , 1)\n",
    "                                            .when(col('SCR_XB') < PAUTA , 0)\n",
    "                                            .when(col('destipfinalidadcreditohipotecario')=='MIGRACION DE OTRO BANCO', \"97. CDD\")\n",
    "                                            .when(col('SCR_XB').isNull(), \"99. Missing\"))\n",
    "\n",
    "Obj_Seg.base_monitoreo = Obj_Seg.base_monitoreo.withColumn(\"RANGO_PD_REP\", when(col(PD_SEG).isNull(), '99. Missing')\n",
    "                   .when(col(PD_SEG) <= 0.0045641, '01. [0 - 0.45%]')\n",
    "                   .when(col(PD_SEG) <= 0.0151879, '02. <0.45 - 1.51%]')\n",
    "                   .when(col(PD_SEG) <= 0.0353823, '03. <1.51 - 3.53%]')\n",
    "                   .when(col(PD_SEG) <= 0.0581041, '04. <3.53 - 5.81%]')\n",
    "                   .when(col(PD_SEG) > 0.0581041, '05. <5.81 - 100%]')\n",
    "                   .when(col('destipfinalidadcreditohipotecario')=='MIGRACION DE OTRO BANCO', \"97. CDD\")\n",
    "                   .otherwise('98. Otro'))"
   ]
  },
  {
   "cell_type": "code",
   "execution_count": 0,
   "metadata": {
    "application/vnd.databricks.v1+cell": {
     "cellMetadata": {
      "byteLimit": 2048000,
      "rowLimit": 10000
     },
     "inputWidgets": {},
     "nuid": "e1034be5-63d4-4070-a308-0d3503097332",
     "showTitle": false,
     "tableResultSettingsMap": {},
     "title": ""
    }
   },
   "outputs": [],
   "source": [
    "dri_neg = [\"LTV_CORREGIDO_VF\", \"SUITE_AntLaboralMeses\"]\n",
    "dri_neg_Q = Obj_Seg.CutVar(variables=dri_neg, num_cortes=4, query_corte=\"CODMES BETWEEN 202101 AND 202410 AND DEF_120_BLOQ_REF_0 = 0\")\n",
    "dri_neg_Q = dri_neg_Q + [\"MARCA_HML_T\", \"FLG_SOLTERO_ESPJ\", \"PLAZO_R\", \"SUITE_Edad_J_Q\", \"FLG_PDH_2_3\", \"PAUTA\", \"RANGO_PD_REP\"]"
   ]
  },
  {
   "cell_type": "code",
   "execution_count": 0,
   "metadata": {
    "application/vnd.databricks.v1+cell": {
     "cellMetadata": {
      "byteLimit": 2048000,
      "rowLimit": 10000
     },
     "inputWidgets": {},
     "nuid": "258ece9a-2850-49e8-993d-712c39a34d3e",
     "showTitle": false,
     "tableResultSettingsMap": {},
     "title": ""
    }
   },
   "outputs": [],
   "source": [
    "caldri = Obj_Seg.CalVar(\n",
    "  # Parametros de figura individual\n",
    "  query_uso          = \"(CODMES BETWEEN 202103 AND 202304) AND CODMES BETWEEN 202212 AND 202306\",\n",
    "  pd_seg             = pd_cal,\n",
    "  rd_aux             = 'RD12',\n",
    "  pd_comparacion     = True,\n",
    "  factores_cuentas   = fc,\n",
    "  factores_montos    = fm,\n",
    "  mat_importancia    = 5, \n",
    "  cast_int           = True,\n",
    "  dim_grafico        = (25, 6),\n",
    "  pos_leyenda        = (0.5, -0.3),\n",
    "  punt_mora          = 70,\n",
    " \n",
    "  # Parametros de figura final\n",
    "  tipo_vista         = 'M',\n",
    "  ncolumnas          = 3,\n",
    "  nfilas             = 3,\n",
    "  variables          = dri_neg_Q,\n",
    "  dim_grafico_total  = (25, 15),\n",
    "  ncol_leyenda       = 5,\n",
    "  etiquetas_total    = True, \n",
    "  pos_etiqueta       = 0.05,\n",
    "  vspacio            = -0.5,\n",
    "  hspacio            = 0.5,\n",
    "  filtro_var         =\"not like '%issing%'\",\n",
    "  iv                 = True \n",
    ")"
   ]
  },
  {
   "cell_type": "code",
   "execution_count": 0,
   "metadata": {
    "application/vnd.databricks.v1+cell": {
     "cellMetadata": {
      "byteLimit": 2048000,
      "rowLimit": 10000
     },
     "inputWidgets": {},
     "nuid": "a0f3c28f-fb3b-4943-95d7-e8cbd6d53861",
     "showTitle": false,
     "tableResultSettingsMap": {},
     "title": ""
    }
   },
   "outputs": [],
   "source": [
    "caldri_veh_app, rc_dri, rm_dri = Obj_Seg.CalDri(\n",
    "  driver             = 'MARCA_HML_T',\n",
    "  query_uso          = f\"CODMES BETWEEN 202206 AND 202306\",\n",
    "  pd_seg             = pd_cal,\n",
    "  rd_aux             = 'RD12',\n",
    "  pd_comparacion     = False,\n",
    "  factores_cuentas   = fc,\n",
    "  factores_montos    = fm,\n",
    "  mat_importancia    = 5,\n",
    "  cast_int           = True, \n",
    "  proys_def_temp     = 3,\n",
    "  titulo             = f'MARCA_HML_T',\n",
    "  dim_grafico        = (22, 6.5),\n",
    "  etiquetas          = True,\n",
    "  pos_etiquetas_xc   = [10, 10, 10, 10, 10, 10, 10, 10, 10],\n",
    "  pos_etiquetas_xm   = [10, 10, 10, 10, 10, 10, 10, 10, 10, 10],\n",
    "  pos_leyenda        = (0.5, -0.2),\n",
    "  punt_mora          = 100,\n",
    "  iv = True\n",
    ")"
   ]
  },
  {
   "cell_type": "code",
   "execution_count": 0,
   "metadata": {
    "application/vnd.databricks.v1+cell": {
     "cellMetadata": {
      "byteLimit": 2048000,
      "rowLimit": 10000
     },
     "inputWidgets": {},
     "nuid": "89dab430-9009-48d8-978d-b7a65d6dbe6a",
     "showTitle": false,
     "tableResultSettingsMap": {},
     "title": ""
    }
   },
   "outputs": [],
   "source": [
    "rc_dri"
   ]
  },
  {
   "cell_type": "code",
   "execution_count": 0,
   "metadata": {
    "application/vnd.databricks.v1+cell": {
     "cellMetadata": {
      "byteLimit": 2048000,
      "rowLimit": 10000
     },
     "inputWidgets": {},
     "nuid": "30ba6f4a-4e25-41a4-9c98-b62e51379c82",
     "showTitle": false,
     "tableResultSettingsMap": {},
     "title": ""
    }
   },
   "outputs": [],
   "source": [
    "psi_dri = Obj_Seg.MixPSIVar(\n",
    "  # Parametros de figura individual\n",
    "    query_uso       ='CODMES >= 202201 AND CODMES <> 202407',\n",
    "    cast_int        =True,\n",
    "    codmes_inicio1  =202201,\n",
    "    codmes_fin1     =202212,\n",
    "    codmes_inicio2  =202301,\n",
    "    codmes_fin2     =202307,\n",
    "    dim_grafico     =(22.5, 6),\n",
    "    pos_leyenda     =(0.5, -0.35),\n",
    " \n",
    "    # Parametros de figura final\n",
    "    tipo_vista      = 'M',\n",
    "    ncolumnas       = 3,\n",
    "    nfilas          = 3,\n",
    "    variables       = dri_neg_Q,\n",
    "    dim_grafico_total = (25, 15),\n",
    "    ncol_leyenda    =8,\n",
    "    tamaño_leyenda  = 8.25,\n",
    "    vspacio         =-0.25,\n",
    "    hspacio         =0,\n",
    "    borde           = 0.08\n",
    ")"
   ]
  }
 ],
 "metadata": {
  "application/vnd.databricks.v1+notebook": {
   "computePreferences": null,
   "dashboards": [],
   "environmentMetadata": {
    "base_environment": "",
    "environment_version": "2"
   },
   "inputWidgetPreferences": null,
   "language": "python",
   "notebookMetadata": {
    "pythonIndentUnit": 4
   },
   "notebookName": "13_Seguimiento_App_HipPyme - Calibrado",
   "widgets": {}
  },
  "language_info": {
   "name": "python"
  }
 },
 "nbformat": 4,
 "nbformat_minor": 0
}
