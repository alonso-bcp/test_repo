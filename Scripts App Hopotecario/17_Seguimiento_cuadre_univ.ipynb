{
 "cells": [
  {
   "cell_type": "code",
   "execution_count": 0,
   "metadata": {
    "application/vnd.databricks.v1+cell": {
     "cellMetadata": {
      "byteLimit": 2048000,
      "rowLimit": 10000
     },
     "inputWidgets": {},
     "nuid": "3fd1ac68-3f37-43ab-99e9-c7895d03d618",
     "showTitle": false,
     "tableResultSettingsMap": {},
     "title": ""
    }
   },
   "outputs": [],
   "source": [
    "# Importando módulo de seguimiento\n",
    "import sys\n",
    "import importlib\n",
    "sys.path.append('/Workspace/Users/luisfdiaz@bcp.com.pe/Modulo de Seguimiento/')\n",
    "\n",
    "import SegScore as rmm\n",
    "importlib.reload(rmm)\n",
    "\n",
    "# Librerias y fuciones generales\n",
    "from pyspark.sql.functions import date_format, expr, to_date, date_sub, add_months, col, when, coalesce, trim, broadcast, avg, max, min, lit, concat, window, round as colround, upper, abs as sparkabs,greatest\n",
    "from pyspark.sql import functions as F\n",
    "from pyspark import StorageLevel\n",
    "import numpy as np\n",
    "import seaborn as sns\n",
    "import pandas as pd\n",
    "import matplotlib.pyplot as plt\n",
    "from pyspark.sql.window import Window"
   ]
  },
  {
   "cell_type": "code",
   "execution_count": 0,
   "metadata": {
    "application/vnd.databricks.v1+cell": {
     "cellMetadata": {
      "byteLimit": 2048000,
      "rowLimit": 10000
     },
     "inputWidgets": {},
     "nuid": "1a0adbd5-3902-446d-b59b-39415b7ed1f6",
     "showTitle": false,
     "tableResultSettingsMap": {},
     "title": ""
    }
   },
   "outputs": [],
   "source": [
    "base_ivan = spark.table('catalog_lhcl_prod_bcp.bcp_edv_fabseg.t39290_base_app_hip')\n",
    "base_seguimiento = spark.table('catalog_lhcl_prod_bcp.bcp_edv_fabseg.t39290_univ_pre_driver_app_hip')"
   ]
  },
  {
   "cell_type": "code",
   "execution_count": 0,
   "metadata": {
    "application/vnd.databricks.v1+cell": {
     "cellMetadata": {
      "byteLimit": 2048000,
      "rowLimit": 10000
     },
     "inputWidgets": {},
     "nuid": "45183439-da3a-4e25-967c-d1e3dae3405b",
     "showTitle": false,
     "tableResultSettingsMap": {},
     "title": ""
    }
   },
   "outputs": [],
   "source": [
    "base_0 = base_ivan.withColumn(\n",
    "    'TIPO_FONDEO',\n",
    "    F.when(base_ivan['TIPCREDITO'].isin('TH01', 'TH02', 'HICC', 'RHIP', 'RREF', 'HICB', 'HIFS', 'HIBS', 'HIBK', 'HIPA', 'HIPD', 'HIPO', 'HIPP', 'HIPT', 'HIPR', 'HCPO', 'HITR', 'HTIV'), 'FONDEO BCP')\n",
    "    .when(base_ivan['TIPCREDITO'].isin('GAHI', 'GAHP', 'GAHR', 'GAPC'), 'GAHI')\n",
    "    .when(base_ivan['TIPCREDITO'].isin('HITP', 'HMIV', 'HVIV', 'HSIV', 'HBIV'), 'FONDEO MVIV')\n",
    "    .otherwise('OTROS')\n",
    ")\n",
    "\n",
    "gremio=base_seguimiento.filter((base_seguimiento['CODMES'] >= 201901) & (base_seguimiento['FLG_GREMIO_F'] == 1)) \\\n",
    "               .select('CODCLAVEOPECTA', 'FLG_GREMIO_F')\n",
    "\n",
    "missingPD = base_seguimiento.filter((base_seguimiento['CODMES'] >= 201901) & (F.isnull(base_seguimiento['PD_ESTADOS']))) \\\n",
    "              .select('CODCLAVEOPECTA')"
   ]
  },
  {
   "cell_type": "code",
   "execution_count": 0,
   "metadata": {
    "application/vnd.databricks.v1+cell": {
     "cellMetadata": {
      "byteLimit": 2048000,
      "rowLimit": 10000
     },
     "inputWidgets": {},
     "nuid": "48d3a4fa-a195-476f-a4ea-d0c456ffc78b",
     "showTitle": false,
     "tableResultSettingsMap": {},
     "title": ""
    }
   },
   "outputs": [],
   "source": [
    "hm_adm_hip_ahlo=spark.table('catalog_lhcl_prod_bcp.bcp_edv_fabseg.t39290_hm_app_hipahlo')\n",
    "hm_adm_hip_trad=spark.table('catalog_lhcl_prod_bcp.bcp_edv_fabseg.t39290_hm_app_hiptrad')\n",
    "hm_adm_hip_pyme=spark.table('catalog_lhcl_prod_bcp.bcp_edv_fabseg.t39290_hm_app_hippyme')\n",
    "hm_adm_hip_gahi=spark.table('catalog_lhcl_prod_bcp.bcp_edv_fabseg.t39290_hm_app_gahi')\n",
    "\n",
    "hm_adm_hip_ahlo = hm_adm_hip_ahlo.drop(\"PD_2024Q4vf\")\n",
    "hm_adm_hip_ahlo = hm_adm_hip_ahlo.withColumn(\"PD_2024Q4vf\", when(col(\"CODMES\") >=202307,col( \"PD_2024Q4v2\")).otherwise(col(\"PD_2024Q4\")))\n",
    "\n",
    "hm_adm_hip_ahlo = hm_adm_hip_ahlo.withColumn(\"MISS_PD\", when(col(\"PD_2024Q4vf\").isNull(), 1).otherwise(0))\n",
    "\n",
    "base_ah_lo = hm_adm_hip_ahlo.filter(hm_adm_hip_ahlo['CODMES'] >= 201901) \\\n",
    "                            .select('CODCLAVEOPECTA', 'DEF_120_BLOQ_REF_0', 'MISS_PD', 'CAMPANIA_AGRUPADA')\n",
    "base_hip_trad = hm_adm_hip_trad.filter(hm_adm_hip_trad['CODMES'] >= 201901) \\\n",
    "                            .select('CODCLAVEOPECTA', 'DEF_120_BLOQ_REF_0', 'MISS_PD', 'CAMPANIA_AGRUPADA')\n",
    "base_hip_pyme = hm_adm_hip_pyme.filter(hm_adm_hip_pyme['CODMES'] >= 201901) \\\n",
    "                            .select('CODCLAVEOPECTA', 'DEF_120_BLOQ_REF_0', 'MISS_PD', 'CAMPANIA_AGRUPADA')\n",
    "base_gahi = hm_adm_hip_gahi.filter(hm_adm_hip_gahi['CODMES'] >= 201901) \\\n",
    "                            .select('CODCLAVEOPECTA', 'DEF_120_BLOQ_REF_0', 'MISS_PD', 'CAMPANIA_AGRUPADA')"
   ]
  },
  {
   "cell_type": "code",
   "execution_count": 0,
   "metadata": {
    "application/vnd.databricks.v1+cell": {
     "cellMetadata": {
      "byteLimit": 2048000,
      "rowLimit": 10000
     },
     "inputWidgets": {},
     "nuid": "ee7bbbab-7b1d-4972-be17-99dd2e7a37b0",
     "showTitle": false,
     "tableResultSettingsMap": {},
     "title": ""
    }
   },
   "outputs": [],
   "source": [
    "hm_universo_app_hip = base_0.alias(\"A\") \\\n",
    "    .join(gremio.alias(\"E\"), F.col(\"A.CODCLAVEOPECTA\") == F.col(\"E.CODCLAVEOPECTA\"), \"left\") \\\n",
    "    .join(missingPD.alias(\"G\"), F.col(\"A.CODCLAVEOPECTA\") == F.col(\"G.CODCLAVEOPECTA\"), \"left\") \\\n",
    "    .join(base_hip_trad.alias(\"H1\"), F.col(\"A.CODCLAVEOPECTA\") == F.col(\"H1.CODCLAVEOPECTA\"), \"left\") \\\n",
    "    .join(base_ah_lo.alias(\"H2\"), F.col(\"A.CODCLAVEOPECTA\") == F.col(\"H2.CODCLAVEOPECTA\"), \"left\") \\\n",
    "    .join(base_hip_pyme.alias(\"H3\"), F.col(\"A.CODCLAVEOPECTA\") == F.col(\"H3.CODCLAVEOPECTA\"), \"left\") \\\n",
    "    .join(base_gahi.alias(\"H4\"), F.col(\"A.CODCLAVEOPECTA\") == F.col(\"H4.CODCLAVEOPECTA\"), \"left\") \\\n",
    "    .filter(F.col(\"A.CODMES\") >= 201901) \\\n",
    "    .select(\n",
    "        F.col(\"A.*\"),\n",
    "        F.when(F.col(\"H1.CODCLAVEOPECTA\").isNotNull() & (F.col(\"H1.DEF_120_BLOQ_REF_0\") == 0) & (F.col(\"H1.MISS_PD\") == 0), '1. Hip Tradicional')\n",
    "        .when((F.col(\"A.CODMES\") <= 202407) & F.col(\"H2.CODCLAVEOPECTA\").isNotNull() & (F.col(\"H2.DEF_120_BLOQ_REF_0\") == 0) & (F.col(\"H2.MISS_PD\") == 0), '2. Hip Ahorro local')\n",
    "        .when((F.col(\"A.CODMES\") > 202407) & F.col(\"H2.CODCLAVEOPECTA\").isNotNull() & (F.col(\"H2.DEF_120_BLOQ_REF_0\") == 0), '2. Hip Ahorro local')\n",
    "        .when(F.col(\"H3.CODCLAVEOPECTA\").isNotNull() & (F.col(\"H3.DEF_120_BLOQ_REF_0\") == 0) & (F.col(\"H3.MISS_PD\") == 0), '3. Hip Pyme')\n",
    "        .when(F.col(\"H4.CODCLAVEOPECTA\").isNotNull() & (F.col(\"H4.DEF_120_BLOQ_REF_0\") == 0) & (F.col(\"H4.MISS_PD\") == 0), '4. Gahi')\n",
    "        .otherwise('Sin Seguimiento').alias(\"flag_seguimiento\"),\n",
    "        F.coalesce(F.col(\"H1.DEF_120_BLOQ_REF_0\"), F.col(\"H2.DEF_120_BLOQ_REF_0\"), F.col(\"H3.DEF_120_BLOQ_REF_0\"), F.col(\"H4.DEF_120_BLOQ_REF_0\")).alias(\"DEF_120_BLOQ_REF_0\"),\n",
    "        F.coalesce(F.col(\"H1.MISS_PD\"), F.col(\"H2.MISS_PD\"), F.col(\"H3.MISS_PD\"), F.col(\"H4.MISS_PD\")).alias(\"MISS_PD\"),\n",
    "        F.when(F.col(\"E.CODCLAVEOPECTA\").isNull(), 0).otherwise(1).alias(\"flag_GREMIO\"),\n",
    "        # F.when(F.col(\"F.CODCLAVEOPECTA\").isNull(), 0).otherwise(1).alias(\"flag_DUP_SOLI\"),\n",
    "        F.when(F.col(\"G.CODCLAVEOPECTA\").isNull(), 0).otherwise(1).alias(\"flag_MISS_PD\")\n",
    "    )"
   ]
  },
  {
   "cell_type": "code",
   "execution_count": 0,
   "metadata": {
    "application/vnd.databricks.v1+cell": {
     "cellMetadata": {
      "byteLimit": 2048000,
      "rowLimit": 10000
     },
     "inputWidgets": {},
     "nuid": "e559ba6e-cc3c-4e3d-8950-dc50dae35471",
     "showTitle": false,
     "tableResultSettingsMap": {},
     "title": ""
    }
   },
   "outputs": [],
   "source": [
    "hm_universo_app_hip = hm_universo_app_hip.withColumn(\n",
    "    'PRODUCTO_NEW',\n",
    "    F.when(F.col('MISS_PD') == 1, '4. Missing PD')\n",
    "    .when(F.col('TIPCREDITO').isin('HVIC', 'HVIM', 'HBIC', 'HSIC', 'HMIC', 'HMIM', 'HREF'), '1. Tramo Concesional')\n",
    "    # .when(F.col('flag_DUP_SOLI') == 1, '3. Duplicado')\n",
    "    .when(F.col('flag_GREMIO') == 1, '2. Gremio')\n",
    "    .when((F.col('TIPO_FONDEO') == 'FONDEO MVIV') & (F.col('CAMPANIA_AGRUPADA') == 'Ahorro Local'), '6. Ahorro Local Fondeo Mivivienda')\n",
    "    .when((F.col('TIPO_FONDEO') == 'FONDEO BCP') & (F.col('CAMPANIA_AGRUPADA') == 'Pyme'), '7. Pyme Fondeo BCP')\n",
    "    .when((F.col('TIPO_FONDEO') == 'FONDEO BCP') & (F.col('CAMPANIA_AGRUPADA') == 'Tradicional'), '8. Tradicional Fondeo BCP')\n",
    "    .when((F.col('TIPO_FONDEO') == 'FONDEO BCP') & (F.col('CAMPANIA_AGRUPADA') == 'Ahorro Local'), '9. Ahorro Local Fondeo BCP')\n",
    "    .when((F.col('TIPO_FONDEO') == 'FONDEO MVIV') & (F.col('CAMPANIA_AGRUPADA') == 'Pyme'), '91. Pyme Fondeo Mivivienda')\n",
    "    .when((F.col('TIPO_FONDEO') == 'FONDEO MVIV') & (F.col('CAMPANIA_AGRUPADA') == 'Tradicional'), '92. Tradicional Fondeo Mivivienda')\n",
    "    .when((F.col('TIPO_FONDEO') == 'FONDEO MVIV') & F.col('CAMPANIA_AGRUPADA').isNull(), '93. Ahorro Local Observado')\n",
    "    .when((F.col('TIPO_FONDEO') == 'FONDEO BCP') & F.col('CAMPANIA_AGRUPADA').isNull(), '94. Tradicional Observado')\n",
    "    .when((F.col('TIPO_FONDEO') == 'GAHI') & F.col('TIPCREDITO').isin('GAHI', 'GAHP', 'GAHR', 'GAPC'), '5. Garantia Hipotecaria')\n",
    "    .otherwise('OTROS')\n",
    ")"
   ]
  },
  {
   "cell_type": "code",
   "execution_count": 0,
   "metadata": {
    "application/vnd.databricks.v1+cell": {
     "cellMetadata": {
      "byteLimit": 2048000,
      "rowLimit": 10000
     },
     "inputWidgets": {},
     "nuid": "42bfb7ba-4bf8-46a7-99d5-3cb155fd8b66",
     "showTitle": false,
     "tableResultSettingsMap": {},
     "title": ""
    }
   },
   "outputs": [],
   "source": [
    "from pyspark.sql import functions as F\n",
    "\n",
    "# Filtrar por CODMES entre 202411, 202412 y 202501\n",
    "filtered_df = hm_universo_app_hip.filter(F.col(\"CODMES\").isin([202501, 202502, 202503]))\n",
    "filtered_df = filtered_df.withColumn(\"CODMES\", col(\"CODMES\").cast(\"integer\"))\n",
    "\n",
    "# Agrupar por PRODUCTO_NEW y CODMES, contar y sumar MTOAPROBADO_SOLES\n",
    "grouped_df = filtered_df.groupBy(\"PRODUCTO_NEW\", \"CODMES\").agg(\n",
    "    F.count(\"*\").alias(\"Cuenta\"),\n",
    "    (F.sum(\"MTOAPROBADO_SOLES\") / 1_000_000).alias(\"Monto\")\n",
    ")\n",
    "\n",
    "# Crear tabla cruzada (crosstab)\n",
    "crosstab_df = grouped_df.groupBy(\"PRODUCTO_NEW\").pivot(\"CODMES\").agg(\n",
    "    F.first(\"Cuenta\").alias(\"Cuenta\"),\n",
    "    F.first(\"Monto\").alias(\"Monto\")\n",
    ")"
   ]
  },
  {
   "cell_type": "code",
   "execution_count": 0,
   "metadata": {
    "application/vnd.databricks.v1+cell": {
     "cellMetadata": {
      "byteLimit": 2048000,
      "rowLimit": 10000
     },
     "inputWidgets": {},
     "nuid": "763f36a9-8735-469b-a8c0-ca830c022899",
     "showTitle": false,
     "tableResultSettingsMap": {},
     "title": ""
    }
   },
   "outputs": [],
   "source": [
    "vista_1=crosstab_df.toPandas()\n",
    "vista_1.sort_values(by='PRODUCTO_NEW')"
   ]
  },
  {
   "cell_type": "code",
   "execution_count": 0,
   "metadata": {
    "application/vnd.databricks.v1+cell": {
     "cellMetadata": {
      "byteLimit": 2048000,
      "rowLimit": 10000
     },
     "inputWidgets": {},
     "nuid": "57a18dce-546b-4f06-9f21-7fda96501cde",
     "showTitle": false,
     "tableResultSettingsMap": {},
     "title": ""
    }
   },
   "outputs": [],
   "source": [
    "from pyspark.sql import functions as F\n",
    "\n",
    "# Filtrar por CODMES entre 202411, 202412 y 202501\n",
    "filtered_df = hm_universo_app_hip.filter(F.col(\"CODMES\").isin([202411, 202412, 202501]))\n",
    "\n",
    "# Agrupar por PRODUCTO_NEW y CODMES, contar y sumar MTOAPROBADO_SOLES\n",
    "grouped_df = filtered_df.groupBy(\"PRODUCTO_NEW\").agg(\n",
    "    (F.count(\"*\")/3).alias(\"Cuenta\"),\n",
    "    (F.sum(\"MTOAPROBADO_SOLES\") / 3_000_000).alias(\"Monto\")\n",
    ")\n",
    "\n",
    "# Crear tabla cruzada (crosstab)\n",
    "crosstab_df = grouped_df.groupBy(\"PRODUCTO_NEW\").agg(\n",
    "    F.first(\"Cuenta\").alias(\"Cuenta\"),\n",
    "    F.first(\"Monto\").alias(\"Monto\")\n",
    ")\n",
    "\n",
    "vista_2=crosstab_df.toPandas()\n",
    "vista_2.sort_values(by='PRODUCTO_NEW')"
   ]
  }
 ],
 "metadata": {
  "application/vnd.databricks.v1+notebook": {
   "computePreferences": null,
   "dashboards": [],
   "environmentMetadata": {
    "base_environment": "",
    "environment_version": "2"
   },
   "inputWidgetPreferences": null,
   "language": "python",
   "notebookMetadata": {
    "pythonIndentUnit": 4
   },
   "notebookName": "17_Seguimiento_cuadre_univ",
   "widgets": {}
  },
  "language_info": {
   "name": "python"
  }
 },
 "nbformat": 4,
 "nbformat_minor": 0
}
